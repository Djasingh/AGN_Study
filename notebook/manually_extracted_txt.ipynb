{
 "cells": [
  {
   "cell_type": "code",
   "execution_count": null,
   "metadata": {},
   "outputs": [],
   "source": [
    "update_names=['Asif Husain, Shahar Yar, Mohammad',\n",
    "'Kjmahale, Mtarinayya, Ir Babu Singh' ,\n",
    "'Najmi, Abul Kalam, Sayeed Ahmad',\n",
    "'Chacko, Km , Sarwat Sultana',\n",
    "'Joseph, Cyriac% Unnikrishnan, N. V.',\n",
    "'Biju, P. R% Unnikrishnan, N. V.',\n",
    "'Chhabra, Ravi Kand Banerjee, B. D.',\n",
    "'Ramakrishna Rao, Band Madhusudhana Rao, M.',\n",
    "'Vaishnavi, Samanthaand Singh, Shashank K.',\n",
    "'Shakir Ali, Tandon, Monika',\n",
    "'Dar, Abid Hamid, Shakir Ali',\n",
    "'Siddiqui, Waseem Ahmad, Mohd Mujeeb',\n",
    "'Ahmad, Farhan Jalees, Zeenat Iqbal',\n",
    "'Kohli, Kanchan, Mushir Ali',\n",
    "'D. Souza, Chandralekha À¤¡à¤¿à¤¸à¥\\x8cà¤\\x9dà¤¾, À¤\\x9aà¤¾à¤\\x82à¤¦à¥\\x8dà¤°à¤²à¥\\x87à¤\\x96à¤¾',\n",
    "'Dsoza, Chandralekha À¤¡à¤¿à¤¸à¥\\x8cà¤\\x9dà¤¾, À¤\\x9aà¤\\x82à¤¦à¥\\x8dà¤°à¤²à¥\\x87à¤\\x96à¤¾',\n",
    "'Thomas, Sabu% Mathew, Suresh', 'Meyyanathan, S, N.',\n",
    "'Thomas, Sabu% Kalarikkal, Nandakumar',\n",
    "'Aravindakumar, C. T% Usha, K.',\n",
    "'Kamili, Azra N, Ruqeya Nazir',\n",
    "'James, F. Daniel, R.',\n",
    "'Aldous, V. Huxley, J.',\n",
    "'rora, S. C.',\n",
    "'Pal, Sc , Ritu Gilthotra',\n",
    "', K.',\n",
    "'Kumaria, Suman Tandon, Pramod',\n",
    "'Rao, Rama S. Tandon, Pramod',\n",
    "'Prasad, Gbks Co-gudie Vijayaraghavan, R.',\n",
    "'Mistry, Milan T. Àª®àª¿àª¸à«\\x8dàª¤à«\\x8dàª°à«\\x80, Àª®àª¿àª²àª¨ Àª\\x9fà«\\x80',\n",
    "'Hadrikar, Kalyani, Anand',\n",
    "'Maheshwari, H. Sand Jain, Subodhkumar',\n",
    "'Ramachandra Panikkar, K% Mukkadan, J. K.',\n",
    "'Chandrakumar, P. S. Amd Mohan, S.',\n",
    "'Dubey, Chandra Dattnd Singh, Gajendra Pal',\n",
    "'Maan, A. Sand Goyal, D. R.',\n",
    "'Sadaf Siraj, Ravichandran, N.',\n",
    "'Jyothi P, Gulati, P.',\n",
    "'Ali, Saaduz, Zafar',\n",
    "'Shobha Das, Mohammad Fahim, Jagdish Prasad',\n",
    "'Asha Sharma, Gaurav Sharma, Pushpa Mehta',\n",
    "'Shobha Das, Mohammad Fahim, Jagdish Prasad',\n",
    "'Gayatri Rath, Sunita Saxena, Ranju Ralhan',\n",
    "'Sayeed Ahmad, Husain, Syed Akhtar',\n",
    "'Syad, Asif Ali Haleem, Abid',\n",
    "'Azmi, Feza Tavassaum Kumar, Ravindra',\n",
    "'Lohani, Mohtashim, Qamar Rehman',\n",
    "'Sheeba Farid, Siddiqui, Hh',\n",
    "'Sheeba Fareed, Siddiqui, Hh',\n",
    "'Kurian, Thomas Alex, Rosamma',\n",
    "'Zafar, Sm Tariq Gupta, Parul',\n",
    "'Pujari, A. K. Kannan V. Ashutosh Gulati, V. P.',\n",
    "'Singh Satyendra, Bt Kumaon Institute Of Technology, Dwarahat',\n",
    "'Kalarikkal, Nandakumar% Thomas, Sabu',\n",
    "'Kavita Khanna, Akansha Singh, Gaurav Gupta',\n",
    "'Sardar, H. C. Àª¸àª°àª¦àª¾àª°, Àª\\x8fàª\\x9aàª¸à«\\x80',\n",
    "'Yogesh Chandra Sharma, K. J. Rangra, Vaibhav Neema',\n",
    "'Bais, V. S. Nad Soni, N. K.',\n",
    "'Arunachalam, Nand Ramanujam, N.',\n",
    "'Aravindakumar, C. T% Usha, K.',\n",
    "'Tiwari, Vivekanand Pandey, Ganga Prasad',\n",
    "'Tomar, Rajesh Singh Prasad, G. B. K. S.',\n",
    "'Chatterjee, N. C, Dutta Sikha',\n",
    "'Singh, Surendra Pal , Dharminder Kumar',\n",
    "'Rk Manohar, Sudhinder Singh Chowhan, Ibrahim Yahaya',\n",
    "'Shivakumar, S, Chengti']"
   ]
  },
  {
   "cell_type": "code",
   "execution_count": null,
   "metadata": {},
   "outputs": [],
   "source": [
    "name_with_correct_and=['Randhawa Gurinderjit','Sahastrabudhe','Shrivastava Rk','Sharma, Bk',\"Bhadauria Rekha\",'Prasad Gbks',\n",
    "              'Srivastava Nalini','kamala Devi','Rc Chhipa','Dhakad, Rk','Goswami, Dn']"
   ]
  }
 ],
 "metadata": {
  "kernelspec": {
   "display_name": "Python 3",
   "language": "python",
   "name": "python3"
  },
  "language_info": {
   "codemirror_mode": {
    "name": "ipython",
    "version": 3
   },
   "file_extension": ".py",
   "mimetype": "text/x-python",
   "name": "python",
   "nbconvert_exporter": "python",
   "pygments_lexer": "ipython3",
   "version": "3.6.9"
  }
 },
 "nbformat": 4,
 "nbformat_minor": 4
}
