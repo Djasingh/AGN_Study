{
 "cells": [
  {
   "cell_type": "code",
   "execution_count": 1,
   "metadata": {},
   "outputs": [],
   "source": [
    "import pandas as pd\n",
    "import re"
   ]
  },
  {
   "cell_type": "code",
   "execution_count": 2,
   "metadata": {},
   "outputs": [],
   "source": [
    "folder=\"dataset_v5/v5_2/\""
   ]
  },
  {
   "cell_type": "code",
   "execution_count": 3,
   "metadata": {},
   "outputs": [],
   "source": [
    "final_data = pd.read_csv(folder+\"joined_stud_adv_shodhganga_ment_with_disamb_ids4_1_4_1.csv\", sep =\",\")"
   ]
  },
  {
   "cell_type": "code",
   "execution_count": 4,
   "metadata": {},
   "outputs": [],
   "source": [
    "final_data.loc[final_data[\"uniq_ddc_across_dept\"]==\"('',)\",'DepartmentId']=final_data[final_data[\"uniq_ddc_across_dept\"]==\"('',)\"]['N_DepartmentId_1']"
   ]
  },
  {
   "cell_type": "code",
   "execution_count": 5,
   "metadata": {},
   "outputs": [],
   "source": [
    "final_data['date_submitted']=pd.to_datetime(final_data['date_submitted'],errors=\"coerce\")\n",
    "final_data['dc.date.awarded']=pd.to_datetime(final_data['dc.date.awarded'],errors='coerce')"
   ]
  },
  {
   "cell_type": "code",
   "execution_count": 6,
   "metadata": {},
   "outputs": [],
   "source": [
    "month_to_add=6"
   ]
  },
  {
   "cell_type": "code",
   "execution_count": 7,
   "metadata": {},
   "outputs": [],
   "source": [
    "final_data[\"new_date_awarded\"]=final_data['dc.date.awarded']"
   ]
  },
  {
   "cell_type": "code",
   "execution_count": 8,
   "metadata": {},
   "outputs": [],
   "source": [
    "final_data.loc[(final_data['dc.date.awarded'].isnull()),'new_date_awarded']=final_data[final_data['dc.date.awarded'].isnull()]['date_submitted']+pd.DateOffset(months=month_to_add)"
   ]
  },
  {
   "cell_type": "code",
   "execution_count": 9,
   "metadata": {},
   "outputs": [
    {
     "data": {
      "text/plain": [
       "advisorId                       0\n",
       "researcherId                    0\n",
       "advisor_name                    0\n",
       "researcher_name                 0\n",
       "dc.language.iso[]               0\n",
       "publisher_dept                  0\n",
       "DepartmentId                    0\n",
       "publisher_institution           0\n",
       "instituteId                     0\n",
       "title                           0\n",
       "thesisId                        0\n",
       "dc.type.degree                  0\n",
       "date_submitted              14723\n",
       "dc.date.awarded            156159\n",
       "dc.subject.ddc               3688\n",
       "dc.description.abstract    188384\n",
       "dc.title.alternative       200604\n",
       "uniq_ddc_across_dept            0\n",
       "N_DepartmentId_1                0\n",
       "N_DepartmentId                  0\n",
       "previous_advisor_name           0\n",
       "advisor_inst_dept               0\n",
       "res_inst_dept                   0\n",
       "adv_names_rid                   0\n",
       "res_names_rid                   0\n",
       "advId                           0\n",
       "resId                           0\n",
       "N_thesisId                      0\n",
       "new_date_awarded            14721\n",
       "dtype: int64"
      ]
     },
     "execution_count": 9,
     "metadata": {},
     "output_type": "execute_result"
    }
   ],
   "source": [
    "final_data.isna().sum()"
   ]
  },
  {
   "cell_type": "code",
   "execution_count": 10,
   "metadata": {},
   "outputs": [
    {
     "data": {
      "text/plain": [
       "(205744, 29)"
      ]
     },
     "execution_count": 10,
     "metadata": {},
     "output_type": "execute_result"
    }
   ],
   "source": [
    "final_data.shape"
   ]
  },
  {
   "cell_type": "code",
   "execution_count": 11,
   "metadata": {},
   "outputs": [
    {
     "data": {
      "text/plain": [
       "Index(['advisorId', 'researcherId', 'advisor_name', 'researcher_name',\n",
       "       'dc.language.iso[]', 'publisher_dept', 'DepartmentId',\n",
       "       'publisher_institution', 'instituteId', 'title', 'thesisId',\n",
       "       'dc.type.degree', 'date_submitted', 'dc.date.awarded', 'dc.subject.ddc',\n",
       "       'dc.description.abstract', 'dc.title.alternative',\n",
       "       'uniq_ddc_across_dept', 'N_DepartmentId_1', 'N_DepartmentId',\n",
       "       'previous_advisor_name', 'advisor_inst_dept', 'res_inst_dept',\n",
       "       'adv_names_rid', 'res_names_rid', 'advId', 'resId', 'N_thesisId',\n",
       "       'new_date_awarded'],\n",
       "      dtype='object')"
      ]
     },
     "execution_count": 11,
     "metadata": {},
     "output_type": "execute_result"
    }
   ],
   "source": [
    "final_data.columns"
   ]
  },
  {
   "cell_type": "code",
   "execution_count": 12,
   "metadata": {},
   "outputs": [],
   "source": [
    "final_data['advisor_advId']=final_data['advisor_name']+\"@\"+final_data['advId'].map(str)\n",
    "final_data['researcher_resId']=final_data['researcher_name']+\"@\"+final_data['resId'].map(str)"
   ]
  },
  {
   "cell_type": "code",
   "execution_count": 13,
   "metadata": {},
   "outputs": [],
   "source": [
    "#index file\n",
    "index_names=pd.unique(final_data[['advisor_advId', 'researcher_resId']].values.ravel('K')).copy()\n",
    "name_index1=pd.DataFrame({'names_id':index_names})\n",
    "name_index1[['names','rid']]=name_index1['names_id'].str.split(\"@\",expand=True)\n",
    "name_index1['rid']=name_index1['rid'].map(int)\n",
    "name_index1=name_index1[['rid','names']].copy()"
   ]
  },
  {
   "cell_type": "code",
   "execution_count": 14,
   "metadata": {},
   "outputs": [],
   "source": [
    "name_index2=name_index1.groupby(['rid'])['names'].apply(list).reset_index().copy()"
   ]
  },
  {
   "cell_type": "code",
   "execution_count": 15,
   "metadata": {},
   "outputs": [
    {
     "data": {
      "text/html": [
       "<div>\n",
       "<style scoped>\n",
       "    .dataframe tbody tr th:only-of-type {\n",
       "        vertical-align: middle;\n",
       "    }\n",
       "\n",
       "    .dataframe tbody tr th {\n",
       "        vertical-align: top;\n",
       "    }\n",
       "\n",
       "    .dataframe thead th {\n",
       "        text-align: right;\n",
       "    }\n",
       "</style>\n",
       "<table border=\"1\" class=\"dataframe\">\n",
       "  <thead>\n",
       "    <tr style=\"text-align: right;\">\n",
       "      <th></th>\n",
       "      <th>rid</th>\n",
       "      <th>names</th>\n",
       "    </tr>\n",
       "  </thead>\n",
       "  <tbody>\n",
       "    <tr>\n",
       "      <th>0</th>\n",
       "      <td>1</td>\n",
       "      <td>[Joy, C. M.]</td>\n",
       "    </tr>\n",
       "    <tr>\n",
       "      <th>1</th>\n",
       "      <td>2</td>\n",
       "      <td>[Joseph, Joy P.]</td>\n",
       "    </tr>\n",
       "    <tr>\n",
       "      <th>2</th>\n",
       "      <td>3</td>\n",
       "      <td>[Raju, K. V., Raju, Kv]</td>\n",
       "    </tr>\n",
       "    <tr>\n",
       "      <th>3</th>\n",
       "      <td>4</td>\n",
       "      <td>[Joseph, K. K.]</td>\n",
       "    </tr>\n",
       "    <tr>\n",
       "      <th>4</th>\n",
       "      <td>5</td>\n",
       "      <td>[Thomas, E. M.]</td>\n",
       "    </tr>\n",
       "  </tbody>\n",
       "</table>\n",
       "</div>"
      ],
      "text/plain": [
       "   rid                    names\n",
       "0    1             [Joy, C. M.]\n",
       "1    2         [Joseph, Joy P.]\n",
       "2    3  [Raju, K. V., Raju, Kv]\n",
       "3    4          [Joseph, K. K.]\n",
       "4    5          [Thomas, E. M.]"
      ]
     },
     "execution_count": 15,
     "metadata": {},
     "output_type": "execute_result"
    }
   ],
   "source": [
    "name_index2.head()"
   ]
  },
  {
   "cell_type": "code",
   "execution_count": 16,
   "metadata": {},
   "outputs": [],
   "source": [
    "#modified\n",
    "name_index2['names']=name_index2['names'].apply(lambda x : \"|\".join(x))"
   ]
  },
  {
   "cell_type": "code",
   "execution_count": null,
   "metadata": {},
   "outputs": [],
   "source": []
  },
  {
   "cell_type": "code",
   "execution_count": 17,
   "metadata": {},
   "outputs": [],
   "source": [
    "final_data = final_data[['advisorId','researcherId','advId','resId','advisor_name','researcher_name','publisher_dept',\n",
    "                         'DepartmentId','publisher_institution','instituteId','title','thesisId','N_thesisId',\n",
    "                        'date_submitted','new_date_awarded','dc.date.awarded','dc.subject.ddc','uniq_ddc_across_dept','dc.description.abstract', 'dc.title.alternative','N_DepartmentId_1']].copy()"
   ]
  },
  {
   "cell_type": "code",
   "execution_count": 18,
   "metadata": {},
   "outputs": [],
   "source": [
    "final_data.drop_duplicates(subset=['advId','resId','DepartmentId','instituteId','N_thesisId'], keep=\"first\", inplace=True)"
   ]
  },
  {
   "cell_type": "code",
   "execution_count": 19,
   "metadata": {},
   "outputs": [],
   "source": [
    "def find_number(text):\n",
    "    text=str(text)\n",
    "    num = re.findall(r'\\d+',text)\n",
    "    num=sorted(num)\n",
    "    return tuple(num)"
   ]
  },
  {
   "cell_type": "code",
   "execution_count": 20,
   "metadata": {},
   "outputs": [],
   "source": [
    "final_data['ddc_code']=final_data['dc.subject.ddc'].apply(lambda x:find_number(x))"
   ]
  },
  {
   "cell_type": "code",
   "execution_count": 28,
   "metadata": {},
   "outputs": [
    {
     "data": {
      "text/plain": [
       "Index(['advisorId', 'researcherId', 'advId', 'resId', 'advisor_name',\n",
       "       'researcher_name', 'publisher_dept', 'DepartmentId',\n",
       "       'publisher_institution', 'instituteId', 'title', 'thesisId',\n",
       "       'N_thesisId', 'date_submitted', 'new_date_awarded', 'dc.date.awarded',\n",
       "       'dc.subject.ddc', 'uniq_ddc_across_dept', 'dc.description.abstract',\n",
       "       'dc.title.alternative', 'N_DepartmentId_1', 'ddc_code'],\n",
       "      dtype='object')"
      ]
     },
     "execution_count": 28,
     "metadata": {},
     "output_type": "execute_result"
    }
   ],
   "source": [
    "final_data.columns"
   ]
  },
  {
   "cell_type": "code",
   "execution_count": 22,
   "metadata": {},
   "outputs": [
    {
     "data": {
      "text/plain": [
       "(201477, 22)"
      ]
     },
     "execution_count": 22,
     "metadata": {},
     "output_type": "execute_result"
    }
   ],
   "source": [
    "final_data.shape"
   ]
  },
  {
   "cell_type": "code",
   "execution_count": 29,
   "metadata": {},
   "outputs": [
    {
     "data": {
      "text/plain": [
       "(259454, 2)"
      ]
     },
     "execution_count": 29,
     "metadata": {},
     "output_type": "execute_result"
    }
   ],
   "source": [
    "name_index2.shape"
   ]
  },
  {
   "cell_type": "code",
   "execution_count": 23,
   "metadata": {},
   "outputs": [],
   "source": [
    "#dup=final_data[final_data[['advId','resId','DepartmentId','instituteId','thesisId']].duplicated()]"
   ]
  },
  {
   "cell_type": "code",
   "execution_count": 24,
   "metadata": {},
   "outputs": [],
   "source": [
    "#final_data[final_data['advId']==261633]"
   ]
  },
  {
   "cell_type": "code",
   "execution_count": 25,
   "metadata": {},
   "outputs": [],
   "source": [
    "name_index1.to_csv(folder+\"index_file1_v5_2.csv\", sep =\",\" , index=False)"
   ]
  },
  {
   "cell_type": "code",
   "execution_count": null,
   "metadata": {},
   "outputs": [],
   "source": [
    "name_index2.to_csv(folder+\"index_file2_v5_2_1.csv\", sep =\",\" , index=False)"
   ]
  },
  {
   "cell_type": "code",
   "execution_count": 26,
   "metadata": {},
   "outputs": [],
   "source": [
    "final_data.to_csv(folder+\"final_shodhganga_dataset_v5_2_1.csv\", sep =\",\" , index=False)"
   ]
  },
  {
   "cell_type": "code",
   "execution_count": 27,
   "metadata": {},
   "outputs": [
    {
     "data": {
      "text/plain": [
       "array([('500', '580'), ('300',), ('300', '330'), ('300', '370'),\n",
       "       ('500', '590'), ('000', '004'), ('800', '890', '891'),\n",
       "       ('600', '680'), ('500', '530'), (), ('600', '660'), ('700', '780'),\n",
       "       ('600', '650', '658'), ('600',), ('000', '080', '089'),\n",
       "       ('500', '540', '570'), ('600', '620', '621'), ('500', '510'),\n",
       "       ('800', '820'), ('600', '620'), ('600', '630', '635'),\n",
       "       ('600', '610', '615'), ('500',), ('600', '610'), ('600', '640'),\n",
       "       ('600', '610', '613'), ('300', '380', '381'), ('900', '950'),\n",
       "       ('600', '620', '628'), ('600', '650', '657'), ('300', '340'),\n",
       "       ('300', '303'), ('500', '570', '577'), ('500', '570'),\n",
       "       ('300', '301'), ('900',), ('100', '150'), ('300', '305'),\n",
       "       ('500', '570', '576'), ('500', '540'), ('700', '790', '791'),\n",
       "       ('300', '360', '361'), ('400', '490', '491'), ('000', '070'),\n",
       "       ('300', '320'), ('300', '330', '333'), ('500', '540', '547'),\n",
       "       ('300', '330', '332'), ('600', '610', '617'),\n",
       "       ('300', '390', '398'), ('300', '350'), ('600', '610', '616'),\n",
       "       ('600', '630', '636'), ('300', '360', '362'),\n",
       "       ('600', '620', '623'), ('600', '610', '618'), ('200',), ('800',),\n",
       "       ('900', '950', '954'), ('300', '350', '355'), ('500', '520'),\n",
       "       ('000', '020'), ('600', '630'), ('100',), ('700',), ('300', '306'),\n",
       "       ('600', '630', '633'), ('600', '660', '664'),\n",
       "       ('600', '620', '624'), ('300', '304'), ('600', '670', '677'),\n",
       "       ('500', '590', '595'), ('100', '150', '153'),\n",
       "       ('500', '570', '571'), ('400',), ('400', '410'), ('000', '080'),\n",
       "       ('400', '490', '495'), ('200', '210'), ('300', '360', '364'),\n",
       "       ('300', '370', '371'), ('100', '190'), ('500', '570', '572'),\n",
       "       ('500', '550'), ('600', '640', '641'), ('600', '630', '638'),\n",
       "       ('500', '550', '551'), ('600', '630', '632'),\n",
       "       ('500', '510', '519'), ('500', '590', '591'),\n",
       "       ('200', '290', '297'), ('900', '950', '956'),\n",
       "       ('300', '320', '327'), ('300', '360', '368'),\n",
       "       ('600', '610', '611'), ('100', '110', '114'), ('700', '720'),\n",
       "       ('600', '630', '634'), ('300', '370', '375'),\n",
       "       ('700', '780', '782'), ('800', '805'), ('700', '790'),\n",
       "       ('300', '302'), ('300', '330', '338'), ('600', '630', '639'),\n",
       "       ('400', '490'), ('700', '740', '741'), ('300', '330', '331'),\n",
       "       ('600', '620', '622'), ('500', '530', '537'),\n",
       "       ('300', '360', '363'), ('300', '370', '378'),\n",
       "       ('600', '660', '668'), ('300', '330', '340', '342'),\n",
       "       ('300', '301', '320'), ('700', '740', '745'),\n",
       "       ('200', '290', '294'), ('300', '340', '342'),\n",
       "       ('000', '020', '025'), ('800', '809'), ('600', '660', '669'),\n",
       "       ('100', '180'), ('500', '530', '538'), ('600', '660', '662'),\n",
       "       ('500', '530', '570'), ('600', '610', '612'),\n",
       "       ('600', '610', '614'), ('500', '570', '579'),\n",
       "       ('500', '540', '600', '660'), ('300', '320', '323'),\n",
       "       ('600', '607'), ('300', '301', '370'), ('700', '780', '781'),\n",
       "       ('500', '570', '600', '660'), ('300', '310', '317'),\n",
       "       ('600', '670', '675'), ('100', '107'), ('500', '580', '582'),\n",
       "       ('200', '280'), ('600', '620', '629'), ('600', '690', '691'),\n",
       "       ('600', '650'), ('800', '880', '882'), ('300', '310'),\n",
       "       ('100', '150', '600', '650', '658'), ('300', '320', '350'),\n",
       "       ('600', '630', '637'), ('300', '330', '340'), ('300', '307'),\n",
       "       ('100', '150', '300', '301'), ('700', '710', '714'),\n",
       "       ('400', '410', '800', '890', '891'),\n",
       "       ('400', '490', '491', '500', '520'), ('400', '420'),\n",
       "       ('500', '540', '541'), ('800', '803'),\n",
       "       ('500', '590', '600', '660'), ('700', '790', '798'),\n",
       "       ('300', '370', '374'), ('500', '506'),\n",
       "       ('500', '580', '600', '660'),\n",
       "       ('400', '490', '491', '800', '890', '891'), ('300', '360'),\n",
       "       ('100', '150', '300', '370'), ('200', '260', '261'),\n",
       "       ('100', '110', '118'), ('600', '620', '627'),\n",
       "       ('600', '630', '631'), ('500', '540', '570', '576'),\n",
       "       ('200', '203'), ('100', '180', '181'), ('900', '910'),\n",
       "       ('500', '505'), ('300', '350', '351'), ('800', '806'),\n",
       "       ('100', '150', '155'), ('500', '550', '553'),\n",
       "       ('600', '660', '661'), ('300', '380'), ('800', '820', '822'),\n",
       "       ('300', '330', '335'), ('300', '370', '372'),\n",
       "       ('100', '110', '113'), ('800', '890', '895'),\n",
       "       ('200', '220', '221')], dtype=object)"
      ]
     },
     "execution_count": 27,
     "metadata": {},
     "output_type": "execute_result"
    }
   ],
   "source": [
    "pd.unique(final_data['ddc_code'])"
   ]
  },
  {
   "cell_type": "code",
   "execution_count": null,
   "metadata": {},
   "outputs": [],
   "source": [
    "#final_data.drop_duplicates(subset=['advId','resId','DepartmentId','instituteId'], keep=\"first\", inplace=True)"
   ]
  },
  {
   "cell_type": "code",
   "execution_count": null,
   "metadata": {},
   "outputs": [],
   "source": [
    "final_data[final_data[['advId','resId','DepartmentId','instituteId']].duplicated()]"
   ]
  },
  {
   "cell_type": "code",
   "execution_count": null,
   "metadata": {},
   "outputs": [],
   "source": [
    "final_data[final_data['researcher_name'].str.contains(\"Premsingh\")]#['title'].values"
   ]
  },
  {
   "cell_type": "code",
   "execution_count": null,
   "metadata": {},
   "outputs": [],
   "source": [
    "index1=final_data[final_data[['advId','N_thesisId']].duplicated()].index.copy()"
   ]
  },
  {
   "cell_type": "code",
   "execution_count": null,
   "metadata": {},
   "outputs": [],
   "source": [
    "final_data.loc[index1][['advId','resId','title','N_thesisId']]"
   ]
  },
  {
   "cell_type": "code",
   "execution_count": null,
   "metadata": {},
   "outputs": [],
   "source": [
    "final_data[(final_data['advId']==189810) & (final_data['N_thesisId']==\"T172542\")]"
   ]
  },
  {
   "cell_type": "code",
   "execution_count": null,
   "metadata": {},
   "outputs": [],
   "source": [
    "name_index1.head()"
   ]
  },
  {
   "cell_type": "code",
   "execution_count": null,
   "metadata": {},
   "outputs": [],
   "source": [
    "name_index1[name_index1['rid']==11]"
   ]
  },
  {
   "cell_type": "code",
   "execution_count": null,
   "metadata": {},
   "outputs": [],
   "source": [
    "name_index2.head(12).values"
   ]
  },
  {
   "cell_type": "code",
   "execution_count": null,
   "metadata": {},
   "outputs": [],
   "source": [
    "pd.unique(final_data['DepartmentId']).shape"
   ]
  },
  {
   "cell_type": "code",
   "execution_count": null,
   "metadata": {},
   "outputs": [],
   "source": [
    "name_index1[name_index1['names'].duplicated()]"
   ]
  },
  {
   "cell_type": "code",
   "execution_count": null,
   "metadata": {},
   "outputs": [],
   "source": [
    "dup_index=name_index1[name_index1['names'].duplicated()].copy()"
   ]
  },
  {
   "cell_type": "code",
   "execution_count": null,
   "metadata": {},
   "outputs": [],
   "source": [
    "dupl=name_index1[name_index1['names'].duplicated()]['rid'].copy()"
   ]
  },
  {
   "cell_type": "code",
   "execution_count": null,
   "metadata": {},
   "outputs": [],
   "source": [
    "name_index1[name_index1['names']=='Sebastian, P. A.']"
   ]
  },
  {
   "cell_type": "code",
   "execution_count": null,
   "metadata": {},
   "outputs": [],
   "source": [
    "final_data[final_data['advId']==20]"
   ]
  },
  {
   "cell_type": "code",
   "execution_count": null,
   "metadata": {},
   "outputs": [],
   "source": [
    "final_data[final_data['advId']==4917]"
   ]
  },
  {
   "cell_type": "code",
   "execution_count": null,
   "metadata": {},
   "outputs": [],
   "source": [
    "final_data[final_data['advId']==4912]"
   ]
  },
  {
   "cell_type": "code",
   "execution_count": null,
   "metadata": {},
   "outputs": [],
   "source": [
    "dupl_uniq=pd.unique(dupl)"
   ]
  },
  {
   "cell_type": "code",
   "execution_count": null,
   "metadata": {},
   "outputs": [],
   "source": [
    "pd.unique(final_data[final_data['resId'].isin(dupl_uniq)]['resId']).shape"
   ]
  },
  {
   "cell_type": "code",
   "execution_count": null,
   "metadata": {},
   "outputs": [],
   "source": [
    "pd.unique(name_index1[name_index1['rid'].isin(dupl_uniq)]['rid']).shape"
   ]
  },
  {
   "cell_type": "code",
   "execution_count": null,
   "metadata": {},
   "outputs": [],
   "source": [
    "dup_index[dup_index['names']==\"Kaur, Baljeet\"]"
   ]
  },
  {
   "cell_type": "code",
   "execution_count": null,
   "metadata": {},
   "outputs": [],
   "source": [
    "final_data.iloc[203000:203050][['publisher_dept','dc.subject.ddc','uniq_ddc_across_dept']].values"
   ]
  },
  {
   "cell_type": "code",
   "execution_count": null,
   "metadata": {},
   "outputs": [],
   "source": [
    "final_data.columns"
   ]
  },
  {
   "cell_type": "code",
   "execution_count": 30,
   "metadata": {},
   "outputs": [
    {
     "name": "stdout",
     "output_type": "stream",
     "text": [
      "Python 3.6.9\r\n"
     ]
    }
   ],
   "source": [
    "#!python --version"
   ]
  },
  {
   "cell_type": "code",
   "execution_count": 31,
   "metadata": {},
   "outputs": [],
   "source": []
  },
  {
   "cell_type": "code",
   "execution_count": null,
   "metadata": {},
   "outputs": [],
   "source": []
  }
 ],
 "metadata": {
  "kernelspec": {
   "display_name": "Python 3",
   "language": "python",
   "name": "python3"
  },
  "language_info": {
   "codemirror_mode": {
    "name": "ipython",
    "version": 3
   },
   "file_extension": ".py",
   "mimetype": "text/x-python",
   "name": "python",
   "nbconvert_exporter": "python",
   "pygments_lexer": "ipython3",
   "version": "3.7.12"
  }
 },
 "nbformat": 4,
 "nbformat_minor": 4
}
