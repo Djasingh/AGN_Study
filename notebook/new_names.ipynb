{
 "cells": [
  {
   "cell_type": "code",
   "execution_count": null,
   "metadata": {},
   "outputs": [],
   "source": [
    "#ment.loc[ment[\"uniq_ddc_across_dept\"]==\"('',)\",'DepartmentId']=ment[ment[\"uniq_ddc_across_dept\"]==\"('',)\"]['N_DepartmentId_1']"
   ]
  },
  {
   "cell_type": "code",
   "execution_count": 2,
   "metadata": {},
   "outputs": [
    {
     "data": {
      "text/plain": [
       "{'Mohan Girish, K. S.': 'Mohan; Girish, K. S.',\n",
       " 'Gireesha B. J. , Bagewadi C. S.': 'Gireesha B. J. ; Bagewadi C. S.',\n",
       " 'Narasimhamurthy S. K. Bagewadi C. S.': 'Narasimhamurthy S. K.; Bagewadi C. S.',\n",
       " 'Venkatesha , Bagewadi C. S.': 'Venkatesha ; Bagewadi C. S.',\n",
       " 'Snmamle Desai, Girendra Gautam': 'Snmamle Desai; Girendra Gautam',\n",
       " 'Anurag, Girendra Gautam': 'Anurag; Girendra Gautam',\n",
       " 'Mandev B. Patel, Girendra Gautam': 'Mandev B. Patel; Girendra Gautam',\n",
       " 'Jalalpure Ss , Girendra Gautam': 'Jalalpure Ss ; Girendra Gautam',\n",
       " 'B. Arul, Girendra Gautam': 'B. Arul; Girendra Gautam',\n",
       " 'Gaurav Sharma , Nakuleshwar Dut Jasuja': 'Gaurav Sharma ; Nakuleshwar Dut Jasuja',\n",
       " 'Gaurav Sharma, Nakuleshwar Dut Jasuja': 'Gaurav Sharma; Nakuleshwar Dut Jasuja',\n",
       " 'Ravindra Pal Singh, Gn Darwhekar': 'Ravindra Pal Singh; Gn Darwhekar',\n",
       " 'Ravindra Pal Singh, Mousumi Kar': 'Ravindra Pal Singh; Mousumi Kar',\n",
       " 'Ravindra Pal Singh, G. Vidyasagar': 'Ravindra Pal Singh; G. Vidyasagar',\n",
       " 'Krishna Chandra Roy, Dinesh Goyal': 'Krishna Chandra Roy; Dinesh Goyal',\n",
       " 'Sanjay Singla , Dinesh Goyal': 'Sanjay Singla ; Dinesh Goyal',\n",
       " 'Baldev Singh, Ripu Ranjan Sinha': 'Baldev Singh; Ripu Ranjan Sinha',\n",
       " 'Ripu Ranjan Sinha, Pc Gupta': 'Ripu Ranjan Sinha; Pc Gupta',\n",
       " 'Srinivasan T. M, Alex Hankey': 'Srinivasan T. M; Alex Hankey',\n",
       " 'Sony Kumari, Akhilesh K. B.': 'Sony Kumari; Akhilesh K. B.',\n",
       " 'V. Rama Mohan Gupta, N. Devanna': 'V. Rama Mohan Gupta; N. Devanna',\n",
       " 'Y. Padmanabha Reddy, N. Devanna': 'Y. Padmanabha Reddy; N. Devanna'}"
      ]
     },
     "execution_count": 2,
     "metadata": {},
     "output_type": "execute_result"
    }
   ],
   "source": [
    "new_name={'Mohan Girish, K. S.': 'Mohan; Girish, K. S.',\n",
    " 'Gireesha B. J. , Bagewadi C. S.': 'Gireesha B. J. ; Bagewadi C. S.',\n",
    " 'Narasimhamurthy S. K. Bagewadi C. S.': 'Narasimhamurthy S. K.; Bagewadi C. S.',\n",
    " 'Venkatesha , Bagewadi C. S.': 'Venkatesha ; Bagewadi C. S.',\n",
    " 'Snmamle Desai, Girendra Gautam': 'Snmamle Desai; Girendra Gautam',\n",
    " 'Anurag, Girendra Gautam': 'Anurag; Girendra Gautam',\n",
    " 'Mandev B. Patel, Girendra Gautam': 'Mandev B. Patel; Girendra Gautam',\n",
    " 'Jalalpure Ss , Girendra Gautam': 'Jalalpure Ss ; Girendra Gautam',\n",
    " 'B. Arul, Girendra Gautam': 'B. Arul; Girendra Gautam',\n",
    " 'Gaurav Sharma , Nakuleshwar Dut Jasuja': 'Gaurav Sharma ; Nakuleshwar Dut Jasuja',\n",
    " 'Gaurav Sharma, Nakuleshwar Dut Jasuja': 'Gaurav Sharma; Nakuleshwar Dut Jasuja',\n",
    " 'Ravindra Pal Singh, Gn Darwhekar': 'Ravindra Pal Singh; Gn Darwhekar',\n",
    " 'Ravindra Pal Singh, Mousumi Kar': 'Ravindra Pal Singh; Mousumi Kar',\n",
    " 'Ravindra Pal Singh, G. Vidyasagar': 'Ravindra Pal Singh; G. Vidyasagar',\n",
    " 'Krishna Chandra Roy, Dinesh Goyal': 'Krishna Chandra Roy; Dinesh Goyal',\n",
    " 'Sanjay Singla , Dinesh Goyal': 'Sanjay Singla ; Dinesh Goyal',\n",
    " 'Baldev Singh, Ripu Ranjan Sinha': 'Baldev Singh; Ripu Ranjan Sinha',\n",
    " 'Ripu Ranjan Sinha, Pc Gupta': 'Ripu Ranjan Sinha; Pc Gupta',\n",
    " 'Srinivasan T. M, Alex Hankey': 'Srinivasan T. M; Alex Hankey',\n",
    " 'Sony Kumari, Akhilesh K. B.': 'Sony Kumari; Akhilesh K. B.',\n",
    " 'V. Rama Mohan Gupta, N. Devanna': 'V. Rama Mohan Gupta; N. Devanna',\n",
    " 'Y. Padmanabha Reddy, N. Devanna': 'Y. Padmanabha Reddy; N. Devanna'}"
   ]
  },
  {
   "cell_type": "code",
   "execution_count": 3,
   "metadata": {},
   "outputs": [
    {
     "data": {
      "text/plain": [
       "['Â\\x80\\x98rohitshvaâ\\x80\\x99',\n",
       " 'à¤µà¤¿à¤¶à¤¨à¤²à¤¾à¤² À¤\\x97à¥\\x8cà¤¡à¤¼ À¤µà¥\\x8dà¤¯à¥\\x8bà¤®à¥\\x8dà¤¶à¥\\x87à¤\\x96à¤°',\n",
       " 'Aà®£à¯\\x8dà®\\x9fà¯\\x81à®°à®\\x99à¯\\x8dà®\\x95à®©à¯\\x8d, À®',\n",
       " 'Aà®ªà®¾à®£à¯\\x8dà®\\x9fà¯\\x81à®°à®\\x99à¯\\x8dà®\\x95à®©à¯\\x8d, À®']"
      ]
     },
     "execution_count": 3,
     "metadata": {},
     "output_type": "execute_result"
    }
   ],
   "source": [
    "pattern=[]"
   ]
  },
  {
   "cell_type": "code",
   "execution_count": null,
   "metadata": {},
   "outputs": [],
   "source": [
    "dept:  \"('',)\" --- \"causes error\" because for those cases \"ddc.subject\" is not available"
   ]
  },
  {
   "cell_type": "code",
   "execution_count": null,
   "metadata": {},
   "outputs": [],
   "source": [
    "((50031, 50204), ('Arunachalam, G.', 'Arunachalam'))\n",
    "((50044, 50204), ('Arunachalam, S.', 'Arunachalam'))\n",
    "((50062, 50204), ('Arunachalam, S`', 'Arunachalam'))\n",
    "\n",
    "((57283, 57290), ('Bhawalkar, D. R.', 'Bhawalkar,'))\n",
    "((57283, 57296), ('Bhawalkar, D. R.', 'Bhawalkar, D.'))\n",
    "((57290, 57296), ('Bhawalkar,', 'Bhawalkar, D.'))\n",
    "((57290, 206961), ('Bhawalkar,', 'Bhawalkar, H R.'))"
   ]
  }
 ],
 "metadata": {
  "kernelspec": {
   "display_name": "Python 3",
   "language": "python",
   "name": "python3"
  },
  "language_info": {
   "codemirror_mode": {
    "name": "ipython",
    "version": 3
   },
   "file_extension": ".py",
   "mimetype": "text/x-python",
   "name": "python",
   "nbconvert_exporter": "python",
   "pygments_lexer": "ipython3",
   "version": "3.7.12"
  }
 },
 "nbformat": 4,
 "nbformat_minor": 4
}
