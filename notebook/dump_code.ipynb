{
 "cells": [
  {
   "cell_type": "code",
   "execution_count": null,
   "metadata": {},
   "outputs": [],
   "source": [
    "# count = 0\n",
    "# start = 0\n",
    "# for name1, name2 in itertools.combinations(name_index['r_names'], 2):\n",
    "#     vec=calculate_feats(name1, name2)\n",
    "#     if sum(vec) > 10 :\n",
    "#         print(count)\n",
    "#         if count >= start:\n",
    "#             inst1 = dataset[(dataset['dc.contributor.advisor[]']==name1) | (dataset['dc.creator.researcher[]']==name1)][\"dc.publisher.institution[]\"].unique()\n",
    "#             inst2 = dataset[(dataset['dc.contributor.advisor[]']==name2) | (dataset['dc.creator.researcher[]']==name2)][\"dc.publisher.institution[]\"].unique()\n",
    "#             print(name1+\"\\t\"+name2+\"\\t\"+str(sum(vec)))\n",
    "#             print(str(inst1)+\"\\t\"+str(inst2))\n",
    "#         count += 1\n",
    "#     if count == start + 10:\n",
    "#         break"
   ]
  },
  {
   "cell_type": "code",
   "execution_count": null,
   "metadata": {},
   "outputs": [],
   "source": [
    "# name3=\"Dhananjay Kumar Singh\"\n",
    "# name4=\"Dhananjay K. Singh\"\n",
    "# name5=\"\"\n",
    "# name6=\"DK Singh\"\n",
    "# name7=\"dhananjay Singh\"\n",
    "\n",
    "# name1=\"Raju, K. V.\"     #\"singh, dhananjay kumar\"\n",
    "# name2= \"Raju, Kv\"\n",
    "# name1=re.sub(\" +\",\" \",name1)\n",
    "# name2=re.sub(\" +\",\" \",name2)\n",
    "# name1=name1.lower()\n",
    "# name2=name2.lower()\n",
    "\n",
    "# len(set(name1).intersection(name2))/max(len(name1),len(name2))"
   ]
  },
  {
   "cell_type": "code",
   "execution_count": null,
   "metadata": {},
   "outputs": [],
   "source": [
    "#dataset[dataset['dc.contributor.advisor[]'].str.contains(\"Raju\")]\n",
    "#dataset[dataset['dc.contributor.advisor[]']==\"Raju, K. V.\"]"
   ]
  },
  {
   "cell_type": "code",
   "execution_count": null,
   "metadata": {},
   "outputs": [],
   "source": [
    "#textdistance.levenshtein.distance(name1, name2)"
   ]
  },
  {
   "cell_type": "code",
   "execution_count": null,
   "metadata": {},
   "outputs": [],
   "source": [
    "#vec=calculate_feats(name1,name2)\n",
    "#vec\n",
    "#sum(vec)\n",
    "#dataset.isnull().sum()\n",
    "#max(dataset['researcherId'])"
   ]
  },
  {
   "cell_type": "code",
   "execution_count": 3,
   "metadata": {},
   "outputs": [],
   "source": [
    "import itertools"
   ]
  },
  {
   "cell_type": "code",
   "execution_count": 6,
   "metadata": {},
   "outputs": [],
   "source": [
    "list_1 = [\"a\",\"b\"]\n",
    "list_2 = [1,2]"
   ]
  },
  {
   "cell_type": "code",
   "execution_count": 7,
   "metadata": {},
   "outputs": [],
   "source": [
    "permut = itertools.permutations(list_1, len(list_2)) "
   ]
  },
  {
   "cell_type": "code",
   "execution_count": 9,
   "metadata": {},
   "outputs": [
    {
     "data": {
      "text/plain": [
       "[('a', 'b'), ('b', 'a')]"
      ]
     },
     "execution_count": 9,
     "metadata": {},
     "output_type": "execute_result"
    }
   ],
   "source": [
    "list(permut)"
   ]
  },
  {
   "cell_type": "code",
   "execution_count": 32,
   "metadata": {},
   "outputs": [],
   "source": [
    "import itertools \n",
    "from itertools import product  \n",
    "from tqdm import tqdm"
   ]
  },
  {
   "cell_type": "code",
   "execution_count": 11,
   "metadata": {},
   "outputs": [
    {
     "name": "stdout",
     "output_type": "stream",
     "text": [
      "[[('b', 1), ('c', 1), ('d', 1)], [('b', 1), ('c', 1), ('d', 4)], [('b', 1), ('c', 1), ('d', 9)], [('b', 1), ('c', 4), ('d', 1)], [('b', 1), ('c', 4), ('d', 4)], [('b', 1), ('c', 4), ('d', 9)], [('b', 1), ('c', 9), ('d', 1)], [('b', 1), ('c', 9), ('d', 4)], [('b', 1), ('c', 9), ('d', 9)], [('b', 4), ('c', 1), ('d', 1)], [('b', 4), ('c', 1), ('d', 4)], [('b', 4), ('c', 1), ('d', 9)], [('b', 4), ('c', 4), ('d', 1)], [('b', 4), ('c', 4), ('d', 4)], [('b', 4), ('c', 4), ('d', 9)], [('b', 4), ('c', 9), ('d', 1)], [('b', 4), ('c', 9), ('d', 4)], [('b', 4), ('c', 9), ('d', 9)], [('b', 9), ('c', 1), ('d', 1)], [('b', 9), ('c', 1), ('d', 4)], [('b', 9), ('c', 1), ('d', 9)], [('b', 9), ('c', 4), ('d', 1)], [('b', 9), ('c', 4), ('d', 4)], [('b', 9), ('c', 4), ('d', 9)], [('b', 9), ('c', 9), ('d', 1)], [('b', 9), ('c', 9), ('d', 4)], [('b', 9), ('c', 9), ('d', 9)]]\n"
     ]
    }
   ],
   "source": [
    "# initilize lists \n",
    "list_1 = [\"b\",\"c\",\"d\"] \n",
    "list_2 = [1,4,9] \n",
    "  \n",
    "# create empty list to store the combinations \n",
    "unique_combinations = [] \n",
    "  \n",
    "# Extract Combination Mapping in two lists  \n",
    "# using zip() + product()  \n",
    "unique_combinations = list(list(zip(list_1, element)) for element in product(list_2, repeat = len(list_1))) \n",
    "  \n",
    "# printing unique_combination list  \n",
    "print(unique_combinations)"
   ]
  },
  {
   "cell_type": "code",
   "execution_count": 44,
   "metadata": {},
   "outputs": [],
   "source": [
    "A = [1,2,3,4,5,6,7,8,9]  "
   ]
  },
  {
   "cell_type": "code",
   "execution_count": 45,
   "metadata": {},
   "outputs": [
    {
     "data": {
      "text/plain": [
       "[1, 2, 3, 4]"
      ]
     },
     "execution_count": 45,
     "metadata": {},
     "output_type": "execute_result"
    }
   ],
   "source": [
    "A[0:4]"
   ]
  },
  {
   "cell_type": "code",
   "execution_count": 43,
   "metadata": {},
   "outputs": [
    {
     "name": "stderr",
     "output_type": "stream",
     "text": [
      " 72%|███████▏  | 26/36 [00:00<00:00, 1795.54it/s]"
     ]
    },
    {
     "name": "stdout",
     "output_type": "stream",
     "text": [
      "2 1\n",
      "3 1\n",
      "3 2\n",
      "4 1\n",
      "4 2\n",
      "4 3\n",
      "5 1\n",
      "5 2\n",
      "5 3\n",
      "5 4\n",
      "6 1\n",
      "6 2\n",
      "6 3\n",
      "6 4\n",
      "7 1\n",
      "7 2\n",
      "7 3\n",
      "7 4\n",
      "8 1\n",
      "8 2\n",
      "8 3\n",
      "8 4\n",
      "9 1\n",
      "9 2\n",
      "9 3\n",
      "9 4\n"
     ]
    },
    {
     "name": "stderr",
     "output_type": "stream",
     "text": [
      "\n"
     ]
    }
   ],
   "source": [
    "for i,j in tqdm(((x,y) for x in A for y in A[0:4] if x>y ), total =36):\n",
    "    print(i,j)"
   ]
  },
  {
   "cell_type": "code",
   "execution_count": 36,
   "metadata": {},
   "outputs": [],
   "source": [
    "#list(c)"
   ]
  },
  {
   "cell_type": "code",
   "execution_count": null,
   "metadata": {},
   "outputs": [],
   "source": []
  }
 ],
 "metadata": {
  "kernelspec": {
   "display_name": "Python 3",
   "language": "python",
   "name": "python3"
  },
  "language_info": {
   "codemirror_mode": {
    "name": "ipython",
    "version": 3
   },
   "file_extension": ".py",
   "mimetype": "text/x-python",
   "name": "python",
   "nbconvert_exporter": "python",
   "pygments_lexer": "ipython3",
   "version": "3.6.9"
  }
 },
 "nbformat": 4,
 "nbformat_minor": 4
}
