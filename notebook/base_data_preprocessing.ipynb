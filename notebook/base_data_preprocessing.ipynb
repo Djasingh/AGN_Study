{
 "cells": [
  {
   "cell_type": "code",
   "execution_count": 1,
   "metadata": {},
   "outputs": [],
   "source": [
    "import pandas as pd\n",
    "import json"
   ]
  },
  {
   "cell_type": "code",
   "execution_count": 2,
   "metadata": {},
   "outputs": [],
   "source": [
    "folder=\"base_data/\""
   ]
  },
  {
   "cell_type": "code",
   "execution_count": 3,
   "metadata": {},
   "outputs": [],
   "source": [
    "ment=pd.read_csv(folder+\"sodhganga_mentorship_dept_rev.csv\")"
   ]
  },
  {
   "cell_type": "code",
   "execution_count": 4,
   "metadata": {},
   "outputs": [],
   "source": [
    "ment.loc[ment[\"uniq_ddc_across_dept\"]==\"('',)\",'DepartmentId']=ment[ment[\"uniq_ddc_across_dept\"]==\"('',)\"]['N_DepartmentId_1']"
   ]
  },
  {
   "cell_type": "code",
   "execution_count": 5,
   "metadata": {},
   "outputs": [
    {
     "data": {
      "text/plain": [
       "Index(['advisorId', 'researcherId', 'advisor_name', 'researcher_name',\n",
       "       'date_submitted', 'dc.language.iso[]', 'publisher_dept',\n",
       "       'N_DepartmentId_1', 'publisher_institution', 'instituteId', 'title',\n",
       "       'thesisId', 'dc.type.degree', 'dc.date.awarded', 'dc.subject.ddc',\n",
       "       'dc.description.abstract', 'dc.title.alternative', 'N_DepartmentId',\n",
       "       'uniq_ddc_across_dept', 'DepartmentId'],\n",
       "      dtype='object')"
      ]
     },
     "execution_count": 5,
     "metadata": {},
     "output_type": "execute_result"
    }
   ],
   "source": [
    "ment.columns"
   ]
  },
  {
   "cell_type": "code",
   "execution_count": 6,
   "metadata": {},
   "outputs": [
    {
     "data": {
      "text/plain": [
       "(205220, 20)"
      ]
     },
     "execution_count": 6,
     "metadata": {},
     "output_type": "execute_result"
    }
   ],
   "source": [
    "ment.shape"
   ]
  },
  {
   "cell_type": "code",
   "execution_count": 7,
   "metadata": {},
   "outputs": [],
   "source": [
    "ment['previous_advisor_name']=ment['advisor_name']\n",
    "ment['date_submitted']=pd.to_datetime(ment['date_submitted'],errors='coerce')\n",
    "ment['dc.date.awarded']=pd.to_datetime(ment['dc.date.awarded'],errors='coerce')"
   ]
  },
  {
   "cell_type": "code",
   "execution_count": 8,
   "metadata": {},
   "outputs": [],
   "source": [
    "ment.loc[ment['advisor_name'].str.count(\",\")>1,'advisor_name']=ment[ment['advisor_name'].str.count(\",\")>1]['advisor_name'].str.replace(r\"[^\\u0000-\\u05C0\\u2100-\\u214F]+\",\"\")"
   ]
  },
  {
   "cell_type": "code",
   "execution_count": 9,
   "metadata": {},
   "outputs": [],
   "source": [
    "ment.loc[ment['advisor_name'].str.contains(\"\\(.*\\)\"),'advisor_name']=ment[ment['advisor_name'].str.contains(\"\\(.*\\)\")]['advisor_name'].str.replace(r\"\\(.*\\)\",\"\")"
   ]
  },
  {
   "cell_type": "code",
   "execution_count": 10,
   "metadata": {},
   "outputs": [],
   "source": [
    "#ment[ment['advisor_name'].str.contains('Ibraheem')]"
   ]
  },
  {
   "cell_type": "code",
   "execution_count": 11,
   "metadata": {},
   "outputs": [],
   "source": [
    "#ment.loc[{1366, 1390, 129114, 129115, 129133, 129396, 129436, 184906}]['advisor_name']"
   ]
  },
  {
   "cell_type": "code",
   "execution_count": 12,
   "metadata": {},
   "outputs": [],
   "source": [
    "name_wit_and=[\"Andrea\",\"Andrew\",\"Andotra\",'Andre',\"Andal\"]"
   ]
  },
  {
   "cell_type": "code",
   "execution_count": 13,
   "metadata": {},
   "outputs": [],
   "source": [
    "name_correction_dict = {'Asif Husain, Shahar Yar, Mohammad':'Asif Husain; Shahar Yar, Mohammad',\n",
    "'Ahmad, Farhan Jalees, Zeenat Iqbal':'Ahmad, Farhan Jalees; Zeenat Iqbal',\n",
    "'Aldous, V. Huxley, J.':'V. Aldous J. Huxley',\n",
    "'Ali, Saaduz, Zafar':\"Saaduz Zafar Ali\",\n",
    "'Aravindakumar, C. T% Usha, K.':'Aravindakumar, C. T; Usha, K.',\n",
    "'Arunachalam, Nand Ramanujam, N.':'Arunachalam, N; Ramanujam, N.',\n",
    "'Asha Sharma, Gaurav Sharma, Pushpa Mehta':'Asha Sharma; Gaurav Sharma; Pushpa Mehta',\n",
    "'Bais, V. S. Nad Soni, N. K.':'Bais, V. S. ; Soni, N. K.',\n",
    "'Biju, P. R% Unnikrishnan, N. V.':'Biju, P. R; Unnikrishnan, N. V.',\n",
    "'Chacko, Km , Sarwat Sultana':'Chacko, Km ; Sarwat Sultana',\n",
    "'Chandrakumar, P. S. Amd Mohan, S.':'Chandrakumar, P. S.; Mohan, S.',\n",
    "'Chatterjee, N. C, Dutta Sikha':'Chatterjee, N. C; Dutta Sikha',\n",
    "'Chhabra, Ravi Kand Banerjee, B. D.':'Chhabra, Ravi K ; Banerjee, B. D.',\n",
    "'Dar, Abid Hamid, Shakir Ali':'Dar, Abid Hamid; Shakir Ali',\n",
    "'Dubey, Chandra Dattnd Singh, Gajendra Pal':'Dubey, Chandra Datt ; Singh, Gajendra Pal',\n",
    "'Gayatri Rath, Sunita Saxena, Ranju Ralhan':'Gayatri Rath; Sunita Saxena; Ranju Ralhan',\n",
    "'Hadrikar, Kalyani, Anand':'Hadrikar, Kalyani Anand',\n",
    "'James, F. Daniel, R.':'James, F. ; Daniel, R.',\n",
    "'Joseph, Cyriac% Unnikrishnan, N. V.':'Joseph, Cyriac; Unnikrishnan, N. V.',\n",
    "'Jyothi P, Gulati, P.':'Jyothi P; Gulati, P.',\n",
    "'Kalarikkal, Nandakumar% Thomas, Sabu':'Kalarikkal, Nandakumar; Thomas, Sabu',\n",
    "'Kamili, Azra N, Ruqeya Nazir':'Kamili, Azra N; Ruqeya Nazir',\n",
    "'Kavita Khanna; Akansha Singh; Gaurav Gupta':'Kavita Khanna, Akansha Singh, Gaurav Gupta',\n",
    "'Kjmahale, Mtarinayya, Ir Babu Singh':'Kjmahale; Mtarinayya Ir; Babu Singh',\n",
    "'Kohli, Kanchan, Mushir Ali':'Kohli, Kanchan; Mushir Ali',\n",
    "'Kumaria, Suman Tandon, Pramod':'Kumaria, Suman; Tandon, Pramod',\n",
    "'Kurian, Thomas Alex, Rosamma':'Kurian, Thomas; Alex, Rosamma',\n",
    "'Lohani, Mohtashim, Qamar Rehman':'Lohani, Mohtashim; Qamar Rehman',\n",
    "'Maan, A. Sand Goyal, D. R.':'Maan, A. S ; Goyal, D. R.',\n",
    "'Maheshwari, H. Sand Jain, Subodhkumar':'Maheshwari, H. S ; Jain, Subodhkumar',\n",
    "'Meyyanathan, S, N.':'Meyyanathan, S. N.',\n",
    "'Najmi, Abul Kalam, Sayeed Ahmad':'Najmi, Abul Kalam; Sayeed Ahmad',\n",
    "'Pal, Sc , Ritu Gilthotra':'Pal, Sc ; Ritu Gilthotra',\n",
    "'Prasad, Gbks Co-gudie Vijayaraghavan, R.':'Prasad, Gbks ; Vijayaraghavan, R.',\n",
    "'Pujari, A. K. Kannan V. Ashutosh Gulati, V. P.':'Pujari, A. K.; Kannan V.; Saxena, Ashutosh; Gulati, V. P.',\n",
    "'Pujari, A. K. Saxena, Ashutosh Gulati, V. P.':'Pujari, A. K.; Saxena, Ashutosh; Gulati, V. P.',\n",
    "'Ramachandra Panikkar, K% Mukkadan, J. K.':'Ramachandra Panikkar, K; Mukkadan, J. K.',\n",
    "'Ramakrishna Rao, Band Madhusudhana Rao, M.':'Ramakrishna Rao, B ; Madhusudhana Rao, M.',\n",
    "'Rao, Rama S. Tandon, Pramod':'Rao, Rama S.; Tandon, Pramod',\n",
    "'Rk Manohar, Sudhinder Singh Chowhan, Ibrahim Yahaya':'Rk Manohar; Sudhinder Singh Chowhan; Ibrahim Yahaya',\n",
    "'Sadaf Siraj, Ravichandran, N.':'Sadaf Siraj; Ravichandran, N.',\n",
    "'Sayeed Ahmad, Husain, Syed Akhtar':'Sayeed Ahmad; Husain, Syed Akhtar',\n",
    "'Shakir Ali, Tandon, Monika':'Shakir Ali; Tandon, Monika',\n",
    "'Sheeba Fareed, Siddiqui, Hh':'Sheeba Fareed; Siddiqui, Hh',\n",
    "'Sheeba Farid, Siddiqui, Hh':'Sheeba Fareed; Siddiqui, Hh',\n",
    "'Shivakumar, S, Chengti':'Shivakumar; S, Chengti',\n",
    "'Shobha Das, Mohammad Fahim, Jagdish Prasad':'Shobha Das; Mohammad Fahim; Jagdish Prasad',\n",
    "'Siddiqui, Waseem Ahmad, Mohd Mujeeb':'Siddiqui, Waseem Ahmad; Mohd Mujeeb',\n",
    "'Singh, Surendra Pal , Dharminder Kumar':'Singh, Surendra Pal ; Dharminder Kumar',\n",
    "'Syad, Asif Ali Haleem, Abid':'Syad, Asif Ali; Haleem, Abid',\n",
    "'Thomas, Sabu% Kalarikkal, Nandakumar':'Thomas, Sabu; Kalarikkal, Nandakumar',\n",
    "'Thomas, Sabu% Mathew, Suresh':'Thomas, Sabu; Mathew, Suresh',\n",
    "'Tiwari, Vivekanand Pandey, Ganga Prasad':'Tiwari, Vivekanand ;Pandey, Ganga Prasad',\n",
    "'Tomar, Rajesh Singh Prasad, G. B. K. S.':'Tomar, Rajesh Singh; Prasad, G. B. K. S.',\n",
    "'Vaishnavi, Samanthaand Singh, Shashank K.':'Vaishnavi, Samantha; Singh, Shashank K.',\n",
    "'Yogesh Chandra Sharma, K. J. Rangra, Vaibhav Neema':'Yogesh Chandra Sharma; K. J. Rangra; Vaibhav Neema',\n",
    "'Zafar, Sm Tariq Gupta, Parul':'Zafar, Sm Tariq; Gupta, Parul',\n",
    "'Rajeev Kumar , K. , Jayaraj Mk':'Rajeev Kumar , K. ; Jayaraj Mk',\n",
    "'Azmi, Feza Tavassaum Kumar, Ravindra':'Azmi, Feza Tavassaum ; Kumar, Ravindra',\n",
    "'Nitin Malik, A. N. Jha, B. K. Panigrahi':'Nitin Malik ; A. N. Jha ; B. K. Panigrahi',\n",
    "'Kavita Khanna, Akansha Singh, Gaurav Gupta':'Kavita Khanna; Akansha Singh; Gaurav Gupta',\n",
    "'Janbu, M. Pharm, Phd': 'Janbu, M.',\n",
    "'Tomar, R. S. Singh, R. K.': 'Tomar, R. S.; Singh, R. K.',\n",
    "'Kumud Upadhyaya, Kumau University, Bhimtal Nanital Uknv Satheesh Madhav, Director, Faculty Of Pharmacy, Dituniversity Dehradun, Uk':'Kumud Upadhyaya; Satheesh Madhav',\n",
    "'Agarwal, P, Rajendra, Tipathi, S, P, 06':'Agarwal, P. Rajendra; Tipathi, S. P. ',\n",
    "'Vankar, R. H. Sneh Swarup':'Vankar, R. H. ; Sneh Swarup',\n",
    "'Ramesh V. , Umashankars':'Ramesh V. ; Umashankar S.',\n",
    "'Mathew, Linu Augustine Jomy':'Mathew, Linu; Augustine Jomy',\n",
    "'Mathew, Linu Padmakumar K. G.':'Mathew, Linu; Padmakumar K. G.',\n",
    "'Gayatri Rath, Sunita Saxena':'Gayatri Rath; Sunita Saxena',\n",
    "'Arora, Sunita, Ratna':'Arora, Sunita; Ratna',\n",
    "'Nagaraj Bn, Prasad Vs':'Nagaraj Bn; Prasad Vs',\n",
    "'Vjzacharias, Sabu K. Thomas':'Vjzacharias; Sabu K. Thomas',\n",
    "'Vjzacharias, Tm Benny':'Vjzacharias; Tm Benny',\n",
    "'Mathew, Linu Augustine Jomy':'Mathew, Linu; Augustine Jomy',\n",
    "'Mathew, Linu Padmakumar K. G.':'Mathew, Linu ; Padmakumar K. G.',\n",
    "'Alimuddin, Ravi Kumar':'Alimuddin; Ravi Kumar',\n",
    "\"Sony Kumari, Akhilesh K. B, Nagendra H. R.\":'Sony Kumari; Akhilesh K. B; Nagendra H. R.',\n",
    "'Epurushothaman, Gunnikrishnan':'Epurushothaman; Gunnikrishnan',\n",
    "'Cjanardanan, Kkaravindakshan':'Cjanardanan; Kkaravindakshan',\n",
    "'Srivastava Deepak Chugan P. K.':'Srivastava Deepak; Chugan P. K.',\n",
    "'Lourthusamy S. S. Epanesar, S.':'Lourthusamy S. S.; Epanesar, S.',\n",
    "'Jangra, Gulabchand K. Gupta Surender':'Gulabchand K. Gupta; Surender Jangra',\n",
    "'C. Renuka, Msivadasan':'C. Renuka; Msivadasan',\n",
    "'Sony Kumari, Akhilesh K. B, Nagendra H. R.':'Sony Kumari; Akhilesh K. B; Nagendra H. R.',\n",
    "'Panikkar, Radhakrishna Pillai M. Ramachandra':'Radhakrishna Pillai M.; Ramachandra Panikkar',\n",
    "'Karanth Prathibha, Rajashekar B.':'Karanth Prathibha; Rajashekar B.',\n",
    "'Y. Narasimha Reddy, Gv Subba Reddy':'Y. Narasimha Reddy; Gv Subba Reddy',\n",
    "'Biplab De, N. Devanna':'Biplab De; N. Devanna',\n",
    "'Vikas Hooda, Priyanka Siwach':'Vikas Hooda; Priyanka Siwach',\n",
    "'Mohan, R. Manivel, M.':'Mohan, R.; Manivel, M.',\n",
    "'Mewada Raju, Devashrayee N. M.':'Mewada Raju; Devashrayee N. M.',\n",
    "'Sayeed Ahmad, Mohd Mujeeb':'Sayeed Ahmad; Mohd Mujeeb',\n",
    "'Gupta, Krishna Prabha , Sarwat Sultana':'Gupta, Krishna Prabha ; Sarwat Sultana',\n",
    "'Gayatri Rath, Ranju Ralhan':'Gayatri Rath; Ranju Ralhan',\n",
    "'Gaurav Sharma, Rajesh Kumar Yadav':'Gaurav Sharma; Rajesh Kumar Yadav',\n",
    "'Ritu M. Gilhotra, Dhanajay B. Meshram':'Ritu M. Gilhotra; Dhanajay B. Meshram',\n",
    "'Kr Dayas, Kkrishnankutty':'Kr Dayas; Kkrishnankutty',\n",
    "'C. Renuka, Aleyamma Thomas':'C. Renuka; Aleyamma Thomas',\n",
    "'Das M. R. Karunagaran D.':'Das M. R.; Karunagaran D.',\n",
    "'Bhoraskar, Dhole Sanjay D.':'V.N. Bhoraskar; Dhole Sanjay D.',\n",
    "'Singh Lokendra, Kalita Mc':'Singh Lokendra; Kalita Mc',\n",
    "'Rajkhowa Pranjan, Saikia Helen K.':'Rajkhowa Pranjan; Saikia Helen K.',\n",
    "\"Mohan Girish, K. S.\":\"Mohan; Girish, K. S.\",\n",
    "\"Gireesha B. J. , Bagewadi C. S.\":\"Gireesha B. J. ; Bagewadi C. S.\",\n",
    "\"Narasimhamurthy S. K. Bagewadi C. S.\":\"Narasimhamurthy S. K.; Bagewadi C. S.\",\n",
    "\"Venkatesha , Bagewadi C. S.\":\"Venkatesha ; Bagewadi C. S.\",\n",
    "\"Snmamle Desai, Girendra Gautam\":\"Snmamle Desai; Girendra Gautam\",\n",
    "\"Jalalpure Ss , Girendra Gautam\":\"Jalalpure Ss ; Girendra Gautam\",\n",
    "'B. Arul, Girendra Gautam':'B. Arul; Girendra Gautam',\n",
    "\"Anurag, Girendra Gautam\":'Anurag; Girendra Gautam',\n",
    "'Mandev B. Patel, Girendra Gautam':'Mandev B. Patel; Girendra Gautam',\n",
    "'Jalalpure Ss , Girendra Gautam':'Jalalpure Ss ; Girendra Gautam',\n",
    "'B. Arul, Girendra Gautam':'B. Arul; Girendra Gautam',\n",
    "'Gaurav Sharma , Nakuleshwar Dut Jasuja':'Gaurav Sharma ; Nakuleshwar Dut Jasuja',\n",
    "'Gaurav Sharma, Nakuleshwar Dut Jasuja':'Gaurav Sharma; Nakuleshwar Dut Jasuja',\n",
    "'Ravindra Pal Singh, Gn Darwhekar':'Ravindra Pal Singh; Gn Darwhekar',\n",
    "'Ravindra Pal Singh, Mousumi Kar':'Ravindra Pal Singh; Mousumi Kar',\n",
    "'Ravindra Pal Singh, G. Vidyasagar':'Ravindra Pal Singh; G. Vidyasagar',\n",
    "'Krishna Chandra Roy, Dinesh Goyal':'Krishna Chandra Roy; Dinesh Goyal',\n",
    "'Sanjay Singla , Dinesh Goyal':'Sanjay Singla ; Dinesh Goyal',\n",
    "'Baldev Singh, Ripu Ranjan Sinha':'Baldev Singh; Ripu Ranjan Sinha',\n",
    "'Ripu Ranjan Sinha, Pc Gupta':'Ripu Ranjan Sinha; Pc Gupta',\n",
    "'Srinivasan T. M, Alex Hankey':'Srinivasan T. M; Alex Hankey',\n",
    "'Sony Kumari, Akhilesh K. B.':'Sony Kumari; Akhilesh K. B.',\n",
    "'V. Rama Mohan Gupta, N. Devanna':'V. Rama Mohan Gupta; N. Devanna',\n",
    "'Y. Padmanabha Reddy, N. Devanna':'Y. Padmanabha Reddy; N. Devanna',\n",
    "'V. Rama Mohan Gupta, N. Devanna':'V. Rama Mohan Gupta; N. Devanna',\n",
    "'Kand Rath, P. C.':'Bamezai, R N K ; Rath, P C'\n",
    "}"
   ]
  },
  {
   "cell_type": "code",
   "execution_count": 14,
   "metadata": {},
   "outputs": [
    {
     "data": {
      "text/plain": [
       "123"
      ]
     },
     "execution_count": 14,
     "metadata": {},
     "output_type": "execute_result"
    }
   ],
   "source": [
    "len(name_correction_dict)"
   ]
  },
  {
   "cell_type": "code",
   "execution_count": 15,
   "metadata": {},
   "outputs": [],
   "source": [
    "with open(folder+'name_mapping_manually.txt', 'w') as outfile:\n",
    "    json.dump(name_correction_dict, outfile)"
   ]
  },
  {
   "cell_type": "code",
   "execution_count": 16,
   "metadata": {},
   "outputs": [],
   "source": [
    "ment.replace({\"advisor_name\": name_correction_dict},inplace=True)"
   ]
  },
  {
   "cell_type": "code",
   "execution_count": 17,
   "metadata": {},
   "outputs": [],
   "source": [
    "name_with_correct_and=['Randhawa Gurinderjit','Sahastrabudhe','Shrivastava Rk','Sharma, Bk',\"Bhadauria Rekha\",'Prasad Gbks',\n",
    "              'Srivastava Nalini','kamala Devi','Rc Chhipa','Dhakad, Rk','Goswami, Dn']"
   ]
  },
  {
   "cell_type": "code",
   "execution_count": 18,
   "metadata": {},
   "outputs": [],
   "source": [
    "remove=[\",Mcom, Mba, Mphil, Phd,\",\n",
    "\"Associate , Doon University, Dehradun\",\n",
    "'Mcom, Mba, Mphil',\n",
    "'Head, Department Of Applied Sciences, Gl Bajaj Institute Of Technology',\n",
    "\"Former Scientist, Defence Electronics Application Lab, Drdo, Dehradun\",\n",
    "\"Usic, Hnbgu, Srinagar-garhwal\",\n",
    "\"Dit Dehradun Pattnaik Ss, Nitttr , Chandigarh\",\n",
    "\"Kumau University, Bhimtal Nanital Uknv\",\n",
    "\"Director, Faculty Of Pharmacy, Dituniversity Dehradun, Uk\",\n",
    "\"Director Institute Of Technology, Gopeshwar, Uttarakhand\"\n",
    "\"Bt Kumaon Institute Of Technology, Dwarahat\",\n",
    "\"Mechanical Engineering Department Hbtu, Kanpur\",\n",
    "\"Mechanical Engineering Department Dtu, New Delhi\",\n",
    "\"Phd,\",\n",
    "\"Department\",\n",
    "\"Mpharm,* Phd,*\",\n",
    "\"Director Institute Of Technology, Gopeshwar, Uttarakhand\",\n",
    "\"Msc, M. Phil, Ph D\",\n",
    "\"À¤¡à¤¿à¤¸à¥à¤à¤¾, À¤à¤à¤¦à¥à¤°à¤²à¥à¤à¤¾ À¤à¤° À¤­à¥à¤à¤¬à¥à¤°à¥ , À¤à¤¦à¤¯\",\n",
    "\"À¤¡à¤¿à¤¸à¥à¤à¤¾; À¤à¤à¤¦à¥à¤°à¤²à¥à¤à¤¾ À¤à¤° À¤­à¥à¤à¤¬à¥à¤°à¥ , À¤à¤¦à¤¯\",\n",
    "\"À¤¸à¤°à¤¦à¥à¤¸à¤¾à¤¯, À¤®à¤¾à¤§à¤µà¥ À¤à¤° À¤­à¥à¤à¤¬à¥à¤°à¥, À¤à¤¦à¤¯\",\n",
    "\"À¤¸à¤°à¤¦à¥à¤¸à¤¾à¤¯; À¤®à¤¾à¤§à¤µà¥ À¤à¤° À¤­à¥à¤à¤¬à¥à¤°à¥, À¤à¤¦à¤¯\",\n",
    "\"Àª®àª¿àª¸à«\\x8dàª¤à«\\x8dàª°à«\\x80, Àª®àª¿àª²àª¨ Àª\\x9fà«\\x80\",\n",
    "\"À¤¡à¤¿à¤¸à¥\\x8cà¤\\x9dà¤¾, À¤\\x9aà¤¾à¤\\x82à¤¦à¥\\x8dà¤°à¤²à¥\\x87à¤\\x96à¤¾\",\n",
    "\"À¤¡à¤¿à¤¸à¥\\x8cà¤\\x9dà¤¾, À¤\\x9aà¤\\x82à¤¦à¥\\x8dà¤°à¤²à¥\\x87à¤\\x96à¤¾\",\n",
    "\"Àª¸àª°àª¦àª¾àª°, Àª\\x8fàª\\x9aàª¸à«\\x80\",\n",
    "\"À¤\\x9aà¤¤à¥\\x81à¤°à¥\\x8dà¤µà¥\\x87à¤¦à¥\\x80 À¤¶à¥\\x81à¤\\x95à¤¦à¥\\x87à¤µ\",\n",
    "'à¤°à¤¾à¤\\x9cà¤\\x95à¥\\x81à¤®à¤¾à¤°à¤¦à¥\\x8dà¤°à¤¿à¤µà¥\\x87à¤¦à¤¿',\n",
    "\"Bt Kumaon Institute Of Technology, Dwarahat\",\n",
    "\"Â\\x80\\x98rohitshvaâ\\x80\\x99\",\n",
    "\"à¤µà¤¿à¤¶à¤¨à¤²à¤¾à¤² À¤\\x97à¥\\x8cà¤¡à¤¼ À¤µà¥\\x8dà¤¯à¥\\x8bà¤®à¥\\x8dà¤¶à¥\\x87à¤\\x96à¤°\",\n",
    "\"Aà®£à¯\\x8dà®\\x9fà¯\\x81à®°à®\\x99à¯\\x8dà®\\x95à®©à¯\\x8d, À®\",\n",
    "\"Aà®ªà®¾à®£à¯\\x8dà®\\x9fà¯\\x81à®°à®\\x99à¯\\x8dà®\\x95à®©à¯\\x8d, À®\",\n",
    "\"Eee\"\n",
    "]"
   ]
  },
  {
   "cell_type": "code",
   "execution_count": 19,
   "metadata": {},
   "outputs": [],
   "source": [
    "with open(folder+'remove_from_names.txt', 'w') as outfile:\n",
    "    json.dump(remove, outfile)"
   ]
  },
  {
   "cell_type": "code",
   "execution_count": 20,
   "metadata": {},
   "outputs": [],
   "source": [
    "spliter=['Co-guideand',\"Guide:?\",\"Co-*supervisor:?\", \"/\", \"Co-*supv-\",\"Co-*guide\",\"Co\\s*Supervisor\",\"Co\\s*-?guide\",\"Co\\s*Guide\",\"Co-\\s*Guide\",\"Co-*Supervisor\"]"
   ]
  },
  {
   "cell_type": "code",
   "execution_count": 21,
   "metadata": {},
   "outputs": [],
   "source": [
    "regex_pat1=\"|\".join(spliter)"
   ]
  },
  {
   "cell_type": "code",
   "execution_count": 22,
   "metadata": {},
   "outputs": [],
   "source": [
    "regex_pat='|'.join(remove)"
   ]
  },
  {
   "cell_type": "code",
   "execution_count": 23,
   "metadata": {},
   "outputs": [
    {
     "data": {
      "text/plain": [
       "(205220, 21)"
      ]
     },
     "execution_count": 23,
     "metadata": {},
     "output_type": "execute_result"
    }
   ],
   "source": [
    "ment.shape"
   ]
  },
  {
   "cell_type": "code",
   "execution_count": 24,
   "metadata": {},
   "outputs": [],
   "source": [
    "#index1=ment[ment['advisor_name'].str.contains(r'\\sAnd\\s?',case=False)]['advisor_name'].index"
   ]
  },
  {
   "cell_type": "code",
   "execution_count": 25,
   "metadata": {},
   "outputs": [],
   "source": [
    "#set(index1)-set(index2)"
   ]
  },
  {
   "cell_type": "code",
   "execution_count": 26,
   "metadata": {},
   "outputs": [],
   "source": [
    "ment['advisor_name']=ment['advisor_name'].str.replace(regex_pat,\"\",regex=True)"
   ]
  },
  {
   "cell_type": "code",
   "execution_count": 27,
   "metadata": {},
   "outputs": [],
   "source": [
    "ment['advisor_name']=ment['advisor_name'].str.replace(regex_pat1,\" And \",regex=True)"
   ]
  },
  {
   "cell_type": "code",
   "execution_count": 28,
   "metadata": {},
   "outputs": [
    {
     "data": {
      "text/html": [
       "<div>\n",
       "<style scoped>\n",
       "    .dataframe tbody tr th:only-of-type {\n",
       "        vertical-align: middle;\n",
       "    }\n",
       "\n",
       "    .dataframe tbody tr th {\n",
       "        vertical-align: top;\n",
       "    }\n",
       "\n",
       "    .dataframe thead th {\n",
       "        text-align: right;\n",
       "    }\n",
       "</style>\n",
       "<table border=\"1\" class=\"dataframe\">\n",
       "  <thead>\n",
       "    <tr style=\"text-align: right;\">\n",
       "      <th></th>\n",
       "      <th>previous_advisor_name</th>\n",
       "      <th>advisor_name</th>\n",
       "    </tr>\n",
       "  </thead>\n",
       "  <tbody>\n",
       "    <tr>\n",
       "      <th>81795</th>\n",
       "      <td>Ali Hasan Co Supervisor Khan, Ra</td>\n",
       "      <td>Ali Hasan  And  Khan, Ra</td>\n",
       "    </tr>\n",
       "  </tbody>\n",
       "</table>\n",
       "</div>"
      ],
      "text/plain": [
       "                  previous_advisor_name              advisor_name\n",
       "81795  Ali Hasan Co Supervisor Khan, Ra  Ali Hasan  And  Khan, Ra"
      ]
     },
     "execution_count": 28,
     "metadata": {},
     "output_type": "execute_result"
    }
   ],
   "source": [
    "ment[ment[\"previous_advisor_name\"].str.contains(\"Ali Hasan Co Supervisor Khan, Ra\")][['previous_advisor_name',\"advisor_name\"]]"
   ]
  },
  {
   "cell_type": "code",
   "execution_count": 29,
   "metadata": {},
   "outputs": [],
   "source": [
    "ment.loc[ment['advisor_name'].str.contains(r'\\sAnd\\s?',case=False),'advisor_name']=ment[ment['advisor_name'].str.contains(r'\\sAnd\\s?',case=False)]['advisor_name'].str.strip().str.replace(r'^And\\s',\"\")\n",
    "ment.loc[ment['advisor_name'].str.contains(r'\\sAnd\\s?',case=False),'advisor_name']=ment[ment['advisor_name'].str.contains(r'\\sAnd\\s?',case=False)]['advisor_name'].str.strip(' :')"
   ]
  },
  {
   "cell_type": "code",
   "execution_count": 30,
   "metadata": {},
   "outputs": [],
   "source": [
    "#ment[ment['advisor_name'].str.contains(r'\\sAnd\\s?',case=False)]['advisor_name']"
   ]
  },
  {
   "cell_type": "code",
   "execution_count": 31,
   "metadata": {},
   "outputs": [
    {
     "data": {
      "text/plain": [
       "(205220, 21)"
      ]
     },
     "execution_count": 31,
     "metadata": {},
     "output_type": "execute_result"
    }
   ],
   "source": [
    "ment.shape"
   ]
  },
  {
   "cell_type": "code",
   "execution_count": 32,
   "metadata": {},
   "outputs": [],
   "source": [
    "def preprocessing(name):\n",
    "    tmp=[a in name for a in name_wit_and]\n",
    "    if any(tmp):\n",
    "        return \"not_include\"\n",
    "    elif any([a in name for a in name_with_correct_and]):\n",
    "        flag=True\n",
    "    else:\n",
    "        name = name.split(\"And\")\n",
    "        flag=True\n",
    "        if \",\" in name[-1]:\n",
    "            flag=True\n",
    "        elif \" \" in name[0]:\n",
    "            comma_part=name[0].split(\" \")\n",
    "            if \",\" in comma_part[0]:\n",
    "                flag=False\n",
    "        else:\n",
    "            flag=True\n",
    "    return flag"
   ]
  },
  {
   "cell_type": "code",
   "execution_count": 33,
   "metadata": {},
   "outputs": [],
   "source": [
    "#ment.loc[{1366, 1390, 129114, 129115, 129133, 129396, 129436, 184906}]['advisor_name']"
   ]
  },
  {
   "cell_type": "code",
   "execution_count": 34,
   "metadata": {},
   "outputs": [],
   "source": [
    "ment['and_order_correct']=ment[ment['advisor_name'].str.contains(r'\\sAnd\\s?',case=False)]['advisor_name'].apply(lambda x : preprocessing(x))"
   ]
  },
  {
   "cell_type": "code",
   "execution_count": 35,
   "metadata": {},
   "outputs": [],
   "source": [
    "#ment[ment['advisor_name'].str.contains(r'\\sAnd[a-zA-z]+',case=False)]['advisor_name']"
   ]
  },
  {
   "cell_type": "code",
   "execution_count": 36,
   "metadata": {},
   "outputs": [],
   "source": [
    "#preprocessing('Patel, Rakeshkumar Jat And Vishnu Motilal')"
   ]
  },
  {
   "cell_type": "code",
   "execution_count": 37,
   "metadata": {},
   "outputs": [],
   "source": [
    "#ment[ment['and_order_correct']==False]['advisor_name'].values"
   ]
  },
  {
   "cell_type": "code",
   "execution_count": 38,
   "metadata": {},
   "outputs": [],
   "source": [
    "tmp2=pd.DataFrame()"
   ]
  },
  {
   "cell_type": "code",
   "execution_count": 39,
   "metadata": {},
   "outputs": [],
   "source": [
    "tmp2[['last','first']]=ment[ment['and_order_correct']==False]['advisor_name'].str.split(',',n=1,expand=True)"
   ]
  },
  {
   "cell_type": "code",
   "execution_count": 40,
   "metadata": {},
   "outputs": [],
   "source": [
    "tmp2[['last','first']]=tmp2[['last','first']].fillna(\"\")"
   ]
  },
  {
   "cell_type": "code",
   "execution_count": 41,
   "metadata": {},
   "outputs": [],
   "source": [
    "ment.loc[ment['and_order_correct']==False,'advisor_name']=tmp2['first']+\" \"+tmp2['last']"
   ]
  },
  {
   "cell_type": "code",
   "execution_count": 42,
   "metadata": {},
   "outputs": [],
   "source": [
    "#ment.loc[~(ment['and_order_correct'].isnull()),'advisor_name']=ment[~(ment['and_order_correct'].isnull())]['advisor_name'].str.strip()"
   ]
  },
  {
   "cell_type": "code",
   "execution_count": 43,
   "metadata": {},
   "outputs": [],
   "source": [
    "#ment[ment['and_order_correct']==True]['advisor_name'].values"
   ]
  },
  {
   "cell_type": "code",
   "execution_count": 44,
   "metadata": {},
   "outputs": [],
   "source": [
    "#ment[ment['advisor_name'].str.contains(r'\\sAnd\\s?') & (ment['and_order_correct']==False)]['advisor_name']"
   ]
  },
  {
   "cell_type": "code",
   "execution_count": 45,
   "metadata": {},
   "outputs": [],
   "source": [
    "#ment[(ment['and_order_correct']==\"not_include\")]['advisor_name'"
   ]
  },
  {
   "cell_type": "code",
   "execution_count": 46,
   "metadata": {},
   "outputs": [],
   "source": [
    "# def set_gap_wit_and(name):\n",
    "#     if type(name)==str:\n",
    "#         name=re.sub(r\"(And)\",r\"\\1;\\2\\3\",name)\n",
    "#     return name"
   ]
  },
  {
   "cell_type": "code",
   "execution_count": 47,
   "metadata": {},
   "outputs": [],
   "source": [
    "ment.loc[ment['and_order_correct']==False,'advisor_name']=ment[ment['and_order_correct']==False]['advisor_name'].str.strip().str.replace(r'^And\\s',\"\")"
   ]
  },
  {
   "cell_type": "code",
   "execution_count": 48,
   "metadata": {},
   "outputs": [],
   "source": [
    "ment.loc[(ment['and_order_correct'].isin([True, False])),'advisor_name']=ment[(ment['and_order_correct'].isin([True, False]))]['advisor_name'].str.replace(\"And\",\";\")"
   ]
  },
  {
   "cell_type": "code",
   "execution_count": 49,
   "metadata": {},
   "outputs": [],
   "source": [
    "ment['advisor_name']=ment['advisor_name'].replace('%',';')"
   ]
  },
  {
   "cell_type": "code",
   "execution_count": 50,
   "metadata": {},
   "outputs": [],
   "source": [
    "tmp = ment['advisor_name'].str.split(';').apply(pd.Series, 1).stack()\n",
    "tmp.index = tmp.index.droplevel(-1)\n",
    "tmp.name = 'advisor_name'\n",
    "ment.drop([\"advisor_name\"],inplace=True, axis=1)\n",
    "ment=ment.join(tmp)\n",
    "ment.reset_index(drop=True, inplace=True)"
   ]
  },
  {
   "cell_type": "code",
   "execution_count": 51,
   "metadata": {},
   "outputs": [
    {
     "data": {
      "text/html": [
       "<div>\n",
       "<style scoped>\n",
       "    .dataframe tbody tr th:only-of-type {\n",
       "        vertical-align: middle;\n",
       "    }\n",
       "\n",
       "    .dataframe tbody tr th {\n",
       "        vertical-align: top;\n",
       "    }\n",
       "\n",
       "    .dataframe thead th {\n",
       "        text-align: right;\n",
       "    }\n",
       "</style>\n",
       "<table border=\"1\" class=\"dataframe\">\n",
       "  <thead>\n",
       "    <tr style=\"text-align: right;\">\n",
       "      <th></th>\n",
       "      <th>previous_advisor_name</th>\n",
       "      <th>advisor_name</th>\n",
       "    </tr>\n",
       "  </thead>\n",
       "  <tbody>\n",
       "    <tr>\n",
       "      <th>153960</th>\n",
       "      <td>Rai, Gp Co-guide Jaiswal, Yk</td>\n",
       "      <td>Rai, Gp</td>\n",
       "    </tr>\n",
       "    <tr>\n",
       "      <th>153961</th>\n",
       "      <td>Rai, Gp Co-guide Jaiswal, Yk</td>\n",
       "      <td>Jaiswal, Yk</td>\n",
       "    </tr>\n",
       "    <tr>\n",
       "      <th>153992</th>\n",
       "      <td>Arora, Meera Co-guide Shukla, Veena</td>\n",
       "      <td>Arora, Meera</td>\n",
       "    </tr>\n",
       "    <tr>\n",
       "      <th>153993</th>\n",
       "      <td>Arora, Meera Co-guide Shukla, Veena</td>\n",
       "      <td>Shukla, Veena</td>\n",
       "    </tr>\n",
       "    <tr>\n",
       "      <th>154287</th>\n",
       "      <td>Guide: Rajini, P. S.</td>\n",
       "      <td>Rajini, P. S.</td>\n",
       "    </tr>\n",
       "    <tr>\n",
       "      <th>154288</th>\n",
       "      <td>Muralidhara, Co-guide:</td>\n",
       "      <td>Muralidhara</td>\n",
       "    </tr>\n",
       "    <tr>\n",
       "      <th>155532</th>\n",
       "      <td>Singh, Ritesh B. Patel / Ravindra Pal</td>\n",
       "      <td>Ritesh B. Patel</td>\n",
       "    </tr>\n",
       "    <tr>\n",
       "      <th>155533</th>\n",
       "      <td>Singh, Ritesh B. Patel / Ravindra Pal</td>\n",
       "      <td>Ravindra Pal Singh</td>\n",
       "    </tr>\n",
       "    <tr>\n",
       "      <th>155546</th>\n",
       "      <td>Amnekar, Ritu M. Gilhotra/ Nd</td>\n",
       "      <td>Ritu M. Gilhotra</td>\n",
       "    </tr>\n",
       "    <tr>\n",
       "      <th>155547</th>\n",
       "      <td>Amnekar, Ritu M. Gilhotra/ Nd</td>\n",
       "      <td>Nd Amnekar</td>\n",
       "    </tr>\n",
       "    <tr>\n",
       "      <th>155548</th>\n",
       "      <td>Kohali, Ritu M. Gilhotra/ Seema</td>\n",
       "      <td>Ritu M. Gilhotra</td>\n",
       "    </tr>\n",
       "    <tr>\n",
       "      <th>155549</th>\n",
       "      <td>Kohali, Ritu M. Gilhotra/ Seema</td>\n",
       "      <td>Seema Kohali</td>\n",
       "    </tr>\n",
       "    <tr>\n",
       "      <th>155569</th>\n",
       "      <td>Rkjat, Co-supervisor: Rc Chhipa</td>\n",
       "      <td>Rkjat,</td>\n",
       "    </tr>\n",
       "    <tr>\n",
       "      <th>155570</th>\n",
       "      <td>Rkjat, Co-supervisor: Rc Chhipa</td>\n",
       "      <td>Rc Chhipa</td>\n",
       "    </tr>\n",
       "    <tr>\n",
       "      <th>155604</th>\n",
       "      <td>Sinha, Grkulkarni / Ripu Ranjan</td>\n",
       "      <td>Grkulkarni</td>\n",
       "    </tr>\n",
       "    <tr>\n",
       "      <th>155605</th>\n",
       "      <td>Sinha, Grkulkarni / Ripu Ranjan</td>\n",
       "      <td>Ripu Ranjan Sinha</td>\n",
       "    </tr>\n",
       "    <tr>\n",
       "      <th>155606</th>\n",
       "      <td>Goyal, Pdmurarka / Dinesh</td>\n",
       "      <td>Pdmurarka</td>\n",
       "    </tr>\n",
       "    <tr>\n",
       "      <th>155607</th>\n",
       "      <td>Goyal, Pdmurarka / Dinesh</td>\n",
       "      <td>Dinesh Goyal</td>\n",
       "    </tr>\n",
       "    <tr>\n",
       "      <th>155611</th>\n",
       "      <td>Yadav, Dinesh Goyal / Narendra Singh</td>\n",
       "      <td>Dinesh Goyal</td>\n",
       "    </tr>\n",
       "    <tr>\n",
       "      <th>155612</th>\n",
       "      <td>Yadav, Dinesh Goyal / Narendra Singh</td>\n",
       "      <td>Narendra Singh Yadav</td>\n",
       "    </tr>\n",
       "    <tr>\n",
       "      <th>155615</th>\n",
       "      <td>Hemrajani, Dinesh Goyal / Naveen</td>\n",
       "      <td>Dinesh Goyal</td>\n",
       "    </tr>\n",
       "    <tr>\n",
       "      <th>155616</th>\n",
       "      <td>Hemrajani, Dinesh Goyal / Naveen</td>\n",
       "      <td>Naveen Hemrajani</td>\n",
       "    </tr>\n",
       "    <tr>\n",
       "      <th>155663</th>\n",
       "      <td>Jain, D. R. Jat / Trilok Kumar</td>\n",
       "      <td>D. R. Jat</td>\n",
       "    </tr>\n",
       "    <tr>\n",
       "      <th>155664</th>\n",
       "      <td>Jain, D. R. Jat / Trilok Kumar</td>\n",
       "      <td>Trilok Kumar Jain</td>\n",
       "    </tr>\n",
       "    <tr>\n",
       "      <th>155674</th>\n",
       "      <td>R. Shastri, Co-supervisor: Mrs K. Bhatia</td>\n",
       "      <td>R. Shastri,</td>\n",
       "    </tr>\n",
       "    <tr>\n",
       "      <th>155675</th>\n",
       "      <td>R. Shastri, Co-supervisor: Mrs K. Bhatia</td>\n",
       "      <td>Mrs K. Bhatia</td>\n",
       "    </tr>\n",
       "    <tr>\n",
       "      <th>167368</th>\n",
       "      <td>Co-supervisor- Upadhyay, Ns</td>\n",
       "      <td>- Upadhyay, Ns</td>\n",
       "    </tr>\n",
       "    <tr>\n",
       "      <th>169853</th>\n",
       "      <td>Co Supervisor Rafat, M.</td>\n",
       "      <td>Rafat, M.</td>\n",
       "    </tr>\n",
       "    <tr>\n",
       "      <th>170572</th>\n",
       "      <td>Jain G. H. / Gaikwad V. B.</td>\n",
       "      <td>Jain G. H.</td>\n",
       "    </tr>\n",
       "    <tr>\n",
       "      <th>170573</th>\n",
       "      <td>Jain G. H. / Gaikwad V. B.</td>\n",
       "      <td>Gaikwad V. B.</td>\n",
       "    </tr>\n",
       "    <tr>\n",
       "      <th>180649</th>\n",
       "      <td>Dhakad, Rk Co-guide Jaiswal Yk</td>\n",
       "      <td>Dhakad, Rk</td>\n",
       "    </tr>\n",
       "    <tr>\n",
       "      <th>180650</th>\n",
       "      <td>Dhakad, Rk Co-guide Jaiswal Yk</td>\n",
       "      <td>Jaiswal Yk</td>\n",
       "    </tr>\n",
       "    <tr>\n",
       "      <th>185179</th>\n",
       "      <td>Hlkaila, Yogesh R. Pandya /</td>\n",
       "      <td>Yogesh R. Pandya</td>\n",
       "    </tr>\n",
       "    <tr>\n",
       "      <th>185180</th>\n",
       "      <td>Hlkaila, Yogesh R. Pandya /</td>\n",
       "      <td>Hlkaila</td>\n",
       "    </tr>\n",
       "    <tr>\n",
       "      <th>188972</th>\n",
       "      <td>Mehta, Sc Co-guide Tailang, Mukul</td>\n",
       "      <td>Mehta, Sc</td>\n",
       "    </tr>\n",
       "    <tr>\n",
       "      <th>188973</th>\n",
       "      <td>Mehta, Sc Co-guide Tailang, Mukul</td>\n",
       "      <td>Tailang, Mukul</td>\n",
       "    </tr>\n",
       "    <tr>\n",
       "      <th>188974</th>\n",
       "      <td>Tailang, Mukul Co-guide Kannan, Gm</td>\n",
       "      <td>Tailang, Mukul</td>\n",
       "    </tr>\n",
       "    <tr>\n",
       "      <th>188975</th>\n",
       "      <td>Tailang, Mukul Co-guide Kannan, Gm</td>\n",
       "      <td>Kannan, Gm</td>\n",
       "    </tr>\n",
       "    <tr>\n",
       "      <th>190172</th>\n",
       "      <td>Sharma, Ekta Menghani / Gaurav</td>\n",
       "      <td>Ekta Menghani</td>\n",
       "    </tr>\n",
       "    <tr>\n",
       "      <th>190173</th>\n",
       "      <td>Sharma, Ekta Menghani / Gaurav</td>\n",
       "      <td>Gaurav Sharma</td>\n",
       "    </tr>\n",
       "    <tr>\n",
       "      <th>203884</th>\n",
       "      <td>Sinha, Baladev/kamala Devi</td>\n",
       "      <td>Sinha, Baladev</td>\n",
       "    </tr>\n",
       "    <tr>\n",
       "      <th>203885</th>\n",
       "      <td>Sinha, Baladev/kamala Devi</td>\n",
       "      <td>kamala Devi</td>\n",
       "    </tr>\n",
       "  </tbody>\n",
       "</table>\n",
       "</div>"
      ],
      "text/plain": [
       "                           previous_advisor_name            advisor_name\n",
       "153960              Rai, Gp Co-guide Jaiswal, Yk               Rai, Gp  \n",
       "153961              Rai, Gp Co-guide Jaiswal, Yk             Jaiswal, Yk\n",
       "153992       Arora, Meera Co-guide Shukla, Veena          Arora, Meera  \n",
       "153993       Arora, Meera Co-guide Shukla, Veena           Shukla, Veena\n",
       "154287                      Guide: Rajini, P. S.           Rajini, P. S.\n",
       "154288                    Muralidhara, Co-guide:             Muralidhara\n",
       "155532     Singh, Ritesh B. Patel / Ravindra Pal       Ritesh B. Patel  \n",
       "155533     Singh, Ritesh B. Patel / Ravindra Pal      Ravindra Pal Singh\n",
       "155546             Amnekar, Ritu M. Gilhotra/ Nd       Ritu M. Gilhotra \n",
       "155547             Amnekar, Ritu M. Gilhotra/ Nd              Nd Amnekar\n",
       "155548           Kohali, Ritu M. Gilhotra/ Seema       Ritu M. Gilhotra \n",
       "155549           Kohali, Ritu M. Gilhotra/ Seema            Seema Kohali\n",
       "155569           Rkjat, Co-supervisor: Rc Chhipa                Rkjat,  \n",
       "155570           Rkjat, Co-supervisor: Rc Chhipa               Rc Chhipa\n",
       "155604           Sinha, Grkulkarni / Ripu Ranjan            Grkulkarni  \n",
       "155605           Sinha, Grkulkarni / Ripu Ranjan       Ripu Ranjan Sinha\n",
       "155606                 Goyal, Pdmurarka / Dinesh             Pdmurarka  \n",
       "155607                 Goyal, Pdmurarka / Dinesh            Dinesh Goyal\n",
       "155611      Yadav, Dinesh Goyal / Narendra Singh          Dinesh Goyal  \n",
       "155612      Yadav, Dinesh Goyal / Narendra Singh    Narendra Singh Yadav\n",
       "155615          Hemrajani, Dinesh Goyal / Naveen          Dinesh Goyal  \n",
       "155616          Hemrajani, Dinesh Goyal / Naveen        Naveen Hemrajani\n",
       "155663            Jain, D. R. Jat / Trilok Kumar             D. R. Jat  \n",
       "155664            Jain, D. R. Jat / Trilok Kumar       Trilok Kumar Jain\n",
       "155674  R. Shastri, Co-supervisor: Mrs K. Bhatia           R. Shastri,  \n",
       "155675  R. Shastri, Co-supervisor: Mrs K. Bhatia           Mrs K. Bhatia\n",
       "167368               Co-supervisor- Upadhyay, Ns          - Upadhyay, Ns\n",
       "169853                   Co Supervisor Rafat, M.               Rafat, M.\n",
       "170572                Jain G. H. / Gaikwad V. B.            Jain G. H.  \n",
       "170573                Jain G. H. / Gaikwad V. B.           Gaikwad V. B.\n",
       "180649            Dhakad, Rk Co-guide Jaiswal Yk            Dhakad, Rk  \n",
       "180650            Dhakad, Rk Co-guide Jaiswal Yk              Jaiswal Yk\n",
       "185179               Hlkaila, Yogesh R. Pandya /      Yogesh R. Pandya  \n",
       "185180               Hlkaila, Yogesh R. Pandya /                 Hlkaila\n",
       "188972         Mehta, Sc Co-guide Tailang, Mukul             Mehta, Sc  \n",
       "188973         Mehta, Sc Co-guide Tailang, Mukul          Tailang, Mukul\n",
       "188974        Tailang, Mukul Co-guide Kannan, Gm        Tailang, Mukul  \n",
       "188975        Tailang, Mukul Co-guide Kannan, Gm              Kannan, Gm\n",
       "190172            Sharma, Ekta Menghani / Gaurav         Ekta Menghani  \n",
       "190173            Sharma, Ekta Menghani / Gaurav           Gaurav Sharma\n",
       "203884                Sinha, Baladev/kamala Devi         Sinha, Baladev \n",
       "203885                Sinha, Baladev/kamala Devi             kamala Devi"
      ]
     },
     "execution_count": 51,
     "metadata": {},
     "output_type": "execute_result"
    }
   ],
   "source": [
    "ment[ment[\"previous_advisor_name\"].str.contains(regex_pat1)][['previous_advisor_name',\"advisor_name\"]][250:300]"
   ]
  },
  {
   "cell_type": "code",
   "execution_count": 52,
   "metadata": {},
   "outputs": [],
   "source": [
    "unwanted_char=['\\)','\\(',r'\\d+']"
   ]
  },
  {
   "cell_type": "code",
   "execution_count": 53,
   "metadata": {},
   "outputs": [],
   "source": [
    "# ment['advisor_name']=ment['advisor_name'].str.replace(\"\\d+\",\"\")\n",
    "# ment['researcher_name']=ment['researcher_name'].str.replace(\"\\d+\",\"\")"
   ]
  },
  {
   "cell_type": "code",
   "execution_count": 54,
   "metadata": {},
   "outputs": [],
   "source": [
    "# ment['advisor_name']=ment['advisor_name'].str.strip()\n",
    "# ment['researcher_name']=ment['researcher_name'].str.strip()"
   ]
  },
  {
   "cell_type": "code",
   "execution_count": 55,
   "metadata": {},
   "outputs": [],
   "source": [
    "ment['advisor_name']=ment['advisor_name'].replace(regex=unwanted_char,value=\"\")\n",
    "ment['researcher_name']=ment['researcher_name'].replace(regex=unwanted_char,value=\"\")"
   ]
  },
  {
   "cell_type": "code",
   "execution_count": 56,
   "metadata": {},
   "outputs": [],
   "source": [
    "ment['advisor_name']=ment['advisor_name'].str.strip(\":- \")\n",
    "ment['researcher_name']=ment['researcher_name'].str.strip(\":- \")"
   ]
  },
  {
   "cell_type": "code",
   "execution_count": 57,
   "metadata": {},
   "outputs": [],
   "source": [
    "ment['advisor_name']=ment['advisor_name'].str.lstrip(\",\")\n",
    "ment['researcher_name']=ment['researcher_name'].str.lstrip(\",\")"
   ]
  },
  {
   "cell_type": "code",
   "execution_count": 58,
   "metadata": {},
   "outputs": [],
   "source": [
    "# ment['advisor_name']=ment['advisor_name'].str.replace(\"\\(\",\"\")\n",
    "# ment['researcher_name']=ment['researcher_name'].str.replace(\"\\(\",\"\")"
   ]
  },
  {
   "cell_type": "code",
   "execution_count": 59,
   "metadata": {},
   "outputs": [
    {
     "data": {
      "text/html": [
       "<div>\n",
       "<style scoped>\n",
       "    .dataframe tbody tr th:only-of-type {\n",
       "        vertical-align: middle;\n",
       "    }\n",
       "\n",
       "    .dataframe tbody tr th {\n",
       "        vertical-align: top;\n",
       "    }\n",
       "\n",
       "    .dataframe thead th {\n",
       "        text-align: right;\n",
       "    }\n",
       "</style>\n",
       "<table border=\"1\" class=\"dataframe\">\n",
       "  <thead>\n",
       "    <tr style=\"text-align: right;\">\n",
       "      <th></th>\n",
       "      <th>previous_advisor_name</th>\n",
       "      <th>advisor_name</th>\n",
       "    </tr>\n",
       "  </thead>\n",
       "  <tbody>\n",
       "    <tr>\n",
       "      <th>81920</th>\n",
       "      <td>Ali Hasan Co Supervisor Khan, Ra</td>\n",
       "      <td>Ali Hasan</td>\n",
       "    </tr>\n",
       "    <tr>\n",
       "      <th>81921</th>\n",
       "      <td>Ali Hasan Co Supervisor Khan, Ra</td>\n",
       "      <td>Khan, Ra</td>\n",
       "    </tr>\n",
       "  </tbody>\n",
       "</table>\n",
       "</div>"
      ],
      "text/plain": [
       "                  previous_advisor_name advisor_name\n",
       "81920  Ali Hasan Co Supervisor Khan, Ra    Ali Hasan\n",
       "81921  Ali Hasan Co Supervisor Khan, Ra     Khan, Ra"
      ]
     },
     "execution_count": 59,
     "metadata": {},
     "output_type": "execute_result"
    }
   ],
   "source": [
    "ment[ment[\"previous_advisor_name\"].str.contains(\"Ali Hasan Co Supervisor Khan, Ra\")][['previous_advisor_name',\"advisor_name\"]]"
   ]
  },
  {
   "cell_type": "code",
   "execution_count": 60,
   "metadata": {},
   "outputs": [],
   "source": [
    "ment.loc[ment['advisor_name'].str.contains(\"M. Afzal :khan ,.\"),'advisor_name']=\"M. Afzal khan\"\n",
    "ment.loc[ment['advisor_name'].str.contains(\"Barve, S, S,\"),'advisor_name']=\"Barve, S. S.\"\n",
    "ment.loc[ment['advisor_name'].str.contains(\"Subramanin, V. Jain, V. K, Ramanathan, A. L.\"),'advisor_name']=\"Subramanin, V., Jain, V. K, Ramanathan, A. L.\"\n",
    "ment.loc[ment['advisor_name'].str.contains(\"Bhatt, D, C,\"),'advisor_name']=\"Bhatt, D. C.\"\n",
    "ment.loc[ment['advisor_name'].str.contains(\"Reddy, C, R, K.\"),'advisor_name']=\"Reddy, C. R. K.\"\n",
    "ment.loc[ment['advisor_name'].str.contains(\"Savani, Suresh, R,\"),'advisor_name']=\"Savani, Suresh R.\"\n",
    "ment.loc[ment['advisor_name'].str.contains(\"Vaghela, H, N,\"),'advisor_name']=\"Vaghela, H. N.\"\n",
    "ment.loc[ment['advisor_name'].str.contains(\"Mohd Aqill, Ahmad, Farhan Jalees, Mushir Ali\"),'advisor_name']=\"Mohd Aqill; Ahmad, Farhan Jalees; Mushir Ali.\""
   ]
  },
  {
   "cell_type": "code",
   "execution_count": 61,
   "metadata": {},
   "outputs": [],
   "source": [
    "tmp = ment['advisor_name'].str.split(':').apply(pd.Series, 1).stack()\n",
    "tmp.index = tmp.index.droplevel(-1)\n",
    "tmp.name = 'advisor_name'\n",
    "ment.drop([\"advisor_name\"],inplace=True, axis=1)\n",
    "ment=ment.join(tmp)\n",
    "ment.reset_index(drop=True, inplace=True)"
   ]
  },
  {
   "cell_type": "code",
   "execution_count": 62,
   "metadata": {},
   "outputs": [],
   "source": [
    "def preprocessing_name(name):\n",
    "    name= name.strip(\",\")\n",
    "    names=name.split(',')\n",
    "    names= [a for a in names if a.strip() != \"\"]\n",
    "    if len(names)%2==1:\n",
    "        names=names+[\"\"]\n",
    "    names = [','.join([i,j]) for i,j in zip(names[0::2], names[1::2])]\n",
    "    names = \";\".join(names)\n",
    "    return names"
   ]
  },
  {
   "cell_type": "code",
   "execution_count": 63,
   "metadata": {},
   "outputs": [],
   "source": [
    "ment.loc[(ment['advisor_name'].str.count(\",\")>2),'advisor_name']=ment[ment['advisor_name'].str.count(\",\")>2]['advisor_name'].apply(lambda x: preprocessing_name(x))"
   ]
  },
  {
   "cell_type": "code",
   "execution_count": 64,
   "metadata": {},
   "outputs": [],
   "source": [
    "tmp = ment['advisor_name'].str.split(';').apply(pd.Series, 1).stack()\n",
    "tmp.index = tmp.index.droplevel(-1)\n",
    "tmp.name = 'advisor_name'\n",
    "ment.drop([\"advisor_name\"],inplace=True, axis=1)\n",
    "ment=ment.join(tmp)\n",
    "ment.reset_index(drop=True, inplace=True)"
   ]
  },
  {
   "cell_type": "code",
   "execution_count": 65,
   "metadata": {},
   "outputs": [],
   "source": [
    "ment['advisor_name']=ment['advisor_name'].str.strip()\n",
    "ment['researcher_name']=ment['researcher_name'].str.strip()"
   ]
  },
  {
   "cell_type": "code",
   "execution_count": 66,
   "metadata": {},
   "outputs": [],
   "source": [
    "#ment[ment['advisor_name'].str.contains(\":\")]#[['previous_advisor_name','advisor_name']]"
   ]
  },
  {
   "cell_type": "code",
   "execution_count": 67,
   "metadata": {},
   "outputs": [
    {
     "data": {
      "text/plain": [
       "Index(['advisorId', 'researcherId', 'researcher_name', 'date_submitted',\n",
       "       'dc.language.iso[]', 'publisher_dept', 'N_DepartmentId_1',\n",
       "       'publisher_institution', 'instituteId', 'title', 'thesisId',\n",
       "       'dc.type.degree', 'dc.date.awarded', 'dc.subject.ddc',\n",
       "       'dc.description.abstract', 'dc.title.alternative', 'N_DepartmentId',\n",
       "       'uniq_ddc_across_dept', 'DepartmentId', 'previous_advisor_name',\n",
       "       'and_order_correct', 'advisor_name'],\n",
       "      dtype='object')"
      ]
     },
     "execution_count": 67,
     "metadata": {},
     "output_type": "execute_result"
    }
   ],
   "source": [
    "ment.columns"
   ]
  },
  {
   "cell_type": "code",
   "execution_count": 68,
   "metadata": {},
   "outputs": [
    {
     "data": {
      "text/plain": [
       "(205770, 22)"
      ]
     },
     "execution_count": 68,
     "metadata": {},
     "output_type": "execute_result"
    }
   ],
   "source": [
    "ment.shape"
   ]
  },
  {
   "cell_type": "code",
   "execution_count": 69,
   "metadata": {},
   "outputs": [],
   "source": [
    "#ment.drop(['previous_advisor_name','and_order_correct','N_DepartmentId'],axis=1,inplace=True)"
   ]
  },
  {
   "cell_type": "code",
   "execution_count": 70,
   "metadata": {},
   "outputs": [],
   "source": [
    "ment=ment[['advisorId', 'researcherId','advisor_name','researcher_name','dc.language.iso[]', 'publisher_dept',\"DepartmentId\",\n",
    "       'publisher_institution', 'instituteId', 'title', 'thesisId','dc.type.degree', 'date_submitted','dc.date.awarded', 'dc.subject.ddc',\n",
    "       'dc.description.abstract', 'dc.title.alternative','uniq_ddc_across_dept', 'N_DepartmentId_1','N_DepartmentId','previous_advisor_name']]"
   ]
  },
  {
   "cell_type": "code",
   "execution_count": 71,
   "metadata": {},
   "outputs": [],
   "source": [
    "ment.to_csv(folder+\"processed_sodhganga_mentorship_dept_rev3.csv\", sep=\",\", index=False)"
   ]
  },
  {
   "cell_type": "code",
   "execution_count": 72,
   "metadata": {},
   "outputs": [],
   "source": [
    "#ment2.loc[ment2['advisor_name'].str.count(\",\")>1,'advisor_name']=ment2.loc[ment2['advisor_name'].str.count(\",\")>1]['advisor_name'].str.replace(r\"\",\"\")"
   ]
  },
  {
   "cell_type": "code",
   "execution_count": 73,
   "metadata": {},
   "outputs": [],
   "source": [
    "#ment[ment['advisor_name']==\",\"]['advisor_name']"
   ]
  },
  {
   "cell_type": "code",
   "execution_count": 74,
   "metadata": {},
   "outputs": [],
   "source": [
    "#ment[ment['previous_advisor_name'].str.contains('And')][['previous_advisor_name',\"advisor_name\"]].shape"
   ]
  },
  {
   "cell_type": "code",
   "execution_count": 75,
   "metadata": {},
   "outputs": [],
   "source": [
    "#ment[ment['advisor_name']==\"Adhikari, Hiralal\"]"
   ]
  },
  {
   "cell_type": "code",
   "execution_count": 76,
   "metadata": {},
   "outputs": [
    {
     "data": {
      "text/plain": [
       "advisorId                       0\n",
       "researcherId                    0\n",
       "advisor_name                    0\n",
       "researcher_name                 0\n",
       "dc.language.iso[]               0\n",
       "publisher_dept                  0\n",
       "DepartmentId                    0\n",
       "publisher_institution           0\n",
       "instituteId                     0\n",
       "title                           0\n",
       "thesisId                        0\n",
       "dc.type.degree                  0\n",
       "date_submitted              14723\n",
       "dc.date.awarded            156171\n",
       "dc.subject.ddc               3692\n",
       "dc.description.abstract    188403\n",
       "dc.title.alternative       200630\n",
       "uniq_ddc_across_dept            0\n",
       "N_DepartmentId_1                0\n",
       "N_DepartmentId                  0\n",
       "previous_advisor_name           0\n",
       "dtype: int64"
      ]
     },
     "execution_count": 76,
     "metadata": {},
     "output_type": "execute_result"
    }
   ],
   "source": [
    "ment.isna().sum() #null values count"
   ]
  },
  {
   "cell_type": "code",
   "execution_count": 77,
   "metadata": {},
   "outputs": [
    {
     "data": {
      "text/plain": [
       "array([['Bhembre, Uday À¤¡à¤¿à¤¸à¥\\x8cà¤\\x9dà¤¾, À¤\\x9aà¤\\x82à¤¦à¥\\x8dà¤°à¤²à¥\\x87à¤\\x96à¤¾ À¤\\x94à¤° À¤\\xadà¥\\x87à¤\\x82à¤¬à¥\\x8dà¤°à¥\\x87 , À¤\\x89à¤¦à¤¯',\n",
       "        'Bhembre, Uday'],\n",
       "       ['Bhembre, Uday', 'Bhembre, Uday'],\n",
       "       ['Bhembre, Uday À¤¸à¤°à¤¦à¥\\x87à¤¸à¤¾à¤¯, À¤®à¤¾à¤§à¤µà¥\\x80 À¤\\x94à¤° À¤\\xadà¥\\x87à¤\\x82à¤¬à¥\\x8dà¤°à¥\\x87, À¤\\x89à¤¦à¤¯',\n",
       "        'Bhembre, Uday'],\n",
       "       ['Bhembre, Uday', 'Bhembre, Uday'],\n",
       "       ['Bhembre, Uday', 'Bhembre, Uday']], dtype=object)"
      ]
     },
     "execution_count": 77,
     "metadata": {},
     "output_type": "execute_result"
    }
   ],
   "source": [
    "ment[ment[\"previous_advisor_name\"].str.contains(\"Bhembre\")][['previous_advisor_name','advisor_name']].values"
   ]
  },
  {
   "cell_type": "code",
   "execution_count": 78,
   "metadata": {},
   "outputs": [],
   "source": [
    "#ment[ment[\"previous_advisor_name\"].str.count(\",\")>2][['previous_advisor_name','advisor_name']].values[0:500]"
   ]
  },
  {
   "cell_type": "code",
   "execution_count": 79,
   "metadata": {},
   "outputs": [
    {
     "data": {
      "text/html": [
       "<div>\n",
       "<style scoped>\n",
       "    .dataframe tbody tr th:only-of-type {\n",
       "        vertical-align: middle;\n",
       "    }\n",
       "\n",
       "    .dataframe tbody tr th {\n",
       "        vertical-align: top;\n",
       "    }\n",
       "\n",
       "    .dataframe thead th {\n",
       "        text-align: right;\n",
       "    }\n",
       "</style>\n",
       "<table border=\"1\" class=\"dataframe\">\n",
       "  <thead>\n",
       "    <tr style=\"text-align: right;\">\n",
       "      <th></th>\n",
       "      <th>advisorId</th>\n",
       "      <th>researcherId</th>\n",
       "      <th>advisor_name</th>\n",
       "      <th>researcher_name</th>\n",
       "      <th>dc.language.iso[]</th>\n",
       "      <th>publisher_dept</th>\n",
       "      <th>DepartmentId</th>\n",
       "      <th>publisher_institution</th>\n",
       "      <th>instituteId</th>\n",
       "      <th>title</th>\n",
       "      <th>...</th>\n",
       "      <th>dc.type.degree</th>\n",
       "      <th>date_submitted</th>\n",
       "      <th>dc.date.awarded</th>\n",
       "      <th>dc.subject.ddc</th>\n",
       "      <th>dc.description.abstract</th>\n",
       "      <th>dc.title.alternative</th>\n",
       "      <th>uniq_ddc_across_dept</th>\n",
       "      <th>N_DepartmentId_1</th>\n",
       "      <th>N_DepartmentId</th>\n",
       "      <th>previous_advisor_name</th>\n",
       "    </tr>\n",
       "  </thead>\n",
       "  <tbody>\n",
       "    <tr>\n",
       "      <th>178598</th>\n",
       "      <td>65805</td>\n",
       "      <td>214058</td>\n",
       "      <td>Vaishnavi, Samantha</td>\n",
       "      <td>Pandita, Archana</td>\n",
       "      <td>eng</td>\n",
       "      <td>school of biotechnology</td>\n",
       "      <td>D1417</td>\n",
       "      <td>Shri Mata Vaishno Devi University</td>\n",
       "      <td>I370</td>\n",
       "      <td>Study of synergistic effect of dietary molecul...</td>\n",
       "      <td>...</td>\n",
       "      <td>phd</td>\n",
       "      <td>2015-01-01</td>\n",
       "      <td>NaT</td>\n",
       "      <td>600::Technology|660::Chemical engineering</td>\n",
       "      <td>NaN</td>\n",
       "      <td>NaN</td>\n",
       "      <td>('600', '660')</td>\n",
       "      <td>D1417</td>\n",
       "      <td>D1417</td>\n",
       "      <td>Vaishnavi, Samanthaand Singh, Shashank K.</td>\n",
       "    </tr>\n",
       "    <tr>\n",
       "      <th>178599</th>\n",
       "      <td>65805</td>\n",
       "      <td>214058</td>\n",
       "      <td>Singh, Shashank K.</td>\n",
       "      <td>Pandita, Archana</td>\n",
       "      <td>eng</td>\n",
       "      <td>school of biotechnology</td>\n",
       "      <td>D1417</td>\n",
       "      <td>Shri Mata Vaishno Devi University</td>\n",
       "      <td>I370</td>\n",
       "      <td>Study of synergistic effect of dietary molecul...</td>\n",
       "      <td>...</td>\n",
       "      <td>phd</td>\n",
       "      <td>2015-01-01</td>\n",
       "      <td>NaT</td>\n",
       "      <td>600::Technology|660::Chemical engineering</td>\n",
       "      <td>NaN</td>\n",
       "      <td>NaN</td>\n",
       "      <td>('600', '660')</td>\n",
       "      <td>D1417</td>\n",
       "      <td>D1417</td>\n",
       "      <td>Vaishnavi, Samanthaand Singh, Shashank K.</td>\n",
       "    </tr>\n",
       "  </tbody>\n",
       "</table>\n",
       "<p>2 rows × 21 columns</p>\n",
       "</div>"
      ],
      "text/plain": [
       "        advisorId  researcherId         advisor_name   researcher_name  \\\n",
       "178598      65805        214058  Vaishnavi, Samantha  Pandita, Archana   \n",
       "178599      65805        214058   Singh, Shashank K.  Pandita, Archana   \n",
       "\n",
       "       dc.language.iso[]           publisher_dept DepartmentId  \\\n",
       "178598               eng  school of biotechnology        D1417   \n",
       "178599               eng  school of biotechnology        D1417   \n",
       "\n",
       "                    publisher_institution instituteId  \\\n",
       "178598  Shri Mata Vaishno Devi University        I370   \n",
       "178599  Shri Mata Vaishno Devi University        I370   \n",
       "\n",
       "                                                    title  ... dc.type.degree  \\\n",
       "178598  Study of synergistic effect of dietary molecul...  ...            phd   \n",
       "178599  Study of synergistic effect of dietary molecul...  ...            phd   \n",
       "\n",
       "       date_submitted dc.date.awarded  \\\n",
       "178598     2015-01-01             NaT   \n",
       "178599     2015-01-01             NaT   \n",
       "\n",
       "                                   dc.subject.ddc dc.description.abstract  \\\n",
       "178598  600::Technology|660::Chemical engineering                     NaN   \n",
       "178599  600::Technology|660::Chemical engineering                     NaN   \n",
       "\n",
       "       dc.title.alternative uniq_ddc_across_dept N_DepartmentId_1  \\\n",
       "178598                  NaN       ('600', '660')            D1417   \n",
       "178599                  NaN       ('600', '660')            D1417   \n",
       "\n",
       "       N_DepartmentId                      previous_advisor_name  \n",
       "178598          D1417  Vaishnavi, Samanthaand Singh, Shashank K.  \n",
       "178599          D1417  Vaishnavi, Samanthaand Singh, Shashank K.  \n",
       "\n",
       "[2 rows x 21 columns]"
      ]
     },
     "execution_count": 79,
     "metadata": {},
     "output_type": "execute_result"
    }
   ],
   "source": [
    "#ment[ment['advisorId']==0]\n",
    "ment[ment['previous_advisor_name'].str.contains('Vaishnavi, Samanthaand Singh, Shashank K.')]"
   ]
  },
  {
   "cell_type": "code",
   "execution_count": 80,
   "metadata": {},
   "outputs": [
    {
     "data": {
      "text/html": [
       "<div>\n",
       "<style scoped>\n",
       "    .dataframe tbody tr th:only-of-type {\n",
       "        vertical-align: middle;\n",
       "    }\n",
       "\n",
       "    .dataframe tbody tr th {\n",
       "        vertical-align: top;\n",
       "    }\n",
       "\n",
       "    .dataframe thead th {\n",
       "        text-align: right;\n",
       "    }\n",
       "</style>\n",
       "<table border=\"1\" class=\"dataframe\">\n",
       "  <thead>\n",
       "    <tr style=\"text-align: right;\">\n",
       "      <th></th>\n",
       "      <th>advisorId</th>\n",
       "      <th>researcherId</th>\n",
       "      <th>advisor_name</th>\n",
       "      <th>researcher_name</th>\n",
       "      <th>dc.language.iso[]</th>\n",
       "      <th>publisher_dept</th>\n",
       "      <th>DepartmentId</th>\n",
       "      <th>publisher_institution</th>\n",
       "      <th>instituteId</th>\n",
       "      <th>title</th>\n",
       "      <th>...</th>\n",
       "      <th>dc.type.degree</th>\n",
       "      <th>date_submitted</th>\n",
       "      <th>dc.date.awarded</th>\n",
       "      <th>dc.subject.ddc</th>\n",
       "      <th>dc.description.abstract</th>\n",
       "      <th>dc.title.alternative</th>\n",
       "      <th>uniq_ddc_across_dept</th>\n",
       "      <th>N_DepartmentId_1</th>\n",
       "      <th>N_DepartmentId</th>\n",
       "      <th>previous_advisor_name</th>\n",
       "    </tr>\n",
       "  </thead>\n",
       "  <tbody>\n",
       "    <tr>\n",
       "      <th>152550</th>\n",
       "      <td>56504</td>\n",
       "      <td>192703</td>\n",
       "      <td>Bamezai, R N K</td>\n",
       "      <td>Arora, Reetakshi</td>\n",
       "      <td>eng</td>\n",
       "      <td>school of life sciences</td>\n",
       "      <td>D738</td>\n",
       "      <td>Jawaharlal Nehru University</td>\n",
       "      <td>I85</td>\n",
       "      <td>Study of T-cell response to hepatitis-E virus ...</td>\n",
       "      <td>...</td>\n",
       "      <td>phd</td>\n",
       "      <td>2003-01-01</td>\n",
       "      <td>NaT</td>\n",
       "      <td>500::Natural sciences &amp; mathematics|570::Life ...</td>\n",
       "      <td>NaN</td>\n",
       "      <td>NaN</td>\n",
       "      <td>('500', '570')</td>\n",
       "      <td>D738</td>\n",
       "      <td>D738</td>\n",
       "      <td>Kand Rath, P. C.</td>\n",
       "    </tr>\n",
       "    <tr>\n",
       "      <th>152551</th>\n",
       "      <td>56504</td>\n",
       "      <td>192703</td>\n",
       "      <td>Rath, P C</td>\n",
       "      <td>Arora, Reetakshi</td>\n",
       "      <td>eng</td>\n",
       "      <td>school of life sciences</td>\n",
       "      <td>D738</td>\n",
       "      <td>Jawaharlal Nehru University</td>\n",
       "      <td>I85</td>\n",
       "      <td>Study of T-cell response to hepatitis-E virus ...</td>\n",
       "      <td>...</td>\n",
       "      <td>phd</td>\n",
       "      <td>2003-01-01</td>\n",
       "      <td>NaT</td>\n",
       "      <td>500::Natural sciences &amp; mathematics|570::Life ...</td>\n",
       "      <td>NaN</td>\n",
       "      <td>NaN</td>\n",
       "      <td>('500', '570')</td>\n",
       "      <td>D738</td>\n",
       "      <td>D738</td>\n",
       "      <td>Kand Rath, P. C.</td>\n",
       "    </tr>\n",
       "  </tbody>\n",
       "</table>\n",
       "<p>2 rows × 21 columns</p>\n",
       "</div>"
      ],
      "text/plain": [
       "        advisorId  researcherId    advisor_name   researcher_name  \\\n",
       "152550      56504        192703  Bamezai, R N K  Arora, Reetakshi   \n",
       "152551      56504        192703       Rath, P C  Arora, Reetakshi   \n",
       "\n",
       "       dc.language.iso[]           publisher_dept DepartmentId  \\\n",
       "152550               eng  school of life sciences         D738   \n",
       "152551               eng  school of life sciences         D738   \n",
       "\n",
       "              publisher_institution instituteId  \\\n",
       "152550  Jawaharlal Nehru University         I85   \n",
       "152551  Jawaharlal Nehru University         I85   \n",
       "\n",
       "                                                    title  ... dc.type.degree  \\\n",
       "152550  Study of T-cell response to hepatitis-E virus ...  ...            phd   \n",
       "152551  Study of T-cell response to hepatitis-E virus ...  ...            phd   \n",
       "\n",
       "       date_submitted dc.date.awarded  \\\n",
       "152550     2003-01-01             NaT   \n",
       "152551     2003-01-01             NaT   \n",
       "\n",
       "                                           dc.subject.ddc  \\\n",
       "152550  500::Natural sciences & mathematics|570::Life ...   \n",
       "152551  500::Natural sciences & mathematics|570::Life ...   \n",
       "\n",
       "       dc.description.abstract dc.title.alternative uniq_ddc_across_dept  \\\n",
       "152550                     NaN                  NaN       ('500', '570')   \n",
       "152551                     NaN                  NaN       ('500', '570')   \n",
       "\n",
       "       N_DepartmentId_1 N_DepartmentId previous_advisor_name  \n",
       "152550             D738           D738      Kand Rath, P. C.  \n",
       "152551             D738           D738      Kand Rath, P. C.  \n",
       "\n",
       "[2 rows x 21 columns]"
      ]
     },
     "execution_count": 80,
     "metadata": {},
     "output_type": "execute_result"
    }
   ],
   "source": [
    "ment[ment['previous_advisor_name']=='Kand Rath, P. C.']#Bamezai, R N K and Rath, P C#['title'].values"
   ]
  },
  {
   "cell_type": "code",
   "execution_count": 81,
   "metadata": {},
   "outputs": [],
   "source": [
    "# \"Rakesh k. jat\"\n",
    "# \"Rakesh jat\"\n",
    "# \"Rakesh kumar jat\""
   ]
  },
  {
   "cell_type": "code",
   "execution_count": 82,
   "metadata": {},
   "outputs": [
    {
     "data": {
      "text/html": [
       "<div>\n",
       "<style scoped>\n",
       "    .dataframe tbody tr th:only-of-type {\n",
       "        vertical-align: middle;\n",
       "    }\n",
       "\n",
       "    .dataframe tbody tr th {\n",
       "        vertical-align: top;\n",
       "    }\n",
       "\n",
       "    .dataframe thead th {\n",
       "        text-align: right;\n",
       "    }\n",
       "</style>\n",
       "<table border=\"1\" class=\"dataframe\">\n",
       "  <thead>\n",
       "    <tr style=\"text-align: right;\">\n",
       "      <th></th>\n",
       "      <th>advisorId</th>\n",
       "      <th>researcherId</th>\n",
       "      <th>advisor_name</th>\n",
       "      <th>researcher_name</th>\n",
       "      <th>dc.language.iso[]</th>\n",
       "      <th>publisher_dept</th>\n",
       "      <th>DepartmentId</th>\n",
       "      <th>publisher_institution</th>\n",
       "      <th>instituteId</th>\n",
       "      <th>title</th>\n",
       "      <th>...</th>\n",
       "      <th>dc.type.degree</th>\n",
       "      <th>date_submitted</th>\n",
       "      <th>dc.date.awarded</th>\n",
       "      <th>dc.subject.ddc</th>\n",
       "      <th>dc.description.abstract</th>\n",
       "      <th>dc.title.alternative</th>\n",
       "      <th>uniq_ddc_across_dept</th>\n",
       "      <th>N_DepartmentId_1</th>\n",
       "      <th>N_DepartmentId</th>\n",
       "      <th>previous_advisor_name</th>\n",
       "    </tr>\n",
       "  </thead>\n",
       "  <tbody>\n",
       "    <tr>\n",
       "      <th>152550</th>\n",
       "      <td>56504</td>\n",
       "      <td>192703</td>\n",
       "      <td>Bamezai, R N K</td>\n",
       "      <td>Arora, Reetakshi</td>\n",
       "      <td>eng</td>\n",
       "      <td>school of life sciences</td>\n",
       "      <td>D738</td>\n",
       "      <td>Jawaharlal Nehru University</td>\n",
       "      <td>I85</td>\n",
       "      <td>Study of T-cell response to hepatitis-E virus ...</td>\n",
       "      <td>...</td>\n",
       "      <td>phd</td>\n",
       "      <td>2003-01-01</td>\n",
       "      <td>NaT</td>\n",
       "      <td>500::Natural sciences &amp; mathematics|570::Life ...</td>\n",
       "      <td>NaN</td>\n",
       "      <td>NaN</td>\n",
       "      <td>('500', '570')</td>\n",
       "      <td>D738</td>\n",
       "      <td>D738</td>\n",
       "      <td>Kand Rath, P. C.</td>\n",
       "    </tr>\n",
       "    <tr>\n",
       "      <th>152551</th>\n",
       "      <td>56504</td>\n",
       "      <td>192703</td>\n",
       "      <td>Rath, P C</td>\n",
       "      <td>Arora, Reetakshi</td>\n",
       "      <td>eng</td>\n",
       "      <td>school of life sciences</td>\n",
       "      <td>D738</td>\n",
       "      <td>Jawaharlal Nehru University</td>\n",
       "      <td>I85</td>\n",
       "      <td>Study of T-cell response to hepatitis-E virus ...</td>\n",
       "      <td>...</td>\n",
       "      <td>phd</td>\n",
       "      <td>2003-01-01</td>\n",
       "      <td>NaT</td>\n",
       "      <td>500::Natural sciences &amp; mathematics|570::Life ...</td>\n",
       "      <td>NaN</td>\n",
       "      <td>NaN</td>\n",
       "      <td>('500', '570')</td>\n",
       "      <td>D738</td>\n",
       "      <td>D738</td>\n",
       "      <td>Kand Rath, P. C.</td>\n",
       "    </tr>\n",
       "  </tbody>\n",
       "</table>\n",
       "<p>2 rows × 21 columns</p>\n",
       "</div>"
      ],
      "text/plain": [
       "        advisorId  researcherId    advisor_name   researcher_name  \\\n",
       "152550      56504        192703  Bamezai, R N K  Arora, Reetakshi   \n",
       "152551      56504        192703       Rath, P C  Arora, Reetakshi   \n",
       "\n",
       "       dc.language.iso[]           publisher_dept DepartmentId  \\\n",
       "152550               eng  school of life sciences         D738   \n",
       "152551               eng  school of life sciences         D738   \n",
       "\n",
       "              publisher_institution instituteId  \\\n",
       "152550  Jawaharlal Nehru University         I85   \n",
       "152551  Jawaharlal Nehru University         I85   \n",
       "\n",
       "                                                    title  ... dc.type.degree  \\\n",
       "152550  Study of T-cell response to hepatitis-E virus ...  ...            phd   \n",
       "152551  Study of T-cell response to hepatitis-E virus ...  ...            phd   \n",
       "\n",
       "       date_submitted dc.date.awarded  \\\n",
       "152550     2003-01-01             NaT   \n",
       "152551     2003-01-01             NaT   \n",
       "\n",
       "                                           dc.subject.ddc  \\\n",
       "152550  500::Natural sciences & mathematics|570::Life ...   \n",
       "152551  500::Natural sciences & mathematics|570::Life ...   \n",
       "\n",
       "       dc.description.abstract dc.title.alternative uniq_ddc_across_dept  \\\n",
       "152550                     NaN                  NaN       ('500', '570')   \n",
       "152551                     NaN                  NaN       ('500', '570')   \n",
       "\n",
       "       N_DepartmentId_1 N_DepartmentId previous_advisor_name  \n",
       "152550             D738           D738      Kand Rath, P. C.  \n",
       "152551             D738           D738      Kand Rath, P. C.  \n",
       "\n",
       "[2 rows x 21 columns]"
      ]
     },
     "execution_count": 82,
     "metadata": {},
     "output_type": "execute_result"
    }
   ],
   "source": [
    "ment[ment['researcherId']==192703]#['title'].values"
   ]
  },
  {
   "cell_type": "code",
   "execution_count": 83,
   "metadata": {},
   "outputs": [],
   "source": [
    "#ment[ment['advisor_name'].isin(['Shastri, Paramanand','Shastri, Pramanand'])]['researcher_name'].values"
   ]
  },
  {
   "cell_type": "code",
   "execution_count": 84,
   "metadata": {},
   "outputs": [],
   "source": [
    "#ment.loc[(ment['advisor_name'].str.count(\",\")>2),'advisor_name']="
   ]
  },
  {
   "cell_type": "code",
   "execution_count": 85,
   "metadata": {},
   "outputs": [],
   "source": [
    "# ['Singh, S, P.', 'Singh, S, P.'],\n",
    "#        ['Singh, U, P.', 'Singh, U, P.'],"
   ]
  },
  {
   "cell_type": "code",
   "execution_count": 86,
   "metadata": {},
   "outputs": [],
   "source": [
    "# ['P, C, Sekar', 'P, C, Sekar'],\n",
    "#        ['P, C, Sekar', 'P, C, Sekar'],\n",
    "#        ['P, C, Sekar', 'P, C, Sekar'],\n",
    "#        ['P, C, Sekar', 'P, C, Sekar'],"
   ]
  },
  {
   "cell_type": "code",
   "execution_count": null,
   "metadata": {},
   "outputs": [],
   "source": [
    "#different advId\n",
    "Kosambi, D. D.\n",
    "Kesambi, D. D.\n",
    "Siddiqui, Athar H.\n",
    "Siddiqi, Ather H.\n",
    "Feza, Tabassum Azmi\n",
    "Azmi, Feza Tavassaum\n",
    "Ramlochan\n",
    "Ranlochan\n",
    "Bhullar, J.\n",
    "Bhullar, Jatinder"
   ]
  }
 ],
 "metadata": {
  "kernelspec": {
   "display_name": "Python 3",
   "language": "python",
   "name": "python3"
  },
  "language_info": {
   "codemirror_mode": {
    "name": "ipython",
    "version": 3
   },
   "file_extension": ".py",
   "mimetype": "text/x-python",
   "name": "python",
   "nbconvert_exporter": "python",
   "pygments_lexer": "ipython3",
   "version": "3.6.9"
  }
 },
 "nbformat": 4,
 "nbformat_minor": 4
}
