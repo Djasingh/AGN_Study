{
 "cells": [
  {
   "cell_type": "code",
   "execution_count": 1,
   "metadata": {},
   "outputs": [],
   "source": [
    "import pandas as pd\n",
    "from glob import glob"
   ]
  },
  {
   "cell_type": "code",
   "execution_count": 2,
   "metadata": {},
   "outputs": [],
   "source": [
    "folder=\"../dataset_v5/v5_2/\""
   ]
  },
  {
   "cell_type": "code",
   "execution_count": 3,
   "metadata": {},
   "outputs": [],
   "source": [
    "adv_detail = pd.read_csv(folder+\"advisorid_studentid_link_with_baseline_gen4_1.csv\")"
   ]
  },
  {
   "cell_type": "code",
   "execution_count": 4,
   "metadata": {},
   "outputs": [],
   "source": [
    "#adv_detail1 = pd.read_csv(folder+\"advisorid_studentid_link_with_baseline_gen4_1_1.csv\")"
   ]
  },
  {
   "cell_type": "code",
   "execution_count": 5,
   "metadata": {},
   "outputs": [],
   "source": [
    "ment = pd.read_csv(folder+\"shodhganga_ment_with_disamb_ids.csv\")"
   ]
  },
  {
   "cell_type": "code",
   "execution_count": 6,
   "metadata": {},
   "outputs": [
    {
     "data": {
      "text/plain": [
       "(205744, 27)"
      ]
     },
     "execution_count": 6,
     "metadata": {},
     "output_type": "execute_result"
    }
   ],
   "source": [
    "ment.shape"
   ]
  },
  {
   "cell_type": "code",
   "execution_count": 4,
   "metadata": {},
   "outputs": [
    {
     "data": {
      "text/plain": [
       "Index(['advId', 'instituteId', 'DepartmentId', 'advisor_name',\n",
       "       'publisher_dept', 'publisher_institution', 'date_submitted', 'title',\n",
       "       'dc.subject.ddc', 'N_advId'],\n",
       "      dtype='object')"
      ]
     },
     "execution_count": 4,
     "metadata": {},
     "output_type": "execute_result"
    }
   ],
   "source": [
    "adv_detail.columns"
   ]
  },
  {
   "cell_type": "code",
   "execution_count": 7,
   "metadata": {},
   "outputs": [],
   "source": [
    "#adv_detail[adv_detail['N_advId']==217627]"
   ]
  },
  {
   "cell_type": "code",
   "execution_count": 9,
   "metadata": {},
   "outputs": [],
   "source": [
    "advid_1=adv_detail[~adv_detail[\"N_advId\"].isnull()]['advId']"
   ]
  },
  {
   "cell_type": "code",
   "execution_count": 10,
   "metadata": {},
   "outputs": [
    {
     "data": {
      "text/plain": [
       "(2177,)"
      ]
     },
     "execution_count": 10,
     "metadata": {},
     "output_type": "execute_result"
    }
   ],
   "source": [
    "advid_1.shape"
   ]
  },
  {
   "cell_type": "code",
   "execution_count": 8,
   "metadata": {},
   "outputs": [],
   "source": [
    "#advid_2=adv_detail1[~adv_detail1[\"N_advId\"].isnull()]['advId']"
   ]
  },
  {
   "cell_type": "code",
   "execution_count": 9,
   "metadata": {},
   "outputs": [],
   "source": [
    "#adv_detail1[adv_detail1['advId']==435][[\"advId\",\"N_advId\"]]"
   ]
  },
  {
   "cell_type": "code",
   "execution_count": 14,
   "metadata": {},
   "outputs": [
    {
     "data": {
      "text/plain": [
       "array([[     0, 137564],\n",
       "       [    12, 274372],\n",
       "       [    94, 242236],\n",
       "       [    97, 180104],\n",
       "       [   100,  97303],\n",
       "       [   121, 129892],\n",
       "       [   135, 264627],\n",
       "       [   141, 129912],\n",
       "       [   142, 236274],\n",
       "       [   148,  17923],\n",
       "       [   166, 222882],\n",
       "       [   220, 183468],\n",
       "       [   407, 194370],\n",
       "       [   410,  51341],\n",
       "       [   424, 195673],\n",
       "       [   476, 242831],\n",
       "       [   500,  92844],\n",
       "       [   516, 235357],\n",
       "       [   588, 147549],\n",
       "       [   677, 196363],\n",
       "       [   735, 276777],\n",
       "       [   820, 221451],\n",
       "       [   847, 181743],\n",
       "       [   857, 140642],\n",
       "       [   859, 140884],\n",
       "       [   868, 104635],\n",
       "       [   896, 221454],\n",
       "       [   899,  94208],\n",
       "       [   924, 254386],\n",
       "       [   928, 254338],\n",
       "       [   930, 254505],\n",
       "       [   937, 254385],\n",
       "       [   993, 254013],\n",
       "       [   997, 253947],\n",
       "       [   998, 279582],\n",
       "       [  1027, 252858],\n",
       "       [  1028, 252969],\n",
       "       [  1029, 252960],\n",
       "       [  1070,  93947],\n",
       "       [  1098, 104127],\n",
       "       [  1107, 104195],\n",
       "       [  1138, 100759],\n",
       "       [  1177, 256825],\n",
       "       [  1203, 247118],\n",
       "       [  1268, 135055],\n",
       "       [  1353, 279790],\n",
       "       [  1358, 277800],\n",
       "       [  1413,  18094],\n",
       "       [  1432, 242949],\n",
       "       [  1469, 224272],\n",
       "       [  1470, 253942],\n",
       "       [  1473, 255975],\n",
       "       [  1475, 224272],\n",
       "       [  1478, 240676],\n",
       "       [  1496,  96632],\n",
       "       [  1499, 268964],\n",
       "       [  1501, 280633],\n",
       "       [  1502, 157246],\n",
       "       [  1507, 280633],\n",
       "       [  1508, 157246],\n",
       "       [  1509, 221341],\n",
       "       [  1525,  96726],\n",
       "       [  1528, 168559],\n",
       "       [  1535, 168559],\n",
       "       [  1577, 140596],\n",
       "       [  1586, 139852],\n",
       "       [  1605, 139462],\n",
       "       [  1616, 138702],\n",
       "       [  1617, 140030],\n",
       "       [  1665, 103211],\n",
       "       [  1700, 182567],\n",
       "       [  1706, 221141],\n",
       "       [  1726,  97261],\n",
       "       [  1728,  97262],\n",
       "       [  1741,  97304],\n",
       "       [  1742,   1740],\n",
       "       [  1743,  97294],\n",
       "       [  1745,  97301],\n",
       "       [  1836, 215035],\n",
       "       [  1858, 182353],\n",
       "       [  2125, 208335],\n",
       "       [  2215, 188427],\n",
       "       [  2429,  83220],\n",
       "       [  2481, 224318],\n",
       "       [  2491, 114943],\n",
       "       [  2497,  99971],\n",
       "       [  2633, 198971],\n",
       "       [  2747, 107579],\n",
       "       [  3009, 146233],\n",
       "       [  3075, 276769],\n",
       "       [  3085, 252798],\n",
       "       [  3109,  90248],\n",
       "       [  3132, 100338],\n",
       "       [  3133, 100318],\n",
       "       [  3134,   3164],\n",
       "       [  3146, 100332],\n",
       "       [  3212,   3115],\n",
       "       [  3215, 100203],\n",
       "       [  3232, 269205],\n",
       "       [  3308,   1096],\n",
       "       [  3365,  11244],\n",
       "       [  3372, 116701],\n",
       "       [  3380, 100765],\n",
       "       [  3401,   3459],\n",
       "       [  3432, 163597],\n",
       "       [  3450, 147332],\n",
       "       [  3484, 100654],\n",
       "       [  3547, 191921],\n",
       "       [  3548, 196636],\n",
       "       [  3796, 120038],\n",
       "       [  3903, 101612],\n",
       "       [  3911,   3918],\n",
       "       [  3968, 111860],\n",
       "       [  3978, 238971],\n",
       "       [  3981, 111840],\n",
       "       [  4166, 239358],\n",
       "       [  4173, 239410],\n",
       "       [  4188, 264430],\n",
       "       [  4225, 213506],\n",
       "       [  4262, 177225],\n",
       "       [  4285, 242237],\n",
       "       [  4307, 242237],\n",
       "       [  4316, 102493],\n",
       "       [  4331,   9790],\n",
       "       [  4334, 113534],\n",
       "       [  4335, 247114],\n",
       "       [  4338, 113549],\n",
       "       [  4365,  91913],\n",
       "       [  4431, 252922],\n",
       "       [  4591,   5990],\n",
       "       [  4641, 194540],\n",
       "       [  4704, 220514],\n",
       "       [  4734, 232361],\n",
       "       [  4745, 252984],\n",
       "       [  4783,  57056],\n",
       "       [  4831, 104167],\n",
       "       [  4835, 104151],\n",
       "       [  4990,   5620],\n",
       "       [  4991,   6751],\n",
       "       [  5101, 109116],\n",
       "       [  5186,   6387],\n",
       "       [  5312, 254049],\n",
       "       [  5487,  12756],\n",
       "       [  5571,   6091],\n",
       "       [  5581,   6099],\n",
       "       [  5662,   6190],\n",
       "       [  5765, 176619],\n",
       "       [  6105,   6521],\n",
       "       [  6180,   5649],\n",
       "       [  6203, 143017],\n",
       "       [  6306, 108618],\n",
       "       [  6431,  39572],\n",
       "       [  6527, 118963],\n",
       "       [  6625, 187790],\n",
       "       [  6628,   7016],\n",
       "       [  6650,  97229],\n",
       "       [  6710, 105558],\n",
       "       [  7081,  37134],\n",
       "       [  7200, 106919],\n",
       "       [  7224,   7177],\n",
       "       [  7227,   7167],\n",
       "       [  7235, 106375],\n",
       "       [  7236, 109370],\n",
       "       [  7276,   7204],\n",
       "       [  7305, 136877],\n",
       "       [  7308,   5964],\n",
       "       [  7327, 123293],\n",
       "       [  7329,  96097],\n",
       "       [  7474, 155192],\n",
       "       [  7536,   6436],\n",
       "       [  7541, 169401],\n",
       "       [  7605, 169413],\n",
       "       [  7616, 100178],\n",
       "       [  7632, 120130],\n",
       "       [  7644, 100228],\n",
       "       [  7646, 100209],\n",
       "       [  7651, 100192],\n",
       "       [  7652, 100229],\n",
       "       [  7653, 100210],\n",
       "       [  7672, 100189],\n",
       "       [  7674, 100224],\n",
       "       [  7677, 100185],\n",
       "       [  7678,   9229],\n",
       "       [  7689, 100191],\n",
       "       [  7694, 100171],\n",
       "       [  7700,  90169],\n",
       "       [  7748, 100212],\n",
       "       [  7785, 100214],\n",
       "       [  7799, 100221],\n",
       "       [  7810, 169397],\n",
       "       [  7812, 100186],\n",
       "       [  7822, 169412],\n",
       "       [  7835, 100170],\n",
       "       [  7839, 100184],\n",
       "       [  7881, 100176],\n",
       "       [  7901, 169409],\n",
       "       [  7926, 281207],\n",
       "       [  7932, 100203],\n",
       "       [  8026, 281143],\n",
       "       [  8064, 165429],\n",
       "       [  8067,  36144],\n",
       "       [  8069, 165482],\n",
       "       [  8073, 223268],\n",
       "       [  8076,  36115],\n",
       "       [  8086,  36282],\n",
       "       [  8196, 110436],\n",
       "       [  8197,   7717],\n",
       "       [  8207, 164276],\n",
       "       [  8215, 166308],\n",
       "       [  8324, 266314],\n",
       "       [  8349,  86003],\n",
       "       [  8364, 131375],\n",
       "       [  8391, 137395],\n",
       "       [  8458, 159529],\n",
       "       [  8467, 266555],\n",
       "       [  8494,  76922],\n",
       "       [  8567, 232147],\n",
       "       [  8572, 139651],\n",
       "       [  8602,  12271],\n",
       "       [  8625, 111514],\n",
       "       [  8634,  79777],\n",
       "       [  8663, 111520],\n",
       "       [  8664, 159692],\n",
       "       [  8894, 118742],\n",
       "       [  8929, 111480],\n",
       "       [  9015, 210308],\n",
       "       [  9037, 110971],\n",
       "       [  9105,   8945],\n",
       "       [  9164,  91106],\n",
       "       [  9180, 116178],\n",
       "       [  9232,  90818],\n",
       "       [  9256,   7965],\n",
       "       [  9294, 224610],\n",
       "       [  9301, 111296],\n",
       "       [  9467, 230732],\n",
       "       [  9474, 278972],\n",
       "       [  9482, 230594],\n",
       "       [  9488, 112938],\n",
       "       [  9489, 112940],\n",
       "       [  9490, 112944],\n",
       "       [  9492, 112942],\n",
       "       [  9495, 112957],\n",
       "       [  9497, 112959],\n",
       "       [  9498, 112956],\n",
       "       [  9505, 112960],\n",
       "       [  9506,  76364],\n",
       "       [  9515, 112939],\n",
       "       [  9520, 246642],\n",
       "       [  9528, 138041],\n",
       "       [  9548, 231277],\n",
       "       [  9553, 171891],\n",
       "       [  9577, 136019],\n",
       "       [  9603, 140583],\n",
       "       [  9612, 176980],\n",
       "       [  9613,  97856],\n",
       "       [  9651, 229347],\n",
       "       [  9658,  93795],\n",
       "       [  9733, 119302],\n",
       "       [  9735, 119302],\n",
       "       [  9765, 257847],\n",
       "       [  9832, 264574],\n",
       "       [  9840,  85174],\n",
       "       [  9846,  85160],\n",
       "       [  9866, 108636],\n",
       "       [  9875, 191921],\n",
       "       [  9920, 162796],\n",
       "       [ 10013, 196791],\n",
       "       [ 10039, 193263],\n",
       "       [ 10194, 131003],\n",
       "       [ 10285, 228370],\n",
       "       [ 10314, 158160],\n",
       "       [ 10336, 232365],\n",
       "       [ 10354, 224145],\n",
       "       [ 10400,  51917],\n",
       "       [ 10412, 195839],\n",
       "       [ 10456, 134034],\n",
       "       [ 10458, 269469],\n",
       "       [ 10460, 142594],\n",
       "       [ 10488, 148639],\n",
       "       [ 10514, 195586],\n",
       "       [ 10525, 191403],\n",
       "       [ 10553, 217584],\n",
       "       [ 10592, 160317],\n",
       "       [ 10620, 199337],\n",
       "       [ 10630,  11564],\n",
       "       [ 10635,  69112],\n",
       "       [ 10667, 264364],\n",
       "       [ 10682, 187876],\n",
       "       [ 10705, 165614],\n",
       "       [ 10707, 127289],\n",
       "       [ 10709, 187893],\n",
       "       [ 10747, 194776],\n",
       "       [ 10752, 187888],\n",
       "       [ 10775, 198844],\n",
       "       [ 10788, 195714],\n",
       "       [ 10794, 174814],\n",
       "       [ 10796, 199340],\n",
       "       [ 10800, 202765],\n",
       "       [ 10916, 237179],\n",
       "       [ 10920, 224979],\n",
       "       [ 10946, 252811],\n",
       "       [ 10954, 100171],\n",
       "       [ 10961,  69134],\n",
       "       [ 10962, 250986],\n",
       "       [ 11071, 104648],\n",
       "       [ 11141, 253653],\n",
       "       [ 11227,  12986],\n",
       "       [ 11242,   3459],\n",
       "       [ 11343, 275449],\n",
       "       [ 11373, 182779],\n",
       "       [ 11443, 116546],\n",
       "       [ 11518,  96174],\n",
       "       [ 11526, 243380],\n",
       "       [ 11534, 236987],\n",
       "       [ 11561, 164418],\n",
       "       [ 11586, 129251],\n",
       "       [ 11602,  26673],\n",
       "       [ 11612,  63414],\n",
       "       [ 11613, 217824],\n",
       "       [ 11663, 120578],\n",
       "       [ 11963,  10591],\n",
       "       [ 12025, 230790],\n",
       "       [ 12176, 230793],\n",
       "       [ 12214, 159458],\n",
       "       [ 12358, 144634],\n",
       "       [ 12524, 182327],\n",
       "       [ 12618, 111534],\n",
       "       [ 12630,  12822],\n",
       "       [ 12636, 119608],\n",
       "       [ 12771,  94126],\n",
       "       [ 12785, 108884],\n",
       "       [ 12832, 159237],\n",
       "       [ 12837, 159195],\n",
       "       [ 12885, 148449],\n",
       "       [ 12889, 103446],\n",
       "       [ 12931, 256926],\n",
       "       [ 12943, 243074],\n",
       "       [ 12988,  11241],\n",
       "       [ 13034, 100654],\n",
       "       [ 13043, 112930],\n",
       "       [ 13053, 110428],\n",
       "       [ 13054, 100208],\n",
       "       [ 13081,  51893],\n",
       "       [ 13117, 240408],\n",
       "       [ 13138, 107764],\n",
       "       [ 13287, 235203],\n",
       "       [ 13370, 213529],\n",
       "       [ 13435, 200443],\n",
       "       [ 13439, 208525],\n",
       "       [ 13485,  18959],\n",
       "       [ 13689, 135918],\n",
       "       [ 13780, 144079],\n",
       "       [ 14003, 131987],\n",
       "       [ 14015,  82815],\n",
       "       [ 14034, 148134],\n",
       "       [ 14097, 232437],\n",
       "       [ 14158, 135918],\n",
       "       [ 14176, 195711],\n",
       "       [ 14184, 153725],\n",
       "       [ 14203, 194646],\n",
       "       [ 14204, 194544],\n",
       "       [ 14206, 194542],\n",
       "       [ 14255, 161363],\n",
       "       [ 14256,  33694],\n",
       "       [ 14262,  11446],\n",
       "       [ 14269, 182738],\n",
       "       [ 14271, 126594],\n",
       "       [ 14389,  21530],\n",
       "       [ 14391, 263525],\n",
       "       [ 14392, 223344],\n",
       "       [ 14393, 195665],\n",
       "       [ 14394, 199362],\n",
       "       [ 14398,  53267],\n",
       "       [ 14399, 191345],\n",
       "       [ 14415, 194705],\n",
       "       [ 14465, 122340],\n",
       "       [ 14505, 148555],\n",
       "       [ 14507, 137418],\n",
       "       [ 14509, 137511],\n",
       "       [ 14527, 100243],\n",
       "       [ 14541, 132192],\n",
       "       [ 14553, 260123],\n",
       "       [ 14713, 278963],\n",
       "       [ 14807, 199209],\n",
       "       [ 14812, 182279],\n",
       "       [ 14822, 238181],\n",
       "       [ 14930, 193263],\n",
       "       [ 15033,  93805],\n",
       "       [ 15048, 145912],\n",
       "       [ 15816, 108594],\n",
       "       [ 15959, 224758],\n",
       "       [ 16042, 146923],\n",
       "       [ 16064, 230490],\n",
       "       [ 16068,  69112],\n",
       "       [ 16071, 194543],\n",
       "       [ 16086, 230491],\n",
       "       [ 16088, 230480],\n",
       "       [ 16091, 230461],\n",
       "       [ 16128, 230470],\n",
       "       [ 16233, 239168],\n",
       "       [ 16238, 255193],\n",
       "       [ 16246, 195148],\n",
       "       [ 16274, 220858],\n",
       "       [ 16275, 250538],\n",
       "       [ 16342, 164417],\n",
       "       [ 16384, 198998],\n",
       "       [ 16394, 191609],\n",
       "       [ 16410, 198912],\n",
       "       [ 16440, 157907],\n",
       "       [ 16551,  48135],\n",
       "       [ 16552, 165460],\n",
       "       [ 16555, 238184],\n",
       "       [ 16558, 194817],\n",
       "       [ 16562, 165859],\n",
       "       [ 16566, 198837],\n",
       "       [ 16570, 165442],\n",
       "       [ 16574, 249523],\n",
       "       [ 16606, 194756],\n",
       "       [ 16616, 238179],\n",
       "       [ 16657, 165436],\n",
       "       [ 16691, 165425],\n",
       "       [ 16717, 187877],\n",
       "       [ 16739, 249774],\n",
       "       [ 16760, 103593],\n",
       "       [ 16770, 157257],\n",
       "       [ 16784, 197079],\n",
       "       [ 16793, 139753],\n",
       "       [ 16796, 197079],\n",
       "       [ 16802, 242857],\n",
       "       [ 16809, 127395],\n",
       "       [ 16850, 187683],\n",
       "       [ 16857, 187686],\n",
       "       [ 16921, 265381],\n",
       "       [ 16944, 269549],\n",
       "       [ 16960, 117800],\n",
       "       [ 17031, 230732],\n",
       "       [ 17039, 106833],\n",
       "       [ 17052, 267889],\n",
       "       [ 17056, 106833],\n",
       "       [ 17060, 105894],\n",
       "       [ 17064, 200667],\n",
       "       [ 17068, 105894],\n",
       "       [ 17135, 134628],\n",
       "       [ 17290, 121737],\n",
       "       [ 17358, 120820],\n",
       "       [ 17526,  94462],\n",
       "       [ 17533,  17565],\n",
       "       [ 17571, 197931],\n",
       "       [ 17576, 197931],\n",
       "       [ 17584, 104668],\n",
       "       [ 17631,  59202],\n",
       "       [ 17764, 242248],\n",
       "       [ 17773,  60623],\n",
       "       [ 17787,  60623],\n",
       "       [ 17815, 118157],\n",
       "       [ 17898, 224766],\n",
       "       [ 17900, 224733],\n",
       "       [ 17925,    221],\n",
       "       [ 18004, 107640],\n",
       "       [ 18008,   4901],\n",
       "       [ 18009, 107654],\n",
       "       [ 18014, 267706],\n",
       "       [ 18016, 228304],\n",
       "       [ 18033, 131193],\n",
       "       [ 18181, 118373],\n",
       "       [ 18220, 113073],\n",
       "       [ 18318,  97401],\n",
       "       [ 18359, 130626],\n",
       "       [ 18366, 130632],\n",
       "       [ 18383, 255976],\n",
       "       [ 18392,  17189],\n",
       "       [ 18463,   6274],\n",
       "       [ 18580,  13631],\n",
       "       [ 18609, 103941],\n",
       "       [ 18689, 116502],\n",
       "       [ 18775, 103939],\n",
       "       [ 18867, 209410],\n",
       "       [ 18920, 209357],\n",
       "       [ 18935, 255322],\n",
       "       [ 18942, 159720],\n",
       "       [ 18950,  13470],\n",
       "       [ 18951, 250991],\n",
       "       [ 18958,  13556],\n",
       "       [ 19134, 219099],\n",
       "       [ 19201, 199337],\n",
       "       [ 19206, 266694],\n",
       "       [ 19209, 232830],\n",
       "       [ 19210, 195595],\n",
       "       [ 19407, 249158],\n",
       "       [ 19420, 174884],\n",
       "       [ 19460, 104554],\n",
       "       [ 19791,  71960],\n",
       "       [ 19797, 116369],\n",
       "       [ 19851, 191870],\n",
       "       [ 19908, 130704],\n",
       "       [ 19935,  96346],\n",
       "       [ 19964,  19403],\n",
       "       [ 20043, 114576],\n",
       "       [ 20056, 222746],\n",
       "       [ 20076, 230481]])"
      ]
     },
     "execution_count": 14,
     "metadata": {},
     "output_type": "execute_result"
    }
   ],
   "source": [
    "adv_detail[~adv_detail[\"N_advId\"].isnull()][['advId',\"N_advId\"]].astype(int).values[0:500]"
   ]
  },
  {
   "cell_type": "code",
   "execution_count": 10,
   "metadata": {},
   "outputs": [],
   "source": [
    "#diff_set=set(advid_2)-set(advid_1)"
   ]
  },
  {
   "cell_type": "code",
   "execution_count": 14,
   "metadata": {},
   "outputs": [],
   "source": [
    "#adv_detail1[adv_detail1['advId'].isin(diff_set)][[\"advId\",\"N_advId\"]].values"
   ]
  },
  {
   "cell_type": "code",
   "execution_count": 15,
   "metadata": {},
   "outputs": [],
   "source": [
    "#adv_detail1[~adv_detail1[\"N_advId\"].isnull()][['advId','N_advId']].shape"
   ]
  },
  {
   "cell_type": "code",
   "execution_count": null,
   "metadata": {},
   "outputs": [],
   "source": [
    "[   141, 129912],"
   ]
  },
  {
   "cell_type": "code",
   "execution_count": 14,
   "metadata": {},
   "outputs": [
    {
     "data": {
      "text/html": [
       "<div>\n",
       "<style scoped>\n",
       "    .dataframe tbody tr th:only-of-type {\n",
       "        vertical-align: middle;\n",
       "    }\n",
       "\n",
       "    .dataframe tbody tr th {\n",
       "        vertical-align: top;\n",
       "    }\n",
       "\n",
       "    .dataframe thead th {\n",
       "        text-align: right;\n",
       "    }\n",
       "</style>\n",
       "<table border=\"1\" class=\"dataframe\">\n",
       "  <thead>\n",
       "    <tr style=\"text-align: right;\">\n",
       "      <th></th>\n",
       "      <th>advisorId</th>\n",
       "      <th>researcherId</th>\n",
       "      <th>advisor_name</th>\n",
       "      <th>researcher_name</th>\n",
       "      <th>dc.language.iso[]</th>\n",
       "      <th>publisher_dept</th>\n",
       "      <th>DepartmentId</th>\n",
       "      <th>publisher_institution</th>\n",
       "      <th>instituteId</th>\n",
       "      <th>title</th>\n",
       "      <th>...</th>\n",
       "      <th>uniq_ddc_across_dept</th>\n",
       "      <th>N_DepartmentId_1</th>\n",
       "      <th>N_DepartmentId</th>\n",
       "      <th>previous_advisor_name</th>\n",
       "      <th>advisor_inst_dept</th>\n",
       "      <th>res_inst_dept</th>\n",
       "      <th>adv_names_rid</th>\n",
       "      <th>res_names_rid</th>\n",
       "      <th>advId</th>\n",
       "      <th>resId</th>\n",
       "    </tr>\n",
       "  </thead>\n",
       "  <tbody>\n",
       "    <tr>\n",
       "      <th>41257</th>\n",
       "      <td>17931</td>\n",
       "      <td>129912</td>\n",
       "      <td>Singh, Kulwinder</td>\n",
       "      <td>Bandhu, Tarlok</td>\n",
       "      <td>eng</td>\n",
       "      <td>department of education</td>\n",
       "      <td>D1418</td>\n",
       "      <td>Himachal Pradesh University</td>\n",
       "      <td>I49</td>\n",
       "      <td>A study of burnout among college teachers of P...</td>\n",
       "      <td>...</td>\n",
       "      <td>('300', '370')</td>\n",
       "      <td>D1418</td>\n",
       "      <td>D1418</td>\n",
       "      <td>Singh, Kulwinder</td>\n",
       "      <td>Singh, Kulwinder@I49@D1418</td>\n",
       "      <td>Bandhu, Tarlok@I49@D1418</td>\n",
       "      <td>Singh, Kulwinder@17931</td>\n",
       "      <td>Bandhu, Tarlok@129912</td>\n",
       "      <td>17931</td>\n",
       "      <td>129912</td>\n",
       "    </tr>\n",
       "  </tbody>\n",
       "</table>\n",
       "<p>1 rows × 27 columns</p>\n",
       "</div>"
      ],
      "text/plain": [
       "       advisorId  researcherId      advisor_name researcher_name  \\\n",
       "41257      17931        129912  Singh, Kulwinder  Bandhu, Tarlok   \n",
       "\n",
       "      dc.language.iso[]           publisher_dept DepartmentId  \\\n",
       "41257               eng  department of education        D1418   \n",
       "\n",
       "             publisher_institution instituteId  \\\n",
       "41257  Himachal Pradesh University         I49   \n",
       "\n",
       "                                                   title  ...  \\\n",
       "41257  A study of burnout among college teachers of P...  ...   \n",
       "\n",
       "      uniq_ddc_across_dept N_DepartmentId_1 N_DepartmentId  \\\n",
       "41257       ('300', '370')            D1418          D1418   \n",
       "\n",
       "      previous_advisor_name           advisor_inst_dept  \\\n",
       "41257      Singh, Kulwinder  Singh, Kulwinder@I49@D1418   \n",
       "\n",
       "                  res_inst_dept           adv_names_rid  \\\n",
       "41257  Bandhu, Tarlok@I49@D1418  Singh, Kulwinder@17931   \n",
       "\n",
       "               res_names_rid  advId   resId  \n",
       "41257  Bandhu, Tarlok@129912  17931  129912  \n",
       "\n",
       "[1 rows x 27 columns]"
      ]
     },
     "execution_count": 14,
     "metadata": {},
     "output_type": "execute_result"
    }
   ],
   "source": [
    "ment[ment['resId']==129912]"
   ]
  },
  {
   "cell_type": "code",
   "execution_count": 13,
   "metadata": {},
   "outputs": [
    {
     "data": {
      "text/html": [
       "<div>\n",
       "<style scoped>\n",
       "    .dataframe tbody tr th:only-of-type {\n",
       "        vertical-align: middle;\n",
       "    }\n",
       "\n",
       "    .dataframe tbody tr th {\n",
       "        vertical-align: top;\n",
       "    }\n",
       "\n",
       "    .dataframe thead th {\n",
       "        text-align: right;\n",
       "    }\n",
       "</style>\n",
       "<table border=\"1\" class=\"dataframe\">\n",
       "  <thead>\n",
       "    <tr style=\"text-align: right;\">\n",
       "      <th></th>\n",
       "      <th>advisorId</th>\n",
       "      <th>researcherId</th>\n",
       "      <th>advisor_name</th>\n",
       "      <th>researcher_name</th>\n",
       "      <th>dc.language.iso[]</th>\n",
       "      <th>publisher_dept</th>\n",
       "      <th>DepartmentId</th>\n",
       "      <th>publisher_institution</th>\n",
       "      <th>instituteId</th>\n",
       "      <th>title</th>\n",
       "      <th>...</th>\n",
       "      <th>uniq_ddc_across_dept</th>\n",
       "      <th>N_DepartmentId_1</th>\n",
       "      <th>N_DepartmentId</th>\n",
       "      <th>previous_advisor_name</th>\n",
       "      <th>advisor_inst_dept</th>\n",
       "      <th>res_inst_dept</th>\n",
       "      <th>adv_names_rid</th>\n",
       "      <th>res_names_rid</th>\n",
       "      <th>advId</th>\n",
       "      <th>resId</th>\n",
       "    </tr>\n",
       "  </thead>\n",
       "  <tbody>\n",
       "    <tr>\n",
       "      <th>334</th>\n",
       "      <td>141</td>\n",
       "      <td>93769</td>\n",
       "      <td>Bandhu, Tarlok</td>\n",
       "      <td>Kaur, Jasleen</td>\n",
       "      <td>eng</td>\n",
       "      <td>department of education</td>\n",
       "      <td>D623</td>\n",
       "      <td>Panjab University</td>\n",
       "      <td>I87</td>\n",
       "      <td>School environment and family support as corre...</td>\n",
       "      <td>...</td>\n",
       "      <td>('300', '370')</td>\n",
       "      <td>D1418</td>\n",
       "      <td>D1418</td>\n",
       "      <td>Bandhu, Tarlok</td>\n",
       "      <td>Bandhu, Tarlok@I87@D623</td>\n",
       "      <td>Kaur, Jasleen@I87@D623</td>\n",
       "      <td>Bandhu, Tarlok@141</td>\n",
       "      <td>Kaur, Jasleen@93769</td>\n",
       "      <td>141</td>\n",
       "      <td>93769</td>\n",
       "    </tr>\n",
       "  </tbody>\n",
       "</table>\n",
       "<p>1 rows × 27 columns</p>\n",
       "</div>"
      ],
      "text/plain": [
       "     advisorId  researcherId    advisor_name researcher_name  \\\n",
       "334        141         93769  Bandhu, Tarlok   Kaur, Jasleen   \n",
       "\n",
       "    dc.language.iso[]           publisher_dept DepartmentId  \\\n",
       "334               eng  department of education         D623   \n",
       "\n",
       "    publisher_institution instituteId  \\\n",
       "334     Panjab University         I87   \n",
       "\n",
       "                                                 title  ...  \\\n",
       "334  School environment and family support as corre...  ...   \n",
       "\n",
       "    uniq_ddc_across_dept N_DepartmentId_1 N_DepartmentId  \\\n",
       "334       ('300', '370')            D1418          D1418   \n",
       "\n",
       "    previous_advisor_name        advisor_inst_dept           res_inst_dept  \\\n",
       "334        Bandhu, Tarlok  Bandhu, Tarlok@I87@D623  Kaur, Jasleen@I87@D623   \n",
       "\n",
       "          adv_names_rid        res_names_rid advId  resId  \n",
       "334  Bandhu, Tarlok@141  Kaur, Jasleen@93769   141  93769  \n",
       "\n",
       "[1 rows x 27 columns]"
      ]
     },
     "execution_count": 13,
     "metadata": {},
     "output_type": "execute_result"
    }
   ],
   "source": [
    "ment[ment['advId']==141]"
   ]
  },
  {
   "cell_type": "code",
   "execution_count": 11,
   "metadata": {},
   "outputs": [
    {
     "data": {
      "text/plain": [
       "array(['department of sacred heart college(thevara). department of botany',\n",
       "       'department of sacred heart college(thevara).department of botany'],\n",
       "      dtype=object)"
      ]
     },
     "execution_count": 11,
     "metadata": {},
     "output_type": "execute_result"
    }
   ],
   "source": [
    "ment[ment['advId']==0]['publisher_dept'].values"
   ]
  },
  {
   "cell_type": "code",
   "execution_count": 17,
   "metadata": {},
   "outputs": [
    {
     "data": {
      "text/html": [
       "<div>\n",
       "<style scoped>\n",
       "    .dataframe tbody tr th:only-of-type {\n",
       "        vertical-align: middle;\n",
       "    }\n",
       "\n",
       "    .dataframe tbody tr th {\n",
       "        vertical-align: top;\n",
       "    }\n",
       "\n",
       "    .dataframe thead th {\n",
       "        text-align: right;\n",
       "    }\n",
       "</style>\n",
       "<table border=\"1\" class=\"dataframe\">\n",
       "  <thead>\n",
       "    <tr style=\"text-align: right;\">\n",
       "      <th></th>\n",
       "      <th>advisorId</th>\n",
       "      <th>researcherId</th>\n",
       "      <th>advisor_name</th>\n",
       "      <th>researcher_name</th>\n",
       "      <th>dc.language.iso[]</th>\n",
       "      <th>publisher_dept</th>\n",
       "      <th>DepartmentId</th>\n",
       "      <th>publisher_institution</th>\n",
       "      <th>instituteId</th>\n",
       "      <th>title</th>\n",
       "      <th>...</th>\n",
       "      <th>uniq_ddc_across_dept</th>\n",
       "      <th>N_DepartmentId_1</th>\n",
       "      <th>N_DepartmentId</th>\n",
       "      <th>previous_advisor_name</th>\n",
       "      <th>advisor_inst_dept</th>\n",
       "      <th>res_inst_dept</th>\n",
       "      <th>adv_names_rid</th>\n",
       "      <th>res_names_rid</th>\n",
       "      <th>advId</th>\n",
       "      <th>resId</th>\n",
       "    </tr>\n",
       "  </thead>\n",
       "  <tbody>\n",
       "    <tr>\n",
       "      <th>42068</th>\n",
       "      <td>18356</td>\n",
       "      <td>130632</td>\n",
       "      <td>Darbari, Hemant</td>\n",
       "      <td>Joshi, Nisheeth</td>\n",
       "      <td>eng</td>\n",
       "      <td>department of computer science newline</td>\n",
       "      <td>D344</td>\n",
       "      <td>Banasthali Univesity</td>\n",
       "      <td>I20</td>\n",
       "      <td>Implications of linguistic feature based evalu...</td>\n",
       "      <td>...</td>\n",
       "      <td>('',)</td>\n",
       "      <td>D344</td>\n",
       "      <td>D344</td>\n",
       "      <td>Darbari, Hemant</td>\n",
       "      <td>Darbari, Hemant@I20@D344</td>\n",
       "      <td>Joshi, Nisheeth@I20@D344</td>\n",
       "      <td>Darbari, Hemant@18356</td>\n",
       "      <td>Joshi, Nisheeth@130632</td>\n",
       "      <td>18356</td>\n",
       "      <td>130632</td>\n",
       "    </tr>\n",
       "  </tbody>\n",
       "</table>\n",
       "<p>1 rows × 27 columns</p>\n",
       "</div>"
      ],
      "text/plain": [
       "       advisorId  researcherId     advisor_name  researcher_name  \\\n",
       "42068      18356        130632  Darbari, Hemant  Joshi, Nisheeth   \n",
       "\n",
       "      dc.language.iso[]                          publisher_dept DepartmentId  \\\n",
       "42068               eng  department of computer science newline         D344   \n",
       "\n",
       "      publisher_institution instituteId  \\\n",
       "42068  Banasthali Univesity         I20   \n",
       "\n",
       "                                                   title  ...  \\\n",
       "42068  Implications of linguistic feature based evalu...  ...   \n",
       "\n",
       "      uniq_ddc_across_dept N_DepartmentId_1 N_DepartmentId  \\\n",
       "42068                ('',)             D344           D344   \n",
       "\n",
       "      previous_advisor_name         advisor_inst_dept  \\\n",
       "42068       Darbari, Hemant  Darbari, Hemant@I20@D344   \n",
       "\n",
       "                  res_inst_dept          adv_names_rid  \\\n",
       "42068  Joshi, Nisheeth@I20@D344  Darbari, Hemant@18356   \n",
       "\n",
       "                res_names_rid  advId   resId  \n",
       "42068  Joshi, Nisheeth@130632  18356  130632  \n",
       "\n",
       "[1 rows x 27 columns]"
      ]
     },
     "execution_count": 17,
     "metadata": {},
     "output_type": "execute_result"
    }
   ],
   "source": [
    "ment[ment['resId']==130632]"
   ]
  },
  {
   "cell_type": "code",
   "execution_count": null,
   "metadata": {},
   "outputs": [],
   "source": [
    "#ment.columns"
   ]
  },
  {
   "cell_type": "code",
   "execution_count": null,
   "metadata": {},
   "outputs": [],
   "source": [
    "#adv_detail.columns"
   ]
  },
  {
   "cell_type": "code",
   "execution_count": null,
   "metadata": {},
   "outputs": [],
   "source": [
    "index = adv_detail[~((adv_detail['N_advId'].isnull()))].copy()"
   ]
  },
  {
   "cell_type": "code",
   "execution_count": null,
   "metadata": {},
   "outputs": [],
   "source": [
    "index.shape"
   ]
  },
  {
   "cell_type": "code",
   "execution_count": null,
   "metadata": {},
   "outputs": [],
   "source": [
    "index.drop_duplicates(subset=['advId'], keep='first', inplace=True)"
   ]
  },
  {
   "cell_type": "code",
   "execution_count": null,
   "metadata": {},
   "outputs": [],
   "source": [
    "index['N_advId'] = index['N_advId'].astype(int)"
   ]
  },
  {
   "cell_type": "code",
   "execution_count": null,
   "metadata": {},
   "outputs": [],
   "source": [
    "index.shape"
   ]
  },
  {
   "cell_type": "code",
   "execution_count": null,
   "metadata": {},
   "outputs": [],
   "source": [
    "index.head()"
   ]
  },
  {
   "cell_type": "code",
   "execution_count": null,
   "metadata": {},
   "outputs": [],
   "source": [
    "#adv_detail[(adv_detail['new_advId_1']=='multiple')]"
   ]
  },
  {
   "cell_type": "code",
   "execution_count": null,
   "metadata": {},
   "outputs": [],
   "source": [
    "#ment[ment['researcherId']==94770]"
   ]
  },
  {
   "cell_type": "code",
   "execution_count": null,
   "metadata": {},
   "outputs": [],
   "source": [
    "#linking advsior with student \n",
    "index_dict = index.set_index('advisorId').to_dict()['new_advId_1']\n",
    "ment['advisorId'] = ment['advisorId'].replace(index_dict)"
   ]
  },
  {
   "cell_type": "code",
   "execution_count": null,
   "metadata": {},
   "outputs": [],
   "source": [
    "# generating index file to be used with author_disambiguation file\n",
    "# ment['adv_names_rid']=ment['advisor_name']+\"@\"+ment['advisorId'].astype(str)\n",
    "# ment['res_names_rid']=ment['researcher_name']+\"@\"+ment['researcherId'].astype(str)\n",
    "# index_ment=pd.unique(ment[['adv_names_rid', 'res_names_rid']].values.ravel('K'))\n",
    "# name_index=pd.DataFrame({'r_names_rid':index_ment})\n",
    "# name_index[['r_names','rid']]=name_index['r_names_rid'].str.split(\"@\",expand=True)\n",
    "# name_index.drop(columns=['r_names_rid'],inplace=True)\n",
    "# name_index['rid']=name_index['rid'].astype(int)"
   ]
  },
  {
   "cell_type": "code",
   "execution_count": null,
   "metadata": {},
   "outputs": [],
   "source": [
    "ment.columns"
   ]
  },
  {
   "cell_type": "code",
   "execution_count": null,
   "metadata": {},
   "outputs": [],
   "source": [
    "#ment.rename(columns={\"dc.publisher.institution[]\":\"publisher_institution\",\"dc.publisher.department[]\":\"publisher_dept\"}, inplace=True)"
   ]
  },
  {
   "cell_type": "code",
   "execution_count": null,
   "metadata": {},
   "outputs": [],
   "source": [
    "#name_index.shape"
   ]
  },
  {
   "cell_type": "code",
   "execution_count": null,
   "metadata": {},
   "outputs": [],
   "source": [
    "#index[index['advisorId'].duplicated()]"
   ]
  },
  {
   "cell_type": "code",
   "execution_count": null,
   "metadata": {},
   "outputs": [],
   "source": [
    "#ment.head()"
   ]
  },
  {
   "cell_type": "code",
   "execution_count": null,
   "metadata": {},
   "outputs": [],
   "source": [
    "#ment[ment['advisorId']==132735]"
   ]
  },
  {
   "cell_type": "code",
   "execution_count": null,
   "metadata": {},
   "outputs": [],
   "source": [
    "#ment[ment['researcherId']==132735]"
   ]
  },
  {
   "cell_type": "code",
   "execution_count": null,
   "metadata": {},
   "outputs": [],
   "source": [
    "#ment[ment['researcher_name']==\"Jose, Joseph\"]"
   ]
  },
  {
   "cell_type": "code",
   "execution_count": null,
   "metadata": {},
   "outputs": [],
   "source": [
    "#ment[ment['advisor_name']==\"Jose, Joseph\"]"
   ]
  },
  {
   "cell_type": "code",
   "execution_count": null,
   "metadata": {},
   "outputs": [],
   "source": [
    "#ment[(ment['advisor_name']==\"Kumar, Ashwani\")]"
   ]
  },
  {
   "cell_type": "code",
   "execution_count": null,
   "metadata": {},
   "outputs": [],
   "source": [
    "#ment[(ment['researcher_name']=='Kumar, Ashwani')]"
   ]
  },
  {
   "cell_type": "code",
   "execution_count": null,
   "metadata": {},
   "outputs": [],
   "source": [
    "#ment.to_csv(\"./index_files4/final_ment_w_baseline_gen4.csv\", index=False)"
   ]
  },
  {
   "cell_type": "code",
   "execution_count": 18,
   "metadata": {},
   "outputs": [],
   "source": [
    "def join_advisor_stud(ment_file1=folder+\"shodhganga_ment_with_disamb_ids.csv\",adv_file2=folder+\"advisorid_studentid_link_with_baseline_gen4_1.csv\"):\n",
    "    adv_detail = pd.read_csv(adv_file2)\n",
    "    ment = pd.read_csv(ment_file1)\n",
    "    index = adv_detail[~(adv_detail['N_advId'].isnull())].copy()\n",
    "    #index = adv_detail[~((adv_detail['new_advId_1'].isnull()) | (adv_detail['new_advId_1']=='good')|(adv_detail['new_advId_1']=='multiple'))].copy()\n",
    "    #index.drop_duplicates(subset=['advisorId'], keep='first', inplace=True)\n",
    "    index['N_advId'] = index['N_advId'].astype(int)\n",
    "    index_dict = index.set_index('advId').to_dict()['N_advId']\n",
    "    ment['advId'] = ment['advId'].replace(index_dict)\n",
    "    loc=ment_file1.split(\"/\")\n",
    "    save_loc=\"/\".join(loc[0:-1])+\"/joined_stud_adv_\"+loc[-1]\n",
    "    ment.to_csv(save_loc, index=False)\n",
    "    print('Done')\n",
    "    return ment"
   ]
  },
  {
   "cell_type": "code",
   "execution_count": null,
   "metadata": {},
   "outputs": [],
   "source": []
  },
  {
   "cell_type": "code",
   "execution_count": null,
   "metadata": {},
   "outputs": [],
   "source": [
    "#loc=\"./index_files4/mod_ment_w_baseline_gen4.csv\".split(\"/\")"
   ]
  },
  {
   "cell_type": "code",
   "execution_count": 19,
   "metadata": {},
   "outputs": [
    {
     "name": "stdout",
     "output_type": "stream",
     "text": [
      "Done\n"
     ]
    }
   ],
   "source": [
    "ment_mod=join_advisor_stud()"
   ]
  },
  {
   "cell_type": "code",
   "execution_count": null,
   "metadata": {},
   "outputs": [],
   "source": [
    "ment_mod[ment_mod['advId']==1.37412e+05]"
   ]
  },
  {
   "cell_type": "code",
   "execution_count": null,
   "metadata": {},
   "outputs": [],
   "source": [
    "ment_mod[ment_mod['resId']==1.37412e+05]"
   ]
  },
  {
   "cell_type": "code",
   "execution_count": 57,
   "metadata": {},
   "outputs": [
    {
     "data": {
      "text/plain": [
       "advisorId                       0\n",
       "researcherId                    0\n",
       "advisor_name                    0\n",
       "researcher_name                 0\n",
       "dc.language.iso[]               0\n",
       "publisher_dept                  0\n",
       "DepartmentId                    0\n",
       "publisher_institution           0\n",
       "instituteId                     0\n",
       "title                           0\n",
       "thesisId                        0\n",
       "dc.type.degree                  0\n",
       "date_submitted              14709\n",
       "dc.date.awarded            156063\n",
       "dc.subject.ddc               3686\n",
       "dc.description.abstract    188197\n",
       "dc.title.alternative       200385\n",
       "uniq_ddc_across_dept            0\n",
       "N_DepartmentId_1                0\n",
       "advisor_inst_dept               0\n",
       "res_inst_dept                   0\n",
       "adv_names_rid                   0\n",
       "res_names_rid                   0\n",
       "advId                           0\n",
       "resId                           0\n",
       "dtype: int64"
      ]
     },
     "execution_count": 57,
     "metadata": {},
     "output_type": "execute_result"
    }
   ],
   "source": [
    "ment_mod.isna().sum()"
   ]
  },
  {
   "cell_type": "code",
   "execution_count": 60,
   "metadata": {},
   "outputs": [
    {
     "data": {
      "text/plain": [
       "(205518, 25)"
      ]
     },
     "execution_count": 60,
     "metadata": {},
     "output_type": "execute_result"
    }
   ],
   "source": [
    "ment_mod[ment_mod['advId'].notnull()].shape"
   ]
  },
  {
   "cell_type": "code",
   "execution_count": null,
   "metadata": {},
   "outputs": [],
   "source": []
  },
  {
   "cell_type": "code",
   "execution_count": null,
   "metadata": {},
   "outputs": [],
   "source": []
  }
 ],
 "metadata": {
  "kernelspec": {
   "display_name": "Python 3",
   "language": "python",
   "name": "python3"
  },
  "language_info": {
   "codemirror_mode": {
    "name": "ipython",
    "version": 3
   },
   "file_extension": ".py",
   "mimetype": "text/x-python",
   "name": "python",
   "nbconvert_exporter": "python",
   "pygments_lexer": "ipython3",
   "version": "3.7.12"
  }
 },
 "nbformat": 4,
 "nbformat_minor": 4
}
