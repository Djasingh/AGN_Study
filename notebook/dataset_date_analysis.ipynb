{
 "cells": [
  {
   "cell_type": "code",
   "execution_count": 1,
   "metadata": {},
   "outputs": [],
   "source": [
    "import pandas as pd\n",
    "import numpy as np"
   ]
  },
  {
   "cell_type": "code",
   "execution_count": 2,
   "metadata": {},
   "outputs": [],
   "source": [
    "folder=\"dataset_v5/\""
   ]
  },
  {
   "cell_type": "code",
   "execution_count": 3,
   "metadata": {},
   "outputs": [],
   "source": [
    "#ment=pd.read_csv(\"./base_data/processed_sodhganga_mentorship_dept_rev1.csv\", sep=\",\")"
   ]
  },
  {
   "cell_type": "code",
   "execution_count": 4,
   "metadata": {},
   "outputs": [],
   "source": [
    "ment = pd.read_csv(folder+\"final_shodhganga_dataset_v5.csv\")"
   ]
  },
  {
   "cell_type": "code",
   "execution_count": 5,
   "metadata": {},
   "outputs": [],
   "source": [
    "ment['date_submitted']=pd.to_datetime(ment['date_submitted'],errors=\"coerce\")\n",
    "ment['dc.date.awarded']=pd.to_datetime(ment['dc.date.awarded'],errors='coerce')"
   ]
  },
  {
   "cell_type": "code",
   "execution_count": 6,
   "metadata": {},
   "outputs": [
    {
     "data": {
      "text/html": [
       "<div>\n",
       "<style scoped>\n",
       "    .dataframe tbody tr th:only-of-type {\n",
       "        vertical-align: middle;\n",
       "    }\n",
       "\n",
       "    .dataframe tbody tr th {\n",
       "        vertical-align: top;\n",
       "    }\n",
       "\n",
       "    .dataframe thead th {\n",
       "        text-align: right;\n",
       "    }\n",
       "</style>\n",
       "<table border=\"1\" class=\"dataframe\">\n",
       "  <thead>\n",
       "    <tr style=\"text-align: right;\">\n",
       "      <th></th>\n",
       "      <th>advisorId</th>\n",
       "      <th>researcherId</th>\n",
       "      <th>advId</th>\n",
       "      <th>resId</th>\n",
       "      <th>advisor_name</th>\n",
       "      <th>researcher_name</th>\n",
       "      <th>publisher_dept</th>\n",
       "      <th>DepartmentId</th>\n",
       "      <th>publisher_institution</th>\n",
       "      <th>instituteId</th>\n",
       "      <th>title</th>\n",
       "      <th>thesisId</th>\n",
       "      <th>N_thesisId</th>\n",
       "      <th>date_submitted</th>\n",
       "      <th>dc.date.awarded</th>\n",
       "      <th>dc.subject.ddc</th>\n",
       "      <th>uniq_ddc_across_dept</th>\n",
       "      <th>dc.description.abstract</th>\n",
       "      <th>dc.title.alternative</th>\n",
       "    </tr>\n",
       "  </thead>\n",
       "  <tbody>\n",
       "    <tr>\n",
       "      <th>0</th>\n",
       "      <td>0</td>\n",
       "      <td>93634</td>\n",
       "      <td>137657</td>\n",
       "      <td>93634</td>\n",
       "      <td>Jose, Joseph</td>\n",
       "      <td>Thoppil, John E.</td>\n",
       "      <td>department of sacred heart college(thevara). d...</td>\n",
       "      <td>D864</td>\n",
       "      <td>Mahatma Gandhi University</td>\n",
       "      <td>I251</td>\n",
       "      <td>Chromosome studies and exploration of chemical...</td>\n",
       "      <td>T121508</td>\n",
       "      <td>T121508</td>\n",
       "      <td>1998-01-01</td>\n",
       "      <td>1993-12-16</td>\n",
       "      <td>500::Natural sciences &amp; mathematics|580::Plant...</td>\n",
       "      <td>('500', '580')</td>\n",
       "      <td>NaN</td>\n",
       "      <td>NaN</td>\n",
       "    </tr>\n",
       "    <tr>\n",
       "      <th>1</th>\n",
       "      <td>0</td>\n",
       "      <td>93637</td>\n",
       "      <td>137657</td>\n",
       "      <td>93637</td>\n",
       "      <td>Jose, Joseph</td>\n",
       "      <td>Joseph, Roy</td>\n",
       "      <td>department of sacred heart college(thevara).de...</td>\n",
       "      <td>D864</td>\n",
       "      <td>Mahatma Gandhi University</td>\n",
       "      <td>I251</td>\n",
       "      <td>Karyomorphometrical analysis and exploration o...</td>\n",
       "      <td>T172826</td>\n",
       "      <td>T172826</td>\n",
       "      <td>1998-01-01</td>\n",
       "      <td>NaT</td>\n",
       "      <td>500::Natural sciences &amp; mathematics|580::Plant...</td>\n",
       "      <td>('500', '580')</td>\n",
       "      <td>NaN</td>\n",
       "      <td>NaN</td>\n",
       "    </tr>\n",
       "    <tr>\n",
       "      <th>2</th>\n",
       "      <td>1</td>\n",
       "      <td>93635</td>\n",
       "      <td>1</td>\n",
       "      <td>93635</td>\n",
       "      <td>Joy, C. M.</td>\n",
       "      <td>Jose, K P.</td>\n",
       "      <td>department of sacred heart college(thevara).de...</td>\n",
       "      <td>D864</td>\n",
       "      <td>Mahatma Gandhi University</td>\n",
       "      <td>I251</td>\n",
       "      <td>Strategies to improve the quality of spices cu...</td>\n",
       "      <td>T149232</td>\n",
       "      <td>T149232</td>\n",
       "      <td>2002-01-07</td>\n",
       "      <td>NaT</td>\n",
       "      <td>500::Natural sciences &amp; mathematics|580::Plant...</td>\n",
       "      <td>('500', '580')</td>\n",
       "      <td>NaN</td>\n",
       "      <td>NaN</td>\n",
       "    </tr>\n",
       "    <tr>\n",
       "      <th>3</th>\n",
       "      <td>2</td>\n",
       "      <td>93636</td>\n",
       "      <td>2</td>\n",
       "      <td>93636</td>\n",
       "      <td>Joseph, Joy P.</td>\n",
       "      <td>Aruna, A.</td>\n",
       "      <td>department of sacred heart college(thevara).de...</td>\n",
       "      <td>D864</td>\n",
       "      <td>Mahatma Gandhi University</td>\n",
       "      <td>I251</td>\n",
       "      <td>Studies on micropropagation for conservation o...</td>\n",
       "      <td>T134031</td>\n",
       "      <td>T134031</td>\n",
       "      <td>2004-01-04</td>\n",
       "      <td>2005-01-04</td>\n",
       "      <td>500::Natural sciences &amp; mathematics|580::Plant...</td>\n",
       "      <td>('500', '580')</td>\n",
       "      <td>NaN</td>\n",
       "      <td>NaN</td>\n",
       "    </tr>\n",
       "    <tr>\n",
       "      <th>4</th>\n",
       "      <td>2</td>\n",
       "      <td>93689</td>\n",
       "      <td>2</td>\n",
       "      <td>93689</td>\n",
       "      <td>Joseph, Joy P.</td>\n",
       "      <td>George, Rose</td>\n",
       "      <td>department of sacred heart college(kottayam).d...</td>\n",
       "      <td>D864</td>\n",
       "      <td>Mahatma Gandhi University</td>\n",
       "      <td>I251</td>\n",
       "      <td>In vivo screening evaiuation and exploitation ...</td>\n",
       "      <td>T10269</td>\n",
       "      <td>T10269</td>\n",
       "      <td>2004-01-05</td>\n",
       "      <td>2005-06-30</td>\n",
       "      <td>500::Natural sciences &amp; mathematics|580::Plant...</td>\n",
       "      <td>('500', '580')</td>\n",
       "      <td>The steroid alkaloid solasodine (C2PI3O2Nh) as...</td>\n",
       "      <td>NaN</td>\n",
       "    </tr>\n",
       "  </tbody>\n",
       "</table>\n",
       "</div>"
      ],
      "text/plain": [
       "   advisorId  researcherId   advId  resId    advisor_name   researcher_name  \\\n",
       "0          0         93634  137657  93634    Jose, Joseph  Thoppil, John E.   \n",
       "1          0         93637  137657  93637    Jose, Joseph       Joseph, Roy   \n",
       "2          1         93635       1  93635      Joy, C. M.        Jose, K P.   \n",
       "3          2         93636       2  93636  Joseph, Joy P.         Aruna, A.   \n",
       "4          2         93689       2  93689  Joseph, Joy P.      George, Rose   \n",
       "\n",
       "                                      publisher_dept DepartmentId  \\\n",
       "0  department of sacred heart college(thevara). d...         D864   \n",
       "1  department of sacred heart college(thevara).de...         D864   \n",
       "2  department of sacred heart college(thevara).de...         D864   \n",
       "3  department of sacred heart college(thevara).de...         D864   \n",
       "4  department of sacred heart college(kottayam).d...         D864   \n",
       "\n",
       "       publisher_institution instituteId  \\\n",
       "0  Mahatma Gandhi University        I251   \n",
       "1  Mahatma Gandhi University        I251   \n",
       "2  Mahatma Gandhi University        I251   \n",
       "3  Mahatma Gandhi University        I251   \n",
       "4  Mahatma Gandhi University        I251   \n",
       "\n",
       "                                               title thesisId N_thesisId  \\\n",
       "0  Chromosome studies and exploration of chemical...  T121508    T121508   \n",
       "1  Karyomorphometrical analysis and exploration o...  T172826    T172826   \n",
       "2  Strategies to improve the quality of spices cu...  T149232    T149232   \n",
       "3  Studies on micropropagation for conservation o...  T134031    T134031   \n",
       "4  In vivo screening evaiuation and exploitation ...   T10269     T10269   \n",
       "\n",
       "  date_submitted dc.date.awarded  \\\n",
       "0     1998-01-01      1993-12-16   \n",
       "1     1998-01-01             NaT   \n",
       "2     2002-01-07             NaT   \n",
       "3     2004-01-04      2005-01-04   \n",
       "4     2004-01-05      2005-06-30   \n",
       "\n",
       "                                      dc.subject.ddc uniq_ddc_across_dept  \\\n",
       "0  500::Natural sciences & mathematics|580::Plant...       ('500', '580')   \n",
       "1  500::Natural sciences & mathematics|580::Plant...       ('500', '580')   \n",
       "2  500::Natural sciences & mathematics|580::Plant...       ('500', '580')   \n",
       "3  500::Natural sciences & mathematics|580::Plant...       ('500', '580')   \n",
       "4  500::Natural sciences & mathematics|580::Plant...       ('500', '580')   \n",
       "\n",
       "                             dc.description.abstract dc.title.alternative  \n",
       "0                                                NaN                  NaN  \n",
       "1                                                NaN                  NaN  \n",
       "2                                                NaN                  NaN  \n",
       "3                                                NaN                  NaN  \n",
       "4  The steroid alkaloid solasodine (C2PI3O2Nh) as...                  NaN  "
      ]
     },
     "execution_count": 6,
     "metadata": {},
     "output_type": "execute_result"
    }
   ],
   "source": [
    "ment.head()"
   ]
  },
  {
   "cell_type": "code",
   "execution_count": 7,
   "metadata": {},
   "outputs": [
    {
     "data": {
      "text/plain": [
       "(201845, 19)"
      ]
     },
     "execution_count": 7,
     "metadata": {},
     "output_type": "execute_result"
    }
   ],
   "source": [
    "ment.shape"
   ]
  },
  {
   "cell_type": "code",
   "execution_count": 8,
   "metadata": {},
   "outputs": [
    {
     "data": {
      "text/plain": [
       "advisorId                       0\n",
       "researcherId                    0\n",
       "advId                           0\n",
       "resId                           0\n",
       "advisor_name                    0\n",
       "researcher_name                 0\n",
       "publisher_dept                  0\n",
       "DepartmentId                    0\n",
       "publisher_institution           0\n",
       "instituteId                     0\n",
       "title                           0\n",
       "thesisId                        0\n",
       "N_thesisId                      0\n",
       "date_submitted              14470\n",
       "dc.date.awarded            153347\n",
       "dc.subject.ddc               3632\n",
       "uniq_ddc_across_dept            0\n",
       "dc.description.abstract    184725\n",
       "dc.title.alternative       196816\n",
       "dtype: int64"
      ]
     },
     "execution_count": 8,
     "metadata": {},
     "output_type": "execute_result"
    }
   ],
   "source": [
    "ment.isna().sum()"
   ]
  },
  {
   "cell_type": "code",
   "execution_count": null,
   "metadata": {},
   "outputs": [],
   "source": [
    "#ment[ment['advisor_name'].str.contains(\"Adholeya, Alok\",na=False)]"
   ]
  },
  {
   "cell_type": "code",
   "execution_count": null,
   "metadata": {},
   "outputs": [],
   "source": [
    "#ment[ment['advisorId']==18287].values"
   ]
  },
  {
   "cell_type": "code",
   "execution_count": null,
   "metadata": {},
   "outputs": [],
   "source": [
    "#ment[ment['advisorId']==18307]"
   ]
  },
  {
   "cell_type": "code",
   "execution_count": null,
   "metadata": {},
   "outputs": [],
   "source": [
    "#ment[ment['dc.date.awarded']==\"2014-02-30\"]"
   ]
  },
  {
   "cell_type": "code",
   "execution_count": 10,
   "metadata": {},
   "outputs": [],
   "source": [
    "#ment[ment['dc.date.awarded']==\"2014-02-30\"]"
   ]
  },
  {
   "cell_type": "code",
   "execution_count": 11,
   "metadata": {},
   "outputs": [],
   "source": [
    "ment_date=ment[(ment['date_submitted'].notnull()) & (ment['dc.date.awarded'].notnull())].copy()"
   ]
  },
  {
   "cell_type": "code",
   "execution_count": null,
   "metadata": {},
   "outputs": [],
   "source": [
    "# ment_date['date_submitted']=pd.to_datetime(ment_date['date_submitted'])\n",
    "# ment_date['dc.date.awarded']=pd.to_datetime(ment_date['dc.date.awarded'])"
   ]
  },
  {
   "cell_type": "code",
   "execution_count": 12,
   "metadata": {},
   "outputs": [],
   "source": [
    "ment_date['diff_in_months'] = ((ment_date['dc.date.awarded'] - ment_date['date_submitted'])/np.timedelta64(1, 'M'))"
   ]
  },
  {
   "cell_type": "code",
   "execution_count": 14,
   "metadata": {},
   "outputs": [],
   "source": [
    "ment_date['diff_in_months']  = ment_date['diff_in_months'].astype(int)"
   ]
  },
  {
   "cell_type": "code",
   "execution_count": 15,
   "metadata": {},
   "outputs": [
    {
     "data": {
      "text/plain": [
       "(48496, 20)"
      ]
     },
     "execution_count": 15,
     "metadata": {},
     "output_type": "execute_result"
    }
   ],
   "source": [
    "ment_date.shape"
   ]
  },
  {
   "cell_type": "code",
   "execution_count": 16,
   "metadata": {},
   "outputs": [
    {
     "data": {
      "text/plain": [
       "0   -48\n",
       "3    12\n",
       "4    17\n",
       "5    10\n",
       "6     1\n",
       "Name: diff_in_months, dtype: int64"
      ]
     },
     "execution_count": 16,
     "metadata": {},
     "output_type": "execute_result"
    }
   ],
   "source": [
    "ment_date['diff_in_months'].head()"
   ]
  },
  {
   "cell_type": "code",
   "execution_count": 17,
   "metadata": {},
   "outputs": [
    {
     "data": {
      "text/plain": [
       "6.135578192015837"
      ]
     },
     "execution_count": 17,
     "metadata": {},
     "output_type": "execute_result"
    }
   ],
   "source": [
    "np.mean(ment_date['diff_in_months'])  #Avg. 6 month difference between data_submitted and date_awarded"
   ]
  },
  {
   "cell_type": "code",
   "execution_count": 18,
   "metadata": {},
   "outputs": [
    {
     "data": {
      "text/plain": [
       "384"
      ]
     },
     "execution_count": 18,
     "metadata": {},
     "output_type": "execute_result"
    }
   ],
   "source": [
    "np.max(ment_date['diff_in_months'])"
   ]
  },
  {
   "cell_type": "code",
   "execution_count": 19,
   "metadata": {},
   "outputs": [
    {
     "data": {
      "text/plain": [
       "-1302"
      ]
     },
     "execution_count": 19,
     "metadata": {},
     "output_type": "execute_result"
    }
   ],
   "source": [
    "np.min(ment_date['diff_in_months'])"
   ]
  },
  {
   "cell_type": "code",
   "execution_count": 20,
   "metadata": {},
   "outputs": [
    {
     "data": {
      "text/plain": [
       "(2156, 20)"
      ]
     },
     "execution_count": 20,
     "metadata": {},
     "output_type": "execute_result"
    }
   ],
   "source": [
    "ment_date[ment_date['diff_in_months'] < 0].shape  # 2186 cases where data_submitted > date_awarded"
   ]
  },
  {
   "cell_type": "code",
   "execution_count": 21,
   "metadata": {},
   "outputs": [
    {
     "data": {
      "text/html": [
       "<div>\n",
       "<style scoped>\n",
       "    .dataframe tbody tr th:only-of-type {\n",
       "        vertical-align: middle;\n",
       "    }\n",
       "\n",
       "    .dataframe tbody tr th {\n",
       "        vertical-align: top;\n",
       "    }\n",
       "\n",
       "    .dataframe thead th {\n",
       "        text-align: right;\n",
       "    }\n",
       "</style>\n",
       "<table border=\"1\" class=\"dataframe\">\n",
       "  <thead>\n",
       "    <tr style=\"text-align: right;\">\n",
       "      <th></th>\n",
       "      <th>date_submitted</th>\n",
       "      <th>dc.date.awarded</th>\n",
       "      <th>diff_in_months</th>\n",
       "    </tr>\n",
       "  </thead>\n",
       "  <tbody>\n",
       "    <tr>\n",
       "      <th>0</th>\n",
       "      <td>1998-01-01</td>\n",
       "      <td>1993-12-16</td>\n",
       "      <td>-48</td>\n",
       "    </tr>\n",
       "    <tr>\n",
       "      <th>36</th>\n",
       "      <td>2009-10-06</td>\n",
       "      <td>2009-08-25</td>\n",
       "      <td>-1</td>\n",
       "    </tr>\n",
       "    <tr>\n",
       "      <th>67</th>\n",
       "      <td>2011-03-31</td>\n",
       "      <td>2011-01-01</td>\n",
       "      <td>-2</td>\n",
       "    </tr>\n",
       "    <tr>\n",
       "      <th>151</th>\n",
       "      <td>2014-12-02</td>\n",
       "      <td>2014-10-13</td>\n",
       "      <td>-1</td>\n",
       "    </tr>\n",
       "    <tr>\n",
       "      <th>930</th>\n",
       "      <td>2010-02-26</td>\n",
       "      <td>2010-01-12</td>\n",
       "      <td>-1</td>\n",
       "    </tr>\n",
       "  </tbody>\n",
       "</table>\n",
       "</div>"
      ],
      "text/plain": [
       "    date_submitted dc.date.awarded  diff_in_months\n",
       "0       1998-01-01      1993-12-16             -48\n",
       "36      2009-10-06      2009-08-25              -1\n",
       "67      2011-03-31      2011-01-01              -2\n",
       "151     2014-12-02      2014-10-13              -1\n",
       "930     2010-02-26      2010-01-12              -1"
      ]
     },
     "execution_count": 21,
     "metadata": {},
     "output_type": "execute_result"
    }
   ],
   "source": [
    "ment_date[ment_date['diff_in_months'] < 0][['date_submitted','dc.date.awarded','diff_in_months']].head()"
   ]
  },
  {
   "cell_type": "code",
   "execution_count": 22,
   "metadata": {},
   "outputs": [
    {
     "data": {
      "text/plain": [
       "Index(['advisorId', 'researcherId', 'advId', 'resId', 'advisor_name',\n",
       "       'researcher_name', 'publisher_dept', 'DepartmentId',\n",
       "       'publisher_institution', 'instituteId', 'title', 'thesisId',\n",
       "       'N_thesisId', 'date_submitted', 'dc.date.awarded', 'dc.subject.ddc',\n",
       "       'uniq_ddc_across_dept', 'dc.description.abstract',\n",
       "       'dc.title.alternative'],\n",
       "      dtype='object')"
      ]
     },
     "execution_count": 22,
     "metadata": {},
     "output_type": "execute_result"
    }
   ],
   "source": [
    "ment.columns"
   ]
  },
  {
   "cell_type": "code",
   "execution_count": 23,
   "metadata": {},
   "outputs": [
    {
     "data": {
      "text/html": [
       "<div>\n",
       "<style scoped>\n",
       "    .dataframe tbody tr th:only-of-type {\n",
       "        vertical-align: middle;\n",
       "    }\n",
       "\n",
       "    .dataframe tbody tr th {\n",
       "        vertical-align: top;\n",
       "    }\n",
       "\n",
       "    .dataframe thead th {\n",
       "        text-align: right;\n",
       "    }\n",
       "</style>\n",
       "<table border=\"1\" class=\"dataframe\">\n",
       "  <thead>\n",
       "    <tr style=\"text-align: right;\">\n",
       "      <th></th>\n",
       "      <th>advisorId</th>\n",
       "      <th>researcherId</th>\n",
       "      <th>advId</th>\n",
       "      <th>resId</th>\n",
       "      <th>advisor_name</th>\n",
       "      <th>researcher_name</th>\n",
       "      <th>publisher_dept</th>\n",
       "      <th>DepartmentId</th>\n",
       "      <th>publisher_institution</th>\n",
       "      <th>instituteId</th>\n",
       "      <th>title</th>\n",
       "      <th>thesisId</th>\n",
       "      <th>N_thesisId</th>\n",
       "      <th>date_submitted</th>\n",
       "      <th>dc.date.awarded</th>\n",
       "      <th>dc.subject.ddc</th>\n",
       "      <th>uniq_ddc_across_dept</th>\n",
       "      <th>dc.description.abstract</th>\n",
       "      <th>dc.title.alternative</th>\n",
       "      <th>diff_in_months</th>\n",
       "    </tr>\n",
       "  </thead>\n",
       "  <tbody>\n",
       "    <tr>\n",
       "      <th>174158</th>\n",
       "      <td>80763</td>\n",
       "      <td>255007</td>\n",
       "      <td>255008</td>\n",
       "      <td>255007</td>\n",
       "      <td>Gurumurthy, B. R.</td>\n",
       "      <td>Nagashree, B R.</td>\n",
       "      <td>department of applied botany</td>\n",
       "      <td>D1303</td>\n",
       "      <td>Kuvempu University</td>\n",
       "      <td>I107</td>\n",
       "      <td>In_vitro induction of salinity tolerance in Ac...</td>\n",
       "      <td>T154295</td>\n",
       "      <td>T154295</td>\n",
       "      <td>2014-01-01</td>\n",
       "      <td>1905-06-07</td>\n",
       "      <td>500::Natural sciences &amp; mathematics|580::Plant...</td>\n",
       "      <td>('500', '580')</td>\n",
       "      <td>NaN</td>\n",
       "      <td>NaN</td>\n",
       "      <td>-1302</td>\n",
       "    </tr>\n",
       "    <tr>\n",
       "      <th>174182</th>\n",
       "      <td>80768</td>\n",
       "      <td>255007</td>\n",
       "      <td>80768</td>\n",
       "      <td>255007</td>\n",
       "      <td>Shivanna, M. B.</td>\n",
       "      <td>Nagashree, B R.</td>\n",
       "      <td>department of applied botany</td>\n",
       "      <td>D1303</td>\n",
       "      <td>Kuvempu University</td>\n",
       "      <td>I107</td>\n",
       "      <td>In_vitro induction of salinity tolerance in Ac...</td>\n",
       "      <td>T154295</td>\n",
       "      <td>T154295</td>\n",
       "      <td>2014-01-01</td>\n",
       "      <td>1905-06-07</td>\n",
       "      <td>500::Natural sciences &amp; mathematics|580::Plant...</td>\n",
       "      <td>('500', '580')</td>\n",
       "      <td>NaN</td>\n",
       "      <td>NaN</td>\n",
       "      <td>-1302</td>\n",
       "    </tr>\n",
       "  </tbody>\n",
       "</table>\n",
       "</div>"
      ],
      "text/plain": [
       "        advisorId  researcherId   advId   resId       advisor_name  \\\n",
       "174158      80763        255007  255008  255007  Gurumurthy, B. R.   \n",
       "174182      80768        255007   80768  255007    Shivanna, M. B.   \n",
       "\n",
       "        researcher_name                publisher_dept DepartmentId  \\\n",
       "174158  Nagashree, B R.  department of applied botany        D1303   \n",
       "174182  Nagashree, B R.  department of applied botany        D1303   \n",
       "\n",
       "       publisher_institution instituteId  \\\n",
       "174158    Kuvempu University        I107   \n",
       "174182    Kuvempu University        I107   \n",
       "\n",
       "                                                    title thesisId N_thesisId  \\\n",
       "174158  In_vitro induction of salinity tolerance in Ac...  T154295    T154295   \n",
       "174182  In_vitro induction of salinity tolerance in Ac...  T154295    T154295   \n",
       "\n",
       "       date_submitted dc.date.awarded  \\\n",
       "174158     2014-01-01      1905-06-07   \n",
       "174182     2014-01-01      1905-06-07   \n",
       "\n",
       "                                           dc.subject.ddc  \\\n",
       "174158  500::Natural sciences & mathematics|580::Plant...   \n",
       "174182  500::Natural sciences & mathematics|580::Plant...   \n",
       "\n",
       "       uniq_ddc_across_dept dc.description.abstract dc.title.alternative  \\\n",
       "174158       ('500', '580')                     NaN                  NaN   \n",
       "174182       ('500', '580')                     NaN                  NaN   \n",
       "\n",
       "        diff_in_months  \n",
       "174158           -1302  \n",
       "174182           -1302  "
      ]
     },
     "execution_count": 23,
     "metadata": {},
     "output_type": "execute_result"
    }
   ],
   "source": [
    "ment_date[ment_date['diff_in_months'] == -1302]"
   ]
  },
  {
   "cell_type": "code",
   "execution_count": 24,
   "metadata": {},
   "outputs": [],
   "source": [
    "replace_check=ment_date.head(10).copy()"
   ]
  },
  {
   "cell_type": "code",
   "execution_count": 46,
   "metadata": {},
   "outputs": [],
   "source": [
    "#replace_check['publisher_dept'].replace(\"^d.*e$\",\"\")"
   ]
  },
  {
   "cell_type": "code",
   "execution_count": null,
   "metadata": {},
   "outputs": [],
   "source": []
  }
 ],
 "metadata": {
  "kernelspec": {
   "display_name": "Python 3",
   "language": "python",
   "name": "python3"
  },
  "language_info": {
   "codemirror_mode": {
    "name": "ipython",
    "version": 3
   },
   "file_extension": ".py",
   "mimetype": "text/x-python",
   "name": "python",
   "nbconvert_exporter": "python",
   "pygments_lexer": "ipython3",
   "version": "3.6.9"
  }
 },
 "nbformat": 4,
 "nbformat_minor": 4
}
