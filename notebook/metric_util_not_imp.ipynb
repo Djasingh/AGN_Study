{
 "cells": [
  {
   "cell_type": "code",
   "execution_count": null,
   "metadata": {},
   "outputs": [],
   "source": [
    "def thesis_advised(metric=0, st_date='1960-01-01', end_date='1980-01-01', func1=Counter, flag='partial',attr=\"instituteId\", df=mod_ment2, func3=ntw_graph_with_instId):\n",
    "    if flag == \"partial\":\n",
    "        filter_data = filter_df_based_on_date(df, st_date=st_date,end_date=end_date)\n",
    "        graph = func3(filter_data) \n",
    "    else:\n",
    "        graph = func3(mod_ment2)\n",
    "    inst_stud_tuple = set([(value[attr],v) for ((u, v), value) in graph.edges.items()])\n",
    "    attr_count=[inst for inst, stud in inst_stud_tuple]\n",
    "    inst_wise_stud_dist=func1(attr_count)\n",
    "    top10, top10_dict=top_metric_val(inst_wise_stud_dist)\n",
    "    return inst_wise_stud_dist, top10_dict"
   ]
  },
  {
   "cell_type": "code",
   "execution_count": null,
   "metadata": {},
   "outputs": [],
   "source": [
    "def other_metrics(metric=1, st_date='1960-01-01', end_date='1980-01-01', func1=inst_wise_val,flag='partial',attr=\"instituteId\", df=mod_ment2, func3=ntw_graph_with_instId):\n",
    "    if flag == \"partial\":\n",
    "        filter_data=filter_df_based_on_date(df,st_date=st_date,end_date=end_date)\n",
    "        graph = func3(filter_data)\n",
    "    else:\n",
    "        filter_data=df\n",
    "        graph=func3(filter_data)\n",
    "    if metric==1:\n",
    "        fecundity=graph.out_degree()\n",
    "        metric_dict=dict(fecundity)\n",
    "    elif metric==2:\n",
    "        fertiltiy=fertility_calculation(graph)\n",
    "        metric_dict=dict(fertiltiy)\n",
    "    elif metric==3:\n",
    "        hinx=child_deg(graph)\n",
    "        metric_dict=dict(hinx)\n",
    "    elif metric==4:\n",
    "        ginx=gm_index(graph)\n",
    "        metric_dict=dict(ginx)\n",
    "    else:\n",
    "        print('unknown parameter')\n",
    "        sys.exit()\n",
    "    inst_fecund_metric=func1(filter_data, attr, metric_dict)\n",
    "    _, top10_dict=top_metric_val(inst_fecund_metric)\n",
    "    return inst_fecund_metric, top10_dict"
   ]
  },
  {
   "cell_type": "code",
   "execution_count": null,
   "metadata": {},
   "outputs": [],
   "source": [
    "def draw_rank_heatmap(from_y=1940, to_y=2020, step_size=20, func1=Counter, func2=thesis_advised, metric=0):\n",
    "    top_dict_list=[]\n",
    "    \n",
    "    for year in range(from_y, to_y, step_size):\n",
    "        _, top_dict = func2(metric=metric, st_date=f'{year}-01-01', end_date=f'{year+step_size}-01-01', func1=func1, flag='partial',attr=\"instituteId\", df=mod_ment2, func3=ntw_graph_with_instId)\n",
    "        top_dict_list.append(top_dict)\n",
    "\n",
    "    _, top_dict_last = func2(flag='complete', metric=metric)\n",
    "    top_dict_list = top_dict_list+[top_dict_last]\n",
    "    arr = get_rank_array1(top_dict_list)\n",
    "    labels = get_labels(arr, inx_to_inst)\n",
    "    rank = rank_change(arr)\n",
    "    xlabels = [str(a)+\"-\"+str(a+20) for a in range(from_y,to_y,step_size)]\n",
    "    xlabels = xlabels+['All']\n",
    "    fig1 = rank_grid(rank, labels, xlabels = xlabels)\n",
    "    return fig1"
   ]
  },
  {
   "cell_type": "code",
   "execution_count": null,
   "metadata": {},
   "outputs": [],
   "source": [
    "#%config InlineBackend.print_figure_kwargs = {'bbox_inches':'tight'}"
   ]
  },
  {
   "cell_type": "code",
   "execution_count": null,
   "metadata": {},
   "outputs": [],
   "source": []
  },
  {
   "cell_type": "code",
   "execution_count": null,
   "metadata": {},
   "outputs": [],
   "source": []
  }
 ],
 "metadata": {
  "kernelspec": {
   "display_name": "Python 3",
   "language": "python",
   "name": "python3"
  },
  "language_info": {
   "codemirror_mode": {
    "name": "ipython",
    "version": 3
   },
   "file_extension": ".py",
   "mimetype": "text/x-python",
   "name": "python",
   "nbconvert_exporter": "python",
   "pygments_lexer": "ipython3",
   "version": "3.6.9"
  }
 },
 "nbformat": 4,
 "nbformat_minor": 4
}
