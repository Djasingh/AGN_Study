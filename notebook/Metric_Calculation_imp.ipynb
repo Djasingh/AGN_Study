{
 "cells": [
  {
   "cell_type": "markdown",
   "metadata": {},
   "source": [
    "<h2>Python 3.6.9</h2>"
   ]
  },
  {
   "cell_type": "code",
   "execution_count": 1,
   "metadata": {},
   "outputs": [],
   "source": [
    "import pandas as pd\n",
    "import networkx as nx\n",
    "import numpy as np\n",
    "from tqdm import tqdm\n",
    "import itertools\n",
    "import json\n",
    "from collections import Counter\n",
    "from multiprocessing import Pool\n",
    "import matplotlib.pyplot as plt"
   ]
  },
  {
   "cell_type": "code",
   "execution_count": 2,
   "metadata": {},
   "outputs": [],
   "source": [
    "# pd.set_option('display.max_rows', 500)\n",
    "# pd.set_option('display.max_columns', 500)\n",
    "#pd.set_option('display.width', 2000)"
   ]
  },
  {
   "cell_type": "code",
   "execution_count": 3,
   "metadata": {},
   "outputs": [],
   "source": [
    "#import import_ipynb\n",
    "from metric_util_func_py import *"
   ]
  },
  {
   "cell_type": "code",
   "execution_count": 4,
   "metadata": {},
   "outputs": [],
   "source": [
    "# a = [2,2,3,3,3,4,4,5,5,6,6,6,6,6,7,7,77,7,7,8]\n",
    "# draw_bar_graph(a, text=True,print_bin=True)"
   ]
  },
  {
   "cell_type": "code",
   "execution_count": 5,
   "metadata": {},
   "outputs": [],
   "source": [
    "%matplotlib inline"
   ]
  },
  {
   "cell_type": "code",
   "execution_count": 6,
   "metadata": {},
   "outputs": [],
   "source": [
    "folder=\"../dataset_v5/v5_2/v5_2_2/\""
   ]
  },
  {
   "cell_type": "code",
   "execution_count": 7,
   "metadata": {},
   "outputs": [],
   "source": [
    "save_dir = \"graphs_v5_2_7_2\""
   ]
  },
  {
   "cell_type": "code",
   "execution_count": 8,
   "metadata": {},
   "outputs": [],
   "source": [
    "#mod_ment2_1 = pd.read_csv(folder+'v5_2_2/'+'final_shodhganga_dataset_v5_2_5.csv', sep =\",\")"
   ]
  },
  {
   "cell_type": "code",
   "execution_count": 9,
   "metadata": {},
   "outputs": [],
   "source": [
    "mod_ment2 = pd.read_csv(folder+'final_shodhganga_dataset_v5_2_7_2.csv', sep =\",\")"
   ]
  },
  {
   "cell_type": "code",
   "execution_count": 32,
   "metadata": {},
   "outputs": [
    {
     "data": {
      "text/plain": [
       "Index(['advisorId', 'researcherId', 'advId', 'resId', 'advisor_name',\n",
       "       'researcher_name', 'publisher_dept', 'DepartmentId',\n",
       "       'publisher_institution', 'instituteId', 'title', 'thesisId',\n",
       "       'N_thesisId', 'date_submitted', 'new_date_awarded', 'dc.date.awarded',\n",
       "       'dc.subject.ddc', 'uniq_ddc_across_dept', 'dc.description.abstract',\n",
       "       'dc.title.alternative', 'N_DepartmentId_1', 'ddc_code', 'advisor_advId',\n",
       "       'researcher_resId'],\n",
       "      dtype='object')"
      ]
     },
     "execution_count": 32,
     "metadata": {},
     "output_type": "execute_result"
    }
   ],
   "source": [
    "mod_ment2.columns"
   ]
  },
  {
   "cell_type": "code",
   "execution_count": 38,
   "metadata": {},
   "outputs": [
    {
     "data": {
      "text/html": [
       "<div>\n",
       "<style scoped>\n",
       "    .dataframe tbody tr th:only-of-type {\n",
       "        vertical-align: middle;\n",
       "    }\n",
       "\n",
       "    .dataframe tbody tr th {\n",
       "        vertical-align: top;\n",
       "    }\n",
       "\n",
       "    .dataframe thead th {\n",
       "        text-align: right;\n",
       "    }\n",
       "</style>\n",
       "<table border=\"1\" class=\"dataframe\">\n",
       "  <thead>\n",
       "    <tr style=\"text-align: right;\">\n",
       "      <th></th>\n",
       "      <th>advisorId</th>\n",
       "      <th>researcherId</th>\n",
       "      <th>advId</th>\n",
       "      <th>resId</th>\n",
       "      <th>advisor_name</th>\n",
       "      <th>researcher_name</th>\n",
       "      <th>publisher_dept</th>\n",
       "      <th>DepartmentId</th>\n",
       "      <th>publisher_institution</th>\n",
       "      <th>instituteId</th>\n",
       "      <th>...</th>\n",
       "      <th>new_date_awarded</th>\n",
       "      <th>dc.date.awarded</th>\n",
       "      <th>dc.subject.ddc</th>\n",
       "      <th>uniq_ddc_across_dept</th>\n",
       "      <th>dc.description.abstract</th>\n",
       "      <th>dc.title.alternative</th>\n",
       "      <th>N_DepartmentId_1</th>\n",
       "      <th>ddc_code</th>\n",
       "      <th>advisor_advId</th>\n",
       "      <th>researcher_resId</th>\n",
       "    </tr>\n",
       "  </thead>\n",
       "  <tbody>\n",
       "    <tr>\n",
       "      <th>111684</th>\n",
       "      <td>53252</td>\n",
       "      <td>199071</td>\n",
       "      <td>53252</td>\n",
       "      <td>53249</td>\n",
       "      <td>Vasudevan, T.</td>\n",
       "      <td>Subramanian, A.</td>\n",
       "      <td>department of industrial chemistry</td>\n",
       "      <td>D1888</td>\n",
       "      <td>Alagappa University</td>\n",
       "      <td>I333</td>\n",
       "      <td>...</td>\n",
       "      <td>1998-07-01</td>\n",
       "      <td>NaN</td>\n",
       "      <td>500::Natural sciences &amp; mathematics|540::Chemi...</td>\n",
       "      <td>('500', '540')</td>\n",
       "      <td>NaN</td>\n",
       "      <td>NaN</td>\n",
       "      <td>D1888</td>\n",
       "      <td>('500', '540')</td>\n",
       "      <td>Vasudevan, T.@53252</td>\n",
       "      <td>Subramanian, A.@53249</td>\n",
       "    </tr>\n",
       "    <tr>\n",
       "      <th>111685</th>\n",
       "      <td>53252</td>\n",
       "      <td>53267</td>\n",
       "      <td>53252</td>\n",
       "      <td>53267</td>\n",
       "      <td>Vasudevan, T.</td>\n",
       "      <td>Muralidharan, B.</td>\n",
       "      <td>department of industrial chemistry</td>\n",
       "      <td>D1888</td>\n",
       "      <td>Alagappa University</td>\n",
       "      <td>I333</td>\n",
       "      <td>...</td>\n",
       "      <td>1996-07-01</td>\n",
       "      <td>NaN</td>\n",
       "      <td>500::Natural sciences &amp; mathematics|540::Chemi...</td>\n",
       "      <td>('500', '540')</td>\n",
       "      <td>NaN</td>\n",
       "      <td>NaN</td>\n",
       "      <td>D1888</td>\n",
       "      <td>('500', '540')</td>\n",
       "      <td>Vasudevan, T.@53252</td>\n",
       "      <td>Muralidharan, B.@53267</td>\n",
       "    </tr>\n",
       "    <tr>\n",
       "      <th>111686</th>\n",
       "      <td>53252</td>\n",
       "      <td>198907</td>\n",
       "      <td>53252</td>\n",
       "      <td>198907</td>\n",
       "      <td>Vasudevan, T.</td>\n",
       "      <td>Indumathi, SN</td>\n",
       "      <td>department of chemistry</td>\n",
       "      <td>D1888</td>\n",
       "      <td>Alagappa University</td>\n",
       "      <td>I333</td>\n",
       "      <td>...</td>\n",
       "      <td>2012-07-20</td>\n",
       "      <td>2012-07-20</td>\n",
       "      <td>500::Natural sciences &amp; mathematics|540::Chemi...</td>\n",
       "      <td>('500', '540')</td>\n",
       "      <td>NaN</td>\n",
       "      <td>NaN</td>\n",
       "      <td>D1331</td>\n",
       "      <td>('500', '540')</td>\n",
       "      <td>Vasudevan, T.@53252</td>\n",
       "      <td>Indumathi, SN@198907</td>\n",
       "    </tr>\n",
       "    <tr>\n",
       "      <th>111687</th>\n",
       "      <td>53252</td>\n",
       "      <td>198971</td>\n",
       "      <td>53252</td>\n",
       "      <td>198971</td>\n",
       "      <td>Vasudevan, T.</td>\n",
       "      <td>Shakkthivel, P.</td>\n",
       "      <td>department of industrial chemistry</td>\n",
       "      <td>D1888</td>\n",
       "      <td>Alagappa University</td>\n",
       "      <td>I333</td>\n",
       "      <td>...</td>\n",
       "      <td>2000-07-01</td>\n",
       "      <td>NaN</td>\n",
       "      <td>500::Natural sciences &amp; mathematics|540::Chemi...</td>\n",
       "      <td>('500', '540')</td>\n",
       "      <td>NaN</td>\n",
       "      <td>NaN</td>\n",
       "      <td>D1888</td>\n",
       "      <td>('500', '540')</td>\n",
       "      <td>Vasudevan, T.@53252</td>\n",
       "      <td>Shakkthivel, P.@198971</td>\n",
       "    </tr>\n",
       "    <tr>\n",
       "      <th>111688</th>\n",
       "      <td>53252</td>\n",
       "      <td>198972</td>\n",
       "      <td>53252</td>\n",
       "      <td>198972</td>\n",
       "      <td>Vasudevan, T.</td>\n",
       "      <td>Srinivasan, R.</td>\n",
       "      <td>department of industrial chemistry</td>\n",
       "      <td>D1888</td>\n",
       "      <td>Alagappa University</td>\n",
       "      <td>I333</td>\n",
       "      <td>...</td>\n",
       "      <td>2007-07-01</td>\n",
       "      <td>NaN</td>\n",
       "      <td>500::Natural sciences &amp; mathematics|540::Chemi...</td>\n",
       "      <td>('500', '540')</td>\n",
       "      <td>NaN</td>\n",
       "      <td>NaN</td>\n",
       "      <td>D1888</td>\n",
       "      <td>('500', '540')</td>\n",
       "      <td>Vasudevan, T.@53252</td>\n",
       "      <td>Srinivasan, R.@198972</td>\n",
       "    </tr>\n",
       "    <tr>\n",
       "      <th>111689</th>\n",
       "      <td>53252</td>\n",
       "      <td>198979</td>\n",
       "      <td>53252</td>\n",
       "      <td>198979</td>\n",
       "      <td>Vasudevan, T.</td>\n",
       "      <td>Lajapathi Rai, C.</td>\n",
       "      <td>department of industrial chemistry</td>\n",
       "      <td>D1888</td>\n",
       "      <td>Alagappa University</td>\n",
       "      <td>I333</td>\n",
       "      <td>...</td>\n",
       "      <td>2007-07-01</td>\n",
       "      <td>NaN</td>\n",
       "      <td>500::Natural sciences &amp; mathematics|540::Chemi...</td>\n",
       "      <td>('500', '540')</td>\n",
       "      <td>NaN</td>\n",
       "      <td>NaN</td>\n",
       "      <td>D1888</td>\n",
       "      <td>('500', '540')</td>\n",
       "      <td>Vasudevan, T.@53252</td>\n",
       "      <td>Lajapathi Rai, C.@198979</td>\n",
       "    </tr>\n",
       "    <tr>\n",
       "      <th>111690</th>\n",
       "      <td>53252</td>\n",
       "      <td>198980</td>\n",
       "      <td>53252</td>\n",
       "      <td>198980</td>\n",
       "      <td>Vasudevan, T.</td>\n",
       "      <td>Umamaheswari, S.</td>\n",
       "      <td>department of industrial chemistry</td>\n",
       "      <td>D1888</td>\n",
       "      <td>Alagappa University</td>\n",
       "      <td>I333</td>\n",
       "      <td>...</td>\n",
       "      <td>2000-07-01</td>\n",
       "      <td>NaN</td>\n",
       "      <td>500::Natural sciences &amp; mathematics|540::Chemi...</td>\n",
       "      <td>('500', '540')</td>\n",
       "      <td>NaN</td>\n",
       "      <td>NaN</td>\n",
       "      <td>D1888</td>\n",
       "      <td>('500', '540')</td>\n",
       "      <td>Vasudevan, T.@53252</td>\n",
       "      <td>Umamaheswari, S.@198980</td>\n",
       "    </tr>\n",
       "    <tr>\n",
       "      <th>111691</th>\n",
       "      <td>53252</td>\n",
       "      <td>198983</td>\n",
       "      <td>53252</td>\n",
       "      <td>198983</td>\n",
       "      <td>Vasudevan, T.</td>\n",
       "      <td>Venkataraman, S.</td>\n",
       "      <td>department of industrial chemistry</td>\n",
       "      <td>D1888</td>\n",
       "      <td>Alagappa University</td>\n",
       "      <td>I333</td>\n",
       "      <td>...</td>\n",
       "      <td>2005-07-01</td>\n",
       "      <td>NaN</td>\n",
       "      <td>500::Natural sciences &amp; mathematics|540::Chemi...</td>\n",
       "      <td>('500', '540')</td>\n",
       "      <td>NaN</td>\n",
       "      <td>NaN</td>\n",
       "      <td>D1888</td>\n",
       "      <td>('500', '540')</td>\n",
       "      <td>Vasudevan, T.@53252</td>\n",
       "      <td>Venkataraman, S.@198983</td>\n",
       "    </tr>\n",
       "    <tr>\n",
       "      <th>111692</th>\n",
       "      <td>53252</td>\n",
       "      <td>198985</td>\n",
       "      <td>53252</td>\n",
       "      <td>198985</td>\n",
       "      <td>Vasudevan, T.</td>\n",
       "      <td>Sathiya Narayanan, R.</td>\n",
       "      <td>department of industrial chemistry</td>\n",
       "      <td>D1888</td>\n",
       "      <td>Alagappa University</td>\n",
       "      <td>I333</td>\n",
       "      <td>...</td>\n",
       "      <td>2004-07-01</td>\n",
       "      <td>NaN</td>\n",
       "      <td>500::Natural sciences &amp; mathematics|540::Chemi...</td>\n",
       "      <td>('500', '540')</td>\n",
       "      <td>NaN</td>\n",
       "      <td>NaN</td>\n",
       "      <td>D1888</td>\n",
       "      <td>('500', '540')</td>\n",
       "      <td>Vasudevan, T.@53252</td>\n",
       "      <td>Sathiya Narayanan, R.@198985</td>\n",
       "    </tr>\n",
       "    <tr>\n",
       "      <th>111693</th>\n",
       "      <td>53252</td>\n",
       "      <td>198991</td>\n",
       "      <td>53252</td>\n",
       "      <td>198991</td>\n",
       "      <td>Vasudevan, T.</td>\n",
       "      <td>Ramesh, D.</td>\n",
       "      <td>department of industrial chemistry</td>\n",
       "      <td>D1888</td>\n",
       "      <td>Alagappa University</td>\n",
       "      <td>I333</td>\n",
       "      <td>...</td>\n",
       "      <td>2004-07-01</td>\n",
       "      <td>NaN</td>\n",
       "      <td>500::Natural sciences &amp; mathematics|540::Chemi...</td>\n",
       "      <td>('500', '540')</td>\n",
       "      <td>NaN</td>\n",
       "      <td>NaN</td>\n",
       "      <td>D1888</td>\n",
       "      <td>('500', '540')</td>\n",
       "      <td>Vasudevan, T.@53252</td>\n",
       "      <td>Ramesh, D.@198991</td>\n",
       "    </tr>\n",
       "    <tr>\n",
       "      <th>111694</th>\n",
       "      <td>53252</td>\n",
       "      <td>198995</td>\n",
       "      <td>53252</td>\n",
       "      <td>198995</td>\n",
       "      <td>Vasudevan, T.</td>\n",
       "      <td>Kavitha, B.</td>\n",
       "      <td>department of industrial chemistry</td>\n",
       "      <td>D1888</td>\n",
       "      <td>Alagappa University</td>\n",
       "      <td>I333</td>\n",
       "      <td>...</td>\n",
       "      <td>2003-07-01</td>\n",
       "      <td>NaN</td>\n",
       "      <td>500::Natural sciences &amp; mathematics|540::Chemi...</td>\n",
       "      <td>('500', '540')</td>\n",
       "      <td>NaN</td>\n",
       "      <td>NaN</td>\n",
       "      <td>D1888</td>\n",
       "      <td>('500', '540')</td>\n",
       "      <td>Vasudevan, T.@53252</td>\n",
       "      <td>Kavitha, B.@198995</td>\n",
       "    </tr>\n",
       "    <tr>\n",
       "      <th>111695</th>\n",
       "      <td>53252</td>\n",
       "      <td>198996</td>\n",
       "      <td>53252</td>\n",
       "      <td>198996</td>\n",
       "      <td>Vasudevan, T.</td>\n",
       "      <td>Amutha, K.</td>\n",
       "      <td>department of industrial chemistry</td>\n",
       "      <td>D1888</td>\n",
       "      <td>Alagappa University</td>\n",
       "      <td>I333</td>\n",
       "      <td>...</td>\n",
       "      <td>2006-07-01</td>\n",
       "      <td>NaN</td>\n",
       "      <td>500::Natural sciences &amp; mathematics|540::Chemi...</td>\n",
       "      <td>('500', '540')</td>\n",
       "      <td>NaN</td>\n",
       "      <td>NaN</td>\n",
       "      <td>D1888</td>\n",
       "      <td>('500', '540')</td>\n",
       "      <td>Vasudevan, T.@53252</td>\n",
       "      <td>Amutha, K.@198996</td>\n",
       "    </tr>\n",
       "    <tr>\n",
       "      <th>111696</th>\n",
       "      <td>53252</td>\n",
       "      <td>198999</td>\n",
       "      <td>53252</td>\n",
       "      <td>198999</td>\n",
       "      <td>Vasudevan, T.</td>\n",
       "      <td>Panneerselvam, G.</td>\n",
       "      <td>department of industrial chemistry</td>\n",
       "      <td>D1888</td>\n",
       "      <td>Alagappa University</td>\n",
       "      <td>I333</td>\n",
       "      <td>...</td>\n",
       "      <td>2006-07-01</td>\n",
       "      <td>NaN</td>\n",
       "      <td>500::Natural sciences &amp; mathematics|540::Chemi...</td>\n",
       "      <td>('500', '540')</td>\n",
       "      <td>NaN</td>\n",
       "      <td>NaN</td>\n",
       "      <td>D1888</td>\n",
       "      <td>('500', '540')</td>\n",
       "      <td>Vasudevan, T.@53252</td>\n",
       "      <td>Panneerselvam, G.@198999</td>\n",
       "    </tr>\n",
       "    <tr>\n",
       "      <th>111697</th>\n",
       "      <td>53252</td>\n",
       "      <td>199000</td>\n",
       "      <td>53252</td>\n",
       "      <td>199000</td>\n",
       "      <td>Vasudevan, T.</td>\n",
       "      <td>Harihara Puthran, R.</td>\n",
       "      <td>department of industrial chemistry</td>\n",
       "      <td>D1888</td>\n",
       "      <td>Alagappa University</td>\n",
       "      <td>I333</td>\n",
       "      <td>...</td>\n",
       "      <td>1995-07-01</td>\n",
       "      <td>NaN</td>\n",
       "      <td>500::Natural sciences &amp; mathematics|540::Chemi...</td>\n",
       "      <td>('500', '540')</td>\n",
       "      <td>NaN</td>\n",
       "      <td>NaN</td>\n",
       "      <td>D1888</td>\n",
       "      <td>('500', '540')</td>\n",
       "      <td>Vasudevan, T.@53252</td>\n",
       "      <td>Harihara Puthran, R.@199000</td>\n",
       "    </tr>\n",
       "    <tr>\n",
       "      <th>111698</th>\n",
       "      <td>53252</td>\n",
       "      <td>199003</td>\n",
       "      <td>53252</td>\n",
       "      <td>199003</td>\n",
       "      <td>Vasudevan, T.</td>\n",
       "      <td>Rajachandrasekar, R.</td>\n",
       "      <td>department of industrial chemistry</td>\n",
       "      <td>D1888</td>\n",
       "      <td>Alagappa University</td>\n",
       "      <td>I333</td>\n",
       "      <td>...</td>\n",
       "      <td>2006-07-01</td>\n",
       "      <td>NaN</td>\n",
       "      <td>500::Natural sciences &amp; mathematics|540::Chemi...</td>\n",
       "      <td>('500', '540')</td>\n",
       "      <td>NaN</td>\n",
       "      <td>NaN</td>\n",
       "      <td>D1888</td>\n",
       "      <td>('500', '540')</td>\n",
       "      <td>Vasudevan, T.@53252</td>\n",
       "      <td>Rajachandrasekar, R.@199003</td>\n",
       "    </tr>\n",
       "    <tr>\n",
       "      <th>111699</th>\n",
       "      <td>53252</td>\n",
       "      <td>199005</td>\n",
       "      <td>53252</td>\n",
       "      <td>199005</td>\n",
       "      <td>Vasudevan, T.</td>\n",
       "      <td>Saraswathy, V.</td>\n",
       "      <td>department of industrial chemistry</td>\n",
       "      <td>D1888</td>\n",
       "      <td>Alagappa University</td>\n",
       "      <td>I333</td>\n",
       "      <td>...</td>\n",
       "      <td>2002-07-01</td>\n",
       "      <td>NaN</td>\n",
       "      <td>500::Natural sciences &amp; mathematics|540::Chemi...</td>\n",
       "      <td>('500', '540')</td>\n",
       "      <td>NaN</td>\n",
       "      <td>NaN</td>\n",
       "      <td>D1888</td>\n",
       "      <td>('500', '540')</td>\n",
       "      <td>Vasudevan, T.@53252</td>\n",
       "      <td>Saraswathy, V.@199005</td>\n",
       "    </tr>\n",
       "    <tr>\n",
       "      <th>111700</th>\n",
       "      <td>53252</td>\n",
       "      <td>199012</td>\n",
       "      <td>53252</td>\n",
       "      <td>199012</td>\n",
       "      <td>Vasudevan, T.</td>\n",
       "      <td>Kalpana, A.</td>\n",
       "      <td>department of industrial chemistry</td>\n",
       "      <td>D1888</td>\n",
       "      <td>Alagappa University</td>\n",
       "      <td>I333</td>\n",
       "      <td>...</td>\n",
       "      <td>2007-07-01</td>\n",
       "      <td>NaN</td>\n",
       "      <td>500::Natural sciences &amp; mathematics|540::Chemi...</td>\n",
       "      <td>('500', '540')</td>\n",
       "      <td>NaN</td>\n",
       "      <td>NaN</td>\n",
       "      <td>D1888</td>\n",
       "      <td>('500', '540')</td>\n",
       "      <td>Vasudevan, T.@53252</td>\n",
       "      <td>Kalpana, A.@199012</td>\n",
       "    </tr>\n",
       "    <tr>\n",
       "      <th>111701</th>\n",
       "      <td>53252</td>\n",
       "      <td>199028</td>\n",
       "      <td>53252</td>\n",
       "      <td>199028</td>\n",
       "      <td>Vasudevan, T.</td>\n",
       "      <td>Andal, KR</td>\n",
       "      <td>department of industrial chemistry</td>\n",
       "      <td>D1888</td>\n",
       "      <td>Alagappa University</td>\n",
       "      <td>I333</td>\n",
       "      <td>...</td>\n",
       "      <td>2000-07-01</td>\n",
       "      <td>NaN</td>\n",
       "      <td>500::Natural sciences &amp; mathematics|540::Chemi...</td>\n",
       "      <td>('500', '540')</td>\n",
       "      <td>NaN</td>\n",
       "      <td>NaN</td>\n",
       "      <td>D1888</td>\n",
       "      <td>('500', '540')</td>\n",
       "      <td>Vasudevan, T.@53252</td>\n",
       "      <td>Andal, KR@199028</td>\n",
       "    </tr>\n",
       "    <tr>\n",
       "      <th>111702</th>\n",
       "      <td>53252</td>\n",
       "      <td>199030</td>\n",
       "      <td>53252</td>\n",
       "      <td>199030</td>\n",
       "      <td>Vasudevan, T.</td>\n",
       "      <td>Shivkumar, R.</td>\n",
       "      <td>department of industrial chemistry</td>\n",
       "      <td>D1888</td>\n",
       "      <td>Alagappa University</td>\n",
       "      <td>I333</td>\n",
       "      <td>...</td>\n",
       "      <td>1998-07-01</td>\n",
       "      <td>NaN</td>\n",
       "      <td>500::Natural sciences &amp; mathematics|540::Chemi...</td>\n",
       "      <td>('500', '540')</td>\n",
       "      <td>NaN</td>\n",
       "      <td>NaN</td>\n",
       "      <td>D1888</td>\n",
       "      <td>('500', '540')</td>\n",
       "      <td>Vasudevan, T.@53252</td>\n",
       "      <td>Shivkumar, R.@199030</td>\n",
       "    </tr>\n",
       "    <tr>\n",
       "      <th>111703</th>\n",
       "      <td>53252</td>\n",
       "      <td>199041</td>\n",
       "      <td>53252</td>\n",
       "      <td>199041</td>\n",
       "      <td>Vasudevan, T.</td>\n",
       "      <td>Thirumalai, A.</td>\n",
       "      <td>department of industrial chemistry</td>\n",
       "      <td>D1888</td>\n",
       "      <td>Alagappa University</td>\n",
       "      <td>I333</td>\n",
       "      <td>...</td>\n",
       "      <td>2003-07-01</td>\n",
       "      <td>NaN</td>\n",
       "      <td>500::Natural sciences &amp; mathematics|540::Chemi...</td>\n",
       "      <td>('500', '540')</td>\n",
       "      <td>NaN</td>\n",
       "      <td>NaN</td>\n",
       "      <td>D1888</td>\n",
       "      <td>('500', '540')</td>\n",
       "      <td>Vasudevan, T.@53252</td>\n",
       "      <td>Thirumalai, A.@199041</td>\n",
       "    </tr>\n",
       "    <tr>\n",
       "      <th>111704</th>\n",
       "      <td>53252</td>\n",
       "      <td>199051</td>\n",
       "      <td>53252</td>\n",
       "      <td>199051</td>\n",
       "      <td>Vasudevan, T.</td>\n",
       "      <td>Vincent, S.</td>\n",
       "      <td>department of industrial chemistry</td>\n",
       "      <td>D1888</td>\n",
       "      <td>Alagappa University</td>\n",
       "      <td>I333</td>\n",
       "      <td>...</td>\n",
       "      <td>2006-07-01</td>\n",
       "      <td>NaN</td>\n",
       "      <td>500::Natural sciences &amp; mathematics|540::Chemi...</td>\n",
       "      <td>('500', '540')</td>\n",
       "      <td>NaN</td>\n",
       "      <td>NaN</td>\n",
       "      <td>D1888</td>\n",
       "      <td>('500', '540')</td>\n",
       "      <td>Vasudevan, T.@53252</td>\n",
       "      <td>Vincent, S.@199051</td>\n",
       "    </tr>\n",
       "    <tr>\n",
       "      <th>111705</th>\n",
       "      <td>53252</td>\n",
       "      <td>199052</td>\n",
       "      <td>53252</td>\n",
       "      <td>199052</td>\n",
       "      <td>Vasudevan, T.</td>\n",
       "      <td>Selvaraj, R.</td>\n",
       "      <td>department of industrial chemistry</td>\n",
       "      <td>D1888</td>\n",
       "      <td>Alagappa University</td>\n",
       "      <td>I333</td>\n",
       "      <td>...</td>\n",
       "      <td>2004-07-01</td>\n",
       "      <td>NaN</td>\n",
       "      <td>500::Natural sciences &amp; mathematics|540::Chemi...</td>\n",
       "      <td>('500', '540')</td>\n",
       "      <td>NaN</td>\n",
       "      <td>NaN</td>\n",
       "      <td>D1888</td>\n",
       "      <td>('500', '540')</td>\n",
       "      <td>Vasudevan, T.@53252</td>\n",
       "      <td>Selvaraj, R.@199052</td>\n",
       "    </tr>\n",
       "    <tr>\n",
       "      <th>111706</th>\n",
       "      <td>53252</td>\n",
       "      <td>199053</td>\n",
       "      <td>53252</td>\n",
       "      <td>199053</td>\n",
       "      <td>Vasudevan, T.</td>\n",
       "      <td>Kumar, K.</td>\n",
       "      <td>department of industrial chemistry</td>\n",
       "      <td>D1888</td>\n",
       "      <td>Alagappa University</td>\n",
       "      <td>I333</td>\n",
       "      <td>...</td>\n",
       "      <td>2002-07-01</td>\n",
       "      <td>NaN</td>\n",
       "      <td>500::Natural sciences &amp; mathematics|540::Chemi...</td>\n",
       "      <td>('500', '540')</td>\n",
       "      <td>NaN</td>\n",
       "      <td>NaN</td>\n",
       "      <td>D1888</td>\n",
       "      <td>('500', '540')</td>\n",
       "      <td>Vasudevan, T.@53252</td>\n",
       "      <td>Kumar, K.@199053</td>\n",
       "    </tr>\n",
       "    <tr>\n",
       "      <th>111707</th>\n",
       "      <td>53252</td>\n",
       "      <td>199056</td>\n",
       "      <td>53252</td>\n",
       "      <td>199056</td>\n",
       "      <td>Vasudevan, T.</td>\n",
       "      <td>Renukadevi, M.</td>\n",
       "      <td>department of industrial chemistry</td>\n",
       "      <td>D1888</td>\n",
       "      <td>Alagappa University</td>\n",
       "      <td>I333</td>\n",
       "      <td>...</td>\n",
       "      <td>2007-07-01</td>\n",
       "      <td>NaN</td>\n",
       "      <td>500::Natural sciences &amp; mathematics|540::Chemi...</td>\n",
       "      <td>('500', '540')</td>\n",
       "      <td>NaN</td>\n",
       "      <td>NaN</td>\n",
       "      <td>D1888</td>\n",
       "      <td>('500', '540')</td>\n",
       "      <td>Vasudevan, T.@53252</td>\n",
       "      <td>Renukadevi, M.@199056</td>\n",
       "    </tr>\n",
       "    <tr>\n",
       "      <th>111708</th>\n",
       "      <td>53252</td>\n",
       "      <td>199057</td>\n",
       "      <td>53252</td>\n",
       "      <td>199057</td>\n",
       "      <td>Vasudevan, T.</td>\n",
       "      <td>Meenakshi, G.</td>\n",
       "      <td>department of industrial chemistry</td>\n",
       "      <td>D1888</td>\n",
       "      <td>Alagappa University</td>\n",
       "      <td>I333</td>\n",
       "      <td>...</td>\n",
       "      <td>2007-07-01</td>\n",
       "      <td>NaN</td>\n",
       "      <td>500::Natural sciences &amp; mathematics|540::Chemi...</td>\n",
       "      <td>('500', '540')</td>\n",
       "      <td>NaN</td>\n",
       "      <td>NaN</td>\n",
       "      <td>D1888</td>\n",
       "      <td>('500', '540')</td>\n",
       "      <td>Vasudevan, T.@53252</td>\n",
       "      <td>Meenakshi, G.@199057</td>\n",
       "    </tr>\n",
       "    <tr>\n",
       "      <th>111709</th>\n",
       "      <td>53252</td>\n",
       "      <td>199058</td>\n",
       "      <td>53252</td>\n",
       "      <td>199058</td>\n",
       "      <td>Vasudevan, T.</td>\n",
       "      <td>Rajendran, S.</td>\n",
       "      <td>department of industrial chemistry</td>\n",
       "      <td>D1888</td>\n",
       "      <td>Alagappa University</td>\n",
       "      <td>I333</td>\n",
       "      <td>...</td>\n",
       "      <td>1998-07-01</td>\n",
       "      <td>NaN</td>\n",
       "      <td>500::Natural sciences &amp; mathematics|540::Chemi...</td>\n",
       "      <td>('500', '540')</td>\n",
       "      <td>NaN</td>\n",
       "      <td>NaN</td>\n",
       "      <td>D1888</td>\n",
       "      <td>('500', '540')</td>\n",
       "      <td>Vasudevan, T.@53252</td>\n",
       "      <td>Rajendran, S.@199058</td>\n",
       "    </tr>\n",
       "    <tr>\n",
       "      <th>111710</th>\n",
       "      <td>53252</td>\n",
       "      <td>199059</td>\n",
       "      <td>53252</td>\n",
       "      <td>199059</td>\n",
       "      <td>Vasudevan, T.</td>\n",
       "      <td>Nirmala, P V.</td>\n",
       "      <td>department of industrial chemistry</td>\n",
       "      <td>D1888</td>\n",
       "      <td>Alagappa University</td>\n",
       "      <td>I333</td>\n",
       "      <td>...</td>\n",
       "      <td>2001-07-01</td>\n",
       "      <td>NaN</td>\n",
       "      <td>500::Natural sciences &amp; mathematics|540::Chemi...</td>\n",
       "      <td>('500', '540')</td>\n",
       "      <td>NaN</td>\n",
       "      <td>NaN</td>\n",
       "      <td>D1888</td>\n",
       "      <td>('500', '540')</td>\n",
       "      <td>Vasudevan, T.@53252</td>\n",
       "      <td>Nirmala, P V.@199059</td>\n",
       "    </tr>\n",
       "    <tr>\n",
       "      <th>111711</th>\n",
       "      <td>53252</td>\n",
       "      <td>199060</td>\n",
       "      <td>53252</td>\n",
       "      <td>199060</td>\n",
       "      <td>Vasudevan, T.</td>\n",
       "      <td>Kameshwari, B.</td>\n",
       "      <td>department of industrial chemistry</td>\n",
       "      <td>D1888</td>\n",
       "      <td>Alagappa University</td>\n",
       "      <td>I333</td>\n",
       "      <td>...</td>\n",
       "      <td>2008-07-01</td>\n",
       "      <td>NaN</td>\n",
       "      <td>500::Natural sciences &amp; mathematics|540::Chemi...</td>\n",
       "      <td>('500', '540')</td>\n",
       "      <td>NaN</td>\n",
       "      <td>NaN</td>\n",
       "      <td>D1888</td>\n",
       "      <td>('500', '540')</td>\n",
       "      <td>Vasudevan, T.@53252</td>\n",
       "      <td>Kameshwari, B.@199060</td>\n",
       "    </tr>\n",
       "    <tr>\n",
       "      <th>111712</th>\n",
       "      <td>53252</td>\n",
       "      <td>199073</td>\n",
       "      <td>53252</td>\n",
       "      <td>199073</td>\n",
       "      <td>Vasudevan, T.</td>\n",
       "      <td>Prakash, S.</td>\n",
       "      <td>department of industrial chemistry</td>\n",
       "      <td>D1888</td>\n",
       "      <td>Alagappa University</td>\n",
       "      <td>I333</td>\n",
       "      <td>...</td>\n",
       "      <td>1997-07-01</td>\n",
       "      <td>NaN</td>\n",
       "      <td>500::Natural sciences &amp; mathematics|540::Chemi...</td>\n",
       "      <td>('500', '540')</td>\n",
       "      <td>NaN</td>\n",
       "      <td>NaN</td>\n",
       "      <td>D1888</td>\n",
       "      <td>('500', '540')</td>\n",
       "      <td>Vasudevan, T.@53252</td>\n",
       "      <td>Prakash, S.@199073</td>\n",
       "    </tr>\n",
       "    <tr>\n",
       "      <th>111713</th>\n",
       "      <td>53252</td>\n",
       "      <td>199074</td>\n",
       "      <td>53252</td>\n",
       "      <td>199074</td>\n",
       "      <td>Vasudevan, T.</td>\n",
       "      <td>Alice Arul Antony, A.</td>\n",
       "      <td>department of industrial chemistry</td>\n",
       "      <td>D1888</td>\n",
       "      <td>Alagappa University</td>\n",
       "      <td>I333</td>\n",
       "      <td>...</td>\n",
       "      <td>1999-07-01</td>\n",
       "      <td>NaN</td>\n",
       "      <td>500::Natural sciences &amp; mathematics|540::Chemi...</td>\n",
       "      <td>('500', '540')</td>\n",
       "      <td>NaN</td>\n",
       "      <td>NaN</td>\n",
       "      <td>D1888</td>\n",
       "      <td>('500', '540')</td>\n",
       "      <td>Vasudevan, T.@53252</td>\n",
       "      <td>Alice Arul Antony, A.@199074</td>\n",
       "    </tr>\n",
       "    <tr>\n",
       "      <th>111714</th>\n",
       "      <td>53252</td>\n",
       "      <td>199084</td>\n",
       "      <td>53252</td>\n",
       "      <td>199084</td>\n",
       "      <td>Vasudevan, T.</td>\n",
       "      <td>Sathiyamoorthi, R.</td>\n",
       "      <td>department of industrial chemistry</td>\n",
       "      <td>D1888</td>\n",
       "      <td>Alagappa University</td>\n",
       "      <td>I333</td>\n",
       "      <td>...</td>\n",
       "      <td>2006-07-01</td>\n",
       "      <td>NaN</td>\n",
       "      <td>500::Natural sciences &amp; mathematics|540::Chemi...</td>\n",
       "      <td>('500', '540')</td>\n",
       "      <td>NaN</td>\n",
       "      <td>NaN</td>\n",
       "      <td>D1888</td>\n",
       "      <td>('500', '540')</td>\n",
       "      <td>Vasudevan, T.@53252</td>\n",
       "      <td>Sathiyamoorthi, R.@199084</td>\n",
       "    </tr>\n",
       "    <tr>\n",
       "      <th>111715</th>\n",
       "      <td>53252</td>\n",
       "      <td>199085</td>\n",
       "      <td>53252</td>\n",
       "      <td>199085</td>\n",
       "      <td>Vasudevan, T.</td>\n",
       "      <td>Alwarappan, S.</td>\n",
       "      <td>department of industrial chemistry</td>\n",
       "      <td>D1888</td>\n",
       "      <td>Alagappa University</td>\n",
       "      <td>I333</td>\n",
       "      <td>...</td>\n",
       "      <td>1996-07-01</td>\n",
       "      <td>NaN</td>\n",
       "      <td>500::Natural sciences &amp; mathematics|540::Chemi...</td>\n",
       "      <td>('500', '540')</td>\n",
       "      <td>NaN</td>\n",
       "      <td>NaN</td>\n",
       "      <td>D1888</td>\n",
       "      <td>('500', '540')</td>\n",
       "      <td>Vasudevan, T.@53252</td>\n",
       "      <td>Alwarappan, S.@199085</td>\n",
       "    </tr>\n",
       "    <tr>\n",
       "      <th>111716</th>\n",
       "      <td>53252</td>\n",
       "      <td>199092</td>\n",
       "      <td>53252</td>\n",
       "      <td>199092</td>\n",
       "      <td>Vasudevan, T.</td>\n",
       "      <td>Karthikeyan, S.</td>\n",
       "      <td>department of industrial chemistry</td>\n",
       "      <td>D1888</td>\n",
       "      <td>Alagappa University</td>\n",
       "      <td>I333</td>\n",
       "      <td>...</td>\n",
       "      <td>2001-07-01</td>\n",
       "      <td>NaN</td>\n",
       "      <td>500::Natural sciences &amp; mathematics|540::Chemi...</td>\n",
       "      <td>('500', '540')</td>\n",
       "      <td>NaN</td>\n",
       "      <td>NaN</td>\n",
       "      <td>D1888</td>\n",
       "      <td>('500', '540')</td>\n",
       "      <td>Vasudevan, T.@53252</td>\n",
       "      <td>Karthikeyan, S.@199092</td>\n",
       "    </tr>\n",
       "    <tr>\n",
       "      <th>111717</th>\n",
       "      <td>53252</td>\n",
       "      <td>199097</td>\n",
       "      <td>53252</td>\n",
       "      <td>199097</td>\n",
       "      <td>Vasudevan, T.</td>\n",
       "      <td>Govindan, P.</td>\n",
       "      <td>department of industrial chemistry</td>\n",
       "      <td>D1888</td>\n",
       "      <td>Alagappa University</td>\n",
       "      <td>I333</td>\n",
       "      <td>...</td>\n",
       "      <td>2003-07-01</td>\n",
       "      <td>NaN</td>\n",
       "      <td>500::Natural sciences &amp; mathematics|540::Chemi...</td>\n",
       "      <td>('500', '540')</td>\n",
       "      <td>NaN</td>\n",
       "      <td>NaN</td>\n",
       "      <td>D1888</td>\n",
       "      <td>('500', '540')</td>\n",
       "      <td>Vasudevan, T.@53252</td>\n",
       "      <td>Govindan, P.@199097</td>\n",
       "    </tr>\n",
       "    <tr>\n",
       "      <th>111718</th>\n",
       "      <td>53252</td>\n",
       "      <td>199099</td>\n",
       "      <td>53252</td>\n",
       "      <td>199099</td>\n",
       "      <td>Vasudevan, T.</td>\n",
       "      <td>Marimuthu, P.</td>\n",
       "      <td>department of industrial chemistry</td>\n",
       "      <td>D1888</td>\n",
       "      <td>Alagappa University</td>\n",
       "      <td>I333</td>\n",
       "      <td>...</td>\n",
       "      <td>2005-07-01</td>\n",
       "      <td>NaN</td>\n",
       "      <td>500::Natural sciences &amp; mathematics|540::Chemi...</td>\n",
       "      <td>('500', '540')</td>\n",
       "      <td>NaN</td>\n",
       "      <td>NaN</td>\n",
       "      <td>D1888</td>\n",
       "      <td>('500', '540')</td>\n",
       "      <td>Vasudevan, T.@53252</td>\n",
       "      <td>Marimuthu, P.@199099</td>\n",
       "    </tr>\n",
       "    <tr>\n",
       "      <th>111719</th>\n",
       "      <td>53252</td>\n",
       "      <td>199102</td>\n",
       "      <td>53252</td>\n",
       "      <td>199102</td>\n",
       "      <td>Vasudevan, T.</td>\n",
       "      <td>Ramanathan, A.</td>\n",
       "      <td>department of industrial chemistry</td>\n",
       "      <td>D1888</td>\n",
       "      <td>Alagappa University</td>\n",
       "      <td>I333</td>\n",
       "      <td>...</td>\n",
       "      <td>1998-07-01</td>\n",
       "      <td>NaN</td>\n",
       "      <td>500::Natural sciences &amp; mathematics|540::Chemi...</td>\n",
       "      <td>('500', '540')</td>\n",
       "      <td>NaN</td>\n",
       "      <td>NaN</td>\n",
       "      <td>D1888</td>\n",
       "      <td>('500', '540')</td>\n",
       "      <td>Vasudevan, T.@53252</td>\n",
       "      <td>Ramanathan, A.@199102</td>\n",
       "    </tr>\n",
       "    <tr>\n",
       "      <th>111720</th>\n",
       "      <td>53252</td>\n",
       "      <td>199104</td>\n",
       "      <td>53252</td>\n",
       "      <td>199104</td>\n",
       "      <td>Vasudevan, T.</td>\n",
       "      <td>Subramanian, SP</td>\n",
       "      <td>department of industrial chemistry</td>\n",
       "      <td>D1888</td>\n",
       "      <td>Alagappa University</td>\n",
       "      <td>I333</td>\n",
       "      <td>...</td>\n",
       "      <td>2001-07-01</td>\n",
       "      <td>NaN</td>\n",
       "      <td>500::Natural sciences &amp; mathematics|540::Chemi...</td>\n",
       "      <td>('500', '540')</td>\n",
       "      <td>NaN</td>\n",
       "      <td>NaN</td>\n",
       "      <td>D1888</td>\n",
       "      <td>('500', '540')</td>\n",
       "      <td>Vasudevan, T.@53252</td>\n",
       "      <td>Subramanian, SP@199104</td>\n",
       "    </tr>\n",
       "    <tr>\n",
       "      <th>111721</th>\n",
       "      <td>53252</td>\n",
       "      <td>199105</td>\n",
       "      <td>53252</td>\n",
       "      <td>199105</td>\n",
       "      <td>Vasudevan, T.</td>\n",
       "      <td>Rajendran, V.</td>\n",
       "      <td>department of industrial chemistry</td>\n",
       "      <td>D1888</td>\n",
       "      <td>Alagappa University</td>\n",
       "      <td>I333</td>\n",
       "      <td>...</td>\n",
       "      <td>1998-07-01</td>\n",
       "      <td>NaN</td>\n",
       "      <td>500::Natural sciences &amp; mathematics|540::Chemi...</td>\n",
       "      <td>('500', '540')</td>\n",
       "      <td>NaN</td>\n",
       "      <td>NaN</td>\n",
       "      <td>D1888</td>\n",
       "      <td>('500', '540')</td>\n",
       "      <td>Vasudevan, T.@53252</td>\n",
       "      <td>Rajendran, V.@199105</td>\n",
       "    </tr>\n",
       "    <tr>\n",
       "      <th>111722</th>\n",
       "      <td>53252</td>\n",
       "      <td>199110</td>\n",
       "      <td>53252</td>\n",
       "      <td>199110</td>\n",
       "      <td>Vasudevan, T.</td>\n",
       "      <td>Padmini, S.</td>\n",
       "      <td>department of industrial chemistry</td>\n",
       "      <td>D1888</td>\n",
       "      <td>Alagappa University</td>\n",
       "      <td>I333</td>\n",
       "      <td>...</td>\n",
       "      <td>2007-07-01</td>\n",
       "      <td>NaN</td>\n",
       "      <td>500::Natural sciences &amp; mathematics|540::Chemi...</td>\n",
       "      <td>('500', '540')</td>\n",
       "      <td>NaN</td>\n",
       "      <td>NaN</td>\n",
       "      <td>D1888</td>\n",
       "      <td>('500', '540')</td>\n",
       "      <td>Vasudevan, T.@53252</td>\n",
       "      <td>Padmini, S.@199110</td>\n",
       "    </tr>\n",
       "    <tr>\n",
       "      <th>111723</th>\n",
       "      <td>53252</td>\n",
       "      <td>199116</td>\n",
       "      <td>53252</td>\n",
       "      <td>199116</td>\n",
       "      <td>Vasudevan, T.</td>\n",
       "      <td>Veeramani, P.</td>\n",
       "      <td>department of industrial chemistry</td>\n",
       "      <td>D1888</td>\n",
       "      <td>Alagappa University</td>\n",
       "      <td>I333</td>\n",
       "      <td>...</td>\n",
       "      <td>2001-07-01</td>\n",
       "      <td>NaN</td>\n",
       "      <td>500::Natural sciences &amp; mathematics|540::Chemi...</td>\n",
       "      <td>('500', '540')</td>\n",
       "      <td>NaN</td>\n",
       "      <td>NaN</td>\n",
       "      <td>D1888</td>\n",
       "      <td>('500', '540')</td>\n",
       "      <td>Vasudevan, T.@53252</td>\n",
       "      <td>Veeramani, P.@199116</td>\n",
       "    </tr>\n",
       "    <tr>\n",
       "      <th>111724</th>\n",
       "      <td>53252</td>\n",
       "      <td>199117</td>\n",
       "      <td>53252</td>\n",
       "      <td>199117</td>\n",
       "      <td>Vasudevan, T.</td>\n",
       "      <td>Senthilmurugan, B.</td>\n",
       "      <td>department of industrial chemistry</td>\n",
       "      <td>D1888</td>\n",
       "      <td>Alagappa University</td>\n",
       "      <td>I333</td>\n",
       "      <td>...</td>\n",
       "      <td>2006-07-01</td>\n",
       "      <td>NaN</td>\n",
       "      <td>500::Natural sciences &amp; mathematics|540::Chemi...</td>\n",
       "      <td>('500', '540')</td>\n",
       "      <td>NaN</td>\n",
       "      <td>NaN</td>\n",
       "      <td>D1888</td>\n",
       "      <td>('500', '540')</td>\n",
       "      <td>Vasudevan, T.@53252</td>\n",
       "      <td>Senthilmurugan, B.@199117</td>\n",
       "    </tr>\n",
       "    <tr>\n",
       "      <th>111725</th>\n",
       "      <td>53252</td>\n",
       "      <td>199118</td>\n",
       "      <td>53252</td>\n",
       "      <td>199118</td>\n",
       "      <td>Vasudevan, T.</td>\n",
       "      <td>Balakrishnan, P A.</td>\n",
       "      <td>department of industrial chemistry</td>\n",
       "      <td>D1888</td>\n",
       "      <td>Alagappa University</td>\n",
       "      <td>I333</td>\n",
       "      <td>...</td>\n",
       "      <td>2006-07-01</td>\n",
       "      <td>NaN</td>\n",
       "      <td>500::Natural sciences &amp; mathematics|540::Chemi...</td>\n",
       "      <td>('500', '540')</td>\n",
       "      <td>NaN</td>\n",
       "      <td>NaN</td>\n",
       "      <td>D1888</td>\n",
       "      <td>('500', '540')</td>\n",
       "      <td>Vasudevan, T.@53252</td>\n",
       "      <td>Balakrishnan, P A.@199118</td>\n",
       "    </tr>\n",
       "    <tr>\n",
       "      <th>111726</th>\n",
       "      <td>53252</td>\n",
       "      <td>199119</td>\n",
       "      <td>53252</td>\n",
       "      <td>199119</td>\n",
       "      <td>Vasudevan, T.</td>\n",
       "      <td>Krishnan, SM</td>\n",
       "      <td>department of industrial chemistry</td>\n",
       "      <td>D1888</td>\n",
       "      <td>Alagappa University</td>\n",
       "      <td>I333</td>\n",
       "      <td>...</td>\n",
       "      <td>2006-07-01</td>\n",
       "      <td>NaN</td>\n",
       "      <td>500::Natural sciences &amp; mathematics|540::Chemi...</td>\n",
       "      <td>('500', '540')</td>\n",
       "      <td>NaN</td>\n",
       "      <td>NaN</td>\n",
       "      <td>D1888</td>\n",
       "      <td>('500', '540')</td>\n",
       "      <td>Vasudevan, T.@53252</td>\n",
       "      <td>Krishnan, SM@199119</td>\n",
       "    </tr>\n",
       "    <tr>\n",
       "      <th>111727</th>\n",
       "      <td>53252</td>\n",
       "      <td>198915</td>\n",
       "      <td>53252</td>\n",
       "      <td>287613</td>\n",
       "      <td>Vasudevan, T.</td>\n",
       "      <td>Sankar, S.</td>\n",
       "      <td>department of chemistry</td>\n",
       "      <td>D1888</td>\n",
       "      <td>Alagappa University</td>\n",
       "      <td>I333</td>\n",
       "      <td>...</td>\n",
       "      <td>2010-10-30</td>\n",
       "      <td>2010-10-30</td>\n",
       "      <td>500::Natural sciences &amp; mathematics|540::Chemi...</td>\n",
       "      <td>('500', '540')</td>\n",
       "      <td>NaN</td>\n",
       "      <td>NaN</td>\n",
       "      <td>D1331</td>\n",
       "      <td>('500', '540')</td>\n",
       "      <td>Vasudevan, T.@53252</td>\n",
       "      <td>Sankar, S.@287613</td>\n",
       "    </tr>\n",
       "  </tbody>\n",
       "</table>\n",
       "<p>44 rows × 24 columns</p>\n",
       "</div>"
      ],
      "text/plain": [
       "        advisorId  researcherId  advId   resId   advisor_name  \\\n",
       "111684      53252        199071  53252   53249  Vasudevan, T.   \n",
       "111685      53252         53267  53252   53267  Vasudevan, T.   \n",
       "111686      53252        198907  53252  198907  Vasudevan, T.   \n",
       "111687      53252        198971  53252  198971  Vasudevan, T.   \n",
       "111688      53252        198972  53252  198972  Vasudevan, T.   \n",
       "111689      53252        198979  53252  198979  Vasudevan, T.   \n",
       "111690      53252        198980  53252  198980  Vasudevan, T.   \n",
       "111691      53252        198983  53252  198983  Vasudevan, T.   \n",
       "111692      53252        198985  53252  198985  Vasudevan, T.   \n",
       "111693      53252        198991  53252  198991  Vasudevan, T.   \n",
       "111694      53252        198995  53252  198995  Vasudevan, T.   \n",
       "111695      53252        198996  53252  198996  Vasudevan, T.   \n",
       "111696      53252        198999  53252  198999  Vasudevan, T.   \n",
       "111697      53252        199000  53252  199000  Vasudevan, T.   \n",
       "111698      53252        199003  53252  199003  Vasudevan, T.   \n",
       "111699      53252        199005  53252  199005  Vasudevan, T.   \n",
       "111700      53252        199012  53252  199012  Vasudevan, T.   \n",
       "111701      53252        199028  53252  199028  Vasudevan, T.   \n",
       "111702      53252        199030  53252  199030  Vasudevan, T.   \n",
       "111703      53252        199041  53252  199041  Vasudevan, T.   \n",
       "111704      53252        199051  53252  199051  Vasudevan, T.   \n",
       "111705      53252        199052  53252  199052  Vasudevan, T.   \n",
       "111706      53252        199053  53252  199053  Vasudevan, T.   \n",
       "111707      53252        199056  53252  199056  Vasudevan, T.   \n",
       "111708      53252        199057  53252  199057  Vasudevan, T.   \n",
       "111709      53252        199058  53252  199058  Vasudevan, T.   \n",
       "111710      53252        199059  53252  199059  Vasudevan, T.   \n",
       "111711      53252        199060  53252  199060  Vasudevan, T.   \n",
       "111712      53252        199073  53252  199073  Vasudevan, T.   \n",
       "111713      53252        199074  53252  199074  Vasudevan, T.   \n",
       "111714      53252        199084  53252  199084  Vasudevan, T.   \n",
       "111715      53252        199085  53252  199085  Vasudevan, T.   \n",
       "111716      53252        199092  53252  199092  Vasudevan, T.   \n",
       "111717      53252        199097  53252  199097  Vasudevan, T.   \n",
       "111718      53252        199099  53252  199099  Vasudevan, T.   \n",
       "111719      53252        199102  53252  199102  Vasudevan, T.   \n",
       "111720      53252        199104  53252  199104  Vasudevan, T.   \n",
       "111721      53252        199105  53252  199105  Vasudevan, T.   \n",
       "111722      53252        199110  53252  199110  Vasudevan, T.   \n",
       "111723      53252        199116  53252  199116  Vasudevan, T.   \n",
       "111724      53252        199117  53252  199117  Vasudevan, T.   \n",
       "111725      53252        199118  53252  199118  Vasudevan, T.   \n",
       "111726      53252        199119  53252  199119  Vasudevan, T.   \n",
       "111727      53252        198915  53252  287613  Vasudevan, T.   \n",
       "\n",
       "              researcher_name                      publisher_dept  \\\n",
       "111684        Subramanian, A.  department of industrial chemistry   \n",
       "111685       Muralidharan, B.  department of industrial chemistry   \n",
       "111686          Indumathi, SN             department of chemistry   \n",
       "111687        Shakkthivel, P.  department of industrial chemistry   \n",
       "111688         Srinivasan, R.  department of industrial chemistry   \n",
       "111689      Lajapathi Rai, C.  department of industrial chemistry   \n",
       "111690       Umamaheswari, S.  department of industrial chemistry   \n",
       "111691       Venkataraman, S.  department of industrial chemistry   \n",
       "111692  Sathiya Narayanan, R.  department of industrial chemistry   \n",
       "111693             Ramesh, D.  department of industrial chemistry   \n",
       "111694            Kavitha, B.  department of industrial chemistry   \n",
       "111695             Amutha, K.  department of industrial chemistry   \n",
       "111696      Panneerselvam, G.  department of industrial chemistry   \n",
       "111697   Harihara Puthran, R.  department of industrial chemistry   \n",
       "111698   Rajachandrasekar, R.  department of industrial chemistry   \n",
       "111699         Saraswathy, V.  department of industrial chemistry   \n",
       "111700            Kalpana, A.  department of industrial chemistry   \n",
       "111701              Andal, KR  department of industrial chemistry   \n",
       "111702          Shivkumar, R.  department of industrial chemistry   \n",
       "111703         Thirumalai, A.  department of industrial chemistry   \n",
       "111704            Vincent, S.  department of industrial chemistry   \n",
       "111705           Selvaraj, R.  department of industrial chemistry   \n",
       "111706              Kumar, K.  department of industrial chemistry   \n",
       "111707         Renukadevi, M.  department of industrial chemistry   \n",
       "111708          Meenakshi, G.  department of industrial chemistry   \n",
       "111709          Rajendran, S.  department of industrial chemistry   \n",
       "111710          Nirmala, P V.  department of industrial chemistry   \n",
       "111711         Kameshwari, B.  department of industrial chemistry   \n",
       "111712            Prakash, S.  department of industrial chemistry   \n",
       "111713  Alice Arul Antony, A.  department of industrial chemistry   \n",
       "111714     Sathiyamoorthi, R.  department of industrial chemistry   \n",
       "111715         Alwarappan, S.  department of industrial chemistry   \n",
       "111716        Karthikeyan, S.  department of industrial chemistry   \n",
       "111717           Govindan, P.  department of industrial chemistry   \n",
       "111718          Marimuthu, P.  department of industrial chemistry   \n",
       "111719         Ramanathan, A.  department of industrial chemistry   \n",
       "111720        Subramanian, SP  department of industrial chemistry   \n",
       "111721          Rajendran, V.  department of industrial chemistry   \n",
       "111722            Padmini, S.  department of industrial chemistry   \n",
       "111723          Veeramani, P.  department of industrial chemistry   \n",
       "111724     Senthilmurugan, B.  department of industrial chemistry   \n",
       "111725     Balakrishnan, P A.  department of industrial chemistry   \n",
       "111726           Krishnan, SM  department of industrial chemistry   \n",
       "111727             Sankar, S.             department of chemistry   \n",
       "\n",
       "       DepartmentId publisher_institution instituteId  ... new_date_awarded  \\\n",
       "111684        D1888   Alagappa University        I333  ...       1998-07-01   \n",
       "111685        D1888   Alagappa University        I333  ...       1996-07-01   \n",
       "111686        D1888   Alagappa University        I333  ...       2012-07-20   \n",
       "111687        D1888   Alagappa University        I333  ...       2000-07-01   \n",
       "111688        D1888   Alagappa University        I333  ...       2007-07-01   \n",
       "111689        D1888   Alagappa University        I333  ...       2007-07-01   \n",
       "111690        D1888   Alagappa University        I333  ...       2000-07-01   \n",
       "111691        D1888   Alagappa University        I333  ...       2005-07-01   \n",
       "111692        D1888   Alagappa University        I333  ...       2004-07-01   \n",
       "111693        D1888   Alagappa University        I333  ...       2004-07-01   \n",
       "111694        D1888   Alagappa University        I333  ...       2003-07-01   \n",
       "111695        D1888   Alagappa University        I333  ...       2006-07-01   \n",
       "111696        D1888   Alagappa University        I333  ...       2006-07-01   \n",
       "111697        D1888   Alagappa University        I333  ...       1995-07-01   \n",
       "111698        D1888   Alagappa University        I333  ...       2006-07-01   \n",
       "111699        D1888   Alagappa University        I333  ...       2002-07-01   \n",
       "111700        D1888   Alagappa University        I333  ...       2007-07-01   \n",
       "111701        D1888   Alagappa University        I333  ...       2000-07-01   \n",
       "111702        D1888   Alagappa University        I333  ...       1998-07-01   \n",
       "111703        D1888   Alagappa University        I333  ...       2003-07-01   \n",
       "111704        D1888   Alagappa University        I333  ...       2006-07-01   \n",
       "111705        D1888   Alagappa University        I333  ...       2004-07-01   \n",
       "111706        D1888   Alagappa University        I333  ...       2002-07-01   \n",
       "111707        D1888   Alagappa University        I333  ...       2007-07-01   \n",
       "111708        D1888   Alagappa University        I333  ...       2007-07-01   \n",
       "111709        D1888   Alagappa University        I333  ...       1998-07-01   \n",
       "111710        D1888   Alagappa University        I333  ...       2001-07-01   \n",
       "111711        D1888   Alagappa University        I333  ...       2008-07-01   \n",
       "111712        D1888   Alagappa University        I333  ...       1997-07-01   \n",
       "111713        D1888   Alagappa University        I333  ...       1999-07-01   \n",
       "111714        D1888   Alagappa University        I333  ...       2006-07-01   \n",
       "111715        D1888   Alagappa University        I333  ...       1996-07-01   \n",
       "111716        D1888   Alagappa University        I333  ...       2001-07-01   \n",
       "111717        D1888   Alagappa University        I333  ...       2003-07-01   \n",
       "111718        D1888   Alagappa University        I333  ...       2005-07-01   \n",
       "111719        D1888   Alagappa University        I333  ...       1998-07-01   \n",
       "111720        D1888   Alagappa University        I333  ...       2001-07-01   \n",
       "111721        D1888   Alagappa University        I333  ...       1998-07-01   \n",
       "111722        D1888   Alagappa University        I333  ...       2007-07-01   \n",
       "111723        D1888   Alagappa University        I333  ...       2001-07-01   \n",
       "111724        D1888   Alagappa University        I333  ...       2006-07-01   \n",
       "111725        D1888   Alagappa University        I333  ...       2006-07-01   \n",
       "111726        D1888   Alagappa University        I333  ...       2006-07-01   \n",
       "111727        D1888   Alagappa University        I333  ...       2010-10-30   \n",
       "\n",
       "       dc.date.awarded                                     dc.subject.ddc  \\\n",
       "111684             NaN  500::Natural sciences & mathematics|540::Chemi...   \n",
       "111685             NaN  500::Natural sciences & mathematics|540::Chemi...   \n",
       "111686      2012-07-20  500::Natural sciences & mathematics|540::Chemi...   \n",
       "111687             NaN  500::Natural sciences & mathematics|540::Chemi...   \n",
       "111688             NaN  500::Natural sciences & mathematics|540::Chemi...   \n",
       "111689             NaN  500::Natural sciences & mathematics|540::Chemi...   \n",
       "111690             NaN  500::Natural sciences & mathematics|540::Chemi...   \n",
       "111691             NaN  500::Natural sciences & mathematics|540::Chemi...   \n",
       "111692             NaN  500::Natural sciences & mathematics|540::Chemi...   \n",
       "111693             NaN  500::Natural sciences & mathematics|540::Chemi...   \n",
       "111694             NaN  500::Natural sciences & mathematics|540::Chemi...   \n",
       "111695             NaN  500::Natural sciences & mathematics|540::Chemi...   \n",
       "111696             NaN  500::Natural sciences & mathematics|540::Chemi...   \n",
       "111697             NaN  500::Natural sciences & mathematics|540::Chemi...   \n",
       "111698             NaN  500::Natural sciences & mathematics|540::Chemi...   \n",
       "111699             NaN  500::Natural sciences & mathematics|540::Chemi...   \n",
       "111700             NaN  500::Natural sciences & mathematics|540::Chemi...   \n",
       "111701             NaN  500::Natural sciences & mathematics|540::Chemi...   \n",
       "111702             NaN  500::Natural sciences & mathematics|540::Chemi...   \n",
       "111703             NaN  500::Natural sciences & mathematics|540::Chemi...   \n",
       "111704             NaN  500::Natural sciences & mathematics|540::Chemi...   \n",
       "111705             NaN  500::Natural sciences & mathematics|540::Chemi...   \n",
       "111706             NaN  500::Natural sciences & mathematics|540::Chemi...   \n",
       "111707             NaN  500::Natural sciences & mathematics|540::Chemi...   \n",
       "111708             NaN  500::Natural sciences & mathematics|540::Chemi...   \n",
       "111709             NaN  500::Natural sciences & mathematics|540::Chemi...   \n",
       "111710             NaN  500::Natural sciences & mathematics|540::Chemi...   \n",
       "111711             NaN  500::Natural sciences & mathematics|540::Chemi...   \n",
       "111712             NaN  500::Natural sciences & mathematics|540::Chemi...   \n",
       "111713             NaN  500::Natural sciences & mathematics|540::Chemi...   \n",
       "111714             NaN  500::Natural sciences & mathematics|540::Chemi...   \n",
       "111715             NaN  500::Natural sciences & mathematics|540::Chemi...   \n",
       "111716             NaN  500::Natural sciences & mathematics|540::Chemi...   \n",
       "111717             NaN  500::Natural sciences & mathematics|540::Chemi...   \n",
       "111718             NaN  500::Natural sciences & mathematics|540::Chemi...   \n",
       "111719             NaN  500::Natural sciences & mathematics|540::Chemi...   \n",
       "111720             NaN  500::Natural sciences & mathematics|540::Chemi...   \n",
       "111721             NaN  500::Natural sciences & mathematics|540::Chemi...   \n",
       "111722             NaN  500::Natural sciences & mathematics|540::Chemi...   \n",
       "111723             NaN  500::Natural sciences & mathematics|540::Chemi...   \n",
       "111724             NaN  500::Natural sciences & mathematics|540::Chemi...   \n",
       "111725             NaN  500::Natural sciences & mathematics|540::Chemi...   \n",
       "111726             NaN  500::Natural sciences & mathematics|540::Chemi...   \n",
       "111727      2010-10-30  500::Natural sciences & mathematics|540::Chemi...   \n",
       "\n",
       "       uniq_ddc_across_dept dc.description.abstract dc.title.alternative  \\\n",
       "111684       ('500', '540')                     NaN                  NaN   \n",
       "111685       ('500', '540')                     NaN                  NaN   \n",
       "111686       ('500', '540')                     NaN                  NaN   \n",
       "111687       ('500', '540')                     NaN                  NaN   \n",
       "111688       ('500', '540')                     NaN                  NaN   \n",
       "111689       ('500', '540')                     NaN                  NaN   \n",
       "111690       ('500', '540')                     NaN                  NaN   \n",
       "111691       ('500', '540')                     NaN                  NaN   \n",
       "111692       ('500', '540')                     NaN                  NaN   \n",
       "111693       ('500', '540')                     NaN                  NaN   \n",
       "111694       ('500', '540')                     NaN                  NaN   \n",
       "111695       ('500', '540')                     NaN                  NaN   \n",
       "111696       ('500', '540')                     NaN                  NaN   \n",
       "111697       ('500', '540')                     NaN                  NaN   \n",
       "111698       ('500', '540')                     NaN                  NaN   \n",
       "111699       ('500', '540')                     NaN                  NaN   \n",
       "111700       ('500', '540')                     NaN                  NaN   \n",
       "111701       ('500', '540')                     NaN                  NaN   \n",
       "111702       ('500', '540')                     NaN                  NaN   \n",
       "111703       ('500', '540')                     NaN                  NaN   \n",
       "111704       ('500', '540')                     NaN                  NaN   \n",
       "111705       ('500', '540')                     NaN                  NaN   \n",
       "111706       ('500', '540')                     NaN                  NaN   \n",
       "111707       ('500', '540')                     NaN                  NaN   \n",
       "111708       ('500', '540')                     NaN                  NaN   \n",
       "111709       ('500', '540')                     NaN                  NaN   \n",
       "111710       ('500', '540')                     NaN                  NaN   \n",
       "111711       ('500', '540')                     NaN                  NaN   \n",
       "111712       ('500', '540')                     NaN                  NaN   \n",
       "111713       ('500', '540')                     NaN                  NaN   \n",
       "111714       ('500', '540')                     NaN                  NaN   \n",
       "111715       ('500', '540')                     NaN                  NaN   \n",
       "111716       ('500', '540')                     NaN                  NaN   \n",
       "111717       ('500', '540')                     NaN                  NaN   \n",
       "111718       ('500', '540')                     NaN                  NaN   \n",
       "111719       ('500', '540')                     NaN                  NaN   \n",
       "111720       ('500', '540')                     NaN                  NaN   \n",
       "111721       ('500', '540')                     NaN                  NaN   \n",
       "111722       ('500', '540')                     NaN                  NaN   \n",
       "111723       ('500', '540')                     NaN                  NaN   \n",
       "111724       ('500', '540')                     NaN                  NaN   \n",
       "111725       ('500', '540')                     NaN                  NaN   \n",
       "111726       ('500', '540')                     NaN                  NaN   \n",
       "111727       ('500', '540')                     NaN                  NaN   \n",
       "\n",
       "       N_DepartmentId_1        ddc_code        advisor_advId  \\\n",
       "111684            D1888  ('500', '540')  Vasudevan, T.@53252   \n",
       "111685            D1888  ('500', '540')  Vasudevan, T.@53252   \n",
       "111686            D1331  ('500', '540')  Vasudevan, T.@53252   \n",
       "111687            D1888  ('500', '540')  Vasudevan, T.@53252   \n",
       "111688            D1888  ('500', '540')  Vasudevan, T.@53252   \n",
       "111689            D1888  ('500', '540')  Vasudevan, T.@53252   \n",
       "111690            D1888  ('500', '540')  Vasudevan, T.@53252   \n",
       "111691            D1888  ('500', '540')  Vasudevan, T.@53252   \n",
       "111692            D1888  ('500', '540')  Vasudevan, T.@53252   \n",
       "111693            D1888  ('500', '540')  Vasudevan, T.@53252   \n",
       "111694            D1888  ('500', '540')  Vasudevan, T.@53252   \n",
       "111695            D1888  ('500', '540')  Vasudevan, T.@53252   \n",
       "111696            D1888  ('500', '540')  Vasudevan, T.@53252   \n",
       "111697            D1888  ('500', '540')  Vasudevan, T.@53252   \n",
       "111698            D1888  ('500', '540')  Vasudevan, T.@53252   \n",
       "111699            D1888  ('500', '540')  Vasudevan, T.@53252   \n",
       "111700            D1888  ('500', '540')  Vasudevan, T.@53252   \n",
       "111701            D1888  ('500', '540')  Vasudevan, T.@53252   \n",
       "111702            D1888  ('500', '540')  Vasudevan, T.@53252   \n",
       "111703            D1888  ('500', '540')  Vasudevan, T.@53252   \n",
       "111704            D1888  ('500', '540')  Vasudevan, T.@53252   \n",
       "111705            D1888  ('500', '540')  Vasudevan, T.@53252   \n",
       "111706            D1888  ('500', '540')  Vasudevan, T.@53252   \n",
       "111707            D1888  ('500', '540')  Vasudevan, T.@53252   \n",
       "111708            D1888  ('500', '540')  Vasudevan, T.@53252   \n",
       "111709            D1888  ('500', '540')  Vasudevan, T.@53252   \n",
       "111710            D1888  ('500', '540')  Vasudevan, T.@53252   \n",
       "111711            D1888  ('500', '540')  Vasudevan, T.@53252   \n",
       "111712            D1888  ('500', '540')  Vasudevan, T.@53252   \n",
       "111713            D1888  ('500', '540')  Vasudevan, T.@53252   \n",
       "111714            D1888  ('500', '540')  Vasudevan, T.@53252   \n",
       "111715            D1888  ('500', '540')  Vasudevan, T.@53252   \n",
       "111716            D1888  ('500', '540')  Vasudevan, T.@53252   \n",
       "111717            D1888  ('500', '540')  Vasudevan, T.@53252   \n",
       "111718            D1888  ('500', '540')  Vasudevan, T.@53252   \n",
       "111719            D1888  ('500', '540')  Vasudevan, T.@53252   \n",
       "111720            D1888  ('500', '540')  Vasudevan, T.@53252   \n",
       "111721            D1888  ('500', '540')  Vasudevan, T.@53252   \n",
       "111722            D1888  ('500', '540')  Vasudevan, T.@53252   \n",
       "111723            D1888  ('500', '540')  Vasudevan, T.@53252   \n",
       "111724            D1888  ('500', '540')  Vasudevan, T.@53252   \n",
       "111725            D1888  ('500', '540')  Vasudevan, T.@53252   \n",
       "111726            D1888  ('500', '540')  Vasudevan, T.@53252   \n",
       "111727            D1331  ('500', '540')  Vasudevan, T.@53252   \n",
       "\n",
       "                    researcher_resId  \n",
       "111684         Subramanian, A.@53249  \n",
       "111685        Muralidharan, B.@53267  \n",
       "111686          Indumathi, SN@198907  \n",
       "111687        Shakkthivel, P.@198971  \n",
       "111688         Srinivasan, R.@198972  \n",
       "111689      Lajapathi Rai, C.@198979  \n",
       "111690       Umamaheswari, S.@198980  \n",
       "111691       Venkataraman, S.@198983  \n",
       "111692  Sathiya Narayanan, R.@198985  \n",
       "111693             Ramesh, D.@198991  \n",
       "111694            Kavitha, B.@198995  \n",
       "111695             Amutha, K.@198996  \n",
       "111696      Panneerselvam, G.@198999  \n",
       "111697   Harihara Puthran, R.@199000  \n",
       "111698   Rajachandrasekar, R.@199003  \n",
       "111699         Saraswathy, V.@199005  \n",
       "111700            Kalpana, A.@199012  \n",
       "111701              Andal, KR@199028  \n",
       "111702          Shivkumar, R.@199030  \n",
       "111703         Thirumalai, A.@199041  \n",
       "111704            Vincent, S.@199051  \n",
       "111705           Selvaraj, R.@199052  \n",
       "111706              Kumar, K.@199053  \n",
       "111707         Renukadevi, M.@199056  \n",
       "111708          Meenakshi, G.@199057  \n",
       "111709          Rajendran, S.@199058  \n",
       "111710          Nirmala, P V.@199059  \n",
       "111711         Kameshwari, B.@199060  \n",
       "111712            Prakash, S.@199073  \n",
       "111713  Alice Arul Antony, A.@199074  \n",
       "111714     Sathiyamoorthi, R.@199084  \n",
       "111715         Alwarappan, S.@199085  \n",
       "111716        Karthikeyan, S.@199092  \n",
       "111717           Govindan, P.@199097  \n",
       "111718          Marimuthu, P.@199099  \n",
       "111719         Ramanathan, A.@199102  \n",
       "111720        Subramanian, SP@199104  \n",
       "111721          Rajendran, V.@199105  \n",
       "111722            Padmini, S.@199110  \n",
       "111723          Veeramani, P.@199116  \n",
       "111724     Senthilmurugan, B.@199117  \n",
       "111725     Balakrishnan, P A.@199118  \n",
       "111726           Krishnan, SM@199119  \n",
       "111727             Sankar, S.@287613  \n",
       "\n",
       "[44 rows x 24 columns]"
      ]
     },
     "execution_count": 38,
     "metadata": {},
     "output_type": "execute_result"
    }
   ],
   "source": [
    "mod_ment2[mod_ment2[\"advId\"]==53252]"
   ]
  },
  {
   "cell_type": "code",
   "execution_count": 10,
   "metadata": {},
   "outputs": [],
   "source": [
    "#mod_ment2 = pd.read_csv(folder+'final_shodhganga_dataset_v5_2.csv', sep =\",\")"
   ]
  },
  {
   "cell_type": "code",
   "execution_count": 11,
   "metadata": {},
   "outputs": [
    {
     "data": {
      "text/plain": [
       "(201477, 24)"
      ]
     },
     "execution_count": 11,
     "metadata": {},
     "output_type": "execute_result"
    }
   ],
   "source": [
    "mod_ment2.shape"
   ]
  },
  {
   "cell_type": "code",
   "execution_count": 12,
   "metadata": {},
   "outputs": [],
   "source": [
    "graph1 = nx.convert_matrix.from_pandas_edgelist(mod_ment2, 'advId','resId','publisher_institution', create_using=nx.DiGraph())\n",
    "graph1.remove_edges_from(nx.selfloop_edges(graph1))\n",
    "cycle=list(nx.simple_cycles(graph1))\n",
    "graph1.remove_edges_from(cycle)"
   ]
  },
  {
   "cell_type": "code",
   "execution_count": 13,
   "metadata": {},
   "outputs": [
    {
     "data": {
      "text/plain": [
       "256725"
      ]
     },
     "execution_count": 13,
     "metadata": {},
     "output_type": "execute_result"
    }
   ],
   "source": [
    "len(graph1.nodes())"
   ]
  },
  {
   "cell_type": "code",
   "execution_count": 14,
   "metadata": {},
   "outputs": [
    {
     "data": {
      "text/plain": [
       "201250"
      ]
     },
     "execution_count": 14,
     "metadata": {},
     "output_type": "execute_result"
    }
   ],
   "source": [
    "len(graph1.edges())"
   ]
  },
  {
   "cell_type": "code",
   "execution_count": 15,
   "metadata": {},
   "outputs": [],
   "source": [
    "components1 = list(nx.weakly_connected_components(graph1))"
   ]
  },
  {
   "cell_type": "code",
   "execution_count": 16,
   "metadata": {},
   "outputs": [
    {
     "data": {
      "text/plain": [
       "56935"
      ]
     },
     "execution_count": 16,
     "metadata": {},
     "output_type": "execute_result"
    }
   ],
   "source": [
    "len(components1)"
   ]
  },
  {
   "cell_type": "code",
   "execution_count": 17,
   "metadata": {},
   "outputs": [],
   "source": [
    "components1.sort(key=len, reverse=True)"
   ]
  },
  {
   "cell_type": "code",
   "execution_count": 18,
   "metadata": {},
   "outputs": [],
   "source": [
    "components1_Size=[len(c) for c in components1]"
   ]
  },
  {
   "cell_type": "code",
   "execution_count": 19,
   "metadata": {},
   "outputs": [
    {
     "name": "stdout",
     "output_type": "stream",
     "text": [
      "0.37594312980816047\n",
      "0.4648894409937888\n"
     ]
    }
   ],
   "source": [
    "gneq_10 = [c for c in components1 if len(c)>=10]\n",
    "nodes_10 = [node for c in gneq_10 for node in c]\n",
    "sub_graph_geq10 = graph1.subgraph(nodes_10)\n",
    "print(len(sub_graph_geq10.nodes())/len(graph1.nodes()))\n",
    "print(len(sub_graph_geq10.edges())/len(graph1.edges()))"
   ]
  },
  {
   "cell_type": "code",
   "execution_count": 20,
   "metadata": {},
   "outputs": [],
   "source": [
    "#nx.write_graphml_lxml(sub_graph_geq10, \"sub_graph_geq10.graphml\")"
   ]
  },
  {
   "cell_type": "code",
   "execution_count": 20,
   "metadata": {},
   "outputs": [
    {
     "data": {
      "text/plain": [
       "0.07441819618863617"
      ]
     },
     "execution_count": 20,
     "metadata": {},
     "output_type": "execute_result"
    }
   ],
   "source": [
    "len(gneq_10)/56935"
   ]
  },
  {
   "cell_type": "code",
   "execution_count": 22,
   "metadata": {},
   "outputs": [],
   "source": [
    "components1_dist = Counter(components1_Size)"
   ]
  },
  {
   "cell_type": "code",
   "execution_count": 23,
   "metadata": {},
   "outputs": [],
   "source": [
    "sorted_components1_dist = dict(sorted(components1_dist.items(), key=lambda item: item[1],  reverse=True))"
   ]
  },
  {
   "cell_type": "code",
   "execution_count": 24,
   "metadata": {},
   "outputs": [],
   "source": [
    "avg_comp_size=sum(components1_Size)/len(components1_Size)"
   ]
  },
  {
   "cell_type": "code",
   "execution_count": 25,
   "metadata": {},
   "outputs": [
    {
     "data": {
      "text/plain": [
       "4.509089312373759"
      ]
     },
     "execution_count": 25,
     "metadata": {},
     "output_type": "execute_result"
    }
   ],
   "source": [
    "avg_comp_size"
   ]
  },
  {
   "cell_type": "code",
   "execution_count": 26,
   "metadata": {},
   "outputs": [
    {
     "data": {
      "text/plain": [
       "[1356, 697, 670, 666, 652, 626, 400, 365, 329, 276]"
      ]
     },
     "execution_count": 26,
     "metadata": {},
     "output_type": "execute_result"
    }
   ],
   "source": [
    "components1_Size[:10]"
   ]
  },
  {
   "cell_type": "code",
   "execution_count": 66,
   "metadata": {},
   "outputs": [
    {
     "data": {
      "text/plain": [
       "87"
      ]
     },
     "execution_count": 66,
     "metadata": {},
     "output_type": "execute_result"
    }
   ],
   "source": [
    "sorted_components1_dist[1]"
   ]
  },
  {
   "cell_type": "code",
   "execution_count": 26,
   "metadata": {},
   "outputs": [],
   "source": [
    "# comp_10 ={}\n",
    "# nodes_10 = []\n",
    "# for a in sorted_components1_dist:\n",
    "#     if a >= 10:\n",
    "#         comp_10[a]=sorted_components1_dist[a]\n",
    "#         nodes_10.append(sorted_components1_dist[a]*a)\n",
    "# print(sum(comp_10.values())/sum(sorted_components1_dist.values()))\n",
    "# print(sum(nodes_10)/len(graph1.nodes()))"
   ]
  },
  {
   "cell_type": "code",
   "execution_count": 27,
   "metadata": {},
   "outputs": [
    {
     "data": {
      "text/plain": [
       "0.5244225871607974"
      ]
     },
     "execution_count": 27,
     "metadata": {},
     "output_type": "execute_result"
    }
   ],
   "source": [
    "sorted_components1_dist[2]/len(components1)"
   ]
  },
  {
   "cell_type": "code",
   "execution_count": 28,
   "metadata": {},
   "outputs": [
    {
     "data": {
      "text/plain": [
       "56935"
      ]
     },
     "execution_count": 28,
     "metadata": {},
     "output_type": "execute_result"
    }
   ],
   "source": [
    "sum(sorted_components1_dist.values())"
   ]
  },
  {
   "cell_type": "code",
   "execution_count": 29,
   "metadata": {},
   "outputs": [
    {
     "data": {
      "text/plain": [
       "[29858, 9699, 4917, 2956, 1949, 1462, 995, 775]"
      ]
     },
     "execution_count": 29,
     "metadata": {},
     "output_type": "execute_result"
    }
   ],
   "source": [
    "list(sorted_components1_dist.values())[0:8]"
   ]
  },
  {
   "cell_type": "code",
   "execution_count": 30,
   "metadata": {},
   "outputs": [
    {
     "data": {
      "text/plain": [
       "0.9240537454992536"
      ]
     },
     "execution_count": 30,
     "metadata": {},
     "output_type": "execute_result"
    }
   ],
   "source": [
    "sum(list(sorted_components1_dist.values())[0:8])/sum(sorted_components1_dist.values())"
   ]
  },
  {
   "cell_type": "code",
   "execution_count": 27,
   "metadata": {},
   "outputs": [
    {
     "data": {
      "image/png": "[encoded data removed]",
      "text/plain": [
       "<Figure size 864x576 with 1 Axes>"
      ]
     },
     "metadata": {
      "needs_background": "light"
     },
     "output_type": "display_data"
    },
    {
     "name": "stdout",
     "output_type": "stream",
     "text": [
      "[5.3303e+04 2.4500e+03 5.9600e+02 2.0900e+02 1.2400e+02 6.6000e+01\n",
      " 3.9000e+01 3.1000e+01 1.5000e+01 1.2000e+01 1.4000e+01 1.0000e+01\n",
      " 1.0000e+01 1.0000e+01 7.0000e+00 2.0000e+00 6.0000e+00 1.0000e+00\n",
      " 3.0000e+00 4.0000e+00 3.0000e+00 1.0000e+00 1.0000e+00 1.0000e+00\n",
      " 2.0000e+00 4.0000e+00 0.0000e+00 1.0000e+00 1.0000e+00 0.0000e+00\n",
      " 0.0000e+00 0.0000e+00 0.0000e+00 1.0000e+00 0.0000e+00 0.0000e+00\n",
      " 0.0000e+00 1.0000e+00 0.0000e+00 0.0000e+00 0.0000e+00 1.0000e+00\n",
      " 0.0000e+00 0.0000e+00 0.0000e+00 0.0000e+00 0.0000e+00 0.0000e+00\n",
      " 0.0000e+00 0.0000e+00 0.0000e+00 0.0000e+00 0.0000e+00 0.0000e+00\n",
      " 0.0000e+00 0.0000e+00 0.0000e+00 0.0000e+00 0.0000e+00 0.0000e+00\n",
      " 0.0000e+00 0.0000e+00 0.0000e+00 0.0000e+00 1.0000e+00 0.0000e+00\n",
      " 0.0000e+00 1.0000e+00 1.0000e+00 1.0000e+00 0.0000e+00 1.0000e+00\n",
      " 0.0000e+00 0.0000e+00 0.0000e+00 0.0000e+00 0.0000e+00 0.0000e+00\n",
      " 0.0000e+00 0.0000e+00 0.0000e+00 0.0000e+00 0.0000e+00 0.0000e+00\n",
      " 0.0000e+00 0.0000e+00 0.0000e+00 0.0000e+00 0.0000e+00 0.0000e+00\n",
      " 0.0000e+00 0.0000e+00 0.0000e+00 0.0000e+00 0.0000e+00 0.0000e+00\n",
      " 0.0000e+00 0.0000e+00 0.0000e+00 0.0000e+00 0.0000e+00 0.0000e+00\n",
      " 0.0000e+00 0.0000e+00 0.0000e+00 0.0000e+00 0.0000e+00 0.0000e+00\n",
      " 0.0000e+00 0.0000e+00 0.0000e+00 0.0000e+00 0.0000e+00 0.0000e+00\n",
      " 0.0000e+00 0.0000e+00 0.0000e+00 0.0000e+00 0.0000e+00 0.0000e+00\n",
      " 0.0000e+00 0.0000e+00 0.0000e+00 0.0000e+00 0.0000e+00 0.0000e+00\n",
      " 0.0000e+00 0.0000e+00 0.0000e+00 0.0000e+00 0.0000e+00 0.0000e+00\n",
      " 0.0000e+00 0.0000e+00 0.0000e+00 0.0000e+00 0.0000e+00 0.0000e+00\n",
      " 0.0000e+00 1.0000e+00]\n",
      "[1.00000000e+00 1.06785714e+01 2.03571429e+01 3.00357143e+01\n",
      " 3.97142857e+01 4.93928571e+01 5.90714286e+01 6.87500000e+01\n",
      " 7.84285714e+01 8.81071429e+01 9.77857143e+01 1.07464286e+02\n",
      " 1.17142857e+02 1.26821429e+02 1.36500000e+02 1.46178571e+02\n",
      " 1.55857143e+02 1.65535714e+02 1.75214286e+02 1.84892857e+02\n",
      " 1.94571429e+02 2.04250000e+02 2.13928571e+02 2.23607143e+02\n",
      " 2.33285714e+02 2.42964286e+02 2.52642857e+02 2.62321429e+02\n",
      " 2.72000000e+02 2.81678571e+02 2.91357143e+02 3.01035714e+02\n",
      " 3.10714286e+02 3.20392857e+02 3.30071429e+02 3.39750000e+02\n",
      " 3.49428571e+02 3.59107143e+02 3.68785714e+02 3.78464286e+02\n",
      " 3.88142857e+02 3.97821429e+02 4.07500000e+02 4.17178571e+02\n",
      " 4.26857143e+02 4.36535714e+02 4.46214286e+02 4.55892857e+02\n",
      " 4.65571429e+02 4.75250000e+02 4.84928571e+02 4.94607143e+02\n",
      " 5.04285714e+02 5.13964286e+02 5.23642857e+02 5.33321429e+02\n",
      " 5.43000000e+02 5.52678571e+02 5.62357143e+02 5.72035714e+02\n",
      " 5.81714286e+02 5.91392857e+02 6.01071429e+02 6.10750000e+02\n",
      " 6.20428571e+02 6.30107143e+02 6.39785714e+02 6.49464286e+02\n",
      " 6.59142857e+02 6.68821429e+02 6.78500000e+02 6.88178571e+02\n",
      " 6.97857143e+02 7.07535714e+02 7.17214286e+02 7.26892857e+02\n",
      " 7.36571429e+02 7.46250000e+02 7.55928571e+02 7.65607143e+02\n",
      " 7.75285714e+02 7.84964286e+02 7.94642857e+02 8.04321429e+02\n",
      " 8.14000000e+02 8.23678571e+02 8.33357143e+02 8.43035714e+02\n",
      " 8.52714286e+02 8.62392857e+02 8.72071429e+02 8.81750000e+02\n",
      " 8.91428571e+02 9.01107143e+02 9.10785714e+02 9.20464286e+02\n",
      " 9.30142857e+02 9.39821429e+02 9.49500000e+02 9.59178571e+02\n",
      " 9.68857143e+02 9.78535714e+02 9.88214286e+02 9.97892857e+02\n",
      " 1.00757143e+03 1.01725000e+03 1.02692857e+03 1.03660714e+03\n",
      " 1.04628571e+03 1.05596429e+03 1.06564286e+03 1.07532143e+03\n",
      " 1.08500000e+03 1.09467857e+03 1.10435714e+03 1.11403571e+03\n",
      " 1.12371429e+03 1.13339286e+03 1.14307143e+03 1.15275000e+03\n",
      " 1.16242857e+03 1.17210714e+03 1.18178571e+03 1.19146429e+03\n",
      " 1.20114286e+03 1.21082143e+03 1.22050000e+03 1.23017857e+03\n",
      " 1.23985714e+03 1.24953571e+03 1.25921429e+03 1.26889286e+03\n",
      " 1.27857143e+03 1.28825000e+03 1.29792857e+03 1.30760714e+03\n",
      " 1.31728571e+03 1.32696429e+03 1.33664286e+03 1.34632143e+03\n",
      " 1.35600000e+03]\n"
     ]
    }
   ],
   "source": [
    "draw_bar_graph(components1_Size,title='',ylabel='Count',xlabel='Component Size',loc=\"../\"+save_dir+\"/WeaklyConnectedComponentDistributionHist1.pdf\",bins=41, text=True)"
   ]
  },
  {
   "cell_type": "code",
   "execution_count": 30,
   "metadata": {},
   "outputs": [],
   "source": [
    "#draw_line_graph(components1_dist,title='',ylabel='Component Count',xlabel='Component Size',loc=\"../new_graphs/WeaklyConnectedComponentDistributionLine1.svg\")"
   ]
  },
  {
   "cell_type": "code",
   "execution_count": 30,
   "metadata": {},
   "outputs": [],
   "source": [
    "#components1_dist_sort"
   ]
  },
  {
   "cell_type": "code",
   "execution_count": 31,
   "metadata": {},
   "outputs": [],
   "source": [
    "def save_df(df_name,df, folder1 = \"../\"):\n",
    "    df.to_csv(folder1+\"top_10/researcher_level/\"+df_name+\".csv\", index=False)\n",
    "    print(f\"file saved as: {folder1}top_10/researcher_level/{df_name}.csv\")\n",
    "    return"
   ]
  },
  {
   "cell_type": "code",
   "execution_count": 21,
   "metadata": {},
   "outputs": [],
   "source": [
    "top=5"
   ]
  },
  {
   "cell_type": "markdown",
   "metadata": {},
   "source": [
    "<h2> Fecundity Distribution : </h2> "
   ]
  },
  {
   "cell_type": "code",
   "execution_count": 22,
   "metadata": {},
   "outputs": [],
   "source": [
    "out_dgr = graph1.out_degree()"
   ]
  },
  {
   "cell_type": "code",
   "execution_count": 23,
   "metadata": {},
   "outputs": [],
   "source": [
    "out_dgr = dict(out_dgr)"
   ]
  },
  {
   "cell_type": "code",
   "execution_count": 35,
   "metadata": {},
   "outputs": [
    {
     "data": {
      "text/plain": [
       "44"
      ]
     },
     "execution_count": 35,
     "metadata": {},
     "output_type": "execute_result"
    }
   ],
   "source": [
    "out_dgr[53252]"
   ]
  },
  {
   "cell_type": "code",
   "execution_count": 20,
   "metadata": {},
   "outputs": [],
   "source": [
    "out_dgr_dist = Counter(out_dgr.values())"
   ]
  },
  {
   "cell_type": "code",
   "execution_count": 24,
   "metadata": {},
   "outputs": [],
   "source": [
    "#out_dgr_dist"
   ]
  },
  {
   "cell_type": "code",
   "execution_count": 35,
   "metadata": {},
   "outputs": [
    {
     "data": {
      "text/plain": [
       "0.7839127471029311"
      ]
     },
     "execution_count": 35,
     "metadata": {},
     "output_type": "execute_result"
    }
   ],
   "source": [
    "avg_fecun = sum(list(out_dgr.values()))/len(list(out_dgr.values()))\n",
    "avg_fecun"
   ]
  },
  {
   "cell_type": "code",
   "execution_count": 37,
   "metadata": {},
   "outputs": [],
   "source": [
    "#out_dgr_dist"
   ]
  },
  {
   "cell_type": "code",
   "execution_count": 37,
   "metadata": {},
   "outputs": [
    {
     "data": {
      "image/png": "[encoded data removed]",
      "text/plain": [
       "<Figure size 864x576 with 1 Axes>"
      ]
     },
     "metadata": {
      "needs_background": "light"
     },
     "output_type": "display_data"
    },
    {
     "name": "stdout",
     "output_type": "stream",
     "text": [
      "[2.51445e+05 4.13900e+03 8.20000e+02 2.14000e+02 6.90000e+01 2.30000e+01\n",
      " 1.00000e+01 3.00000e+00 1.00000e+00 0.00000e+00 0.00000e+00 0.00000e+00\n",
      " 0.00000e+00 0.00000e+00 0.00000e+00 1.00000e+00]\n",
      "[  0.   8.  16.  24.  32.  40.  48.  56.  64.  72.  80.  88.  96. 104.\n",
      " 112. 120. 128.]\n"
     ]
    }
   ],
   "source": [
    "draw_bar_graph(list(out_dgr.values()),title='',ylabel='Researcher Count',xlabel='Fecundity Value',loc=\"../\"+save_dir+\"/FecundityDistributionHist1.pdf\", bins=16, text=True,print_bin=True)"
   ]
  },
  {
   "cell_type": "code",
   "execution_count": 47,
   "metadata": {},
   "outputs": [],
   "source": [
    "sorted_fecundity = dict(sorted(out_dgr.items(), key=lambda item: item[1],reverse=True))##save for dashboard"
   ]
  },
  {
   "cell_type": "code",
   "execution_count": 49,
   "metadata": {},
   "outputs": [],
   "source": [
    "top_5_fecun= list(sorted_fecundity.keys())[:top]"
   ]
  },
  {
   "cell_type": "code",
   "execution_count": 52,
   "metadata": {},
   "outputs": [],
   "source": [
    "top_5_values = list(sorted_fecundity.values())[:top]"
   ]
  },
  {
   "cell_type": "code",
   "execution_count": 53,
   "metadata": {},
   "outputs": [],
   "source": [
    "top_5_detail=get_names_inst_dept(mod_ment2,top_5_fecun,'advId')"
   ]
  },
  {
   "cell_type": "code",
   "execution_count": 54,
   "metadata": {},
   "outputs": [],
   "source": [
    "top_5_detail = top_5_detail[[\"advisor_name\",\"publisher_institution\"]]"
   ]
  },
  {
   "cell_type": "code",
   "execution_count": 56,
   "metadata": {},
   "outputs": [],
   "source": [
    "top_5_detail[\"Fecundity_count\"]=top_5_values"
   ]
  },
  {
   "cell_type": "code",
   "execution_count": 57,
   "metadata": {},
   "outputs": [
    {
     "data": {
      "text/html": [
       "<div>\n",
       "<style scoped>\n",
       "    .dataframe tbody tr th:only-of-type {\n",
       "        vertical-align: middle;\n",
       "    }\n",
       "\n",
       "    .dataframe tbody tr th {\n",
       "        vertical-align: top;\n",
       "    }\n",
       "\n",
       "    .dataframe thead th {\n",
       "        text-align: right;\n",
       "    }\n",
       "</style>\n",
       "<table border=\"1\" class=\"dataframe\">\n",
       "  <thead>\n",
       "    <tr style=\"text-align: right;\">\n",
       "      <th></th>\n",
       "      <th>advisor_name</th>\n",
       "      <th>publisher_institution</th>\n",
       "      <th>Fecundity_count</th>\n",
       "    </tr>\n",
       "    <tr>\n",
       "      <th>advId</th>\n",
       "      <th></th>\n",
       "      <th></th>\n",
       "      <th></th>\n",
       "    </tr>\n",
       "  </thead>\n",
       "  <tbody>\n",
       "    <tr>\n",
       "      <th>144109</th>\n",
       "      <td>S, Mohan</td>\n",
       "      <td>University of Madras; Alagappa University</td>\n",
       "      <td>128</td>\n",
       "    </tr>\n",
       "    <tr>\n",
       "      <th>88147</th>\n",
       "      <td>Shinde, Gb</td>\n",
       "      <td>Dr. Babasaheb Ambedkar Marathwada University</td>\n",
       "      <td>66</td>\n",
       "    </tr>\n",
       "    <tr>\n",
       "      <th>71191</th>\n",
       "      <td>Pullaiah, T.</td>\n",
       "      <td>Sri Krishnadevaraya University</td>\n",
       "      <td>63</td>\n",
       "    </tr>\n",
       "    <tr>\n",
       "      <th>88399</th>\n",
       "      <td>Nagabhushanam,</td>\n",
       "      <td>Dr. Babasaheb Ambedkar Marathwada University</td>\n",
       "      <td>62</td>\n",
       "    </tr>\n",
       "    <tr>\n",
       "      <th>26894</th>\n",
       "      <td>Bhattacharjee, Tapodhir</td>\n",
       "      <td>Assam University</td>\n",
       "      <td>58</td>\n",
       "    </tr>\n",
       "  </tbody>\n",
       "</table>\n",
       "</div>"
      ],
      "text/plain": [
       "                   advisor_name                         publisher_institution  \\\n",
       "advId                                                                           \n",
       "144109                 S, Mohan     University of Madras; Alagappa University   \n",
       "88147                Shinde, Gb  Dr. Babasaheb Ambedkar Marathwada University   \n",
       "71191              Pullaiah, T.                Sri Krishnadevaraya University   \n",
       "88399            Nagabhushanam,  Dr. Babasaheb Ambedkar Marathwada University   \n",
       "26894   Bhattacharjee, Tapodhir                              Assam University   \n",
       "\n",
       "        Fecundity_count  \n",
       "advId                    \n",
       "144109              128  \n",
       "88147                66  \n",
       "71191                63  \n",
       "88399                62  \n",
       "26894                58  "
      ]
     },
     "execution_count": 57,
     "metadata": {},
     "output_type": "execute_result"
    }
   ],
   "source": [
    "top_5_detail"
   ]
  },
  {
   "cell_type": "code",
   "execution_count": 58,
   "metadata": {},
   "outputs": [
    {
     "name": "stdout",
     "output_type": "stream",
     "text": [
      "\\begin{tabular}{llr}\n",
      "\\toprule\n",
      "            advisor\\_name &                         publisher\\_institution &  Fecundity\\_count \\\\\n",
      "                S, Mohan &     University of Madras; Alagappa University &              128 \\\\\n",
      "\\midrule\n",
      "              Shinde, Gb &  Dr. Babasaheb Ambedkar Marathwada University &               66 \\\\\n",
      "            Pullaiah, T. &                Sri Krishnadevaraya University &               63 \\\\\n",
      "          Nagabhushanam, &  Dr. Babasaheb Ambedkar Marathwada University &               62 \\\\\n",
      " Bhattacharjee, Tapodhir &                              Assam University &               58 \\\\\n",
      "\\bottomrule\n",
      "\\end{tabular}\n",
      "\n"
     ]
    }
   ],
   "source": [
    "print(top_5_detail.to_latex(index=False))"
   ]
  },
  {
   "cell_type": "code",
   "execution_count": 59,
   "metadata": {},
   "outputs": [],
   "source": [
    "#save_df(\"researcher_fecundity\", top_5_detail)"
   ]
  },
  {
   "cell_type": "code",
   "execution_count": 60,
   "metadata": {},
   "outputs": [],
   "source": [
    "#save_obj('fecundity_dist',out_dgr)"
   ]
  },
  {
   "cell_type": "code",
   "execution_count": 22,
   "metadata": {},
   "outputs": [
    {
     "data": {
      "image/png": "[encoded data removed]",
      "text/plain": [
       "<Figure size 864x576 with 1 Axes>"
      ]
     },
     "metadata": {
      "needs_background": "light"
     },
     "output_type": "display_data"
    },
    {
     "name": "stdout",
     "output_type": "stream",
     "text": [
      "(0, 1, 2, 3, 4, 5, 6, 7, 8, 9, 10, 11, 12, 13, 14, 15, 16, 17, 18, 19, 20, 21, 22, 23, 24, 25, 26, 27, 28, 29, 30, 31, 32, 33, 34, 35, 36, 37, 38, 39, 40, 41, 42, 43, 44, 46, 47, 48, 49, 50, 51, 52, 55, 58, 62, 63, 66, 128)\n",
      "(183280, 39867, 12050, 6471, 3887, 2614, 1960, 1316, 1043, 800, 607, 474, 394, 334, 267, 220, 164, 155, 115, 106, 88, 80, 56, 56, 32, 33, 35, 31, 23, 25, 17, 18, 10, 14, 16, 9, 8, 1, 6, 5, 2, 4, 4, 5, 4, 2, 2, 2, 2, 1, 1, 2, 2, 1, 1, 1, 1, 1)\n"
     ]
    }
   ],
   "source": [
    "draw_line_graph(out_dgr_dist, title='',ylabel='Researcher Count',xlabel='Fecundity Value',loc=\"../new_graphs/FecundityDistributionLine1.svg\")"
   ]
  },
  {
   "cell_type": "code",
   "execution_count": 1,
   "metadata": {},
   "outputs": [],
   "source": [
    "#out_dgr_dist"
   ]
  },
  {
   "cell_type": "markdown",
   "metadata": {},
   "source": [
    "<h2> Fertility: </h2>"
   ]
  },
  {
   "cell_type": "code",
   "execution_count": 48,
   "metadata": {},
   "outputs": [],
   "source": [
    "#len([k for k, v in graph1.out_degree(graph1.successors(1234)) if v > 0])"
   ]
  },
  {
   "cell_type": "code",
   "execution_count": 25,
   "metadata": {},
   "outputs": [],
   "source": [
    "fertile=fertility_calculation(graph1)"
   ]
  },
  {
   "cell_type": "code",
   "execution_count": 50,
   "metadata": {},
   "outputs": [],
   "source": [
    "#save_obj('fertility_dist',fertile)"
   ]
  },
  {
   "cell_type": "code",
   "execution_count": 63,
   "metadata": {},
   "outputs": [
    {
     "data": {
      "image/png": "[encoded data removed]",
      "text/plain": [
       "<Figure size 864x576 with 1 Axes>"
      ]
     },
     "metadata": {
      "needs_background": "light"
     },
     "output_type": "display_data"
    },
    {
     "name": "stdout",
     "output_type": "stream",
     "text": [
      "[2.49988e+05 5.32600e+03 9.30000e+02 2.93000e+02 9.90000e+01 4.20000e+01\n",
      " 1.90000e+01 1.20000e+01 1.10000e+01 3.00000e+00 2.00000e+00]\n",
      "[ 0.  1.  2.  3.  4.  5.  6.  7.  8.  9. 10. 11.]\n"
     ]
    }
   ],
   "source": [
    "draw_bar_graph(list(fertile.values()),title='',ylabel='Researcher Count',xlabel='Fertility Value',loc=\"../\"+save_dir+\"/FertilityDistributionHist1.pdf\",bins=11, text=True, print_bin=True)"
   ]
  },
  {
   "cell_type": "code",
   "execution_count": 26,
   "metadata": {},
   "outputs": [],
   "source": [
    "fertile_dist = Counter(fertile.values())"
   ]
  },
  {
   "cell_type": "code",
   "execution_count": 65,
   "metadata": {},
   "outputs": [],
   "source": [
    "fertility_sorted=dict(sorted(fertile.items(), key=lambda item : item[1], reverse=True))"
   ]
  },
  {
   "cell_type": "code",
   "execution_count": 67,
   "metadata": {},
   "outputs": [],
   "source": [
    "top_5_fert = list(fertility_sorted.keys())[:top]"
   ]
  },
  {
   "cell_type": "code",
   "execution_count": 71,
   "metadata": {},
   "outputs": [],
   "source": [
    "top_5_fert_values = list(fertility_sorted.values())[:top]"
   ]
  },
  {
   "cell_type": "code",
   "execution_count": 72,
   "metadata": {},
   "outputs": [
    {
     "data": {
      "text/plain": [
       "[11, 10, 9, 9, 9]"
      ]
     },
     "execution_count": 72,
     "metadata": {},
     "output_type": "execute_result"
    }
   ],
   "source": [
    "top_5_fert_values"
   ]
  },
  {
   "cell_type": "code",
   "execution_count": 69,
   "metadata": {},
   "outputs": [],
   "source": [
    "top_5_detail = get_names_inst_dept(mod_ment2,top_5_fert,'advId')"
   ]
  },
  {
   "cell_type": "code",
   "execution_count": 73,
   "metadata": {},
   "outputs": [],
   "source": [
    "top_5_detail[\"Fertility_count\"] = top_5_fert_values"
   ]
  },
  {
   "cell_type": "code",
   "execution_count": 74,
   "metadata": {},
   "outputs": [
    {
     "name": "stdout",
     "output_type": "stream",
     "text": [
      "\\begin{tabular}{llr}\n",
      "\\toprule\n",
      "          advisor\\_name &                      publisher\\_institution &  Fertility\\_count \\\\\n",
      "       Hiremath, R. C. &                        Karnatak University &               11 \\\\\n",
      "\\midrule\n",
      "         Hariharan, S. &                   Bharathidasan University &               10 \\\\\n",
      "              S, Mohan &  University of Madras; Alagappa University &                9 \\\\\n",
      "    Thirumalaisamy, R. &                        Alagappa University &                9 \\\\\n",
      " Shanmuga, Sundaram S. &                         Periyar University &                9 \\\\\n",
      "\\bottomrule\n",
      "\\end{tabular}\n",
      "\n"
     ]
    }
   ],
   "source": [
    "top_5_detail = top_5_detail[[\"advisor_name\",\"publisher_institution\",\"Fertility_count\"]]\n",
    "print(top_5_detail.to_latex(index=False))"
   ]
  },
  {
   "cell_type": "code",
   "execution_count": 75,
   "metadata": {},
   "outputs": [],
   "source": [
    "#save_df(\"researcher_fertility\", top_5_detail)"
   ]
  },
  {
   "cell_type": "code",
   "execution_count": 59,
   "metadata": {},
   "outputs": [],
   "source": [
    "#mod_ment2[mod_ment2['resId']==137564]"
   ]
  },
  {
   "cell_type": "code",
   "execution_count": 60,
   "metadata": {},
   "outputs": [],
   "source": [
    "#mod_ment2[mod_ment2['advId']==93541]"
   ]
  },
  {
   "cell_type": "code",
   "execution_count": 27,
   "metadata": {},
   "outputs": [
    {
     "data": {
      "image/png": "[encoded data removed]",
      "text/plain": [
       "<Figure size 864x576 with 1 Axes>"
      ]
     },
     "metadata": {
      "needs_background": "light"
     },
     "output_type": "display_data"
    },
    {
     "name": "stdout",
     "output_type": "stream",
     "text": [
      "(0, 1, 2, 3, 4, 5, 6, 7, 8, 9, 10, 11)\n",
      "(249988, 5326, 930, 293, 99, 42, 19, 12, 11, 3, 1, 1)\n"
     ]
    }
   ],
   "source": [
    "draw_line_graph(fertile_dist,title='',ylabel='Researcher Count',xlabel='Fertility Value',loc=\"../new_graphs/FertilityDistributionLine1.svg\")"
   ]
  },
  {
   "cell_type": "markdown",
   "metadata": {},
   "source": [
    "<h2> Decendants Calculation : </h2>"
   ]
  },
  {
   "cell_type": "code",
   "execution_count": 163,
   "metadata": {},
   "outputs": [],
   "source": [
    "# def draw_bar_graph(metric_value_list,title='Fecundity Distribution',ylabel='Researcher Count',xlabel='Fecundity Value',bins=10, loc=\"../new_graphs/hist\", text=False, print_bin=False):\n",
    "#     #counts, bins = np.histogram(metric_value_list)\n",
    "#     plt.figure(figsize=(12,8))\n",
    "#     ax = plt.axes()\n",
    "#     n,bins,container=plt.hist(metric_value_list, bins=bins,color='#0504aa',density=False,log=True,rwidth=0.95)#  alpha=0.7\n",
    "#     #plt.hist(deg, color=\"b\", bins=bin_size)\n",
    "#     plt.yticks(fontsize=10,fontweight='bold')\n",
    "#     plt.xticks(fontsize=10,fontweight='bold')\n",
    "#     plt.title(title)\n",
    "#     plt.ylabel(ylabel,fontweight='bold', fontsize=20) #fontsize=18\n",
    "#     plt.xlabel(xlabel,fontweight='bold', fontsize=20)\n",
    "#     if text:\n",
    "#         for i,v in zip(bins[0:-1], n):\n",
    "#             if v > 0:\n",
    "#                 plt.text(i, v, str(int(v)), color='green', fontweight='bold',fontsize=16)\n",
    "#     if print_bin:\n",
    "#         ax.set_xticks([int(d) for d in bins])\n",
    "#         ax.set_xticklabels([int(b) for b in bins])\n",
    "#     #plt.xticks(bins[0::5])\n",
    "#     plt.savefig(loc,bbox_inches='tight')\n",
    "#     plt.show()\n",
    "#     print(n)\n",
    "#     print(bins)\n",
    "#     return"
   ]
  },
  {
   "cell_type": "code",
   "execution_count": 28,
   "metadata": {},
   "outputs": [],
   "source": [
    "desc_dist=desc_calculation(graph1)"
   ]
  },
  {
   "cell_type": "code",
   "execution_count": 80,
   "metadata": {},
   "outputs": [
    {
     "data": {
      "image/png": "[encoded data removed]",
      "text/plain": [
       "<Figure size 864x576 with 1 Axes>"
      ]
     },
     "metadata": {
      "needs_background": "light"
     },
     "output_type": "display_data"
    },
    {
     "name": "stdout",
     "output_type": "stream",
     "text": [
      "[2.55375e+05 1.04200e+03 2.06000e+02 6.30000e+01 1.30000e+01 9.00000e+00\n",
      " 8.00000e+00 3.00000e+00 2.00000e+00 2.00000e+00 1.00000e+00 0.00000e+00\n",
      " 1.00000e+00]\n",
      "[  0.          20.07692308  40.15384615  60.23076923  80.30769231\n",
      " 100.38461538 120.46153846 140.53846154 160.61538462 180.69230769\n",
      " 200.76923077 220.84615385 240.92307692 261.        ]\n"
     ]
    }
   ],
   "source": [
    "draw_bar_graph(list(desc_dist.values()),title='',ylabel='Researcher Count',xlabel='Descendant Value',loc=\"../\"+save_dir+\"/DescendantsDistributionHist1.pdf\", bins=13, text=True, print_bin=True)"
   ]
  },
  {
   "cell_type": "code",
   "execution_count": 29,
   "metadata": {},
   "outputs": [],
   "source": [
    "desc_dist_val = Counter(desc_dist.values())"
   ]
  },
  {
   "cell_type": "code",
   "execution_count": 82,
   "metadata": {},
   "outputs": [],
   "source": [
    "sorted_desc=dict(sorted(desc_dist.items(), key=lambda x: x[1], reverse=True))"
   ]
  },
  {
   "cell_type": "code",
   "execution_count": 83,
   "metadata": {},
   "outputs": [],
   "source": [
    "top_5_desc = list(sorted_desc.keys())[:top]"
   ]
  },
  {
   "cell_type": "code",
   "execution_count": 85,
   "metadata": {},
   "outputs": [],
   "source": [
    "top_5_desc_values = list(sorted_desc.values())[:top]"
   ]
  },
  {
   "cell_type": "code",
   "execution_count": 86,
   "metadata": {},
   "outputs": [],
   "source": [
    "top_5_detail=get_names_inst_dept(mod_ment2,top_5_desc,'advId')"
   ]
  },
  {
   "cell_type": "code",
   "execution_count": 87,
   "metadata": {},
   "outputs": [],
   "source": [
    "top_5_detail[\"Descendant_count\"] = top_5_desc_values"
   ]
  },
  {
   "cell_type": "code",
   "execution_count": 90,
   "metadata": {},
   "outputs": [
    {
     "data": {
      "text/html": [
       "<div>\n",
       "<style scoped>\n",
       "    .dataframe tbody tr th:only-of-type {\n",
       "        vertical-align: middle;\n",
       "    }\n",
       "\n",
       "    .dataframe tbody tr th {\n",
       "        vertical-align: top;\n",
       "    }\n",
       "\n",
       "    .dataframe thead th {\n",
       "        text-align: right;\n",
       "    }\n",
       "</style>\n",
       "<table border=\"1\" class=\"dataframe\">\n",
       "  <thead>\n",
       "    <tr style=\"text-align: right;\">\n",
       "      <th></th>\n",
       "      <th>advisor_name</th>\n",
       "      <th>publisher_institution</th>\n",
       "      <th>publisher_dept</th>\n",
       "      <th>Descendant_count</th>\n",
       "    </tr>\n",
       "    <tr>\n",
       "      <th>advId</th>\n",
       "      <th></th>\n",
       "      <th></th>\n",
       "      <th></th>\n",
       "      <th></th>\n",
       "    </tr>\n",
       "  </thead>\n",
       "  <tbody>\n",
       "    <tr>\n",
       "      <th>24794</th>\n",
       "      <td>Shivarudrappa, G.</td>\n",
       "      <td>Karnatak University</td>\n",
       "      <td>department of education</td>\n",
       "      <td>261</td>\n",
       "    </tr>\n",
       "    <tr>\n",
       "      <th>144109</th>\n",
       "      <td>S, Mohan</td>\n",
       "      <td>University of Madras; Alagappa University</td>\n",
       "      <td>department of engineering education; departmen...</td>\n",
       "      <td>219</td>\n",
       "    </tr>\n",
       "    <tr>\n",
       "      <th>85392</th>\n",
       "      <td>Handemath, S. C.</td>\n",
       "      <td>Karnatak University</td>\n",
       "      <td>department of kannada</td>\n",
       "      <td>194</td>\n",
       "    </tr>\n",
       "    <tr>\n",
       "      <th>85237</th>\n",
       "      <td>Hiremath, R. C.</td>\n",
       "      <td>Karnatak University</td>\n",
       "      <td>department of kannada; department of linguistics</td>\n",
       "      <td>193</td>\n",
       "    </tr>\n",
       "    <tr>\n",
       "      <th>89320</th>\n",
       "      <td>Ramasamy, P.</td>\n",
       "      <td>Anna University</td>\n",
       "      <td>faculty of science and humanities</td>\n",
       "      <td>166</td>\n",
       "    </tr>\n",
       "  </tbody>\n",
       "</table>\n",
       "</div>"
      ],
      "text/plain": [
       "             advisor_name                      publisher_institution  \\\n",
       "advId                                                                  \n",
       "24794   Shivarudrappa, G.                        Karnatak University   \n",
       "144109           S, Mohan  University of Madras; Alagappa University   \n",
       "85392    Handemath, S. C.                        Karnatak University   \n",
       "85237     Hiremath, R. C.                        Karnatak University   \n",
       "89320        Ramasamy, P.                            Anna University   \n",
       "\n",
       "                                           publisher_dept  Descendant_count  \n",
       "advId                                                                        \n",
       "24794                             department of education               261  \n",
       "144109  department of engineering education; departmen...               219  \n",
       "85392                               department of kannada               194  \n",
       "85237    department of kannada; department of linguistics               193  \n",
       "89320                   faculty of science and humanities               166  "
      ]
     },
     "execution_count": 90,
     "metadata": {},
     "output_type": "execute_result"
    }
   ],
   "source": [
    "top_5_detail"
   ]
  },
  {
   "cell_type": "code",
   "execution_count": 88,
   "metadata": {},
   "outputs": [],
   "source": [
    "#save_df(\"researcher_descendants\", top_5_detail)"
   ]
  },
  {
   "cell_type": "code",
   "execution_count": 30,
   "metadata": {},
   "outputs": [
    {
     "data": {
      "image/png": "[encoded data removed]",
      "text/plain": [
       "<Figure size 864x576 with 1 Axes>"
      ]
     },
     "metadata": {
      "needs_background": "light"
     },
     "output_type": "display_data"
    },
    {
     "name": "stdout",
     "output_type": "stream",
     "text": [
      "(0, 1, 2, 3, 4, 5, 6, 7, 8, 9, 10, 11, 12, 13, 14, 15, 16, 17, 18, 19, 20, 21, 22, 23, 24, 25, 26, 27, 28, 29, 30, 31, 32, 33, 34, 35, 36, 37, 38, 39, 40, 41, 42, 43, 44, 45, 46, 47, 48, 49, 50, 51, 52, 53, 54, 55, 56, 57, 58, 59, 60, 61, 62, 63, 64, 65, 66, 67, 68, 69, 70, 71, 72, 73, 74, 75, 76, 77, 78, 79, 80, 81, 84, 85, 87, 88, 89, 92, 93, 94, 98, 101, 102, 105, 108, 111, 112, 115, 119, 122, 123, 124, 128, 129, 131, 135, 139, 143, 146, 149, 163, 166, 193, 194, 219, 261)\n",
      "(183280, 38296, 11818, 6354, 3895, 2623, 2000, 1420, 1098, 883, 684, 566, 482, 398, 350, 287, 240, 210, 179, 165, 147, 121, 95, 110, 85, 63, 79, 60, 49, 56, 49, 47, 43, 24, 29, 24, 31, 19, 19, 22, 17, 30, 18, 21, 23, 15, 9, 7, 12, 6, 8, 8, 4, 7, 6, 6, 5, 7, 6, 4, 4, 4, 3, 5, 5, 2, 2, 3, 2, 3, 4, 1, 3, 3, 3, 1, 3, 6, 5, 3, 2, 1, 2, 1, 1, 3, 1, 1, 1, 1, 1, 1, 1, 1, 1, 2, 1, 1, 1, 1, 1, 1, 1, 1, 1, 1, 1, 1, 1, 1, 1, 1, 1, 1, 1, 1)\n"
     ]
    }
   ],
   "source": [
    "draw_line_graph(desc_dist_val,title='',ylabel='Researcher Count',xlabel='Descendant Value',loc=\"../new_graphs/DescendantsDistributionLine1.svg\")"
   ]
  },
  {
   "cell_type": "code",
   "execution_count": 71,
   "metadata": {},
   "outputs": [],
   "source": [
    "#plt.savefig('hartford_degree_distribution.pdf')\n",
    "#plt.show()"
   ]
  },
  {
   "cell_type": "code",
   "execution_count": 91,
   "metadata": {},
   "outputs": [
    {
     "name": "stdout",
     "output_type": "stream",
     "text": [
      "\\begin{tabular}{llr}\n",
      "\\toprule\n",
      "      advisor\\_name &                      publisher\\_institution &  Descendant\\_count \\\\\n",
      " Shivarudrappa, G. &                        Karnatak University &               261 \\\\\n",
      "\\midrule\n",
      "          S, Mohan &  University of Madras; Alagappa University &               219 \\\\\n",
      "  Handemath, S. C. &                        Karnatak University &               194 \\\\\n",
      "   Hiremath, R. C. &                        Karnatak University &               193 \\\\\n",
      "      Ramasamy, P. &                            Anna University &               166 \\\\\n",
      "\\bottomrule\n",
      "\\end{tabular}\n",
      "\n"
     ]
    }
   ],
   "source": [
    "top_5_detail = top_5_detail[[\"advisor_name\",\"publisher_institution\",\"Descendant_count\"]]\n",
    "print(top_5_detail.to_latex(index=False))"
   ]
  },
  {
   "cell_type": "markdown",
   "metadata": {},
   "source": [
    "<h2> Cousine Calculation :</h2>"
   ]
  },
  {
   "cell_type": "code",
   "execution_count": 31,
   "metadata": {},
   "outputs": [],
   "source": [
    "cousin_dict=cousins(graph1)"
   ]
  },
  {
   "cell_type": "code",
   "execution_count": 32,
   "metadata": {},
   "outputs": [],
   "source": [
    "cousin_dist = Counter(cousin_dict.values())"
   ]
  },
  {
   "cell_type": "code",
   "execution_count": 33,
   "metadata": {},
   "outputs": [],
   "source": [
    "#cousin_dist"
   ]
  },
  {
   "cell_type": "code",
   "execution_count": 34,
   "metadata": {},
   "outputs": [],
   "source": [
    "top=5"
   ]
  },
  {
   "cell_type": "code",
   "execution_count": 35,
   "metadata": {},
   "outputs": [],
   "source": [
    "sorted_cousin=dict(sorted(cousin_dict.items(), key=lambda x: x[1], reverse=True))"
   ]
  },
  {
   "cell_type": "code",
   "execution_count": 49,
   "metadata": {},
   "outputs": [],
   "source": [
    "top_5_cousin = list(sorted_cousin.keys())[:top]"
   ]
  },
  {
   "cell_type": "code",
   "execution_count": 50,
   "metadata": {},
   "outputs": [],
   "source": [
    "top_5_cousin_values = list(sorted_cousin.values())[:top]"
   ]
  },
  {
   "cell_type": "code",
   "execution_count": 51,
   "metadata": {},
   "outputs": [
    {
     "data": {
      "text/html": [
       "<div>\n",
       "<style scoped>\n",
       "    .dataframe tbody tr th:only-of-type {\n",
       "        vertical-align: middle;\n",
       "    }\n",
       "\n",
       "    .dataframe tbody tr th {\n",
       "        vertical-align: top;\n",
       "    }\n",
       "\n",
       "    .dataframe thead th {\n",
       "        text-align: right;\n",
       "    }\n",
       "</style>\n",
       "<table border=\"1\" class=\"dataframe\">\n",
       "  <thead>\n",
       "    <tr style=\"text-align: right;\">\n",
       "      <th></th>\n",
       "      <th>researcher_name</th>\n",
       "      <th>publisher_institution</th>\n",
       "      <th>publisher_dept</th>\n",
       "    </tr>\n",
       "    <tr>\n",
       "      <th>resId</th>\n",
       "      <th></th>\n",
       "      <th></th>\n",
       "      <th></th>\n",
       "    </tr>\n",
       "  </thead>\n",
       "  <tbody>\n",
       "    <tr>\n",
       "      <th>121605</th>\n",
       "      <td>Ray, Debdutta</td>\n",
       "      <td>Jawaharlal Nehru University</td>\n",
       "      <td>school of social sciences</td>\n",
       "    </tr>\n",
       "    <tr>\n",
       "      <th>144110</th>\n",
       "      <td>Jagadeesh, D H.</td>\n",
       "      <td>Karnatak University</td>\n",
       "      <td>department of education</td>\n",
       "    </tr>\n",
       "    <tr>\n",
       "      <th>144144</th>\n",
       "      <td>Sattigeri, K I.</td>\n",
       "      <td>Karnatak University</td>\n",
       "      <td>department of education</td>\n",
       "    </tr>\n",
       "    <tr>\n",
       "      <th>144097</th>\n",
       "      <td>Vijayalakshmi, N.</td>\n",
       "      <td>Karnatak University</td>\n",
       "      <td>department of education</td>\n",
       "    </tr>\n",
       "    <tr>\n",
       "      <th>144099</th>\n",
       "      <td>Desai, Shantadevi S.</td>\n",
       "      <td>Karnatak University</td>\n",
       "      <td>department of education</td>\n",
       "    </tr>\n",
       "  </tbody>\n",
       "</table>\n",
       "</div>"
      ],
      "text/plain": [
       "             researcher_name        publisher_institution  \\\n",
       "resId                                                       \n",
       "121605         Ray, Debdutta  Jawaharlal Nehru University   \n",
       "144110       Jagadeesh, D H.          Karnatak University   \n",
       "144144       Sattigeri, K I.          Karnatak University   \n",
       "144097     Vijayalakshmi, N.          Karnatak University   \n",
       "144099  Desai, Shantadevi S.          Karnatak University   \n",
       "\n",
       "                   publisher_dept  \n",
       "resId                              \n",
       "121605  school of social sciences  \n",
       "144110    department of education  \n",
       "144144    department of education  \n",
       "144097    department of education  \n",
       "144099    department of education  "
      ]
     },
     "execution_count": 51,
     "metadata": {},
     "output_type": "execute_result"
    }
   ],
   "source": [
    "top_5_detail=get_names_inst_dept(mod_ment2, top_5_cousin, 'resId',cols=['researcher_name','publisher_institution','publisher_dept'])\n",
    "top_5_detail"
   ]
  },
  {
   "cell_type": "code",
   "execution_count": 52,
   "metadata": {},
   "outputs": [
    {
     "name": "stdout",
     "output_type": "stream",
     "text": [
      "\\begin{tabular}{llr}\n",
      "\\toprule\n",
      "      researcher\\_name &        publisher\\_institution &  Cousin\\_count \\\\\n",
      "        Ray, Debdutta &  Jawaharlal Nehru University &           149 \\\\\n",
      "\\midrule\n",
      "      Jagadeesh, D H. &          Karnatak University &           148 \\\\\n",
      "      Sattigeri, K I. &          Karnatak University &           148 \\\\\n",
      "    Vijayalakshmi, N. &          Karnatak University &           146 \\\\\n",
      " Desai, Shantadevi S. &          Karnatak University &           146 \\\\\n",
      "\\bottomrule\n",
      "\\end{tabular}\n",
      "\n"
     ]
    }
   ],
   "source": [
    "top_5_detail['Cousin_count'] = top_5_cousin_values\n",
    "top_5_detail = top_5_detail[[\"researcher_name\",\"publisher_institution\",\"Cousin_count\"]]\n",
    "print(top_5_detail.to_latex(index=False))"
   ]
  },
  {
   "cell_type": "code",
   "execution_count": 53,
   "metadata": {},
   "outputs": [],
   "source": [
    "#save_df(\"researcher_cousin\", top_5_detail)"
   ]
  },
  {
   "cell_type": "code",
   "execution_count": 62,
   "metadata": {},
   "outputs": [
    {
     "data": {
      "image/png": "[encoded data removed]",
      "text/plain": [
       "<Figure size 864x576 with 1 Axes>"
      ]
     },
     "metadata": {
      "needs_background": "light"
     },
     "output_type": "display_data"
    },
    {
     "name": "stdout",
     "output_type": "stream",
     "text": [
      "[2.50415e+05 3.29500e+03 1.34800e+03 6.11000e+02 5.27000e+02 2.90000e+02\n",
      " 7.90000e+01 7.80000e+01 4.60000e+01 1.40000e+01 1.50000e+01 7.00000e+00]\n",
      "[  0.          12.41666667  24.83333333  37.25        49.66666667\n",
      "  62.08333333  74.5         86.91666667  99.33333333 111.75\n",
      " 124.16666667 136.58333333 149.        ]\n"
     ]
    }
   ],
   "source": [
    "draw_bar_graph(list(cousin_dict.values()),title='',ylabel='Researcher Count',xlabel='Cousin Value',loc=\"../\"+save_dir+\"/CousineDistributionHist1.pdf\",bins=12,text=True, print_bin=True)"
   ]
  },
  {
   "cell_type": "code",
   "execution_count": 82,
   "metadata": {},
   "outputs": [
    {
     "data": {
      "text/plain": [
       "149"
      ]
     },
     "execution_count": 82,
     "metadata": {},
     "output_type": "execute_result"
    }
   ],
   "source": [
    "cousin_dict[121605]"
   ]
  },
  {
   "cell_type": "code",
   "execution_count": 36,
   "metadata": {},
   "outputs": [
    {
     "data": {
      "image/png": "[encoded data removed]",
      "text/plain": [
       "<Figure size 864x576 with 1 Axes>"
      ]
     },
     "metadata": {
      "needs_background": "light"
     },
     "output_type": "display_data"
    },
    {
     "name": "stdout",
     "output_type": "stream",
     "text": [
      "(0, 1, 2, 3, 4, 5, 6, 7, 8, 9, 10, 11, 12, 13, 14, 15, 16, 17, 18, 19, 20, 21, 22, 23, 24, 25, 26, 27, 28, 29, 30, 31, 32, 33, 34, 35, 36, 37, 38, 39, 40, 41, 42, 43, 44, 45, 46, 47, 48, 49, 50, 51, 52, 53, 54, 55, 56, 57, 58, 59, 60, 61, 62, 63, 64, 65, 66, 67, 68, 69, 70, 71, 72, 73, 74, 75, 76, 77, 78, 79, 80, 81, 82, 83, 86, 89, 90, 92, 93, 95, 98, 100, 103, 108, 114, 135, 146, 148, 149)\n",
      "(239520, 1915, 1510, 1286, 1071, 964, 785, 672, 649, 640, 499, 568, 336, 431, 387, 525, 282, 244, 265, 265, 172, 198, 245, 169, 112, 67, 191, 104, 159, 115, 58, 65, 90, 75, 143, 68, 130, 83, 63, 78, 75, 134, 33, 51, 15, 24, 18, 37, 44, 39, 70, 74, 78, 46, 21, 15, 36, 31, 31, 27, 19, 55, 24, 42, 11, 29, 33, 33, 4, 33, 36, 14, 27, 13, 15, 24, 17, 4, 4, 7, 14, 1, 4, 3, 1, 1, 5, 36, 2, 33, 1, 1, 25, 20, 14, 15, 4, 2, 1)\n"
     ]
    }
   ],
   "source": [
    "draw_line_graph(cousin_dist,title='',ylabel='Researcher Count',xlabel='Cousine Value',loc=\"../new_graphs/CousineDistributionLine1.svg\")"
   ]
  },
  {
   "cell_type": "markdown",
   "metadata": {},
   "source": [
    "<h2> Generation Calculation : </h2>"
   ]
  },
  {
   "cell_type": "code",
   "execution_count": 84,
   "metadata": {},
   "outputs": [],
   "source": [
    "#graph1.has_edge( 18773,18760)"
   ]
  },
  {
   "cell_type": "code",
   "execution_count": 37,
   "metadata": {},
   "outputs": [
    {
     "name": "stdout",
     "output_type": "stream",
     "text": [
      "completed :0 nodes\n",
      "completed :100000 nodes\n",
      "completed :200000 nodes\n"
     ]
    }
   ],
   "source": [
    "gen_dict=Generation(graph1)"
   ]
  },
  {
   "cell_type": "code",
   "execution_count": 38,
   "metadata": {},
   "outputs": [],
   "source": [
    "gen_dist = Counter(gen_dict.values())"
   ]
  },
  {
   "cell_type": "code",
   "execution_count": 41,
   "metadata": {},
   "outputs": [
    {
     "data": {
      "image/png": "[encoded data removed]",
      "text/plain": [
       "<Figure size 864x576 with 1 Axes>"
      ]
     },
     "metadata": {
      "needs_background": "light"
     },
     "output_type": "display_data"
    },
    {
     "name": "stdout",
     "output_type": "stream",
     "text": [
      "[1.8328e+05 6.6708e+04 5.7140e+03 8.7700e+02 1.2700e+02 1.9000e+01]\n",
      "[0. 1. 2. 3. 4. 5. 6.]\n"
     ]
    }
   ],
   "source": [
    "draw_bar_graph(list(gen_dict.values()),title='',ylabel='Researcher Count',xlabel='Generation Value',bins=6,loc=\"../\"+save_dir+\"/GenerationDistributionHist1.pdf\",text=True, print_bin=True)"
   ]
  },
  {
   "cell_type": "code",
   "execution_count": 108,
   "metadata": {},
   "outputs": [],
   "source": [
    "sorted_gen = dict(sorted(gen_dict.items(), key=lambda x :  x[1], reverse=True))"
   ]
  },
  {
   "cell_type": "code",
   "execution_count": 109,
   "metadata": {},
   "outputs": [],
   "source": [
    "top_5_gen = list(sorted_gen.keys())[:top]"
   ]
  },
  {
   "cell_type": "code",
   "execution_count": 111,
   "metadata": {},
   "outputs": [],
   "source": [
    "top_5_gen_values = list(sorted_gen.values())[:top]"
   ]
  },
  {
   "cell_type": "code",
   "execution_count": 110,
   "metadata": {},
   "outputs": [
    {
     "data": {
      "text/html": [
       "<div>\n",
       "<style scoped>\n",
       "    .dataframe tbody tr th:only-of-type {\n",
       "        vertical-align: middle;\n",
       "    }\n",
       "\n",
       "    .dataframe tbody tr th {\n",
       "        vertical-align: top;\n",
       "    }\n",
       "\n",
       "    .dataframe thead th {\n",
       "        text-align: right;\n",
       "    }\n",
       "</style>\n",
       "<table border=\"1\" class=\"dataframe\">\n",
       "  <thead>\n",
       "    <tr style=\"text-align: right;\">\n",
       "      <th></th>\n",
       "      <th>advisor_name</th>\n",
       "      <th>publisher_institution</th>\n",
       "      <th>publisher_dept</th>\n",
       "    </tr>\n",
       "    <tr>\n",
       "      <th>advId</th>\n",
       "      <th></th>\n",
       "      <th></th>\n",
       "      <th></th>\n",
       "    </tr>\n",
       "  </thead>\n",
       "  <tbody>\n",
       "    <tr>\n",
       "      <th>3119</th>\n",
       "      <td>Ramakrishnan, S. S.</td>\n",
       "      <td>Bharathiar University</td>\n",
       "      <td>department of metallurgical engineering; depar...</td>\n",
       "    </tr>\n",
       "    <tr>\n",
       "      <th>100228</th>\n",
       "      <td>Balusamy V.</td>\n",
       "      <td>Anna University</td>\n",
       "      <td>faculty of mechanical engineering</td>\n",
       "    </tr>\n",
       "    <tr>\n",
       "      <th>9707</th>\n",
       "      <td>Sharma, Mohinder</td>\n",
       "      <td>Himachal Pradesh University</td>\n",
       "      <td>department of business administration</td>\n",
       "    </tr>\n",
       "    <tr>\n",
       "      <th>9710</th>\n",
       "      <td>Sharma, Usha</td>\n",
       "      <td>Himachal Pradesh University</td>\n",
       "      <td>department of business administration</td>\n",
       "    </tr>\n",
       "    <tr>\n",
       "      <th>14047</th>\n",
       "      <td>Rath, Satyajit</td>\n",
       "      <td>Jawaharlal Nehru University</td>\n",
       "      <td>department of national institute of immunology</td>\n",
       "    </tr>\n",
       "  </tbody>\n",
       "</table>\n",
       "</div>"
      ],
      "text/plain": [
       "               advisor_name        publisher_institution  \\\n",
       "advId                                                      \n",
       "3119    Ramakrishnan, S. S.        Bharathiar University   \n",
       "100228          Balusamy V.              Anna University   \n",
       "9707       Sharma, Mohinder  Himachal Pradesh University   \n",
       "9710           Sharma, Usha  Himachal Pradesh University   \n",
       "14047        Rath, Satyajit  Jawaharlal Nehru University   \n",
       "\n",
       "                                           publisher_dept  \n",
       "advId                                                      \n",
       "3119    department of metallurgical engineering; depar...  \n",
       "100228                  faculty of mechanical engineering  \n",
       "9707                department of business administration  \n",
       "9710                department of business administration  \n",
       "14047      department of national institute of immunology  "
      ]
     },
     "execution_count": 110,
     "metadata": {},
     "output_type": "execute_result"
    }
   ],
   "source": [
    "top_5_detail=get_names_inst_dept(mod_ment2, top_5_gen, 'advId')\n",
    "top_5_detail"
   ]
  },
  {
   "cell_type": "code",
   "execution_count": 113,
   "metadata": {},
   "outputs": [
    {
     "name": "stdout",
     "output_type": "stream",
     "text": [
      "\\begin{tabular}{llr}\n",
      "\\toprule\n",
      "        advisor\\_name &        publisher\\_institution &  Generation\\_count \\\\\n",
      " Ramakrishnan, S. S. &        Bharathiar University &                 6 \\\\\n",
      "\\midrule\n",
      "         Balusamy V. &              Anna University &                 5 \\\\\n",
      "    Sharma, Mohinder &  Himachal Pradesh University &                 5 \\\\\n",
      "        Sharma, Usha &  Himachal Pradesh University &                 5 \\\\\n",
      "      Rath, Satyajit &  Jawaharlal Nehru University &                 5 \\\\\n",
      "\\bottomrule\n",
      "\\end{tabular}\n",
      "\n"
     ]
    }
   ],
   "source": [
    "top_5_detail['Generation_count'] = top_5_gen_values\n",
    "top_5_detail = top_5_detail[[\"advisor_name\",\"publisher_institution\",\"Generation_count\"]]\n",
    "print(top_5_detail.to_latex(index=False))"
   ]
  },
  {
   "cell_type": "code",
   "execution_count": 114,
   "metadata": {},
   "outputs": [],
   "source": [
    "#save_df(\"researcher_generation\", top_5_detail)"
   ]
  },
  {
   "cell_type": "code",
   "execution_count": 116,
   "metadata": {},
   "outputs": [],
   "source": [
    "#gen_dict[50909]"
   ]
  },
  {
   "cell_type": "code",
   "execution_count": 39,
   "metadata": {},
   "outputs": [
    {
     "data": {
      "image/png": "[encoded data removed]",
      "text/plain": [
       "<Figure size 864x576 with 1 Axes>"
      ]
     },
     "metadata": {
      "needs_background": "light"
     },
     "output_type": "display_data"
    },
    {
     "name": "stdout",
     "output_type": "stream",
     "text": [
      "(0, 1, 2, 3, 4, 5, 6)\n",
      "(183280, 66708, 5714, 877, 127, 18, 1)\n"
     ]
    }
   ],
   "source": [
    "draw_line_graph(gen_dist,title='',ylabel='Researcher Count',xlabel='Generation Value',loc=\"../new_graphs/GenerationDistributionLine1.svg\")"
   ]
  },
  {
   "cell_type": "code",
   "execution_count": 119,
   "metadata": {},
   "outputs": [],
   "source": [
    "#gen_dist"
   ]
  },
  {
   "cell_type": "markdown",
   "metadata": {},
   "source": [
    "<h2> H-index Calculation : </h2>"
   ]
  },
  {
   "cell_type": "code",
   "execution_count": 96,
   "metadata": {},
   "outputs": [],
   "source": [
    "#[deg for n ,deg in graph1.out_degree(list(graph1.successors(24794)))]"
   ]
  },
  {
   "cell_type": "code",
   "execution_count": 40,
   "metadata": {},
   "outputs": [],
   "source": [
    "hindex_dict=child_deg(graph1)\n",
    "hindex_dict={key: int(hindex_dict[key]) for key in hindex_dict}"
   ]
  },
  {
   "cell_type": "code",
   "execution_count": 121,
   "metadata": {},
   "outputs": [
    {
     "data": {
      "image/png": "[encoded data removed]",
      "text/plain": [
       "<Figure size 864x576 with 1 Axes>"
      ]
     },
     "metadata": {
      "needs_background": "light"
     },
     "output_type": "display_data"
    },
    {
     "name": "stdout",
     "output_type": "stream",
     "text": [
      "[2.49988e+05 5.84600e+03 7.18000e+02 1.34000e+02 2.60000e+01 9.00000e+00\n",
      " 4.00000e+00]\n",
      "[0. 1. 2. 3. 4. 5. 6. 7.]\n"
     ]
    }
   ],
   "source": [
    "draw_bar_graph(list(hindex_dict.values()),title='',ylabel='Researcher Count',xlabel='h-index Value',loc=\"../\"+save_dir+\"/H-indexDistributionHist1.pdf\",bins=7,text=True, print_bin=True)"
   ]
  },
  {
   "cell_type": "code",
   "execution_count": 99,
   "metadata": {},
   "outputs": [],
   "source": [
    "#draw_bar_graph(list(hindex_dict.values()),title='H-index Distribution',ylabel='Researcher Count',xlabel='H-index Value')"
   ]
  },
  {
   "cell_type": "code",
   "execution_count": 122,
   "metadata": {},
   "outputs": [],
   "source": [
    "#save_obj('hindex_dict',hindex_dict)"
   ]
  },
  {
   "cell_type": "code",
   "execution_count": 123,
   "metadata": {},
   "outputs": [],
   "source": [
    "sorted_hindex=dict(sorted(hindex_dict.items(), key= lambda x : x[1], reverse=True))"
   ]
  },
  {
   "cell_type": "code",
   "execution_count": 42,
   "metadata": {},
   "outputs": [],
   "source": [
    "hindex_dist = Counter(hindex_dict.values())"
   ]
  },
  {
   "cell_type": "code",
   "execution_count": 170,
   "metadata": {},
   "outputs": [],
   "source": [
    "top_5_hindex = list(sorted_hindex.keys())[:top]"
   ]
  },
  {
   "cell_type": "code",
   "execution_count": 171,
   "metadata": {},
   "outputs": [],
   "source": [
    "top_5_hindex_values = list(sorted_hindex.values())[:top]"
   ]
  },
  {
   "cell_type": "code",
   "execution_count": 172,
   "metadata": {},
   "outputs": [
    {
     "data": {
      "text/html": [
       "<div>\n",
       "<style scoped>\n",
       "    .dataframe tbody tr th:only-of-type {\n",
       "        vertical-align: middle;\n",
       "    }\n",
       "\n",
       "    .dataframe tbody tr th {\n",
       "        vertical-align: top;\n",
       "    }\n",
       "\n",
       "    .dataframe thead th {\n",
       "        text-align: right;\n",
       "    }\n",
       "</style>\n",
       "<table border=\"1\" class=\"dataframe\">\n",
       "  <thead>\n",
       "    <tr style=\"text-align: right;\">\n",
       "      <th></th>\n",
       "      <th>advisor_name</th>\n",
       "      <th>publisher_institution</th>\n",
       "      <th>publisher_dept</th>\n",
       "    </tr>\n",
       "    <tr>\n",
       "      <th>advId</th>\n",
       "      <th></th>\n",
       "      <th></th>\n",
       "      <th></th>\n",
       "    </tr>\n",
       "  </thead>\n",
       "  <tbody>\n",
       "    <tr>\n",
       "      <th>63216</th>\n",
       "      <td>Kurup, Pa</td>\n",
       "      <td>University of Kerala</td>\n",
       "      <td>department of biochemistry</td>\n",
       "    </tr>\n",
       "    <tr>\n",
       "      <th>48103</th>\n",
       "      <td>Shanmuga, Sundaram S.</td>\n",
       "      <td>Periyar University</td>\n",
       "      <td>department of commerce</td>\n",
       "    </tr>\n",
       "    <tr>\n",
       "      <th>73063</th>\n",
       "      <td>Meti, T. K.</td>\n",
       "      <td>Karnatak University</td>\n",
       "      <td>department of economics</td>\n",
       "    </tr>\n",
       "    <tr>\n",
       "      <th>85237</th>\n",
       "      <td>Hiremath, R. C.</td>\n",
       "      <td>Karnatak University</td>\n",
       "      <td>department of kannada; department of linguistics</td>\n",
       "    </tr>\n",
       "    <tr>\n",
       "      <th>22565</th>\n",
       "      <td>Ghosh, Asok</td>\n",
       "      <td>University of Calcutta</td>\n",
       "      <td>department of zoology; department of science</td>\n",
       "    </tr>\n",
       "  </tbody>\n",
       "</table>\n",
       "</div>"
      ],
      "text/plain": [
       "                advisor_name   publisher_institution  \\\n",
       "advId                                                  \n",
       "63216              Kurup, Pa    University of Kerala   \n",
       "48103  Shanmuga, Sundaram S.      Periyar University   \n",
       "73063            Meti, T. K.     Karnatak University   \n",
       "85237        Hiremath, R. C.     Karnatak University   \n",
       "22565            Ghosh, Asok  University of Calcutta   \n",
       "\n",
       "                                         publisher_dept  \n",
       "advId                                                    \n",
       "63216                        department of biochemistry  \n",
       "48103                            department of commerce  \n",
       "73063                           department of economics  \n",
       "85237  department of kannada; department of linguistics  \n",
       "22565      department of zoology; department of science  "
      ]
     },
     "execution_count": 172,
     "metadata": {},
     "output_type": "execute_result"
    }
   ],
   "source": [
    "top_5_detail=get_names_inst_dept(mod_ment2, top_5_hindex, 'advId')\n",
    "top_5_detail"
   ]
  },
  {
   "cell_type": "code",
   "execution_count": 175,
   "metadata": {},
   "outputs": [
    {
     "name": "stdout",
     "output_type": "stream",
     "text": [
      "\\begin{tabular}{llr}\n",
      "\\toprule\n",
      "          advisor\\_name &   publisher\\_institution &  h-index\\_count \\\\\n",
      "             Kurup, Pa &    University of Kerala &              7 \\\\\n",
      "\\midrule\n",
      " Shanmuga, Sundaram S. &      Periyar University &              6 \\\\\n",
      "           Meti, T. K. &     Karnatak University &              6 \\\\\n",
      "       Hiremath, R. C. &     Karnatak University &              6 \\\\\n",
      "           Ghosh, Asok &  University of Calcutta &              5 \\\\\n",
      "\\bottomrule\n",
      "\\end{tabular}\n",
      "\n"
     ]
    }
   ],
   "source": [
    "top_5_detail['h-index_count'] = top_5_hindex_values\n",
    "top_5_detail = top_5_detail[[\"advisor_name\",\"publisher_institution\",\"h-index_count\"]]\n",
    "print(top_5_detail.to_latex(index=False))"
   ]
  },
  {
   "cell_type": "code",
   "execution_count": 127,
   "metadata": {},
   "outputs": [],
   "source": [
    "#save_df(\"researcher_h-index\", top_5_detail)"
   ]
  },
  {
   "cell_type": "code",
   "execution_count": 107,
   "metadata": {},
   "outputs": [],
   "source": [
    "#mod_ment2[mod_ment2['advId']==63216]"
   ]
  },
  {
   "cell_type": "code",
   "execution_count": 129,
   "metadata": {},
   "outputs": [],
   "source": [
    "#hindex_dist"
   ]
  },
  {
   "cell_type": "code",
   "execution_count": 43,
   "metadata": {},
   "outputs": [
    {
     "data": {
      "image/png": "[encoded data removed]",
      "text/plain": [
       "<Figure size 864x576 with 1 Axes>"
      ]
     },
     "metadata": {
      "needs_background": "light"
     },
     "output_type": "display_data"
    },
    {
     "name": "stdout",
     "output_type": "stream",
     "text": [
      "(0, 1, 2, 3, 4, 5, 6, 7)\n",
      "(249988, 5846, 718, 134, 26, 9, 3, 1)\n"
     ]
    }
   ],
   "source": [
    "draw_line_graph(hindex_dist,title='',ylabel='Researcher Count',xlabel='h-index Value',loc=\"../new_graphs/H-indexDistributionLine1.svg\")"
   ]
  },
  {
   "cell_type": "code",
   "execution_count": 110,
   "metadata": {},
   "outputs": [],
   "source": [
    "# hindex_dict[3607]"
   ]
  },
  {
   "cell_type": "markdown",
   "metadata": {},
   "source": [
    "## G_m - index"
   ]
  },
  {
   "cell_type": "code",
   "execution_count": 111,
   "metadata": {},
   "outputs": [],
   "source": [
    "#[deg for n ,deg in graph1.out_degree(list(graph1.successors(24794)))]"
   ]
  },
  {
   "cell_type": "code",
   "execution_count": 44,
   "metadata": {},
   "outputs": [],
   "source": [
    "gm_index=gm_index_mod(graph1)"
   ]
  },
  {
   "cell_type": "code",
   "execution_count": 45,
   "metadata": {},
   "outputs": [
    {
     "data": {
      "text/plain": [
       "12"
      ]
     },
     "execution_count": 45,
     "metadata": {},
     "output_type": "execute_result"
    }
   ],
   "source": [
    "gm_index[24794]"
   ]
  },
  {
   "cell_type": "code",
   "execution_count": 114,
   "metadata": {},
   "outputs": [],
   "source": [
    "# for k in gm_index:\n",
    "#     if gm_index[k]==9:\n",
    "#         print(k)"
   ]
  },
  {
   "cell_type": "code",
   "execution_count": 134,
   "metadata": {},
   "outputs": [],
   "source": [
    "#save_obj('gindex_dict',gm_index)"
   ]
  },
  {
   "cell_type": "code",
   "execution_count": 135,
   "metadata": {},
   "outputs": [
    {
     "data": {
      "image/png": "[encoded data removed]",
      "text/plain": [
       "<Figure size 864x576 with 1 Axes>"
      ]
     },
     "metadata": {
      "needs_background": "light"
     },
     "output_type": "display_data"
    },
    {
     "name": "stdout",
     "output_type": "stream",
     "text": [
      "[2.49988e+05 4.33600e+03 1.42400e+03 5.63000e+02 2.68000e+02 8.20000e+01\n",
      " 3.00000e+01 2.10000e+01 8.00000e+00 3.00000e+00 0.00000e+00 2.00000e+00]\n",
      "[ 0.  1.  2.  3.  4.  5.  6.  7.  8.  9. 10. 11. 12.]\n"
     ]
    }
   ],
   "source": [
    "draw_bar_graph(list(gm_index.values()),title='',ylabel='Researcher Count',xlabel='g-index Value',bins=12,loc=\"../\"+save_dir+\"/G-indexDistributionHist1.pdf\",text=True, print_bin=True)"
   ]
  },
  {
   "cell_type": "code",
   "execution_count": 46,
   "metadata": {},
   "outputs": [],
   "source": [
    "sorted_gindex=dict(sorted(gm_index.items(), key=lambda x : x[1], reverse=True))"
   ]
  },
  {
   "cell_type": "code",
   "execution_count": 137,
   "metadata": {},
   "outputs": [],
   "source": [
    "top_5_gindex = list(sorted_gindex.keys())[:top]"
   ]
  },
  {
   "cell_type": "code",
   "execution_count": 142,
   "metadata": {},
   "outputs": [],
   "source": [
    "top_5_gindex_values = list(sorted_gindex.values())[:top]"
   ]
  },
  {
   "cell_type": "code",
   "execution_count": 143,
   "metadata": {},
   "outputs": [
    {
     "data": {
      "text/html": [
       "<div>\n",
       "<style scoped>\n",
       "    .dataframe tbody tr th:only-of-type {\n",
       "        vertical-align: middle;\n",
       "    }\n",
       "\n",
       "    .dataframe tbody tr th {\n",
       "        vertical-align: top;\n",
       "    }\n",
       "\n",
       "    .dataframe thead th {\n",
       "        text-align: right;\n",
       "    }\n",
       "</style>\n",
       "<table border=\"1\" class=\"dataframe\">\n",
       "  <thead>\n",
       "    <tr style=\"text-align: right;\">\n",
       "      <th></th>\n",
       "      <th>advisor_name</th>\n",
       "      <th>publisher_institution</th>\n",
       "      <th>publisher_dept</th>\n",
       "    </tr>\n",
       "    <tr>\n",
       "      <th>advId</th>\n",
       "      <th></th>\n",
       "      <th></th>\n",
       "      <th></th>\n",
       "    </tr>\n",
       "  </thead>\n",
       "  <tbody>\n",
       "    <tr>\n",
       "      <th>24794</th>\n",
       "      <td>Shivarudrappa, G.</td>\n",
       "      <td>Karnatak University</td>\n",
       "      <td>department of education</td>\n",
       "    </tr>\n",
       "    <tr>\n",
       "      <th>65471</th>\n",
       "      <td>Rao, S. Brahmaji</td>\n",
       "      <td>Sri Krishnadevaraya University</td>\n",
       "      <td>department of chemistry</td>\n",
       "    </tr>\n",
       "    <tr>\n",
       "      <th>48103</th>\n",
       "      <td>Shanmuga, Sundaram S.</td>\n",
       "      <td>Periyar University</td>\n",
       "      <td>department of commerce</td>\n",
       "    </tr>\n",
       "    <tr>\n",
       "      <th>58479</th>\n",
       "      <td>Pawar, S. H.</td>\n",
       "      <td>Shivaji University</td>\n",
       "      <td>department of physics</td>\n",
       "    </tr>\n",
       "    <tr>\n",
       "      <th>73063</th>\n",
       "      <td>Meti, T. K.</td>\n",
       "      <td>Karnatak University</td>\n",
       "      <td>department of economics</td>\n",
       "    </tr>\n",
       "  </tbody>\n",
       "</table>\n",
       "</div>"
      ],
      "text/plain": [
       "                advisor_name           publisher_institution  \\\n",
       "advId                                                          \n",
       "24794      Shivarudrappa, G.             Karnatak University   \n",
       "65471       Rao, S. Brahmaji  Sri Krishnadevaraya University   \n",
       "48103  Shanmuga, Sundaram S.              Periyar University   \n",
       "58479           Pawar, S. H.              Shivaji University   \n",
       "73063            Meti, T. K.             Karnatak University   \n",
       "\n",
       "                publisher_dept  \n",
       "advId                           \n",
       "24794  department of education  \n",
       "65471  department of chemistry  \n",
       "48103   department of commerce  \n",
       "58479    department of physics  \n",
       "73063  department of economics  "
      ]
     },
     "execution_count": 143,
     "metadata": {},
     "output_type": "execute_result"
    }
   ],
   "source": [
    "top_5_detail=get_names_inst_dept(mod_ment2, top_5_gindex, 'advId')\n",
    "top_5_detail"
   ]
  },
  {
   "cell_type": "code",
   "execution_count": 144,
   "metadata": {},
   "outputs": [
    {
     "name": "stdout",
     "output_type": "stream",
     "text": [
      "\\begin{tabular}{llr}\n",
      "\\toprule\n",
      "          advisor\\_name &           publisher\\_institution &  g-index\\_count \\\\\n",
      "     Shivarudrappa, G. &             Karnatak University &             12 \\\\\n",
      "\\midrule\n",
      "      Rao, S. Brahmaji &  Sri Krishnadevaraya University &             11 \\\\\n",
      " Shanmuga, Sundaram S. &              Periyar University &              9 \\\\\n",
      "          Pawar, S. H. &              Shivaji University &              9 \\\\\n",
      "           Meti, T. K. &             Karnatak University &              9 \\\\\n",
      "\\bottomrule\n",
      "\\end{tabular}\n",
      "\n"
     ]
    }
   ],
   "source": [
    "top_5_detail['g-index_count'] = top_5_gindex_values\n",
    "top_5_detail = top_5_detail[[\"advisor_name\",\"publisher_institution\",\"g-index_count\"]]\n",
    "print(top_5_detail.to_latex(index=False))"
   ]
  },
  {
   "cell_type": "code",
   "execution_count": 146,
   "metadata": {},
   "outputs": [],
   "source": [
    "#save_df(\"researcher_g-index\", top_5_detail)"
   ]
  },
  {
   "cell_type": "code",
   "execution_count": 48,
   "metadata": {},
   "outputs": [],
   "source": [
    "gindex_dist = Counter(gm_index.values())"
   ]
  },
  {
   "cell_type": "code",
   "execution_count": 148,
   "metadata": {},
   "outputs": [],
   "source": [
    "#gindex_dist"
   ]
  },
  {
   "cell_type": "code",
   "execution_count": 123,
   "metadata": {},
   "outputs": [],
   "source": [
    "#gindex_dist"
   ]
  },
  {
   "cell_type": "code",
   "execution_count": 149,
   "metadata": {},
   "outputs": [],
   "source": [
    "#top_5_gm"
   ]
  },
  {
   "cell_type": "code",
   "execution_count": 49,
   "metadata": {},
   "outputs": [
    {
     "data": {
      "image/png": "[encoded data removed]",
      "text/plain": [
       "<Figure size 864x576 with 1 Axes>"
      ]
     },
     "metadata": {
      "needs_background": "light"
     },
     "output_type": "display_data"
    },
    {
     "name": "stdout",
     "output_type": "stream",
     "text": [
      "(0, 1, 2, 3, 4, 5, 6, 7, 8, 9, 11, 12)\n",
      "(249988, 4336, 1424, 563, 268, 82, 30, 21, 8, 3, 1, 1)\n"
     ]
    }
   ],
   "source": [
    "draw_line_graph(gindex_dist,title='',ylabel='Researcher Count',xlabel='g-index Value',loc=\"../new_graphs/G-indexDistributionLine1.svg\")"
   ]
  },
  {
   "cell_type": "code",
   "execution_count": 151,
   "metadata": {},
   "outputs": [
    {
     "data": {
      "text/plain": [
       "12"
      ]
     },
     "execution_count": 151,
     "metadata": {},
     "output_type": "execute_result"
    }
   ],
   "source": [
    "gm_index[24794]"
   ]
  },
  {
   "cell_type": "markdown",
   "metadata": {},
   "source": [
    "<h2> In-Degree Calculation : </h2>"
   ]
  },
  {
   "cell_type": "code",
   "execution_count": 152,
   "metadata": {},
   "outputs": [],
   "source": [
    "in_dgr = graph1.in_degree()"
   ]
  },
  {
   "cell_type": "code",
   "execution_count": 153,
   "metadata": {},
   "outputs": [],
   "source": [
    "in_dgr=dict(in_dgr)"
   ]
  },
  {
   "cell_type": "code",
   "execution_count": 154,
   "metadata": {},
   "outputs": [],
   "source": [
    "in_dgr_dist = Counter(in_dgr.values())"
   ]
  },
  {
   "cell_type": "code",
   "execution_count": 155,
   "metadata": {},
   "outputs": [],
   "source": [
    "in_sort=sorted(in_dgr_dist.items())"
   ]
  },
  {
   "cell_type": "code",
   "execution_count": 156,
   "metadata": {},
   "outputs": [],
   "source": [
    "sorted_in=dict(sorted(in_dgr.items(), key=lambda x : x[1], reverse=True))"
   ]
  },
  {
   "cell_type": "code",
   "execution_count": 158,
   "metadata": {},
   "outputs": [],
   "source": [
    "top_5_in = list(sorted_in.keys())[:top]"
   ]
  },
  {
   "cell_type": "code",
   "execution_count": 157,
   "metadata": {},
   "outputs": [],
   "source": [
    "top_5_in_values = list(sorted_in.values())[:top]"
   ]
  },
  {
   "cell_type": "code",
   "execution_count": 159,
   "metadata": {},
   "outputs": [
    {
     "data": {
      "text/html": [
       "<div>\n",
       "<style scoped>\n",
       "    .dataframe tbody tr th:only-of-type {\n",
       "        vertical-align: middle;\n",
       "    }\n",
       "\n",
       "    .dataframe tbody tr th {\n",
       "        vertical-align: top;\n",
       "    }\n",
       "\n",
       "    .dataframe thead th {\n",
       "        text-align: right;\n",
       "    }\n",
       "</style>\n",
       "<table border=\"1\" class=\"dataframe\">\n",
       "  <thead>\n",
       "    <tr style=\"text-align: right;\">\n",
       "      <th></th>\n",
       "      <th>researcher_name</th>\n",
       "      <th>publisher_institution</th>\n",
       "      <th>publisher_dept</th>\n",
       "    </tr>\n",
       "    <tr>\n",
       "      <th>resId</th>\n",
       "      <th></th>\n",
       "      <th></th>\n",
       "      <th></th>\n",
       "    </tr>\n",
       "  </thead>\n",
       "  <tbody>\n",
       "    <tr>\n",
       "      <th>97751</th>\n",
       "      <td>Gupta, Priyanka</td>\n",
       "      <td>Bundelkhand University</td>\n",
       "      <td>department of maharani laxmi bai medical college</td>\n",
       "    </tr>\n",
       "    <tr>\n",
       "      <th>97781</th>\n",
       "      <td>Bhadauria, Kaushlenrdra Singh</td>\n",
       "      <td>Bundelkhand University</td>\n",
       "      <td>department of maharani laxmi bai medical college</td>\n",
       "    </tr>\n",
       "    <tr>\n",
       "      <th>97827</th>\n",
       "      <td>Roy, Gouri</td>\n",
       "      <td>Bundelkhand University</td>\n",
       "      <td>department of maharani laxmi bai medical college</td>\n",
       "    </tr>\n",
       "    <tr>\n",
       "      <th>97753</th>\n",
       "      <td>Archana</td>\n",
       "      <td>Bundelkhand University</td>\n",
       "      <td>department of maharani laxmi bai medical college</td>\n",
       "    </tr>\n",
       "    <tr>\n",
       "      <th>97678</th>\n",
       "      <td>Singh, Chandra Bhal</td>\n",
       "      <td>Bundelkhand University</td>\n",
       "      <td>department of maharani laxmi bai medical college</td>\n",
       "    </tr>\n",
       "  </tbody>\n",
       "</table>\n",
       "</div>"
      ],
      "text/plain": [
       "                     researcher_name   publisher_institution  \\\n",
       "resId                                                          \n",
       "97751                Gupta, Priyanka  Bundelkhand University   \n",
       "97781  Bhadauria, Kaushlenrdra Singh  Bundelkhand University   \n",
       "97827                     Roy, Gouri  Bundelkhand University   \n",
       "97753                        Archana  Bundelkhand University   \n",
       "97678            Singh, Chandra Bhal  Bundelkhand University   \n",
       "\n",
       "                                         publisher_dept  \n",
       "resId                                                    \n",
       "97751  department of maharani laxmi bai medical college  \n",
       "97781  department of maharani laxmi bai medical college  \n",
       "97827  department of maharani laxmi bai medical college  \n",
       "97753  department of maharani laxmi bai medical college  \n",
       "97678  department of maharani laxmi bai medical college  "
      ]
     },
     "execution_count": 159,
     "metadata": {},
     "output_type": "execute_result"
    }
   ],
   "source": [
    "top_5_detail=get_names_inst_dept(mod_ment2, top_5_in, 'resId',cols=['researcher_name','publisher_institution','publisher_dept'])\n",
    "top_5_detail"
   ]
  },
  {
   "cell_type": "code",
   "execution_count": 161,
   "metadata": {},
   "outputs": [],
   "source": [
    "top_5_detail[\"Parent_count\"] =  top_5_in_values"
   ]
  },
  {
   "cell_type": "code",
   "execution_count": 162,
   "metadata": {},
   "outputs": [
    {
     "name": "stdout",
     "output_type": "stream",
     "text": [
      "\\begin{tabular}{llr}\n",
      "\\toprule\n",
      "               researcher\\_name &   publisher\\_institution &  Parent\\_count \\\\\n",
      "               Gupta, Priyanka &  Bundelkhand University &             6 \\\\\n",
      "\\midrule\n",
      " Bhadauria, Kaushlenrdra Singh &  Bundelkhand University &             4 \\\\\n",
      "                    Roy, Gouri &  Bundelkhand University &             4 \\\\\n",
      "                       Archana &  Bundelkhand University &             4 \\\\\n",
      "           Singh, Chandra Bhal &  Bundelkhand University &             4 \\\\\n",
      "\\bottomrule\n",
      "\\end{tabular}\n",
      "\n"
     ]
    }
   ],
   "source": [
    "top_5_detail = top_5_detail[[\"researcher_name\",\"publisher_institution\",\"Parent_count\"]]\n",
    "print(top_5_detail.to_latex(index=False))"
   ]
  },
  {
   "cell_type": "code",
   "execution_count": 167,
   "metadata": {},
   "outputs": [
    {
     "data": {
      "image/png": "[encoded data removed]",
      "text/plain": [
       "<Figure size 864x576 with 1 Axes>"
      ]
     },
     "metadata": {
      "needs_background": "light"
     },
     "output_type": "display_data"
    },
    {
     "name": "stdout",
     "output_type": "stream",
     "text": [
      "[6.48740e+04 1.82776e+05 8.77100e+03 2.86000e+02 1.70000e+01 1.00000e+00]\n",
      "[0. 1. 2. 3. 4. 5. 6.]\n"
     ]
    }
   ],
   "source": [
    "draw_bar_graph(list(in_dgr.values()),title='',ylabel='Researcher Count',xlabel='In-degree Value', bins=6, loc=\"../\"+save_dir+\"/inDegreeDistributionHist1.pdf\",text=True, print_bin=True)"
   ]
  },
  {
   "cell_type": "code",
   "execution_count": 168,
   "metadata": {},
   "outputs": [],
   "source": [
    "draw_line_graph(in_dgr_dist,title='', ylabel='Researcher Count', xlabel='In-degree Value', loc=\"../new_graphs/inDegreeDistributionLine1.svg\")"
   ]
  },
  {
   "cell_type": "code",
   "execution_count": 139,
   "metadata": {},
   "outputs": [],
   "source": [
    "#influential=nx.voterank(graph1, 20)"
   ]
  },
  {
   "cell_type": "code",
   "execution_count": 140,
   "metadata": {},
   "outputs": [],
   "source": [
    "#influential  #[144109, 88147, 30812, 88166, 26894]"
   ]
  },
  {
   "cell_type": "markdown",
   "metadata": {},
   "source": [
    "<h2> Betweeness Centrality Considering the Connected Components </h2>"
   ]
  },
  {
   "cell_type": "code",
   "execution_count": 141,
   "metadata": {},
   "outputs": [],
   "source": [
    "# bw_cent=[]\n",
    "# for com in nx.weakly_connected_components(graph1):\n",
    "#     subgraph = graph1.subgraph(com)\n",
    "#     bcent=nx.betweenness_centrality(subgraph)\n",
    "#     bcent={key:bcent[key]*len(com) for key in bcent}\n",
    "#     bw_cent.append(list(bcent.items()))"
   ]
  },
  {
   "cell_type": "code",
   "execution_count": 142,
   "metadata": {},
   "outputs": [],
   "source": [
    "# bw_cent_tuple=[ele for eles in bw_cent for ele in eles]\n",
    "# bw_cent_dict=dict(bw_cent_tuple)"
   ]
  },
  {
   "cell_type": "code",
   "execution_count": 143,
   "metadata": {},
   "outputs": [],
   "source": [
    "# top5_bw_cent=sorted(bw_cent_dict, key=bw_cent_dict.get, reverse=True)[:5]"
   ]
  },
  {
   "cell_type": "code",
   "execution_count": 144,
   "metadata": {},
   "outputs": [],
   "source": [
    "# top5_bw_cent"
   ]
  },
  {
   "cell_type": "code",
   "execution_count": 145,
   "metadata": {},
   "outputs": [],
   "source": [
    "# top_5_detail=get_names_inst_dept(mod_ment2, top5_bw_cent, 'advId')\n",
    "# top_5_detail"
   ]
  },
  {
   "cell_type": "code",
   "execution_count": 146,
   "metadata": {},
   "outputs": [],
   "source": [
    "#mod_ment2[mod_ment2['advId']==30260]"
   ]
  },
  {
   "cell_type": "code",
   "execution_count": 147,
   "metadata": {},
   "outputs": [],
   "source": [
    "#mod_ment2[mod_ment2['advId']==30249].shape"
   ]
  },
  {
   "cell_type": "code",
   "execution_count": 148,
   "metadata": {},
   "outputs": [],
   "source": [
    "#mod_ment2[mod_ment2['advId']==85237].shape"
   ]
  },
  {
   "cell_type": "code",
   "execution_count": 149,
   "metadata": {},
   "outputs": [],
   "source": [
    "#sum([deg for n ,deg in graph1.out_degree(list(graph1.successors(85237)))])"
   ]
  },
  {
   "cell_type": "code",
   "execution_count": 150,
   "metadata": {},
   "outputs": [],
   "source": [
    "# 48103\n",
    "# 58479\n",
    "# 65471\n",
    "# 73063\n",
    "# 85237"
   ]
  },
  {
   "cell_type": "code",
   "execution_count": 151,
   "metadata": {},
   "outputs": [],
   "source": [
    "#graph1.out_degree(list(graph1.successors(85237)))"
   ]
  },
  {
   "cell_type": "code",
   "execution_count": 152,
   "metadata": {},
   "outputs": [],
   "source": [
    "#mod_ment2[mod_ment2['advId']==230594]['title'].values"
   ]
  },
  {
   "cell_type": "code",
   "execution_count": 153,
   "metadata": {},
   "outputs": [],
   "source": [
    "#adv=mod_ment2.groupby(['advId'])['advisor_name'].apply(list).reset_index().copy()"
   ]
  },
  {
   "cell_type": "code",
   "execution_count": 154,
   "metadata": {},
   "outputs": [],
   "source": [
    "#Neo4j used for finding patterns (motifs) using cypher (Query language for neo4j database)"
   ]
  },
  {
   "cell_type": "code",
   "execution_count": 155,
   "metadata": {},
   "outputs": [],
   "source": [
    "\n",
    "# [1.83283e+05 6.70040e+04 5.73100e+03 8.85000e+02 1.28000e+02 2.20000e+01]\n",
    "# # [0. 1. 2. 3. 4. 5. 6.]"
   ]
  },
  {
   "cell_type": "code",
   "execution_count": 156,
   "metadata": {},
   "outputs": [],
   "source": [
    "#gen_dist"
   ]
  },
  {
   "cell_type": "code",
   "execution_count": 157,
   "metadata": {},
   "outputs": [],
   "source": [
    "# import numpy as np\n",
    "# np.log10(100)"
   ]
  },
  {
   "cell_type": "code",
   "execution_count": 8,
   "metadata": {},
   "outputs": [
    {
     "data": {
      "text/plain": [
       "[15, 4, 2, 0, 0, 1, 0, 0, 0, 0, 0, 0, 0, 0, 0, 128, 0, 0, 0]"
      ]
     },
     "execution_count": 8,
     "metadata": {},
     "output_type": "execute_result"
    }
   ],
   "source": [
    "[deg for n ,deg in graph1.out_degree(list(graph1.successors(24794)))]"
   ]
  },
  {
   "cell_type": "code",
   "execution_count": 15,
   "metadata": {},
   "outputs": [
    {
     "data": {
      "text/plain": [
       "Index(['advisorId', 'researcherId', 'advId', 'resId', 'advisor_name',\n",
       "       'researcher_name', 'publisher_dept', 'DepartmentId',\n",
       "       'publisher_institution', 'instituteId', 'title', 'thesisId',\n",
       "       'N_thesisId', 'date_submitted', 'new_date_awarded', 'dc.date.awarded',\n",
       "       'dc.subject.ddc', 'uniq_ddc_across_dept', 'dc.description.abstract',\n",
       "       'dc.title.alternative', 'N_DepartmentId_1', 'ddc_code', 'advisor_advId',\n",
       "       'researcher_resId'],\n",
       "      dtype='object')"
      ]
     },
     "execution_count": 15,
     "metadata": {},
     "output_type": "execute_result"
    }
   ],
   "source": [
    "mod_ment2.columns"
   ]
  },
  {
   "cell_type": "code",
   "execution_count": 145,
   "metadata": {},
   "outputs": [
    {
     "data": {
      "text/html": [
       "<div>\n",
       "<style scoped>\n",
       "    .dataframe tbody tr th:only-of-type {\n",
       "        vertical-align: middle;\n",
       "    }\n",
       "\n",
       "    .dataframe tbody tr th {\n",
       "        vertical-align: top;\n",
       "    }\n",
       "\n",
       "    .dataframe thead th {\n",
       "        text-align: right;\n",
       "    }\n",
       "</style>\n",
       "<table border=\"1\" class=\"dataframe\">\n",
       "  <thead>\n",
       "    <tr style=\"text-align: right;\">\n",
       "      <th></th>\n",
       "      <th>advisorId</th>\n",
       "      <th>researcherId</th>\n",
       "      <th>advId</th>\n",
       "      <th>resId</th>\n",
       "      <th>advisor_name</th>\n",
       "      <th>researcher_name</th>\n",
       "      <th>publisher_dept</th>\n",
       "      <th>DepartmentId</th>\n",
       "      <th>publisher_institution</th>\n",
       "      <th>instituteId</th>\n",
       "      <th>...</th>\n",
       "      <th>new_date_awarded</th>\n",
       "      <th>dc.date.awarded</th>\n",
       "      <th>dc.subject.ddc</th>\n",
       "      <th>uniq_ddc_across_dept</th>\n",
       "      <th>dc.description.abstract</th>\n",
       "      <th>dc.title.alternative</th>\n",
       "      <th>N_DepartmentId_1</th>\n",
       "      <th>ddc_code</th>\n",
       "      <th>advisor_advId</th>\n",
       "      <th>researcher_resId</th>\n",
       "    </tr>\n",
       "  </thead>\n",
       "  <tbody>\n",
       "    <tr>\n",
       "      <th>54612</th>\n",
       "      <td>24794</td>\n",
       "      <td>144100</td>\n",
       "      <td>24794</td>\n",
       "      <td>24797</td>\n",
       "      <td>Shivarudrappa, G.</td>\n",
       "      <td>Kasinath, H M.</td>\n",
       "      <td>department of education</td>\n",
       "      <td>D1418</td>\n",
       "      <td>Karnatak University</td>\n",
       "      <td>I26</td>\n",
       "      <td>...</td>\n",
       "      <td>1981-04-30</td>\n",
       "      <td>NaN</td>\n",
       "      <td>300::Social sciences|370::Education</td>\n",
       "      <td>('300', '370')</td>\n",
       "      <td>NaN</td>\n",
       "      <td>NaN</td>\n",
       "      <td>D1418</td>\n",
       "      <td>('300', '370')</td>\n",
       "      <td>Shivarudrappa, G.@24794</td>\n",
       "      <td>Kasinath, H M.@24797</td>\n",
       "    </tr>\n",
       "    <tr>\n",
       "      <th>54613</th>\n",
       "      <td>24794</td>\n",
       "      <td>144115</td>\n",
       "      <td>24794</td>\n",
       "      <td>24822</td>\n",
       "      <td>Shivarudrappa, G.</td>\n",
       "      <td>Patil, B C.</td>\n",
       "      <td>department of education</td>\n",
       "      <td>D1418</td>\n",
       "      <td>Karnatak University</td>\n",
       "      <td>I26</td>\n",
       "      <td>...</td>\n",
       "      <td>1993-06-30</td>\n",
       "      <td>NaN</td>\n",
       "      <td>300::Social sciences|370::Education</td>\n",
       "      <td>('300', '370')</td>\n",
       "      <td>NaN</td>\n",
       "      <td>NaN</td>\n",
       "      <td>D1418</td>\n",
       "      <td>('300', '370')</td>\n",
       "      <td>Shivarudrappa, G.@24794</td>\n",
       "      <td>Patil, B C.@24822</td>\n",
       "    </tr>\n",
       "    <tr>\n",
       "      <th>54614</th>\n",
       "      <td>24794</td>\n",
       "      <td>144052</td>\n",
       "      <td>24794</td>\n",
       "      <td>24823</td>\n",
       "      <td>Shivarudrappa, G.</td>\n",
       "      <td>Aradhya, P C.</td>\n",
       "      <td>department of education</td>\n",
       "      <td>D1418</td>\n",
       "      <td>Karnatak University</td>\n",
       "      <td>I26</td>\n",
       "      <td>...</td>\n",
       "      <td>1987-06-30</td>\n",
       "      <td>NaN</td>\n",
       "      <td>300::Social sciences|370::Education</td>\n",
       "      <td>('300', '370')</td>\n",
       "      <td>NaN</td>\n",
       "      <td>NaN</td>\n",
       "      <td>D1418</td>\n",
       "      <td>('300', '370')</td>\n",
       "      <td>Shivarudrappa, G.@24794</td>\n",
       "      <td>Aradhya, P C.@24823</td>\n",
       "    </tr>\n",
       "    <tr>\n",
       "      <th>54615</th>\n",
       "      <td>24794</td>\n",
       "      <td>144075</td>\n",
       "      <td>24794</td>\n",
       "      <td>144075</td>\n",
       "      <td>Shivarudrappa, G.</td>\n",
       "      <td>Kabbur, Shivakumar</td>\n",
       "      <td>department of education</td>\n",
       "      <td>D1418</td>\n",
       "      <td>Karnatak University</td>\n",
       "      <td>I26</td>\n",
       "      <td>...</td>\n",
       "      <td>1987-06-30</td>\n",
       "      <td>NaN</td>\n",
       "      <td>300::Social sciences|370::Education</td>\n",
       "      <td>('300', '370')</td>\n",
       "      <td>NaN</td>\n",
       "      <td>NaN</td>\n",
       "      <td>D1418</td>\n",
       "      <td>('300', '370')</td>\n",
       "      <td>Shivarudrappa, G.@24794</td>\n",
       "      <td>Kabbur, Shivakumar@144075</td>\n",
       "    </tr>\n",
       "    <tr>\n",
       "      <th>54616</th>\n",
       "      <td>24794</td>\n",
       "      <td>144077</td>\n",
       "      <td>24794</td>\n",
       "      <td>144077</td>\n",
       "      <td>Shivarudrappa, G.</td>\n",
       "      <td>Nath, N S Srigiri</td>\n",
       "      <td>department of education</td>\n",
       "      <td>D1418</td>\n",
       "      <td>Karnatak University</td>\n",
       "      <td>I26</td>\n",
       "      <td>...</td>\n",
       "      <td>1979-05-30</td>\n",
       "      <td>NaN</td>\n",
       "      <td>300::Social sciences|370::Education</td>\n",
       "      <td>('300', '370')</td>\n",
       "      <td>NaN</td>\n",
       "      <td>NaN</td>\n",
       "      <td>D1418</td>\n",
       "      <td>('300', '370')</td>\n",
       "      <td>Shivarudrappa, G.@24794</td>\n",
       "      <td>Nath, N S Srigiri@144077</td>\n",
       "    </tr>\n",
       "    <tr>\n",
       "      <th>54617</th>\n",
       "      <td>24794</td>\n",
       "      <td>144079</td>\n",
       "      <td>24794</td>\n",
       "      <td>144079</td>\n",
       "      <td>Shivarudrappa, G.</td>\n",
       "      <td>Vasanta, A.</td>\n",
       "      <td>department of education</td>\n",
       "      <td>D1418</td>\n",
       "      <td>Karnatak University</td>\n",
       "      <td>I26</td>\n",
       "      <td>...</td>\n",
       "      <td>1989-04-20</td>\n",
       "      <td>NaN</td>\n",
       "      <td>300::Social sciences|370::Education</td>\n",
       "      <td>('300', '370')</td>\n",
       "      <td>NaN</td>\n",
       "      <td>NaN</td>\n",
       "      <td>D1418</td>\n",
       "      <td>('300', '370')</td>\n",
       "      <td>Shivarudrappa, G.@24794</td>\n",
       "      <td>Vasanta, A.@144079</td>\n",
       "    </tr>\n",
       "    <tr>\n",
       "      <th>54618</th>\n",
       "      <td>24794</td>\n",
       "      <td>144083</td>\n",
       "      <td>24794</td>\n",
       "      <td>144083</td>\n",
       "      <td>Shivarudrappa, G.</td>\n",
       "      <td>Sayed, Nurjehan A.</td>\n",
       "      <td>department of education</td>\n",
       "      <td>D1418</td>\n",
       "      <td>Karnatak University</td>\n",
       "      <td>I26</td>\n",
       "      <td>...</td>\n",
       "      <td>1987-06-30</td>\n",
       "      <td>NaN</td>\n",
       "      <td>300::Social sciences|370::Education</td>\n",
       "      <td>('300', '370')</td>\n",
       "      <td>NaN</td>\n",
       "      <td>NaN</td>\n",
       "      <td>D1418</td>\n",
       "      <td>('300', '370')</td>\n",
       "      <td>Shivarudrappa, G.@24794</td>\n",
       "      <td>Sayed, Nurjehan A.@144083</td>\n",
       "    </tr>\n",
       "    <tr>\n",
       "      <th>54619</th>\n",
       "      <td>24794</td>\n",
       "      <td>144084</td>\n",
       "      <td>24794</td>\n",
       "      <td>144084</td>\n",
       "      <td>Shivarudrappa, G.</td>\n",
       "      <td>Soundaravalli, S.</td>\n",
       "      <td>department of education</td>\n",
       "      <td>D1418</td>\n",
       "      <td>Karnatak University</td>\n",
       "      <td>I26</td>\n",
       "      <td>...</td>\n",
       "      <td>1985-06-30</td>\n",
       "      <td>NaN</td>\n",
       "      <td>300::Social sciences|370::Education</td>\n",
       "      <td>('300', '370')</td>\n",
       "      <td>NaN</td>\n",
       "      <td>NaN</td>\n",
       "      <td>D1418</td>\n",
       "      <td>('300', '370')</td>\n",
       "      <td>Shivarudrappa, G.@24794</td>\n",
       "      <td>Soundaravalli, S.@144084</td>\n",
       "    </tr>\n",
       "    <tr>\n",
       "      <th>54620</th>\n",
       "      <td>24794</td>\n",
       "      <td>144086</td>\n",
       "      <td>24794</td>\n",
       "      <td>144086</td>\n",
       "      <td>Shivarudrappa, G.</td>\n",
       "      <td>Hemambujam, K.</td>\n",
       "      <td>department of education</td>\n",
       "      <td>D1418</td>\n",
       "      <td>Karnatak University</td>\n",
       "      <td>I26</td>\n",
       "      <td>...</td>\n",
       "      <td>1984-06-30</td>\n",
       "      <td>NaN</td>\n",
       "      <td>300::Social sciences|370::Education</td>\n",
       "      <td>('300', '370')</td>\n",
       "      <td>NaN</td>\n",
       "      <td>NaN</td>\n",
       "      <td>D1418</td>\n",
       "      <td>('300', '370')</td>\n",
       "      <td>Shivarudrappa, G.@24794</td>\n",
       "      <td>Hemambujam, K.@144086</td>\n",
       "    </tr>\n",
       "    <tr>\n",
       "      <th>54621</th>\n",
       "      <td>24794</td>\n",
       "      <td>144088</td>\n",
       "      <td>24794</td>\n",
       "      <td>144088</td>\n",
       "      <td>Shivarudrappa, G.</td>\n",
       "      <td>Yeli, R S.</td>\n",
       "      <td>department of education</td>\n",
       "      <td>D1418</td>\n",
       "      <td>Karnatak University</td>\n",
       "      <td>I26</td>\n",
       "      <td>...</td>\n",
       "      <td>1980-01-31</td>\n",
       "      <td>NaN</td>\n",
       "      <td>300::Social sciences|370::Education</td>\n",
       "      <td>('300', '370')</td>\n",
       "      <td>NaN</td>\n",
       "      <td>NaN</td>\n",
       "      <td>D1418</td>\n",
       "      <td>('300', '370')</td>\n",
       "      <td>Shivarudrappa, G.@24794</td>\n",
       "      <td>Yeli, R S.@144088</td>\n",
       "    </tr>\n",
       "    <tr>\n",
       "      <th>54622</th>\n",
       "      <td>24794</td>\n",
       "      <td>144089</td>\n",
       "      <td>24794</td>\n",
       "      <td>144089</td>\n",
       "      <td>Shivarudrappa, G.</td>\n",
       "      <td>Radhakrishnan, Kamala</td>\n",
       "      <td>department of education</td>\n",
       "      <td>D1418</td>\n",
       "      <td>Karnatak University</td>\n",
       "      <td>I26</td>\n",
       "      <td>...</td>\n",
       "      <td>1985-06-30</td>\n",
       "      <td>NaN</td>\n",
       "      <td>300::Social sciences|370::Education</td>\n",
       "      <td>('300', '370')</td>\n",
       "      <td>NaN</td>\n",
       "      <td>NaN</td>\n",
       "      <td>D1418</td>\n",
       "      <td>('300', '370')</td>\n",
       "      <td>Shivarudrappa, G.@24794</td>\n",
       "      <td>Radhakrishnan, Kamala@144089</td>\n",
       "    </tr>\n",
       "    <tr>\n",
       "      <th>54623</th>\n",
       "      <td>24794</td>\n",
       "      <td>144091</td>\n",
       "      <td>24794</td>\n",
       "      <td>144091</td>\n",
       "      <td>Shivarudrappa, G.</td>\n",
       "      <td>Benal, B I.</td>\n",
       "      <td>department of education</td>\n",
       "      <td>D1418</td>\n",
       "      <td>Karnatak University</td>\n",
       "      <td>I26</td>\n",
       "      <td>...</td>\n",
       "      <td>1988-06-30</td>\n",
       "      <td>NaN</td>\n",
       "      <td>300::Social sciences|370::Education</td>\n",
       "      <td>('300', '370')</td>\n",
       "      <td>NaN</td>\n",
       "      <td>NaN</td>\n",
       "      <td>D1418</td>\n",
       "      <td>('300', '370')</td>\n",
       "      <td>Shivarudrappa, G.@24794</td>\n",
       "      <td>Benal, B I.@144091</td>\n",
       "    </tr>\n",
       "    <tr>\n",
       "      <th>54624</th>\n",
       "      <td>24794</td>\n",
       "      <td>144093</td>\n",
       "      <td>24794</td>\n",
       "      <td>144093</td>\n",
       "      <td>Shivarudrappa, G.</td>\n",
       "      <td>Sadasivayogaiah, A.</td>\n",
       "      <td>department of education</td>\n",
       "      <td>D1418</td>\n",
       "      <td>Karnatak University</td>\n",
       "      <td>I26</td>\n",
       "      <td>...</td>\n",
       "      <td>1987-06-30</td>\n",
       "      <td>NaN</td>\n",
       "      <td>300::Social sciences|370::Education</td>\n",
       "      <td>('300', '370')</td>\n",
       "      <td>NaN</td>\n",
       "      <td>NaN</td>\n",
       "      <td>D1418</td>\n",
       "      <td>('300', '370')</td>\n",
       "      <td>Shivarudrappa, G.@24794</td>\n",
       "      <td>Sadasivayogaiah, A.@144093</td>\n",
       "    </tr>\n",
       "    <tr>\n",
       "      <th>54625</th>\n",
       "      <td>24794</td>\n",
       "      <td>144094</td>\n",
       "      <td>24794</td>\n",
       "      <td>144094</td>\n",
       "      <td>Shivarudrappa, G.</td>\n",
       "      <td>Rajammal, T.</td>\n",
       "      <td>department of education</td>\n",
       "      <td>D1418</td>\n",
       "      <td>Karnatak University</td>\n",
       "      <td>I26</td>\n",
       "      <td>...</td>\n",
       "      <td>1982-03-30</td>\n",
       "      <td>NaN</td>\n",
       "      <td>300::Social sciences|370::Education</td>\n",
       "      <td>('300', '370')</td>\n",
       "      <td>NaN</td>\n",
       "      <td>NaN</td>\n",
       "      <td>D1418</td>\n",
       "      <td>('300', '370')</td>\n",
       "      <td>Shivarudrappa, G.@24794</td>\n",
       "      <td>Rajammal, T.@144094</td>\n",
       "    </tr>\n",
       "    <tr>\n",
       "      <th>54626</th>\n",
       "      <td>24794</td>\n",
       "      <td>144095</td>\n",
       "      <td>24794</td>\n",
       "      <td>144095</td>\n",
       "      <td>Shivarudrappa, G.</td>\n",
       "      <td>Fatima, Bilquis</td>\n",
       "      <td>department of education</td>\n",
       "      <td>D1418</td>\n",
       "      <td>Karnatak University</td>\n",
       "      <td>I26</td>\n",
       "      <td>...</td>\n",
       "      <td>1985-06-30</td>\n",
       "      <td>NaN</td>\n",
       "      <td>300::Social sciences|370::Education</td>\n",
       "      <td>('300', '370')</td>\n",
       "      <td>NaN</td>\n",
       "      <td>NaN</td>\n",
       "      <td>D1418</td>\n",
       "      <td>('300', '370')</td>\n",
       "      <td>Shivarudrappa, G.@24794</td>\n",
       "      <td>Fatima, Bilquis@144095</td>\n",
       "    </tr>\n",
       "    <tr>\n",
       "      <th>54627</th>\n",
       "      <td>24794</td>\n",
       "      <td>144109</td>\n",
       "      <td>24794</td>\n",
       "      <td>144109</td>\n",
       "      <td>Shivarudrappa, G.</td>\n",
       "      <td>Mohan, S.</td>\n",
       "      <td>department of education</td>\n",
       "      <td>D1418</td>\n",
       "      <td>Karnatak University</td>\n",
       "      <td>I26</td>\n",
       "      <td>...</td>\n",
       "      <td>1982-01-31</td>\n",
       "      <td>NaN</td>\n",
       "      <td>300::Social sciences|370::Education</td>\n",
       "      <td>('300', '370')</td>\n",
       "      <td>NaN</td>\n",
       "      <td>NaN</td>\n",
       "      <td>D1418</td>\n",
       "      <td>('300', '370')</td>\n",
       "      <td>Shivarudrappa, G.@24794</td>\n",
       "      <td>Mohan, S.@144109</td>\n",
       "    </tr>\n",
       "    <tr>\n",
       "      <th>54628</th>\n",
       "      <td>24794</td>\n",
       "      <td>144116</td>\n",
       "      <td>24794</td>\n",
       "      <td>144116</td>\n",
       "      <td>Shivarudrappa, G.</td>\n",
       "      <td>Bhat, Vanitha K.</td>\n",
       "      <td>department of education</td>\n",
       "      <td>D1418</td>\n",
       "      <td>Karnatak University</td>\n",
       "      <td>I26</td>\n",
       "      <td>...</td>\n",
       "      <td>1993-06-30</td>\n",
       "      <td>NaN</td>\n",
       "      <td>300::Social sciences|370::Education</td>\n",
       "      <td>('300', '370')</td>\n",
       "      <td>NaN</td>\n",
       "      <td>NaN</td>\n",
       "      <td>D1418</td>\n",
       "      <td>('300', '370')</td>\n",
       "      <td>Shivarudrappa, G.@24794</td>\n",
       "      <td>Bhat, Vanitha K.@144116</td>\n",
       "    </tr>\n",
       "    <tr>\n",
       "      <th>54629</th>\n",
       "      <td>24794</td>\n",
       "      <td>144118</td>\n",
       "      <td>24794</td>\n",
       "      <td>144118</td>\n",
       "      <td>Shivarudrappa, G.</td>\n",
       "      <td>Deshpande, V N.</td>\n",
       "      <td>department of education</td>\n",
       "      <td>D1418</td>\n",
       "      <td>Karnatak University</td>\n",
       "      <td>I26</td>\n",
       "      <td>...</td>\n",
       "      <td>1994-06-30</td>\n",
       "      <td>NaN</td>\n",
       "      <td>300::Social sciences|370::Education</td>\n",
       "      <td>('300', '370')</td>\n",
       "      <td>NaN</td>\n",
       "      <td>NaN</td>\n",
       "      <td>D1418</td>\n",
       "      <td>('300', '370')</td>\n",
       "      <td>Shivarudrappa, G.@24794</td>\n",
       "      <td>Deshpande, V N.@144118</td>\n",
       "    </tr>\n",
       "    <tr>\n",
       "      <th>54630</th>\n",
       "      <td>24794</td>\n",
       "      <td>144119</td>\n",
       "      <td>24794</td>\n",
       "      <td>144119</td>\n",
       "      <td>Shivarudrappa, G.</td>\n",
       "      <td>Chalawadi, A S.</td>\n",
       "      <td>department of education</td>\n",
       "      <td>D1418</td>\n",
       "      <td>Karnatak University</td>\n",
       "      <td>I26</td>\n",
       "      <td>...</td>\n",
       "      <td>1993-06-30</td>\n",
       "      <td>NaN</td>\n",
       "      <td>300::Social sciences|370::Education</td>\n",
       "      <td>('300', '370')</td>\n",
       "      <td>NaN</td>\n",
       "      <td>NaN</td>\n",
       "      <td>D1418</td>\n",
       "      <td>('300', '370')</td>\n",
       "      <td>Shivarudrappa, G.@24794</td>\n",
       "      <td>Chalawadi, A S.@144119</td>\n",
       "    </tr>\n",
       "  </tbody>\n",
       "</table>\n",
       "<p>19 rows × 24 columns</p>\n",
       "</div>"
      ],
      "text/plain": [
       "       advisorId  researcherId  advId   resId       advisor_name  \\\n",
       "54612      24794        144100  24794   24797  Shivarudrappa, G.   \n",
       "54613      24794        144115  24794   24822  Shivarudrappa, G.   \n",
       "54614      24794        144052  24794   24823  Shivarudrappa, G.   \n",
       "54615      24794        144075  24794  144075  Shivarudrappa, G.   \n",
       "54616      24794        144077  24794  144077  Shivarudrappa, G.   \n",
       "54617      24794        144079  24794  144079  Shivarudrappa, G.   \n",
       "54618      24794        144083  24794  144083  Shivarudrappa, G.   \n",
       "54619      24794        144084  24794  144084  Shivarudrappa, G.   \n",
       "54620      24794        144086  24794  144086  Shivarudrappa, G.   \n",
       "54621      24794        144088  24794  144088  Shivarudrappa, G.   \n",
       "54622      24794        144089  24794  144089  Shivarudrappa, G.   \n",
       "54623      24794        144091  24794  144091  Shivarudrappa, G.   \n",
       "54624      24794        144093  24794  144093  Shivarudrappa, G.   \n",
       "54625      24794        144094  24794  144094  Shivarudrappa, G.   \n",
       "54626      24794        144095  24794  144095  Shivarudrappa, G.   \n",
       "54627      24794        144109  24794  144109  Shivarudrappa, G.   \n",
       "54628      24794        144116  24794  144116  Shivarudrappa, G.   \n",
       "54629      24794        144118  24794  144118  Shivarudrappa, G.   \n",
       "54630      24794        144119  24794  144119  Shivarudrappa, G.   \n",
       "\n",
       "             researcher_name           publisher_dept DepartmentId  \\\n",
       "54612         Kasinath, H M.  department of education        D1418   \n",
       "54613            Patil, B C.  department of education        D1418   \n",
       "54614          Aradhya, P C.  department of education        D1418   \n",
       "54615     Kabbur, Shivakumar  department of education        D1418   \n",
       "54616      Nath, N S Srigiri  department of education        D1418   \n",
       "54617            Vasanta, A.  department of education        D1418   \n",
       "54618     Sayed, Nurjehan A.  department of education        D1418   \n",
       "54619      Soundaravalli, S.  department of education        D1418   \n",
       "54620         Hemambujam, K.  department of education        D1418   \n",
       "54621             Yeli, R S.  department of education        D1418   \n",
       "54622  Radhakrishnan, Kamala  department of education        D1418   \n",
       "54623            Benal, B I.  department of education        D1418   \n",
       "54624    Sadasivayogaiah, A.  department of education        D1418   \n",
       "54625           Rajammal, T.  department of education        D1418   \n",
       "54626        Fatima, Bilquis  department of education        D1418   \n",
       "54627              Mohan, S.  department of education        D1418   \n",
       "54628       Bhat, Vanitha K.  department of education        D1418   \n",
       "54629        Deshpande, V N.  department of education        D1418   \n",
       "54630        Chalawadi, A S.  department of education        D1418   \n",
       "\n",
       "      publisher_institution instituteId  ... new_date_awarded dc.date.awarded  \\\n",
       "54612   Karnatak University         I26  ...       1981-04-30             NaN   \n",
       "54613   Karnatak University         I26  ...       1993-06-30             NaN   \n",
       "54614   Karnatak University         I26  ...       1987-06-30             NaN   \n",
       "54615   Karnatak University         I26  ...       1987-06-30             NaN   \n",
       "54616   Karnatak University         I26  ...       1979-05-30             NaN   \n",
       "54617   Karnatak University         I26  ...       1989-04-20             NaN   \n",
       "54618   Karnatak University         I26  ...       1987-06-30             NaN   \n",
       "54619   Karnatak University         I26  ...       1985-06-30             NaN   \n",
       "54620   Karnatak University         I26  ...       1984-06-30             NaN   \n",
       "54621   Karnatak University         I26  ...       1980-01-31             NaN   \n",
       "54622   Karnatak University         I26  ...       1985-06-30             NaN   \n",
       "54623   Karnatak University         I26  ...       1988-06-30             NaN   \n",
       "54624   Karnatak University         I26  ...       1987-06-30             NaN   \n",
       "54625   Karnatak University         I26  ...       1982-03-30             NaN   \n",
       "54626   Karnatak University         I26  ...       1985-06-30             NaN   \n",
       "54627   Karnatak University         I26  ...       1982-01-31             NaN   \n",
       "54628   Karnatak University         I26  ...       1993-06-30             NaN   \n",
       "54629   Karnatak University         I26  ...       1994-06-30             NaN   \n",
       "54630   Karnatak University         I26  ...       1993-06-30             NaN   \n",
       "\n",
       "                            dc.subject.ddc uniq_ddc_across_dept  \\\n",
       "54612  300::Social sciences|370::Education       ('300', '370')   \n",
       "54613  300::Social sciences|370::Education       ('300', '370')   \n",
       "54614  300::Social sciences|370::Education       ('300', '370')   \n",
       "54615  300::Social sciences|370::Education       ('300', '370')   \n",
       "54616  300::Social sciences|370::Education       ('300', '370')   \n",
       "54617  300::Social sciences|370::Education       ('300', '370')   \n",
       "54618  300::Social sciences|370::Education       ('300', '370')   \n",
       "54619  300::Social sciences|370::Education       ('300', '370')   \n",
       "54620  300::Social sciences|370::Education       ('300', '370')   \n",
       "54621  300::Social sciences|370::Education       ('300', '370')   \n",
       "54622  300::Social sciences|370::Education       ('300', '370')   \n",
       "54623  300::Social sciences|370::Education       ('300', '370')   \n",
       "54624  300::Social sciences|370::Education       ('300', '370')   \n",
       "54625  300::Social sciences|370::Education       ('300', '370')   \n",
       "54626  300::Social sciences|370::Education       ('300', '370')   \n",
       "54627  300::Social sciences|370::Education       ('300', '370')   \n",
       "54628  300::Social sciences|370::Education       ('300', '370')   \n",
       "54629  300::Social sciences|370::Education       ('300', '370')   \n",
       "54630  300::Social sciences|370::Education       ('300', '370')   \n",
       "\n",
       "      dc.description.abstract dc.title.alternative N_DepartmentId_1  \\\n",
       "54612                     NaN                  NaN            D1418   \n",
       "54613                     NaN                  NaN            D1418   \n",
       "54614                     NaN                  NaN            D1418   \n",
       "54615                     NaN                  NaN            D1418   \n",
       "54616                     NaN                  NaN            D1418   \n",
       "54617                     NaN                  NaN            D1418   \n",
       "54618                     NaN                  NaN            D1418   \n",
       "54619                     NaN                  NaN            D1418   \n",
       "54620                     NaN                  NaN            D1418   \n",
       "54621                     NaN                  NaN            D1418   \n",
       "54622                     NaN                  NaN            D1418   \n",
       "54623                     NaN                  NaN            D1418   \n",
       "54624                     NaN                  NaN            D1418   \n",
       "54625                     NaN                  NaN            D1418   \n",
       "54626                     NaN                  NaN            D1418   \n",
       "54627                     NaN                  NaN            D1418   \n",
       "54628                     NaN                  NaN            D1418   \n",
       "54629                     NaN                  NaN            D1418   \n",
       "54630                     NaN                  NaN            D1418   \n",
       "\n",
       "             ddc_code            advisor_advId              researcher_resId  \n",
       "54612  ('300', '370')  Shivarudrappa, G.@24794          Kasinath, H M.@24797  \n",
       "54613  ('300', '370')  Shivarudrappa, G.@24794             Patil, B C.@24822  \n",
       "54614  ('300', '370')  Shivarudrappa, G.@24794           Aradhya, P C.@24823  \n",
       "54615  ('300', '370')  Shivarudrappa, G.@24794     Kabbur, Shivakumar@144075  \n",
       "54616  ('300', '370')  Shivarudrappa, G.@24794      Nath, N S Srigiri@144077  \n",
       "54617  ('300', '370')  Shivarudrappa, G.@24794            Vasanta, A.@144079  \n",
       "54618  ('300', '370')  Shivarudrappa, G.@24794     Sayed, Nurjehan A.@144083  \n",
       "54619  ('300', '370')  Shivarudrappa, G.@24794      Soundaravalli, S.@144084  \n",
       "54620  ('300', '370')  Shivarudrappa, G.@24794         Hemambujam, K.@144086  \n",
       "54621  ('300', '370')  Shivarudrappa, G.@24794             Yeli, R S.@144088  \n",
       "54622  ('300', '370')  Shivarudrappa, G.@24794  Radhakrishnan, Kamala@144089  \n",
       "54623  ('300', '370')  Shivarudrappa, G.@24794            Benal, B I.@144091  \n",
       "54624  ('300', '370')  Shivarudrappa, G.@24794    Sadasivayogaiah, A.@144093  \n",
       "54625  ('300', '370')  Shivarudrappa, G.@24794           Rajammal, T.@144094  \n",
       "54626  ('300', '370')  Shivarudrappa, G.@24794        Fatima, Bilquis@144095  \n",
       "54627  ('300', '370')  Shivarudrappa, G.@24794              Mohan, S.@144109  \n",
       "54628  ('300', '370')  Shivarudrappa, G.@24794       Bhat, Vanitha K.@144116  \n",
       "54629  ('300', '370')  Shivarudrappa, G.@24794        Deshpande, V N.@144118  \n",
       "54630  ('300', '370')  Shivarudrappa, G.@24794        Chalawadi, A S.@144119  \n",
       "\n",
       "[19 rows x 24 columns]"
      ]
     },
     "execution_count": 145,
     "metadata": {},
     "output_type": "execute_result"
    }
   ],
   "source": [
    "mod_ment2[mod_ment2[\"advId\"]==24794]"
   ]
  },
  {
   "cell_type": "code",
   "execution_count": null,
   "metadata": {},
   "outputs": [],
   "source": []
  }
 ],
 "metadata": {
  "kernelspec": {
   "display_name": "Python 3",
   "language": "python",
   "name": "python3"
  },
  "language_info": {
   "codemirror_mode": {
    "name": "ipython",
    "version": 3
   },
   "file_extension": ".py",
   "mimetype": "text/x-python",
   "name": "python",
   "nbconvert_exporter": "python",
   "pygments_lexer": "ipython3",
   "version": "3.7.12"
  }
 },
 "nbformat": 4,
 "nbformat_minor": 4
}
