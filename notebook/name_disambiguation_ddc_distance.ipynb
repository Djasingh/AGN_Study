{
 "cells": [
  {
   "cell_type": "code",
   "execution_count": 10,
   "metadata": {},
   "outputs": [],
   "source": [
    "import pandas as pd\n",
    "import networkx as nx\n",
    "import matplotlib.pyplot as plt\n",
    "import numpy as np\n",
    "from tqdm import tqdm\n",
    "from collections import Counter\n",
    "from multiprocessing import Pool\n",
    "import itertools\n",
    "import re"
   ]
  },
  {
   "cell_type": "code",
   "execution_count": 2,
   "metadata": {},
   "outputs": [],
   "source": [
    "old_folder=\"dataset_v5/v5_2/\""
   ]
  },
  {
   "cell_type": "code",
   "execution_count": 11,
   "metadata": {},
   "outputs": [],
   "source": [
    "folder=\"../dataset_v5/v5_2/v5_2_2/\""
   ]
  },
  {
   "cell_type": "code",
   "execution_count": 12,
   "metadata": {},
   "outputs": [],
   "source": [
    "ment = pd.read_csv(folder+'final_shodhganga_dataset_v5_2_2.csv', sep =\",\")"
   ]
  },
  {
   "cell_type": "code",
   "execution_count": 13,
   "metadata": {},
   "outputs": [
    {
     "data": {
      "text/plain": [
       "(201477, 24)"
      ]
     },
     "execution_count": 13,
     "metadata": {},
     "output_type": "execute_result"
    }
   ],
   "source": [
    "ment.shape"
   ]
  },
  {
   "cell_type": "code",
   "execution_count": 14,
   "metadata": {},
   "outputs": [
    {
     "data": {
      "text/html": [
       "<div>\n",
       "<style scoped>\n",
       "    .dataframe tbody tr th:only-of-type {\n",
       "        vertical-align: middle;\n",
       "    }\n",
       "\n",
       "    .dataframe tbody tr th {\n",
       "        vertical-align: top;\n",
       "    }\n",
       "\n",
       "    .dataframe thead th {\n",
       "        text-align: right;\n",
       "    }\n",
       "</style>\n",
       "<table border=\"1\" class=\"dataframe\">\n",
       "  <thead>\n",
       "    <tr style=\"text-align: right;\">\n",
       "      <th></th>\n",
       "      <th>advisorId</th>\n",
       "      <th>researcherId</th>\n",
       "      <th>advId</th>\n",
       "      <th>resId</th>\n",
       "      <th>advisor_name</th>\n",
       "      <th>researcher_name</th>\n",
       "      <th>publisher_dept</th>\n",
       "      <th>DepartmentId</th>\n",
       "      <th>publisher_institution</th>\n",
       "      <th>instituteId</th>\n",
       "      <th>...</th>\n",
       "      <th>new_date_awarded</th>\n",
       "      <th>dc.date.awarded</th>\n",
       "      <th>dc.subject.ddc</th>\n",
       "      <th>uniq_ddc_across_dept</th>\n",
       "      <th>dc.description.abstract</th>\n",
       "      <th>dc.title.alternative</th>\n",
       "      <th>N_DepartmentId_1</th>\n",
       "      <th>ddc_code</th>\n",
       "      <th>advisor_advId</th>\n",
       "      <th>researcher_resId</th>\n",
       "    </tr>\n",
       "  </thead>\n",
       "  <tbody>\n",
       "    <tr>\n",
       "      <th>0</th>\n",
       "      <td>0</td>\n",
       "      <td>93541</td>\n",
       "      <td>137564</td>\n",
       "      <td>93541</td>\n",
       "      <td>Jose, Joseph</td>\n",
       "      <td>Thoppil, John E.</td>\n",
       "      <td>department of sacred heart college(thevara). d...</td>\n",
       "      <td>D864</td>\n",
       "      <td>Mahatma Gandhi University</td>\n",
       "      <td>I251</td>\n",
       "      <td>...</td>\n",
       "      <td>1993-12-16</td>\n",
       "      <td>1993-12-16</td>\n",
       "      <td>500::Natural sciences &amp; mathematics|580::Plant...</td>\n",
       "      <td>('500', '580')</td>\n",
       "      <td>NaN</td>\n",
       "      <td>NaN</td>\n",
       "      <td>D1321</td>\n",
       "      <td>('500', '580')</td>\n",
       "      <td>Jose, Joseph@137564</td>\n",
       "      <td>Thoppil, John E.@93541</td>\n",
       "    </tr>\n",
       "    <tr>\n",
       "      <th>1</th>\n",
       "      <td>0</td>\n",
       "      <td>93544</td>\n",
       "      <td>137564</td>\n",
       "      <td>93544</td>\n",
       "      <td>Jose, Joseph</td>\n",
       "      <td>Joseph, Roy</td>\n",
       "      <td>department of sacred heart college(thevara).de...</td>\n",
       "      <td>D864</td>\n",
       "      <td>Mahatma Gandhi University</td>\n",
       "      <td>I251</td>\n",
       "      <td>...</td>\n",
       "      <td>1998-07-01</td>\n",
       "      <td>NaN</td>\n",
       "      <td>500::Natural sciences &amp; mathematics|580::Plant...</td>\n",
       "      <td>('500', '580')</td>\n",
       "      <td>NaN</td>\n",
       "      <td>NaN</td>\n",
       "      <td>D129</td>\n",
       "      <td>('500', '580')</td>\n",
       "      <td>Jose, Joseph@137564</td>\n",
       "      <td>Joseph, Roy@93544</td>\n",
       "    </tr>\n",
       "    <tr>\n",
       "      <th>2</th>\n",
       "      <td>1</td>\n",
       "      <td>93542</td>\n",
       "      <td>1</td>\n",
       "      <td>93542</td>\n",
       "      <td>Joy, C. M.</td>\n",
       "      <td>Jose, K P.</td>\n",
       "      <td>department of sacred heart college(thevara).de...</td>\n",
       "      <td>D864</td>\n",
       "      <td>Mahatma Gandhi University</td>\n",
       "      <td>I251</td>\n",
       "      <td>...</td>\n",
       "      <td>2002-07-07</td>\n",
       "      <td>NaN</td>\n",
       "      <td>500::Natural sciences &amp; mathematics|580::Plant...</td>\n",
       "      <td>('500', '580')</td>\n",
       "      <td>NaN</td>\n",
       "      <td>NaN</td>\n",
       "      <td>D129</td>\n",
       "      <td>('500', '580')</td>\n",
       "      <td>Joy, C. M.@1</td>\n",
       "      <td>Jose, K P.@93542</td>\n",
       "    </tr>\n",
       "    <tr>\n",
       "      <th>3</th>\n",
       "      <td>2</td>\n",
       "      <td>93543</td>\n",
       "      <td>70170</td>\n",
       "      <td>93543</td>\n",
       "      <td>Joseph, Joy P.</td>\n",
       "      <td>Aruna, A.</td>\n",
       "      <td>department of sacred heart college(thevara).de...</td>\n",
       "      <td>D864</td>\n",
       "      <td>Mahatma Gandhi University</td>\n",
       "      <td>I251</td>\n",
       "      <td>...</td>\n",
       "      <td>2005-01-04</td>\n",
       "      <td>2005-01-04</td>\n",
       "      <td>500::Natural sciences &amp; mathematics|580::Plant...</td>\n",
       "      <td>('500', '580')</td>\n",
       "      <td>NaN</td>\n",
       "      <td>NaN</td>\n",
       "      <td>D129</td>\n",
       "      <td>('500', '580')</td>\n",
       "      <td>Joseph, Joy P.@70170</td>\n",
       "      <td>Aruna, A.@93543</td>\n",
       "    </tr>\n",
       "    <tr>\n",
       "      <th>4</th>\n",
       "      <td>2</td>\n",
       "      <td>93596</td>\n",
       "      <td>70170</td>\n",
       "      <td>93596</td>\n",
       "      <td>Joseph, Joy P.</td>\n",
       "      <td>George, Rose</td>\n",
       "      <td>department of sacred heart college(kottayam).d...</td>\n",
       "      <td>D864</td>\n",
       "      <td>Mahatma Gandhi University</td>\n",
       "      <td>I251</td>\n",
       "      <td>...</td>\n",
       "      <td>2005-06-30</td>\n",
       "      <td>2005-06-30</td>\n",
       "      <td>500::Natural sciences &amp; mathematics|580::Plant...</td>\n",
       "      <td>('500', '580')</td>\n",
       "      <td>The steroid alkaloid solasodine (C2PI3O2Nh) as...</td>\n",
       "      <td>NaN</td>\n",
       "      <td>D864</td>\n",
       "      <td>('500', '580')</td>\n",
       "      <td>Joseph, Joy P.@70170</td>\n",
       "      <td>George, Rose@93596</td>\n",
       "    </tr>\n",
       "  </tbody>\n",
       "</table>\n",
       "<p>5 rows × 24 columns</p>\n",
       "</div>"
      ],
      "text/plain": [
       "   advisorId  researcherId   advId  resId    advisor_name   researcher_name  \\\n",
       "0          0         93541  137564  93541    Jose, Joseph  Thoppil, John E.   \n",
       "1          0         93544  137564  93544    Jose, Joseph       Joseph, Roy   \n",
       "2          1         93542       1  93542      Joy, C. M.        Jose, K P.   \n",
       "3          2         93543   70170  93543  Joseph, Joy P.         Aruna, A.   \n",
       "4          2         93596   70170  93596  Joseph, Joy P.      George, Rose   \n",
       "\n",
       "                                      publisher_dept DepartmentId  \\\n",
       "0  department of sacred heart college(thevara). d...         D864   \n",
       "1  department of sacred heart college(thevara).de...         D864   \n",
       "2  department of sacred heart college(thevara).de...         D864   \n",
       "3  department of sacred heart college(thevara).de...         D864   \n",
       "4  department of sacred heart college(kottayam).d...         D864   \n",
       "\n",
       "       publisher_institution instituteId  ... new_date_awarded  \\\n",
       "0  Mahatma Gandhi University        I251  ...       1993-12-16   \n",
       "1  Mahatma Gandhi University        I251  ...       1998-07-01   \n",
       "2  Mahatma Gandhi University        I251  ...       2002-07-07   \n",
       "3  Mahatma Gandhi University        I251  ...       2005-01-04   \n",
       "4  Mahatma Gandhi University        I251  ...       2005-06-30   \n",
       "\n",
       "  dc.date.awarded                                     dc.subject.ddc  \\\n",
       "0      1993-12-16  500::Natural sciences & mathematics|580::Plant...   \n",
       "1             NaN  500::Natural sciences & mathematics|580::Plant...   \n",
       "2             NaN  500::Natural sciences & mathematics|580::Plant...   \n",
       "3      2005-01-04  500::Natural sciences & mathematics|580::Plant...   \n",
       "4      2005-06-30  500::Natural sciences & mathematics|580::Plant...   \n",
       "\n",
       "  uniq_ddc_across_dept                            dc.description.abstract  \\\n",
       "0       ('500', '580')                                                NaN   \n",
       "1       ('500', '580')                                                NaN   \n",
       "2       ('500', '580')                                                NaN   \n",
       "3       ('500', '580')                                                NaN   \n",
       "4       ('500', '580')  The steroid alkaloid solasodine (C2PI3O2Nh) as...   \n",
       "\n",
       "  dc.title.alternative N_DepartmentId_1        ddc_code         advisor_advId  \\\n",
       "0                  NaN            D1321  ('500', '580')   Jose, Joseph@137564   \n",
       "1                  NaN             D129  ('500', '580')   Jose, Joseph@137564   \n",
       "2                  NaN             D129  ('500', '580')          Joy, C. M.@1   \n",
       "3                  NaN             D129  ('500', '580')  Joseph, Joy P.@70170   \n",
       "4                  NaN             D864  ('500', '580')  Joseph, Joy P.@70170   \n",
       "\n",
       "         researcher_resId  \n",
       "0  Thoppil, John E.@93541  \n",
       "1       Joseph, Roy@93544  \n",
       "2        Jose, K P.@93542  \n",
       "3         Aruna, A.@93543  \n",
       "4      George, Rose@93596  \n",
       "\n",
       "[5 rows x 24 columns]"
      ]
     },
     "execution_count": 14,
     "metadata": {},
     "output_type": "execute_result"
    }
   ],
   "source": [
    "ment.head()"
   ]
  },
  {
   "cell_type": "code",
   "execution_count": 7,
   "metadata": {},
   "outputs": [],
   "source": [
    "def find_number(text):\n",
    "    text=str(text)\n",
    "    num = re.findall(r'\\d+',text)\n",
    "    num=sorted(num)\n",
    "    return tuple(num)"
   ]
  },
  {
   "cell_type": "code",
   "execution_count": 8,
   "metadata": {},
   "outputs": [],
   "source": [
    "ment['ddc_code']=ment['dc.subject.ddc'].apply(lambda x:find_number(x))"
   ]
  },
  {
   "cell_type": "code",
   "execution_count": 9,
   "metadata": {},
   "outputs": [],
   "source": [
    "#pd.unique(ment['ddc_code'])"
   ]
  },
  {
   "cell_type": "code",
   "execution_count": 15,
   "metadata": {},
   "outputs": [],
   "source": [
    "sim_adv=ment.groupby(['advisor_name','instituteId'], as_index=False)[['advId','dc.subject.ddc','ddc_code']].agg(lambda x: list(x)).copy()"
   ]
  },
  {
   "cell_type": "code",
   "execution_count": 16,
   "metadata": {},
   "outputs": [
    {
     "data": {
      "text/html": [
       "<div>\n",
       "<style scoped>\n",
       "    .dataframe tbody tr th:only-of-type {\n",
       "        vertical-align: middle;\n",
       "    }\n",
       "\n",
       "    .dataframe tbody tr th {\n",
       "        vertical-align: top;\n",
       "    }\n",
       "\n",
       "    .dataframe thead th {\n",
       "        text-align: right;\n",
       "    }\n",
       "</style>\n",
       "<table border=\"1\" class=\"dataframe\">\n",
       "  <thead>\n",
       "    <tr style=\"text-align: right;\">\n",
       "      <th></th>\n",
       "      <th>advisor_name</th>\n",
       "      <th>instituteId</th>\n",
       "      <th>advId</th>\n",
       "      <th>dc.subject.ddc</th>\n",
       "      <th>ddc_code</th>\n",
       "    </tr>\n",
       "  </thead>\n",
       "  <tbody>\n",
       "    <tr>\n",
       "      <th>0</th>\n",
       "      <td>A, Biyabani S.</td>\n",
       "      <td>I295</td>\n",
       "      <td>[39333, 39333, 39333]</td>\n",
       "      <td>[800::Literature &amp; rhetoric|890::Literatures o...</td>\n",
       "      <td>[('800', '890', '891'), ('800', '890', '891'),...</td>\n",
       "    </tr>\n",
       "    <tr>\n",
       "      <th>1</th>\n",
       "      <td>A, Chandrasekar</td>\n",
       "      <td>I363</td>\n",
       "      <td>[81509]</td>\n",
       "      <td>[000::Computer science, information &amp; general ...</td>\n",
       "      <td>[('000', '004')]</td>\n",
       "    </tr>\n",
       "    <tr>\n",
       "      <th>2</th>\n",
       "      <td>A, Ishwara Bhat</td>\n",
       "      <td>I73</td>\n",
       "      <td>[13319]</td>\n",
       "      <td>[500::Natural sciences &amp; mathematics|580::Plan...</td>\n",
       "      <td>[('500', '580')]</td>\n",
       "    </tr>\n",
       "    <tr>\n",
       "      <th>3</th>\n",
       "      <td>A, Kalaiselvan</td>\n",
       "      <td>I250</td>\n",
       "      <td>[89656]</td>\n",
       "      <td>[300::Social sciences]</td>\n",
       "      <td>[('300',)]</td>\n",
       "    </tr>\n",
       "    <tr>\n",
       "      <th>4</th>\n",
       "      <td>A, Kumaravel</td>\n",
       "      <td>I250</td>\n",
       "      <td>[7859]</td>\n",
       "      <td>[600::Technology|620::Engineering &amp; allied ope...</td>\n",
       "      <td>[('600', '620')]</td>\n",
       "    </tr>\n",
       "  </tbody>\n",
       "</table>\n",
       "</div>"
      ],
      "text/plain": [
       "      advisor_name instituteId                  advId  \\\n",
       "0   A, Biyabani S.        I295  [39333, 39333, 39333]   \n",
       "1  A, Chandrasekar        I363                [81509]   \n",
       "2  A, Ishwara Bhat         I73                [13319]   \n",
       "3   A, Kalaiselvan        I250                [89656]   \n",
       "4     A, Kumaravel        I250                 [7859]   \n",
       "\n",
       "                                      dc.subject.ddc  \\\n",
       "0  [800::Literature & rhetoric|890::Literatures o...   \n",
       "1  [000::Computer science, information & general ...   \n",
       "2  [500::Natural sciences & mathematics|580::Plan...   \n",
       "3                             [300::Social sciences]   \n",
       "4  [600::Technology|620::Engineering & allied ope...   \n",
       "\n",
       "                                            ddc_code  \n",
       "0  [('800', '890', '891'), ('800', '890', '891'),...  \n",
       "1                                   [('000', '004')]  \n",
       "2                                   [('500', '580')]  \n",
       "3                                         [('300',)]  \n",
       "4                                   [('600', '620')]  "
      ]
     },
     "execution_count": 16,
     "metadata": {},
     "output_type": "execute_result"
    }
   ],
   "source": [
    "sim_adv.head()"
   ]
  },
  {
   "cell_type": "code",
   "execution_count": 19,
   "metadata": {},
   "outputs": [],
   "source": [
    "a = sim_adv['advId'].apply(lambda x : 8438 in x)"
   ]
  },
  {
   "cell_type": "code",
   "execution_count": 21,
   "metadata": {},
   "outputs": [
    {
     "data": {
      "text/html": [
       "<div>\n",
       "<style scoped>\n",
       "    .dataframe tbody tr th:only-of-type {\n",
       "        vertical-align: middle;\n",
       "    }\n",
       "\n",
       "    .dataframe tbody tr th {\n",
       "        vertical-align: top;\n",
       "    }\n",
       "\n",
       "    .dataframe thead th {\n",
       "        text-align: right;\n",
       "    }\n",
       "</style>\n",
       "<table border=\"1\" class=\"dataframe\">\n",
       "  <thead>\n",
       "    <tr style=\"text-align: right;\">\n",
       "      <th></th>\n",
       "      <th>advisor_name</th>\n",
       "      <th>instituteId</th>\n",
       "      <th>advId</th>\n",
       "      <th>dc.subject.ddc</th>\n",
       "      <th>ddc_code</th>\n",
       "    </tr>\n",
       "  </thead>\n",
       "  <tbody>\n",
       "    <tr>\n",
       "      <th>545</th>\n",
       "      <td>Adhya, T. K.</td>\n",
       "      <td>I75</td>\n",
       "      <td>[86019, 86019, 86019, 86019, 86019, 8438]</td>\n",
       "      <td>[500::Natural sciences &amp; mathematics|580::Plan...</td>\n",
       "      <td>[('500', '580'), ('500', '580'), ('500', '570'...</td>\n",
       "    </tr>\n",
       "  </tbody>\n",
       "</table>\n",
       "</div>"
      ],
      "text/plain": [
       "     advisor_name instituteId                                      advId  \\\n",
       "545  Adhya, T. K.         I75  [86019, 86019, 86019, 86019, 86019, 8438]   \n",
       "\n",
       "                                        dc.subject.ddc  \\\n",
       "545  [500::Natural sciences & mathematics|580::Plan...   \n",
       "\n",
       "                                              ddc_code  \n",
       "545  [('500', '580'), ('500', '580'), ('500', '570'...  "
      ]
     },
     "execution_count": 21,
     "metadata": {},
     "output_type": "execute_result"
    }
   ],
   "source": [
    "sim_adv[a]"
   ]
  },
  {
   "cell_type": "code",
   "execution_count": 22,
   "metadata": {},
   "outputs": [],
   "source": [
    "sim_adv['advId']=sim_adv['advId'].apply(lambda x: set(x))"
   ]
  },
  {
   "cell_type": "code",
   "execution_count": 23,
   "metadata": {},
   "outputs": [],
   "source": [
    "sim_adv['dc.subject.ddc']=sim_adv['dc.subject.ddc'].apply(lambda x: set(x))"
   ]
  },
  {
   "cell_type": "code",
   "execution_count": 24,
   "metadata": {},
   "outputs": [],
   "source": [
    "sim_adv['ddc_code']=sim_adv['ddc_code'].apply(lambda x: set(x))"
   ]
  },
  {
   "cell_type": "code",
   "execution_count": 25,
   "metadata": {},
   "outputs": [],
   "source": [
    "sim_adv['count']=sim_adv['advId'].apply(lambda x: len(x))"
   ]
  },
  {
   "cell_type": "code",
   "execution_count": 26,
   "metadata": {},
   "outputs": [],
   "source": [
    "sim_adv1=sim_adv[sim_adv['count']>1].reset_index(drop=True).copy()"
   ]
  },
  {
   "cell_type": "code",
   "execution_count": 38,
   "metadata": {},
   "outputs": [],
   "source": [
    "sim_adv1['advId']=sim_adv1['advId'].apply(lambda x : sorted(x))"
   ]
  },
  {
   "cell_type": "code",
   "execution_count": 16,
   "metadata": {},
   "outputs": [],
   "source": [
    "# n_tup_list=[]\n",
    "# for tup in tup_set:\n",
    "#     if len(tup)==max_tup_size:\n",
    "#         n_tup_list.append(list(tup))\n",
    "#         continue\n",
    "#     else:\n",
    "#         tup_lst=list(tup)\n",
    "#         last_ele=tup_lst[-1]\n",
    "#         for i in range(len(tup_lst),max_tup_size):\n",
    "#             tup_lst.append(last_ele)\n",
    "#         n_tup_list.append(tup_lst)"
   ]
  },
  {
   "cell_type": "code",
   "execution_count": 27,
   "metadata": {},
   "outputs": [],
   "source": [
    "def get_distance(tup1, tup2):\n",
    "    list_list=[]\n",
    "    tup_tup=(tup1,tup2)\n",
    "    max_size=max(len(tup1),len(tup2))\n",
    "    for tup in tup_tup:\n",
    "        if len(tup) < max_size:\n",
    "            tup_lst=list(tup)\n",
    "            last_ele=tup_lst[-1]\n",
    "            for i in range(len(tup_lst),max_size):\n",
    "                tup_lst.append(last_ele)\n",
    "            list_list.append(tup_lst)\n",
    "        else:\n",
    "            list_list.append(list(tup))\n",
    "    #print(list_list)\n",
    "    tmp=[int(ele)-int(ele1) for ele, ele1 in zip(list_list[0],list_list[1])]\n",
    "    dist=abs(sum(tmp))\n",
    "    return dist"
   ]
  },
  {
   "cell_type": "code",
   "execution_count": 28,
   "metadata": {},
   "outputs": [],
   "source": [
    "def calc_dist_btw_advid(advid):\n",
    "    #print(advid)\n",
    "    tup_list=[]\n",
    "    for id1, id2 in itertools.combinations(advid,2):\n",
    "        tup1=eval(str(ddc_code_dict[id1]))\n",
    "        tup2=eval(str(ddc_code_dict[id2]))\n",
    "        tup1=tuple(a for a in tup1 if a!=\"\")\n",
    "        tup2=tuple(a for a in tup2 if a!=\"\")\n",
    "        if len(tup1)!=0 and len(tup2)!=0:\n",
    "            dist=get_distance(tup1,tup2)\n",
    "            tup_list.append((id1,id2,dist))\n",
    "        else:\n",
    "            continue\n",
    "    return tup_list"
   ]
  },
  {
   "cell_type": "code",
   "execution_count": 40,
   "metadata": {},
   "outputs": [
    {
     "data": {
      "text/html": [
       "<div>\n",
       "<style scoped>\n",
       "    .dataframe tbody tr th:only-of-type {\n",
       "        vertical-align: middle;\n",
       "    }\n",
       "\n",
       "    .dataframe tbody tr th {\n",
       "        vertical-align: top;\n",
       "    }\n",
       "\n",
       "    .dataframe thead th {\n",
       "        text-align: right;\n",
       "    }\n",
       "</style>\n",
       "<table border=\"1\" class=\"dataframe\">\n",
       "  <thead>\n",
       "    <tr style=\"text-align: right;\">\n",
       "      <th></th>\n",
       "      <th>advisor_name</th>\n",
       "      <th>instituteId</th>\n",
       "      <th>advId</th>\n",
       "      <th>dc.subject.ddc</th>\n",
       "      <th>ddc_code</th>\n",
       "      <th>count</th>\n",
       "      <th>dist</th>\n",
       "    </tr>\n",
       "  </thead>\n",
       "  <tbody>\n",
       "    <tr>\n",
       "      <th>32</th>\n",
       "      <td>Adhikari, Prabha</td>\n",
       "      <td>I316</td>\n",
       "      <td>[42274, 65184, 65396]</td>\n",
       "      <td>{300::Social sciences|330::Economics, 600::Tec...</td>\n",
       "      <td>{('600', '610'), ('300', '330'), ('500', '540'...</td>\n",
       "      <td>3</td>\n",
       "      <td>[(65184, 42274, 244), (65184, 65396, 896), (42...</td>\n",
       "    </tr>\n",
       "    <tr>\n",
       "      <th>39</th>\n",
       "      <td>Aditya, S.</td>\n",
       "      <td>I281</td>\n",
       "      <td>[22858, 24220, 24768]</td>\n",
       "      <td>{600::Technology, 600::Technology|660::Chemica...</td>\n",
       "      <td>{('600',), ('600', '660', '662'), ('500',)}</td>\n",
       "      <td>3</td>\n",
       "      <td>[(24768, 22858, 422), (24768, 24220, 122), (22...</td>\n",
       "    </tr>\n",
       "    <tr>\n",
       "      <th>57</th>\n",
       "      <td>Agarwal, S. R.</td>\n",
       "      <td>I224</td>\n",
       "      <td>[2229, 2717, 3713]</td>\n",
       "      <td>{900::History &amp; geography, 600::Technology|650...</td>\n",
       "      <td>{('600', '650', '658'), ('300', '330'), ('900',)}</td>\n",
       "      <td>3</td>\n",
       "      <td>[(3713, 2229, 948), (3713, 2717, 1170), (2229,...</td>\n",
       "    </tr>\n",
       "    <tr>\n",
       "      <th>58</th>\n",
       "      <td>Agarwal, Usha</td>\n",
       "      <td>I224</td>\n",
       "      <td>[1954, 1988, 2372]</td>\n",
       "      <td>{nan, 500::Natural sciences &amp; mathematics|580:...</td>\n",
       "      <td>{(), ('500', '580'), ('600', '610', '618')}</td>\n",
       "      <td>3</td>\n",
       "      <td>[(1988, 2372, 168)]</td>\n",
       "    </tr>\n",
       "    <tr>\n",
       "      <th>62</th>\n",
       "      <td>Aggarwal, Kk</td>\n",
       "      <td>I209</td>\n",
       "      <td>[3609, 4131, 84314]</td>\n",
       "      <td>{600::Technology, 600::Technology|660::Chemica...</td>\n",
       "      <td>{('600', '620', '621'), ('600', '660'), ('600'...</td>\n",
       "      <td>3</td>\n",
       "      <td>[(3609, 84314, 12), (3609, 4131, 108), (84314,...</td>\n",
       "    </tr>\n",
       "  </tbody>\n",
       "</table>\n",
       "</div>"
      ],
      "text/plain": [
       "        advisor_name instituteId                  advId  \\\n",
       "32  Adhikari, Prabha        I316  [42274, 65184, 65396]   \n",
       "39        Aditya, S.        I281  [22858, 24220, 24768]   \n",
       "57    Agarwal, S. R.        I224     [2229, 2717, 3713]   \n",
       "58     Agarwal, Usha        I224     [1954, 1988, 2372]   \n",
       "62      Aggarwal, Kk        I209    [3609, 4131, 84314]   \n",
       "\n",
       "                                       dc.subject.ddc  \\\n",
       "32  {300::Social sciences|330::Economics, 600::Tec...   \n",
       "39  {600::Technology, 600::Technology|660::Chemica...   \n",
       "57  {900::History & geography, 600::Technology|650...   \n",
       "58  {nan, 500::Natural sciences & mathematics|580:...   \n",
       "62  {600::Technology, 600::Technology|660::Chemica...   \n",
       "\n",
       "                                             ddc_code  count  \\\n",
       "32  {('600', '610'), ('300', '330'), ('500', '540'...      3   \n",
       "39        {('600',), ('600', '660', '662'), ('500',)}      3   \n",
       "57  {('600', '650', '658'), ('300', '330'), ('900',)}      3   \n",
       "58        {(), ('500', '580'), ('600', '610', '618')}      3   \n",
       "62  {('600', '620', '621'), ('600', '660'), ('600'...      3   \n",
       "\n",
       "                                                 dist  \n",
       "32  [(65184, 42274, 244), (65184, 65396, 896), (42...  \n",
       "39  [(24768, 22858, 422), (24768, 24220, 122), (22...  \n",
       "57  [(3713, 2229, 948), (3713, 2717, 1170), (2229,...  \n",
       "58                                [(1988, 2372, 168)]  \n",
       "62  [(3609, 84314, 12), (3609, 4131, 108), (84314,...  "
      ]
     },
     "execution_count": 40,
     "metadata": {},
     "output_type": "execute_result"
    }
   ],
   "source": [
    "sim_adv1[sim_adv1['count']==3].head()"
   ]
  },
  {
   "cell_type": "code",
   "execution_count": 41,
   "metadata": {},
   "outputs": [],
   "source": [
    "ddc_code_dict = dict(zip(ment['advId'], ment['ddc_code'])).copy()"
   ]
  },
  {
   "cell_type": "code",
   "execution_count": 42,
   "metadata": {},
   "outputs": [
    {
     "data": {
      "text/plain": [
       "('300', '370')"
      ]
     },
     "execution_count": 42,
     "metadata": {},
     "output_type": "execute_result"
    }
   ],
   "source": [
    "eval(str(ddc_code_dict[16548]))"
   ]
  },
  {
   "cell_type": "code",
   "execution_count": 21,
   "metadata": {},
   "outputs": [],
   "source": [
    "#sim_adv1=sim_adv1.loc[1:500]"
   ]
  },
  {
   "cell_type": "code",
   "execution_count": 22,
   "metadata": {},
   "outputs": [],
   "source": [
    "#sim_adv1"
   ]
  },
  {
   "cell_type": "code",
   "execution_count": 43,
   "metadata": {},
   "outputs": [],
   "source": [
    "sim_adv1['dist']=sim_adv1['advId'].apply(lambda x : calc_dist_btw_advid(x))"
   ]
  },
  {
   "cell_type": "code",
   "execution_count": 49,
   "metadata": {},
   "outputs": [
    {
     "data": {
      "text/plain": [
       "array([[list([4830, 4844, 6307, 7062]),\n",
       "        list([(4830, 4844, 348), (4830, 6307, 1608), (4830, 7062, 388), (4844, 6307, 830), (4844, 7062, 20), (6307, 7062, 810)])],\n",
       "       [list([28892, 33542, 78098, 79013]),\n",
       "        list([(28892, 78098, 340), (28892, 79013, 1006), (78098, 79013, 666)])],\n",
       "       [list([16490, 31716, 43091, 44378]),\n",
       "        list([(16490, 31716, 190), (16490, 43091, 30), (16490, 44378, 208), (31716, 43091, 220), (31716, 44378, 72), (43091, 44378, 268)])],\n",
       "       [list([16490, 31716, 43091, 44378]),\n",
       "        list([(16490, 31716, 190), (16490, 43091, 30), (16490, 44378, 208), (31716, 43091, 220), (31716, 44378, 72), (43091, 44378, 268)])],\n",
       "       [list([22346, 23290, 25535, 82965]),\n",
       "        list([(22346, 23290, 200), (22346, 25535, 190), (22346, 82965, 200), (23290, 25535, 210), (23290, 82965, 400), (25535, 82965, 590)])],\n",
       "       [list([22153, 22231, 23582, 82932]),\n",
       "        list([(22153, 22231, 192), (22153, 23582, 847), (22153, 82932, 792), (22231, 23582, 1039), (22231, 82932, 200), (23582, 82932, 1639)])],\n",
       "       [list([21088, 22242, 22901, 23584]),\n",
       "        list([(21088, 22242, 770), (21088, 22901, 370), (21088, 23584, 101), (22242, 22901, 200), (22242, 23584, 1039), (22901, 23584, 439)])],\n",
       "       [list([48312, 48565, 57326, 57688]),\n",
       "        list([(48312, 48565, 479), (48312, 57326, 1319), (48312, 57688, 1200), (48565, 57326, 1199), (48565, 57688, 1679), (57326, 57688, 119)])],\n",
       "       [list([20895, 22208, 25030, 35900]),\n",
       "        list([(20895, 22208, 100), (20895, 35900, 500), (22208, 35900, 400)])],\n",
       "       [list([22348, 23847, 24290, 26126]),\n",
       "        list([(22348, 23847, 1150), (22348, 24290, 390), (22348, 26126, 360), (23847, 24290, 760), (23847, 26126, 790), (24290, 26126, 30)])],\n",
       "       [list([1778, 3206, 3240, 3311]),\n",
       "        list([(1778, 3240, 185), (1778, 3311, 20), (3240, 3311, 145)])],\n",
       "       [list([20890, 24842, 25029, 27161]),\n",
       "        list([(20890, 24842, 1621), (20890, 25029, 1001), (20890, 27161, 754), (24842, 25029, 410), (24842, 27161, 867), (25029, 27161, 247)])],\n",
       "       [list([22654, 23743, 24387, 25234]),\n",
       "        list([(22654, 23743, 840), (22654, 24387, 40), (22654, 25234, 220), (23743, 24387, 400), (23743, 25234, 1060), (24387, 25234, 260)])],\n",
       "       [list([31048, 61258, 67451, 70584]),\n",
       "        list([(31048, 61258, 910), (31048, 67451, 720), (31048, 70584, 1510), (61258, 67451, 190), (61258, 70584, 300), (67451, 70584, 790)])],\n",
       "       [list([8511, 12145, 33016, 86021]),\n",
       "        list([(8511, 12145, 119), (8511, 86021, 710), (12145, 86021, 901)])],\n",
       "       [list([20924, 23793, 24161, 24347]),\n",
       "        list([(20924, 23793, 700), (20924, 24161, 340), (20924, 24347, 560), (23793, 24161, 1060), (23793, 24347, 840), (24161, 24347, 220)])],\n",
       "       [list([39915, 73138, 85297, 89246]),\n",
       "        list([(39915, 73138, 948), (39915, 85297, 292), (39915, 89246, 178), (73138, 85297, 820), (73138, 89246, 535), (85297, 89246, 285)])],\n",
       "       [list([21183, 22226, 22843, 23850]),\n",
       "        list([(21183, 22226, 730), (21183, 22843, 340), (21183, 23850, 420), (22226, 22843, 390), (22226, 23850, 1150), (22843, 23850, 760)])],\n",
       "       [list([80262, 80878, 81972, 87322]),\n",
       "        list([(80262, 80878, 1240), (80262, 81972, 478), (80262, 87322, 853), (80878, 81972, 762), (80878, 87322, 2093), (81972, 87322, 1331)])],\n",
       "       [list([37472, 61068, 67600, 67723]),\n",
       "        list([(37472, 61068, 128), (37472, 67600, 450), (37472, 67723, 410), (61068, 67600, 572), (61068, 67723, 492), (67600, 67723, 40)])],\n",
       "       [list([31729, 31825, 32005, 72600]),\n",
       "        list([(31729, 31825, 168), (31729, 32005, 208), (31729, 72600, 808), (31825, 32005, 20), (31825, 72600, 420), (32005, 72600, 400)])],\n",
       "       [list([5089, 5931, 7256, 7430]),\n",
       "        list([(5089, 5931, 1170), (5089, 7256, 173), (5089, 7430, 1846), (5931, 7256, 1913), (5931, 7430, 106), (7256, 7430, 2019)])],\n",
       "       [list([2710, 2938, 85410, 89256]),\n",
       "        list([(2710, 2938, 1782), (2710, 85410, 1424), (2710, 89256, 1894), (2938, 85410, 358), (2938, 89256, 112), (85410, 89256, 285)])],\n",
       "       [list([40054, 40317, 40619, 40786]),\n",
       "        list([(40054, 40317, 268), (40054, 40786, 438), (40317, 40786, 944)])],\n",
       "       [list([16415, 31866, 32134, 72599]),\n",
       "        list([(16415, 31866, 10), (16415, 32134, 180), (16415, 72599, 410), (31866, 32134, 190), (31866, 72599, 400), (32134, 72599, 590)])],\n",
       "       [list([20173, 30979, 37241, 46549]),\n",
       "        list([(20173, 30979, 1420), (20173, 37241, 950), (20173, 46549, 180), (30979, 37241, 470), (30979, 46549, 800), (37241, 46549, 1130)])],\n",
       "       [list([29448, 47064, 53925, 57293]),\n",
       "        list([(29448, 47064, 1833), (29448, 53925, 666), (29448, 57293, 1026), (47064, 53925, 801), (47064, 57293, 281), (53925, 57293, 360)])],\n",
       "       [list([47863, 47945, 58257, 60650]),\n",
       "        list([(47863, 47945, 388), (47863, 58257, 847), (47945, 58257, 459)])],\n",
       "       [list([26585, 28086, 34627, 41314]),\n",
       "        list([(26585, 28086, 761), (26585, 34627, 847), (26585, 41314, 519), (28086, 34627, 1608), (28086, 41314, 840), (34627, 41314, 328)])],\n",
       "       [list([19609, 42435, 55724, 82317]),\n",
       "        list([(19609, 42435, 220), (19609, 55724, 760), (19609, 82317, 370), (42435, 55724, 540), (42435, 82317, 590), (55724, 82317, 1130)])],\n",
       "       [list([19315, 20645, 26631, 34670]),\n",
       "        list([(19315, 20645, 410), (19315, 26631, 519), (19315, 34670, 328), (20645, 26631, 101), (20645, 34670, 948), (26631, 34670, 847)])],\n",
       "       [list([8731, 8778, 12647, 86043]),\n",
       "        list([(8731, 8778, 847), (8731, 12647, 100), (8731, 86043, 619), (8778, 12647, 947), (8778, 86043, 228), (12647, 86043, 719)])],\n",
       "       [list([8692, 12646, 85957, 86150]),\n",
       "        list([(8692, 12646, 100), (8692, 85957, 847), (8692, 86150, 619), (12646, 85957, 947), (12646, 86150, 719), (85957, 86150, 228)])],\n",
       "       [list([8063, 70826, 72979, 74364]),\n",
       "        list([(8063, 70826, 600), (8063, 72979, 1241), (8063, 74364, 970), (70826, 72979, 341), (70826, 74364, 370), (72979, 74364, 199)])],\n",
       "       [list([31691, 31942, 46839, 71591]),\n",
       "        list([(31691, 31942, 59), (31691, 46839, 180), (31691, 71591, 730), (31942, 46839, 319), (31942, 71591, 1119), (46839, 71591, 550)])],\n",
       "       [list([31699, 32084, 44366, 71592]),\n",
       "        list([(31699, 32084, 79), (31699, 44366, 170), (31699, 71592, 720), (32084, 44366, 319), (32084, 71592, 1119), (44366, 71592, 550)])],\n",
       "       [list([9031, 48804, 71795, 76245]),\n",
       "        list([(9031, 48804, 722), (9031, 71795, 1543), (9031, 76245, 850), (48804, 71795, 821), (48804, 76245, 578), (71795, 76245, 243)])],\n",
       "       [list([53615, 56807, 76861, 83876]),\n",
       "        list([(53615, 56807, 1420), (53615, 76861, 532), (53615, 83876, 540), (56807, 76861, 1608), (56807, 83876, 880), (76861, 83876, 248)])],\n",
       "       [list([32801, 32818, 69272, 76911]),\n",
       "        list([(32801, 32818, 400), (32801, 69272, 1681), (32801, 76911, 600), (32818, 69272, 481), (32818, 76911, 200), (69272, 76911, 119)])],\n",
       "       [list([8415, 8503, 8823, 85969]),\n",
       "        list([(8415, 8503, 720), (8415, 8823, 790), (8415, 85969, 279), (8503, 8823, 1510), (8503, 85969, 1319), (8823, 85969, 901)])],\n",
       "       [list([8774, 8825, 12051, 86130]),\n",
       "        list([(8774, 8825, 1508), (8774, 12051, 673), (8774, 86130, 228), (8825, 12051, 2181), (8825, 86130, 840), (12051, 86130, 901)])],\n",
       "       [list([8302, 8729, 8772, 86148]),\n",
       "        list([(8302, 8729, 1379), (8302, 8772, 532), (8302, 86148, 530), (8729, 8772, 847), (8729, 86148, 619), (8772, 86148, 228)])],\n",
       "       [list([8506, 12276, 12360, 86173]),\n",
       "        list([(8506, 12276, 710), (8506, 12360, 852), (8506, 86173, 730), (12276, 12360, 168), (12276, 86173, 20), (12360, 86173, 208)])],\n",
       "       [list([30216, 71017, 71031, 71056]),\n",
       "        list([(30216, 71017, 121), (30216, 71031, 557), (30216, 71056, 1677), (71017, 71031, 439), (71017, 71056, 1199), (71031, 71056, 760)])],\n",
       "       [list([20170, 30973, 47198, 61048]),\n",
       "        list([(20170, 30973, 1330), (20170, 47198, 730), (20170, 61048, 1352), (30973, 47198, 600), (30973, 61048, 608), (47198, 61048, 292)])],\n",
       "       [list([31706, 46832, 71593, 72811]),\n",
       "        list([(31706, 46832, 319), (31706, 71593, 1119), (31706, 72811, 39), (46832, 71593, 550), (46832, 72811, 190), (71593, 72811, 740)])],\n",
       "       [list([65189, 65295, 65334, 65361]),\n",
       "        list([(65189, 65295, 615), (65189, 65334, 1371), (65189, 65361, 431), (65295, 65334, 756), (65295, 65361, 184), (65334, 65361, 620)])],\n",
       "       [list([8382, 8545, 8821, 12827]),\n",
       "        list([(8382, 8545, 1070), (8382, 8821, 840), (8382, 12827, 420), (8545, 8821, 230), (8545, 12827, 650), (8821, 12827, 420)])],\n",
       "       [list([39273, 42072, 57117, 74482]),\n",
       "        list([(39273, 42072, 196), (39273, 57117, 500), (42072, 57117, 1196)])],\n",
       "       [list([46155, 46413, 56858, 60239]),\n",
       "        list([(46155, 46413, 2181), (46155, 56858, 2552), (46155, 60239, 1541), (46413, 56858, 370), (46413, 60239, 420), (56858, 60239, 490)])],\n",
       "       [list([8326, 8940, 12593, 86039]),\n",
       "        list([(8326, 8940, 460), (8326, 12593, 310), (8326, 86039, 50), (8940, 12593, 770), (8940, 86039, 410), (12593, 86039, 360)])],\n",
       "       [list([8250, 11921, 66971, 67021]),\n",
       "        list([(8250, 11921, 170), (8250, 66971, 90), (8250, 67021, 110), (11921, 66971, 260), (11921, 67021, 60), (66971, 67021, 100)])],\n",
       "       [list([48635, 62751, 63289, 64279]),\n",
       "        list([(48635, 62751, 5), (48635, 63289, 1525), (48635, 64279, 785), (62751, 63289, 1010), (62751, 64279, 540), (63289, 64279, 470)])],\n",
       "       [list([7640, 89304, 90118, 90808]),\n",
       "        list([(7640, 89304, 620), (7640, 90118, 1), (7640, 90808, 1216), (89304, 90118, 941), (89304, 90808, 596), (90118, 90808, 1833)])],\n",
       "       [list([80880, 81971, 87102, 87309]),\n",
       "        list([(80880, 81971, 662), (80880, 87102, 462), (80880, 87309, 315), (81971, 87102, 150), (81971, 87309, 347), (87102, 87309, 147)])],\n",
       "       [list([31698, 43084, 46831, 218904]),\n",
       "        list([(31698, 43084, 39), (31698, 46831, 190), (31698, 218904, 140), (43084, 46831, 319), (43084, 218904, 198), (46831, 218904, 230)])],\n",
       "       [list([23778, 25530, 26085, 35898]),\n",
       "        list([(23778, 25530, 1010), (23778, 26085, 840), (23778, 35898, 870), (25530, 26085, 170), (25530, 35898, 140), (26085, 35898, 30)])],\n",
       "       [list([45474, 67424, 67770, 77507]),\n",
       "        list([(45474, 67424, 388), (45474, 67770, 948), (45474, 77507, 847), (67424, 67770, 380), (67424, 77507, 459), (67770, 77507, 101)])],\n",
       "       [list([8056, 46664, 56887, 60373]),\n",
       "        list([(8056, 46664, 996), (8056, 56887, 194), (8056, 60373, 1194), (46664, 56887, 708), (46664, 60373, 792), (56887, 60373, 500)])],\n",
       "       [list([20902, 22171, 22955, 25625]),\n",
       "        list([(20902, 22171, 100), (20902, 22955, 300), (20902, 25625, 535), (22171, 22955, 200), (22171, 25625, 235), (22955, 25625, 365)])],\n",
       "       [list([21751, 22519, 23130, 24534]),\n",
       "        list([(21751, 22519, 146), (21751, 23130, 0), (21751, 24534, 478), (22519, 23130, 146), (22519, 24534, 624), (23130, 24534, 478)])],\n",
       "       [list([21051, 22240, 23249, 23516]),\n",
       "        list([(21051, 22240, 770), (21051, 23249, 370), (21051, 23516, 101), (22240, 23249, 200), (22240, 23516, 1039), (23249, 23516, 439)])],\n",
       "       [list([59327, 59520, 59934, 84030]),\n",
       "        list([(59327, 59520, 708), (59327, 59934, 130), (59327, 84030, 300), (59520, 59934, 868), (59520, 84030, 192), (59934, 84030, 730)])],\n",
       "       [list([79914, 80433, 80637, 87362]),\n",
       "        list([(79914, 80433, 1902), (79914, 80637, 479), (79914, 87362, 799), (80433, 80637, 1144), (80433, 87362, 704), (80637, 87362, 320)])],\n",
       "       [list([42831, 81355, 89096, 103813]),\n",
       "        list([(42831, 81355, 190), (42831, 89096, 540), (42831, 103813, 220), (81355, 89096, 730), (81355, 103813, 30), (89096, 103813, 760)])],\n",
       "       [list([47871, 47960, 58261, 60647]),\n",
       "        list([(47871, 47960, 388), (47871, 58261, 847), (47960, 58261, 459)])],\n",
       "       [list([80029, 80917, 85224, 87369]),\n",
       "        list([(80029, 80917, 957), (80029, 85224, 663), (80029, 87369, 1137), (80917, 85224, 1060), (80917, 87369, 140), (85224, 87369, 600)])],\n",
       "       [list([2607, 38678, 38901, 39187]),\n",
       "        list([(2607, 38678, 666), (2607, 38901, 360), (2607, 39187, 530), (38678, 38901, 1026), (38678, 39187, 1196), (38901, 39187, 170)])],\n",
       "       [list([250, 79939, 80593, 86961]),\n",
       "        list([(250, 79939, 341), (250, 80593, 1541), (250, 86961, 130), (79939, 80593, 1200), (79939, 86961, 181), (80593, 86961, 1381)])],\n",
       "       [list([19947, 50689, 83628, 83842]),\n",
       "        list([(19947, 50689, 1180), (19947, 83628, 1170), (19947, 83842, 720), (50689, 83628, 10), (50689, 83842, 460), (83628, 83842, 450)])],\n",
       "       [list([27500, 27891, 43563, 50651]),\n",
       "        list([(27500, 27891, 1757), (27500, 43563, 737), (27500, 50651, 118), (27891, 43563, 710), (27891, 50651, 1639), (43563, 50651, 619)])],\n",
       "       [list([2814, 50931, 52100, 83836]),\n",
       "        list([(2814, 50931, 570), (2814, 52100, 150), (2814, 83836, 190), (50931, 52100, 720), (50931, 83836, 760), (52100, 83836, 40)])],\n",
       "       [list([27544, 41830, 50399, 50804]),\n",
       "        list([(27544, 41830, 1001), (27544, 50399, 790), (27544, 50804, 760), (41830, 50399, 2181), (41830, 50804, 119), (50399, 50804, 1550)])],\n",
       "       [list([27582, 41895, 50707, 52057]),\n",
       "        list([(27582, 41895, 1520), (27582, 50707, 101), (27582, 52057, 459), (41895, 50707, 1621), (41895, 52057, 1061), (50707, 52057, 380)])],\n",
       "       [list([76820, 79910, 80270, 80879]),\n",
       "        list([(76820, 79910, 429), (76820, 80270, 538), (76820, 80879, 702), (79910, 80270, 120), (79910, 80879, 1360), (80270, 80879, 1240)])],\n",
       "       [list([2815, 27542, 50605, 160317]),\n",
       "        list([(2815, 27542, 220), (2815, 50605, 799), (2815, 160317, 190), (27542, 50605, 459), (27542, 160317, 30), (50605, 160317, 519)])],\n",
       "       [list([1864, 2359, 3236, 9516]),\n",
       "        list([(2359, 3236, 228), (2359, 9516, 248), (3236, 9516, 10)])],\n",
       "       [list([41811, 50618, 52467, 83643]),\n",
       "        list([(41811, 50618, 1520), (41811, 52467, 1061), (41811, 83643, 1641), (50618, 52467, 459), (50618, 83643, 121), (52467, 83643, 390)])],\n",
       "       [list([917, 37195, 46572, 47389]),\n",
       "        list([(917, 37195, 580), (917, 46572, 950), (917, 47389, 390), (37195, 46572, 370), (37195, 47389, 190), (46572, 47389, 560)])],\n",
       "       [list([41868, 50700, 52121, 53613]),\n",
       "        list([(41868, 50700, 1621), (41868, 52121, 1081), (41868, 53613, 141), (50700, 52121, 370), (50700, 53613, 990), (52121, 53613, 620)])],\n",
       "       [list([21603, 22202, 23786, 24590]),\n",
       "        list([(21603, 22202, 200), (21603, 23786, 800), (21603, 24590, 859), (22202, 23786, 600), (22202, 24590, 259), (23786, 24590, 1541)])],\n",
       "       [list([38903, 38997, 39084, 39185]),\n",
       "        list([(38903, 38997, 170), (38903, 39084, 1026), (38903, 39185, 190), (38997, 39084, 1196), (38997, 39185, 20), (39084, 39185, 1216)])],\n",
       "       [list([28788, 34561, 78419, 78655]),\n",
       "        list([(28788, 78419, 1021), (28788, 78655, 380), (78419, 78655, 1581)])],\n",
       "       [list([3362, 3410, 3429, 11233]),\n",
       "        list([(3362, 3410, 550), (3362, 3429, 930), (3362, 11233, 341), (3410, 3429, 380), (3410, 11233, 459), (3429, 11233, 1019)])],\n",
       "       [list([15324, 15497, 15582, 82896]),\n",
       "        list([(15324, 15497, 948), (15324, 15582, 847), (15324, 82896, 1868), (15497, 15582, 101), (15497, 82896, 610), (15582, 82896, 1021)])],\n",
       "       [list([15070, 46671, 46706, 56872]),\n",
       "        list([(15070, 46671, 1508), (15070, 46706, 981), (15070, 56872, 370), (46671, 46706, 527), (46671, 56872, 1646), (46706, 56872, 952)])]],\n",
       "      dtype=object)"
      ]
     },
     "execution_count": 49,
     "metadata": {},
     "output_type": "execute_result"
    }
   ],
   "source": [
    "sim_adv1[sim_adv1['count']==4][['advId','dist']].values"
   ]
  },
  {
   "cell_type": "code",
   "execution_count": 25,
   "metadata": {},
   "outputs": [],
   "source": [
    "#final_dict"
   ]
  },
  {
   "cell_type": "code",
   "execution_count": 26,
   "metadata": {},
   "outputs": [],
   "source": [
    "final_dict={}\n",
    "def combine_ids(args, ment):\n",
    "    global final_dict\n",
    "    for ele in args:\n",
    "        if ele[2] < 100:\n",
    "            if ele[0] not in final_dict:\n",
    "                final_dict[ele[0]]=ele[1]\n",
    "            elif final_dict[ele[0]] != ele[1]:\n",
    "                final_dict[ele[1]]=final_dict[ele[0]]\n",
    "                print(f\"case1:{ele}\")\n",
    "            else:\n",
    "                print(f\"case2:{ele}\")\n",
    "        else:\n",
    "            continue\n",
    "    return"
   ]
  },
  {
   "cell_type": "code",
   "execution_count": 54,
   "metadata": {},
   "outputs": [],
   "source": [
    "#modified\n",
    "final_dict={}\n",
    "def combine_ids(args, ment):\n",
    "    global final_dict\n",
    "    for ele in args:\n",
    "        if ele[2] < 100:\n",
    "            if ele[0] in final_dict:\n",
    "                final_dict[ele[0]].add(ele[1])\n",
    "                print(f\"case1:{ele}\")\n",
    "            elif ele[1] in final_dict:\n",
    "                final_dict[ele[1]].add(ele[0])\n",
    "                print(f\"case2:{ele}\")\n",
    "            else :#ele[0] not in final_dict and ele[1] not in final_dict\n",
    "                final_dict[ele[0]]= set()\n",
    "                final_dict[ele[0]].add(ele[1])  \n",
    "        else:\n",
    "            continue\n",
    "    return"
   ]
  },
  {
   "cell_type": "code",
   "execution_count": 55,
   "metadata": {},
   "outputs": [
    {
     "name": "stdout",
     "output_type": "stream",
     "text": [
      "case1:(16490, 43091, 30)\n",
      "case1:(31716, 44378, 72)\n",
      "case1:(22841, 24476, 27)\n",
      "case1:(22607, 24318, 40)\n",
      "case1:(10539, 10554, 30)\n",
      "case1:(12284, 86197, 90)\n",
      "case1:(12284, 86197, 90)\n",
      "case1:(31825, 32005, 20)\n",
      "case1:(36606, 50079, 30)\n",
      "case1:(36607, 64457, 30)\n",
      "case1:(63908, 73475, 8)\n",
      "case1:(22677, 24670, 87)\n",
      "case1:(22677, 24670, 87)\n",
      "case1:(31717, 32137, 8)\n",
      "case1:(88166, 88399, 0)\n",
      "case1:(8326, 86039, 50)\n",
      "case1:(8326, 86039, 50)\n",
      "case1:(7640, 90118, 1)\n",
      "case1:(7558, 90184, 20)\n",
      "case1:(23716, 26260, 44)\n",
      "case1:(7786, 93211, 20)\n",
      "case1:(36611, 50054, 10)\n",
      "case2:(52304, 52431, 70)\n",
      "case1:(50524, 83656, 19)\n"
     ]
    }
   ],
   "source": [
    "tmp=sim_adv1['dist'].apply(combine_ids,args=(ment,))"
   ]
  },
  {
   "cell_type": "code",
   "execution_count": 58,
   "metadata": {},
   "outputs": [],
   "source": [
    "final_list_list = []\n",
    "for key in final_dict:\n",
    "    final_list = []\n",
    "    final_list.append(key)\n",
    "    for value in final_dict[key]:\n",
    "        final_list.append(value)\n",
    "    final_list = sorted(final_list)\n",
    "    final_list_list.append(final_list)"
   ]
  },
  {
   "cell_type": "code",
   "execution_count": 60,
   "metadata": {},
   "outputs": [],
   "source": [
    "mod_final_dict = {}\n",
    "for values in final_list_list:\n",
    "    for i in range(len(values)-1):\n",
    "        mod_final_dict[values[i]] = values[i+1]"
   ]
  },
  {
   "cell_type": "code",
   "execution_count": 61,
   "metadata": {},
   "outputs": [
    {
     "data": {
      "text/plain": [
       "{8438: 86019,\n",
       " 3609: 84314,\n",
       " 4131: 84314,\n",
       " 44754: 57561,\n",
       " 17085: 68023,\n",
       " 4844: 7062,\n",
       " 5660: 6732,\n",
       " 36607: 64457,\n",
       " 16500: 32018,\n",
       " 15468: 76555,\n",
       " 81278: 81285,\n",
       " 39509: 40766,\n",
       " 16418: 31701,\n",
       " 80207: 85032,\n",
       " 16490: 43091,\n",
       " 31716: 44378,\n",
       " 8407: 12377,\n",
       " 4933: 50223,\n",
       " 24598: 25046,\n",
       " 21733: 23087,\n",
       " 36932: 37035,\n",
       " 40875: 77926,\n",
       " 80911: 85221,\n",
       " 22437: 25367,\n",
       " 22841: 24476,\n",
       " 32599: 69533,\n",
       " 4467: 74109,\n",
       " 34107: 56951,\n",
       " 22607: 24318,\n",
       " 23162: 23967,\n",
       " 57913: 57953,\n",
       " 32838: 69489,\n",
       " 21714: 22922,\n",
       " 22943: 24726,\n",
       " 24290: 26126,\n",
       " 77159: 82740,\n",
       " 5608: 11678,\n",
       " 84892: 85020,\n",
       " 8859: 12338,\n",
       " 23109: 24665,\n",
       " 1778: 3311,\n",
       " 22421: 24095,\n",
       " 21749: 24275,\n",
       " 22644: 24391,\n",
       " 21742: 23046,\n",
       " 23111: 23957,\n",
       " 25133: 26183,\n",
       " 23450: 24748,\n",
       " 22654: 24387,\n",
       " 19669: 49124,\n",
       " 32837: 69495,\n",
       " 10539: 10554,\n",
       " 20655: 81668,\n",
       " 12367: 86103,\n",
       " 12357: 86135,\n",
       " 12284: 86197,\n",
       " 22772: 24694,\n",
       " 23196: 24739,\n",
       " 8869: 86026,\n",
       " 32686: 69501,\n",
       " 32629: 32689,\n",
       " 24404: 24976,\n",
       " 43726: 48724,\n",
       " 19563: 77909,\n",
       " 25721: 27429,\n",
       " 10327: 10341,\n",
       " 34204: 67523,\n",
       " 80222: 84882,\n",
       " 23125: 23894,\n",
       " 4470: 15063,\n",
       " 21747: 22738,\n",
       " 21722: 23942,\n",
       " 40873: 77927,\n",
       " 23344: 24988,\n",
       " 22646: 26239,\n",
       " 67600: 67723,\n",
       " 10276: 10408,\n",
       " 44747: 57574,\n",
       " 22554: 23000,\n",
       " 11157: 76323,\n",
       " 31825: 32005,\n",
       " 16420: 158349,\n",
       " 53093: 61086,\n",
       " 21685: 23284,\n",
       " 84894: 85011,\n",
       " 36606: 50079,\n",
       " 16415: 31866,\n",
       " 950: 25725,\n",
       " 44474: 84641,\n",
       " 69597: 76195,\n",
       " 79574: 80228,\n",
       " 283: 75915,\n",
       " 80219: 84833,\n",
       " 63908: 73475,\n",
       " 5655: 6455,\n",
       " 4882: 6445,\n",
       " 38841: 39222,\n",
       " 47841: 153155,\n",
       " 42575: 64302,\n",
       " 31691: 31942,\n",
       " 31699: 32084,\n",
       " 70704: 71177,\n",
       " 16399: 31869,\n",
       " 941: 25746,\n",
       " 22829: 24659,\n",
       " 8239: 67134,\n",
       " 84921: 85012,\n",
       " 8460: 12340,\n",
       " 8397: 12303,\n",
       " 80212: 84955,\n",
       " 90330: 93259,\n",
       " 11250: 44251,\n",
       " 57245: 79755,\n",
       " 12276: 86173,\n",
       " 22677: 24670,\n",
       " 31717: 32137,\n",
       " 64188: 64511,\n",
       " 88166: 88399,\n",
       " 35806: 44257,\n",
       " 84958: 85025,\n",
       " 8863: 12295,\n",
       " 23291: 24661,\n",
       " 31931: 43068,\n",
       " 80380: 84837,\n",
       " 84913: 85026,\n",
       " 32003: 46828,\n",
       " 84983: 85028,\n",
       " 31915: 72811,\n",
       " 31706: 72811,\n",
       " 22814: 24148,\n",
       " 36627: 64449,\n",
       " 45884: 53775,\n",
       " 14159: 17187,\n",
       " 8326: 86039,\n",
       " 80359: 84829,\n",
       " 80357: 84995,\n",
       " 12900: 38242,\n",
       " 31707: 31940,\n",
       " 80317: 84836,\n",
       " 8250: 66971,\n",
       " 11921: 67021,\n",
       " 3123: 3262,\n",
       " 73247: 73271,\n",
       " 48635: 62751,\n",
       " 4959: 44249,\n",
       " 8005: 93113,\n",
       " 7640: 90118,\n",
       " 25740: 34082,\n",
       " 2559: 17110,\n",
       " 41448: 77890,\n",
       " 12927: 91364,\n",
       " 65548: 71195,\n",
       " 19300: 49120,\n",
       " 34142: 37277,\n",
       " 8750: 12218,\n",
       " 31698: 43084,\n",
       " 30201: 35201,\n",
       " 12286: 86165,\n",
       " 8906: 12310,\n",
       " 22918: 24300,\n",
       " 21236: 24603,\n",
       " 24383: 24729,\n",
       " 26085: 35898,\n",
       " 38053: 38911,\n",
       " 31863: 46830,\n",
       " 7558: 90184,\n",
       " 7565: 92237,\n",
       " 22669: 25820,\n",
       " 34254: 67676,\n",
       " 37401: 47175,\n",
       " 31993: 72823,\n",
       " 23716: 25718,\n",
       " 25718: 26260,\n",
       " 7786: 93211,\n",
       " 36611: 50054,\n",
       " 21751: 23130,\n",
       " 21232: 24970,\n",
       " 68310: 83230,\n",
       " 9250: 279243,\n",
       " 8319: 8877,\n",
       " 21670: 22853,\n",
       " 80203: 85006,\n",
       " 4932: 4957,\n",
       " 81355: 103813,\n",
       " 17155: 27038,\n",
       " 27498: 196625,\n",
       " 50689: 83628,\n",
       " 52100: 83836,\n",
       " 62474: 83640,\n",
       " 27516: 52779,\n",
       " 5005: 5726,\n",
       " 27542: 160317,\n",
       " 50620: 52781,\n",
       " 52304: 52431,\n",
       " 52431: 52441,\n",
       " 52071: 52441,\n",
       " 3236: 9516,\n",
       " 80110: 80484,\n",
       " 43554: 52309,\n",
       " 11966: 52084,\n",
       " 18244: 84395,\n",
       " 90287: 93083,\n",
       " 38997: 39185,\n",
       " 1412: 208335,\n",
       " 50524: 83656,\n",
       " 26469: 26470,\n",
       " 29204: 30599,\n",
       " 47357: 57558,\n",
       " 84850: 85003,\n",
       " 16398: 31751,\n",
       " 84902: 84998,\n",
       " 8255: 67140,\n",
       " 80350: 84993}"
      ]
     },
     "execution_count": 61,
     "metadata": {},
     "output_type": "execute_result"
    }
   ],
   "source": [
    "mod_final_dict"
   ]
  },
  {
   "cell_type": "code",
   "execution_count": 63,
   "metadata": {},
   "outputs": [],
   "source": [
    "#final_dict"
   ]
  },
  {
   "cell_type": "code",
   "execution_count": 28,
   "metadata": {},
   "outputs": [],
   "source": [
    "#ment[ment['advId']==54322][['advisor_name','dc.subject.ddc','uniq_ddc_across_dept','publisher_dept']].values"
   ]
  },
  {
   "cell_type": "code",
   "execution_count": 29,
   "metadata": {},
   "outputs": [],
   "source": [
    "#ment[ment['advId']==64167][['advisor_name','dc.subject.ddc','uniq_ddc_across_dept','publisher_dept']].values"
   ]
  },
  {
   "cell_type": "code",
   "execution_count": 64,
   "metadata": {},
   "outputs": [
    {
     "data": {
      "text/plain": [
       "213"
      ]
     },
     "execution_count": 64,
     "metadata": {},
     "output_type": "execute_result"
    }
   ],
   "source": [
    "len(mod_final_dict)"
   ]
  },
  {
   "cell_type": "code",
   "execution_count": 33,
   "metadata": {},
   "outputs": [
    {
     "data": {
      "text/plain": [
       "(76288,)"
      ]
     },
     "execution_count": 33,
     "metadata": {},
     "output_type": "execute_result"
    }
   ],
   "source": [
    "pd.unique(ment['advId']).shape"
   ]
  },
  {
   "cell_type": "code",
   "execution_count": 34,
   "metadata": {},
   "outputs": [
    {
     "data": {
      "text/plain": [
       "(192059,)"
      ]
     },
     "execution_count": 34,
     "metadata": {},
     "output_type": "execute_result"
    }
   ],
   "source": [
    "pd.unique(ment['resId']).shape"
   ]
  },
  {
   "cell_type": "code",
   "execution_count": 65,
   "metadata": {},
   "outputs": [],
   "source": [
    "ment['advId']=ment['advId'].replace(mod_final_dict)"
   ]
  },
  {
   "cell_type": "code",
   "execution_count": 67,
   "metadata": {},
   "outputs": [],
   "source": [
    "ment['resId']=ment['resId'].replace(mod_final_dict)"
   ]
  },
  {
   "cell_type": "code",
   "execution_count": 68,
   "metadata": {},
   "outputs": [],
   "source": [
    "ment['advisor_advId']=ment['advisor_name']+\"@\"+ment['advId'].map(str)\n",
    "ment['researcher_resId']=ment['researcher_name']+\"@\"+ment['resId'].map(str)"
   ]
  },
  {
   "cell_type": "code",
   "execution_count": 69,
   "metadata": {},
   "outputs": [],
   "source": [
    "#index file\n",
    "index_names=pd.unique(ment[['advisor_advId', 'researcher_resId']].values.ravel('K')).copy()\n",
    "name_index1=pd.DataFrame({'names_id':index_names})\n",
    "name_index1[['names','rid']]=name_index1['names_id'].str.split(\"@\",expand=True)\n",
    "name_index1['rid']=name_index1['rid'].map(int)\n",
    "name_index1=name_index1[['rid','names']]"
   ]
  },
  {
   "cell_type": "code",
   "execution_count": 70,
   "metadata": {},
   "outputs": [],
   "source": [
    "name_index2=name_index1.groupby(['rid'])['names'].apply(list).reset_index().copy()"
   ]
  },
  {
   "cell_type": "code",
   "execution_count": 71,
   "metadata": {},
   "outputs": [
    {
     "data": {
      "text/html": [
       "<div>\n",
       "<style scoped>\n",
       "    .dataframe tbody tr th:only-of-type {\n",
       "        vertical-align: middle;\n",
       "    }\n",
       "\n",
       "    .dataframe tbody tr th {\n",
       "        vertical-align: top;\n",
       "    }\n",
       "\n",
       "    .dataframe thead th {\n",
       "        text-align: right;\n",
       "    }\n",
       "</style>\n",
       "<table border=\"1\" class=\"dataframe\">\n",
       "  <thead>\n",
       "    <tr style=\"text-align: right;\">\n",
       "      <th></th>\n",
       "      <th>rid</th>\n",
       "      <th>names</th>\n",
       "    </tr>\n",
       "  </thead>\n",
       "  <tbody>\n",
       "    <tr>\n",
       "      <th>0</th>\n",
       "      <td>1</td>\n",
       "      <td>[Joy, C. M.]</td>\n",
       "    </tr>\n",
       "    <tr>\n",
       "      <th>1</th>\n",
       "      <td>4</td>\n",
       "      <td>[Joseph, K. K.]</td>\n",
       "    </tr>\n",
       "    <tr>\n",
       "      <th>2</th>\n",
       "      <td>5</td>\n",
       "      <td>[Thomas, E. M.]</td>\n",
       "    </tr>\n",
       "    <tr>\n",
       "      <th>3</th>\n",
       "      <td>6</td>\n",
       "      <td>[Francis, M. S.]</td>\n",
       "    </tr>\n",
       "    <tr>\n",
       "      <th>4</th>\n",
       "      <td>7</td>\n",
       "      <td>[Karmaly, K. A.]</td>\n",
       "    </tr>\n",
       "  </tbody>\n",
       "</table>\n",
       "</div>"
      ],
      "text/plain": [
       "   rid             names\n",
       "0    1      [Joy, C. M.]\n",
       "1    4   [Joseph, K. K.]\n",
       "2    5   [Thomas, E. M.]\n",
       "3    6  [Francis, M. S.]\n",
       "4    7  [Karmaly, K. A.]"
      ]
     },
     "execution_count": 71,
     "metadata": {},
     "output_type": "execute_result"
    }
   ],
   "source": [
    "name_index2.head()"
   ]
  },
  {
   "cell_type": "code",
   "execution_count": 72,
   "metadata": {},
   "outputs": [
    {
     "data": {
      "text/plain": [
       "array([[28,\n",
       "        list(['Kumar, N. Ajith', 'Ajith Kumar, N.', 'Ajithkumar, N.'])]],\n",
       "      dtype=object)"
      ]
     },
     "execution_count": 72,
     "metadata": {},
     "output_type": "execute_result"
    }
   ],
   "source": [
    "name_index2[name_index2[\"rid\"]==28].values"
   ]
  },
  {
   "cell_type": "code",
   "execution_count": 73,
   "metadata": {},
   "outputs": [],
   "source": [
    "#modified\n",
    "name_index2['names']=name_index2['names'].apply(lambda x : \"|\".join(x))"
   ]
  },
  {
   "cell_type": "code",
   "execution_count": 74,
   "metadata": {},
   "outputs": [],
   "source": [
    "ment.drop_duplicates(subset=['advId','resId','DepartmentId','instituteId','N_thesisId'], keep=\"first\", inplace=True)"
   ]
  },
  {
   "cell_type": "code",
   "execution_count": 75,
   "metadata": {},
   "outputs": [
    {
     "data": {
      "text/plain": [
       "(201477, 24)"
      ]
     },
     "execution_count": 75,
     "metadata": {},
     "output_type": "execute_result"
    }
   ],
   "source": [
    "ment.shape"
   ]
  },
  {
   "cell_type": "code",
   "execution_count": 76,
   "metadata": {},
   "outputs": [],
   "source": [
    "#name_index1.to_csv(folder+\"index_file1_v5_2.csv\", sep =\",\" , index=False)\n",
    "name_index2.to_csv(folder+\"index_file2_v5_2_4.csv\", sep =\",\" , index=False)\n",
    "ment.to_csv(folder+\"final_shodhganga_dataset_v5_2_4.csv\", sep =\",\" , index=False)"
   ]
  },
  {
   "cell_type": "code",
   "execution_count": 93,
   "metadata": {},
   "outputs": [],
   "source": [
    "#tuple(sorted([300]))"
   ]
  },
  {
   "cell_type": "code",
   "execution_count": 77,
   "metadata": {},
   "outputs": [
    {
     "data": {
      "text/plain": [
       "(73676,)"
      ]
     },
     "execution_count": 77,
     "metadata": {},
     "output_type": "execute_result"
    }
   ],
   "source": [
    "pd.unique(ment['advId']).shape"
   ]
  },
  {
   "cell_type": "code",
   "execution_count": 78,
   "metadata": {},
   "outputs": [
    {
     "data": {
      "text/plain": [
       "(192018,)"
      ]
     },
     "execution_count": 78,
     "metadata": {},
     "output_type": "execute_result"
    }
   ],
   "source": [
    "pd.unique(ment['resId']).shape"
   ]
  },
  {
   "cell_type": "code",
   "execution_count": 79,
   "metadata": {},
   "outputs": [
    {
     "data": {
      "text/plain": [
       "(40280, 2)"
      ]
     },
     "execution_count": 79,
     "metadata": {},
     "output_type": "execute_result"
    }
   ],
   "source": [
    "name_index1[name_index1['names'].duplicated()].shape"
   ]
  },
  {
   "cell_type": "code",
   "execution_count": 92,
   "metadata": {},
   "outputs": [
    {
     "data": {
      "text/plain": [
       "(276955, 2)"
      ]
     },
     "execution_count": 92,
     "metadata": {},
     "output_type": "execute_result"
    }
   ],
   "source": [
    "name_index1.shape"
   ]
  },
  {
   "cell_type": "code",
   "execution_count": 91,
   "metadata": {},
   "outputs": [
    {
     "data": {
      "text/plain": [
       "(256842, 2)"
      ]
     },
     "execution_count": 91,
     "metadata": {},
     "output_type": "execute_result"
    }
   ],
   "source": [
    "name_index2.shape #(259454, 2)(257053, 2)"
   ]
  },
  {
   "cell_type": "code",
   "execution_count": 81,
   "metadata": {},
   "outputs": [
    {
     "data": {
      "text/html": [
       "<div>\n",
       "<style scoped>\n",
       "    .dataframe tbody tr th:only-of-type {\n",
       "        vertical-align: middle;\n",
       "    }\n",
       "\n",
       "    .dataframe tbody tr th {\n",
       "        vertical-align: top;\n",
       "    }\n",
       "\n",
       "    .dataframe thead th {\n",
       "        text-align: right;\n",
       "    }\n",
       "</style>\n",
       "<table border=\"1\" class=\"dataframe\">\n",
       "  <thead>\n",
       "    <tr style=\"text-align: right;\">\n",
       "      <th></th>\n",
       "      <th>rid</th>\n",
       "      <th>names</th>\n",
       "    </tr>\n",
       "  </thead>\n",
       "  <tbody>\n",
       "    <tr>\n",
       "      <th>15</th>\n",
       "      <td>26</td>\n",
       "      <td>Joseph, Joy P.</td>\n",
       "    </tr>\n",
       "    <tr>\n",
       "      <th>16</th>\n",
       "      <td>27</td>\n",
       "      <td>Joy, C. M.</td>\n",
       "    </tr>\n",
       "    <tr>\n",
       "      <th>17</th>\n",
       "      <td>28</td>\n",
       "      <td>Kumar, N. Ajith|Ajith Kumar, N.|Ajithkumar, N.</td>\n",
       "    </tr>\n",
       "    <tr>\n",
       "      <th>18</th>\n",
       "      <td>29</td>\n",
       "      <td>Sebastian, P. A.</td>\n",
       "    </tr>\n",
       "    <tr>\n",
       "      <th>19</th>\n",
       "      <td>30</td>\n",
       "      <td>James, T. J.</td>\n",
       "    </tr>\n",
       "  </tbody>\n",
       "</table>\n",
       "</div>"
      ],
      "text/plain": [
       "    rid                                           names\n",
       "15   26                                  Joseph, Joy P.\n",
       "16   27                                      Joy, C. M.\n",
       "17   28  Kumar, N. Ajith|Ajith Kumar, N.|Ajithkumar, N.\n",
       "18   29                                Sebastian, P. A.\n",
       "19   30                                    James, T. J."
      ]
     },
     "execution_count": 81,
     "metadata": {},
     "output_type": "execute_result"
    }
   ],
   "source": [
    "name_index2.iloc[15:20]"
   ]
  },
  {
   "cell_type": "code",
   "execution_count": 82,
   "metadata": {},
   "outputs": [
    {
     "data": {
      "text/html": [
       "<div>\n",
       "<style scoped>\n",
       "    .dataframe tbody tr th:only-of-type {\n",
       "        vertical-align: middle;\n",
       "    }\n",
       "\n",
       "    .dataframe tbody tr th {\n",
       "        vertical-align: top;\n",
       "    }\n",
       "\n",
       "    .dataframe thead th {\n",
       "        text-align: right;\n",
       "    }\n",
       "</style>\n",
       "<table border=\"1\" class=\"dataframe\">\n",
       "  <thead>\n",
       "    <tr style=\"text-align: right;\">\n",
       "      <th></th>\n",
       "      <th>advisorId</th>\n",
       "      <th>researcherId</th>\n",
       "      <th>advId</th>\n",
       "      <th>resId</th>\n",
       "      <th>advisor_name</th>\n",
       "      <th>researcher_name</th>\n",
       "      <th>publisher_dept</th>\n",
       "      <th>DepartmentId</th>\n",
       "      <th>publisher_institution</th>\n",
       "      <th>instituteId</th>\n",
       "      <th>...</th>\n",
       "      <th>new_date_awarded</th>\n",
       "      <th>dc.date.awarded</th>\n",
       "      <th>dc.subject.ddc</th>\n",
       "      <th>uniq_ddc_across_dept</th>\n",
       "      <th>dc.description.abstract</th>\n",
       "      <th>dc.title.alternative</th>\n",
       "      <th>N_DepartmentId_1</th>\n",
       "      <th>ddc_code</th>\n",
       "      <th>advisor_advId</th>\n",
       "      <th>researcher_resId</th>\n",
       "    </tr>\n",
       "  </thead>\n",
       "  <tbody>\n",
       "    <tr>\n",
       "      <th>11586</th>\n",
       "      <td>4912</td>\n",
       "      <td>103862</td>\n",
       "      <td>4912</td>\n",
       "      <td>103862</td>\n",
       "      <td>Kesambi, D. D.</td>\n",
       "      <td>Mohammad, Shabbar</td>\n",
       "      <td>department of mathematics</td>\n",
       "      <td>D563</td>\n",
       "      <td>Aligarh Muslim University</td>\n",
       "      <td>I292</td>\n",
       "      <td>...</td>\n",
       "      <td>1943-07-01</td>\n",
       "      <td>NaN</td>\n",
       "      <td>500::Natural sciences &amp; mathematics|510::Mathe...</td>\n",
       "      <td>('500', '510')</td>\n",
       "      <td>NaN</td>\n",
       "      <td>NaN</td>\n",
       "      <td>D563</td>\n",
       "      <td>('500', '510')</td>\n",
       "      <td>Kesambi, D. D.@4912</td>\n",
       "      <td>Mohammad, Shabbar@103862</td>\n",
       "    </tr>\n",
       "  </tbody>\n",
       "</table>\n",
       "<p>1 rows × 24 columns</p>\n",
       "</div>"
      ],
      "text/plain": [
       "       advisorId  researcherId  advId   resId    advisor_name  \\\n",
       "11586       4912        103862   4912  103862  Kesambi, D. D.   \n",
       "\n",
       "         researcher_name             publisher_dept DepartmentId  \\\n",
       "11586  Mohammad, Shabbar  department of mathematics         D563   \n",
       "\n",
       "           publisher_institution instituteId  ... new_date_awarded  \\\n",
       "11586  Aligarh Muslim University        I292  ...       1943-07-01   \n",
       "\n",
       "      dc.date.awarded                                     dc.subject.ddc  \\\n",
       "11586             NaN  500::Natural sciences & mathematics|510::Mathe...   \n",
       "\n",
       "      uniq_ddc_across_dept dc.description.abstract dc.title.alternative  \\\n",
       "11586       ('500', '510')                     NaN                  NaN   \n",
       "\n",
       "      N_DepartmentId_1        ddc_code        advisor_advId  \\\n",
       "11586             D563  ('500', '510')  Kesambi, D. D.@4912   \n",
       "\n",
       "               researcher_resId  \n",
       "11586  Mohammad, Shabbar@103862  \n",
       "\n",
       "[1 rows x 24 columns]"
      ]
     },
     "execution_count": 82,
     "metadata": {},
     "output_type": "execute_result"
    }
   ],
   "source": [
    "ment[ment['advId']==4912]"
   ]
  },
  {
   "cell_type": "code",
   "execution_count": 89,
   "metadata": {},
   "outputs": [],
   "source": [
    "#ment[ment[\"advisor_name\"].str.contains('Adhya')]"
   ]
  },
  {
   "cell_type": "code",
   "execution_count": null,
   "metadata": {},
   "outputs": [],
   "source": []
  }
 ],
 "metadata": {
  "kernelspec": {
   "display_name": "Python 3",
   "language": "python",
   "name": "python3"
  },
  "language_info": {
   "codemirror_mode": {
    "name": "ipython",
    "version": 3
   },
   "file_extension": ".py",
   "mimetype": "text/x-python",
   "name": "python",
   "nbconvert_exporter": "python",
   "pygments_lexer": "ipython3",
   "version": "3.7.12"
  }
 },
 "nbformat": 4,
 "nbformat_minor": 4
}
