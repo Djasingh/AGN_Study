{
 "cells": [
  {
   "cell_type": "code",
   "execution_count": null,
   "metadata": {},
   "outputs": [],
   "source": [
    "import re\n",
    "import itertools\n",
    "import pandas as pd\n",
    "from tqdm import tqdm\n",
    "import pickle\n",
    "import json"
   ]
  },
  {
   "cell_type": "code",
   "execution_count": null,
   "metadata": {},
   "outputs": [],
   "source": [
    "folder='dataset_v5/v5_2/'"
   ]
  },
  {
   "cell_type": "code",
   "execution_count": 3,
   "metadata": {},
   "outputs": [],
   "source": [
    "def load_obj(name):\n",
    "    with open(name, 'rb') as f:\n",
    "        return pickle.load(f)"
   ]
  },
  {
   "cell_type": "code",
   "execution_count": 4,
   "metadata": {},
   "outputs": [],
   "source": [
    "def Merge(dict1, dict2):\n",
    "    res = {**dict1, **dict2}\n",
    "    return res"
   ]
  },
  {
   "cell_type": "code",
   "execution_count": 5,
   "metadata": {},
   "outputs": [],
   "source": [
    "ment=pd.read_csv(folder+\"/processed_sodhganga_mentorship_dept_rev_with_initial_ids.csv\",sep=\",\")"
   ]
  },
  {
   "cell_type": "code",
   "execution_count": 6,
   "metadata": {},
   "outputs": [
    {
     "data": {
      "text/plain": [
       "(205744, 25)"
      ]
     },
     "execution_count": 6,
     "metadata": {},
     "output_type": "execute_result"
    }
   ],
   "source": [
    "ment.shape"
   ]
  },
  {
   "cell_type": "code",
   "execution_count": 7,
   "metadata": {},
   "outputs": [],
   "source": [
    "#sim_names1 = load_obj(\"index_files4/0_100000.pkl\")"
   ]
  },
  {
   "cell_type": "code",
   "execution_count": 8,
   "metadata": {},
   "outputs": [],
   "source": [
    "sim_names1 = load_obj(folder+\"sn_0_50000.pkl\")\n",
    "sim_names2 = load_obj(folder+\"sn_49900_100000.pkl\")\n",
    "sim_names3 = load_obj(folder+\"sn_99900_200000.pkl\")\n",
    "sim_names4 = load_obj(folder+\"sn_199900_281655.pkl\")"
   ]
  },
  {
   "cell_type": "code",
   "execution_count": 9,
   "metadata": {},
   "outputs": [],
   "source": [
    "sim_names5 = load_obj(folder+\"sim_name_in_operator.pkl\")"
   ]
  },
  {
   "cell_type": "code",
   "execution_count": 10,
   "metadata": {},
   "outputs": [],
   "source": [
    "#sim_names1+sim_names5"
   ]
  },
  {
   "cell_type": "code",
   "execution_count": 11,
   "metadata": {},
   "outputs": [
    {
     "data": {
      "text/plain": [
       "('Goswami, Chandan', 86803, 'Goswami, Chandana', 86804)"
      ]
     },
     "execution_count": 11,
     "metadata": {},
     "output_type": "execute_result"
    }
   ],
   "source": [
    "sim_names5[0]"
   ]
  },
  {
   "cell_type": "code",
   "execution_count": null,
   "metadata": {},
   "outputs": [],
   "source": [
    "#sim_names2 = load_obj(\"index_files4/100000_200000.pkl\")"
   ]
  },
  {
   "cell_type": "code",
   "execution_count": null,
   "metadata": {},
   "outputs": [],
   "source": [
    "#sim_names3 = load_obj(\"index_files4/200000_281425.pkl\")"
   ]
  },
  {
   "cell_type": "code",
   "execution_count": null,
   "metadata": {},
   "outputs": [],
   "source": [
    "#sim_names3"
   ]
  },
  {
   "cell_type": "code",
   "execution_count": null,
   "metadata": {},
   "outputs": [],
   "source": [
    "#tmp1=Merge(sim_names1, sim_names2)"
   ]
  },
  {
   "cell_type": "code",
   "execution_count": null,
   "metadata": {},
   "outputs": [],
   "source": [
    "#final_names = Merge(tmp1, sim_names3)"
   ]
  },
  {
   "cell_type": "code",
   "execution_count": 12,
   "metadata": {},
   "outputs": [],
   "source": [
    "final_names=sim_names1 + sim_names2 + sim_names3 + sim_names4"
   ]
  },
  {
   "cell_type": "code",
   "execution_count": 13,
   "metadata": {},
   "outputs": [],
   "source": [
    "final_names1=final_names+sim_names5"
   ]
  },
  {
   "cell_type": "code",
   "execution_count": 14,
   "metadata": {},
   "outputs": [
    {
     "data": {
      "text/plain": [
       "27958"
      ]
     },
     "execution_count": 14,
     "metadata": {},
     "output_type": "execute_result"
    }
   ],
   "source": [
    "len(final_names)"
   ]
  },
  {
   "cell_type": "code",
   "execution_count": 15,
   "metadata": {},
   "outputs": [],
   "source": [
    "below_ten=[name for name in final_names if max(name[4:8]) <= 10]"
   ]
  },
  {
   "cell_type": "code",
   "execution_count": null,
   "metadata": {},
   "outputs": [],
   "source": [
    "#below_ten"
   ]
  },
  {
   "cell_type": "code",
   "execution_count": null,
   "metadata": {},
   "outputs": [],
   "source": [
    "#list(sim_names1.keys())[-5:]"
   ]
  },
  {
   "cell_type": "code",
   "execution_count": null,
   "metadata": {},
   "outputs": [],
   "source": [
    "#list(sim_names2.keys())[0:5]"
   ]
  },
  {
   "cell_type": "code",
   "execution_count": null,
   "metadata": {},
   "outputs": [],
   "source": [
    "#ment['advisorId']"
   ]
  },
  {
   "cell_type": "code",
   "execution_count": 17,
   "metadata": {},
   "outputs": [
    {
     "data": {
      "text/plain": [
       "29339"
      ]
     },
     "execution_count": 17,
     "metadata": {},
     "output_type": "execute_result"
    }
   ],
   "source": [
    "len(final_names1)"
   ]
  },
  {
   "cell_type": "code",
   "execution_count": null,
   "metadata": {},
   "outputs": [],
   "source": [
    "#final_names[-10:]"
   ]
  },
  {
   "cell_type": "code",
   "execution_count": 18,
   "metadata": {},
   "outputs": [],
   "source": [
    "ment = ment.sort_values(by=['advisorId','researcherId'])"
   ]
  },
  {
   "cell_type": "code",
   "execution_count": null,
   "metadata": {},
   "outputs": [],
   "source": [
    "# sim_dict={}\n",
    "# for key in final_names:\n",
    "#     sim_dict[(final_names[key][1],final_names[key][3])]=(final_names[key][0],final_names[key][2])"
   ]
  },
  {
   "cell_type": "code",
   "execution_count": null,
   "metadata": {},
   "outputs": [],
   "source": [
    "sim_dict=[]\n",
    "for key in final_names1:\n",
    "    tmp=ment[(ment['advisorId']==key[1])|(ment['researcherId']==key[1])]\n",
    "    inst = list(pd.unique(tmp['publisher_institution']))\n",
    "    dept = list(pd.unique(tmp['publisher_dept']))\n",
    "    sim_dict.append([key[0],key[1],inst,dept])\n",
    "    tmp=ment[(ment['advisorId']==key[3])|(ment['researcherId']==key[3])]\n",
    "    inst = list(pd.unique(tmp['publisher_institution']))\n",
    "    dept = list(pd.unique(tmp['publisher_dept']))\n",
    "    sim_dict.append([key[2],key[3],inst,dept])"
   ]
  },
  {
   "cell_type": "code",
   "execution_count": null,
   "metadata": {},
   "outputs": [],
   "source": [
    "sim_df=pd.DataFrame(sim_dict)"
   ]
  },
  {
   "cell_type": "code",
   "execution_count": null,
   "metadata": {},
   "outputs": [],
   "source": [
    "sim_df.to_csv(folder+\"/disambiguated_names.csv\",sep=\",\",index=False)"
   ]
  },
  {
   "cell_type": "code",
   "execution_count": null,
   "metadata": {},
   "outputs": [],
   "source": [
    "#sim_df.iloc[0:100].values"
   ]
  },
  {
   "cell_type": "code",
   "execution_count": null,
   "metadata": {},
   "outputs": [],
   "source": [
    "#sim_df.iloc[-100:].values"
   ]
  },
  {
   "cell_type": "code",
   "execution_count": null,
   "metadata": {},
   "outputs": [],
   "source": []
  },
  {
   "cell_type": "code",
   "execution_count": 19,
   "metadata": {},
   "outputs": [],
   "source": [
    "sim_dict1={}\n",
    "for key in final_names1:\n",
    "    if key[1]<key[3]:\n",
    "        sim_dict1[(key[1],key[3])]=(key[0],key[2])\n",
    "    else:\n",
    "        sim_dict1[(key[3],key[1])]=(key[2],key[0])"
   ]
  },
  {
   "cell_type": "code",
   "execution_count": 20,
   "metadata": {},
   "outputs": [
    {
     "data": {
      "text/plain": [
       "28386"
      ]
     },
     "execution_count": 20,
     "metadata": {},
     "output_type": "execute_result"
    }
   ],
   "source": [
    "len(sim_dict1)"
   ]
  },
  {
   "cell_type": "code",
   "execution_count": 21,
   "metadata": {},
   "outputs": [],
   "source": [
    "sorted_sim_dict=sorted(sim_dict1.items())"
   ]
  },
  {
   "cell_type": "code",
   "execution_count": null,
   "metadata": {},
   "outputs": [],
   "source": [
    "tuple(sorted((10,8)))"
   ]
  },
  {
   "cell_type": "code",
   "execution_count": null,
   "metadata": {},
   "outputs": [],
   "source": [
    "sorted_sim_dict[-5:]"
   ]
  },
  {
   "cell_type": "code",
   "execution_count": 22,
   "metadata": {},
   "outputs": [
    {
     "data": {
      "text/plain": [
       "28386"
      ]
     },
     "execution_count": 22,
     "metadata": {},
     "output_type": "execute_result"
    }
   ],
   "source": [
    "len(set(sorted_sim_dict))"
   ]
  },
  {
   "cell_type": "code",
   "execution_count": null,
   "metadata": {
    "scrolled": false
   },
   "outputs": [],
   "source": [
    "count=1\n",
    "for a in sorted_sim_dict:\n",
    "    if (a[1][0] in a[1][1]) or (a[1][1] in a[1][0]):\n",
    "        count+=1\n",
    "        print(a)"
   ]
  },
  {
   "cell_type": "code",
   "execution_count": null,
   "metadata": {},
   "outputs": [],
   "source": [
    "#ment[ment['researcherId']==201704]"
   ]
  },
  {
   "cell_type": "code",
   "execution_count": null,
   "metadata": {},
   "outputs": [],
   "source": [
    "((23082, 23433), ('Chatterjee, S. N.', 'Chatterjee, S.'))\n",
    "((23111, 23433), ('Chatterjee, S. D.', 'Chatterjee, S.'))\n",
    "((23353, 23409), ('Bhattacharya, S.', 'Bhattacharya, S. K.'))\n",
    "((23479, 26353), ('Bhattacharyya, S. P.', 'Bhattacharyya, S.'))\n",
    "((28450, 28466), ('Shanmugasundaram', 'Shanmugasundaramerb'))\n",
    "((28450, 30805), ('Shanmugasundaram', 'Shanmugasundaram E. R. S.'))\n",
    "((28462, 28472), ('Shanmugasundramerb', 'Shanmugasundram'))\n",
    "((37007, 37010), ('Chatterjee, N. C.', 'Chatterjee, N. C'))\n",
    "((37007, 37049), ('Chatterjee, N. C.', 'Chatterjee'))\n",
    "((37010, 37049), ('Chatterjee, N. C', 'Chatterjee'))\n",
    "((37013, 37049), ('Chatterjee, S. K.', 'Chatterjee'))\n",
    "((37032, 37049), ('Chatterjee, S. P.', 'Chatterjee'))\n",
    "((50010, 190725), ('Elangovan', 'Elangovan, P.'))\n",
    "((50010, 190784), ('Elangovan', 'Elangovan, M.'))\n",
    "((50010, 190893), ('Elangovan', 'Elangovan, R.'))"
   ]
  },
  {
   "cell_type": "code",
   "execution_count": null,
   "metadata": {},
   "outputs": [],
   "source": [
    "count"
   ]
  },
  {
   "cell_type": "code",
   "execution_count": null,
   "metadata": {},
   "outputs": [],
   "source": [
    "for a in sorted_sim_dict:\n",
    "    if a[0][0]==85852 or a[0][1]==85852\t:\n",
    "        print(a)"
   ]
  },
  {
   "cell_type": "code",
   "execution_count": null,
   "metadata": {},
   "outputs": [],
   "source": [
    "#sorted_sim_dict[-1000:]"
   ]
  },
  {
   "cell_type": "code",
   "execution_count": 23,
   "metadata": {},
   "outputs": [],
   "source": [
    "ment['advId'] = ment['advisorId']\n",
    "ment['resId'] = ment['researcherId']"
   ]
  },
  {
   "cell_type": "code",
   "execution_count": 24,
   "metadata": {},
   "outputs": [],
   "source": [
    "tmp_dict={}\n",
    "for a in sorted_sim_dict:\n",
    "    if a[0][0] in tmp_dict and a[0][1] in tmp_dict:\n",
    "        ment.loc[ment['advId'].isin([tmp_dict[a[0][0]],tmp_dict[a[0][1]]]),'advId']= tmp_dict[a[0][0]]\n",
    "        ment.loc[ment['resId'].isin([tmp_dict[a[0][0]],tmp_dict[a[0][1]]]),'resId']= tmp_dict[a[0][0]]\n",
    "    elif a[0][0] in tmp_dict:\n",
    "        ment.loc[ment['advId'].isin([tmp_dict[a[0][0]],a[0][1]]),'advId']= tmp_dict[a[0][0]]\n",
    "        ment.loc[ment['resId'].isin([tmp_dict[a[0][0]],a[0][1]]),'resId']= tmp_dict[a[0][0]]\n",
    "    elif a[0][1] in tmp_dict:\n",
    "        ment.loc[ment['advId'].isin([a[0][0],tmp_dict[a[0][1]]]),'advId']= a[0][0]\n",
    "        ment.loc[ment['resId'].isin([a[0][0],tmp_dict[a[0][1]]]),'resId']= a[0][0]\n",
    "    else:\n",
    "        tmp_dict[a[0][1]]=a[0][0]\n",
    "        ment.loc[ment['advId'].isin([a[0][0],a[0][1]]),'advId']= a[0][0]\n",
    "        ment.loc[ment['resId'].isin([a[0][0],a[0][1]]),'resId']= a[0][0]"
   ]
  },
  {
   "cell_type": "code",
   "execution_count": null,
   "metadata": {},
   "outputs": [],
   "source": [
    "#tmp_dict"
   ]
  },
  {
   "cell_type": "code",
   "execution_count": null,
   "metadata": {
    "scrolled": false
   },
   "outputs": [],
   "source": [
    "# nelg=0\n",
    "# for a in sorted_sim_dict:\n",
    "#     if a[0][0] in ment['resId'].values and a[0][1] in ment['resId'].values:\n",
    "#         nelg+=1\n",
    "#     else:\n",
    "#         ment.loc[ment['advId'].isin(a[0]),'advId']= max(a[0])\n",
    "#         ment.loc[ment['resId'].isin(a[0]),'resId']= max(a[0])"
   ]
  },
  {
   "cell_type": "code",
   "execution_count": null,
   "metadata": {},
   "outputs": [],
   "source": [
    "#folder+\"shodhganga_ment_with_disamb_ids.csv\""
   ]
  },
  {
   "cell_type": "code",
   "execution_count": 25,
   "metadata": {},
   "outputs": [],
   "source": [
    "ment.to_csv(folder+\"shodhganga_ment_with_disamb_ids.csv\",sep=\",\", index=False)"
   ]
  },
  {
   "cell_type": "code",
   "execution_count": 26,
   "metadata": {},
   "outputs": [
    {
     "data": {
      "text/plain": [
       "(2825,)"
      ]
     },
     "execution_count": 26,
     "metadata": {},
     "output_type": "execute_result"
    }
   ],
   "source": [
    "pd.unique(ment['publisher_dept']).shape"
   ]
  },
  {
   "cell_type": "code",
   "execution_count": 27,
   "metadata": {},
   "outputs": [
    {
     "data": {
      "text/plain": [
       "(1440,)"
      ]
     },
     "execution_count": 27,
     "metadata": {},
     "output_type": "execute_result"
    }
   ],
   "source": [
    "pd.unique(ment['DepartmentId']).shape"
   ]
  },
  {
   "cell_type": "code",
   "execution_count": 28,
   "metadata": {},
   "outputs": [
    {
     "data": {
      "text/plain": [
       "(191766,)"
      ]
     },
     "execution_count": 28,
     "metadata": {},
     "output_type": "execute_result"
    }
   ],
   "source": [
    "pd.unique(ment['researcherId']).shape"
   ]
  },
  {
   "cell_type": "code",
   "execution_count": 29,
   "metadata": {},
   "outputs": [
    {
     "data": {
      "text/plain": [
       "(188271,)"
      ]
     },
     "execution_count": 29,
     "metadata": {},
     "output_type": "execute_result"
    }
   ],
   "source": [
    "pd.unique(ment['resId']).shape"
   ]
  },
  {
   "cell_type": "code",
   "execution_count": 30,
   "metadata": {},
   "outputs": [
    {
     "data": {
      "text/plain": [
       "(93541,)"
      ]
     },
     "execution_count": 30,
     "metadata": {},
     "output_type": "execute_result"
    }
   ],
   "source": [
    "pd.unique(ment['advisorId']).shape"
   ]
  },
  {
   "cell_type": "code",
   "execution_count": 31,
   "metadata": {},
   "outputs": [
    {
     "data": {
      "text/plain": [
       "(76840,)"
      ]
     },
     "execution_count": 31,
     "metadata": {},
     "output_type": "execute_result"
    }
   ],
   "source": [
    "pd.unique(ment['advId']).shape"
   ]
  },
  {
   "cell_type": "code",
   "execution_count": 32,
   "metadata": {},
   "outputs": [
    {
     "data": {
      "text/plain": [
       "Index(['advisorId', 'researcherId', 'advisor_name', 'researcher_name',\n",
       "       'dc.language.iso[]', 'publisher_dept', 'DepartmentId',\n",
       "       'publisher_institution', 'instituteId', 'title', 'thesisId',\n",
       "       'dc.type.degree', 'date_submitted', 'dc.date.awarded', 'dc.subject.ddc',\n",
       "       'dc.description.abstract', 'dc.title.alternative',\n",
       "       'uniq_ddc_across_dept', 'N_DepartmentId_1', 'N_DepartmentId',\n",
       "       'previous_advisor_name', 'advisor_inst_dept', 'res_inst_dept',\n",
       "       'adv_names_rid', 'res_names_rid', 'advId', 'resId'],\n",
       "      dtype='object')"
      ]
     },
     "execution_count": 32,
     "metadata": {},
     "output_type": "execute_result"
    }
   ],
   "source": [
    "ment.columns"
   ]
  },
  {
   "cell_type": "code",
   "execution_count": 35,
   "metadata": {},
   "outputs": [
    {
     "data": {
      "text/plain": [
       "advId  publisher_dept                                                                          \n",
       "11     department of sacred heart college                                                          8\n",
       "28     department of economics                                                                     7\n",
       "66784  department of n.s.s. hindu college                                                          6\n",
       "74845  department of hindi                                                                         1\n",
       "28     department of sacred heart college(thevara).departments of economics and research centre    1\n",
       "       department of sacred heart college(thevara). department of economics and research centre    1\n",
       "       department of economics and research centre                                                 1\n",
       "dtype: int64"
      ]
     },
     "execution_count": 35,
     "metadata": {},
     "output_type": "execute_result"
    }
   ],
   "source": [
    "ment[(ment['advisor_name'].str.contains('Ajith')) & (ment['instituteId']=='I251')][['advId','publisher_dept']].value_counts()#['publisher_dept'].values"
   ]
  },
  {
   "cell_type": "code",
   "execution_count": null,
   "metadata": {},
   "outputs": [],
   "source": [
    "#ment[(ment['advisor_name'].str.contains('Ajith')) & (ment['instituteId']=='I251')][['publisher_dept',\"dc.subject.ddc\"]].value_counts()"
   ]
  },
  {
   "cell_type": "code",
   "execution_count": null,
   "metadata": {},
   "outputs": [],
   "source": [
    "#ment[(ment['advisor_name'].str.contains('Ajith')) & (ment['instituteId']=='I251')]#[['advisorId','publisher_dept']].value_counts()#['publisher_dept'].values"
   ]
  },
  {
   "cell_type": "code",
   "execution_count": null,
   "metadata": {},
   "outputs": [],
   "source": [
    "#advisor_detail=ment.groupby(['advId','instituteId','DepartmentId'], as_index=False)[['advisor_name','publisher_dept','publisher_institution','date_submitted','title','dc.subject.ddc']].agg(lambda x: list(x))"
   ]
  },
  {
   "cell_type": "code",
   "execution_count": null,
   "metadata": {},
   "outputs": [],
   "source": [
    "#advisor_detail.shape"
   ]
  },
  {
   "cell_type": "code",
   "execution_count": null,
   "metadata": {},
   "outputs": [],
   "source": [
    "ment.columns"
   ]
  },
  {
   "cell_type": "code",
   "execution_count": 34,
   "metadata": {},
   "outputs": [
    {
     "data": {
      "text/html": [
       "<div>\n",
       "<style scoped>\n",
       "    .dataframe tbody tr th:only-of-type {\n",
       "        vertical-align: middle;\n",
       "    }\n",
       "\n",
       "    .dataframe tbody tr th {\n",
       "        vertical-align: top;\n",
       "    }\n",
       "\n",
       "    .dataframe thead th {\n",
       "        text-align: right;\n",
       "    }\n",
       "</style>\n",
       "<table border=\"1\" class=\"dataframe\">\n",
       "  <thead>\n",
       "    <tr style=\"text-align: right;\">\n",
       "      <th></th>\n",
       "      <th>advisorId</th>\n",
       "      <th>researcherId</th>\n",
       "      <th>advisor_name</th>\n",
       "      <th>researcher_name</th>\n",
       "      <th>dc.language.iso[]</th>\n",
       "      <th>publisher_dept</th>\n",
       "      <th>DepartmentId</th>\n",
       "      <th>publisher_institution</th>\n",
       "      <th>instituteId</th>\n",
       "      <th>title</th>\n",
       "      <th>...</th>\n",
       "      <th>uniq_ddc_across_dept</th>\n",
       "      <th>N_DepartmentId_1</th>\n",
       "      <th>N_DepartmentId</th>\n",
       "      <th>previous_advisor_name</th>\n",
       "      <th>advisor_inst_dept</th>\n",
       "      <th>res_inst_dept</th>\n",
       "      <th>adv_names_rid</th>\n",
       "      <th>res_names_rid</th>\n",
       "      <th>advId</th>\n",
       "      <th>resId</th>\n",
       "    </tr>\n",
       "  </thead>\n",
       "  <tbody>\n",
       "    <tr>\n",
       "      <th>201030</th>\n",
       "      <td>91434</td>\n",
       "      <td>277338</td>\n",
       "      <td>V. Rama Mohan Gupta, N. Devanna</td>\n",
       "      <td>Srikanth, K.</td>\n",
       "      <td>eng</td>\n",
       "      <td>department of pharmaceutical sciences</td>\n",
       "      <td>D1978</td>\n",
       "      <td>Jawaharlal Nehru Technological University, Ana...</td>\n",
       "      <td>I346</td>\n",
       "      <td>Selection of the best vesicular carrier system...</td>\n",
       "      <td>...</td>\n",
       "      <td>('600', '610', '615')</td>\n",
       "      <td>D1978</td>\n",
       "      <td>D1978</td>\n",
       "      <td>V. Rama Mohan Gupta, N. Devanna</td>\n",
       "      <td>V. Rama Mohan Gupta, N. Devanna@I346@D1978</td>\n",
       "      <td>Srikanth, K.@I346@D1978</td>\n",
       "      <td>V. Rama Mohan Gupta, N. Devanna@91434</td>\n",
       "      <td>Srikanth, K.@277338</td>\n",
       "      <td>91434</td>\n",
       "      <td>277338</td>\n",
       "    </tr>\n",
       "  </tbody>\n",
       "</table>\n",
       "<p>1 rows × 27 columns</p>\n",
       "</div>"
      ],
      "text/plain": [
       "        advisorId  researcherId                     advisor_name  \\\n",
       "201030      91434        277338  V. Rama Mohan Gupta, N. Devanna   \n",
       "\n",
       "       researcher_name dc.language.iso[]  \\\n",
       "201030    Srikanth, K.               eng   \n",
       "\n",
       "                               publisher_dept DepartmentId  \\\n",
       "201030  department of pharmaceutical sciences        D1978   \n",
       "\n",
       "                                    publisher_institution instituteId  \\\n",
       "201030  Jawaharlal Nehru Technological University, Ana...        I346   \n",
       "\n",
       "                                                    title  ...  \\\n",
       "201030  Selection of the best vesicular carrier system...  ...   \n",
       "\n",
       "         uniq_ddc_across_dept N_DepartmentId_1 N_DepartmentId  \\\n",
       "201030  ('600', '610', '615')            D1978          D1978   \n",
       "\n",
       "                  previous_advisor_name  \\\n",
       "201030  V. Rama Mohan Gupta, N. Devanna   \n",
       "\n",
       "                                 advisor_inst_dept            res_inst_dept  \\\n",
       "201030  V. Rama Mohan Gupta, N. Devanna@I346@D1978  Srikanth, K.@I346@D1978   \n",
       "\n",
       "                                adv_names_rid        res_names_rid  advId  \\\n",
       "201030  V. Rama Mohan Gupta, N. Devanna@91434  Srikanth, K.@277338  91434   \n",
       "\n",
       "         resId  \n",
       "201030  277338  \n",
       "\n",
       "[1 rows x 27 columns]"
      ]
     },
     "execution_count": 34,
     "metadata": {},
     "output_type": "execute_result"
    }
   ],
   "source": [
    "ment[ment['previous_advisor_name'].str.contains(\"V. Rama Mohan Gupta, N. Devanna\")]"
   ]
  },
  {
   "cell_type": "code",
   "execution_count": null,
   "metadata": {},
   "outputs": [],
   "source": [
    "#ment[ment['advId']==37049]"
   ]
  },
  {
   "cell_type": "code",
   "execution_count": null,
   "metadata": {},
   "outputs": [],
   "source": [
    "ment[ment['advisorId']==11864]"
   ]
  },
  {
   "cell_type": "code",
   "execution_count": null,
   "metadata": {},
   "outputs": [],
   "source": [
    "ment[ment['advisorId']==11871]"
   ]
  },
  {
   "cell_type": "code",
   "execution_count": null,
   "metadata": {},
   "outputs": [],
   "source": []
  }
 ],
 "metadata": {
  "kernelspec": {
   "display_name": "Python 3",
   "language": "python",
   "name": "python3"
  },
  "language_info": {
   "codemirror_mode": {
    "name": "ipython",
    "version": 3
   },
   "file_extension": ".py",
   "mimetype": "text/x-python",
   "name": "python",
   "nbconvert_exporter": "python",
   "pygments_lexer": "ipython3",
   "version": "3.7.12"
  }
 },
 "nbformat": 4,
 "nbformat_minor": 4
}
