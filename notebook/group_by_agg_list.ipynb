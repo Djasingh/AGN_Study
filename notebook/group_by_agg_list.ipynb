{
 "cells": [
  {
   "cell_type": "code",
   "execution_count": null,
   "metadata": {},
   "outputs": [],
   "source": [
    "advisor_details1=ment.groupby(['advisorId','advisor_name','dc.publisher.institution[]',\n",
    "                              'instituteId','dc.publisher.department[]', \n",
    "                              'DepartmentId'])['dc.date.submitted[]'].apply(list).reset_index(name='date').copy()"
   ]
  },
  {
   "cell_type": "code",
   "execution_count": null,
   "metadata": {},
   "outputs": [],
   "source": [
    "advisor_detail = ment.groupby(['advisorId','advisor_name','dc.publisher.institution[]','instituteId','dc.publisher.department[]',\n",
    "                               'DepartmentId']).apply(lambda x: [list(x['dc.date.submitted[]']),list(x['dc.title[]'])]).apply(pd.Series)"
   ]
  },
  {
   "cell_type": "code",
   "execution_count": null,
   "metadata": {},
   "outputs": [],
   "source": [
    "advisor_detail=ment.groupby(['advisorId','advisor_name','dc.publisher.institution[]','instituteId','dc.publisher.department[]',\n",
    "                               'DepartmentId'], as_index=False)[['dc.date.submitted[]','dc.title[]']].agg(lambda x: list(x))"
   ]
  }
 ],
 "metadata": {
  "kernelspec": {
   "display_name": "Python 3",
   "language": "python",
   "name": "python3"
  },
  "language_info": {
   "codemirror_mode": {
    "name": "ipython",
    "version": 3
   },
   "file_extension": ".py",
   "mimetype": "text/x-python",
   "name": "python",
   "nbconvert_exporter": "python",
   "pygments_lexer": "ipython3",
   "version": "3.6.9"
  }
 },
 "nbformat": 4,
 "nbformat_minor": 4
}
