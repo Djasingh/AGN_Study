{
 "cells": [
  {
   "cell_type": "code",
   "execution_count": 6,
   "metadata": {},
   "outputs": [],
   "source": [
    "import pandas as pd\n",
    "import networkx as nx\n",
    "import matplotlib.pyplot as plt\n",
    "import numpy as np\n",
    "from collections import Counter\n",
    "import random\n",
    "from tqdm import tqdm"
   ]
  },
  {
   "cell_type": "code",
   "execution_count": 2,
   "metadata": {},
   "outputs": [],
   "source": [
    "ment = pd.read_csv('Shodhganga_mentorship.csv', sep = \",\")"
   ]
  },
  {
   "cell_type": "code",
   "execution_count": null,
   "metadata": {},
   "outputs": [],
   "source": [
    "ment.columns"
   ]
  },
  {
   "cell_type": "code",
   "execution_count": 3,
   "metadata": {},
   "outputs": [],
   "source": [
    "ment= ment.fillna(\"NA\")"
   ]
  },
  {
   "cell_type": "code",
   "execution_count": 4,
   "metadata": {},
   "outputs": [],
   "source": [
    "uniq_adv_id = list(pd.unique(ment['advId_1']))"
   ]
  },
  {
   "cell_type": "code",
   "execution_count": null,
   "metadata": {},
   "outputs": [],
   "source": [
    "uniq_inst= list(pd.unique(ment[ment['advId_1']==1775]['instituteId']))"
   ]
  },
  {
   "cell_type": "code",
   "execution_count": 7,
   "metadata": {},
   "outputs": [
    {
     "name": "stderr",
     "output_type": "stream",
     "text": [
      "  0%|          | 123/68347 [01:43<5:09:40,  3.67it/s] /home/dja/Desktop/aft_dataset/venv/lib/python3.6/site-packages/pandas/core/strings.py:2001: UserWarning: This pattern has match groups. To actually get the groups, use str.extract.\n",
      "  return func(self, *args, **kwargs)\n",
      "100%|██████████| 68347/68347 [39:42:32<00:00,  2.09s/it]   \n"
     ]
    }
   ],
   "source": [
    "for uid in tqdm(uniq_adv_id, total=len(uniq_adv_id)):\n",
    "    tmp_adv = ment[ment['advId_1']==uid]\n",
    "    tmp_stud = ment[ment['advId_1']==uid]\n",
    "    uniq_inst= list(pd.unique(tmp_adv['instituteId']))\n",
    "    if len(uniq_inst)==1:\n",
    "        continue\n",
    "    else:\n",
    "        for inst in uniq_inst:\n",
    "            ment.loc[((ment['advId_1']==uid) & (ment['instituteId'] == inst)), 'advId_1'] = str(uid)+\"_\"+inst\n",
    "            as_stud_inst = ment[ment['studId_1']==uid]['instituteId'].values\n",
    "            if inst in as_stud_inst:\n",
    "                ment.loc[((ment['studId_1']==uid) & (ment['instituteId']==inst)),'studId_1']=str(uid)+\"_\"+inst\n",
    "            else:\n",
    "                continue\n",
    "        if not ment[ment['studId_1']==uid].empty:\n",
    "            commom_dept = set(ment[ment['advId_1'].str.contains(str(uid)+\"_\",na=False)]['DepartmentId']).intersection(ment[ment['studId_1']==uid]['DepartmentId'].values)\n",
    "            inst = ment[(ment['advId_1'].str.contains(str(uid)+\"_\", na=False)) & (ment['DepartmentId'].isin(commom_dept))]['instituteId'].values\n",
    "            if not ment[((ment['studId_1']==uid)& (ment['DepartmentId'].isin(commom_dept)))]['studId_1'].empty:\n",
    "                ment.loc[((ment['studId_1']==uid)& (ment['DepartmentId'].isin(commom_dept))),'studId_1']=str(uid)+\"_\"+inst[0]\n",
    "        if not ment[ment['studId_1']==uid].empty:\n",
    "            subject = ment[ment[\"studId_1\"]==uid]['dc.subject.ddc'].values\n",
    "            if len(subject) > 0:\n",
    "                insts = ment[(ment[\"advId_1\"].str.contains(str(uid)+\"_\",na=False)) & (ment['dc.subject.ddc'].str.contains(subject[0]))]['instituteId'].values\n",
    "                if len(insts) > 0:\n",
    "                    inst= random.choice(insts)\n",
    "                    if not ment[ment['studId_1']==uid].empty:\n",
    "                        ment.loc[ment['studId_1']==uid,'studId_1']=str(uid)+\"_\"+inst"
   ]
  },
  {
   "cell_type": "code",
   "execution_count": null,
   "metadata": {},
   "outputs": [],
   "source": [
    "set(ment[ment['studId_1']==1775]['instituteId']).intersection(list(ment[ment['advId_1'].str.contains(\"1775_\",na=False)]['instituteId']))"
   ]
  },
  {
   "cell_type": "code",
   "execution_count": null,
   "metadata": {},
   "outputs": [],
   "source": [
    "ment[ment['studId_1'].str.contains(\"1775\",na=False)]"
   ]
  },
  {
   "cell_type": "code",
   "execution_count": null,
   "metadata": {},
   "outputs": [],
   "source": [
    "subject = ment1[ment1[\"studId_1\"]==1775]['dc.subject.ddc'].values"
   ]
  },
  {
   "cell_type": "code",
   "execution_count": null,
   "metadata": {},
   "outputs": [],
   "source": [
    "import random"
   ]
  },
  {
   "cell_type": "code",
   "execution_count": null,
   "metadata": {},
   "outputs": [],
   "source": [
    "subject[0]"
   ]
  },
  {
   "cell_type": "code",
   "execution_count": null,
   "metadata": {
    "scrolled": true
   },
   "outputs": [],
   "source": [
    "random.choice(ment1[(ment1[\"advId_1\"]==1775) & (ment1['dc.subject.ddc'].str.contains(subject[0]))]['dc.publisher.institution[]'].values)"
   ]
  },
  {
   "cell_type": "code",
   "execution_count": null,
   "metadata": {},
   "outputs": [],
   "source": [
    "ment1[(ment1[\"advId_1\"]==1775) & (ment1['dc.subject.ddc'].str.contains(subject[0]))]['dc.publisher.institution[]'].value_counts()"
   ]
  },
  {
   "cell_type": "code",
   "execution_count": null,
   "metadata": {},
   "outputs": [],
   "source": [
    "commom_dept = set(ment[ment['advId_1'].str.contains(str(uid)+\"_\",na=False)]['DepartmentId']).intersection(ment[ment['studId_1']==uid]['DepartmentId'].values)"
   ]
  },
  {
   "cell_type": "code",
   "execution_count": null,
   "metadata": {},
   "outputs": [],
   "source": [
    "str(uid)+\"_\""
   ]
  },
  {
   "cell_type": "code",
   "execution_count": 8,
   "metadata": {},
   "outputs": [],
   "source": [
    "ment.to_csv('mod_shodhganag_ment.csv', index=False)"
   ]
  },
  {
   "cell_type": "code",
   "execution_count": null,
   "metadata": {},
   "outputs": [],
   "source": []
  }
 ],
 "metadata": {
  "kernelspec": {
   "display_name": "Python 3",
   "language": "python",
   "name": "python3"
  },
  "language_info": {
   "codemirror_mode": {
    "name": "ipython",
    "version": 3
   },
   "file_extension": ".py",
   "mimetype": "text/x-python",
   "name": "python",
   "nbconvert_exporter": "python",
   "pygments_lexer": "ipython3",
   "version": "3.6.9"
  }
 },
 "nbformat": 4,
 "nbformat_minor": 4
}
