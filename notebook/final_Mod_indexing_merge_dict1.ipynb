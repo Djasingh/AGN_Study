{
 "cells": [
  {
   "cell_type": "code",
   "execution_count": 1,
   "metadata": {},
   "outputs": [],
   "source": [
    "import re\n",
    "import itertools\n",
    "import pandas as pd\n",
    "from tqdm import tqdm\n",
    "import pickle\n",
    "import json\n",
    "import random"
   ]
  },
  {
   "cell_type": "code",
   "execution_count": 2,
   "metadata": {},
   "outputs": [],
   "source": [
    "folder = '../dataset_v5/v5_2/v5_2_2/'"
   ]
  },
  {
   "cell_type": "code",
   "execution_count": 3,
   "metadata": {},
   "outputs": [],
   "source": [
    "def load_obj(name):\n",
    "    with open(name, 'rb') as f:\n",
    "        data= pickle.load(f)\n",
    "    return data"
   ]
  },
  {
   "cell_type": "code",
   "execution_count": 4,
   "metadata": {},
   "outputs": [],
   "source": [
    "sim_names_1 = load_obj(\"../../similar_names/sn_0_256842.pkl\")"
   ]
  },
  {
   "cell_type": "code",
   "execution_count": 5,
   "metadata": {},
   "outputs": [],
   "source": [
    "sim_names_2 = load_obj(\"../../similar_names/sn_2_0_274927.pkl\")"
   ]
  },
  {
   "cell_type": "code",
   "execution_count": 5,
   "metadata": {},
   "outputs": [],
   "source": [
    "# thres = 11\n",
    "# sim_names_1_1 = [a for a in sim_names_1 if (a[8]>25 or any((a[4]>thres,a[5]>thres,a[6]>thres,a[7]>thres)))]\n",
    "# #final_names1 = [a for a in sim_names1 if (a[8]>29 or a[4] == 12 or a[5]== 12 or a[6]==12 or a[7]==12)]\n",
    "# final_names_1 = []\n",
    "# for name in sim_names_1_1:\n",
    "#     if name[1] != name[3]:\n",
    "#         final_names_1.append(name)\n",
    "#     else:\n",
    "#         continue"
   ]
  },
  {
   "cell_type": "code",
   "execution_count": 6,
   "metadata": {},
   "outputs": [],
   "source": [
    "# thres = 11\n",
    "# sim_names_2_1 = [a for a in sim_names_2 if (a[8]>25 or any((a[4]>thres,a[5]>thres,a[6]>thres,a[7]>thres)))]\n",
    "# #final_names1 = [a for a in sim_names1 if (a[8]>29 or a[4] == 12 or a[5]== 12 or a[6]==12 or a[7]==12)]\n",
    "# final_names_2 = []\n",
    "# for name in sim_names_2_1:\n",
    "#     if name[1] != name[3]:\n",
    "#         final_names_2.append(name)\n",
    "#     else:\n",
    "#         continue"
   ]
  },
  {
   "cell_type": "code",
   "execution_count": 29,
   "metadata": {},
   "outputs": [
    {
     "data": {
      "text/plain": [
       "984"
      ]
     },
     "execution_count": 29,
     "metadata": {},
     "output_type": "execute_result"
    }
   ],
   "source": [
    "len(final_names_2)"
   ]
  },
  {
   "cell_type": "code",
   "execution_count": 8,
   "metadata": {},
   "outputs": [
    {
     "data": {
      "text/plain": [
       "('SARAVANAN M',\n",
       " 282884,\n",
       " 'Saravanan S.',\n",
       " 34086,\n",
       " 4.714509803921569,\n",
       " 11.077908496732027,\n",
       " 5.72458925090504,\n",
       " 11.231879699248122,\n",
       " 0)"
      ]
     },
     "execution_count": 8,
     "metadata": {},
     "output_type": "execute_result"
    }
   ],
   "source": [
    "random.choice(final_names_2)"
   ]
  },
  {
   "cell_type": "code",
   "execution_count": 7,
   "metadata": {},
   "outputs": [],
   "source": [
    "ment=pd.read_csv(folder+\"final_shodhganga_dataset_v5_2_7_2.csv\",sep=\",\") #generating index only for given file"
   ]
  },
  {
   "cell_type": "code",
   "execution_count": 8,
   "metadata": {},
   "outputs": [
    {
     "data": {
      "text/plain": [
       "(201477, 24)"
      ]
     },
     "execution_count": 8,
     "metadata": {},
     "output_type": "execute_result"
    }
   ],
   "source": [
    "ment.shape"
   ]
  },
  {
   "cell_type": "code",
   "execution_count": 9,
   "metadata": {},
   "outputs": [],
   "source": [
    "ment = ment.sort_values(by=['advId','resId'])"
   ]
  },
  {
   "cell_type": "code",
   "execution_count": 12,
   "metadata": {},
   "outputs": [],
   "source": [
    "# final_names_cocat = final_names_1+final_names_2"
   ]
  },
  {
   "cell_type": "code",
   "execution_count": 13,
   "metadata": {},
   "outputs": [],
   "source": [
    "# sim_dict1={}\n",
    "# for key in final_names_cocat:\n",
    "#     if key[1]<key[3]:\n",
    "#         sim_dict1[(key[1],key[3])]=(key[0],key[2])\n",
    "#     else:\n",
    "#         sim_dict1[(key[3],key[1])]=(key[2],key[0])\n",
    "# sorted_sim_dict=sorted(sim_dict1.items())"
   ]
  },
  {
   "cell_type": "code",
   "execution_count": 14,
   "metadata": {},
   "outputs": [],
   "source": [
    "# tmp_dict={}\n",
    "# for a in sorted_sim_dict:\n",
    "#     if a[0][0] in tmp_dict and a[0][1] in tmp_dict:\n",
    "#         ment.loc[ment['advId'].isin([tmp_dict[a[0][0]],tmp_dict[a[0][1]]]),'advId']= tmp_dict[a[0][0]]\n",
    "#         ment.loc[ment['resId'].isin([tmp_dict[a[0][0]],tmp_dict[a[0][1]]]),'resId']= tmp_dict[a[0][0]]\n",
    "#     elif a[0][0] in tmp_dict:\n",
    "#         ment.loc[ment['advId'].isin([tmp_dict[a[0][0]],a[0][1]]),'advId']= tmp_dict[a[0][0]]\n",
    "#         ment.loc[ment['resId'].isin([tmp_dict[a[0][0]],a[0][1]]),'resId']= tmp_dict[a[0][0]]\n",
    "#     elif a[0][1] in tmp_dict:\n",
    "#         ment.loc[ment['advId'].isin([a[0][0],tmp_dict[a[0][1]]]),'advId']= a[0][0]\n",
    "#         ment.loc[ment['resId'].isin([a[0][0],tmp_dict[a[0][1]]]),'resId']= a[0][0]\n",
    "#     else:\n",
    "#         tmp_dict[a[0][1]]=a[0][0]\n",
    "#         ment.loc[ment['advId'].isin([a[0][0],a[0][1]]),'advId']= a[0][0]\n",
    "#         ment.loc[ment['resId'].isin([a[0][0],a[0][1]]),'resId']= a[0][0]"
   ]
  },
  {
   "cell_type": "code",
   "execution_count": 10,
   "metadata": {},
   "outputs": [],
   "source": [
    "ment['advisor_advId']=ment['advisor_name']+\"@\"+ment['advId'].map(str)\n",
    "ment['researcher_resId']=ment['researcher_name']+\"@\"+ment['resId'].map(str)"
   ]
  },
  {
   "cell_type": "code",
   "execution_count": 11,
   "metadata": {},
   "outputs": [],
   "source": [
    "#index file\n",
    "index_names=pd.unique(ment[['advisor_advId', 'researcher_resId']].values.ravel('K')).copy()\n",
    "name_index1=pd.DataFrame({'names_id':index_names})\n",
    "name_index1[['names','rid']]=name_index1['names_id'].str.split(\"@\",expand=True)\n",
    "name_index1['rid']=name_index1['rid'].map(int)\n",
    "name_index1=name_index1[['rid','names']]"
   ]
  },
  {
   "cell_type": "code",
   "execution_count": 12,
   "metadata": {},
   "outputs": [],
   "source": [
    "name_index1.to_csv(folder+\"without_group_index_file2_v5_2_7_2.csv\", sep =\",\" , index=False)"
   ]
  },
  {
   "cell_type": "code",
   "execution_count": 13,
   "metadata": {},
   "outputs": [],
   "source": [
    "name_index2=name_index1.groupby(['rid'])['names'].apply(list).reset_index().copy()"
   ]
  },
  {
   "cell_type": "code",
   "execution_count": 14,
   "metadata": {},
   "outputs": [],
   "source": [
    "#modified\n",
    "name_index2['names']=name_index2['names'].apply(lambda x : \"|\".join(x))"
   ]
  },
  {
   "cell_type": "code",
   "execution_count": 15,
   "metadata": {},
   "outputs": [
    {
     "data": {
      "text/plain": [
       "(256725, 2)"
      ]
     },
     "execution_count": 15,
     "metadata": {},
     "output_type": "execute_result"
    }
   ],
   "source": [
    "name_index2.shape"
   ]
  },
  {
   "cell_type": "code",
   "execution_count": 16,
   "metadata": {},
   "outputs": [],
   "source": [
    "name_index2.to_csv(folder+\"index_file2_v5_2_7_2.csv\", sep =\",\" , index=False)\n",
    "ment.to_csv(folder+\"final_shodhganga_dataset_v5_2_7_2.csv\", sep =\",\" , index=False)"
   ]
  },
  {
   "cell_type": "code",
   "execution_count": 13,
   "metadata": {},
   "outputs": [
    {
     "data": {
      "text/plain": [
       "(201477, 24)"
      ]
     },
     "execution_count": 13,
     "metadata": {},
     "output_type": "execute_result"
    }
   ],
   "source": [
    "ment.shape"
   ]
  },
  {
   "cell_type": "code",
   "execution_count": 25,
   "metadata": {},
   "outputs": [
    {
     "data": {
      "text/plain": [
       "3861"
      ]
     },
     "execution_count": 25,
     "metadata": {},
     "output_type": "execute_result"
    }
   ],
   "source": [
    "len(sorted_sim_dict)"
   ]
  },
  {
   "cell_type": "code",
   "execution_count": 84,
   "metadata": {},
   "outputs": [],
   "source": [
    "#random.choice(sorted_sim_dict)"
   ]
  },
  {
   "cell_type": "code",
   "execution_count": null,
   "metadata": {},
   "outputs": [],
   "source": []
  }
 ],
 "metadata": {
  "kernelspec": {
   "display_name": "Python 3",
   "language": "python",
   "name": "python3"
  },
  "language_info": {
   "codemirror_mode": {
    "name": "ipython",
    "version": 3
   },
   "file_extension": ".py",
   "mimetype": "text/x-python",
   "name": "python",
   "nbconvert_exporter": "python",
   "pygments_lexer": "ipython3",
   "version": "3.7.12"
  }
 },
 "nbformat": 4,
 "nbformat_minor": 4
}
