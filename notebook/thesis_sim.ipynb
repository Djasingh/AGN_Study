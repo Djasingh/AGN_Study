{
 "cells": [
  {
   "cell_type": "code",
   "execution_count": 12,
   "metadata": {},
   "outputs": [],
   "source": [
    "import pandas as pd\n",
    "import traceback\n",
    "import spacy\n",
    "from tqdm import tqdm\n",
    "import pickle\n",
    "nlp=spacy.load('en_core_web_lg')"
   ]
  },
  {
   "cell_type": "code",
   "execution_count": 26,
   "metadata": {},
   "outputs": [],
   "source": [
    "import itertools\n",
    "import re"
   ]
  },
  {
   "cell_type": "code",
   "execution_count": 13,
   "metadata": {},
   "outputs": [],
   "source": [
    "tqdm.pandas()"
   ]
  },
  {
   "cell_type": "code",
   "execution_count": 4,
   "metadata": {},
   "outputs": [],
   "source": [
    "ment =  pd.read_csv(\"index_files4/final_ment_w_baseline_gen4.csv\")"
   ]
  },
  {
   "cell_type": "code",
   "execution_count": 5,
   "metadata": {},
   "outputs": [
    {
     "data": {
      "text/plain": [
       "Index(['advisorId', 'researcherId', 'advisor_name', 'researcher_name',\n",
       "       'dc.date.submitted[]', 'dc.language.iso[]', 'dc.publisher.department[]',\n",
       "       'DepartmentId', 'dc.publisher.institution[]', 'instituteId',\n",
       "       'dc.title[]', 'thesisId', 'dc.type.degree', 'dc.date.awarded',\n",
       "       'dc.subject.ddc', 'dc.source.uri', 'dc.description.abstract',\n",
       "       'dc.title.alternative', 'advisor_inst_dept', 'stud_inst_dept'],\n",
       "      dtype='object')"
      ]
     },
     "execution_count": 5,
     "metadata": {},
     "output_type": "execute_result"
    }
   ],
   "source": [
    "ment.columns"
   ]
  },
  {
   "cell_type": "code",
   "execution_count": null,
   "metadata": {},
   "outputs": [],
   "source": [
    "def thesis_pre_processing(name):\n",
    "    name = str(name)\n",
    "    name = re.sub(\" +\",\"\",name)\n",
    "    #name = re.sub(regex,\"\", name)\n",
    "    #val = re.sub('[^A-Za-z]+', '', val)\n",
    "    return name"
   ]
  },
  {
   "cell_type": "code",
   "execution_count": 33,
   "metadata": {},
   "outputs": [],
   "source": [
    "def save_obj(obj, name ):\n",
    "    with open(name + '.pkl', 'wb') as f:\n",
    "        pickle.dump(obj, f, pickle.HIGHEST_PROTOCOL)"
   ]
  },
  {
   "cell_type": "code",
   "execution_count": 34,
   "metadata": {},
   "outputs": [],
   "source": [
    "def load_obj(name):\n",
    "    with open(name, 'rb') as f:\n",
    "        return pickle.load(f)"
   ]
  },
  {
   "cell_type": "code",
   "execution_count": 113,
   "metadata": {},
   "outputs": [],
   "source": [
    "def thesis_similarity(thesis_df, thresold=0.85):\n",
    "    thesis_dict={}\n",
    "    count=0\n",
    "    try:\n",
    "        for thesis1, thesis2 in tqdm(itertools.combinations(thesis_df['dc.title[]'], 2), total=(thesis_df.shape[0]*(thesis_df.shape[0]-1))/2):\n",
    "            score = nlp(thesis1).similarity(nlp(thesis2))\n",
    "            if score > thresold:\n",
    "                tid1=pd.unique(thesis_df[thesis_df['dc.title[]']==thesis1]['thesisId'])\n",
    "                tid2=pd.unique(thesis_df[thesis_df['dc.title[]']==thesis2]['thesisId'])\n",
    "                thesis_dict[(tuple(tid1),tuple(tid2),score)]=(thesis1, thesis2)\n",
    "                count+=1\n",
    "    except Exception as e:\n",
    "        print(e)\n",
    "        traceback.print_exception()\n",
    "    finally:\n",
    "        print('No.of similar thesis :'+str(count))\n",
    "        save_obj(thesis_dict, \"similar_thesis_\"+str(count))\n",
    "    return thesis_dict"
   ]
  },
  {
   "cell_type": "code",
   "execution_count": 104,
   "metadata": {},
   "outputs": [],
   "source": [
    "ment1=ment.iloc[99656:100564].copy()"
   ]
  },
  {
   "cell_type": "code",
   "execution_count": 105,
   "metadata": {},
   "outputs": [
    {
     "data": {
      "text/plain": [
       "(908, 20)"
      ]
     },
     "execution_count": 105,
     "metadata": {},
     "output_type": "execute_result"
    }
   ],
   "source": [
    "ment1.shape"
   ]
  },
  {
   "cell_type": "code",
   "execution_count": 106,
   "metadata": {},
   "outputs": [
    {
     "name": "stderr",
     "output_type": "stream",
     "text": [
      "100%|██████████| 21/21.0 [00:00<00:00, 21.77it/s]"
     ]
    },
    {
     "name": "stdout",
     "output_type": "stream",
     "text": [
      "No.of similar thesis :1\n"
     ]
    },
    {
     "name": "stderr",
     "output_type": "stream",
     "text": [
      "\n"
     ]
    }
   ],
   "source": [
    "a= thesis_similarity(ment2, 0.90)"
   ]
  },
  {
   "cell_type": "code",
   "execution_count": 49,
   "metadata": {},
   "outputs": [],
   "source": [
    "ment2=ment1[ment1['researcherId']==186818].copy()"
   ]
  },
  {
   "cell_type": "code",
   "execution_count": 69,
   "metadata": {},
   "outputs": [
    {
     "data": {
      "text/html": [
       "<div>\n",
       "<style scoped>\n",
       "    .dataframe tbody tr th:only-of-type {\n",
       "        vertical-align: middle;\n",
       "    }\n",
       "\n",
       "    .dataframe tbody tr th {\n",
       "        vertical-align: top;\n",
       "    }\n",
       "\n",
       "    .dataframe thead th {\n",
       "        text-align: right;\n",
       "    }\n",
       "</style>\n",
       "<table border=\"1\" class=\"dataframe\">\n",
       "  <thead>\n",
       "    <tr style=\"text-align: right;\">\n",
       "      <th></th>\n",
       "      <th>advisorId</th>\n",
       "      <th>researcherId</th>\n",
       "      <th>advisor_name</th>\n",
       "      <th>researcher_name</th>\n",
       "      <th>dc.date.submitted[]</th>\n",
       "      <th>dc.language.iso[]</th>\n",
       "      <th>dc.publisher.department[]</th>\n",
       "      <th>DepartmentId</th>\n",
       "      <th>dc.publisher.institution[]</th>\n",
       "      <th>instituteId</th>\n",
       "      <th>dc.title[]</th>\n",
       "      <th>thesisId</th>\n",
       "      <th>dc.type.degree</th>\n",
       "      <th>dc.date.awarded</th>\n",
       "      <th>dc.subject.ddc</th>\n",
       "      <th>dc.source.uri</th>\n",
       "      <th>dc.description.abstract</th>\n",
       "      <th>dc.title.alternative</th>\n",
       "      <th>advisor_inst_dept</th>\n",
       "      <th>stud_inst_dept</th>\n",
       "    </tr>\n",
       "  </thead>\n",
       "  <tbody>\n",
       "    <tr>\n",
       "      <th>99656</th>\n",
       "      <td>47801</td>\n",
       "      <td>186818</td>\n",
       "      <td>Tiwari, Kamlakar</td>\n",
       "      <td>Singh, Suman</td>\n",
       "      <td>2002-01-01</td>\n",
       "      <td>hin</td>\n",
       "      <td>department of hindi</td>\n",
       "      <td>D807</td>\n",
       "      <td>V. B. S. Purvanchal University</td>\n",
       "      <td>I306</td>\n",
       "      <td>Bhartiye kavyashastra Aur Kabir ka sahitya</td>\n",
       "      <td>T109841</td>\n",
       "      <td>phd</td>\n",
       "      <td>NaN</td>\n",
       "      <td>Literature &amp; rhetoric,Literatures of other lan...</td>\n",
       "      <td>http://shodhganga.inflibnet.ac.in/</td>\n",
       "      <td>NaN</td>\n",
       "      <td>NaN</td>\n",
       "      <td>Tiwari, Kamlakar@I306@D807</td>\n",
       "      <td>Singh, Suman@I306@D807</td>\n",
       "    </tr>\n",
       "    <tr>\n",
       "      <th>99858</th>\n",
       "      <td>47784</td>\n",
       "      <td>186818</td>\n",
       "      <td>Dwivedi, Vashishth</td>\n",
       "      <td>Singh, Suman</td>\n",
       "      <td>2003-01-01</td>\n",
       "      <td>hin</td>\n",
       "      <td>department of hindi</td>\n",
       "      <td>D807</td>\n",
       "      <td>V. B. S. Purvanchal University</td>\n",
       "      <td>I306</td>\n",
       "      <td>Nagarjuna ke katha sahitya mein janwadi chetna</td>\n",
       "      <td>T195748</td>\n",
       "      <td>phd</td>\n",
       "      <td>NaN</td>\n",
       "      <td>Literature &amp; rhetoric,Literatures of other lan...</td>\n",
       "      <td>http://shodhganga.inflibnet.ac.in/</td>\n",
       "      <td>NaN</td>\n",
       "      <td>NaN</td>\n",
       "      <td>Dwivedi, Vashishth@I306@D807</td>\n",
       "      <td>Singh, Suman@I306@D807</td>\n",
       "    </tr>\n",
       "    <tr>\n",
       "      <th>99997</th>\n",
       "      <td>47853</td>\n",
       "      <td>186818</td>\n",
       "      <td>Singh, Balbeer</td>\n",
       "      <td>Singh, Suman</td>\n",
       "      <td>2006-01-01</td>\n",
       "      <td>hin</td>\n",
       "      <td>department of hindi</td>\n",
       "      <td>D807</td>\n",
       "      <td>V. B. S. Purvanchal University</td>\n",
       "      <td>I306</td>\n",
       "      <td>Tritya saptak mein samajik evam rashtriye chetna</td>\n",
       "      <td>T113688</td>\n",
       "      <td>phd</td>\n",
       "      <td>NaN</td>\n",
       "      <td>Literature &amp; rhetoric,Literatures of other lan...</td>\n",
       "      <td>http://shodhganga.inflibnet.ac.in/</td>\n",
       "      <td>NaN</td>\n",
       "      <td>NaN</td>\n",
       "      <td>Singh, Balbeer@I306@D807</td>\n",
       "      <td>Singh, Suman@I306@D807</td>\n",
       "    </tr>\n",
       "    <tr>\n",
       "      <th>100080</th>\n",
       "      <td>47853</td>\n",
       "      <td>186818</td>\n",
       "      <td>Singh, Balbeer</td>\n",
       "      <td>Singh, Suman</td>\n",
       "      <td>2006-01-01</td>\n",
       "      <td>hin</td>\n",
       "      <td>department of hindi</td>\n",
       "      <td>D807</td>\n",
       "      <td>V. B. S. Purvanchal University</td>\n",
       "      <td>I306</td>\n",
       "      <td>Tritiya saptak mein samajik evam rashtriya chetna</td>\n",
       "      <td>T115472</td>\n",
       "      <td>phd</td>\n",
       "      <td>NaN</td>\n",
       "      <td>Literature &amp; rhetoric,Literatures of other lan...</td>\n",
       "      <td>http://shodhganga.inflibnet.ac.in/</td>\n",
       "      <td>NaN</td>\n",
       "      <td>NaN</td>\n",
       "      <td>Singh, Balbeer@I306@D807</td>\n",
       "      <td>Singh, Suman@I306@D807</td>\n",
       "    </tr>\n",
       "    <tr>\n",
       "      <th>100355</th>\n",
       "      <td>47947</td>\n",
       "      <td>186818</td>\n",
       "      <td>Pratap, Mahendra</td>\n",
       "      <td>Singh, Suman</td>\n",
       "      <td>2005-01-01</td>\n",
       "      <td>hin</td>\n",
       "      <td>department of hindi</td>\n",
       "      <td>D807</td>\n",
       "      <td>V. B. S. Purvanchal University</td>\n",
       "      <td>I306</td>\n",
       "      <td>Jain dharm evam baudh dharm mein samaj darshan...</td>\n",
       "      <td>T22914</td>\n",
       "      <td>phd</td>\n",
       "      <td>NaN</td>\n",
       "      <td>Literature &amp; rhetoric,Literatures of other lan...</td>\n",
       "      <td>http://shodhganga.inflibnet.ac.in/</td>\n",
       "      <td>NaN</td>\n",
       "      <td>NaN</td>\n",
       "      <td>Pratap, Mahendra@I306@D807</td>\n",
       "      <td>Singh, Suman@I306@D807</td>\n",
       "    </tr>\n",
       "    <tr>\n",
       "      <th>100389</th>\n",
       "      <td>47805</td>\n",
       "      <td>186818</td>\n",
       "      <td>Shastri, Harihar Singh</td>\n",
       "      <td>Singh, Suman</td>\n",
       "      <td>1993-01-01</td>\n",
       "      <td>hin</td>\n",
       "      <td>department of hindi</td>\n",
       "      <td>D807</td>\n",
       "      <td>V. B. S. Purvanchal University</td>\n",
       "      <td>I306</td>\n",
       "      <td>Dr Rangey Raghav Ke upanyason Aur yugchetna</td>\n",
       "      <td>T147821</td>\n",
       "      <td>phd</td>\n",
       "      <td>NaN</td>\n",
       "      <td>Literature &amp; rhetoric,Literatures of other lan...</td>\n",
       "      <td>http://shodhganga.inflibnet.ac.in/</td>\n",
       "      <td>NaN</td>\n",
       "      <td>NaN</td>\n",
       "      <td>Shastri, Harihar Singh@I306@D807</td>\n",
       "      <td>Singh, Suman@I306@D807</td>\n",
       "    </tr>\n",
       "    <tr>\n",
       "      <th>100427</th>\n",
       "      <td>47871</td>\n",
       "      <td>186818</td>\n",
       "      <td>Singh, Phool Badan</td>\n",
       "      <td>Singh, Suman</td>\n",
       "      <td>2011-01-01</td>\n",
       "      <td>hin</td>\n",
       "      <td>department of hindi</td>\n",
       "      <td>D807</td>\n",
       "      <td>V. B. S. Purvanchal University</td>\n",
       "      <td>I306</td>\n",
       "      <td>Vyangyakaar Harishankar Parsai Aur unka rachna...</td>\n",
       "      <td>T104617</td>\n",
       "      <td>phd</td>\n",
       "      <td>NaN</td>\n",
       "      <td>Literature &amp; rhetoric,Literatures of other lan...</td>\n",
       "      <td>http://shodhganga.inflibnet.ac.in/</td>\n",
       "      <td>NaN</td>\n",
       "      <td>NaN</td>\n",
       "      <td>Singh, Phool Badan@I306@D807</td>\n",
       "      <td>Singh, Suman@I306@D807</td>\n",
       "    </tr>\n",
       "  </tbody>\n",
       "</table>\n",
       "</div>"
      ],
      "text/plain": [
       "        advisorId  researcherId            advisor_name researcher_name  \\\n",
       "99656       47801        186818        Tiwari, Kamlakar    Singh, Suman   \n",
       "99858       47784        186818      Dwivedi, Vashishth    Singh, Suman   \n",
       "99997       47853        186818          Singh, Balbeer    Singh, Suman   \n",
       "100080      47853        186818          Singh, Balbeer    Singh, Suman   \n",
       "100355      47947        186818        Pratap, Mahendra    Singh, Suman   \n",
       "100389      47805        186818  Shastri, Harihar Singh    Singh, Suman   \n",
       "100427      47871        186818      Singh, Phool Badan    Singh, Suman   \n",
       "\n",
       "       dc.date.submitted[] dc.language.iso[] dc.publisher.department[]  \\\n",
       "99656           2002-01-01               hin       department of hindi   \n",
       "99858           2003-01-01               hin       department of hindi   \n",
       "99997           2006-01-01               hin       department of hindi   \n",
       "100080          2006-01-01               hin       department of hindi   \n",
       "100355          2005-01-01               hin       department of hindi   \n",
       "100389          1993-01-01               hin       department of hindi   \n",
       "100427          2011-01-01               hin       department of hindi   \n",
       "\n",
       "       DepartmentId      dc.publisher.institution[] instituteId  \\\n",
       "99656          D807  V. B. S. Purvanchal University        I306   \n",
       "99858          D807  V. B. S. Purvanchal University        I306   \n",
       "99997          D807  V. B. S. Purvanchal University        I306   \n",
       "100080         D807  V. B. S. Purvanchal University        I306   \n",
       "100355         D807  V. B. S. Purvanchal University        I306   \n",
       "100389         D807  V. B. S. Purvanchal University        I306   \n",
       "100427         D807  V. B. S. Purvanchal University        I306   \n",
       "\n",
       "                                               dc.title[] thesisId  \\\n",
       "99656          Bhartiye kavyashastra Aur Kabir ka sahitya  T109841   \n",
       "99858      Nagarjuna ke katha sahitya mein janwadi chetna  T195748   \n",
       "99997    Tritya saptak mein samajik evam rashtriye chetna  T113688   \n",
       "100080  Tritiya saptak mein samajik evam rashtriya chetna  T115472   \n",
       "100355  Jain dharm evam baudh dharm mein samaj darshan...   T22914   \n",
       "100389        Dr Rangey Raghav Ke upanyason Aur yugchetna  T147821   \n",
       "100427  Vyangyakaar Harishankar Parsai Aur unka rachna...  T104617   \n",
       "\n",
       "       dc.type.degree dc.date.awarded  \\\n",
       "99656             phd             NaN   \n",
       "99858             phd             NaN   \n",
       "99997             phd             NaN   \n",
       "100080            phd             NaN   \n",
       "100355            phd             NaN   \n",
       "100389            phd             NaN   \n",
       "100427            phd             NaN   \n",
       "\n",
       "                                           dc.subject.ddc  \\\n",
       "99656   Literature & rhetoric,Literatures of other lan...   \n",
       "99858   Literature & rhetoric,Literatures of other lan...   \n",
       "99997   Literature & rhetoric,Literatures of other lan...   \n",
       "100080  Literature & rhetoric,Literatures of other lan...   \n",
       "100355  Literature & rhetoric,Literatures of other lan...   \n",
       "100389  Literature & rhetoric,Literatures of other lan...   \n",
       "100427  Literature & rhetoric,Literatures of other lan...   \n",
       "\n",
       "                             dc.source.uri dc.description.abstract  \\\n",
       "99656   http://shodhganga.inflibnet.ac.in/                     NaN   \n",
       "99858   http://shodhganga.inflibnet.ac.in/                     NaN   \n",
       "99997   http://shodhganga.inflibnet.ac.in/                     NaN   \n",
       "100080  http://shodhganga.inflibnet.ac.in/                     NaN   \n",
       "100355  http://shodhganga.inflibnet.ac.in/                     NaN   \n",
       "100389  http://shodhganga.inflibnet.ac.in/                     NaN   \n",
       "100427  http://shodhganga.inflibnet.ac.in/                     NaN   \n",
       "\n",
       "       dc.title.alternative                 advisor_inst_dept  \\\n",
       "99656                   NaN        Tiwari, Kamlakar@I306@D807   \n",
       "99858                   NaN      Dwivedi, Vashishth@I306@D807   \n",
       "99997                   NaN          Singh, Balbeer@I306@D807   \n",
       "100080                  NaN          Singh, Balbeer@I306@D807   \n",
       "100355                  NaN        Pratap, Mahendra@I306@D807   \n",
       "100389                  NaN  Shastri, Harihar Singh@I306@D807   \n",
       "100427                  NaN      Singh, Phool Badan@I306@D807   \n",
       "\n",
       "                stud_inst_dept  \n",
       "99656   Singh, Suman@I306@D807  \n",
       "99858   Singh, Suman@I306@D807  \n",
       "99997   Singh, Suman@I306@D807  \n",
       "100080  Singh, Suman@I306@D807  \n",
       "100355  Singh, Suman@I306@D807  \n",
       "100389  Singh, Suman@I306@D807  \n",
       "100427  Singh, Suman@I306@D807  "
      ]
     },
     "execution_count": 69,
     "metadata": {},
     "output_type": "execute_result"
    }
   ],
   "source": [
    "ment2"
   ]
  }
 ],
 "metadata": {
  "kernelspec": {
   "display_name": "Python 3",
   "language": "python",
   "name": "python3"
  },
  "language_info": {
   "codemirror_mode": {
    "name": "ipython",
    "version": 3
   },
   "file_extension": ".py",
   "mimetype": "text/x-python",
   "name": "python",
   "nbconvert_exporter": "python",
   "pygments_lexer": "ipython3",
   "version": "3.6.9"
  }
 },
 "nbformat": 4,
 "nbformat_minor": 4
}
