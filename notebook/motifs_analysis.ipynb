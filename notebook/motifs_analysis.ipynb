{
 "cells": [
  {
   "cell_type": "code",
   "execution_count": 1,
   "metadata": {},
   "outputs": [],
   "source": [
    "import pandas as pd\n",
    "import numpy as np\n",
    "from matplotlib import pyplot as plt"
   ]
  },
  {
   "cell_type": "code",
   "execution_count": 2,
   "metadata": {},
   "outputs": [],
   "source": [
    "folder   = \"../dataset_v5/v5_2/v5_2_2/\""
   ]
  },
  {
   "cell_type": "code",
   "execution_count": 3,
   "metadata": {},
   "outputs": [],
   "source": [
    "save_dir = \"../graphs_v5_2_7_2/\""
   ]
  },
  {
   "cell_type": "code",
   "execution_count": 4,
   "metadata": {},
   "outputs": [],
   "source": [
    "edges = pd.read_csv(folder+\"final_shodhganga_dataset_v5_2_7_2.csv\")"
   ]
  },
  {
   "cell_type": "code",
   "execution_count": 5,
   "metadata": {},
   "outputs": [],
   "source": [
    "nodes = pd.read_csv(folder+\"index_file2_v5_2_7_2.csv\")"
   ]
  },
  {
   "cell_type": "markdown",
   "metadata": {},
   "source": [
    "# Institute based motif analysis"
   ]
  },
  {
   "cell_type": "code",
   "execution_count": 6,
   "metadata": {},
   "outputs": [],
   "source": [
    "nodes_inst = nodes.copy()"
   ]
  },
  {
   "cell_type": "code",
   "execution_count": 7,
   "metadata": {},
   "outputs": [],
   "source": [
    "nodes_inst[\"inst\"] = nodes['rid'].apply(lambda x : list(set(edges[(edges['advId']==x) | (edges['resId']==x)]['publisher_institution'].values))).copy()"
   ]
  },
  {
   "cell_type": "code",
   "execution_count": 8,
   "metadata": {},
   "outputs": [],
   "source": [
    "nid_inst = dict(zip(nodes_inst['rid'], nodes_inst[\"inst\"]))"
   ]
  },
  {
   "cell_type": "code",
   "execution_count": 9,
   "metadata": {},
   "outputs": [],
   "source": [
    "#nid_inst"
   ]
  },
  {
   "cell_type": "code",
   "execution_count": 10,
   "metadata": {},
   "outputs": [],
   "source": [
    "motif_3pt =  pd.read_csv(\"../../pattern/3-point_v5_2_7_2_id.csv\")"
   ]
  },
  {
   "cell_type": "code",
   "execution_count": 11,
   "metadata": {},
   "outputs": [
    {
     "data": {
      "text/html": [
       "<div>\n",
       "<style scoped>\n",
       "    .dataframe tbody tr th:only-of-type {\n",
       "        vertical-align: middle;\n",
       "    }\n",
       "\n",
       "    .dataframe tbody tr th {\n",
       "        vertical-align: top;\n",
       "    }\n",
       "\n",
       "    .dataframe thead th {\n",
       "        text-align: right;\n",
       "    }\n",
       "</style>\n",
       "<table border=\"1\" class=\"dataframe\">\n",
       "  <thead>\n",
       "    <tr style=\"text-align: right;\">\n",
       "      <th></th>\n",
       "      <th>a.Id</th>\n",
       "      <th>b.Id</th>\n",
       "      <th>c.Id</th>\n",
       "    </tr>\n",
       "  </thead>\n",
       "  <tbody>\n",
       "    <tr>\n",
       "      <th>0</th>\n",
       "      <td>35503</td>\n",
       "      <td>35518</td>\n",
       "      <td>35505</td>\n",
       "    </tr>\n",
       "    <tr>\n",
       "      <th>1</th>\n",
       "      <td>254683</td>\n",
       "      <td>50294</td>\n",
       "      <td>50332</td>\n",
       "    </tr>\n",
       "    <tr>\n",
       "      <th>2</th>\n",
       "      <td>144109</td>\n",
       "      <td>53418</td>\n",
       "      <td>53465</td>\n",
       "    </tr>\n",
       "    <tr>\n",
       "      <th>3</th>\n",
       "      <td>57951</td>\n",
       "      <td>57962</td>\n",
       "      <td>57990</td>\n",
       "    </tr>\n",
       "    <tr>\n",
       "      <th>4</th>\n",
       "      <td>67308</td>\n",
       "      <td>67328</td>\n",
       "      <td>67302</td>\n",
       "    </tr>\n",
       "  </tbody>\n",
       "</table>\n",
       "</div>"
      ],
      "text/plain": [
       "     a.Id   b.Id   c.Id\n",
       "0   35503  35518  35505\n",
       "1  254683  50294  50332\n",
       "2  144109  53418  53465\n",
       "3   57951  57962  57990\n",
       "4   67308  67328  67302"
      ]
     },
     "execution_count": 11,
     "metadata": {},
     "output_type": "execute_result"
    }
   ],
   "source": [
    "motif_3pt.head()"
   ]
  },
  {
   "cell_type": "code",
   "execution_count": 12,
   "metadata": {},
   "outputs": [],
   "source": [
    "motif_3pt['a_inst'] = motif_3pt['a.Id'].map(nid_inst)\n",
    "motif_3pt['b_inst'] = motif_3pt['b.Id'].map(nid_inst)\n",
    "motif_3pt['c_inst'] = motif_3pt['c.Id'].map(nid_inst)"
   ]
  },
  {
   "cell_type": "code",
   "execution_count": 13,
   "metadata": {},
   "outputs": [
    {
     "data": {
      "text/html": [
       "<div>\n",
       "<style scoped>\n",
       "    .dataframe tbody tr th:only-of-type {\n",
       "        vertical-align: middle;\n",
       "    }\n",
       "\n",
       "    .dataframe tbody tr th {\n",
       "        vertical-align: top;\n",
       "    }\n",
       "\n",
       "    .dataframe thead th {\n",
       "        text-align: right;\n",
       "    }\n",
       "</style>\n",
       "<table border=\"1\" class=\"dataframe\">\n",
       "  <thead>\n",
       "    <tr style=\"text-align: right;\">\n",
       "      <th></th>\n",
       "      <th>a.Id</th>\n",
       "      <th>b.Id</th>\n",
       "      <th>c.Id</th>\n",
       "      <th>a_inst</th>\n",
       "      <th>b_inst</th>\n",
       "      <th>c_inst</th>\n",
       "    </tr>\n",
       "  </thead>\n",
       "  <tbody>\n",
       "    <tr>\n",
       "      <th>43</th>\n",
       "      <td>21862</td>\n",
       "      <td>21863</td>\n",
       "      <td>137779</td>\n",
       "      <td>[Jadavpur University]</td>\n",
       "      <td>[Jadavpur University]</td>\n",
       "      <td>[Jadavpur University]</td>\n",
       "    </tr>\n",
       "    <tr>\n",
       "      <th>171</th>\n",
       "      <td>67677</td>\n",
       "      <td>67644</td>\n",
       "      <td>227238</td>\n",
       "      <td>[Gauhati University]</td>\n",
       "      <td>[Gauhati University]</td>\n",
       "      <td>[Gauhati University]</td>\n",
       "    </tr>\n",
       "    <tr>\n",
       "      <th>218</th>\n",
       "      <td>86861</td>\n",
       "      <td>86872</td>\n",
       "      <td>267848</td>\n",
       "      <td>[Tezpur University]</td>\n",
       "      <td>[Tezpur University]</td>\n",
       "      <td>[Tezpur University]</td>\n",
       "    </tr>\n",
       "    <tr>\n",
       "      <th>153</th>\n",
       "      <td>64054</td>\n",
       "      <td>64101</td>\n",
       "      <td>219164</td>\n",
       "      <td>[Bharathidasan University]</td>\n",
       "      <td>[Bharathidasan University]</td>\n",
       "      <td>[Bharathidasan University]</td>\n",
       "    </tr>\n",
       "    <tr>\n",
       "      <th>178</th>\n",
       "      <td>67275</td>\n",
       "      <td>67291</td>\n",
       "      <td>226588</td>\n",
       "      <td>[University of Kerala]</td>\n",
       "      <td>[University of Kerala]</td>\n",
       "      <td>[University of Kerala]</td>\n",
       "    </tr>\n",
       "    <tr>\n",
       "      <th>156</th>\n",
       "      <td>66322</td>\n",
       "      <td>66327</td>\n",
       "      <td>224067</td>\n",
       "      <td>[North-Eastern Hill University]</td>\n",
       "      <td>[North-Eastern Hill University]</td>\n",
       "      <td>[North-Eastern Hill University]</td>\n",
       "    </tr>\n",
       "    <tr>\n",
       "      <th>96</th>\n",
       "      <td>42771</td>\n",
       "      <td>42797</td>\n",
       "      <td>177800</td>\n",
       "      <td>[Jaypee Institute of Information Technology]</td>\n",
       "      <td>[Jaypee Institute of Information Technology]</td>\n",
       "      <td>[Jaypee Institute of Information Technology]</td>\n",
       "    </tr>\n",
       "    <tr>\n",
       "      <th>15</th>\n",
       "      <td>4384</td>\n",
       "      <td>4379</td>\n",
       "      <td>102667</td>\n",
       "      <td>[Himachal Pradesh University]</td>\n",
       "      <td>[Himachal Pradesh University]</td>\n",
       "      <td>[Himachal Pradesh University]</td>\n",
       "    </tr>\n",
       "    <tr>\n",
       "      <th>113</th>\n",
       "      <td>144109</td>\n",
       "      <td>53445</td>\n",
       "      <td>199491</td>\n",
       "      <td>[Alagappa University, University of Madras, Ka...</td>\n",
       "      <td>[Alagappa University]</td>\n",
       "      <td>[Alagappa University]</td>\n",
       "    </tr>\n",
       "    <tr>\n",
       "      <th>217</th>\n",
       "      <td>86878</td>\n",
       "      <td>86856</td>\n",
       "      <td>267836</td>\n",
       "      <td>[Tezpur University]</td>\n",
       "      <td>[Tezpur University]</td>\n",
       "      <td>[Tezpur University]</td>\n",
       "    </tr>\n",
       "  </tbody>\n",
       "</table>\n",
       "</div>"
      ],
      "text/plain": [
       "       a.Id   b.Id    c.Id                                             a_inst  \\\n",
       "43    21862  21863  137779                              [Jadavpur University]   \n",
       "171   67677  67644  227238                               [Gauhati University]   \n",
       "218   86861  86872  267848                                [Tezpur University]   \n",
       "153   64054  64101  219164                         [Bharathidasan University]   \n",
       "178   67275  67291  226588                             [University of Kerala]   \n",
       "156   66322  66327  224067                    [North-Eastern Hill University]   \n",
       "96    42771  42797  177800       [Jaypee Institute of Information Technology]   \n",
       "15     4384   4379  102667                      [Himachal Pradesh University]   \n",
       "113  144109  53445  199491  [Alagappa University, University of Madras, Ka...   \n",
       "217   86878  86856  267836                                [Tezpur University]   \n",
       "\n",
       "                                           b_inst  \\\n",
       "43                          [Jadavpur University]   \n",
       "171                          [Gauhati University]   \n",
       "218                           [Tezpur University]   \n",
       "153                    [Bharathidasan University]   \n",
       "178                        [University of Kerala]   \n",
       "156               [North-Eastern Hill University]   \n",
       "96   [Jaypee Institute of Information Technology]   \n",
       "15                  [Himachal Pradesh University]   \n",
       "113                         [Alagappa University]   \n",
       "217                           [Tezpur University]   \n",
       "\n",
       "                                           c_inst  \n",
       "43                          [Jadavpur University]  \n",
       "171                          [Gauhati University]  \n",
       "218                           [Tezpur University]  \n",
       "153                    [Bharathidasan University]  \n",
       "178                        [University of Kerala]  \n",
       "156               [North-Eastern Hill University]  \n",
       "96   [Jaypee Institute of Information Technology]  \n",
       "15                  [Himachal Pradesh University]  \n",
       "113                         [Alagappa University]  \n",
       "217                           [Tezpur University]  "
      ]
     },
     "execution_count": 13,
     "metadata": {},
     "output_type": "execute_result"
    }
   ],
   "source": [
    "motif_3pt.sample(10)"
   ]
  },
  {
   "cell_type": "code",
   "execution_count": 14,
   "metadata": {},
   "outputs": [],
   "source": [
    "motif_3pt['diff_inst'] = motif_3pt['a_inst']+motif_3pt['b_inst']+motif_3pt['c_inst']\n",
    "motif_3pt['diff_inst_count'] = motif_3pt['diff_inst'].apply(lambda x : len(set(x)))"
   ]
  },
  {
   "cell_type": "code",
   "execution_count": 15,
   "metadata": {},
   "outputs": [
    {
     "data": {
      "text/plain": [
       "1    196\n",
       "4     13\n",
       "3      7\n",
       "2      7\n",
       "5      1\n",
       "Name: diff_inst_count, dtype: int64"
      ]
     },
     "execution_count": 15,
     "metadata": {},
     "output_type": "execute_result"
    }
   ],
   "source": [
    "motif_3pt['diff_inst_count'].value_counts()"
   ]
  },
  {
   "cell_type": "code",
   "execution_count": 16,
   "metadata": {},
   "outputs": [],
   "source": [
    "#motif_3pt[motif_3pt['diff_inst_count']==5].sample()"
   ]
  },
  {
   "cell_type": "code",
   "execution_count": 17,
   "metadata": {},
   "outputs": [],
   "source": [
    "motif_uniq_3pt = motif_3pt[[\"a.Id\",\"b.Id\",\"c.Id\"]]"
   ]
  },
  {
   "cell_type": "code",
   "execution_count": 18,
   "metadata": {},
   "outputs": [],
   "source": [
    "b=[tuple(sorted(a)) for a in motif_uniq_3pt.values]"
   ]
  },
  {
   "cell_type": "code",
   "execution_count": 19,
   "metadata": {},
   "outputs": [
    {
     "data": {
      "text/plain": [
       "224"
      ]
     },
     "execution_count": 19,
     "metadata": {},
     "output_type": "execute_result"
    }
   ],
   "source": [
    "len(set(b))"
   ]
  },
  {
   "cell_type": "code",
   "execution_count": 20,
   "metadata": {},
   "outputs": [
    {
     "data": {
      "text/plain": [
       "1    196\n",
       "4     13\n",
       "3      7\n",
       "2      7\n",
       "5      1\n",
       "Name: diff_inst_count, dtype: int64"
      ]
     },
     "execution_count": 20,
     "metadata": {},
     "output_type": "execute_result"
    }
   ],
   "source": [
    "motif_3pt['diff_inst_count'].value_counts()"
   ]
  },
  {
   "cell_type": "code",
   "execution_count": 21,
   "metadata": {},
   "outputs": [],
   "source": [
    "check3p = motif_3pt[motif_3pt['diff_inst_count']==5].copy()"
   ]
  },
  {
   "cell_type": "code",
   "execution_count": 22,
   "metadata": {},
   "outputs": [
    {
     "data": {
      "text/html": [
       "<div>\n",
       "<style scoped>\n",
       "    .dataframe tbody tr th:only-of-type {\n",
       "        vertical-align: middle;\n",
       "    }\n",
       "\n",
       "    .dataframe tbody tr th {\n",
       "        vertical-align: top;\n",
       "    }\n",
       "\n",
       "    .dataframe thead th {\n",
       "        text-align: right;\n",
       "    }\n",
       "</style>\n",
       "<table border=\"1\" class=\"dataframe\">\n",
       "  <thead>\n",
       "    <tr style=\"text-align: right;\">\n",
       "      <th></th>\n",
       "      <th>a.Id</th>\n",
       "      <th>b.Id</th>\n",
       "      <th>c.Id</th>\n",
       "      <th>a_inst</th>\n",
       "      <th>b_inst</th>\n",
       "      <th>c_inst</th>\n",
       "      <th>diff_inst</th>\n",
       "      <th>diff_inst_count</th>\n",
       "    </tr>\n",
       "  </thead>\n",
       "  <tbody>\n",
       "    <tr>\n",
       "      <th>118</th>\n",
       "      <td>144109</td>\n",
       "      <td>53418</td>\n",
       "      <td>199539</td>\n",
       "      <td>[Alagappa University, University of Madras, Ka...</td>\n",
       "      <td>[Alagappa University, Manonmaniam Sundaranar U...</td>\n",
       "      <td>[Alagappa University, Periyar University]</td>\n",
       "      <td>[Alagappa University, University of Madras, Ka...</td>\n",
       "      <td>5</td>\n",
       "    </tr>\n",
       "  </tbody>\n",
       "</table>\n",
       "</div>"
      ],
      "text/plain": [
       "       a.Id   b.Id    c.Id                                             a_inst  \\\n",
       "118  144109  53418  199539  [Alagappa University, University of Madras, Ka...   \n",
       "\n",
       "                                                b_inst  \\\n",
       "118  [Alagappa University, Manonmaniam Sundaranar U...   \n",
       "\n",
       "                                        c_inst  \\\n",
       "118  [Alagappa University, Periyar University]   \n",
       "\n",
       "                                             diff_inst  diff_inst_count  \n",
       "118  [Alagappa University, University of Madras, Ka...                5  "
      ]
     },
     "execution_count": 22,
     "metadata": {},
     "output_type": "execute_result"
    }
   ],
   "source": [
    "check3p"
   ]
  },
  {
   "cell_type": "code",
   "execution_count": 23,
   "metadata": {},
   "outputs": [],
   "source": [
    "motif_4pt =  pd.read_csv(\"../../pattern/4-point_v5_2_7_2_id.csv\")"
   ]
  },
  {
   "cell_type": "code",
   "execution_count": 24,
   "metadata": {},
   "outputs": [
    {
     "data": {
      "text/plain": [
       "Index(['a.Id', 'b.Id', 'c.Id', 'd.Id'], dtype='object')"
      ]
     },
     "execution_count": 24,
     "metadata": {},
     "output_type": "execute_result"
    }
   ],
   "source": [
    "motif_4pt.columns"
   ]
  },
  {
   "cell_type": "code",
   "execution_count": 26,
   "metadata": {},
   "outputs": [],
   "source": [
    "#motif_uniq_4pt = motif_4pt[motif_4pt[\"diff_inst_count\"]==2][[\"a.Id\",\"b.Id\",\"c.Id\",\"d.Id\"]]"
   ]
  },
  {
   "cell_type": "code",
   "execution_count": 27,
   "metadata": {},
   "outputs": [],
   "source": [
    "#b=[tuple(sorted(a)) for a in motif_uniq_4pt.values]"
   ]
  },
  {
   "cell_type": "code",
   "execution_count": 28,
   "metadata": {},
   "outputs": [],
   "source": [
    "#len(set(b))"
   ]
  },
  {
   "cell_type": "code",
   "execution_count": 29,
   "metadata": {},
   "outputs": [],
   "source": [
    "motif_4pt['a_inst'] = motif_4pt['a.Id'].map(nid_inst)\n",
    "motif_4pt['b_inst'] = motif_4pt['b.Id'].map(nid_inst)\n",
    "motif_4pt['c_inst'] = motif_4pt['c.Id'].map(nid_inst)\n",
    "motif_4pt['d_inst'] = motif_4pt['d.Id'].map(nid_inst)"
   ]
  },
  {
   "cell_type": "code",
   "execution_count": 30,
   "metadata": {},
   "outputs": [],
   "source": [
    "motif_4pt['diff_inst'] = motif_4pt['a_inst']+motif_4pt['b_inst']+motif_4pt['c_inst']+motif_4pt['d_inst']\n",
    "motif_4pt['diff_inst_count'] = motif_4pt['diff_inst'].apply(lambda x : len(set(x)))"
   ]
  },
  {
   "cell_type": "code",
   "execution_count": 31,
   "metadata": {},
   "outputs": [
    {
     "data": {
      "text/plain": [
       "1    50\n",
       "2     6\n",
       "Name: diff_inst_count, dtype: int64"
      ]
     },
     "execution_count": 31,
     "metadata": {},
     "output_type": "execute_result"
    }
   ],
   "source": [
    "motif_4pt['diff_inst_count'].value_counts()"
   ]
  },
  {
   "cell_type": "code",
   "execution_count": 32,
   "metadata": {},
   "outputs": [],
   "source": [
    "motif_5pt =  pd.read_csv(\"../../pattern/5-point_v5_2_7_2_id.csv\")"
   ]
  },
  {
   "cell_type": "code",
   "execution_count": 33,
   "metadata": {},
   "outputs": [],
   "source": [
    "motif_5pt['a_inst'] = motif_5pt['a.Id'].map(nid_inst)\n",
    "motif_5pt['b_inst'] = motif_5pt['b.Id'].map(nid_inst)\n",
    "motif_5pt['c_inst'] = motif_5pt['c.Id'].map(nid_inst)\n",
    "motif_5pt['d_inst'] = motif_5pt['d.Id'].map(nid_inst)\n",
    "motif_5pt['e_inst'] = motif_5pt['e.Id'].map(nid_inst)"
   ]
  },
  {
   "cell_type": "code",
   "execution_count": 34,
   "metadata": {},
   "outputs": [],
   "source": [
    "motif_5pt['diff_inst'] = motif_5pt['a_inst']+motif_5pt['b_inst']+motif_5pt['c_inst']+motif_5pt['d_inst']+motif_5pt['e_inst']\n",
    "motif_5pt['diff_inst_count'] = motif_5pt['diff_inst'].apply(lambda x : len(set(x)))"
   ]
  },
  {
   "cell_type": "code",
   "execution_count": 35,
   "metadata": {},
   "outputs": [],
   "source": [
    "# motif_5pt=motif_5pt[((motif_5pt['a.Id']==idd) | (motif_5pt['b.Id']==idd) | (motif_5pt['c.Id']==idd) | (motif_5pt['d.Id']==idd)\n",
    "#               | (motif_5pt['e.Id']==idd))].copy()"
   ]
  },
  {
   "cell_type": "code",
   "execution_count": 36,
   "metadata": {},
   "outputs": [],
   "source": [
    "# motif_uniq_5pt = motif_5pt[motif_5pt[\"diff_inst_count\"]==2][[\"a.Id\",\"b.Id\",\"c.Id\",\"d.Id\",\"e.Id\"]].copy()"
   ]
  },
  {
   "cell_type": "code",
   "execution_count": 37,
   "metadata": {},
   "outputs": [],
   "source": [
    "#motif_5pt[motif_5pt[\"diff_inst_count\"]==3][[\"a.Id\",\"b.Id\",\"c.Id\",\"d.Id\",\"e.Id\"]]"
   ]
  },
  {
   "cell_type": "code",
   "execution_count": 38,
   "metadata": {},
   "outputs": [],
   "source": [
    "#idd=24794"
   ]
  },
  {
   "cell_type": "code",
   "execution_count": 39,
   "metadata": {},
   "outputs": [],
   "source": [
    "# motif_uniq_5pt_1 = motif_uniq_5pt[((motif_uniq_5pt['a.Id']==idd) | (motif_uniq_5pt['b.Id']==idd) | (motif_uniq_5pt['c.Id']==idd) | (motif_uniq_5pt['d.Id']==idd)\n",
    "#               | (motif_uniq_5pt['e.Id']==idd))].copy()"
   ]
  },
  {
   "cell_type": "code",
   "execution_count": 40,
   "metadata": {},
   "outputs": [
    {
     "data": {
      "text/plain": [
       "1    268\n",
       "2    124\n",
       "3     42\n",
       "4     34\n",
       "5     14\n",
       "Name: diff_inst_count, dtype: int64"
      ]
     },
     "execution_count": 40,
     "metadata": {},
     "output_type": "execute_result"
    }
   ],
   "source": [
    "motif_5pt['diff_inst_count'].value_counts()"
   ]
  },
  {
   "cell_type": "code",
   "execution_count": 41,
   "metadata": {},
   "outputs": [],
   "source": [
    "#edges[edges['advId']==3119]"
   ]
  },
  {
   "cell_type": "code",
   "execution_count": 43,
   "metadata": {},
   "outputs": [],
   "source": [
    "#freq3"
   ]
  },
  {
   "cell_type": "code",
   "execution_count": 44,
   "metadata": {},
   "outputs": [
    {
     "data": {
      "image/png": "[encoded data removed]",
      "text/plain": [
       "<Figure size 720x576 with 1 Axes>"
      ]
     },
     "metadata": {
      "needs_background": "light"
     },
     "output_type": "display_data"
    }
   ],
   "source": [
    "# set width of bar\n",
    "barWidth = 0.25\n",
    "fig = plt.subplots(figsize =(10, 8))\n",
    " \n",
    "# set height of bar\n",
    "freq3 = [196,7,7, 13, 1]  # order changed in value counts\n",
    "freq4 = list(motif_4pt['diff_inst_count'].value_counts().values/2)+[0,0,0]\n",
    "freq5 = list(motif_5pt['diff_inst_count'].value_counts().values/2)\n",
    " \n",
    "# Set position of bar on X axis\n",
    "br1 = np.arange(len(freq3))\n",
    "br2 = [x + barWidth for x in br1]\n",
    "br3 = [x + barWidth for x in br2]\n",
    " \n",
    "# Make the plot\n",
    "plt.bar(br1, freq5, color ='b', width = barWidth,\n",
    "        edgecolor ='grey', label ='5-node subgraph')\n",
    "plt.bar(br2, freq4, color ='g', width = barWidth,\n",
    "        edgecolor ='grey', label ='4-node subgraph')\n",
    "plt.bar(br3, freq3, color ='r', width = barWidth,\n",
    "        edgecolor ='grey', label ='3-node subgraph')\n",
    "\n",
    "# Adding Xticks\n",
    "plt.xlabel('Institute count', fontweight ='bold', fontsize = 16)\n",
    "plt.ylabel('Subgraph instance frequency', fontweight ='bold', fontsize = 16)\n",
    "plt.xticks([r + barWidth for r in range(len(freq3))],\n",
    "        ['1', '2', '3', '4', '5'])\n",
    " \n",
    "plt.legend(prop={\"size\":18, \"weight\":\"bold\"})\n",
    "plt.savefig(save_dir+\"subgraph_inst_freq.pdf\",bbox_inches='tight')\n",
    "plt.show()"
   ]
  },
  {
   "cell_type": "code",
   "execution_count": 45,
   "metadata": {},
   "outputs": [],
   "source": [
    "#edges[\"ddc_code\"]"
   ]
  },
  {
   "cell_type": "markdown",
   "metadata": {},
   "source": [
    "# DDC Based motif analysis"
   ]
  },
  {
   "cell_type": "code",
   "execution_count": 46,
   "metadata": {},
   "outputs": [],
   "source": [
    "def map_ddc(ddc_code):\n",
    "    mod_ddc_code = ''\n",
    "    #print(ddc_code)\n",
    "    if ddc_code:\n",
    "        ddc_code = int(ddc_code)\n",
    "        if ddc_code < 100:\n",
    "            mod_ddc_code=0\n",
    "        elif 100 <= ddc_code < 200:\n",
    "            mod_ddc_code=100\n",
    "        elif 200 <= ddc_code < 300:\n",
    "            mod_ddc_code=200\n",
    "        elif 300 <= ddc_code < 400:\n",
    "            mod_ddc_code=300\n",
    "        elif 400 <= ddc_code < 500:\n",
    "            mod_ddc_code=400\n",
    "        elif 500 <= ddc_code < 600:\n",
    "            mod_ddc_code=500\n",
    "        elif 600 <= ddc_code < 700:\n",
    "            mod_ddc_code=600\n",
    "        elif 700 <= ddc_code < 800:\n",
    "            mod_ddc_code=700\n",
    "        elif 800 <= ddc_code < 900:\n",
    "            mod_ddc_code=800\n",
    "        elif 900 <= ddc_code < 1000:\n",
    "            mod_ddc_code=900\n",
    "    return mod_ddc_code "
   ]
  },
  {
   "cell_type": "code",
   "execution_count": 47,
   "metadata": {},
   "outputs": [],
   "source": [
    "edges1                = edges.copy()\n",
    "edges1[\"ddc_code\"]    = edges1[\"ddc_code\"].apply(lambda x : eval(x)[-1] if len(eval(x))>0 else '').copy()\n",
    "edges1['ddc_code']    = edges1['ddc_code'].apply(lambda x : map_ddc(x))\n",
    "nodes_ddc             = nodes.copy()\n",
    "nodes_ddc[\"ddc_code\"] = nodes['rid'].apply(lambda x : list(set(edges1[(edges1['advId']==x) | (edges1['resId']==x)]['ddc_code'].values))).copy()"
   ]
  },
  {
   "cell_type": "code",
   "execution_count": 48,
   "metadata": {},
   "outputs": [],
   "source": [
    "inst_ddc = dict(zip(nodes_ddc[\"rid\"],nodes_ddc[\"ddc_code\"]))"
   ]
  },
  {
   "cell_type": "code",
   "execution_count": 49,
   "metadata": {},
   "outputs": [],
   "source": [
    "motif_3pt_ddc = motif_3pt.copy()"
   ]
  },
  {
   "cell_type": "code",
   "execution_count": 50,
   "metadata": {},
   "outputs": [],
   "source": [
    "motif_3pt_ddc['a_ddc']          = motif_3pt_ddc['a.Id'].map(inst_ddc)\n",
    "motif_3pt_ddc['b_ddc']          = motif_3pt_ddc['b.Id'].map(inst_ddc)\n",
    "motif_3pt_ddc['c_ddc']          = motif_3pt_ddc['c.Id'].map(inst_ddc)\n",
    "motif_3pt_ddc['diff_ddc']       = motif_3pt_ddc['a_ddc']+motif_3pt_ddc['b_ddc']+motif_3pt_ddc['c_ddc']\n",
    "motif_3pt_ddc['diff_ddc_count'] = motif_3pt_ddc['diff_ddc'].apply(lambda x : len(set(x)))"
   ]
  },
  {
   "cell_type": "code",
   "execution_count": 51,
   "metadata": {},
   "outputs": [
    {
     "data": {
      "text/plain": [
       "1    214\n",
       "2     10\n",
       "Name: diff_ddc_count, dtype: int64"
      ]
     },
     "execution_count": 51,
     "metadata": {},
     "output_type": "execute_result"
    }
   ],
   "source": [
    "motif_3pt_ddc['diff_ddc_count'].value_counts()"
   ]
  },
  {
   "cell_type": "code",
   "execution_count": 52,
   "metadata": {},
   "outputs": [],
   "source": [
    "freq_ddc_3 = list(motif_3pt_ddc['diff_ddc_count'].value_counts().values)+[0,0]"
   ]
  },
  {
   "cell_type": "code",
   "execution_count": 53,
   "metadata": {},
   "outputs": [],
   "source": [
    "motif_4pt_ddc = motif_4pt.copy()"
   ]
  },
  {
   "cell_type": "code",
   "execution_count": 54,
   "metadata": {},
   "outputs": [],
   "source": [
    "motif_4pt_ddc['a_ddc']          = motif_4pt_ddc['a.Id'].map(inst_ddc)\n",
    "motif_4pt_ddc['b_ddc']          = motif_4pt_ddc['b.Id'].map(inst_ddc)\n",
    "motif_4pt_ddc['c_ddc']          = motif_4pt_ddc['c.Id'].map(inst_ddc)\n",
    "motif_4pt_ddc['d_ddc']          = motif_4pt_ddc['d.Id'].map(inst_ddc)\n",
    "motif_4pt_ddc['diff_ddc']       = motif_4pt_ddc['a_ddc']+motif_4pt_ddc['b_ddc']+motif_4pt_ddc['c_ddc']+motif_4pt_ddc['d_ddc']\n",
    "motif_4pt_ddc['diff_ddc_count'] = motif_4pt_ddc['diff_ddc'].apply(lambda x : len(set(x)))"
   ]
  },
  {
   "cell_type": "code",
   "execution_count": 55,
   "metadata": {},
   "outputs": [
    {
     "data": {
      "text/plain": [
       "1    56\n",
       "Name: diff_ddc_count, dtype: int64"
      ]
     },
     "execution_count": 55,
     "metadata": {},
     "output_type": "execute_result"
    }
   ],
   "source": [
    "motif_4pt_ddc['diff_ddc_count'].value_counts()"
   ]
  },
  {
   "cell_type": "code",
   "execution_count": 56,
   "metadata": {},
   "outputs": [],
   "source": [
    "freq_ddc_4 = list(motif_4pt_ddc['diff_ddc_count'].value_counts().values/2)+[0,0,0]"
   ]
  },
  {
   "cell_type": "code",
   "execution_count": 57,
   "metadata": {},
   "outputs": [],
   "source": [
    "motif_5pt_ddc = motif_5pt.copy()"
   ]
  },
  {
   "cell_type": "code",
   "execution_count": 58,
   "metadata": {},
   "outputs": [],
   "source": [
    "motif_5pt_ddc['a_ddc']          = motif_5pt_ddc['a.Id'].map(inst_ddc)\n",
    "motif_5pt_ddc['b_ddc']          = motif_5pt_ddc['b.Id'].map(inst_ddc)\n",
    "motif_5pt_ddc['c_ddc']          = motif_5pt_ddc['c.Id'].map(inst_ddc)\n",
    "motif_5pt_ddc['d_ddc']          = motif_5pt_ddc['d.Id'].map(inst_ddc)\n",
    "motif_5pt_ddc['e_ddc']          = motif_5pt_ddc['e.Id'].map(inst_ddc)\n",
    "motif_5pt_ddc['diff_ddc']       = motif_5pt_ddc['a_ddc']+motif_5pt_ddc['b_ddc']+motif_5pt_ddc['c_ddc']+motif_5pt_ddc['d_ddc']+motif_5pt_ddc['e_ddc']\n",
    "motif_5pt_ddc['diff_ddc_count'] = motif_5pt_ddc['diff_ddc'].apply(lambda x : len(set(x)))"
   ]
  },
  {
   "cell_type": "code",
   "execution_count": 59,
   "metadata": {},
   "outputs": [],
   "source": [
    "#motif_5pt_ddc[motif_5pt_ddc['diff_ddc_count']==2]"
   ]
  },
  {
   "cell_type": "code",
   "execution_count": 60,
   "metadata": {},
   "outputs": [
    {
     "data": {
      "text/plain": [
       "1    438\n",
       "2     30\n",
       "3     10\n",
       "4      4\n",
       "Name: diff_ddc_count, dtype: int64"
      ]
     },
     "execution_count": 60,
     "metadata": {},
     "output_type": "execute_result"
    }
   ],
   "source": [
    "motif_5pt_ddc['diff_ddc_count'].value_counts()"
   ]
  },
  {
   "cell_type": "code",
   "execution_count": 61,
   "metadata": {},
   "outputs": [],
   "source": [
    "freq_ddc_5 = list(motif_5pt_ddc['diff_ddc_count'].value_counts().values/2)"
   ]
  },
  {
   "cell_type": "code",
   "execution_count": 64,
   "metadata": {},
   "outputs": [
    {
     "data": {
      "image/png": "[encoded data removed]",
      "text/plain": [
       "<Figure size 720x576 with 1 Axes>"
      ]
     },
     "metadata": {
      "needs_background": "light"
     },
     "output_type": "display_data"
    }
   ],
   "source": [
    "barWidth = 0.25\n",
    "fig = plt.subplots(figsize =(10, 8))\n",
    "\n",
    "\n",
    "br1 = np.arange(len(freq_ddc_5))\n",
    "br2 = [x + barWidth for x in br1]\n",
    "br3 = [x + barWidth for x in br2]\n",
    " \n",
    "\n",
    "plt.bar(br1, freq_ddc_5, color ='b', width = barWidth,\n",
    "        edgecolor ='grey', label ='5-node subgraph')\n",
    "plt.bar(br2, freq_ddc_4, color ='g', width = barWidth,\n",
    "        edgecolor ='grey', label ='4-node subgraph')\n",
    "plt.bar(br3, freq_ddc_3, color ='r', width = barWidth,\n",
    "        edgecolor ='grey', label ='3-node subgraph')\n",
    "\n",
    "# Adding Xticks\n",
    "plt.xlabel('Different subject (DDC) count', fontweight ='bold', fontsize = 16)\n",
    "plt.ylabel('Subgraph instance frequency', fontweight ='bold', fontsize = 16)\n",
    "plt.xticks([r + barWidth for r in range(len(freq_ddc_5))],\n",
    "        ['1', '2', '3','4'])\n",
    " \n",
    "plt.legend(prop={\"size\":18, \"weight\":\"bold\"})\n",
    "plt.savefig(save_dir+\"subgraph_ddc_freq.pdf\", bbox_inches='tight')\n",
    "plt.show()"
   ]
  },
  {
   "cell_type": "code",
   "execution_count": 72,
   "metadata": {},
   "outputs": [],
   "source": [
    "#freq_ddc_4"
   ]
  },
  {
   "cell_type": "code",
   "execution_count": 54,
   "metadata": {},
   "outputs": [
    {
     "data": {
      "text/plain": [
       "Index(['advisorId', 'researcherId', 'advId', 'resId', 'advisor_name',\n",
       "       'researcher_name', 'publisher_dept', 'DepartmentId',\n",
       "       'publisher_institution', 'instituteId', 'title', 'thesisId',\n",
       "       'N_thesisId', 'date_submitted', 'new_date_awarded', 'dc.date.awarded',\n",
       "       'dc.subject.ddc', 'uniq_ddc_across_dept', 'dc.description.abstract',\n",
       "       'dc.title.alternative', 'N_DepartmentId_1', 'ddc_code', 'advisor_advId',\n",
       "       'researcher_resId'],\n",
       "      dtype='object')"
      ]
     },
     "execution_count": 54,
     "metadata": {},
     "output_type": "execute_result"
    }
   ],
   "source": [
    "edges.columns"
   ]
  },
  {
   "cell_type": "code",
   "execution_count": 15,
   "metadata": {},
   "outputs": [
    {
     "data": {
      "text/plain": [
       "Mohan, S.    126\n",
       "Mohan S.       1\n",
       "S, Mohan       1\n",
       "Name: advisor_name, dtype: int64"
      ]
     },
     "execution_count": 15,
     "metadata": {},
     "output_type": "execute_result"
    }
   ],
   "source": [
    "edges[edges['advId']==144109]['advisor_name'].value_counts()"
   ]
  },
  {
   "cell_type": "code",
   "execution_count": 18,
   "metadata": {
    "scrolled": false
   },
   "outputs": [
    {
     "data": {
      "text/plain": [
       "array(['Effect of metacognitive orientation and attention activation on students_achievement in science',\n",
       "       'Teacher morale and student morale at secondary level in Dindigul Anna District of Tamilnadu',\n",
       "       'Role_performance of special education teachers',\n",
       "       'Unitary University educational management_a suggestive framework for operational efficiency',\n",
       "       'Effect of cognitive modeling on learning mathematics',\n",
       "       'Design and Evaluation of Induction Training Program for the Engineers of Highways Department of Tamil Nadu',\n",
       "       'Financial management in primary education in Chennai municipal corporation schools',\n",
       "       'Metacognitive orientation in learning English poetry among undergraduate second language learners',\n",
       "       'Prophet Muhammad as a teacher',\n",
       "       'Managerial roles performance by the heads of schools',\n",
       "       'An impact of sarva shiksha abhiyan on access_enrolment_retention_dropout and achievement in elementary education at Dharmapuri District',\n",
       "       'Attitudinal changes of student teachers in colleges of education affiliated to Mahatma Gandhi university_Kottayam',\n",
       "       'Mother tongue in higher education policies and practices in Tamil Nadu and Srilanka since 1950',\n",
       "       'Analysis of the process of teaching zoology among higher secondary school students',\n",
       "       'Effect of metacognition and motivational intervention strategies on developing competencies in teaching science among DIET trainees',\n",
       "       'A critical study on the influence of teaching related input sessions on teacher behaviour of teacher trainees',\n",
       "       'Development of democratic values through dilemma discussion model at higher secondary level',\n",
       "       'Student teachers_evaluation of teacher education programme offered in colleges of education in Tamil Nadu_an exploratory analysis',\n",
       "       'Correlates of teaching competence of teacher trainees in colleges of education',\n",
       "       'Occupational stress of teachers of different categories working in Chennai',\n",
       "       'Effectiveness of metacognitive orientation among teacher trainees on developing competencies in teaching social studies',\n",
       "       'Higher education governance in central universities a retrospective_perspective and prospective analysis',\n",
       "       'Enhancing perceptive skills_role of attention and motivational strategies in learning Botany at plus 2 level',\n",
       "       'Dr_Kalaignar_an architectural synergist of educational_social and cultural transformation',\n",
       "       'A study of creativity in the writings of final year undergraduate english literature students in Manonmaniam Sundaranar University',\n",
       "       'Impact of metacognitive strategies in enhancing perceptual skills among high school students on learning geometry',\n",
       "       'Quality assurance in directorate of distance education_a case study',\n",
       "       'Problems of urdu medium students in learning english language at high school',\n",
       "       'Designing concentration strategies and determining their effect on achievement of secondary and higher secondary students in Mathematics',\n",
       "       'Correlates of defense mechanism_emotional intelligence and academic achievement among college students',\n",
       "       'Role conflicts of women teachers in V_O_C_District',\n",
       "       'Effectiveness of remedial techmiques on improving reading skills among dyslexic students',\n",
       "       'Educational technology literature a biometric study',\n",
       "       'Effectiveness of non_formal education components in rural development programmes in Pasumpon Muthuramalinga Thevar District',\n",
       "       'Organizational climate and teacher burnout in primary schools in Pudukkottai District',\n",
       "       'An appraisal of performance indicators on effective schooling',\n",
       "       'Effect of modular approach on B Ed teacher trainees achievement in biology education',\n",
       "       'Efficacy of inservice training in developing scientific temper among primary children',\n",
       "       'Meta linguistic awareness and reading comprehension among primary school children',\n",
       "       'Effect of listening texts and tasks on facilitating listening comprehension among college students',\n",
       "       'Effect of parental intervention strategies on enhancing the academic achievement among nutritionally deficient students',\n",
       "       'Effect of nutrient intervention strategies on enhancing the scholastic achievement',\n",
       "       'A study on the problems of working women in Thoothukudi municipal area',\n",
       "       'Developing a systemic design on enhancing infrastructural facilities',\n",
       "       'Effect of yogasanas on memory attention achievement motivation and scholastic achievement of primary school children',\n",
       "       'Efficacy of Govindammal Aditanar college for women on developing human resource',\n",
       "       'Developing teaching competency in history among B_Ed_trainees through the information processing approach',\n",
       "       'Effectiveness of safety education programme and ergonomic design of safety helmet for industrial workers',\n",
       "       'Effectiveness of computer assisted instruction in mathematics among B_Sc_degree students',\n",
       "       'Enhancing communicative competence_effect of meta cognition and mediated learning experience among diet students',\n",
       "       'Developing communicative strategies to enhance written communication skill in english among college students',\n",
       "       'Enhancing academic performance of rural girl students in learning Chemistry an experimental study',\n",
       "       'Effect of memory and motivational strategies on developing perceptive thinking skills in learning chemistry at plus2 level',\n",
       "       'Functional efficiency of educational administrators in Tirunelveli District',\n",
       "       'Concept mapping on mathematics education through computer assisted instruction',\n",
       "       'Impact of psychological factors on the status of teaching mathematics',\n",
       "       'Effectiveness of multimedia instructional strategies in teaching science among the District Institute of Education and training students',\n",
       "       'Development of communicative strategy and its effectiveness in learning communicative skills in english at the collegiate level',\n",
       "       'Impact of in service training in the class room teaching of primary mathematics',\n",
       "       'Repetition among upper primary students in Thiruvallur district',\n",
       "       'Enhancing functional efficiency of undergraduate students of engineering in business letter writing with special reference to_tone_and_point of view_an experimental study',\n",
       "       'The values of university management in the state of Tamilnadu',\n",
       "       'Role of neurocognitive therapy in facilitating teaching competence in science education among D_T_E students',\n",
       "       'Quality assessment and accreditation of higher education institutions_an empirical model',\n",
       "       'Utilization of information and communication technologies in training the B_ED_Student_teachers in Tamilnadu',\n",
       "       'Effect of metacognitive intervention strategies in enhancing teaching competency of B_Ed_Students',\n",
       "       'Efficacy of total quality management on academic achievement among the teacher trainees',\n",
       "       'Learner needs and English syllabus at part ii undergraduate level of Madurai Kamaraj University',\n",
       "       'Role of gender_learning style and hemisphericity in influencing the teaching competence of B_Ed_Students',\n",
       "       'Effect of psycho linguistic intervention strategies in enhancing writing competency in english among high school learners',\n",
       "       'Role of activity based teaching strategies in enhancing the level of achievement in mathematics at primary level',\n",
       "       'Academic management of colleges of education and university colleges of teacher education affiliated to Mahatma Gandhi University Kottayam',\n",
       "       'Factors causing low achievement in mathematics among primary school children',\n",
       "       'Competency requirements of headmasters of primary schools',\n",
       "       'Relative effectiveness of computer assisted instruction_CAI_in learning mathematical concepts by normal and hearing_impaired learners',\n",
       "       'Minimising stress caused by emotional factors among teacher trainees in D I E T_Volume II',\n",
       "       'Correlates of anxiety and neuroticism among women teachers',\n",
       "       'Effectiveness of teacher controlled video assisted instruction on the achievement in biology among viii standard students',\n",
       "       'Effect of multimedia computer assisted learning in achievementin physics among higher secondary school students',\n",
       "       'Designing and determining the effect of training procedure on self_care_academic and social skills of mildly_moderately and severely mentally retarded children',\n",
       "       'A study of perception of english teaching and learning by graduate and non_graduate student teachers',\n",
       "       'Effect of information processing approach model in learning statistics',\n",
       "       'An investigation into the impact of discovery channel ETV programmes on the environmental knowledge_attitudes and behaviour intentions of the children in the age group 12_17',\n",
       "       'Total quality management for continuous improvement in engineering education',\n",
       "       'School robustness as perceived by English language teachers in the secondary schools in relation to their effectiveness in teaching English self esteem and personality type',\n",
       "       'Information seeking behaviour of professors in professional colleges and arts colleges in Manonmaniam Sundaranar University area',\n",
       "       'Participation of the state in achieving universal primary education',\n",
       "       'Effect of problem solving modeling in enhancing students achievement in Mathematics',\n",
       "       'Developing environmental science awareness among primary school students',\n",
       "       'Sivagangai mavatta kalvithurayil atchimozhi thitta cheyalakkam',\n",
       "       'An analysis of reading efficiency of low vision children in various print media',\n",
       "       'Effect of motivational intervention strategies on optimising professional competence among L I C agents',\n",
       "       'Effective schooling_an exploratory mathematical modelling',\n",
       "       'Effectiveness of teacher intervention strategy in developing school health programme',\n",
       "       'Effect of national child labour project in Dharmapuri District',\n",
       "       'A critical study on the creative thinking of the pupils of the secondary schools in Tinnevelly central educational district',\n",
       "       'Utilization and management of rural plant resources as an intervention strategy for the development of rural education',\n",
       "       'Oral english acquisition_Effect of communicative tasks and cognitive strategies',\n",
       "       'Inculcating educational thoughts of J Krishnamurthi on developing humaneness_among upper primary school children',\n",
       "       'Effect of meditation on anxiety_memory recall and academic achievement',\n",
       "       'Effect of computer assisted learning in zoology among higher secondary students',\n",
       "       'Effectiveness of multimedia instructional package for facilitating the learning of phrasal verbs',\n",
       "       'Leadership behaviour of polytechnic principals in Tamilnadu',\n",
       "       'Effect of information processing approach on developing problem solving ability in physics',\n",
       "       'Computer assisted assessment and instruction for low vision persons',\n",
       "       'Development of a multimedia instructional system for remedial measures in written english',\n",
       "       'Effect of auto_instructional programme on developing writing skill in English at I_B_E_level a case study',\n",
       "       'Availability accessibility and assurance of quality education in idhaya college for women',\n",
       "       'Emotional intelligence, self esteem and academic achievement of professional course students',\n",
       "       'Effect of emotional maturity marital adjustment and modernity of employed women on academic achievement of their children',\n",
       "       'Educational empowerment of self help group women',\n",
       "       'Effect of healthcare awareness campaign on dental fluorosis in enhancing scholastic achievement among school students',\n",
       "       'The role of left and right hemisphericity in influencing creative thinking intelligence and academic achievement of high school students',\n",
       "       'Rejuvenating the status of fisherfolk',\n",
       "       'Efficacy of utilising the computer assisted instruction on achievement in economics at higher secondary school',\n",
       "       'Interaction effect of mathematical creativity intelligence and problem solving ability on achievement in mathematics of IX standard students of Bangalore district',\n",
       "       'Effectiveness of computer mediated learning on achievement in english grammar among the students of class VIII',\n",
       "       'Efficacy of the utilisation of psycholinguistics principles and technopedagogic components in combating the difficulties of dyslexic students in reading',\n",
       "       'Effectiveness of multimedia programme in perceiving human anatomy among higher secondary students',\n",
       "       'A comparative study of the achievement in mathematics among the students of standard VIII of middle, high and higher secondary schools in Dindigul district',\n",
       "       'Emotional intelligence, aptitude and achievement in commerce of higher secondary students',\n",
       "       'Motivated self regulated learning and academic performance of student teachers',\n",
       "       'Influence of remedial techniques on improving reading skills among primary dyslexic students',\n",
       "       'Teacher effectiveness of postgraduate teachers teaching mathematics in higher secondary schools in Tirunelveli revenue district',\n",
       "       'Effectiveness of cognitive intervention strategies on developing competence in teaching science among DTE students',\n",
       "       'Effectiveness of information processing approach on minimising errors in translation among high school students',\n",
       "       'Developing and validating a training package to promote distance teaching activity through tutor comments on the learners assignment responses of IGNOU B_Ed_programme in Tamilnadu',\n",
       "       'A factor analytical study of the competency needs of primary school teachers in DPEP Districts of Tamilnadu'],\n",
       "      dtype=object)"
      ]
     },
     "execution_count": 18,
     "metadata": {},
     "output_type": "execute_result"
    }
   ],
   "source": [
    "edges[edges['advId']==144109]['title'].values"
   ]
  },
  {
   "cell_type": "code",
   "execution_count": 20,
   "metadata": {},
   "outputs": [
    {
     "data": {
      "text/plain": [
       "department of education                          126\n",
       "department of engineering education                1\n",
       "department of economics and rural development      1\n",
       "Name: publisher_dept, dtype: int64"
      ]
     },
     "execution_count": 20,
     "metadata": {},
     "output_type": "execute_result"
    }
   ],
   "source": [
    "edges[edges['advId']==144109]['publisher_dept'].value_counts()"
   ]
  },
  {
   "cell_type": "code",
   "execution_count": 33,
   "metadata": {},
   "outputs": [
    {
     "data": {
      "text/plain": [
       "array(['A grammar of Vachana literature',\n",
       "       'Janapada vagatugalu vimarsatmaka adhyayana',\n",
       "       'Shravana Belagola Rajakeeya sahityika sanskruthika mahatwa',\n",
       "       'Kavirajmarg parisarada Kannada sahitya',\n",
       "       'Kannada sangatya sahitya', 'Nemichandra Kavi Kavya vimarsha',\n",
       "       'Harihara kaviya stree patra darshan',\n",
       "       'Kannada sahityadalli allam prabhudevaru',\n",
       "       'Viakarni Eradaneya Nagaverma',\n",
       "       'Linguistic analysis of colloquial Kannada in Bidar district',\n",
       "       'The Christian Konkani of South Kanara a Linguistic analysis',\n",
       "       'Kesirajas Sabdamani Darpana a linguistic analysis',\n",
       "       'Kumaravyasana patra srusti', 'Hosagannada sahityada udayakala',\n",
       "       'Galaganatharu mattu avar kadambarigalu',\n",
       "       'Ambikatanayadattar bhavageetegalu',\n",
       "       'Puliger Aithihasik sahitya mattu sankruitika mahatva',\n",
       "       'Keladiya Arasaru mattu Kannda sahitya',\n",
       "       'Kannada sahityadalli veerarasa',\n",
       "       'Hariharana vyaktitva hagu kavitva',\n",
       "       'Kanakadasaru mattu avara krutigalu',\n",
       "       'Proudha Devarayana kalada Kannada sahitya',\n",
       "       'Mahadeviyakk mattu karikalamma taulunika vivechane',\n",
       "       'Nayasena mattu avana krutigalu',\n",
       "       'Janapad samajik kathan geetegalalli dukhant niroopane',\n",
       "       'Kavichakrawarti ponna mattu atana krutigalu',\n",
       "       'Karnatakada Gondaligaru hagu avara sahitya',\n",
       "       'Kumar Valmiki virachita Torave Ramayana',\n",
       "       'Vaddaradhane a study of religious Social literary and linguistic aspects',\n",
       "       'The Mysore and Dharwar Kannada dialects a comparative linguistic study',\n",
       "       'Bsavannanavar vachanagalalli lokanubhava mattu shivanubhava',\n",
       "       'Shabdha manidarpan lalitakalam Ondu adhyayana',\n",
       "       'Hoysalar Kannada sahitya',\n",
       "       'Siddharama Shivayogi Jeevan sahitya tatwa jnanagala vimarshatmak adhyana',\n",
       "       'A descriptive analysis of Lambani language spoken in Bijapur district',\n",
       "       'Comparative study of Vemana and Sarvajna'], dtype=object)"
      ]
     },
     "execution_count": 33,
     "metadata": {},
     "output_type": "execute_result"
    }
   ],
   "source": [
    "edges[edges['advisor_name']==\"Hiremath, R. C.\"]['title'].values"
   ]
  },
  {
   "cell_type": "code",
   "execution_count": 30,
   "metadata": {},
   "outputs": [
    {
     "data": {
      "text/plain": [
       "Dr. Babasaheb Ambedkar Marathwada University    62\n",
       "Name: publisher_institution, dtype: int64"
      ]
     },
     "execution_count": 30,
     "metadata": {},
     "output_type": "execute_result"
    }
   ],
   "source": [
    "edges[edges['advId']==88399]['publisher_institution'].value_counts()"
   ]
  },
  {
   "cell_type": "code",
   "execution_count": 25,
   "metadata": {},
   "outputs": [
    {
     "data": {
      "text/plain": [
       "advisor_name       publisher_dept       \n",
       "Nagbhushanam       department of zoology    22\n",
       "Nagbhushanam,      department of zoology    18\n",
       "Nagabhushanam, R.  department of zoology     8\n",
       "Nagbhushanam, R.   department of zoology     3\n",
       "Nagbhushnam        department of zoology     2\n",
       "Nagabhushanam,     department of zoology     2\n",
       "Nagabhushanam      department of zoology     2\n",
       "Nagbhushanam       department of botany      1\n",
       "Nagabhushnam       department of zoology     1\n",
       "Nagabhushanam, R.  department of botany      1\n",
       "Nagabhushanam, R,  department of zoology     1\n",
       "                   department of physics     1\n",
       "dtype: int64"
      ]
     },
     "execution_count": 25,
     "metadata": {},
     "output_type": "execute_result"
    }
   ],
   "source": [
    "edges[edges['advId']==88399][['advisor_name','publisher_dept']].value_counts()"
   ]
  },
  {
   "cell_type": "code",
   "execution_count": 29,
   "metadata": {},
   "outputs": [
    {
     "data": {
      "text/plain": [
       "array(['Biology of fresh water mussel parreysia corrugata',\n",
       "       'Studies on colour changes in the prawn macrobrachium kistnensis',\n",
       "       'Study on the biology of marine clam katelysis opima',\n",
       "       'Studies On Biochemical Ecology Of Indian Leech poecilobdella',\n",
       "       'Biology of slug',\n",
       "       'Some aspects of endocrinology of fresh water prawn caridina weheri',\n",
       "       'Effect of Cadmium Cholride on the Physiology of Freshwater Prawn Macrbrachium Kistnensis (1992-11-24)',\n",
       "       'Some aspects of physiology of Indian earthworm',\n",
       "       'Studies on biology of some decapod crustace of thanacreek',\n",
       "       'Biological studies of clam paphia laterisulca',\n",
       "       'Studies on the biology of indoplan orbis exustus',\n",
       "       'some aspects of physiology of hermit crab clibanarius arethu',\n",
       "       'studies on some physiological aspects and control of snail melanoides tuberculatus',\n",
       "       'Some aspects of the biology of snail gyraulus',\n",
       "       'Physiology of colour changes in tropical fish lepidocephalicthys thermalis',\n",
       "       'Some aspects of physiology of prawn caridina weberi',\n",
       "       'Effect of pesticidal pollutants on reproduction and neurosecretion in ma edible crab scylla serrata',\n",
       "       'Studies on some aspects of physiology of a marine prosobranch mud snail nassarius thersited brug (1981-05-19)',\n",
       "       'Physiology of moulting in freshwater prawn cardina rajadhari',\n",
       "       'Studies on biology of fresh water crab barytel phusa cunicularis (1973-01-24)',\n",
       "       'Studies on some physiological aspects of the insect heliothis armigera hubner',\n",
       "       'Reproductive Physiology And Neurosecretion In Some Indian Marine Prawns',\n",
       "       'Biology of the snail melania scabra',\n",
       "       'Studies on effect of marine toxins on prawn macrobarchium',\n",
       "       'Effect of aromatic chydrocarbons on biology of prawn macrobrachium lamerrii',\n",
       "       'Reproductive biology of indian marine prawn and its commercial importance',\n",
       "       'Reproductive biology and endocrinology of some marine molluscs',\n",
       "       'Respiratory physiology of the fresh water barytelphusa cunicularis',\n",
       "       'Some aspects of biology of meretrix',\n",
       "       'Environmental physiology of anomuran emerita (1976-12-20)',\n",
       "       'Studies of the effect of marine toxins on the prawn caridina',\n",
       "       'Studies on sexual biology of cardina weber',\n",
       "       'Physiological responses of prawn caridins rajadhari exposed to organotin antifouling compound',\n",
       "       'Study on the effects of some hydrocarbons on the physiology of the prawn macrobarchium lamerrii',\n",
       "       'Effects of pesticides on some aspects of philosophy of the fresh water prawn macrobrachium lamerrii',\n",
       "       'Studies on some aspects of physiology of lymnaea auricularia',\n",
       "       'Effect of organotin constituent copper on the physiology of fresh water prawn macrobrachiium kistnensis',\n",
       "       'Some physiological studies on tropical pest achoea janata biology of cestode parasites of fishes and reptiles',\n",
       "       'Studies on the reproductive biology and neurosecretion of fresh water prawn macrobrachium kisthensis',\n",
       "       'Comparative studies on ecology and fishes in the lakes of hyderabad andhra pradesh india',\n",
       "       'Physilological responess of prawn macro branchium lamerrii exposed to benzene',\n",
       "       'Effects of synthetic pyrethroid on some aspects of the physiology of the fresh water prawn macrobrah lamerrii',\n",
       "       'Studies on some aspects of biology of plants miles of marathwada',\n",
       "       'Some Biological Aspects Of Clam Corbicula Regularis',\n",
       "       'Studies on the biology of the marine bivalve onaxcuneatus',\n",
       "       'Neuroendocrinology of earthworm octochaetoides sudershensis',\n",
       "       'Histophisiology of digestive system of fresh water crab barytelphusa cunicularis',\n",
       "       'Physiological studies on crustacean pigmentary effectors and hyperglycemic hormone',\n",
       "       'Some physiological studies on cutworm spodopterd litura fabricius',\n",
       "       'Mandibular organ in crustacea',\n",
       "       'Some aspects of physiology of indonaia caeruleus',\n",
       "       'Biological studies in indian pulmonate snail lymnaea',\n",
       "       'Effect of some pollutants on the reproduction in crustscean',\n",
       "       'Studies on the effects of organophosphate pesticides on the reproduction of the crab Scylla serrata',\n",
       "       'A study of digistive physiology of the freshwater prawn macrobrachium kistnensis',\n",
       "       'Studies on physiological ecology of prawn caridina rajadhari',\n",
       "       'Studies on micro and macro fouling organisms of ratnagiri coast',\n",
       "       'Effect of some pesticidal pollutants on the physiology of the barytelphusa cunicularis',\n",
       "       'Studies on forages and microbiology aspects of deproteinized leaf extract',\n",
       "       'Biological investigation on gastropod',\n",
       "       'Studies on biology of arachnid hyalomma',\n",
       "       'Reproductive physiology and neurosecretion in some indian marine prawns'],\n",
       "      dtype=object)"
      ]
     },
     "execution_count": 29,
     "metadata": {},
     "output_type": "execute_result"
    }
   ],
   "source": [
    "edges[edges['advId']==88399]['title'].values"
   ]
  },
  {
   "cell_type": "code",
   "execution_count": null,
   "metadata": {},
   "outputs": [],
   "source": []
  }
 ],
 "metadata": {
  "kernelspec": {
   "display_name": "Python 3",
   "language": "python",
   "name": "python3"
  },
  "language_info": {
   "codemirror_mode": {
    "name": "ipython",
    "version": 3
   },
   "file_extension": ".py",
   "mimetype": "text/x-python",
   "name": "python",
   "nbconvert_exporter": "python",
   "pygments_lexer": "ipython3",
   "version": "3.7.12"
  }
 },
 "nbformat": 4,
 "nbformat_minor": 4
}
