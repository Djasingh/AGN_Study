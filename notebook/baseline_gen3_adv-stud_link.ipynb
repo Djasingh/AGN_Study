{
 "cells": [
  {
   "cell_type": "code",
   "execution_count": 1,
   "metadata": {},
   "outputs": [],
   "source": [
    "import pandas as pd\n",
    "import networkx as nx\n",
    "import matplotlib.pyplot as plt\n",
    "import numpy as np\n",
    "from collections import Counter\n",
    "import random\n",
    "from tqdm import tqdm\n",
    "import numpy as np\n",
    "import warnings\n",
    "import spacy\n",
    "from cdifflib import CSequenceMatcher\n",
    "import re"
   ]
  },
  {
   "cell_type": "code",
   "execution_count": 2,
   "metadata": {},
   "outputs": [],
   "source": [
    "tqdm.pandas()"
   ]
  },
  {
   "cell_type": "code",
   "execution_count": 3,
   "metadata": {},
   "outputs": [],
   "source": [
    "def lcs(name1, name2):\n",
    "    match = CSequenceMatcher(None, name1, name2).find_longest_match(0, len(name1), 0, len(name2))\n",
    "    common_subs=name1[match.a: match.a + match.size]\n",
    "    print(common_subs)\n",
    "    name1=re.sub(common_subs,\" \",name1)\n",
    "    name2=re.sub(common_subs,\" \",name2)\n",
    "    return name1,name2"
   ]
  },
  {
   "cell_type": "code",
   "execution_count": 42,
   "metadata": {},
   "outputs": [],
   "source": [
    "#nlp1 = spacy.load(\"en_core_web_trf\")"
   ]
  },
  {
   "cell_type": "code",
   "execution_count": 41,
   "metadata": {},
   "outputs": [],
   "source": [
    "#nlp(None).similarity(nlp(None))"
   ]
  },
  {
   "cell_type": "code",
   "execution_count": 28,
   "metadata": {},
   "outputs": [],
   "source": [
    "#nlp1('department of botany').similarity(nlp1(\"department of geography\"))"
   ]
  },
  {
   "cell_type": "code",
   "execution_count": 3,
   "metadata": {},
   "outputs": [],
   "source": [
    "#!pip install spacy-transformers"
   ]
  },
  {
   "cell_type": "code",
   "execution_count": 4,
   "metadata": {},
   "outputs": [],
   "source": [
    "#!python -m spacy download en_core_web_lg"
   ]
  },
  {
   "cell_type": "code",
   "execution_count": 5,
   "metadata": {},
   "outputs": [],
   "source": [
    "#en_core_web_trf"
   ]
  },
  {
   "cell_type": "code",
   "execution_count": 4,
   "metadata": {},
   "outputs": [],
   "source": [
    "nlp=spacy.load('en_core_web_lg')\n",
    "# warnings.filterwarnings(\"ignore\")"
   ]
  },
  {
   "cell_type": "code",
   "execution_count": null,
   "metadata": {},
   "outputs": [],
   "source": []
  },
  {
   "cell_type": "code",
   "execution_count": 6,
   "metadata": {},
   "outputs": [
    {
     "data": {
      "text/plain": [
       "0.6025974782122472"
      ]
     },
     "execution_count": 6,
     "metadata": {},
     "output_type": "execute_result"
    }
   ],
   "source": [
    "nlp(\"Shuklottar Hindi kavya chintan ki pravritiyan\").similarity(nlp(\"Ajit cour Prem prakash Waryam singh sadhu Jarnail singh Ate maninder singh kkang de parsang ich\"))"
   ]
  },
  {
   "cell_type": "code",
   "execution_count": 7,
   "metadata": {},
   "outputs": [
    {
     "data": {
      "text/plain": [
       "0.41150152495942566"
      ]
     },
     "execution_count": 7,
     "metadata": {},
     "output_type": "execute_result"
    }
   ],
   "source": [
    "nlp(\"AsvaGhosakrta Saundarananda eka bhasavaijnanik adhyayana\").similarity(nlp(\"Ajit cour Prem prakash Waryam singh sadhu Jarnail singh Ate maninder singh kkang de parsang ich\"))"
   ]
  },
  {
   "cell_type": "code",
   "execution_count": 122,
   "metadata": {},
   "outputs": [],
   "source": [
    "vec=nlp(\"department of education \").vector"
   ]
  },
  {
   "cell_type": "code",
   "execution_count": 109,
   "metadata": {},
   "outputs": [
    {
     "name": "stdout",
     "output_type": "stream",
     "text": [
      "department of \n"
     ]
    }
   ],
   "source": [
    "n1, n2 = lcs(\"department of home science\",\"department of family resource management\")"
   ]
  },
  {
   "cell_type": "code",
   "execution_count": 11,
   "metadata": {},
   "outputs": [],
   "source": [
    "n1,n2=lcs('department of zoology','department of botany')"
   ]
  },
  {
   "cell_type": "code",
   "execution_count": 46,
   "metadata": {},
   "outputs": [
    {
     "name": "stdout",
     "output_type": "stream",
     "text": [
      "of electronics\n"
     ]
    }
   ],
   "source": [
    "n1,n2=lcs('dept. of electronics', 'department of dept.of electronics')"
   ]
  },
  {
   "cell_type": "code",
   "execution_count": 80,
   "metadata": {},
   "outputs": [
    {
     "name": "stdout",
     "output_type": "stream",
     "text": [
      "department of \n"
     ]
    }
   ],
   "source": [
    "n1,n2=lcs(\"department of sociology\",\"department of biochemistry\")"
   ]
  },
  {
   "cell_type": "code",
   "execution_count": 48,
   "metadata": {},
   "outputs": [
    {
     "name": "stdout",
     "output_type": "stream",
     "text": [
      "o\n"
     ]
    }
   ],
   "source": [
    "n1,n2=lcs('zoology','botany')"
   ]
  },
  {
   "cell_type": "code",
   "execution_count": 91,
   "metadata": {},
   "outputs": [
    {
     "name": "stdout",
     "output_type": "stream",
     "text": [
      " of s\n"
     ]
    }
   ],
   "source": [
    "n1,n2=lcs(\"department of sacred heart college\",\"faculty of science and humanities\")"
   ]
  },
  {
   "cell_type": "code",
   "execution_count": 103,
   "metadata": {},
   "outputs": [
    {
     "name": "stdout",
     "output_type": "stream",
     "text": [
      " of \n"
     ]
    }
   ],
   "source": [
    "n1,n2=lcs(\"faculty of science and humanities\", \"department of economics\")#0"
   ]
  },
  {
   "cell_type": "code",
   "execution_count": 113,
   "metadata": {},
   "outputs": [
    {
     "name": "stdout",
     "output_type": "stream",
     "text": [
      "department of \n"
     ]
    }
   ],
   "source": [
    "n1,n2=lcs(\"department of commerce and financial studies\",\"department of economics\") #60"
   ]
  },
  {
   "cell_type": "code",
   "execution_count": 115,
   "metadata": {},
   "outputs": [
    {
     "name": "stdout",
     "output_type": "stream",
     "text": [
      "department of \n"
     ]
    }
   ],
   "source": [
    "n1,n2=lcs(\"department of zoology\",\"department of economics\") #61"
   ]
  },
  {
   "cell_type": "code",
   "execution_count": 111,
   "metadata": {},
   "outputs": [
    {
     "name": "stdout",
     "output_type": "stream",
     "text": [
      "department of e\n"
     ]
    }
   ],
   "source": [
    "n1,n2=lcs(\"department of english\", \"department of economics\")#43"
   ]
  },
  {
   "cell_type": "code",
   "execution_count": 117,
   "metadata": {},
   "outputs": [
    {
     "name": "stdout",
     "output_type": "stream",
     "text": [
      " of \n"
     ]
    }
   ],
   "source": [
    "n1,n2=lcs(\"faculty of science and humanities\", \"department of economics\")#73"
   ]
  },
  {
   "cell_type": "code",
   "execution_count": 119,
   "metadata": {},
   "outputs": [
    {
     "name": "stdout",
     "output_type": "stream",
     "text": [
      " of \n"
     ]
    }
   ],
   "source": [
    "n1,n2=lcs(\"department of applied mathematics\",\"faculty of science and humanities\")#75"
   ]
  },
  {
   "cell_type": "code",
   "execution_count": 82,
   "metadata": {},
   "outputs": [
    {
     "name": "stdout",
     "output_type": "stream",
     "text": [
      " of \n"
     ]
    }
   ],
   "source": [
    "n1,n2=lcs('department of biochemistry','Institute of microbial technology')"
   ]
  },
  {
   "cell_type": "code",
   "execution_count": 74,
   "metadata": {},
   "outputs": [],
   "source": [
    "#(department of home science, department of family resource management,0.56)\n",
    "#('department of biochemistry','Institute of microbial technology',0.5854)\n",
    "#(\"department of sociology\",\"department of biochemistry\", 0.5849)"
   ]
  },
  {
   "cell_type": "code",
   "execution_count": 107,
   "metadata": {},
   "outputs": [
    {
     "name": "stdout",
     "output_type": "stream",
     "text": [
      "department of \n"
     ]
    }
   ],
   "source": [
    "n1,n2=lcs(\"department of sociology\",\"department of home science\")"
   ]
  },
  {
   "cell_type": "code",
   "execution_count": 120,
   "metadata": {},
   "outputs": [
    {
     "data": {
      "text/plain": [
       "0.7558166762699375"
      ]
     },
     "execution_count": 120,
     "metadata": {},
     "output_type": "execute_result"
    }
   ],
   "source": [
    "nlp(n2).similarity(nlp(n1))"
   ]
  },
  {
   "cell_type": "code",
   "execution_count": 97,
   "metadata": {},
   "outputs": [
    {
     "data": {
      "text/plain": [
       "0.7840818947536574"
      ]
     },
     "execution_count": 97,
     "metadata": {},
     "output_type": "execute_result"
    }
   ],
   "source": [
    "nlp(\"department of english\").similarity(nlp(\"department of economics\"))"
   ]
  },
  {
   "cell_type": "code",
   "execution_count": 5,
   "metadata": {},
   "outputs": [
    {
     "data": {
      "text/plain": [
       "0.7028113303044402"
      ]
     },
     "execution_count": 5,
     "metadata": {},
     "output_type": "execute_result"
    }
   ],
   "source": [
    "nlp(\"department of biochemistry\").similarity(nlp(\"Institute of microbial technology\"))"
   ]
  },
  {
   "cell_type": "code",
   "execution_count": 90,
   "metadata": {},
   "outputs": [
    {
     "data": {
      "text/plain": [
       "0.521441133350551"
      ]
     },
     "execution_count": 90,
     "metadata": {},
     "output_type": "execute_result"
    }
   ],
   "source": [
    "nlp(\"Regulation of T helper 2 cells role of membrane associated molecules of antigen presenting cell\").similarity(nlp(\"Scheduled caste in an urban setting the jatav of Dehradun city\"))"
   ]
  },
  {
   "cell_type": "code",
   "execution_count": 85,
   "metadata": {},
   "outputs": [
    {
     "data": {
      "text/plain": [
       "0.46566903117209896"
      ]
     },
     "execution_count": 85,
     "metadata": {},
     "output_type": "execute_result"
    }
   ],
   "source": [
    "nlp('Natural sciences & mathematics,Chemistry & allied sciences').similarity(nlp(\"Technology\"))"
   ]
  },
  {
   "cell_type": "code",
   "execution_count": 70,
   "metadata": {},
   "outputs": [
    {
     "data": {
      "text/plain": [
       "0.8347826278796932"
      ]
     },
     "execution_count": 70,
     "metadata": {},
     "output_type": "execute_result"
    }
   ],
   "source": [
    "nlp('Natural sciences & mathematics,Chemistry & allied sciences').similarity(nlp(\"Social sciences,Sociology & anthropology\"))"
   ]
  },
  {
   "cell_type": "code",
   "execution_count": 4,
   "metadata": {},
   "outputs": [
    {
     "data": {
      "text/plain": [
       "0.23687376535375634"
      ]
     },
     "execution_count": 4,
     "metadata": {},
     "output_type": "execute_result"
    }
   ],
   "source": [
    "nlp(\"english\").similarity(nlp(\"economics\"))"
   ]
  },
  {
   "cell_type": "code",
   "execution_count": 121,
   "metadata": {},
   "outputs": [
    {
     "data": {
      "text/plain": [
       "0.8859409296757105"
      ]
     },
     "execution_count": 121,
     "metadata": {},
     "output_type": "execute_result"
    }
   ],
   "source": [
    "nlp(\"department of education \").similarity(nlp(\"department of department of agriculture botany\"))"
   ]
  },
  {
   "cell_type": "code",
   "execution_count": 120,
   "metadata": {},
   "outputs": [
    {
     "data": {
      "text/plain": [
       "0.778973507304866"
      ]
     },
     "execution_count": 120,
     "metadata": {},
     "output_type": "execute_result"
    }
   ],
   "source": [
    "nlp(\"department of agriculture microbiology\").similarity(nlp(\"department of department of agriculture botany\"))"
   ]
  },
  {
   "cell_type": "code",
   "execution_count": 118,
   "metadata": {},
   "outputs": [
    {
     "data": {
      "text/plain": [
       "0.9029461275530227"
      ]
     },
     "execution_count": 118,
     "metadata": {},
     "output_type": "execute_result"
    }
   ],
   "source": [
    "nlp('department of department of agriculture botany').similarity(nlp(\"department of geography\"))"
   ]
  },
  {
   "cell_type": "code",
   "execution_count": 114,
   "metadata": {},
   "outputs": [
    {
     "data": {
      "text/plain": [
       "0.7794907394236452"
      ]
     },
     "execution_count": 114,
     "metadata": {},
     "output_type": "execute_result"
    }
   ],
   "source": [
    "nlp('department of botany').similarity(nlp(\"department of geography\"))"
   ]
  },
  {
   "cell_type": "code",
   "execution_count": 22,
   "metadata": {},
   "outputs": [
    {
     "data": {
      "text/plain": [
       "0.4525621118231705"
      ]
     },
     "execution_count": 22,
     "metadata": {},
     "output_type": "execute_result"
    }
   ],
   "source": [
    "nlp('department of chemistry').similarity(nlp(\"department of geography\"))"
   ]
  },
  {
   "cell_type": "code",
   "execution_count": 17,
   "metadata": {},
   "outputs": [
    {
     "data": {
      "text/plain": [
       "0.8429583285456829"
      ]
     },
     "execution_count": 17,
     "metadata": {},
     "output_type": "execute_result"
    }
   ],
   "source": [
    "nlp('department of chemistry').similarity(nlp(\"department of botany\"))"
   ]
  },
  {
   "cell_type": "code",
   "execution_count": 15,
   "metadata": {},
   "outputs": [
    {
     "data": {
      "text/plain": [
       "0.7840818947536574"
      ]
     },
     "execution_count": 15,
     "metadata": {},
     "output_type": "execute_result"
    }
   ],
   "source": [
    "nlp(\"department of english\").similarity(nlp(\"department of economics\"))"
   ]
  },
  {
   "cell_type": "code",
   "execution_count": 13,
   "metadata": {},
   "outputs": [
    {
     "data": {
      "text/plain": [
       "0.8809601305414452"
      ]
     },
     "execution_count": 13,
     "metadata": {},
     "output_type": "execute_result"
    }
   ],
   "source": [
    "nlp(\"department of commerce and financial studies\").similarity(nlp(\"department of economics\"))"
   ]
  },
  {
   "cell_type": "code",
   "execution_count": 8,
   "metadata": {},
   "outputs": [
    {
     "data": {
      "text/plain": [
       "0.8224080742855482"
      ]
     },
     "execution_count": 8,
     "metadata": {},
     "output_type": "execute_result"
    }
   ],
   "source": [
    "nlp('department of education').similarity(nlp(\"faculty of science and humanities\"))"
   ]
  },
  {
   "cell_type": "code",
   "execution_count": 7,
   "metadata": {},
   "outputs": [
    {
     "data": {
      "text/plain": [
       "0.927177609612506"
      ]
     },
     "execution_count": 7,
     "metadata": {},
     "output_type": "execute_result"
    }
   ],
   "source": [
    "nlp('Social sciences').similarity(nlp(\"Social sciences,Education\"))"
   ]
  },
  {
   "cell_type": "code",
   "execution_count": 12,
   "metadata": {},
   "outputs": [
    {
     "data": {
      "text/plain": [
       "0.9404964004334113"
      ]
     },
     "execution_count": 12,
     "metadata": {},
     "output_type": "execute_result"
    }
   ],
   "source": [
    "nlp(\"Natural sciences & mathematics,Chemistry & allied sciences\").similarity(nlp('Natural sciences & mathematics,Mathematics'))"
   ]
  },
  {
   "cell_type": "code",
   "execution_count": 27,
   "metadata": {},
   "outputs": [
    {
     "data": {
      "text/plain": [
       "0.7042571898321132"
      ]
     },
     "execution_count": 27,
     "metadata": {},
     "output_type": "execute_result"
    }
   ],
   "source": [
    "nlp(\"Natural sciences & mathematics,Mathematics\").similarity(nlp('Social sciences,Commerce, communications & transportation,Commerce'))"
   ]
  },
  {
   "cell_type": "code",
   "execution_count": 13,
   "metadata": {},
   "outputs": [
    {
     "data": {
      "text/plain": [
       "1.0"
      ]
     },
     "execution_count": 13,
     "metadata": {},
     "output_type": "execute_result"
    }
   ],
   "source": [
    "nlp(\"Natural sciences & mathematics,Animals (Zoology)\").similarity(nlp('Natural sciences & mathematics,Animals (Zoology)'))"
   ]
  },
  {
   "cell_type": "code",
   "execution_count": null,
   "metadata": {},
   "outputs": [],
   "source": [
    "#threshold > 71"
   ]
  },
  {
   "cell_type": "code",
   "execution_count": 40,
   "metadata": {},
   "outputs": [],
   "source": [
    "ment = pd.read_csv('Shodhganga_mentorship.csv', sep = \",\")"
   ]
  },
  {
   "cell_type": "code",
   "execution_count": 5,
   "metadata": {},
   "outputs": [
    {
     "data": {
      "text/plain": [
       "Index(['advisorId', 'researcherId', 'advId_1', 'studId_1', 'advisor_name',\n",
       "       'researcher_name', 'dc.date.submitted[]', 'dc.language.iso[]',\n",
       "       'dc.publisher.department[]', 'DepartmentId',\n",
       "       'dc.publisher.institution[]', 'instituteId', 'dc.title[]', 'thesisId',\n",
       "       'dc.type.degree', 'dc.date.awarded', 'dc.subject.ddc', 'dc.source.uri',\n",
       "       'dc.description.abstract', 'dc.title.alternative'],\n",
       "      dtype='object')"
      ]
     },
     "execution_count": 5,
     "metadata": {},
     "output_type": "execute_result"
    }
   ],
   "source": [
    "ment.columns"
   ]
  },
  {
   "cell_type": "code",
   "execution_count": null,
   "metadata": {},
   "outputs": [],
   "source": [
    "ment=ment.fillna(\"Not Applicable\")"
   ]
  },
  {
   "cell_type": "code",
   "execution_count": 6,
   "metadata": {},
   "outputs": [],
   "source": [
    "ment['stud_inst_dept']=ment['researcher_name']+\"@\"+ment['instituteId']+\"@\"+ment['DepartmentId']"
   ]
  },
  {
   "cell_type": "code",
   "execution_count": 9,
   "metadata": {},
   "outputs": [],
   "source": [
    "uniq_stud=pd.unique(ment['stud_inst_dept'])"
   ]
  },
  {
   "cell_type": "code",
   "execution_count": 10,
   "metadata": {},
   "outputs": [],
   "source": [
    "stud_index=pd.DataFrame({'stud_inst_dept':uniq_stud})"
   ]
  },
  {
   "cell_type": "code",
   "execution_count": 12,
   "metadata": {},
   "outputs": [],
   "source": [
    "stud_index['rid']=stud_index.index"
   ]
  },
  {
   "cell_type": "code",
   "execution_count": 13,
   "metadata": {},
   "outputs": [],
   "source": [
    "ment[\"studId_1\"]=ment['stud_inst_dept'].map(stud_index.set_index('stud_inst_dept')['rid'])"
   ]
  },
  {
   "cell_type": "code",
   "execution_count": 15,
   "metadata": {},
   "outputs": [
    {
     "data": {
      "text/plain": [
       "192128"
      ]
     },
     "execution_count": 15,
     "metadata": {},
     "output_type": "execute_result"
    }
   ],
   "source": [
    "max(ment['studId_1'])"
   ]
  },
  {
   "cell_type": "code",
   "execution_count": null,
   "metadata": {},
   "outputs": [],
   "source": [
    "def index_advisor(row, df):\n",
    "    try:\n",
    "        match = df[df['researcher_name']==row['advisor_name']]\n",
    "        if len(match) == 1:\n",
    "            return match['studId_1']\n",
    "        elif len(match) == 0:\n",
    "            return np.nan\n",
    "        else:\n",
    "            tmp1=match[match['instituteId']==row['instituteId']]\n",
    "            if len(tmp1)==1:\n",
    "                return tmp1['studId_1']\n",
    "            elif len(tmp1)==0:\n",
    "                tmp4 = match[match['DepartmentId']==row['DepartmentId']]\n",
    "                if len(tmp4) == 1:\n",
    "                    return tmp4['studId_1']\n",
    "                elif len(tmp4)== 0:\n",
    "                    tmp5=match[match['dc.subject.ddc'].str.contains(row['dc.subject.ddc'],na=False)]\n",
    "                    if len(tmp5) == 1:\n",
    "                         return tmp5['studId_1']\n",
    "                    elif len(tmp5)==0:\n",
    "                        values=[(row1['studId_1'],nlp(row['dc.title[]']).similarity(nlp(row1['dc.title[]']))) \n",
    "                                for index, row1 in match.iterrows()]\n",
    "                        max_val=sorted(values,key=lambda x: x[0])\n",
    "                        return max_val[0][1]\n",
    "                    else:\n",
    "                        values=[(row1['studId_1'],nlp(row['dc.title[]']).similarity(nlp(row1['dc.title[]']))) \n",
    "                                for index, row1 in tmp5.iterrows()]\n",
    "                        max_val=sorted(values,key=lambda x: x[0])\n",
    "                        return max_val[0][1]\n",
    "                else:\n",
    "                    tmp7 = tmp4[tmp4['dc.subject.ddc'].str.contains(row['dc.subject.ddc'],na=False)]\n",
    "                    if len(tmp7)==1:\n",
    "                        return tmp7['studId_1']    \n",
    "                    elif len(tmp7)==0:\n",
    "                        values=[(row1['studId_1'],nlp(row['dc.title[]']).similarity(nlp(row1['dc.title[]']))) \n",
    "                                for index, row1 in tmp4.iterrows()]\n",
    "                        max_val=sorted(values,key=lambda x: x[0])\n",
    "                        return max_val[0][1]\n",
    "                    else:\n",
    "                        values=[(row1['studId_1'],nlp(row['dc.title[]']).similarity(nlp(row1['dc.title[]']))) \n",
    "                                for index, row1 in tmp7.iterrows()]\n",
    "                        max_val=sorted(values,key=lambda x: x[0])\n",
    "                        return max_val[0][1]\n",
    "\n",
    "            else:\n",
    "                tmp2=tmp1[tmp1['DepartmentId']==row['DepartmentId']]\n",
    "                if len(tmp2)==1:\n",
    "                    return tmp2['studId_1']\n",
    "                elif len(tmp2)==0:\n",
    "                    tmp6 = tmp1[tmp1['dc.subject.ddc'].str.contains(row['dc.subject.ddc'],na=False)]\n",
    "                    if len(tmp6)==1:\n",
    "                        return tmp6['studId_1']    \n",
    "                    elif len(tmp6)==0:\n",
    "                        values=[(row1['studId_1'],nlp(row['dc.title[]']).similarity(nlp(row1['dc.title[]']))) \n",
    "                                for index, row1 in tmp1.iterrows()]\n",
    "                        max_val=sorted(values,key=lambda x: x[0])\n",
    "                        return max_val[0][1]\n",
    "                    else:\n",
    "                        values=[(row1['studId_1'],nlp(row['dc.title[]']).similarity(nlp(row1['dc.title[]']))) \n",
    "                                for index, row1 in tmp6.iterrows()]\n",
    "                        max_val=sorted(values,key=lambda x: x[0])\n",
    "                        return max_val[0][1]\n",
    "\n",
    "                else:\n",
    "                    tmp3 = tmp2[tmp2['dc.subject.ddc'].str.contains(row['dc.subject.ddc'], na=False)]\n",
    "                    if len(tmp3)==1:\n",
    "                        return tmp3['studId_1']\n",
    "                    elif len(tmp3)==0:\n",
    "                        values=[(row1['studId_1'],nlp(row['dc.title[]']).similarity(nlp(row1['dc.title[]']))) \n",
    "                                for index, row1 in tmp2.iterrows()]\n",
    "                        max_val=sorted(values,key=lambda x: x[0])\n",
    "                        return max_val[0][1]\n",
    "                    else:\n",
    "                        values=[(row1['studId_1'],nlp(row['dc.title[]']).similarity(nlp(row1['dc.title[]']))) \n",
    "                                for index, row1 in tmp3.iterrows()]\n",
    "                        max_val=sorted(values,key=lambda x: x[0])\n",
    "                        return max_val[0][1]\n",
    "    except Exception:\n",
    "        print(row)\n",
    "        sys.exit(\"error occured\")     \n",
    "    return np.nan"
   ]
  },
  {
   "cell_type": "code",
   "execution_count": null,
   "metadata": {},
   "outputs": [],
   "source": [
    "ment[\"advId_1\"]=ment.progress_apply(index_advisor, args=(ment,),axis=1)"
   ]
  },
  {
   "cell_type": "code",
   "execution_count": null,
   "metadata": {},
   "outputs": [],
   "source": [
    "ment.to_csv(\"mod_ment_w_baseline_gen3.csv\", index=False)"
   ]
  },
  {
   "cell_type": "code",
   "execution_count": null,
   "metadata": {},
   "outputs": [],
   "source": [
    "ment.columns"
   ]
  },
  {
   "cell_type": "code",
   "execution_count": null,
   "metadata": {},
   "outputs": [],
   "source": [
    "#ment[ment['advisor_name'].str.contains('Raju')]"
   ]
  },
  {
   "cell_type": "markdown",
   "metadata": {},
   "source": [
    "<h2> Index Generation Rule Based Approach 3 </h2>"
   ]
  },
  {
   "cell_type": "code",
   "execution_count": 67,
   "metadata": {},
   "outputs": [],
   "source": [
    "ment = pd.read_csv('./index3_files/mod_ment_w_baseline_gen3.csv', sep = \",\")"
   ]
  },
  {
   "cell_type": "code",
   "execution_count": 6,
   "metadata": {},
   "outputs": [
    {
     "data": {
      "text/plain": [
       "Index(['advisorId', 'researcherId', 'advId_1', 'studId_1', 'advisor_name',\n",
       "       'researcher_name', 'dc.date.submitted[]', 'dc.language.iso[]',\n",
       "       'dc.publisher.department[]', 'DepartmentId',\n",
       "       'dc.publisher.institution[]', 'instituteId', 'dc.title[]', 'thesisId',\n",
       "       'dc.type.degree', 'dc.date.awarded', 'dc.subject.ddc', 'dc.source.uri',\n",
       "       'dc.description.abstract', 'dc.title.alternative'],\n",
       "      dtype='object')"
      ]
     },
     "execution_count": 6,
     "metadata": {},
     "output_type": "execute_result"
    }
   ],
   "source": [
    "ment.columns"
   ]
  },
  {
   "cell_type": "code",
   "execution_count": 7,
   "metadata": {},
   "outputs": [
    {
     "data": {
      "text/plain": [
       "(167048,)"
      ]
     },
     "execution_count": 7,
     "metadata": {},
     "output_type": "execute_result"
    }
   ],
   "source": [
    "ment.loc[ment['advId_1'].isnull(),'advId_1'].shape"
   ]
  },
  {
   "cell_type": "code",
   "execution_count": 8,
   "metadata": {},
   "outputs": [],
   "source": [
    "ment[\"advisor_inst\"]= ment['advisor_name']+\"@\"+ment['dc.publisher.institution[]']"
   ]
  },
  {
   "cell_type": "code",
   "execution_count": 9,
   "metadata": {},
   "outputs": [],
   "source": [
    "ment[\"researcher_inst\"]= ment['researcher_name']+\"@\"+ment['dc.publisher.institution[]']"
   ]
  },
  {
   "cell_type": "code",
   "execution_count": 10,
   "metadata": {},
   "outputs": [],
   "source": [
    "uniq_advisor=pd.unique(ment[\"advisor_inst\"])"
   ]
  },
  {
   "cell_type": "code",
   "execution_count": 12,
   "metadata": {},
   "outputs": [],
   "source": [
    "indexed_name=pd.DataFrame({'names_inst':uniq_advisor})"
   ]
  },
  {
   "cell_type": "code",
   "execution_count": null,
   "metadata": {},
   "outputs": [],
   "source": [
    "def obtain_index(name, ment):\n",
    "    match=pd.unique(ment[ment['advisor_inst']==name]['advId_1'])\n",
    "    if len(match)==1:\n",
    "        return match[0]\n",
    "    else:\n",
    "        count = dict(Counter(match))\n",
    "        sorted_count= sorted(count, key=count.get, reverse=True)\n",
    "        return sorted_count[0]"
   ]
  },
  {
   "cell_type": "code",
   "execution_count": 18,
   "metadata": {},
   "outputs": [
    {
     "name": "stderr",
     "output_type": "stream",
     "text": [
      "100%|██████████| 84077/84077 [43:01<00:00, 32.57it/s]  \n"
     ]
    }
   ],
   "source": [
    "indexed_name[\"rid\"]=indexed_name[\"names_inst\"].progress_apply(obtain_index, args=(ment,))"
   ]
  },
  {
   "cell_type": "code",
   "execution_count": 30,
   "metadata": {},
   "outputs": [],
   "source": [
    "indexed_name1=ment[[\"researcher_inst\",\"studId_1\"]].copy()\n",
    "indexed_name1.rename(columns={\"researcher_inst\":\"names_inst\",\"studId_1\":\"rid\"},inplace=True)"
   ]
  },
  {
   "cell_type": "code",
   "execution_count": 31,
   "metadata": {},
   "outputs": [
    {
     "data": {
      "text/html": [
       "<div>\n",
       "<style scoped>\n",
       "    .dataframe tbody tr th:only-of-type {\n",
       "        vertical-align: middle;\n",
       "    }\n",
       "\n",
       "    .dataframe tbody tr th {\n",
       "        vertical-align: top;\n",
       "    }\n",
       "\n",
       "    .dataframe thead th {\n",
       "        text-align: right;\n",
       "    }\n",
       "</style>\n",
       "<table border=\"1\" class=\"dataframe\">\n",
       "  <thead>\n",
       "    <tr style=\"text-align: right;\">\n",
       "      <th></th>\n",
       "      <th>names_inst</th>\n",
       "      <th>rid</th>\n",
       "    </tr>\n",
       "  </thead>\n",
       "  <tbody>\n",
       "    <tr>\n",
       "      <th>0</th>\n",
       "      <td>Jose, Joseph@Mahatma Gandhi University</td>\n",
       "      <td>40962.0</td>\n",
       "    </tr>\n",
       "    <tr>\n",
       "      <th>1</th>\n",
       "      <td>Raju, K. V.@Mahatma Gandhi University</td>\n",
       "      <td>NaN</td>\n",
       "    </tr>\n",
       "    <tr>\n",
       "      <th>2</th>\n",
       "      <td>Joseph, K. K.@Mahatma Gandhi University</td>\n",
       "      <td>NaN</td>\n",
       "    </tr>\n",
       "    <tr>\n",
       "      <th>3</th>\n",
       "      <td>Thomas, E. M.@Mahatma Gandhi University</td>\n",
       "      <td>NaN</td>\n",
       "    </tr>\n",
       "    <tr>\n",
       "      <th>4</th>\n",
       "      <td>Francis, M. S.@Mahatma Gandhi University</td>\n",
       "      <td>NaN</td>\n",
       "    </tr>\n",
       "  </tbody>\n",
       "</table>\n",
       "</div>"
      ],
      "text/plain": [
       "                                 names_inst      rid\n",
       "0    Jose, Joseph@Mahatma Gandhi University  40962.0\n",
       "1     Raju, K. V.@Mahatma Gandhi University      NaN\n",
       "2   Joseph, K. K.@Mahatma Gandhi University      NaN\n",
       "3   Thomas, E. M.@Mahatma Gandhi University      NaN\n",
       "4  Francis, M. S.@Mahatma Gandhi University      NaN"
      ]
     },
     "execution_count": 31,
     "metadata": {},
     "output_type": "execute_result"
    }
   ],
   "source": [
    "indexed_name.head()"
   ]
  },
  {
   "cell_type": "code",
   "execution_count": 32,
   "metadata": {},
   "outputs": [],
   "source": [
    "final_indexed_names=pd.concat([indexed_name, indexed_name1],ignore_index=True)"
   ]
  },
  {
   "cell_type": "code",
   "execution_count": 34,
   "metadata": {},
   "outputs": [],
   "source": [
    "final_indexed_names[[\"r_names\",\"inst\"]]=final_indexed_names[\"names_inst\"].str.split('@', expand=True)"
   ]
  },
  {
   "cell_type": "code",
   "execution_count": 36,
   "metadata": {},
   "outputs": [],
   "source": [
    "final_indexed_names=final_indexed_names[['r_names','rid','inst','names_inst']]"
   ]
  },
  {
   "cell_type": "code",
   "execution_count": 37,
   "metadata": {},
   "outputs": [
    {
     "data": {
      "text/html": [
       "<div>\n",
       "<style scoped>\n",
       "    .dataframe tbody tr th:only-of-type {\n",
       "        vertical-align: middle;\n",
       "    }\n",
       "\n",
       "    .dataframe tbody tr th {\n",
       "        vertical-align: top;\n",
       "    }\n",
       "\n",
       "    .dataframe thead th {\n",
       "        text-align: right;\n",
       "    }\n",
       "</style>\n",
       "<table border=\"1\" class=\"dataframe\">\n",
       "  <thead>\n",
       "    <tr style=\"text-align: right;\">\n",
       "      <th></th>\n",
       "      <th>r_names</th>\n",
       "      <th>rid</th>\n",
       "      <th>inst</th>\n",
       "      <th>names_inst</th>\n",
       "    </tr>\n",
       "  </thead>\n",
       "  <tbody>\n",
       "    <tr>\n",
       "      <th>0</th>\n",
       "      <td>Jose, Joseph</td>\n",
       "      <td>40962.0</td>\n",
       "      <td>Mahatma Gandhi University</td>\n",
       "      <td>Jose, Joseph@Mahatma Gandhi University</td>\n",
       "    </tr>\n",
       "    <tr>\n",
       "      <th>1</th>\n",
       "      <td>Raju, K. V.</td>\n",
       "      <td>NaN</td>\n",
       "      <td>Mahatma Gandhi University</td>\n",
       "      <td>Raju, K. V.@Mahatma Gandhi University</td>\n",
       "    </tr>\n",
       "    <tr>\n",
       "      <th>2</th>\n",
       "      <td>Joseph, K. K.</td>\n",
       "      <td>NaN</td>\n",
       "      <td>Mahatma Gandhi University</td>\n",
       "      <td>Joseph, K. K.@Mahatma Gandhi University</td>\n",
       "    </tr>\n",
       "    <tr>\n",
       "      <th>3</th>\n",
       "      <td>Thomas, E. M.</td>\n",
       "      <td>NaN</td>\n",
       "      <td>Mahatma Gandhi University</td>\n",
       "      <td>Thomas, E. M.@Mahatma Gandhi University</td>\n",
       "    </tr>\n",
       "    <tr>\n",
       "      <th>4</th>\n",
       "      <td>Francis, M. S.</td>\n",
       "      <td>NaN</td>\n",
       "      <td>Mahatma Gandhi University</td>\n",
       "      <td>Francis, M. S.@Mahatma Gandhi University</td>\n",
       "    </tr>\n",
       "  </tbody>\n",
       "</table>\n",
       "</div>"
      ],
      "text/plain": [
       "          r_names      rid                       inst  \\\n",
       "0    Jose, Joseph  40962.0  Mahatma Gandhi University   \n",
       "1     Raju, K. V.      NaN  Mahatma Gandhi University   \n",
       "2   Joseph, K. K.      NaN  Mahatma Gandhi University   \n",
       "3   Thomas, E. M.      NaN  Mahatma Gandhi University   \n",
       "4  Francis, M. S.      NaN  Mahatma Gandhi University   \n",
       "\n",
       "                                 names_inst  \n",
       "0    Jose, Joseph@Mahatma Gandhi University  \n",
       "1     Raju, K. V.@Mahatma Gandhi University  \n",
       "2   Joseph, K. K.@Mahatma Gandhi University  \n",
       "3   Thomas, E. M.@Mahatma Gandhi University  \n",
       "4  Francis, M. S.@Mahatma Gandhi University  "
      ]
     },
     "execution_count": 37,
     "metadata": {},
     "output_type": "execute_result"
    }
   ],
   "source": [
    "final_indexed_names.head()"
   ]
  },
  {
   "cell_type": "code",
   "execution_count": 25,
   "metadata": {},
   "outputs": [],
   "source": [
    "#indexed_name[~(indexed_name['rid'].isnull())]                                        #806 row need validation"
   ]
  },
  {
   "cell_type": "code",
   "execution_count": 58,
   "metadata": {},
   "outputs": [
    {
     "data": {
      "text/html": [
       "<div>\n",
       "<style scoped>\n",
       "    .dataframe tbody tr th:only-of-type {\n",
       "        vertical-align: middle;\n",
       "    }\n",
       "\n",
       "    .dataframe tbody tr th {\n",
       "        vertical-align: top;\n",
       "    }\n",
       "\n",
       "    .dataframe thead th {\n",
       "        text-align: right;\n",
       "    }\n",
       "</style>\n",
       "<table border=\"1\" class=\"dataframe\">\n",
       "  <thead>\n",
       "    <tr style=\"text-align: right;\">\n",
       "      <th></th>\n",
       "      <th>advisorId</th>\n",
       "      <th>researcherId</th>\n",
       "      <th>advId_1</th>\n",
       "      <th>studId_1</th>\n",
       "      <th>advisor_name</th>\n",
       "      <th>researcher_name</th>\n",
       "      <th>dc.date.submitted[]</th>\n",
       "      <th>dc.language.iso[]</th>\n",
       "      <th>dc.publisher.department[]</th>\n",
       "      <th>DepartmentId</th>\n",
       "      <th>...</th>\n",
       "      <th>dc.title[]</th>\n",
       "      <th>thesisId</th>\n",
       "      <th>dc.type.degree</th>\n",
       "      <th>dc.date.awarded</th>\n",
       "      <th>dc.subject.ddc</th>\n",
       "      <th>dc.source.uri</th>\n",
       "      <th>dc.description.abstract</th>\n",
       "      <th>dc.title.alternative</th>\n",
       "      <th>advisor_inst</th>\n",
       "      <th>researcher_inst</th>\n",
       "    </tr>\n",
       "  </thead>\n",
       "  <tbody>\n",
       "    <tr>\n",
       "      <th>101</th>\n",
       "      <td>58</td>\n",
       "      <td>75985</td>\n",
       "      <td>84.0</td>\n",
       "      <td>102</td>\n",
       "      <td>Kumar, K. Vijaya</td>\n",
       "      <td>Lakshmi, M.</td>\n",
       "      <td>28-10-2016</td>\n",
       "      <td>eng</td>\n",
       "      <td>department of physics</td>\n",
       "      <td>D1787</td>\n",
       "      <td>...</td>\n",
       "      <td>studies on structural magnetic and dielectric ...</td>\n",
       "      <td>T158276</td>\n",
       "      <td>phd</td>\n",
       "      <td>04-09-2017</td>\n",
       "      <td>500::Natural sciences &amp; mathematics|530::Physics</td>\n",
       "      <td>http://shodhganga.inflibnet.ac.in/</td>\n",
       "      <td>Not_Applicable</td>\n",
       "      <td>Not_Applicable</td>\n",
       "      <td>Kumar, K. Vijaya@Jawaharlal Nehru Technologica...</td>\n",
       "      <td>Lakshmi, M.@Jawaharlal Nehru Technological Uni...</td>\n",
       "    </tr>\n",
       "    <tr>\n",
       "      <th>215</th>\n",
       "      <td>115</td>\n",
       "      <td>76080</td>\n",
       "      <td>219.0</td>\n",
       "      <td>216</td>\n",
       "      <td>Antony, Cecilia</td>\n",
       "      <td>Aurora, Ramnik</td>\n",
       "      <td>31-12-2013</td>\n",
       "      <td>eng</td>\n",
       "      <td>department of french</td>\n",
       "      <td>D2106</td>\n",
       "      <td>...</td>\n",
       "      <td>Les Sikns Vus Par les Voyageurs francais 1800 ...</td>\n",
       "      <td>T103015</td>\n",
       "      <td>phd</td>\n",
       "      <td>Not_Applicable</td>\n",
       "      <td>000::Computer science, information &amp; general w...</td>\n",
       "      <td>http://shodhganga.inflibnet.ac.in/</td>\n",
       "      <td>Not_Applicable</td>\n",
       "      <td>Not_Applicable</td>\n",
       "      <td>Antony, Cecilia@Panjab University</td>\n",
       "      <td>Aurora, Ramnik@Panjab University</td>\n",
       "    </tr>\n",
       "    <tr>\n",
       "      <th>217</th>\n",
       "      <td>115</td>\n",
       "      <td>1259</td>\n",
       "      <td>219.0</td>\n",
       "      <td>218</td>\n",
       "      <td>Antony, Cecilia</td>\n",
       "      <td>Sharma, Nidhi</td>\n",
       "      <td>31-12-2011</td>\n",
       "      <td>eng</td>\n",
       "      <td>department of french</td>\n",
       "      <td>D2106</td>\n",
       "      <td>...</td>\n",
       "      <td>La satire chez marcel pagnol</td>\n",
       "      <td>T158241</td>\n",
       "      <td>phd</td>\n",
       "      <td>Not_Applicable</td>\n",
       "      <td>000::Computer science, information &amp; general w...</td>\n",
       "      <td>http://shodhganga.inflibnet.ac.in/</td>\n",
       "      <td>Not_Applicable</td>\n",
       "      <td>Not_Applicable</td>\n",
       "      <td>Antony, Cecilia@Panjab University</td>\n",
       "      <td>Sharma, Nidhi@Panjab University</td>\n",
       "    </tr>\n",
       "    <tr>\n",
       "      <th>897</th>\n",
       "      <td>503</td>\n",
       "      <td>76646</td>\n",
       "      <td>899.0</td>\n",
       "      <td>898</td>\n",
       "      <td>Muthusami, T.</td>\n",
       "      <td>Subramaniam, P K.</td>\n",
       "      <td>Not_Applicable</td>\n",
       "      <td>eng</td>\n",
       "      <td>department of physical education and sports</td>\n",
       "      <td>D815</td>\n",
       "      <td>...</td>\n",
       "      <td>Computation of norms for physical fitness amon...</td>\n",
       "      <td>T74875</td>\n",
       "      <td>phd</td>\n",
       "      <td>Not_Applicable</td>\n",
       "      <td>300::Social sciences|370::Education</td>\n",
       "      <td>http://shodhganga.inflibnet.ac.in/</td>\n",
       "      <td>Not_Applicable</td>\n",
       "      <td>Not_Applicable</td>\n",
       "      <td>Muthusami, T.@Pondicherry University</td>\n",
       "      <td>Subramaniam, P K.@Pondicherry University</td>\n",
       "    </tr>\n",
       "  </tbody>\n",
       "</table>\n",
       "<p>4 rows × 22 columns</p>\n",
       "</div>"
      ],
      "text/plain": [
       "     advisorId  researcherId  advId_1  studId_1      advisor_name  \\\n",
       "101         58         75985     84.0       102  Kumar, K. Vijaya   \n",
       "215        115         76080    219.0       216   Antony, Cecilia   \n",
       "217        115          1259    219.0       218   Antony, Cecilia   \n",
       "897        503         76646    899.0       898     Muthusami, T.   \n",
       "\n",
       "       researcher_name dc.date.submitted[] dc.language.iso[]  \\\n",
       "101        Lakshmi, M.          28-10-2016               eng   \n",
       "215     Aurora, Ramnik          31-12-2013               eng   \n",
       "217      Sharma, Nidhi          31-12-2011               eng   \n",
       "897  Subramaniam, P K.      Not_Applicable               eng   \n",
       "\n",
       "                       dc.publisher.department[] DepartmentId  ...  \\\n",
       "101                        department of physics        D1787  ...   \n",
       "215                         department of french        D2106  ...   \n",
       "217                         department of french        D2106  ...   \n",
       "897  department of physical education and sports         D815  ...   \n",
       "\n",
       "                                            dc.title[] thesisId  \\\n",
       "101  studies on structural magnetic and dielectric ...  T158276   \n",
       "215  Les Sikns Vus Par les Voyageurs francais 1800 ...  T103015   \n",
       "217                       La satire chez marcel pagnol  T158241   \n",
       "897  Computation of norms for physical fitness amon...   T74875   \n",
       "\n",
       "    dc.type.degree dc.date.awarded  \\\n",
       "101            phd      04-09-2017   \n",
       "215            phd  Not_Applicable   \n",
       "217            phd  Not_Applicable   \n",
       "897            phd  Not_Applicable   \n",
       "\n",
       "                                        dc.subject.ddc  \\\n",
       "101   500::Natural sciences & mathematics|530::Physics   \n",
       "215  000::Computer science, information & general w...   \n",
       "217  000::Computer science, information & general w...   \n",
       "897                300::Social sciences|370::Education   \n",
       "\n",
       "                          dc.source.uri dc.description.abstract  \\\n",
       "101  http://shodhganga.inflibnet.ac.in/          Not_Applicable   \n",
       "215  http://shodhganga.inflibnet.ac.in/          Not_Applicable   \n",
       "217  http://shodhganga.inflibnet.ac.in/          Not_Applicable   \n",
       "897  http://shodhganga.inflibnet.ac.in/          Not_Applicable   \n",
       "\n",
       "    dc.title.alternative                                       advisor_inst  \\\n",
       "101       Not_Applicable  Kumar, K. Vijaya@Jawaharlal Nehru Technologica...   \n",
       "215       Not_Applicable                  Antony, Cecilia@Panjab University   \n",
       "217       Not_Applicable                  Antony, Cecilia@Panjab University   \n",
       "897       Not_Applicable               Muthusami, T.@Pondicherry University   \n",
       "\n",
       "                                       researcher_inst  \n",
       "101  Lakshmi, M.@Jawaharlal Nehru Technological Uni...  \n",
       "215                   Aurora, Ramnik@Panjab University  \n",
       "217                    Sharma, Nidhi@Panjab University  \n",
       "897           Subramaniam, P K.@Pondicherry University  \n",
       "\n",
       "[4 rows x 22 columns]"
      ]
     },
     "execution_count": 58,
     "metadata": {},
     "output_type": "execute_result"
    }
   ],
   "source": [
    "ment[~(ment['advId_1'].isnull())]"
   ]
  },
  {
   "cell_type": "code",
   "execution_count": 109,
   "metadata": {},
   "outputs": [
    {
     "data": {
      "text/plain": [
       "array(['A study of agricultural and rural development banks in Kerala with special reference to funds management'],\n",
       "      dtype=object)"
      ]
     },
     "execution_count": 109,
     "metadata": {},
     "output_type": "execute_result"
    }
   ],
   "source": [
    "ment[ment['studId_1']==6676].iloc[:,2:20]['dc.title[]'].values"
   ]
  },
  {
   "cell_type": "code",
   "execution_count": 98,
   "metadata": {},
   "outputs": [
    {
     "data": {
      "text/plain": [
       "array(['Micromorphological studies in guayule rubber parthenium argentatum gray'],\n",
       "      dtype=object)"
      ]
     },
     "execution_count": 98,
     "metadata": {},
     "output_type": "execute_result"
    }
   ],
   "source": [
    "ment[ment['studId_1']==157132].iloc[:,5:20]['dc.title[]'].values"
   ]
  },
  {
   "cell_type": "code",
   "execution_count": 24,
   "metadata": {},
   "outputs": [
    {
     "data": {
      "text/plain": [
       "array(['600::Technology|650::Management & auxiliary services|658::General management',\n",
       "       '500::Natural sciences & mathematics|570::Life sciences| biology'],\n",
       "      dtype=object)"
      ]
     },
     "execution_count": 24,
     "metadata": {},
     "output_type": "execute_result"
    }
   ],
   "source": [
    "ment[ment['researcher_name']==\"Joseph, Joy P.\"]['dc.subject.ddc'].values"
   ]
  },
  {
   "cell_type": "code",
   "execution_count": 44,
   "metadata": {},
   "outputs": [
    {
     "data": {
      "text/plain": [
       "'Jawaharlal Nehru Technological University, Anantapuram'"
      ]
     },
     "execution_count": 44,
     "metadata": {},
     "output_type": "execute_result"
    }
   ],
   "source": [
    "final_indexed_names[final_indexed_names['names_inst'].duplicated()]['inst'].values[2]"
   ]
  },
  {
   "cell_type": "code",
   "execution_count": 40,
   "metadata": {},
   "outputs": [],
   "source": [
    "#final_indexed_names[final_indexed_names['r_names']==\"John, Presty\"]"
   ]
  },
  {
   "cell_type": "code",
   "execution_count": 44,
   "metadata": {},
   "outputs": [
    {
     "data": {
      "text/plain": [
       "Index(['advisorId', 'researcherId', 'advId_1', 'studId_1', 'advisor_name',\n",
       "       'researcher_name', 'dc.date.submitted[]', 'dc.language.iso[]',\n",
       "       'dc.publisher.department[]', 'DepartmentId',\n",
       "       'dc.publisher.institution[]', 'instituteId', 'dc.title[]', 'thesisId',\n",
       "       'dc.type.degree', 'dc.date.awarded', 'dc.subject.ddc', 'dc.source.uri',\n",
       "       'dc.description.abstract', 'dc.title.alternative'],\n",
       "      dtype='object')"
      ]
     },
     "execution_count": 44,
     "metadata": {},
     "output_type": "execute_result"
    }
   ],
   "source": [
    "ment.columns"
   ]
  },
  {
   "cell_type": "code",
   "execution_count": 100,
   "metadata": {},
   "outputs": [],
   "source": [
    "ment = pd.read_csv('./index3_files/mod_ment_w_baseline_gen3.csv', sep = \",\")"
   ]
  },
  {
   "cell_type": "code",
   "execution_count": 112,
   "metadata": {},
   "outputs": [],
   "source": [
    "ment['dc.publisher.department[]']=ment['dc.publisher.department[]'].fillna(value=ment['dc.publisher.institution[]'])"
   ]
  },
  {
   "cell_type": "code",
   "execution_count": 41,
   "metadata": {},
   "outputs": [],
   "source": [
    "#ment[ment['dc.publisher.department[]'].isnull()]"
   ]
  },
  {
   "cell_type": "code",
   "execution_count": 98,
   "metadata": {},
   "outputs": [
    {
     "data": {
      "text/html": [
       "<div>\n",
       "<style scoped>\n",
       "    .dataframe tbody tr th:only-of-type {\n",
       "        vertical-align: middle;\n",
       "    }\n",
       "\n",
       "    .dataframe tbody tr th {\n",
       "        vertical-align: top;\n",
       "    }\n",
       "\n",
       "    .dataframe thead th {\n",
       "        text-align: right;\n",
       "    }\n",
       "</style>\n",
       "<table border=\"1\" class=\"dataframe\">\n",
       "  <thead>\n",
       "    <tr style=\"text-align: right;\">\n",
       "      <th></th>\n",
       "      <th>advisorId</th>\n",
       "      <th>researcherId</th>\n",
       "      <th>advId_1</th>\n",
       "      <th>studId_1</th>\n",
       "      <th>advisor_name</th>\n",
       "      <th>researcher_name</th>\n",
       "      <th>dc.date.submitted[]</th>\n",
       "      <th>dc.language.iso[]</th>\n",
       "      <th>dc.publisher.department[]</th>\n",
       "      <th>DepartmentId</th>\n",
       "      <th>...</th>\n",
       "      <th>instituteId</th>\n",
       "      <th>dc.title[]</th>\n",
       "      <th>thesisId</th>\n",
       "      <th>dc.type.degree</th>\n",
       "      <th>dc.date.awarded</th>\n",
       "      <th>dc.subject.ddc</th>\n",
       "      <th>dc.source.uri</th>\n",
       "      <th>dc.description.abstract</th>\n",
       "      <th>dc.title.alternative</th>\n",
       "      <th>stud_inst_dept</th>\n",
       "    </tr>\n",
       "  </thead>\n",
       "  <tbody>\n",
       "    <tr>\n",
       "      <th>67906</th>\n",
       "      <td>27403</td>\n",
       "      <td>131067</td>\n",
       "      <td>NaN</td>\n",
       "      <td>67906</td>\n",
       "      <td>Gupta, Rd</td>\n",
       "      <td>Khandelwal, Saurabh</td>\n",
       "      <td>01-01-2015</td>\n",
       "      <td>eng</td>\n",
       "      <td>ITM University, Gwalior</td>\n",
       "      <td>NaN</td>\n",
       "      <td>...</td>\n",
       "      <td>I72</td>\n",
       "      <td>Analysis and Optimization of Nanoscale FinFET ...</td>\n",
       "      <td>T23138</td>\n",
       "      <td>phd</td>\n",
       "      <td>08-07-2016</td>\n",
       "      <td>300::Social sciences|370::Education</td>\n",
       "      <td>http://shodhganga.inflibnet.ac.in/</td>\n",
       "      <td>NaN</td>\n",
       "      <td>NaN</td>\n",
       "      <td>NaN</td>\n",
       "    </tr>\n",
       "  </tbody>\n",
       "</table>\n",
       "<p>1 rows × 21 columns</p>\n",
       "</div>"
      ],
      "text/plain": [
       "       advisorId  researcherId  advId_1  studId_1 advisor_name  \\\n",
       "67906      27403        131067      NaN     67906    Gupta, Rd   \n",
       "\n",
       "           researcher_name dc.date.submitted[] dc.language.iso[]  \\\n",
       "67906  Khandelwal, Saurabh          01-01-2015               eng   \n",
       "\n",
       "      dc.publisher.department[] DepartmentId  ... instituteId  \\\n",
       "67906   ITM University, Gwalior          NaN  ...         I72   \n",
       "\n",
       "                                              dc.title[] thesisId  \\\n",
       "67906  Analysis and Optimization of Nanoscale FinFET ...   T23138   \n",
       "\n",
       "      dc.type.degree dc.date.awarded                       dc.subject.ddc  \\\n",
       "67906            phd      08-07-2016  300::Social sciences|370::Education   \n",
       "\n",
       "                            dc.source.uri dc.description.abstract  \\\n",
       "67906  http://shodhganga.inflibnet.ac.in/                     NaN   \n",
       "\n",
       "      dc.title.alternative stud_inst_dept  \n",
       "67906                  NaN            NaN  \n",
       "\n",
       "[1 rows x 21 columns]"
      ]
     },
     "execution_count": 98,
     "metadata": {},
     "output_type": "execute_result"
    }
   ],
   "source": [
    "ment[ment['researcherId']==131067]"
   ]
  },
  {
   "cell_type": "code",
   "execution_count": 103,
   "metadata": {},
   "outputs": [],
   "source": [
    "ment['instituteId'].fillna(\"I000\",inplace=True)\n",
    "ment['DepartmentId'].fillna(\"D000\",inplace=True)"
   ]
  },
  {
   "cell_type": "code",
   "execution_count": null,
   "metadata": {},
   "outputs": [],
   "source": [
    "'dept. of electronics', 'department of dept.of electronics'"
   ]
  },
  {
   "cell_type": "code",
   "execution_count": 104,
   "metadata": {},
   "outputs": [],
   "source": [
    "ment['stud_inst_dept']=ment['researcher_name']+\"@\"+ment['instituteId']+\"@\"+ment['DepartmentId']"
   ]
  },
  {
   "cell_type": "code",
   "execution_count": 55,
   "metadata": {},
   "outputs": [],
   "source": [
    "#pd.unique(ment['dc.publisher.department[]'])[2000:]"
   ]
  }
 ],
 "metadata": {
  "kernelspec": {
   "display_name": "Python 3",
   "language": "python",
   "name": "python3"
  },
  "language_info": {
   "codemirror_mode": {
    "name": "ipython",
    "version": 3
   },
   "file_extension": ".py",
   "mimetype": "text/x-python",
   "name": "python",
   "nbconvert_exporter": "python",
   "pygments_lexer": "ipython3",
   "version": "3.6.9"
  }
 },
 "nbformat": 4,
 "nbformat_minor": 4
}
