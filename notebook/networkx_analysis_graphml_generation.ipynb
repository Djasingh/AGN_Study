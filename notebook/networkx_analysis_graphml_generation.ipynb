{
 "cells": [
  {
   "cell_type": "code",
   "execution_count": 1,
   "metadata": {},
   "outputs": [],
   "source": [
    "import pandas as pd\n",
    "import networkx as nx\n",
    "import matplotlib.pyplot as plt\n",
    "import numpy as np"
   ]
  },
  {
   "cell_type": "code",
   "execution_count": 2,
   "metadata": {},
   "outputs": [],
   "source": [
    "def map_ddc(ddc_code):\n",
    "    mod_ddc_code = ''\n",
    "    #print(ddc_code)\n",
    "    if ddc_code:\n",
    "        ddc_code = int(ddc_code)\n",
    "        if ddc_code < 100:\n",
    "            mod_ddc_code=0\n",
    "        elif 100 <= ddc_code < 200:\n",
    "            mod_ddc_code=100\n",
    "        elif 200 <= ddc_code < 300:\n",
    "            mod_ddc_code=200\n",
    "        elif 300 <= ddc_code < 400:\n",
    "            mod_ddc_code=300\n",
    "        elif 400 <= ddc_code < 500:\n",
    "            mod_ddc_code=400\n",
    "        elif 500 <= ddc_code < 600:\n",
    "            mod_ddc_code=500\n",
    "        elif 600 <= ddc_code < 700:\n",
    "            mod_ddc_code=600\n",
    "        elif 700 <= ddc_code < 800:\n",
    "            mod_ddc_code=700\n",
    "        elif 800 <= ddc_code < 900:\n",
    "            mod_ddc_code=800\n",
    "        elif 900 <= ddc_code < 1000:\n",
    "            mod_ddc_code=900\n",
    "    return mod_ddc_code "
   ]
  },
  {
   "cell_type": "code",
   "execution_count": 3,
   "metadata": {},
   "outputs": [],
   "source": [
    "folder=\"../dataset_v5/v5_2/v5_2_2/\""
   ]
  },
  {
   "cell_type": "code",
   "execution_count": 4,
   "metadata": {},
   "outputs": [],
   "source": [
    "edges = pd.read_csv(folder+'final_shodhganga_dataset_v5_2_7_2.csv')"
   ]
  },
  {
   "cell_type": "code",
   "execution_count": 5,
   "metadata": {},
   "outputs": [],
   "source": [
    "edges[\"ddc_code\"] = edges[\"ddc_code\"].apply(lambda x : eval(x)[-1] if len(eval(x))>0 else '')"
   ]
  },
  {
   "cell_type": "code",
   "execution_count": 6,
   "metadata": {},
   "outputs": [
    {
     "data": {
      "text/plain": [
       "0    580\n",
       "1    300\n",
       "2    300\n",
       "3    300\n",
       "4    300\n",
       "Name: ddc_code, dtype: object"
      ]
     },
     "execution_count": 6,
     "metadata": {},
     "output_type": "execute_result"
    }
   ],
   "source": [
    "edges['ddc_code'].head()"
   ]
  },
  {
   "cell_type": "code",
   "execution_count": 7,
   "metadata": {},
   "outputs": [],
   "source": [
    "edges['ddc_code'] = edges['ddc_code'].apply(lambda x : map_ddc(x))"
   ]
  },
  {
   "cell_type": "code",
   "execution_count": 8,
   "metadata": {},
   "outputs": [],
   "source": [
    "edges.rename(columns= {'advId':'source', 'resId':'target', 'new_date_awarded':'timestamp' }, inplace=True)"
   ]
  },
  {
   "cell_type": "code",
   "execution_count": 9,
   "metadata": {},
   "outputs": [],
   "source": [
    "edges = edges[['source','target','timestamp','ddc_code','publisher_institution','instituteId']]"
   ]
  },
  {
   "cell_type": "code",
   "execution_count": 10,
   "metadata": {},
   "outputs": [],
   "source": [
    "edges = edges.replace({'NaT': ''})"
   ]
  },
  {
   "cell_type": "code",
   "execution_count": 11,
   "metadata": {},
   "outputs": [
    {
     "data": {
      "text/plain": [
       "Index(['source', 'target', 'timestamp', 'ddc_code', 'publisher_institution',\n",
       "       'instituteId'],\n",
       "      dtype='object')"
      ]
     },
     "execution_count": 11,
     "metadata": {},
     "output_type": "execute_result"
    }
   ],
   "source": [
    "edges.columns"
   ]
  },
  {
   "cell_type": "code",
   "execution_count": 12,
   "metadata": {},
   "outputs": [],
   "source": [
    "nodes = pd.read_csv(folder+'index_file2_v5_2_7_2.csv')"
   ]
  },
  {
   "cell_type": "code",
   "execution_count": 13,
   "metadata": {},
   "outputs": [
    {
     "data": {
      "text/plain": [
       "Index(['rid', 'names'], dtype='object')"
      ]
     },
     "execution_count": 13,
     "metadata": {},
     "output_type": "execute_result"
    }
   ],
   "source": [
    "nodes.columns"
   ]
  },
  {
   "cell_type": "code",
   "execution_count": 14,
   "metadata": {},
   "outputs": [],
   "source": [
    "nodes['names'] = nodes['names'].apply(lambda x : x.split(\"|\")[0])"
   ]
  },
  {
   "cell_type": "code",
   "execution_count": 15,
   "metadata": {},
   "outputs": [],
   "source": [
    "#nodes['names'].sample(10)"
   ]
  },
  {
   "cell_type": "code",
   "execution_count": 16,
   "metadata": {},
   "outputs": [],
   "source": [
    "nodes_names = dict(zip(nodes[\"rid\"],nodes[\"names\"]))"
   ]
  },
  {
   "cell_type": "code",
   "execution_count": 17,
   "metadata": {},
   "outputs": [],
   "source": [
    "nodes[\"inst\"] = nodes['rid'].apply(lambda x : set(edges[(edges['source']==x) | (edges['target']==x)]['publisher_institution'].values))"
   ]
  },
  {
   "cell_type": "code",
   "execution_count": 18,
   "metadata": {},
   "outputs": [],
   "source": [
    "nodes[\"inst_select\"] = nodes[\"inst\"].apply(lambda x : list(x)[0])"
   ]
  },
  {
   "cell_type": "code",
   "execution_count": 19,
   "metadata": {},
   "outputs": [],
   "source": [
    "nodes[\"ddc_code\"] = nodes['rid'].apply(lambda x : list(set(edges[(edges['source']==x) | (edges['target']==x)]['ddc_code'].values)))"
   ]
  },
  {
   "cell_type": "code",
   "execution_count": 20,
   "metadata": {},
   "outputs": [],
   "source": [
    "#nodes[\"ddc_code\"]"
   ]
  },
  {
   "cell_type": "code",
   "execution_count": 20,
   "metadata": {},
   "outputs": [],
   "source": [
    "nodes['ddc_count'] = nodes[\"ddc_code\"].apply(lambda x: len(x))"
   ]
  },
  {
   "cell_type": "code",
   "execution_count": 21,
   "metadata": {},
   "outputs": [],
   "source": [
    "nodes['ddc_select'] = nodes[\"ddc_code\"].apply(lambda x: sorted([a for a in x if a!=\"\"]) if len(x) > 0 else \"\" )"
   ]
  },
  {
   "cell_type": "code",
   "execution_count": 22,
   "metadata": {},
   "outputs": [],
   "source": [
    "nodes['ddc_select'] = nodes[\"ddc_select\"].apply(lambda x: x[-1] if len(x) > 0 else '')"
   ]
  },
  {
   "cell_type": "code",
   "execution_count": 23,
   "metadata": {},
   "outputs": [],
   "source": [
    "#nodes['ddc_select_gen'] = nodes['ddc_select'].apply(lambda x : map_ddc(x))"
   ]
  },
  {
   "cell_type": "code",
   "execution_count": 24,
   "metadata": {},
   "outputs": [],
   "source": [
    "nodes_inst =  dict(zip(nodes[\"rid\"],nodes[\"inst_select\"]))"
   ]
  },
  {
   "cell_type": "code",
   "execution_count": 25,
   "metadata": {},
   "outputs": [],
   "source": [
    "nodes_ddc  =  dict(zip(nodes[\"rid\"],nodes[\"ddc_select\"]))"
   ]
  },
  {
   "cell_type": "code",
   "execution_count": 27,
   "metadata": {},
   "outputs": [],
   "source": [
    "# edges['new_date_awarded']=edges['new_date_awarded'].astype(str)"
   ]
  },
  {
   "cell_type": "code",
   "execution_count": 28,
   "metadata": {},
   "outputs": [],
   "source": [
    "graph = nx.convert_matrix.from_pandas_edgelist(edges, 'source','target','timestamp', create_using=nx.DiGraph())"
   ]
  },
  {
   "cell_type": "code",
   "execution_count": 29,
   "metadata": {},
   "outputs": [],
   "source": [
    "nx.set_node_attributes(graph, values = nodes_names, name='name')"
   ]
  },
  {
   "cell_type": "code",
   "execution_count": 30,
   "metadata": {},
   "outputs": [],
   "source": [
    "nx.set_node_attributes(graph, values = nodes_inst, name='inst')"
   ]
  },
  {
   "cell_type": "code",
   "execution_count": 31,
   "metadata": {},
   "outputs": [],
   "source": [
    "nx.set_node_attributes(graph, values = nodes_ddc, name='ddc')"
   ]
  },
  {
   "cell_type": "code",
   "execution_count": null,
   "metadata": {},
   "outputs": [],
   "source": [
    "#nx.write_gml(graph, \"shodhganga_graph_v5_2_6-1.gml\")"
   ]
  },
  {
   "cell_type": "code",
   "execution_count": 32,
   "metadata": {},
   "outputs": [],
   "source": [
    "nx.readwrite.graphml.write_graphml(graph, \"shodhganga_graph_v5_2_7_2.graphml\")"
   ]
  },
  {
   "cell_type": "code",
   "execution_count": 33,
   "metadata": {},
   "outputs": [],
   "source": [
    "nodes.to_csv(\"shodhganga_graph_nodes_v5_2_7_2.csv\", index=False)"
   ]
  },
  {
   "cell_type": "code",
   "execution_count": 34,
   "metadata": {},
   "outputs": [
    {
     "data": {
      "text/plain": [
       "Index(['source', 'target', 'timestamp', 'ddc_code', 'publisher_institution',\n",
       "       'instituteId'],\n",
       "      dtype='object')"
      ]
     },
     "execution_count": 34,
     "metadata": {},
     "output_type": "execute_result"
    }
   ],
   "source": [
    "edges.columns"
   ]
  },
  {
   "cell_type": "code",
   "execution_count": 35,
   "metadata": {},
   "outputs": [],
   "source": [
    "edges.to_csv(\"shodhganga_graph_edges_v5_2_7_2.csv\", index=False)"
   ]
  },
  {
   "cell_type": "code",
   "execution_count": 36,
   "metadata": {},
   "outputs": [
    {
     "data": {
      "text/plain": [
       "{'name': 'Brar, Jagjit Singh', 'inst': 'Panjab University', 'ddc': 300}"
      ]
     },
     "execution_count": 36,
     "metadata": {},
     "output_type": "execute_result"
    }
   ],
   "source": [
    "graph.nodes[200]"
   ]
  },
  {
   "cell_type": "code",
   "execution_count": 37,
   "metadata": {},
   "outputs": [
    {
     "data": {
      "text/plain": [
       "Index(['source', 'target', 'timestamp', 'ddc_code', 'publisher_institution',\n",
       "       'instituteId'],\n",
       "      dtype='object')"
      ]
     },
     "execution_count": 37,
     "metadata": {},
     "output_type": "execute_result"
    }
   ],
   "source": [
    "edges.columns"
   ]
  },
  {
   "cell_type": "code",
   "execution_count": 30,
   "metadata": {},
   "outputs": [],
   "source": [
    "def generate_graphml(edges, nodes_attrib, attrib_name=\"ddc\"):\n",
    "    graph1 = nx.convert_matrix.from_pandas_edgelist(edges, 'source','target', create_using=nx.DiGraph())\n",
    "    graph1.remove_edges_from(nx.selfloop_edges(graph1))\n",
    "    cycle=list(nx.simple_cycles(graph1))\n",
    "    graph1.remove_edges_from(cycle)\n",
    "    nx.set_node_attributes(graph1, values = nodes_attrib, name=attrib_name)\n",
    "    components1 = list(nx.weakly_connected_components(graph1))\n",
    "    components1.sort(key=len, reverse=True)\n",
    "    g_and_eq_10  = [c for c in components1 if len(c)>=10]\n",
    "    nodes_10 = [node for c in g_and_eq_10 for node in c]\n",
    "    sub_graph_geq10 = graph1.subgraph(nodes_10)\n",
    "    nx.write_graphml_lxml(sub_graph_geq10, f\"subgraph_geq10_{attrib_name}.graphml\")\n",
    "    print(\"Done\")\n",
    "    return"
   ]
  },
  {
   "cell_type": "code",
   "execution_count": 31,
   "metadata": {},
   "outputs": [
    {
     "name": "stdout",
     "output_type": "stream",
     "text": [
      "Done\n"
     ]
    }
   ],
   "source": [
    "generate_graphml(edges, nodes_ddc)"
   ]
  },
  {
   "cell_type": "code",
   "execution_count": null,
   "metadata": {},
   "outputs": [],
   "source": []
  }
 ],
 "metadata": {
  "kernelspec": {
   "display_name": "Python 3",
   "language": "python",
   "name": "python3"
  },
  "language_info": {
   "codemirror_mode": {
    "name": "ipython",
    "version": 3
   },
   "file_extension": ".py",
   "mimetype": "text/x-python",
   "name": "python",
   "nbconvert_exporter": "python",
   "pygments_lexer": "ipython3",
   "version": "3.7.12"
  }
 },
 "nbformat": 4,
 "nbformat_minor": 4
}
