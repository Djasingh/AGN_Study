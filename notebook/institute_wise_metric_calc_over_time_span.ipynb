{
 "cells": [
  {
   "cell_type": "markdown",
   "metadata": {},
   "source": [
    "<h2> Institute-wise Metric Calculation over different time span </h2>"
   ]
  },
  {
   "cell_type": "code",
   "execution_count": 1,
   "metadata": {},
   "outputs": [],
   "source": [
    "import pandas as pd\n",
    "import networkx as nx\n",
    "import matplotlib.pyplot as plt\n",
    "import numpy as np\n",
    "from tqdm import tqdm\n",
    "from collections import Counter\n",
    "import itertools\n",
    "import json"
   ]
  },
  {
   "cell_type": "code",
   "execution_count": 2,
   "metadata": {},
   "outputs": [
    {
     "name": "stdout",
     "output_type": "stream",
     "text": [
      "importing Jupyter notebook from metric_util_func.ipynb\n"
     ]
    }
   ],
   "source": [
    "import import_ipynb\n",
    "from metric_util_func import *"
   ]
  },
  {
   "cell_type": "code",
   "execution_count": 3,
   "metadata": {},
   "outputs": [],
   "source": [
    "%matplotlib inline"
   ]
  },
  {
   "cell_type": "code",
   "execution_count": 4,
   "metadata": {},
   "outputs": [],
   "source": [
    "folder=\"../dataset_v5/v5_2/\""
   ]
  },
  {
   "cell_type": "code",
   "execution_count": 5,
   "metadata": {},
   "outputs": [],
   "source": [
    "def load_obj(folder):\n",
    "    with open(folder, 'r') as fp:\n",
    "        data = json.load(fp)\n",
    "    return data"
   ]
  },
  {
   "cell_type": "code",
   "execution_count": 6,
   "metadata": {},
   "outputs": [],
   "source": [
    "mod_ment2 = pd.read_csv(folder+'v5_2_2/'+'final_shodhganga_dataset_v5_2_4.csv', sep =\",\",parse_dates=True)"
   ]
  },
  {
   "cell_type": "code",
   "execution_count": 7,
   "metadata": {},
   "outputs": [
    {
     "data": {
      "text/plain": [
       "Index(['advisorId', 'researcherId', 'advId', 'resId', 'advisor_name',\n",
       "       'researcher_name', 'publisher_dept', 'DepartmentId',\n",
       "       'publisher_institution', 'instituteId', 'title', 'thesisId',\n",
       "       'N_thesisId', 'date_submitted', 'new_date_awarded', 'dc.date.awarded',\n",
       "       'dc.subject.ddc', 'uniq_ddc_across_dept', 'dc.description.abstract',\n",
       "       'dc.title.alternative', 'N_DepartmentId_1', 'ddc_code', 'advisor_advId',\n",
       "       'researcher_resId'],\n",
       "      dtype='object')"
      ]
     },
     "execution_count": 7,
     "metadata": {},
     "output_type": "execute_result"
    }
   ],
   "source": [
    "mod_ment2.columns"
   ]
  },
  {
   "cell_type": "code",
   "execution_count": 8,
   "metadata": {},
   "outputs": [],
   "source": [
    "#mod_ment2.sample(5, random_state=0)"
   ]
  },
  {
   "cell_type": "code",
   "execution_count": 9,
   "metadata": {},
   "outputs": [],
   "source": [
    "#mod_ment2['Year'] = mod_ment2.new_date_awarded.year"
   ]
  },
  {
   "cell_type": "markdown",
   "metadata": {},
   "source": [
    "<h2> Institute-Wise Thesis Advised (Institute Graduated Students) </h2>"
   ]
  },
  {
   "cell_type": "code",
   "execution_count": 10,
   "metadata": {},
   "outputs": [
    {
     "data": {
      "text/plain": [
       "13864"
      ]
     },
     "execution_count": 10,
     "metadata": {},
     "output_type": "execute_result"
    }
   ],
   "source": [
    "filter_data_0=filter_df_based_on_date(mod_ment2,st_date='1960-01-01',end_date='1980-01-01')\n",
    "graph_0 = ntw_graph(filter_data_0)\n",
    "len(graph_0.nodes())"
   ]
  },
  {
   "cell_type": "code",
   "execution_count": 11,
   "metadata": {},
   "outputs": [
    {
     "data": {
      "text/plain": [
       "{'University of Calcutta': 2221,\n",
       " 'Savitribai Phule Pune University': 1258,\n",
       " 'Panjab University': 1048,\n",
       " 'Aligarh Muslim University': 874,\n",
       " 'Gujarat University': 561,\n",
       " 'Maharaja Sayajirao University of Baroda': 556,\n",
       " 'Karnatak University': 367,\n",
       " 'Dr. Harisingh Gour Vishwavidyalaya': 356,\n",
       " 'University of Kerala': 282,\n",
       " 'Gauhati University': 276}"
      ]
     },
     "execution_count": 11,
     "metadata": {},
     "output_type": "execute_result"
    }
   ],
   "source": [
    "inst_stud = set([(value['publisher_institution'],v) for ((u, v), value) in graph_0.edges.items()])\n",
    "attr_count_0 = [i for i, s in inst_stud]\n",
    "inst_wise_stud_dist_0=Counter(attr_count_0)\n",
    "top10_0, top10_dict_0=top_metric_val(inst_wise_stud_dist_0)\n",
    "top10_dict_0"
   ]
  },
  {
   "cell_type": "code",
   "execution_count": 12,
   "metadata": {},
   "outputs": [
    {
     "data": {
      "text/plain": [
       "53273"
      ]
     },
     "execution_count": 12,
     "metadata": {},
     "output_type": "execute_result"
    }
   ],
   "source": [
    "filter_data=filter_df_based_on_date(mod_ment2,st_date='1980-01-01',end_date='2000-01-01')\n",
    "graph=ntw_graph(filter_data)\n",
    "len(graph.nodes())"
   ]
  },
  {
   "cell_type": "code",
   "execution_count": 13,
   "metadata": {},
   "outputs": [
    {
     "data": {
      "text/plain": [
       "{'University of Calcutta': 3411,\n",
       " 'Savitribai Phule Pune University': 2886,\n",
       " 'Panjab University': 2290,\n",
       " 'Aligarh Muslim University': 2014,\n",
       " 'Jawaharlal Nehru University': 1675,\n",
       " 'Utkal University': 1583,\n",
       " 'Sri Krishnadevaraya University': 1406,\n",
       " 'Karnatak University': 1246,\n",
       " 'Dr. Babasaheb Ambedkar Marathwada University': 1242,\n",
       " 'Shivaji University': 1133}"
      ]
     },
     "execution_count": 13,
     "metadata": {},
     "output_type": "execute_result"
    }
   ],
   "source": [
    "inst_stud = set([(value['publisher_institution'],v) for ((u, v), value) in graph.edges.items()])\n",
    "attr_count = [i for i, s in inst_stud]\n",
    "inst_wise_stud_dist=Counter(attr_count)\n",
    "top10, top10_dict=top_metric_val(inst_wise_stud_dist)\n",
    "top10_dict"
   ]
  },
  {
   "cell_type": "code",
   "execution_count": null,
   "metadata": {},
   "outputs": [],
   "source": [
    "filter_data1=filter_df_based_on_date(mod_ment2,st_date='2000-01-01',end_date='2020-01-01')\n",
    "graph1=ntw_graph(filter_data1)\n",
    "len(graph1.nodes())"
   ]
  },
  {
   "cell_type": "code",
   "execution_count": 15,
   "metadata": {},
   "outputs": [
    {
     "data": {
      "text/plain": [
       "{'V. B. S. Purvanchal University': 6744,\n",
       " 'Anna University': 5775,\n",
       " 'Savitribai Phule Pune University': 4890,\n",
       " 'University of Calcutta': 4191,\n",
       " 'Manonmaniam Sundaranar University': 4091,\n",
       " 'Aligarh Muslim University': 3941,\n",
       " 'Panjab University': 3286,\n",
       " 'Dr. Babasaheb Ambedkar Marathwada University': 3224,\n",
       " 'Bharathidasan University': 3196,\n",
       " 'Gauhati University': 3117}"
      ]
     },
     "execution_count": 15,
     "metadata": {},
     "output_type": "execute_result"
    }
   ],
   "source": [
    "inst_stud = set([(value['publisher_institution'],v) for ((u, v), value) in graph1.edges.items()])\n",
    "attr_count_1 = [i for i, s in inst_stud]\n",
    "inst_wise_stud_dist_1=Counter(attr_count_1)\n",
    "top10_1, top10_dict_1=top_metric_val(inst_wise_stud_dist_1)\n",
    "top10_dict_1"
   ]
  },
  {
   "cell_type": "code",
   "execution_count": 16,
   "metadata": {},
   "outputs": [
    {
     "data": {
      "text/plain": [
       "257053"
      ]
     },
     "execution_count": 16,
     "metadata": {},
     "output_type": "execute_result"
    }
   ],
   "source": [
    "graph2=ntw_graph(mod_ment2)\n",
    "len(graph2.nodes())"
   ]
  },
  {
   "cell_type": "code",
   "execution_count": 17,
   "metadata": {},
   "outputs": [
    {
     "data": {
      "text/plain": [
       "{'University of Calcutta': 9907,\n",
       " 'Savitribai Phule Pune University': 9247,\n",
       " 'V. B. S. Purvanchal University': 7413,\n",
       " 'Aligarh Muslim University': 7092,\n",
       " 'Panjab University': 6680,\n",
       " 'Anna University': 6650,\n",
       " 'University of Madras': 4948,\n",
       " 'Jawaharlal Nehru University': 4838,\n",
       " 'Dr. Babasaheb Ambedkar Marathwada University': 4689,\n",
       " 'Gauhati University': 4529}"
      ]
     },
     "execution_count": 17,
     "metadata": {},
     "output_type": "execute_result"
    }
   ],
   "source": [
    "inst_stud = set([(value['publisher_institution'],v) for ((u, v), value) in graph2.edges.items()])\n",
    "attr_count_2 = [i for i, s in inst_stud]\n",
    "inst_wise_stud_dist_2=Counter(attr_count_2)\n",
    "top10_2, top10_dict_2=top_metric_val(inst_wise_stud_dist_2)\n",
    "top10_dict_2"
   ]
  },
  {
   "cell_type": "code",
   "execution_count": 18,
   "metadata": {},
   "outputs": [
    {
     "data": {
      "image/png": "[encoded data removed]",
      "text/plain": [
       "<Figure size 720x432 with 1 Axes>"
      ]
     },
     "metadata": {
      "needs_background": "light"
     },
     "output_type": "display_data"
    }
   ],
   "source": [
    "data00=list(inst_wise_stud_dist_0.values())\n",
    "data01=list(inst_wise_stud_dist.values())\n",
    "data02=list(inst_wise_stud_dist_1.values())\n",
    "data03=list(inst_wise_stud_dist_2.values())\n",
    "fig, ax = plt.subplots(figsize=(10,6))\n",
    "n, bins, _=plt.hist([data00,data01,data02,data03],log=True, label=[\"1960-1980\",\"1980-2000\",\"2000-2020\",\"Over Complete Time Span\"])\n",
    "plt.title(\"\")\n",
    "plt.xlabel(\"Student Graduation Distribution\")\n",
    "plt.ylabel(\"Log10 (Institute Count)\")\n",
    "plt.legend(loc='upper right')\n",
    "plt.show()"
   ]
  },
  {
   "cell_type": "markdown",
   "metadata": {},
   "source": [
    "<h2>Fecundity Distribution (Institute-Wise)</h2>"
   ]
  },
  {
   "cell_type": "code",
   "execution_count": 19,
   "metadata": {},
   "outputs": [],
   "source": [
    "def fecundity_comp(graph,df):\n",
    "    fecundity=graph.out_degree()\n",
    "    fecundity=dict(fecundity)\n",
    "    inst_fecund_metric=inst_wise_val(df,'publisher_institution',fecundity)\n",
    "    top_10, top_10_dict=top_metric_val(inst_fecund_metric)\n",
    "    return inst_fecund_metric,top_10_dict"
   ]
  },
  {
   "cell_type": "code",
   "execution_count": 20,
   "metadata": {},
   "outputs": [
    {
     "data": {
      "text/plain": [
       "{'University of Calcutta': 2230,\n",
       " 'Savitribai Phule Pune University': 1260,\n",
       " 'Panjab University': 1048,\n",
       " 'Aligarh Muslim University': 879,\n",
       " 'Gujarat University': 561,\n",
       " 'Maharaja Sayajirao University of Baroda': 556,\n",
       " 'Karnatak University': 367,\n",
       " 'Dr. Harisingh Gour Vishwavidyalaya': 356,\n",
       " 'University of Kerala': 283,\n",
       " 'Gauhati University': 276}"
      ]
     },
     "execution_count": 20,
     "metadata": {},
     "output_type": "execute_result"
    }
   ],
   "source": [
    "inst_fecundity_0,top_fecundity_0=fecundity_comp(graph_0, filter_data_0)\n",
    "top_fecundity_0"
   ]
  },
  {
   "cell_type": "code",
   "execution_count": 21,
   "metadata": {},
   "outputs": [
    {
     "data": {
      "text/plain": [
       "{'University of Calcutta': 3431,\n",
       " 'Savitribai Phule Pune University': 2897,\n",
       " 'Panjab University': 2313,\n",
       " 'Aligarh Muslim University': 2040,\n",
       " 'Jawaharlal Nehru University': 1679,\n",
       " 'Utkal University': 1590,\n",
       " 'Sri Krishnadevaraya University': 1407,\n",
       " 'Karnatak University': 1273,\n",
       " 'Dr. Babasaheb Ambedkar Marathwada University': 1244,\n",
       " 'Shivaji University': 1142}"
      ]
     },
     "execution_count": 21,
     "metadata": {},
     "output_type": "execute_result"
    }
   ],
   "source": [
    "inst_fecundity,top_fecundity=fecundity_comp(graph, filter_data)\n",
    "top_fecundity"
   ]
  },
  {
   "cell_type": "code",
   "execution_count": 22,
   "metadata": {},
   "outputs": [
    {
     "data": {
      "text/plain": [
       "{'V. B. S. Purvanchal University': 6836,\n",
       " 'Anna University': 5876,\n",
       " 'Savitribai Phule Pune University': 4959,\n",
       " 'Manonmaniam Sundaranar University': 4316,\n",
       " 'University of Calcutta': 4235,\n",
       " 'Aligarh Muslim University': 3997,\n",
       " 'Panjab University': 3430,\n",
       " 'Bharathidasan University': 3392,\n",
       " 'Dr. Babasaheb Ambedkar Marathwada University': 3243,\n",
       " 'Gauhati University': 3140}"
      ]
     },
     "execution_count": 22,
     "metadata": {},
     "output_type": "execute_result"
    }
   ],
   "source": [
    "inst_fecundity_1,top_fecundity_1=fecundity_comp(graph1, filter_data1)\n",
    "top_fecundity_1"
   ]
  },
  {
   "cell_type": "code",
   "execution_count": 23,
   "metadata": {},
   "outputs": [
    {
     "data": {
      "text/plain": [
       "{'University of Calcutta': 10279,\n",
       " 'Savitribai Phule Pune University': 9481,\n",
       " 'V. B. S. Purvanchal University': 7517,\n",
       " 'Aligarh Muslim University': 7381,\n",
       " 'Panjab University': 7056,\n",
       " 'Anna University': 6760,\n",
       " 'University of Madras': 5281,\n",
       " 'Jawaharlal Nehru University': 4923,\n",
       " 'Dr. Babasaheb Ambedkar Marathwada University': 4761,\n",
       " 'Gauhati University': 4600}"
      ]
     },
     "execution_count": 23,
     "metadata": {},
     "output_type": "execute_result"
    }
   ],
   "source": [
    "inst_fecundity_2,top_fecundity_2=fecundity_comp(graph2, mod_ment2)\n",
    "top_fecundity_2"
   ]
  },
  {
   "cell_type": "code",
   "execution_count": 24,
   "metadata": {},
   "outputs": [
    {
     "data": {
      "image/png": "[encoded data removed]",
      "text/plain": [
       "<Figure size 720x432 with 1 Axes>"
      ]
     },
     "metadata": {
      "needs_background": "light"
     },
     "output_type": "display_data"
    }
   ],
   "source": [
    "data10=list(inst_fecundity_0.values())\n",
    "data11=list(inst_fecundity.values())\n",
    "data12=list(inst_fecundity_1.values())\n",
    "data13=list(inst_fecundity_2.values())\n",
    "fig, ax = plt.subplots(figsize=(10,6))\n",
    "n1,bins1, _=plt.hist([data10,data11,data12,data13],log=True, label=[\"1960-1980\",\"1980-2000\",\"2000-2020\",\"Over Complete Time Span\"])\n",
    "plt.title(\"Institute wise Fecundity Distribution\")\n",
    "plt.xlabel(\"Institute Fecundity\")\n",
    "plt.ylabel(\"Log10 (Institute Count)\")\n",
    "plt.legend(loc='upper right')\n",
    "plt.show()"
   ]
  },
  {
   "cell_type": "markdown",
   "metadata": {},
   "source": [
    "<h2> Fertility Distribution </h2>"
   ]
  },
  {
   "cell_type": "code",
   "execution_count": 25,
   "metadata": {},
   "outputs": [],
   "source": [
    "def fertiltiy_comp(graph,df):\n",
    "    fertiltiy=fertility_calculation(graph)\n",
    "    fertiltiy=dict(fertiltiy)\n",
    "    inst_fertiltiy_metric=inst_wise_val(df,'publisher_institution',fertiltiy)\n",
    "    top_10, top_10_dict=top_metric_val(inst_fertiltiy_metric)\n",
    "    return inst_fertiltiy_metric,top_10_dict"
   ]
  },
  {
   "cell_type": "code",
   "execution_count": 26,
   "metadata": {},
   "outputs": [
    {
     "data": {
      "text/plain": [
       "{'Aligarh Muslim University': 33,\n",
       " 'Savitribai Phule Pune University': 30,\n",
       " 'Panjab University': 19,\n",
       " 'University of Calcutta': 19,\n",
       " 'Karnatak University': 15,\n",
       " 'Maharaja Sayajirao University of Baroda': 13,\n",
       " 'University of Kerala': 11,\n",
       " 'Gujarat University': 10,\n",
       " 'Dr. Babasaheb Ambedkar Marathwada University': 7,\n",
       " 'Dr. Harisingh Gour Vishwavidyalaya': 7}"
      ]
     },
     "execution_count": 26,
     "metadata": {},
     "output_type": "execute_result"
    }
   ],
   "source": [
    "inst_fertiltiy_0,top_fertiltiy_0=fertiltiy_comp(graph_0, filter_data_0)\n",
    "top_fertiltiy_0"
   ]
  },
  {
   "cell_type": "code",
   "execution_count": 27,
   "metadata": {},
   "outputs": [
    {
     "data": {
      "text/plain": [
       "{'Aligarh Muslim University': 61,\n",
       " 'Karnatak University': 57,\n",
       " 'Shivaji University': 49,\n",
       " 'Sri Krishnadevaraya University': 48,\n",
       " 'Utkal University': 46,\n",
       " 'Himachal Pradesh University': 45,\n",
       " 'University of Calcutta': 44,\n",
       " 'Bharathiar University': 41,\n",
       " 'Panjab University': 36,\n",
       " 'University of Madras': 36}"
      ]
     },
     "execution_count": 27,
     "metadata": {},
     "output_type": "execute_result"
    }
   ],
   "source": [
    "inst_fertiltiy,top_fertiltiy=fertiltiy_comp(graph, filter_data)\n",
    "top_fertiltiy"
   ]
  },
  {
   "cell_type": "code",
   "execution_count": 28,
   "metadata": {},
   "outputs": [
    {
     "data": {
      "text/plain": [
       "{'Anna University': 408,\n",
       " 'Manonmaniam Sundaranar University': 301,\n",
       " 'Bharathidasan University': 259,\n",
       " 'Bharathiar University': 196,\n",
       " 'V. B. S. Purvanchal University': 166,\n",
       " 'Alagappa University': 127,\n",
       " 'Panjab University': 110,\n",
       " 'Aligarh Muslim University': 104,\n",
       " 'Maharshi Dayanand University': 86,\n",
       " 'University of Madras': 69}"
      ]
     },
     "execution_count": 28,
     "metadata": {},
     "output_type": "execute_result"
    }
   ],
   "source": [
    "inst_fertiltiy_1,top_fertiltiy_1=fertiltiy_comp(graph1, filter_data1)\n",
    "top_fertiltiy_1"
   ]
  },
  {
   "cell_type": "code",
   "execution_count": 29,
   "metadata": {},
   "outputs": [
    {
     "data": {
      "text/plain": [
       "{'Anna University': 581,\n",
       " 'Aligarh Muslim University': 552,\n",
       " 'University of Calcutta': 441,\n",
       " 'Bharathidasan University': 431,\n",
       " 'Bharathiar University': 416,\n",
       " 'Panjab University': 386,\n",
       " 'Savitribai Phule Pune University': 378,\n",
       " 'Manonmaniam Sundaranar University': 354,\n",
       " 'Karnatak University': 311,\n",
       " 'University of Madras': 279}"
      ]
     },
     "execution_count": 29,
     "metadata": {},
     "output_type": "execute_result"
    }
   ],
   "source": [
    "inst_fertiltiy_2,top_fertiltiy_2=fertiltiy_comp(graph2, mod_ment2)\n",
    "top_fertiltiy_2"
   ]
  },
  {
   "cell_type": "code",
   "execution_count": 30,
   "metadata": {},
   "outputs": [
    {
     "data": {
      "image/png": "[encoded data removed]",
      "text/plain": [
       "<Figure size 720x432 with 1 Axes>"
      ]
     },
     "metadata": {
      "needs_background": "light"
     },
     "output_type": "display_data"
    }
   ],
   "source": [
    "data20=list(inst_fertiltiy_0.values())\n",
    "data21=list(inst_fertiltiy.values())\n",
    "data22=list(inst_fertiltiy_1.values())\n",
    "data23=list(inst_fertiltiy_2.values())\n",
    "fig, ax = plt.subplots(figsize=(10,6))\n",
    "n2,bins2, _=plt.hist([data20,data21,data22,data23],log=True, label=[\"1960-1980\",\"1980-2000\",\"2000-2020\",\"Over Complete Time Span\"])\n",
    "plt.title(\"Institute wise Fertility Distribution\")\n",
    "plt.xlabel(\"Institute Fertility\")\n",
    "plt.ylabel(\"Log10 (Institute Count)\")\n",
    "plt.legend(loc='upper right')\n",
    "plt.show()"
   ]
  },
  {
   "cell_type": "markdown",
   "metadata": {},
   "source": [
    "<h2>H-index Distribution </h2>"
   ]
  },
  {
   "cell_type": "code",
   "execution_count": 31,
   "metadata": {},
   "outputs": [],
   "source": [
    "def hindex_comp(graph,df):\n",
    "    hinx=child_deg(graph)\n",
    "    hinx=dict(hinx)\n",
    "    inst_hinx_metric=inst_wise_val(df,'publisher_institution',hinx)\n",
    "    top_10, top_10_dict=top_metric_val(inst_hinx_metric)\n",
    "    return inst_hinx_metric,top_10_dict"
   ]
  },
  {
   "cell_type": "code",
   "execution_count": 32,
   "metadata": {},
   "outputs": [
    {
     "data": {
      "text/plain": [
       "{'Aligarh Muslim University': 30,\n",
       " 'Savitribai Phule Pune University': 28,\n",
       " 'University of Calcutta': 19,\n",
       " 'Panjab University': 17,\n",
       " 'Karnatak University': 14,\n",
       " 'Maharaja Sayajirao University of Baroda': 12,\n",
       " 'Gujarat University': 9,\n",
       " 'University of Kerala': 9,\n",
       " 'Sardar Patel University': 6,\n",
       " 'Jawaharlal Nehru University': 6}"
      ]
     },
     "execution_count": 32,
     "metadata": {},
     "output_type": "execute_result"
    }
   ],
   "source": [
    "inst_hinx_0,top_hinx_0=hindex_comp(graph_0, filter_data_0)\n",
    "top_hinx_0"
   ]
  },
  {
   "cell_type": "code",
   "execution_count": 33,
   "metadata": {},
   "outputs": [
    {
     "data": {
      "text/plain": [
       "{'Aligarh Muslim University': 57,\n",
       " 'Karnatak University': 52,\n",
       " 'Sri Krishnadevaraya University': 46,\n",
       " 'Utkal University': 45,\n",
       " 'University of Calcutta': 43,\n",
       " 'Shivaji University': 42,\n",
       " 'Himachal Pradesh University': 39,\n",
       " 'Panjab University': 35,\n",
       " 'Savitribai Phule Pune University': 34,\n",
       " 'University of Kerala': 34}"
      ]
     },
     "execution_count": 33,
     "metadata": {},
     "output_type": "execute_result"
    }
   ],
   "source": [
    "inst_hinx,top_hinx=hindex_comp(graph, filter_data)\n",
    "top_hinx"
   ]
  },
  {
   "cell_type": "code",
   "execution_count": 34,
   "metadata": {},
   "outputs": [
    {
     "data": {
      "text/plain": [
       "{'Anna University': 343,\n",
       " 'Manonmaniam Sundaranar University': 235,\n",
       " 'Bharathidasan University': 210,\n",
       " 'Bharathiar University': 162,\n",
       " 'V. B. S. Purvanchal University': 156,\n",
       " 'Aligarh Muslim University': 99,\n",
       " 'Panjab University': 98,\n",
       " 'Alagappa University': 92,\n",
       " 'Maharshi Dayanand University': 71,\n",
       " 'University of Madras': 65}"
      ]
     },
     "execution_count": 34,
     "metadata": {},
     "output_type": "execute_result"
    }
   ],
   "source": [
    "inst_hinx_1,top_hinx_1=hindex_comp(graph1, filter_data1)\n",
    "top_hinx_1"
   ]
  },
  {
   "cell_type": "code",
   "execution_count": 35,
   "metadata": {},
   "outputs": [
    {
     "data": {
      "text/plain": [
       "{'Aligarh Muslim University': 495,\n",
       " 'Anna University': 480,\n",
       " 'University of Calcutta': 392,\n",
       " 'Bharathidasan University': 340,\n",
       " 'Savitribai Phule Pune University': 337,\n",
       " 'Panjab University': 329,\n",
       " 'Bharathiar University': 326,\n",
       " 'Manonmaniam Sundaranar University': 276,\n",
       " 'Karnatak University': 260,\n",
       " 'University of Madras': 252}"
      ]
     },
     "execution_count": 35,
     "metadata": {},
     "output_type": "execute_result"
    }
   ],
   "source": [
    "inst_hinx_2,top_hinx_2=hindex_comp(graph2, mod_ment2)\n",
    "top_hinx_2"
   ]
  },
  {
   "cell_type": "code",
   "execution_count": 36,
   "metadata": {},
   "outputs": [
    {
     "data": {
      "image/png": "[encoded data removed]",
      "text/plain": [
       "<Figure size 720x432 with 1 Axes>"
      ]
     },
     "metadata": {
      "needs_background": "light"
     },
     "output_type": "display_data"
    }
   ],
   "source": [
    "data30=list(inst_hinx_0.values())\n",
    "data31=list(inst_hinx.values())\n",
    "data32=list(inst_hinx_1.values())\n",
    "data33=list(inst_hinx_2.values())\n",
    "fig, ax = plt.subplots(figsize=(10,6))\n",
    "n3,bins3, _=plt.hist([data30,data31,data32,data33],log=True, label=[\"1960-1980\",\"1980-2000\",\"2000-2020\",\"Over Complete Time Span\"])\n",
    "plt.title(\"Institute wise H-index Distribution\")\n",
    "plt.xlabel(\"Institute H-index\")\n",
    "plt.ylabel(\"Log10 (Institute Count)\")\n",
    "plt.legend(loc='upper right')\n",
    "plt.show()"
   ]
  },
  {
   "cell_type": "markdown",
   "metadata": {},
   "source": [
    "<h2>G-index Distribution </h2>"
   ]
  },
  {
   "cell_type": "code",
   "execution_count": 37,
   "metadata": {},
   "outputs": [],
   "source": [
    "def gindex_comp(graph,df):\n",
    "    ginx=gm_index(graph)\n",
    "    ginx=dict(ginx)\n",
    "    inst_ginx_metric=inst_wise_val(df,'publisher_institution',ginx)\n",
    "    top_10, top_10_dict=top_metric_val(inst_ginx_metric)\n",
    "    return inst_ginx_metric,top_10_dict"
   ]
  },
  {
   "cell_type": "code",
   "execution_count": 38,
   "metadata": {},
   "outputs": [
    {
     "data": {
      "text/plain": [
       "{'Aligarh Muslim University': 35,\n",
       " 'Savitribai Phule Pune University': 32,\n",
       " 'University of Calcutta': 20,\n",
       " 'Panjab University': 17,\n",
       " 'Karnatak University': 16,\n",
       " 'Maharaja Sayajirao University of Baroda': 15,\n",
       " 'Gujarat University': 10,\n",
       " 'University of Kerala': 10,\n",
       " 'Shivaji University': 8,\n",
       " 'Sardar Patel University': 7}"
      ]
     },
     "execution_count": 38,
     "metadata": {},
     "output_type": "execute_result"
    }
   ],
   "source": [
    "inst_ginx_0,top_ginx_0=gindex_comp(graph_0, filter_data_0)\n",
    "top_ginx_0"
   ]
  },
  {
   "cell_type": "code",
   "execution_count": 39,
   "metadata": {},
   "outputs": [
    {
     "data": {
      "text/plain": [
       "{'Aligarh Muslim University': 70,\n",
       " 'Karnatak University': 65,\n",
       " 'Sri Krishnadevaraya University': 63,\n",
       " 'Himachal Pradesh University': 51,\n",
       " 'Utkal University': 50,\n",
       " 'Shivaji University': 48,\n",
       " 'University of Calcutta': 47,\n",
       " 'Panjab University': 42,\n",
       " 'Bharathiar University': 39,\n",
       " 'Savitribai Phule Pune University': 38}"
      ]
     },
     "execution_count": 39,
     "metadata": {},
     "output_type": "execute_result"
    }
   ],
   "source": [
    "inst_ginx,top_ginx=gindex_comp(graph, filter_data)\n",
    "top_ginx"
   ]
  },
  {
   "cell_type": "code",
   "execution_count": 40,
   "metadata": {},
   "outputs": [
    {
     "data": {
      "text/plain": [
       "{'Anna University': 446,\n",
       " 'Manonmaniam Sundaranar University': 317,\n",
       " 'V. B. S. Purvanchal University': 268,\n",
       " 'Bharathidasan University': 262,\n",
       " 'Bharathiar University': 197,\n",
       " 'Panjab University': 131,\n",
       " 'Alagappa University': 131,\n",
       " 'Aligarh Muslim University': 122,\n",
       " 'Maharshi Dayanand University': 87,\n",
       " 'Madurai Kamraj University': 84}"
      ]
     },
     "execution_count": 40,
     "metadata": {},
     "output_type": "execute_result"
    }
   ],
   "source": [
    "inst_ginx_1,top_ginx_1=gindex_comp(graph1, filter_data1)\n",
    "top_ginx_1"
   ]
  },
  {
   "cell_type": "code",
   "execution_count": 41,
   "metadata": {},
   "outputs": [
    {
     "data": {
      "text/plain": [
       "{'Aligarh Muslim University': 715,\n",
       " 'Anna University': 641,\n",
       " 'University of Calcutta': 552,\n",
       " 'Panjab University': 470,\n",
       " 'Savitribai Phule Pune University': 456,\n",
       " 'Bharathidasan University': 442,\n",
       " 'Karnatak University': 428,\n",
       " 'Bharathiar University': 421,\n",
       " 'V. B. S. Purvanchal University': 382,\n",
       " 'Manonmaniam Sundaranar University': 371}"
      ]
     },
     "execution_count": 41,
     "metadata": {},
     "output_type": "execute_result"
    }
   ],
   "source": [
    "inst_ginx_2,top_ginx_2=gindex_comp(graph2, mod_ment2)\n",
    "top_ginx_2"
   ]
  },
  {
   "cell_type": "code",
   "execution_count": 42,
   "metadata": {},
   "outputs": [
    {
     "data": {
      "image/png": "[encoded data removed]",
      "text/plain": [
       "<Figure size 720x432 with 1 Axes>"
      ]
     },
     "metadata": {
      "needs_background": "light"
     },
     "output_type": "display_data"
    }
   ],
   "source": [
    "data40=list(inst_ginx_0.values())\n",
    "data41=list(inst_ginx.values())\n",
    "data42=list(inst_ginx_1.values())\n",
    "data43=list(inst_ginx_2.values())\n",
    "fig, ax = plt.subplots(figsize=(10,6))\n",
    "n4,bins4, _= plt.hist([data40,data41,data42,data43],log=True, label=[\"1960-1980\",\"1980-2000\",\"2000-2020\",\"Over Complete Time Span\"])\n",
    "plt.title(\"Institute wise G-index Distribution\")\n",
    "plt.xlabel(\"Institute G-index\")\n",
    "plt.ylabel(\"Log10 (Institute Count)\")\n",
    "plt.legend(loc='upper right')\n",
    "plt.show()"
   ]
  }
 ],
 "metadata": {
  "kernelspec": {
   "display_name": "Python 3",
   "language": "python",
   "name": "python3"
  },
  "language_info": {
   "codemirror_mode": {
    "name": "ipython",
    "version": 3
   },
   "file_extension": ".py",
   "mimetype": "text/x-python",
   "name": "python",
   "nbconvert_exporter": "python",
   "pygments_lexer": "ipython3",
   "version": "3.7.12"
  }
 },
 "nbformat": 4,
 "nbformat_minor": 4
}
