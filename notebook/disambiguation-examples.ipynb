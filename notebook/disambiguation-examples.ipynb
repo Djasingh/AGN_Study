{
 "cells": [
  {
   "cell_type": "code",
   "execution_count": 1,
   "metadata": {},
   "outputs": [],
   "source": [
    "import pandas as pd\n",
    "import networkx as nx\n",
    "import numpy as np"
   ]
  },
  {
   "cell_type": "code",
   "execution_count": 2,
   "metadata": {},
   "outputs": [],
   "source": [
    "folder=\"dataset_v5/v5_2/\""
   ]
  },
  {
   "cell_type": "code",
   "execution_count": 3,
   "metadata": {},
   "outputs": [],
   "source": [
    "mod_ment2 = pd.read_csv(folder+'v5_2_2/'+'final_shodhganga_dataset_v5_2_2.csv', sep =\",\")"
   ]
  },
  {
   "cell_type": "code",
   "execution_count": 10,
   "metadata": {},
   "outputs": [
    {
     "data": {
      "text/plain": [
       "Index(['advisorId', 'researcherId', 'advId', 'resId', 'advisor_name',\n",
       "       'researcher_name', 'publisher_dept', 'DepartmentId',\n",
       "       'publisher_institution', 'instituteId', 'title', 'thesisId',\n",
       "       'N_thesisId', 'date_submitted', 'new_date_awarded', 'dc.date.awarded',\n",
       "       'dc.subject.ddc', 'uniq_ddc_across_dept', 'dc.description.abstract',\n",
       "       'dc.title.alternative', 'N_DepartmentId_1', 'ddc_code', 'advisor_advId',\n",
       "       'researcher_resId'],\n",
       "      dtype='object')"
      ]
     },
     "execution_count": 10,
     "metadata": {},
     "output_type": "execute_result"
    }
   ],
   "source": [
    "mod_ment2.columns"
   ]
  },
  {
   "cell_type": "code",
   "execution_count": 4,
   "metadata": {},
   "outputs": [
    {
     "data": {
      "text/plain": [
       "array(['Adaptive QOS multicast routing protocols for multi-hop networks',\n",
       "       'Task scheduling algorithms for distributed heterogeneous computing systems',\n",
       "       'Amelioration of r*-tree indexing principles for multidimensional query processing',\n",
       "       'A new approach to image metamorphosis and its relevance to polymorphing and view morphing',\n",
       "       'Speaker identification and hybrid continuous speech recognition for medical terminology'],\n",
       "      dtype=object)"
      ]
     },
     "execution_count": 4,
     "metadata": {},
     "output_type": "execute_result"
    }
   ],
   "source": [
    "#advisor-advisee link (Both from different institute) Info. available in shodhganga using thesis title\n",
    "mod_ment2[mod_ment2['advId']==230594]['title'].values"
   ]
  },
  {
   "cell_type": "code",
   "execution_count": 5,
   "metadata": {},
   "outputs": [
    {
     "data": {
      "text/plain": [
       "148549    Knowledge_based syntactico semantics\n",
       "148550    Knowledge_based syntactico semantics\n",
       "Name: title, dtype: object"
      ]
     },
     "execution_count": 5,
     "metadata": {},
     "output_type": "execute_result"
    }
   ],
   "source": [
    "mod_ment2[mod_ment2['resId']==230594]['title']"
   ]
  },
  {
   "cell_type": "code",
   "execution_count": 12,
   "metadata": {},
   "outputs": [
    {
     "data": {
      "text/plain": [
       "'1991-07-01'"
      ]
     },
     "execution_count": 12,
     "metadata": {},
     "output_type": "execute_result"
    }
   ],
   "source": [
    "#hard to very no sign avaialble, also there does not seems to be nay link to validate \n",
    "mod_ment2[mod_ment2['advId']==144109]['title'].values)"
   ]
  },
  {
   "cell_type": "code",
   "execution_count": 13,
   "metadata": {},
   "outputs": [
    {
     "data": {
      "text/html": [
       "<div>\n",
       "<style scoped>\n",
       "    .dataframe tbody tr th:only-of-type {\n",
       "        vertical-align: middle;\n",
       "    }\n",
       "\n",
       "    .dataframe tbody tr th {\n",
       "        vertical-align: top;\n",
       "    }\n",
       "\n",
       "    .dataframe thead th {\n",
       "        text-align: right;\n",
       "    }\n",
       "</style>\n",
       "<table border=\"1\" class=\"dataframe\">\n",
       "  <thead>\n",
       "    <tr style=\"text-align: right;\">\n",
       "      <th></th>\n",
       "      <th>advisorId</th>\n",
       "      <th>researcherId</th>\n",
       "      <th>advId</th>\n",
       "      <th>resId</th>\n",
       "      <th>advisor_name</th>\n",
       "      <th>researcher_name</th>\n",
       "      <th>publisher_dept</th>\n",
       "      <th>DepartmentId</th>\n",
       "      <th>publisher_institution</th>\n",
       "      <th>instituteId</th>\n",
       "      <th>...</th>\n",
       "      <th>new_date_awarded</th>\n",
       "      <th>dc.date.awarded</th>\n",
       "      <th>dc.subject.ddc</th>\n",
       "      <th>uniq_ddc_across_dept</th>\n",
       "      <th>dc.description.abstract</th>\n",
       "      <th>dc.title.alternative</th>\n",
       "      <th>N_DepartmentId_1</th>\n",
       "      <th>ddc_code</th>\n",
       "      <th>advisor_advId</th>\n",
       "      <th>researcher_resId</th>\n",
       "    </tr>\n",
       "  </thead>\n",
       "  <tbody>\n",
       "    <tr>\n",
       "      <th>56039</th>\n",
       "      <td>24794</td>\n",
       "      <td>144109</td>\n",
       "      <td>24794</td>\n",
       "      <td>144109</td>\n",
       "      <td>Shivarudrappa, G.</td>\n",
       "      <td>Mohan, S.</td>\n",
       "      <td>department of education</td>\n",
       "      <td>D1418</td>\n",
       "      <td>Karnatak University</td>\n",
       "      <td>I26</td>\n",
       "      <td>...</td>\n",
       "      <td>1982-01-31</td>\n",
       "      <td>NaN</td>\n",
       "      <td>300::Social sciences|370::Education</td>\n",
       "      <td>('300', '370')</td>\n",
       "      <td>NaN</td>\n",
       "      <td>NaN</td>\n",
       "      <td>D1418</td>\n",
       "      <td>('300', '370')</td>\n",
       "      <td>Shivarudrappa, G.@24794</td>\n",
       "      <td>Mohan, S.@144109</td>\n",
       "    </tr>\n",
       "  </tbody>\n",
       "</table>\n",
       "<p>1 rows × 24 columns</p>\n",
       "</div>"
      ],
      "text/plain": [
       "       advisorId  researcherId  advId   resId       advisor_name  \\\n",
       "56039      24794        144109  24794  144109  Shivarudrappa, G.   \n",
       "\n",
       "      researcher_name           publisher_dept DepartmentId  \\\n",
       "56039       Mohan, S.  department of education        D1418   \n",
       "\n",
       "      publisher_institution instituteId  ... new_date_awarded dc.date.awarded  \\\n",
       "56039   Karnatak University         I26  ...       1982-01-31             NaN   \n",
       "\n",
       "                            dc.subject.ddc uniq_ddc_across_dept  \\\n",
       "56039  300::Social sciences|370::Education       ('300', '370')   \n",
       "\n",
       "      dc.description.abstract dc.title.alternative N_DepartmentId_1  \\\n",
       "56039                     NaN                  NaN            D1418   \n",
       "\n",
       "             ddc_code            advisor_advId  researcher_resId  \n",
       "56039  ('300', '370')  Shivarudrappa, G.@24794  Mohan, S.@144109  \n",
       "\n",
       "[1 rows x 24 columns]"
      ]
     },
     "execution_count": 13,
     "metadata": {},
     "output_type": "execute_result"
    }
   ],
   "source": [
    "mod_ment2[mod_ment2['resId']==144109]#['title'].values"
   ]
  },
  {
   "cell_type": "code",
   "execution_count": 15,
   "metadata": {},
   "outputs": [],
   "source": [
    "mod_ment2['adv_inst_id']=mod_ment2['advisor_name']+\"@\"+mod_ment2['publisher_institution']+\"@\"+mod_ment2['advId'].map(str).copy()"
   ]
  },
  {
   "cell_type": "code",
   "execution_count": 16,
   "metadata": {},
   "outputs": [],
   "source": [
    "mod_ment2['stud_inst_id']=mod_ment2['researcher_name']+\"@\"+mod_ment2['publisher_institution']+\"@\"+mod_ment2['resId'].map(str).copy()"
   ]
  },
  {
   "cell_type": "code",
   "execution_count": 19,
   "metadata": {},
   "outputs": [],
   "source": [
    "uniq=pd.unique(mod_ment2[['adv_inst_id', 'stud_inst_id']].values.ravel('K')).copy()\n",
    "name_index1=pd.DataFrame({'res_inst_id':uniq})\n",
    "name_index1[['names','inst','idd']]=name_index1['res_inst_id'].str.split(\"@\",expand=True)\n",
    "name_index1['idd']=name_index1['idd'].map(int)"
   ]
  },
  {
   "cell_type": "code",
   "execution_count": 22,
   "metadata": {},
   "outputs": [],
   "source": [
    "name_grp=name_index1.groupby(['idd'], as_index=False)[['res_inst_id','names','inst']].agg(lambda x: set(x))"
   ]
  },
  {
   "cell_type": "code",
   "execution_count": 24,
   "metadata": {},
   "outputs": [],
   "source": [
    "name_grp['inst_count']=name_grp['inst'].apply(lambda x: len(x))"
   ]
  },
  {
   "cell_type": "code",
   "execution_count": 27,
   "metadata": {},
   "outputs": [
    {
     "data": {
      "text/html": [
       "<div>\n",
       "<style scoped>\n",
       "    .dataframe tbody tr th:only-of-type {\n",
       "        vertical-align: middle;\n",
       "    }\n",
       "\n",
       "    .dataframe tbody tr th {\n",
       "        vertical-align: top;\n",
       "    }\n",
       "\n",
       "    .dataframe thead th {\n",
       "        text-align: right;\n",
       "    }\n",
       "</style>\n",
       "<table border=\"1\" class=\"dataframe\">\n",
       "  <thead>\n",
       "    <tr style=\"text-align: right;\">\n",
       "      <th></th>\n",
       "      <th>idd</th>\n",
       "      <th>res_inst_id</th>\n",
       "      <th>names</th>\n",
       "      <th>inst</th>\n",
       "      <th>inst_count</th>\n",
       "    </tr>\n",
       "  </thead>\n",
       "  <tbody>\n",
       "    <tr>\n",
       "      <th>98</th>\n",
       "      <td>130</td>\n",
       "      <td>{Mehra, Vandana@Maharshi Dayanand University@1...</td>\n",
       "      <td>{Mehra, Vandana}</td>\n",
       "      <td>{Maharshi Dayanand University, Panjab University}</td>\n",
       "      <td>2</td>\n",
       "    </tr>\n",
       "    <tr>\n",
       "      <th>843</th>\n",
       "      <td>1067</td>\n",
       "      <td>{Kaur, Kuldip@Panjab University@1067, Kaur, Ku...</td>\n",
       "      <td>{Kaur, Kuldip, Kaur, Kuldeep}</td>\n",
       "      <td>{Panjab University, Guru Nanak Dev University}</td>\n",
       "      <td>2</td>\n",
       "    </tr>\n",
       "    <tr>\n",
       "      <th>1094</th>\n",
       "      <td>1412</td>\n",
       "      <td>{Sreekumar, K.@Cochin University of Science an...</td>\n",
       "      <td>{Sreekumar K., Sreekumar, K.}</td>\n",
       "      <td>{Mahatma Gandhi University, Cochin University ...</td>\n",
       "      <td>2</td>\n",
       "    </tr>\n",
       "    <tr>\n",
       "      <th>1359</th>\n",
       "      <td>1740</td>\n",
       "      <td>{Kumar, Vijay@Maharishi Markandeshwar Universi...</td>\n",
       "      <td>{Kumar, Vijay}</td>\n",
       "      <td>{Maharishi Markandeshwar University, Mullana, ...</td>\n",
       "      <td>2</td>\n",
       "    </tr>\n",
       "    <tr>\n",
       "      <th>1671</th>\n",
       "      <td>2157</td>\n",
       "      <td>{Chandrasekaran, M.@Bharathiar University@2157...</td>\n",
       "      <td>{Chandrasekaran, M.}</td>\n",
       "      <td>{Cochin University of Science and Technology, ...</td>\n",
       "      <td>2</td>\n",
       "    </tr>\n",
       "    <tr>\n",
       "      <th>...</th>\n",
       "      <td>...</td>\n",
       "      <td>...</td>\n",
       "      <td>...</td>\n",
       "      <td>...</td>\n",
       "      <td>...</td>\n",
       "    </tr>\n",
       "    <tr>\n",
       "      <th>252116</th>\n",
       "      <td>280633</td>\n",
       "      <td>{Gupta, Deepak@Maharishi Markandeshwar Univers...</td>\n",
       "      <td>{Gupta, Deepak}</td>\n",
       "      <td>{Maharishi Markandeshwar University, Mullana, ...</td>\n",
       "      <td>3</td>\n",
       "    </tr>\n",
       "    <tr>\n",
       "      <th>252132</th>\n",
       "      <td>280649</td>\n",
       "      <td>{Aggarwal, Amrish K.@Jaypee Institute of Infor...</td>\n",
       "      <td>{Aggarwal, Amrish K., Aggarwal, Amrish Kumar}</td>\n",
       "      <td>{Jaypee Institute of Information Technology, H...</td>\n",
       "      <td>2</td>\n",
       "    </tr>\n",
       "    <tr>\n",
       "      <th>252169</th>\n",
       "      <td>280687</td>\n",
       "      <td>{Kanwar, Vinay@Panjab University@280687, Kanwa...</td>\n",
       "      <td>{Kanwar, Vinay}</td>\n",
       "      <td>{Sant Longowal Institute of Engineering and Te...</td>\n",
       "      <td>3</td>\n",
       "    </tr>\n",
       "    <tr>\n",
       "      <th>252171</th>\n",
       "      <td>280689</td>\n",
       "      <td>{Singh, Mahinder@Lovely Professional Universit...</td>\n",
       "      <td>{Singh, Mahinder}</td>\n",
       "      <td>{Himachal Pradesh University, Lovely Professio...</td>\n",
       "      <td>2</td>\n",
       "    </tr>\n",
       "    <tr>\n",
       "      <th>252268</th>\n",
       "      <td>280790</td>\n",
       "      <td>{Kaur, Rajinder@Himachal Pradesh University@28...</td>\n",
       "      <td>{Kaur, Rajinder}</td>\n",
       "      <td>{Punjabi University, Himachal Pradesh University}</td>\n",
       "      <td>2</td>\n",
       "    </tr>\n",
       "  </tbody>\n",
       "</table>\n",
       "<p>1466 rows × 5 columns</p>\n",
       "</div>"
      ],
      "text/plain": [
       "           idd                                        res_inst_id  \\\n",
       "98         130  {Mehra, Vandana@Maharshi Dayanand University@1...   \n",
       "843       1067  {Kaur, Kuldip@Panjab University@1067, Kaur, Ku...   \n",
       "1094      1412  {Sreekumar, K.@Cochin University of Science an...   \n",
       "1359      1740  {Kumar, Vijay@Maharishi Markandeshwar Universi...   \n",
       "1671      2157  {Chandrasekaran, M.@Bharathiar University@2157...   \n",
       "...        ...                                                ...   \n",
       "252116  280633  {Gupta, Deepak@Maharishi Markandeshwar Univers...   \n",
       "252132  280649  {Aggarwal, Amrish K.@Jaypee Institute of Infor...   \n",
       "252169  280687  {Kanwar, Vinay@Panjab University@280687, Kanwa...   \n",
       "252171  280689  {Singh, Mahinder@Lovely Professional Universit...   \n",
       "252268  280790  {Kaur, Rajinder@Himachal Pradesh University@28...   \n",
       "\n",
       "                                                names  \\\n",
       "98                                   {Mehra, Vandana}   \n",
       "843                     {Kaur, Kuldip, Kaur, Kuldeep}   \n",
       "1094                    {Sreekumar K., Sreekumar, K.}   \n",
       "1359                                   {Kumar, Vijay}   \n",
       "1671                             {Chandrasekaran, M.}   \n",
       "...                                               ...   \n",
       "252116                                {Gupta, Deepak}   \n",
       "252132  {Aggarwal, Amrish K., Aggarwal, Amrish Kumar}   \n",
       "252169                                {Kanwar, Vinay}   \n",
       "252171                              {Singh, Mahinder}   \n",
       "252268                               {Kaur, Rajinder}   \n",
       "\n",
       "                                                     inst  inst_count  \n",
       "98      {Maharshi Dayanand University, Panjab University}           2  \n",
       "843        {Panjab University, Guru Nanak Dev University}           2  \n",
       "1094    {Mahatma Gandhi University, Cochin University ...           2  \n",
       "1359    {Maharishi Markandeshwar University, Mullana, ...           2  \n",
       "1671    {Cochin University of Science and Technology, ...           2  \n",
       "...                                                   ...         ...  \n",
       "252116  {Maharishi Markandeshwar University, Mullana, ...           3  \n",
       "252132  {Jaypee Institute of Information Technology, H...           2  \n",
       "252169  {Sant Longowal Institute of Engineering and Te...           3  \n",
       "252171  {Himachal Pradesh University, Lovely Professio...           2  \n",
       "252268  {Punjabi University, Himachal Pradesh University}           2  \n",
       "\n",
       "[1466 rows x 5 columns]"
      ]
     },
     "execution_count": 27,
     "metadata": {},
     "output_type": "execute_result"
    }
   ],
   "source": [
    "name_grp[name_grp['inst_count']>1]"
   ]
  },
  {
   "cell_type": "code",
   "execution_count": 55,
   "metadata": {},
   "outputs": [
    {
     "data": {
      "text/plain": [
       "array(['Some Special Classes of Efficient Multiple Bursts Codes',\n",
       "       'Some Thermal Stability Problems of Elastico Viscous, Ferromagnetic and Nanofluids',\n",
       "       'NON LINEAR STRESS ANALYSIS OF THICK WALLED CIRCULAR CYLINDERS',\n",
       "       'Some stability problems of Non-Newtonian Fluids'], dtype=object)"
      ]
     },
     "execution_count": 55,
     "metadata": {},
     "output_type": "execute_result"
    }
   ],
   "source": [
    "#new_date_awarded\n",
    "mod_ment2[mod_ment2['advId']==280649]['title'].values"
   ]
  },
  {
   "cell_type": "code",
   "execution_count": 56,
   "metadata": {},
   "outputs": [
    {
     "data": {
      "text/plain": [
       "array(['Stability problems in ferromagnetic couple_stress and elastic_viscous fluids'],\n",
       "      dtype=object)"
      ]
     },
     "execution_count": 56,
     "metadata": {},
     "output_type": "execute_result"
    }
   ],
   "source": [
    "mod_ment2[mod_ment2['resId']==280649]['title'].values"
   ]
  },
  {
   "cell_type": "code",
   "execution_count": null,
   "metadata": {},
   "outputs": [],
   "source": []
  }
 ],
 "metadata": {
  "kernelspec": {
   "display_name": "Python 3",
   "language": "python",
   "name": "python3"
  },
  "language_info": {
   "codemirror_mode": {
    "name": "ipython",
    "version": 3
   },
   "file_extension": ".py",
   "mimetype": "text/x-python",
   "name": "python",
   "nbconvert_exporter": "python",
   "pygments_lexer": "ipython3",
   "version": "3.6.9"
  }
 },
 "nbformat": 4,
 "nbformat_minor": 4
}
