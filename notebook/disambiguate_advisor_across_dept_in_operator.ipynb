{
 "cells": [
  {
   "cell_type": "code",
   "execution_count": null,
   "metadata": {},
   "outputs": [],
   "source": [
    "import pandas as pd\n",
    "import numpy as np\n",
    "import itertools\n",
    "import json\n",
    "import pickle"
   ]
  },
  {
   "cell_type": "code",
   "execution_count": 2,
   "metadata": {},
   "outputs": [],
   "source": [
    "from tqdm import tqdm\n",
    "tqdm.pandas()"
   ]
  },
  {
   "cell_type": "code",
   "execution_count": 3,
   "metadata": {},
   "outputs": [],
   "source": [
    "folder=\"dataset_v5/v5_2/\""
   ]
  },
  {
   "cell_type": "code",
   "execution_count": 4,
   "metadata": {},
   "outputs": [],
   "source": [
    "ment = pd.read_csv(folder+\"processed_sodhganga_mentorship_dept_rev_with_initial_ids.csv\")"
   ]
  },
  {
   "cell_type": "code",
   "execution_count": 5,
   "metadata": {},
   "outputs": [],
   "source": [
    "#ment.loc[ment[\"uniq_ddc_across_dept\"]==\"('',)\",'DepartmentId']=ment[ment[\"uniq_ddc_across_dept\"]==\"('',)\"]['N_DepartmentId_1']"
   ]
  },
  {
   "cell_type": "code",
   "execution_count": 6,
   "metadata": {},
   "outputs": [],
   "source": [
    "#ment[ment]"
   ]
  },
  {
   "cell_type": "code",
   "execution_count": 7,
   "metadata": {},
   "outputs": [
    {
     "data": {
      "text/plain": [
       "(205744, 25)"
      ]
     },
     "execution_count": 7,
     "metadata": {},
     "output_type": "execute_result"
    }
   ],
   "source": [
    "ment.shape"
   ]
  },
  {
   "cell_type": "code",
   "execution_count": 8,
   "metadata": {},
   "outputs": [
    {
     "data": {
      "text/plain": [
       "Index(['advisorId', 'researcherId', 'advisor_name', 'researcher_name',\n",
       "       'dc.language.iso[]', 'publisher_dept', 'DepartmentId',\n",
       "       'publisher_institution', 'instituteId', 'title', 'thesisId',\n",
       "       'dc.type.degree', 'date_submitted', 'dc.date.awarded', 'dc.subject.ddc',\n",
       "       'dc.description.abstract', 'dc.title.alternative',\n",
       "       'uniq_ddc_across_dept', 'N_DepartmentId_1', 'N_DepartmentId',\n",
       "       'previous_advisor_name', 'advisor_inst_dept', 'res_inst_dept',\n",
       "       'adv_names_rid', 'res_names_rid'],\n",
       "      dtype='object')"
      ]
     },
     "execution_count": 8,
     "metadata": {},
     "output_type": "execute_result"
    }
   ],
   "source": [
    "ment.columns"
   ]
  },
  {
   "cell_type": "code",
   "execution_count": 9,
   "metadata": {},
   "outputs": [],
   "source": [
    "chars=[',',\";\",\"\\.\",\"-\",\":\"]"
   ]
  },
  {
   "cell_type": "code",
   "execution_count": 10,
   "metadata": {},
   "outputs": [],
   "source": [
    "def save_obj(obj, name ):\n",
    "    with open(folder+name+'.pkl', 'wb') as f:\n",
    "        pickle.dump(obj, f, pickle.HIGHEST_PROTOCOL)"
   ]
  },
  {
   "cell_type": "code",
   "execution_count": 11,
   "metadata": {},
   "outputs": [],
   "source": [
    "def rm_splChar(name):\n",
    "    name = str(name)\n",
    "    name1 = re.sub(\" +\",\"\",name)\n",
    "    regex = \"|\".join(chars)\n",
    "    name1 = re.sub(regex,\"\", name1)\n",
    "    #name2 = re.sub(regex,\"\", name)\n",
    "    #val = re.sub('[^A-Za-z]+', '', val)\n",
    "    return name1"
   ]
  },
  {
   "cell_type": "code",
   "execution_count": 12,
   "metadata": {},
   "outputs": [],
   "source": [
    "def check_and_combine1(name_dict,ment):\n",
    "    for key in name_dict:\n",
    "        if len(name_dict[key])==1:\n",
    "            global pairs_corrected\n",
    "            #print(key,name_dict[key])\n",
    "            global merged_count\n",
    "            pairs_list=name_dict[key][0]\n",
    "            #pairs_corrected.append(piars_tuple)\n",
    "            merged_count+=1\n",
    "            id1=name_dict[key][0][1]\n",
    "            id2=name_dict[key][0][3]\n",
    "            #print(id1,id2)\n",
    "            as_stud1=ment[ment['researcherId']==id1]\n",
    "            as_stud2=ment[ment['researcherId']==id2]\n",
    "            if as_stud1.empty and as_stud2.empty:\n",
    "                pairs_corrected.append(pairs_list)\n",
    "            elif not (as_stud1.empty) and as_stud2.empty:\n",
    "                pairs_corrected.append(pairs_list)\n",
    "            elif as_stud1.empty and not(as_stud2.empty):\n",
    "                #ment.loc[(ment['resId']==id2),'resId']=id1\n",
    "                pairs_corrected.append(pairs_list)\n",
    "            else:\n",
    "                print(\"check ids: \"+str(id1)+\"_\"+str(id2))\n",
    "        else:\n",
    "            continue\n",
    "    save_obj(pairs_corrected,'sim_name_in_operator')\n",
    "    return"
   ]
  },
  {
   "cell_type": "code",
   "execution_count": 13,
   "metadata": {},
   "outputs": [],
   "source": [
    "def check_and_combine(name_dict,ment):\n",
    "    global pairs_corrected\n",
    "    global merged_count\n",
    "    for key in name_dict:\n",
    "        if len(name_dict[key])==1:\n",
    "            #print(key,name_dict[key])\n",
    "            pairs_list=[name_dict[key][0][0],name_dict[key][0][1],name_dict[key][0][2],name_dict[key][0][3]]\n",
    "            #pairs_corrected.append(piars_tuple)\n",
    "            merged_count+=1\n",
    "            id1=name_dict[key][0][0]\n",
    "            id2=name_dict[key][0][2]\n",
    "            #print(id1,id2)\n",
    "            as_stud1=ment[ment['researcherId']==id1]\n",
    "            as_stud2=ment[ment['researcherId']==id2]\n",
    "            if as_stud1.empty and as_stud2.empty:\n",
    "                ment.loc[(ment['advisorId']==id2),'advisorId']=id1\n",
    "                pairs_corrected.append(pairs_list)\n",
    "            elif not (as_stud1.empty) and as_stud2.empty:\n",
    "                ment.loc[(ment['advisorId']==id1),'advisorId']=id2\n",
    "                ment.loc[(ment['researcherId']==id1),'researcherId']=id2\n",
    "                pairs_corrected.append(pairs_list)\n",
    "            elif as_stud1.empty and not(as_stud2.empty):\n",
    "                ment.loc[(ment['advisorId']==id1),'advisorId']=id2\n",
    "                #ment.loc[(ment['resId']==id2),'resId']=id1\n",
    "                pairs_corrected.append(pairs_list)\n",
    "            else:\n",
    "#                 ment.loc[(ment['advId']==id1),'advId']=id2\n",
    "#                 ment.loc[(ment['resId']==id1),'resId']=id2\n",
    "                print(\"check ids: \"+str(id1)+\"_\"+str(id2))\n",
    "        else:\n",
    "            continue\n",
    "    pairs_df=pd.DataFrame(pairs_corrected)\n",
    "    pairs_df.to_csv(folder+\"/corrected_names_using_in_operator1.csv\",sep=\",\",index=False)\n",
    "    return"
   ]
  },
  {
   "cell_type": "code",
   "execution_count": 14,
   "metadata": {},
   "outputs": [],
   "source": [
    "# def write_dict(data,inst_id,dept_id):\n",
    "#     #print(data)\n",
    "#     file_name=str(inst_id)+\"_\"+str(dept_id)\n",
    "#     with open(folder+'adv_dict/'+file_name+'.json', 'w') as fp:\n",
    "#         json.dumps({str(k): v for k, v in data.items()})\n",
    "#     return"
   ]
  },
  {
   "cell_type": "code",
   "execution_count": 15,
   "metadata": {},
   "outputs": [],
   "source": [
    "# converted={ast.literal_eval(k): v for k, v in json.items()}"
   ]
  },
  {
   "cell_type": "code",
   "execution_count": 16,
   "metadata": {},
   "outputs": [],
   "source": [
    "def join_advisors(name_id,ment):\n",
    "    global mem_dict\n",
    "    #print(name_id)\n",
    "    dept_id=pd.unique(name_id[0])[0]\n",
    "    inst_id=pd.unique(name_id[1])[0]\n",
    "    tmp_df=pd.DataFrame({'name':name_id[2],'idd':name_id[3]})\n",
    "    idd_grp=tmp_df.groupby(['idd'],as_index=False)[['name']].agg(lambda x:list(x))\n",
    "    idd_grp['name']=idd_grp['name'].apply(lambda x: x[0])\n",
    "    #print(idd_grp.head())\n",
    "    \n",
    "    name_comb = itertools.combinations(idd_grp['name'], 2)\n",
    "    id_comb = itertools.combinations(idd_grp['idd'], 2)\n",
    "    for name, idd in zip(name_comb, id_comb):\n",
    "        name0=name[0]\n",
    "        name1=name[1]\n",
    "        idd0=idd[0]\n",
    "        idd1=idd[1]\n",
    "        if len(name0) > len(name1):\n",
    "            name0,name1= name1,name0\n",
    "            idd0,idd1=idd1,idd0\n",
    "        if (name0 in name1) and (idd0 != idd1):# or (name[1] in name[0]))\n",
    "            if idd0 in mem_dict:\n",
    "                mem_dict[idd0].append((name0,idd0,name1,idd1))\n",
    "            else:\n",
    "                mem_dict[idd0]=[]\n",
    "                mem_dict[idd0].append((name0,idd0,name1,idd1))\n",
    "#     if len(mem_dict)>0:\n",
    "#         write_dict(mem_dict,inst_id,dept_id)\n",
    "#         check_and_combine(mem_dict,ment)\n",
    "#     print(mem_dict)\n",
    "    return"
   ]
  },
  {
   "cell_type": "code",
   "execution_count": null,
   "metadata": {},
   "outputs": [],
   "source": [
    "# def join_advisors1(name_id,ment):\n",
    "#     dept_id=pd.unique(name_id[0])[0]\n",
    "#     inst_id=pd.unique(name_id[1])[0]\n",
    "#     tmp_df=pd.DataFrame({'name':name_id[2],'idd':name_id[3]})\n",
    "#     idd_grp=tmp_df.groupby(['idd'],as_index=False)[['name']].agg(lambda x:list(x))\n",
    "#     idd_grp['name']=idd_grp['name'].apply(lambda x: set(x))\n",
    "#     id_comb = itertools.combinations(idd_grp['idd'], 2)\n",
    "#     for id1, id2 in id_comb:\n",
    "#         name1_list=idd_grp[idd_grp['idd']==id1]['name'].values[0]\n",
    "#         name2_list=idd_grp[idd_grp['idd']==id2]['name'].values[0]\n",
    "#         inner_function(name1_list,name2_list,id1,id2)\n",
    "#     return"
   ]
  },
  {
   "cell_type": "code",
   "execution_count": null,
   "metadata": {},
   "outputs": [],
   "source": [
    "# def inner_function(name1_list,name2_list,idd0,idd1):\n",
    "#     global mem_dict\n",
    "#     product=itertools.product(name1_list, name2_list)\n",
    "#     #print(list(product))\n",
    "#     for name0, name1 in product:\n",
    "#         if len(name0) > len(name1):\n",
    "#             name0,name1= name1,name0\n",
    "#             idd0,idd1=idd1,idd0\n",
    "#         if (name0 in name1) and (idd0 != idd1):\n",
    "#             #print(name0+\"__\"+name1)\n",
    "#             if idd0 in mem_dict:\n",
    "#                 mem_dict[idd0].append((name0,idd0,name1,idd1))\n",
    "#             else:\n",
    "#                 mem_dict[idd0]=[]\n",
    "#                 mem_dict[idd0].append((name0,idd0,name1,idd1)\n",
    "#             return\n",
    "#         else:\n",
    "#             continue\n",
    "#     return"
   ]
  },
  {
   "cell_type": "code",
   "execution_count": 17,
   "metadata": {},
   "outputs": [],
   "source": [
    "def join_advisors1(name_id,ment):\n",
    "    dept_id=pd.unique(name_id[1])[0]\n",
    "    inst_id=pd.unique(name_id[0])[0]\n",
    "    tmp_df=pd.DataFrame({'name':name_id[2],'idd':name_id[3]}).copy()\n",
    "    idd_grp=tmp_df.groupby(['idd'],as_index=False)[['name']].agg(lambda x:list(x))\n",
    "    idd_grp['name']=idd_grp['name'].apply(lambda x: set(x))\n",
    "    id_comb = itertools.combinations(idd_grp['idd'], 2)\n",
    "    for id1, id2 in id_comb:\n",
    "        name1_list=idd_grp[idd_grp['idd']==id1]['name'].values[0]\n",
    "        name2_list=idd_grp[idd_grp['idd']==id2]['name'].values[0]\n",
    "        product=itertools.product(name1_list, name2_list)\n",
    "        #print(list(product))\n",
    "        for name1, name2 in product:\n",
    "            if len(name1) > len(name2):\n",
    "                name1,name2 = name2,name1\n",
    "                id11,id21 = id2,id1\n",
    "            else:\n",
    "                id11=id1\n",
    "                id21=id2\n",
    "            if name1 in name2:\n",
    "#                 print(name1+\"__\"+name2)\n",
    "#                 print(str(id1)+\"__\"+str(id2))\n",
    "                if id1 in mem_dict:\n",
    "                    mem_dict[id11].append((name1,id11,name2,id21))\n",
    "                else:\n",
    "                    mem_dict[id11]=[]\n",
    "                    mem_dict[id11].append((name1,id11,name2,id21))\n",
    "                break\n",
    "            else:\n",
    "                continue\n",
    "#         inner_function(name1_list,name2_list,id1,id2)\n",
    "    return"
   ]
  },
  {
   "cell_type": "code",
   "execution_count": 18,
   "metadata": {},
   "outputs": [],
   "source": [
    "advisors=ment.groupby(['instituteId','N_DepartmentId_1'],as_index=False)[['advisor_name','advisorId']].agg(lambda x: list(x))"
   ]
  },
  {
   "cell_type": "code",
   "execution_count": 19,
   "metadata": {},
   "outputs": [
    {
     "data": {
      "text/plain": [
       "(6938, 4)"
      ]
     },
     "execution_count": 19,
     "metadata": {},
     "output_type": "execute_result"
    }
   ],
   "source": [
    "advisors.shape"
   ]
  },
  {
   "cell_type": "code",
   "execution_count": 1,
   "metadata": {},
   "outputs": [],
   "source": [
    "# mem_dict={}\n",
    "# tmp=advisors[['instituteId','N_DepartmentId_1','advisor_name','advisorId']].progress_apply(join_advisors1,args=(ment,),axis=1)"
   ]
  },
  {
   "cell_type": "code",
   "execution_count": null,
   "metadata": {},
   "outputs": [],
   "source": [
    "pairs_corrected=[]\n",
    "check_and_combine1(mem_dict, ment)"
   ]
  },
  {
   "cell_type": "code",
   "execution_count": null,
   "metadata": {},
   "outputs": [],
   "source": [
    "count=0\n",
    "for key in mem_dict:\n",
    "    count+=1\n",
    "    if key==46623:\n",
    "        print(mem_dict[key])\n",
    "        break"
   ]
  },
  {
   "cell_type": "code",
   "execution_count": null,
   "metadata": {},
   "outputs": [],
   "source": [
    "list(mem_dict.values())[999:]"
   ]
  },
  {
   "cell_type": "code",
   "execution_count": null,
   "metadata": {},
   "outputs": [],
   "source": [
    "# 85852: [('Srivastava', 85852, 'Srivastava, S. K.', 85837),\n",
    "#   ('Srivastava', 85852, 'Srivastava, Santosh K.', 85839),\n",
    "#   ('Srivastava', 85852, 'Srivastava, Santosh Kumar', 85855),\n",
    "#   ('Srivastava', 85852, 'Srivastava, Santhosh Kumar', 85891),\n",
    "#   ('Srivastava', 85852, 'Srivastava, S. D.', 85892),\n",
    "#   ('Srivastava', 85852, 'Srivastava, S. P.', 85893),\n",
    "#   ('Srivastava', 85852, 'Srivastava, O. P.', 85914),\n",
    "#   ('Srivastava', 85852, 'Srivastava, H. N.', 85917)],"
   ]
  },
  {
   "cell_type": "code",
   "execution_count": null,
   "metadata": {},
   "outputs": [],
   "source": [
    "len(mem_dict)"
   ]
  },
  {
   "cell_type": "code",
   "execution_count": null,
   "metadata": {},
   "outputs": [],
   "source": [
    "#{(201704, 'Narayana, N.'): [(30762, 'Narayana, N. V.')]}"
   ]
  },
  {
   "cell_type": "code",
   "execution_count": null,
   "metadata": {},
   "outputs": [],
   "source": [
    "ment[(ment['instituteId']=='I160') & (ment['DepartmentId']=='D1331') & (ment['advisor_name']=='Yadava')].values"
   ]
  },
  {
   "cell_type": "code",
   "execution_count": null,
   "metadata": {},
   "outputs": [],
   "source": [
    "ment[ment['advisorId']==39544]"
   ]
  },
  {
   "cell_type": "code",
   "execution_count": null,
   "metadata": {},
   "outputs": [],
   "source": [
    "ment[ment['advisorId']==23258]#['title'].values"
   ]
  },
  {
   "cell_type": "code",
   "execution_count": null,
   "metadata": {},
   "outputs": [],
   "source": [
    "#  [34772, 'Mahindroo', 34775, 'Neeraj, Mahindroo'],\n",
    "#  [34773, 'Neeraj', 34775, 'Neeraj, Mahindroo'],"
   ]
  },
  {
   "cell_type": "code",
   "execution_count": null,
   "metadata": {},
   "outputs": [],
   "source": [
    "len(pairs_corrected)"
   ]
  },
  {
   "cell_type": "code",
   "execution_count": null,
   "metadata": {},
   "outputs": [],
   "source": [
    "pairs_corrected[999:]"
   ]
  },
  {
   "cell_type": "code",
   "execution_count": null,
   "metadata": {},
   "outputs": [],
   "source": [
    "count=0\n",
    "for a in pairs_corrected:\n",
    "    count+=1\n",
    "    if a[0]==55747:\n",
    "        print(count)\n",
    "        print(a)"
   ]
  },
  {
   "cell_type": "code",
   "execution_count": null,
   "metadata": {},
   "outputs": [],
   "source": [
    "pairs_sorted=sorted(pairs_corrected,key=lambda x: x[0])"
   ]
  },
  {
   "cell_type": "code",
   "execution_count": null,
   "metadata": {},
   "outputs": [],
   "source": [
    "for a in pairs_corrected:\n",
    "    if a[0]==197209:\n",
    "        print(a)"
   ]
  },
  {
   "cell_type": "code",
   "execution_count": null,
   "metadata": {},
   "outputs": [],
   "source": [
    "#mem_dict"
   ]
  },
  {
   "cell_type": "code",
   "execution_count": null,
   "metadata": {},
   "outputs": [],
   "source": []
  },
  {
   "cell_type": "code",
   "execution_count": null,
   "metadata": {},
   "outputs": [],
   "source": [
    "# import collections\n",
    "# print([item for item, count in collections.Counter(first).items() if count > 1])"
   ]
  },
  {
   "cell_type": "code",
   "execution_count": null,
   "metadata": {},
   "outputs": [],
   "source": [
    "ment[ment['researcherId']==23421][['title','date_submitted']]"
   ]
  },
  {
   "cell_type": "code",
   "execution_count": null,
   "metadata": {},
   "outputs": [],
   "source": [
    "ment[ment['researcherId']==23258][['title','date_submitted']]"
   ]
  },
  {
   "cell_type": "code",
   "execution_count": null,
   "metadata": {},
   "outputs": [],
   "source": [
    "ment.columns"
   ]
  },
  {
   "cell_type": "code",
   "execution_count": null,
   "metadata": {},
   "outputs": [],
   "source": [
    "ment[ment['advisorId']==85911]['title'].values[0]"
   ]
  },
  {
   "cell_type": "code",
   "execution_count": null,
   "metadata": {},
   "outputs": [],
   "source": []
  }
 ],
 "metadata": {
  "kernelspec": {
   "display_name": "Python 3",
   "language": "python",
   "name": "python3"
  },
  "language_info": {
   "codemirror_mode": {
    "name": "ipython",
    "version": 3
   },
   "file_extension": ".py",
   "mimetype": "text/x-python",
   "name": "python",
   "nbconvert_exporter": "python",
   "pygments_lexer": "ipython3",
   "version": "3.6.9"
  }
 },
 "nbformat": 4,
 "nbformat_minor": 4
}
