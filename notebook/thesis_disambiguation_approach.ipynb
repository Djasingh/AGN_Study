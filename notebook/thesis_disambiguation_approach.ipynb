{
 "cells": [
  {
   "cell_type": "code",
   "execution_count": 3,
   "metadata": {},
   "outputs": [],
   "source": [
    "import re\n",
    "import itertools\n",
    "import pandas as pd\n",
    "from tqdm import tqdm\n",
    "import pickle\n",
    "import json"
   ]
  },
  {
   "cell_type": "code",
   "execution_count": 4,
   "metadata": {},
   "outputs": [],
   "source": [
    "folder=\"dataset_v5/v5_2/\""
   ]
  },
  {
   "cell_type": "code",
   "execution_count": 3,
   "metadata": {},
   "outputs": [],
   "source": [
    "ment = pd.read_csv(folder+\"joined_stud_adv_shodhganga_ment_with_disamb_ids.csv\",sep=\",\") \n",
    "#dept dism not using therefore 4_1 else 4_2 file"
   ]
  },
  {
   "cell_type": "code",
   "execution_count": 4,
   "metadata": {},
   "outputs": [
    {
     "data": {
      "text/plain": [
       "(205744, 27)"
      ]
     },
     "execution_count": 4,
     "metadata": {},
     "output_type": "execute_result"
    }
   ],
   "source": [
    "ment.shape"
   ]
  },
  {
   "cell_type": "code",
   "execution_count": 5,
   "metadata": {},
   "outputs": [
    {
     "data": {
      "text/html": [
       "<div>\n",
       "<style scoped>\n",
       "    .dataframe tbody tr th:only-of-type {\n",
       "        vertical-align: middle;\n",
       "    }\n",
       "\n",
       "    .dataframe tbody tr th {\n",
       "        vertical-align: top;\n",
       "    }\n",
       "\n",
       "    .dataframe thead th {\n",
       "        text-align: right;\n",
       "    }\n",
       "</style>\n",
       "<table border=\"1\" class=\"dataframe\">\n",
       "  <thead>\n",
       "    <tr style=\"text-align: right;\">\n",
       "      <th></th>\n",
       "      <th>advisorId</th>\n",
       "      <th>researcherId</th>\n",
       "      <th>advisor_name</th>\n",
       "      <th>researcher_name</th>\n",
       "      <th>dc.language.iso[]</th>\n",
       "      <th>publisher_dept</th>\n",
       "      <th>DepartmentId</th>\n",
       "      <th>publisher_institution</th>\n",
       "      <th>instituteId</th>\n",
       "      <th>title</th>\n",
       "      <th>...</th>\n",
       "      <th>uniq_ddc_across_dept</th>\n",
       "      <th>N_DepartmentId_1</th>\n",
       "      <th>N_DepartmentId</th>\n",
       "      <th>previous_advisor_name</th>\n",
       "      <th>advisor_inst_dept</th>\n",
       "      <th>res_inst_dept</th>\n",
       "      <th>adv_names_rid</th>\n",
       "      <th>res_names_rid</th>\n",
       "      <th>advId</th>\n",
       "      <th>resId</th>\n",
       "    </tr>\n",
       "  </thead>\n",
       "  <tbody>\n",
       "  </tbody>\n",
       "</table>\n",
       "<p>0 rows × 27 columns</p>\n",
       "</div>"
      ],
      "text/plain": [
       "Empty DataFrame\n",
       "Columns: [advisorId, researcherId, advisor_name, researcher_name, dc.language.iso[], publisher_dept, DepartmentId, publisher_institution, instituteId, title, thesisId, dc.type.degree, date_submitted, dc.date.awarded, dc.subject.ddc, dc.description.abstract, dc.title.alternative, uniq_ddc_across_dept, N_DepartmentId_1, N_DepartmentId, previous_advisor_name, advisor_inst_dept, res_inst_dept, adv_names_rid, res_names_rid, advId, resId]\n",
       "Index: []\n",
       "\n",
       "[0 rows x 27 columns]"
      ]
     },
     "execution_count": 5,
     "metadata": {},
     "output_type": "execute_result"
    }
   ],
   "source": [
    "ment[ment['advId']==93629]"
   ]
  },
  {
   "cell_type": "code",
   "execution_count": 7,
   "metadata": {},
   "outputs": [
    {
     "data": {
      "text/html": [
       "<div>\n",
       "<style scoped>\n",
       "    .dataframe tbody tr th:only-of-type {\n",
       "        vertical-align: middle;\n",
       "    }\n",
       "\n",
       "    .dataframe tbody tr th {\n",
       "        vertical-align: top;\n",
       "    }\n",
       "\n",
       "    .dataframe thead th {\n",
       "        text-align: right;\n",
       "    }\n",
       "</style>\n",
       "<table border=\"1\" class=\"dataframe\">\n",
       "  <thead>\n",
       "    <tr style=\"text-align: right;\">\n",
       "      <th></th>\n",
       "      <th>advisorId</th>\n",
       "      <th>researcherId</th>\n",
       "      <th>advisor_name</th>\n",
       "      <th>researcher_name</th>\n",
       "      <th>dc.language.iso[]</th>\n",
       "      <th>publisher_dept</th>\n",
       "      <th>DepartmentId</th>\n",
       "      <th>publisher_institution</th>\n",
       "      <th>instituteId</th>\n",
       "      <th>title</th>\n",
       "      <th>...</th>\n",
       "      <th>dc.description.abstract</th>\n",
       "      <th>dc.title.alternative</th>\n",
       "      <th>uniq_ddc_across_dept</th>\n",
       "      <th>N_DepartmentId_1</th>\n",
       "      <th>advisor_inst_dept</th>\n",
       "      <th>res_inst_dept</th>\n",
       "      <th>adv_names_rid</th>\n",
       "      <th>res_names_rid</th>\n",
       "      <th>advId</th>\n",
       "      <th>resId</th>\n",
       "    </tr>\n",
       "  </thead>\n",
       "  <tbody>\n",
       "    <tr>\n",
       "      <th>205475</th>\n",
       "      <td>93606</td>\n",
       "      <td>281754</td>\n",
       "      <td>Kavlekar, K. K.</td>\n",
       "      <td>Ramnathan S</td>\n",
       "      <td>eng</td>\n",
       "      <td>department of political science</td>\n",
       "      <td>D1862</td>\n",
       "      <td>Shivaji University</td>\n",
       "      <td>I58</td>\n",
       "      <td>Social reform movements in South India and Mah...</td>\n",
       "      <td>...</td>\n",
       "      <td>NaN</td>\n",
       "      <td>NaN</td>\n",
       "      <td>('300', '320')</td>\n",
       "      <td>D1214</td>\n",
       "      <td>Kavlekar, K. K.@I58@D1862</td>\n",
       "      <td>Ramnathan S@I58@D1862</td>\n",
       "      <td>Kavlekar, K. K.@93606</td>\n",
       "      <td>Ramnathan S@281754</td>\n",
       "      <td>93629</td>\n",
       "      <td>281754</td>\n",
       "    </tr>\n",
       "  </tbody>\n",
       "</table>\n",
       "<p>1 rows × 25 columns</p>\n",
       "</div>"
      ],
      "text/plain": [
       "        advisorId  researcherId     advisor_name researcher_name  \\\n",
       "205475      93606        281754  Kavlekar, K. K.     Ramnathan S   \n",
       "\n",
       "       dc.language.iso[]                   publisher_dept DepartmentId  \\\n",
       "205475               eng  department of political science        D1862   \n",
       "\n",
       "       publisher_institution instituteId  \\\n",
       "205475    Shivaji University         I58   \n",
       "\n",
       "                                                    title  ...  \\\n",
       "205475  Social reform movements in South India and Mah...  ...   \n",
       "\n",
       "       dc.description.abstract dc.title.alternative uniq_ddc_across_dept  \\\n",
       "205475                     NaN                  NaN       ('300', '320')   \n",
       "\n",
       "       N_DepartmentId_1          advisor_inst_dept          res_inst_dept  \\\n",
       "205475            D1214  Kavlekar, K. K.@I58@D1862  Ramnathan S@I58@D1862   \n",
       "\n",
       "                adv_names_rid       res_names_rid  advId   resId  \n",
       "205475  Kavlekar, K. K.@93606  Ramnathan S@281754  93629  281754  \n",
       "\n",
       "[1 rows x 25 columns]"
      ]
     },
     "execution_count": 7,
     "metadata": {},
     "output_type": "execute_result"
    }
   ],
   "source": [
    "ment[ment['resId']==281754]"
   ]
  },
  {
   "cell_type": "code",
   "execution_count": null,
   "metadata": {},
   "outputs": [],
   "source": [
    "#dup=ment.drop_duplicates(subset=['advId','resId','N_DepartmentId','instituteId','thesisId'],keep=\"first\")"
   ]
  },
  {
   "cell_type": "code",
   "execution_count": null,
   "metadata": {},
   "outputs": [],
   "source": [
    "#Duplication problem"
   ]
  },
  {
   "cell_type": "code",
   "execution_count": null,
   "metadata": {},
   "outputs": [],
   "source": [
    "#ment[ment[['advId','resId','N_DepartmentId','instituteId']].duplicated()]"
   ]
  },
  {
   "cell_type": "code",
   "execution_count": null,
   "metadata": {},
   "outputs": [],
   "source": [
    "#ment[ment['advId']==26211]"
   ]
  },
  {
   "cell_type": "code",
   "execution_count": null,
   "metadata": {},
   "outputs": [],
   "source": [
    "ment.columns"
   ]
  },
  {
   "cell_type": "code",
   "execution_count": 6,
   "metadata": {},
   "outputs": [],
   "source": [
    "def save_obj(obj, name ):\n",
    "    with open(name + '.pkl', 'wb') as f:\n",
    "        pickle.dump(obj, f, pickle.HIGHEST_PROTOCOL)"
   ]
  },
  {
   "cell_type": "code",
   "execution_count": 7,
   "metadata": {},
   "outputs": [],
   "source": [
    "def load_obj(name):\n",
    "    with open(name, 'rb') as f:\n",
    "        return pickle.load(f)"
   ]
  },
  {
   "cell_type": "code",
   "execution_count": 8,
   "metadata": {},
   "outputs": [],
   "source": [
    "def Merge(dict1, dict2):\n",
    "    res = {**dict1, **dict2}\n",
    "    return res"
   ]
  },
  {
   "cell_type": "code",
   "execution_count": 24,
   "metadata": {},
   "outputs": [],
   "source": [
    "thesis1 = load_obj('./index_files4/similar_thesis/similar_thesis_0_100000.pkl')"
   ]
  },
  {
   "cell_type": "code",
   "execution_count": 25,
   "metadata": {},
   "outputs": [],
   "source": [
    "thesis2 = load_obj('./index_files4/similar_thesis/similar_thesis_100000_200000.pkl')"
   ]
  },
  {
   "cell_type": "code",
   "execution_count": 26,
   "metadata": {},
   "outputs": [],
   "source": [
    "thesis3 = load_obj('./index_files4/similar_thesis/similar_thesis_200000_281425.pkl')"
   ]
  },
  {
   "cell_type": "code",
   "execution_count": 27,
   "metadata": {},
   "outputs": [],
   "source": [
    "tmp1 = Merge(thesis1,thesis2)"
   ]
  },
  {
   "cell_type": "code",
   "execution_count": 28,
   "metadata": {},
   "outputs": [],
   "source": [
    "final_thesis1 = Merge(tmp1,thesis3)"
   ]
  },
  {
   "cell_type": "code",
   "execution_count": 29,
   "metadata": {},
   "outputs": [
    {
     "data": {
      "text/plain": [
       "209476"
      ]
     },
     "execution_count": 29,
     "metadata": {},
     "output_type": "execute_result"
    }
   ],
   "source": [
    "len(final_thesis1)"
   ]
  },
  {
   "cell_type": "code",
   "execution_count": 9,
   "metadata": {},
   "outputs": [],
   "source": [
    "final_thesis = load_obj(folder+'similar_thesis_7913.pkl')"
   ]
  },
  {
   "cell_type": "code",
   "execution_count": 10,
   "metadata": {},
   "outputs": [
    {
     "data": {
      "text/plain": [
       "7913"
      ]
     },
     "execution_count": 10,
     "metadata": {},
     "output_type": "execute_result"
    }
   ],
   "source": [
    "len(final_thesis)"
   ]
  },
  {
   "cell_type": "code",
   "execution_count": 11,
   "metadata": {},
   "outputs": [],
   "source": [
    "#f_final_thesis1 = [(t[0][0],t[1][0],t[2], final_thesis1[t][0],final_thesis1[t][1]) for t in final_thesis1 if t[0][0]!=t[1][0]]"
   ]
  },
  {
   "cell_type": "code",
   "execution_count": 12,
   "metadata": {},
   "outputs": [],
   "source": [
    "f_final_thesis= [(t[0][0],t[1][0],max(t[2],t[3],t[4],t[5]), final_thesis[t][0],final_thesis[t][1]) for t in final_thesis]"
   ]
  },
  {
   "cell_type": "code",
   "execution_count": 13,
   "metadata": {},
   "outputs": [],
   "source": [
    "#f_final_thesis"
   ]
  },
  {
   "cell_type": "code",
   "execution_count": 14,
   "metadata": {},
   "outputs": [
    {
     "data": {
      "text/plain": [
       "7913"
      ]
     },
     "execution_count": 14,
     "metadata": {},
     "output_type": "execute_result"
    }
   ],
   "source": [
    "len(f_final_thesis)"
   ]
  },
  {
   "cell_type": "code",
   "execution_count": 15,
   "metadata": {},
   "outputs": [],
   "source": [
    "s_final_thesis =sorted(f_final_thesis, key=lambda x: (x[2]))"
   ]
  },
  {
   "cell_type": "code",
   "execution_count": 17,
   "metadata": {},
   "outputs": [],
   "source": [
    "#s_final_thesis1 =sorted(f_final_thesis1, key=lambda x: (x[2]))"
   ]
  },
  {
   "cell_type": "code",
   "execution_count": 18,
   "metadata": {},
   "outputs": [
    {
     "data": {
      "text/plain": [
       "('T174525',\n",
       " 'T13802',\n",
       " 6.0,\n",
       " 'An analytical study of accrual accounting system and its usefulness to analyse the future cash flow in indian pharmaceutical industry',\n",
       " 'An analytical study of accrual accounting system and its usefulness to analyse the future cash flow in Indian pharmaceutical industry')"
      ]
     },
     "execution_count": 18,
     "metadata": {},
     "output_type": "execute_result"
    }
   ],
   "source": [
    "s_final_thesis[-1]"
   ]
  },
  {
   "cell_type": "code",
   "execution_count": 19,
   "metadata": {},
   "outputs": [],
   "source": [
    "#thesis_95 =  [a for a in f_final_thesis if a[2] > 0.95]"
   ]
  },
  {
   "cell_type": "code",
   "execution_count": null,
   "metadata": {},
   "outputs": [],
   "source": [
    "# tmp_list=[]\n",
    "# for a in thesis_99:\n",
    "#     tmp1={}\n",
    "#     tmp2={}\n",
    "#     tmp1[a[0]]= list(ment[ment['thesisId']==a[0]][['advisor_name','researcher_name','publisher_institution','dc.title[]']].values.tolist())\n",
    "#     tmp2[a[1]]= list(ment[ment['thesisId']==a[1]][['advisor_name','researcher_name','publisher_institution','dc.title[]']].values.tolist())                                                                                                          \n",
    "#     tmp_list.append((tmp1,tmp2, a[2]))"
   ]
  },
  {
   "cell_type": "code",
   "execution_count": null,
   "metadata": {},
   "outputs": [],
   "source": [
    "#tmp_list[0:5]"
   ]
  },
  {
   "cell_type": "code",
   "execution_count": null,
   "metadata": {},
   "outputs": [],
   "source": [
    "#len(thesis_95)"
   ]
  },
  {
   "cell_type": "code",
   "execution_count": null,
   "metadata": {},
   "outputs": [],
   "source": [
    "#thesis_95"
   ]
  },
  {
   "cell_type": "code",
   "execution_count": 20,
   "metadata": {},
   "outputs": [],
   "source": [
    "#thesis_95 = [a for a in s_final_thesis1 if a[2] > 0.95]"
   ]
  },
  {
   "cell_type": "code",
   "execution_count": 21,
   "metadata": {},
   "outputs": [],
   "source": [
    "#thesis_95[1]"
   ]
  },
  {
   "cell_type": "code",
   "execution_count": null,
   "metadata": {},
   "outputs": [],
   "source": [
    "#thesis_9950 = [a for a in f_final_thesis if a[2] > 0.9950]"
   ]
  },
  {
   "cell_type": "code",
   "execution_count": null,
   "metadata": {},
   "outputs": [],
   "source": [
    "#thesis_9950"
   ]
  },
  {
   "cell_type": "code",
   "execution_count": null,
   "metadata": {},
   "outputs": [],
   "source": [
    "#thesis_99 #T183074"
   ]
  },
  {
   "cell_type": "code",
   "execution_count": null,
   "metadata": {},
   "outputs": [],
   "source": [
    "import json\n",
    "with open('index_files4/disambiguated_thesis_with_other_details_0.99.json', 'w', encoding='utf-8') as f:\n",
    "    json.dump(tmp_list, f, ensure_ascii=False, indent=4)"
   ]
  },
  {
   "cell_type": "code",
   "execution_count": null,
   "metadata": {},
   "outputs": [],
   "source": [
    "import json\n",
    "with open('index_files4/disambiguated_thesis_0.95.json', 'w', encoding='utf-8') as f:\n",
    "    json.dump(thesis_95, f, ensure_ascii=False, indent=4)"
   ]
  },
  {
   "cell_type": "code",
   "execution_count": null,
   "metadata": {},
   "outputs": [],
   "source": [
    "import json\n",
    "with open('index_files4/disambiguated_thesis_with_edit_5.00.json', 'w', encoding='utf-8') as f:\n",
    "    json.dump(f_final_thesis, f, ensure_ascii=False, indent=4)"
   ]
  },
  {
   "cell_type": "code",
   "execution_count": null,
   "metadata": {},
   "outputs": [],
   "source": [
    "# ('T17596','T41427',0.9914635452797952,\n",
    "#   'Molecular association in the binary mixtures with acetone as one of the constituents from microwave absorption data',\n",
    "#   'Molecular association in the binary mixtures with N_methylacetamide as one of the constituents from microwave absorption data')\n",
    "\n",
    "# ('T25200','T176554',0.9901969317932178,\n",
    "#   'A sociological study on women development through women self help group in Chennai slum',\n",
    "#   'A sociological study on women entrepreneurship through women self help group in Chennai slum')\n",
    "\n",
    "#  ('T62866','T21120',0.9974560920762214,\n",
    "#   'Synthesis Characterization biological evaluation and computational studies of some novel thiadiazole derivatives',\n",
    "#   'Synthesis Characterization computational study and biological evaluation of some novel Pyridazinone derivatives'),\n",
    "\n",
    "# ('T104953','T151436',0.990963511835238,\n",
    "#   'The extended clinico-laboratory profile of the female partner of infertility in Bundelkhand Region',\n",
    "#   'The extended clinico-laboratory profile of the male partner in infertility in Bundelkhand Region')\n",
    "\n",
    "\n",
    "# ('T73994','T183074',1.0000000576966546,'Supercondylar fracture of the Humerus: a conservative approach',\n",
    "#  'Supracondylar fracture of the Humerus: a conservative approach')"
   ]
  },
  {
   "cell_type": "code",
   "execution_count": null,
   "metadata": {},
   "outputs": [],
   "source": [
    "#thesis_99[0][1]`"
   ]
  },
  {
   "cell_type": "code",
   "execution_count": 18,
   "metadata": {},
   "outputs": [
    {
     "data": {
      "text/plain": [
       "('T70147',\n",
       " 'T198172',\n",
       " 3.333333333333333,\n",
       " 'STRUCTURE OF DRIP LINE AND SUPERHEAVY NUCLEI IN EFFECTIVE RELATIVISTIC AND NONRELATIVISTIC INTERACTIONS',\n",
       " 'STRUCTURE OF DRIP LINE AND SUPERHEAVY NUCLEI IN EFFECTIVE RELATIVISTIC AND NONRELATIVISTIC INTERACTIONSSTRUCTURE OF DRIP LINE AND SUPERHEAVY NUCLEI IN EFFECTIVE RELATIVISTIC AND NONRELATIVISTIC INTERACTIONS')"
      ]
     },
     "execution_count": 18,
     "metadata": {},
     "output_type": "execute_result"
    }
   ],
   "source": [
    "s_final_thesis[0]"
   ]
  },
  {
   "cell_type": "code",
   "execution_count": 19,
   "metadata": {},
   "outputs": [
    {
     "name": "stdout",
     "output_type": "stream",
     "text": [
      "('T70147', 'T198172', 3.333333333333333, 'STRUCTURE OF DRIP LINE AND SUPERHEAVY NUCLEI IN EFFECTIVE RELATIVISTIC AND NONRELATIVISTIC INTERACTIONS', 'STRUCTURE OF DRIP LINE AND SUPERHEAVY NUCLEI IN EFFECTIVE RELATIVISTIC AND NONRELATIVISTIC INTERACTIONSSTRUCTURE OF DRIP LINE AND SUPERHEAVY NUCLEI IN EFFECTIVE RELATIVISTIC AND NONRELATIVISTIC INTERACTIONS')\n"
     ]
    }
   ],
   "source": [
    "for thesis in s_final_thesis:\n",
    "    if thesis[0]== \"T70147\" or thesis[1]== \"T70147\":\n",
    "        print(thesis)"
   ]
  },
  {
   "cell_type": "code",
   "execution_count": 26,
   "metadata": {},
   "outputs": [],
   "source": [
    "thesis_99 = f_final_thesis"
   ]
  },
  {
   "cell_type": "code",
   "execution_count": 27,
   "metadata": {},
   "outputs": [
    {
     "name": "stderr",
     "output_type": "stream",
     "text": [
      "100%|██████████| 7913/7913 [05:44<00:00, 22.94it/s]\n"
     ]
    }
   ],
   "source": [
    "ment['N_thesisId'] = ment['thesisId']\n",
    "tmp_dict={}\n",
    "for thesis in tqdm(thesis_99):\n",
    "    if thesis[0] in tmp_dict and thesis[1] in tmp_dict :\n",
    "        ment.loc[ment['N_thesisId'].isin([tmp_dict[thesis[0]],tmp_dict[thesis[1]]]),'N_thesisId']= tmp_dict[thesis[0]]\n",
    "    elif thesis[0] in tmp_dict :\n",
    "        ment.loc[ment['N_thesisId'].isin([tmp_dict[thesis[0]],thesis[1]]),'N_thesisId'] = tmp_dict[thesis[0]]\n",
    "    elif thesis[1] in tmp_dict:\n",
    "        ment.loc[ment['N_thesisId'].isin([thesis[0],tmp_dict[thesis[1]]]),'N_thesisId'] = thesis[0]\n",
    "    else:\n",
    "        tmp_dict[thesis[1]]=thesis[0]\n",
    "        ment.loc[ment['N_thesisId'].isin([thesis[0],thesis[1]]),'N_thesisId'] =  thesis[0]"
   ]
  },
  {
   "cell_type": "code",
   "execution_count": 28,
   "metadata": {},
   "outputs": [
    {
     "data": {
      "text/html": [
       "<div>\n",
       "<style scoped>\n",
       "    .dataframe tbody tr th:only-of-type {\n",
       "        vertical-align: middle;\n",
       "    }\n",
       "\n",
       "    .dataframe tbody tr th {\n",
       "        vertical-align: top;\n",
       "    }\n",
       "\n",
       "    .dataframe thead th {\n",
       "        text-align: right;\n",
       "    }\n",
       "</style>\n",
       "<table border=\"1\" class=\"dataframe\">\n",
       "  <thead>\n",
       "    <tr style=\"text-align: right;\">\n",
       "      <th></th>\n",
       "      <th>title</th>\n",
       "      <th>thesisId</th>\n",
       "      <th>N_thesisId</th>\n",
       "    </tr>\n",
       "  </thead>\n",
       "  <tbody>\n",
       "    <tr>\n",
       "      <th>3588</th>\n",
       "      <td>Synthesis of heterocyclic compounds (2014-01-01)</td>\n",
       "      <td>T22916</td>\n",
       "      <td>T22916</td>\n",
       "    </tr>\n",
       "    <tr>\n",
       "      <th>3592</th>\n",
       "      <td>Synthesis of heterocyclic compounds (2012-01-01)</td>\n",
       "      <td>T171043</td>\n",
       "      <td>T22916</td>\n",
       "    </tr>\n",
       "    <tr>\n",
       "      <th>3681</th>\n",
       "      <td>Synthesis of heterocyclic compounds (2002-01-01)</td>\n",
       "      <td>T64525</td>\n",
       "      <td>T22916</td>\n",
       "    </tr>\n",
       "    <tr>\n",
       "      <th>3684</th>\n",
       "      <td>Synthesis of heterocyclic compounds (1999-01-01)</td>\n",
       "      <td>T57657</td>\n",
       "      <td>T22916</td>\n",
       "    </tr>\n",
       "    <tr>\n",
       "      <th>3685</th>\n",
       "      <td>Synthesis of heterocyclic compounds (2005-01-01)</td>\n",
       "      <td>T134412</td>\n",
       "      <td>T22916</td>\n",
       "    </tr>\n",
       "    <tr>\n",
       "      <th>3693</th>\n",
       "      <td>Synthesis of heterocyclic compounds (1997-01-01)</td>\n",
       "      <td>T19816</td>\n",
       "      <td>T22916</td>\n",
       "    </tr>\n",
       "    <tr>\n",
       "      <th>3698</th>\n",
       "      <td>Synthesis of heterocyclic compounds (2010-01-01)</td>\n",
       "      <td>T106739</td>\n",
       "      <td>T22916</td>\n",
       "    </tr>\n",
       "    <tr>\n",
       "      <th>12341</th>\n",
       "      <td>Synthesis of heterocyclic compounds (1972-01-01)</td>\n",
       "      <td>T42965</td>\n",
       "      <td>T42965</td>\n",
       "    </tr>\n",
       "    <tr>\n",
       "      <th>45498</th>\n",
       "      <td>Synthesis of heterocyclic compounds (1985-01-01)</td>\n",
       "      <td>T47529</td>\n",
       "      <td>T18242</td>\n",
       "    </tr>\n",
       "    <tr>\n",
       "      <th>45610</th>\n",
       "      <td>Synthesis of heterocyclic compounds (1974-01-01)</td>\n",
       "      <td>T82813</td>\n",
       "      <td>T18242</td>\n",
       "    </tr>\n",
       "    <tr>\n",
       "      <th>45611</th>\n",
       "      <td>Synthesis of heterocyclic compounds (1978-01-01)</td>\n",
       "      <td>T18242</td>\n",
       "      <td>T18242</td>\n",
       "    </tr>\n",
       "    <tr>\n",
       "      <th>45612</th>\n",
       "      <td>Synthesis of heterocyclic compounds (1977-01-01)</td>\n",
       "      <td>T190187</td>\n",
       "      <td>T18242</td>\n",
       "    </tr>\n",
       "    <tr>\n",
       "      <th>45614</th>\n",
       "      <td>Synthesis of heterocyclic compounds (1975-01-01)</td>\n",
       "      <td>T149944</td>\n",
       "      <td>T18242</td>\n",
       "    </tr>\n",
       "    <tr>\n",
       "      <th>45618</th>\n",
       "      <td>Synthesis of heterocyclic compounds (1969-01-01)</td>\n",
       "      <td>T131846</td>\n",
       "      <td>T18242</td>\n",
       "    </tr>\n",
       "    <tr>\n",
       "      <th>45619</th>\n",
       "      <td>Synthesis of heterocyclic compounds (1979-01-01)</td>\n",
       "      <td>T28845</td>\n",
       "      <td>T18242</td>\n",
       "    </tr>\n",
       "    <tr>\n",
       "      <th>46755</th>\n",
       "      <td>Synthesis of heterocyclic compounds (1973-01-01)</td>\n",
       "      <td>T62741</td>\n",
       "      <td>T62741</td>\n",
       "    </tr>\n",
       "  </tbody>\n",
       "</table>\n",
       "</div>"
      ],
      "text/plain": [
       "                                                  title thesisId N_thesisId\n",
       "3588   Synthesis of heterocyclic compounds (2014-01-01)   T22916     T22916\n",
       "3592   Synthesis of heterocyclic compounds (2012-01-01)  T171043     T22916\n",
       "3681   Synthesis of heterocyclic compounds (2002-01-01)   T64525     T22916\n",
       "3684   Synthesis of heterocyclic compounds (1999-01-01)   T57657     T22916\n",
       "3685   Synthesis of heterocyclic compounds (2005-01-01)  T134412     T22916\n",
       "3693   Synthesis of heterocyclic compounds (1997-01-01)   T19816     T22916\n",
       "3698   Synthesis of heterocyclic compounds (2010-01-01)  T106739     T22916\n",
       "12341  Synthesis of heterocyclic compounds (1972-01-01)   T42965     T42965\n",
       "45498  Synthesis of heterocyclic compounds (1985-01-01)   T47529     T18242\n",
       "45610  Synthesis of heterocyclic compounds (1974-01-01)   T82813     T18242\n",
       "45611  Synthesis of heterocyclic compounds (1978-01-01)   T18242     T18242\n",
       "45612  Synthesis of heterocyclic compounds (1977-01-01)  T190187     T18242\n",
       "45614  Synthesis of heterocyclic compounds (1975-01-01)  T149944     T18242\n",
       "45618  Synthesis of heterocyclic compounds (1969-01-01)  T131846     T18242\n",
       "45619  Synthesis of heterocyclic compounds (1979-01-01)   T28845     T18242\n",
       "46755  Synthesis of heterocyclic compounds (1973-01-01)   T62741     T62741"
      ]
     },
     "execution_count": 28,
     "metadata": {},
     "output_type": "execute_result"
    }
   ],
   "source": [
    "ment[ment['title'].str.contains(\"Synthesis of heterocyclic compounds \\(.*\\)\")][['title','thesisId','N_thesisId']]"
   ]
  },
  {
   "cell_type": "code",
   "execution_count": 52,
   "metadata": {},
   "outputs": [],
   "source": [
    "ment.to_csv(folder+\"joined_stud_adv_shodhganga_ment_with_disamb_ids4_1_2.csv\",index=False)"
   ]
  },
  {
   "cell_type": "code",
   "execution_count": 29,
   "metadata": {},
   "outputs": [
    {
     "data": {
      "text/plain": [
       "array([[79148, 251177, 'Rajinder, Mishra', 'Sailesh, Kumar', 'eng',\n",
       "        'department of the business school', 'D559',\n",
       "        'University of Jammu', 'I290',\n",
       "        'Prospects of Medical Tourism in India', 'T43961', 'phd',\n",
       "        '2013-01-01', nan, '300::Social sciences|370::Education', nan,\n",
       "        nan, \"('300', '370')\", 'D559', 'D559', 'Rajinder, Mishra',\n",
       "        'Rajinder, Mishra@I290@D559', 'Sailesh, Kumar@I290@D559',\n",
       "        'Rajinder, Mishra@79148', 'Sailesh, Kumar@251177', 79148, 251177,\n",
       "        'T43961']], dtype=object)"
      ]
     },
     "execution_count": 29,
     "metadata": {},
     "output_type": "execute_result"
    }
   ],
   "source": [
    "ment[ment['thesisId']==\"T43961\"].values"
   ]
  },
  {
   "cell_type": "code",
   "execution_count": 30,
   "metadata": {},
   "outputs": [
    {
     "data": {
      "text/plain": [
       "array([[79156, 251190, 'Rajendra, Mishra', 'Shailesh, Kumar', 'eng',\n",
       "        'department of the business school', 'D559',\n",
       "        'University of Jammu', 'I290',\n",
       "        'Prospects of Medical Tourism in Northern India', 'T22884',\n",
       "        'phd', '2013-01-01', nan, '300::Social sciences|370::Education',\n",
       "        'Prospects of Medical Tourism in Northern India',\n",
       "        'Prospects of Medical Tourism in rthern ndia', \"('300', '370')\",\n",
       "        'D559', 'D559', 'Rajendra, Mishra', 'Rajendra, Mishra@I290@D559',\n",
       "        'Shailesh, Kumar@I290@D559', 'Rajendra, Mishra@79156',\n",
       "        'Shailesh, Kumar@251190', 79139, 251177, 'T43961']], dtype=object)"
      ]
     },
     "execution_count": 30,
     "metadata": {},
     "output_type": "execute_result"
    }
   ],
   "source": [
    "ment[ment['thesisId']==\"T22884\"].values"
   ]
  },
  {
   "cell_type": "code",
   "execution_count": 31,
   "metadata": {},
   "outputs": [
    {
     "data": {
      "text/plain": [
       "array([[12057, 118373, 'Pradhan, S. C.', 'Patnaik, S B.', 'ori',\n",
       "        'department of oriya', 'D807', 'Utkal University', 'I75',\n",
       "        'Odia Kabya Kabita Re Phul', 'T148911', 'phd', '1982-01-01', nan,\n",
       "        '800::Literature & rhetoric|890::Literatures of other languages|891::East Indo-European & Celtic literatures',\n",
       "        nan, nan, \"('800', '890', '891')\", 'D1621', 'D1621',\n",
       "        'Pradhan, S. C.', 'Pradhan, S. C.@I75@D807',\n",
       "        'Patnaik, S B.@I75@D807', 'Pradhan, S. C.@12057',\n",
       "        'Patnaik, S B.@118373', 12057, 118373, 'T148911']], dtype=object)"
      ]
     },
     "execution_count": 31,
     "metadata": {},
     "output_type": "execute_result"
    }
   ],
   "source": [
    "ment[ment['thesisId']==\"T148911\"].values"
   ]
  },
  {
   "cell_type": "code",
   "execution_count": 32,
   "metadata": {},
   "outputs": [
    {
     "data": {
      "text/plain": [
       "array([[1556, 96813, 'Majumdar, K. C.', 'Basu, Pradipta Kumar', 'eng',\n",
       "        'department of chemistry', 'D276', 'University of Kalyani',\n",
       "        'I302', 'Synthesis of heterocyclic compounds (2002-01-01)',\n",
       "        'T64525', 'phd', '2002-01-01', nan,\n",
       "        '500::Natural sciences & mathematics|540::Chemistry & allied sciences',\n",
       "        nan, nan, \"('500', '540')\", 'D1331', 'D1331', 'Majumdar, K. C.',\n",
       "        'Majumdar, K. C.@I302@D276', 'Basu, Pradipta Kumar@I302@D276',\n",
       "        'Majumdar, K. C.@1556', 'Basu, Pradipta Kumar@96813', 1556,\n",
       "        96813, 'T22916']], dtype=object)"
      ]
     },
     "execution_count": 32,
     "metadata": {},
     "output_type": "execute_result"
    }
   ],
   "source": [
    "ment[ment['thesisId']==\"T64525\"].values"
   ]
  },
  {
   "cell_type": "code",
   "execution_count": 33,
   "metadata": {},
   "outputs": [
    {
     "data": {
      "text/plain": [
       "array([[1556, 96829, 'Majumdar, K. C.', 'Saha, Dipanwita', 'eng',\n",
       "        'department of chemistry', 'D276', 'University of Kalyani',\n",
       "        'I302', 'Synthesis of heterocyclic compounds (2005-01-01)',\n",
       "        'T134412', 'phd', '2005-01-01', nan,\n",
       "        '500::Natural sciences & mathematics|540::Chemistry & allied sciences',\n",
       "        nan, nan, \"('500', '540')\", 'D1331', 'D1331', 'Majumdar, K. C.',\n",
       "        'Majumdar, K. C.@I302@D276', 'Saha, Dipanwita@I302@D276',\n",
       "        'Majumdar, K. C.@1556', 'Saha, Dipanwita@96829', 1556, 96829,\n",
       "        'T22916']], dtype=object)"
      ]
     },
     "execution_count": 33,
     "metadata": {},
     "output_type": "execute_result"
    }
   ],
   "source": [
    "ment[ment['thesisId']==\"T134412\"].values"
   ]
  },
  {
   "cell_type": "code",
   "execution_count": 34,
   "metadata": {},
   "outputs": [
    {
     "data": {
      "text/plain": [
       "array([[10292, 114466, 'Karuppiah C.', 'Nundiyny, A D.', 'eng',\n",
       "        'department of sociology', 'D2534', 'Madurai Kamraj University',\n",
       "        'I165',\n",
       "        'A sociological study on women development through women self help group in Chennai slum',\n",
       "        'T25200', 'phd', '2014-01-01', nan,\n",
       "        '300::Social sciences|301::Sociology & anthropology', nan, nan,\n",
       "        \"('300', '301')\", 'D2534', 'D2534', 'Karuppiah C.',\n",
       "        'Karuppiah C.@I165@D2534', 'Nundiyny, A D.@I165@D2534',\n",
       "        'Karuppiah C.@10292', 'Nundiyny, A D.@114466', 10292, 114466,\n",
       "        'T176554']], dtype=object)"
      ]
     },
     "execution_count": 34,
     "metadata": {},
     "output_type": "execute_result"
    }
   ],
   "source": [
    "ment[ment['thesisId']==\"T25200\"].values"
   ]
  },
  {
   "cell_type": "code",
   "execution_count": 35,
   "metadata": {},
   "outputs": [
    {
     "data": {
      "text/plain": [
       "array([[10292, 114457, 'Karuppiah C.', 'Nayagam, Maithili Mariya V.',\n",
       "        'eng', 'department of sociology', 'D2534',\n",
       "        'Madurai Kamraj University', 'I165',\n",
       "        'A sociological study on women entrepreneurship through women self help group in Chennai slum',\n",
       "        'T176554', 'phd', '2014-01-01', nan,\n",
       "        '300::Social sciences|301::Sociology & anthropology', nan, nan,\n",
       "        \"('300', '301')\", 'D2534', 'D2534', 'Karuppiah C.',\n",
       "        'Karuppiah C.@I165@D2534',\n",
       "        'Nayagam, Maithili Mariya V.@I165@D2534', 'Karuppiah C.@10292',\n",
       "        'Nayagam, Maithili Mariya V.@114457', 10292, 114457, 'T176554']],\n",
       "      dtype=object)"
      ]
     },
     "execution_count": 35,
     "metadata": {},
     "output_type": "execute_result"
    }
   ],
   "source": [
    "ment[ment['thesisId']==\"T176554\"].values"
   ]
  },
  {
   "cell_type": "code",
   "execution_count": null,
   "metadata": {},
   "outputs": [],
   "source": [
    "#ment.columns"
   ]
  },
  {
   "cell_type": "code",
   "execution_count": 36,
   "metadata": {},
   "outputs": [
    {
     "data": {
      "text/plain": [
       "array([[1556, 96848, 'Majumdar, K. C.', 'Chatterjee, Pranab', 'eng',\n",
       "        'department of chemistry', 'D276', 'University of Kalyani',\n",
       "        'I302', 'Synthesis of heterocyclic compounds (1997-01-01)',\n",
       "        'T19816', 'phd', '1997-01-01', nan,\n",
       "        '500::Natural sciences & mathematics|540::Chemistry & allied sciences',\n",
       "        nan, nan, \"('500', '540')\", 'D1331', 'D1331', 'Majumdar, K. C.',\n",
       "        'Majumdar, K. C.@I302@D276', 'Chatterjee, Pranab@I302@D276',\n",
       "        'Majumdar, K. C.@1556', 'Chatterjee, Pranab@96848', 1556, 96848,\n",
       "        'T22916']], dtype=object)"
      ]
     },
     "execution_count": 36,
     "metadata": {},
     "output_type": "execute_result"
    }
   ],
   "source": [
    "ment[ment['thesisId']==\"T19816\"].values"
   ]
  },
  {
   "cell_type": "code",
   "execution_count": 37,
   "metadata": {},
   "outputs": [
    {
     "data": {
      "text/plain": [
       "array([[1556, 96828, 'Majumdar, K. C.', 'Biswas, Paritosh', 'eng',\n",
       "        'department of chemistry', 'D276', 'University of Kalyani',\n",
       "        'I302', 'Synthesis of heterocyclic compounds (1999-01-01)',\n",
       "        'T57657', 'phd', '1999-01-01', nan,\n",
       "        '500::Natural sciences & mathematics|540::Chemistry & allied sciences',\n",
       "        nan, nan, \"('500', '540')\", 'D1331', 'D1331', 'Majumdar, K. C.',\n",
       "        'Majumdar, K. C.@I302@D276', 'Biswas, Paritosh@I302@D276',\n",
       "        'Majumdar, K. C.@1556', 'Biswas, Paritosh@96828', 1556, 96828,\n",
       "        'T22916']], dtype=object)"
      ]
     },
     "execution_count": 37,
     "metadata": {},
     "output_type": "execute_result"
    }
   ],
   "source": [
    "ment[ment['thesisId']==\"T57657\"].values"
   ]
  },
  {
   "cell_type": "code",
   "execution_count": null,
   "metadata": {},
   "outputs": [],
   "source": [
    "ment[ment['thesisId']==\"T73994\"].values"
   ]
  },
  {
   "cell_type": "code",
   "execution_count": null,
   "metadata": {},
   "outputs": [],
   "source": [
    "#set(['department of maharani laxmi bai medical college']).intersection(['department of maharani laxmi bai medical college'])"
   ]
  },
  {
   "cell_type": "code",
   "execution_count": null,
   "metadata": {},
   "outputs": [],
   "source": [
    "ment[ment['thesisId']==\"T183074\"].values"
   ]
  },
  {
   "cell_type": "code",
   "execution_count": null,
   "metadata": {},
   "outputs": [],
   "source": [
    "ment[ment['thesisId']==\"T104953\"].values"
   ]
  },
  {
   "cell_type": "code",
   "execution_count": null,
   "metadata": {},
   "outputs": [],
   "source": [
    "ment[ment['thesisId']==\"T99902\"].values"
   ]
  },
  {
   "cell_type": "code",
   "execution_count": null,
   "metadata": {},
   "outputs": [],
   "source": [
    "ment[ment['thesisId']==\"T142274\"].values"
   ]
  },
  {
   "cell_type": "code",
   "execution_count": null,
   "metadata": {},
   "outputs": [],
   "source": [
    "ment[ment['thesisId']==\"T67491\"].values"
   ]
  },
  {
   "cell_type": "code",
   "execution_count": null,
   "metadata": {},
   "outputs": [],
   "source": [
    "ment[ment['thesisId']==\"T67489\"].values"
   ]
  },
  {
   "cell_type": "code",
   "execution_count": null,
   "metadata": {},
   "outputs": [],
   "source": [
    "ment[ment['thesisId']==\"T27684\"].values"
   ]
  },
  {
   "cell_type": "code",
   "execution_count": null,
   "metadata": {},
   "outputs": [],
   "source": [
    "ment[ment['thesisId']==\"T177017\"].values"
   ]
  },
  {
   "cell_type": "code",
   "execution_count": null,
   "metadata": {},
   "outputs": [],
   "source": [
    "ment[ment['thesisId']==\"T186558\"].values"
   ]
  },
  {
   "cell_type": "code",
   "execution_count": null,
   "metadata": {},
   "outputs": [],
   "source": [
    "ment[ment['thesisId']==\"T32034\"].values"
   ]
  },
  {
   "cell_type": "code",
   "execution_count": null,
   "metadata": {},
   "outputs": [],
   "source": [
    "ment[ment['thesisId']==\"T97128\"].values"
   ]
  },
  {
   "cell_type": "code",
   "execution_count": null,
   "metadata": {},
   "outputs": [],
   "source": [
    "ment[ment['thesisId']==\"T17763\"].values"
   ]
  },
  {
   "cell_type": "code",
   "execution_count": null,
   "metadata": {},
   "outputs": [],
   "source": [
    "ment[ment['thesisId']==\"T193203\"].values"
   ]
  },
  {
   "cell_type": "code",
   "execution_count": null,
   "metadata": {},
   "outputs": [],
   "source": [
    "ment[ment['thesisId']==\"T83665\"].values"
   ]
  },
  {
   "cell_type": "code",
   "execution_count": null,
   "metadata": {},
   "outputs": [],
   "source": [
    "ment[ment['thesisId']==\"T165609\"].values"
   ]
  },
  {
   "cell_type": "code",
   "execution_count": null,
   "metadata": {},
   "outputs": [],
   "source": [
    "ment[ment['thesisId']==\"T54529\"].values"
   ]
  },
  {
   "cell_type": "code",
   "execution_count": null,
   "metadata": {},
   "outputs": [],
   "source": [
    "ment[ment['thesisId']==\"T7840\"].values"
   ]
  },
  {
   "cell_type": "code",
   "execution_count": null,
   "metadata": {},
   "outputs": [],
   "source": [
    "#T54529,T7840,'T165609'"
   ]
  },
  {
   "cell_type": "code",
   "execution_count": null,
   "metadata": {},
   "outputs": [],
   "source": [
    "ment.columns"
   ]
  },
  {
   "cell_type": "code",
   "execution_count": 45,
   "metadata": {},
   "outputs": [
    {
     "data": {
      "text/html": [
       "<div>\n",
       "<style scoped>\n",
       "    .dataframe tbody tr th:only-of-type {\n",
       "        vertical-align: middle;\n",
       "    }\n",
       "\n",
       "    .dataframe tbody tr th {\n",
       "        vertical-align: top;\n",
       "    }\n",
       "\n",
       "    .dataframe thead th {\n",
       "        text-align: right;\n",
       "    }\n",
       "</style>\n",
       "<table border=\"1\" class=\"dataframe\">\n",
       "  <thead>\n",
       "    <tr style=\"text-align: right;\">\n",
       "      <th></th>\n",
       "      <th>advisorId</th>\n",
       "      <th>researcherId</th>\n",
       "      <th>advisor_name</th>\n",
       "      <th>researcher_name</th>\n",
       "      <th>dc.language.iso[]</th>\n",
       "      <th>publisher_dept</th>\n",
       "      <th>DepartmentId</th>\n",
       "      <th>publisher_institution</th>\n",
       "      <th>instituteId</th>\n",
       "      <th>title</th>\n",
       "      <th>...</th>\n",
       "      <th>N_DepartmentId_1</th>\n",
       "      <th>N_DepartmentId</th>\n",
       "      <th>previous_advisor_name</th>\n",
       "      <th>advisor_inst_dept</th>\n",
       "      <th>res_inst_dept</th>\n",
       "      <th>adv_names_rid</th>\n",
       "      <th>res_names_rid</th>\n",
       "      <th>advId</th>\n",
       "      <th>resId</th>\n",
       "      <th>N_thesisId</th>\n",
       "    </tr>\n",
       "  </thead>\n",
       "  <tbody>\n",
       "    <tr>\n",
       "      <th>4348</th>\n",
       "      <td>1844</td>\n",
       "      <td>97466</td>\n",
       "      <td>Rao, K. S. Venu Gopal</td>\n",
       "      <td>singh, Sweta</td>\n",
       "      <td>eng</td>\n",
       "      <td>faculty of management</td>\n",
       "      <td>D2073</td>\n",
       "      <td>ICFAI Foundation for Higher Education</td>\n",
       "      <td>I128</td>\n",
       "      <td>Examining Brand Bundling As a New Product Intr...</td>\n",
       "      <td>...</td>\n",
       "      <td>D2073</td>\n",
       "      <td>D2073</td>\n",
       "      <td>Rao, K. S. Venu Gopal</td>\n",
       "      <td>Rao, K. S. Venu Gopal@I128@D2073</td>\n",
       "      <td>singh, Sweta@I128@D2073</td>\n",
       "      <td>Rao, K. S. Venu Gopal@1844</td>\n",
       "      <td>singh, Sweta@97466</td>\n",
       "      <td>1844</td>\n",
       "      <td>97466</td>\n",
       "      <td>T181490</td>\n",
       "    </tr>\n",
       "    <tr>\n",
       "      <th>5699</th>\n",
       "      <td>2421</td>\n",
       "      <td>98592</td>\n",
       "      <td>Nayak, Kanubhai</td>\n",
       "      <td>Kamol, Navalsingh</td>\n",
       "      <td>eng</td>\n",
       "      <td>department of rural economics</td>\n",
       "      <td>D620</td>\n",
       "      <td>Gujarat Vidyapith</td>\n",
       "      <td>I350</td>\n",
       "      <td>Khadi udhyogno arthshastriya abhyas Gujarat ra...</td>\n",
       "      <td>...</td>\n",
       "      <td>D620</td>\n",
       "      <td>D620</td>\n",
       "      <td>Nayak, Kanubhai</td>\n",
       "      <td>Nayak, Kanubhai@I350@D620</td>\n",
       "      <td>Kamol, Navalsingh@I350@D620</td>\n",
       "      <td>Nayak, Kanubhai@2421</td>\n",
       "      <td>Kamol, Navalsingh@98592</td>\n",
       "      <td>2421</td>\n",
       "      <td>98592</td>\n",
       "      <td>T164732</td>\n",
       "    </tr>\n",
       "    <tr>\n",
       "      <th>6658</th>\n",
       "      <td>2817</td>\n",
       "      <td>193815</td>\n",
       "      <td>Singh, Ganesh</td>\n",
       "      <td>singh, Rashmi</td>\n",
       "      <td>eng</td>\n",
       "      <td>department of agriculture</td>\n",
       "      <td>D976</td>\n",
       "      <td>V. B. S. Purvanchal University</td>\n",
       "      <td>I306</td>\n",
       "      <td>Diallel Analysis Against High Temperature in T...</td>\n",
       "      <td>...</td>\n",
       "      <td>D424</td>\n",
       "      <td>D424</td>\n",
       "      <td>Singh, Ganesh</td>\n",
       "      <td>Singh, Ganesh@I306@D976</td>\n",
       "      <td>singh, Rashmi@I306@D976</td>\n",
       "      <td>Singh, Ganesh@2817</td>\n",
       "      <td>singh, Rashmi@193815</td>\n",
       "      <td>2817</td>\n",
       "      <td>99480</td>\n",
       "      <td>T136062</td>\n",
       "    </tr>\n",
       "    <tr>\n",
       "      <th>8097</th>\n",
       "      <td>3401</td>\n",
       "      <td>100877</td>\n",
       "      <td>Sircar, Shruti</td>\n",
       "      <td>Jayasinghe, Ramani Ratnamali</td>\n",
       "      <td>eng</td>\n",
       "      <td>department of linguistics and phonetics</td>\n",
       "      <td>D936</td>\n",
       "      <td>The English and Foreign Languages University, ...</td>\n",
       "      <td>I189</td>\n",
       "      <td>Acquisition of Fine Grained Categories of Prep...</td>\n",
       "      <td>...</td>\n",
       "      <td>D2355</td>\n",
       "      <td>D2355</td>\n",
       "      <td>Sircar, Shruti</td>\n",
       "      <td>Sircar, Shruti@I189@D936</td>\n",
       "      <td>Jayasinghe, Ramani Ratnamali@I189@D936</td>\n",
       "      <td>Sircar, Shruti@3401</td>\n",
       "      <td>Jayasinghe, Ramani Ratnamali@100877</td>\n",
       "      <td>3459</td>\n",
       "      <td>100877</td>\n",
       "      <td>T193442</td>\n",
       "    </tr>\n",
       "    <tr>\n",
       "      <th>8633</th>\n",
       "      <td>3694</td>\n",
       "      <td>101179</td>\n",
       "      <td>Singh, S, P.</td>\n",
       "      <td>Yadav, Raghunath singh</td>\n",
       "      <td>eng</td>\n",
       "      <td>department of genetics and plant breeding</td>\n",
       "      <td>D1992</td>\n",
       "      <td>Bundelkhand University</td>\n",
       "      <td>I224</td>\n",
       "      <td>A study on stability of yield and yield contri...</td>\n",
       "      <td>...</td>\n",
       "      <td>D1992</td>\n",
       "      <td>D1992</td>\n",
       "      <td>Singh, S, P.</td>\n",
       "      <td>Singh, S, P.@I224@D1992</td>\n",
       "      <td>Yadav, Raghunath singh@I224@D1992</td>\n",
       "      <td>Singh, S, P.@3694</td>\n",
       "      <td>Yadav, Raghunath singh@101179</td>\n",
       "      <td>3693</td>\n",
       "      <td>101179</td>\n",
       "      <td>T105739</td>\n",
       "    </tr>\n",
       "    <tr>\n",
       "      <th>...</th>\n",
       "      <td>...</td>\n",
       "      <td>...</td>\n",
       "      <td>...</td>\n",
       "      <td>...</td>\n",
       "      <td>...</td>\n",
       "      <td>...</td>\n",
       "      <td>...</td>\n",
       "      <td>...</td>\n",
       "      <td>...</td>\n",
       "      <td>...</td>\n",
       "      <td>...</td>\n",
       "      <td>...</td>\n",
       "      <td>...</td>\n",
       "      <td>...</td>\n",
       "      <td>...</td>\n",
       "      <td>...</td>\n",
       "      <td>...</td>\n",
       "      <td>...</td>\n",
       "      <td>...</td>\n",
       "      <td>...</td>\n",
       "      <td>...</td>\n",
       "    </tr>\n",
       "    <tr>\n",
       "      <th>201672</th>\n",
       "      <td>91673</td>\n",
       "      <td>277747</td>\n",
       "      <td>Tekwani P. N.</td>\n",
       "      <td>Siddharthsingh, Chauhan</td>\n",
       "      <td>eng</td>\n",
       "      <td>institute of technology</td>\n",
       "      <td>D910</td>\n",
       "      <td>Nirma University</td>\n",
       "      <td>I168</td>\n",
       "      <td>Investigations of Applications of Current Erro...</td>\n",
       "      <td>...</td>\n",
       "      <td>D910</td>\n",
       "      <td>D910</td>\n",
       "      <td>Tekwani P. N.</td>\n",
       "      <td>Tekwani P. N.@I168@D910</td>\n",
       "      <td>Siddharthsingh, Chauhan@I168@D910</td>\n",
       "      <td>Tekwani P. N.@91673</td>\n",
       "      <td>Siddharthsingh, Chauhan@277747</td>\n",
       "      <td>91673</td>\n",
       "      <td>277747</td>\n",
       "      <td>T86740</td>\n",
       "    </tr>\n",
       "    <tr>\n",
       "      <th>204530</th>\n",
       "      <td>92943</td>\n",
       "      <td>280512</td>\n",
       "      <td>Singh, Rana Kulwant</td>\n",
       "      <td>singh, Kamal jeet</td>\n",
       "      <td>eng</td>\n",
       "      <td>department of commerce</td>\n",
       "      <td>D1072</td>\n",
       "      <td>Himachal Pradesh University</td>\n",
       "      <td>I49</td>\n",
       "      <td>Indo Japanese business relations in pre and po...</td>\n",
       "      <td>...</td>\n",
       "      <td>D1072</td>\n",
       "      <td>D1072</td>\n",
       "      <td>Singh, Rana Kulwant</td>\n",
       "      <td>Singh, Rana Kulwant@I49@D1072</td>\n",
       "      <td>singh, Kamal jeet@I49@D1072</td>\n",
       "      <td>Singh, Rana Kulwant@92943</td>\n",
       "      <td>singh, Kamal jeet@280512</td>\n",
       "      <td>92906</td>\n",
       "      <td>280512</td>\n",
       "      <td>T9525</td>\n",
       "    </tr>\n",
       "    <tr>\n",
       "      <th>204589</th>\n",
       "      <td>92955</td>\n",
       "      <td>280565</td>\n",
       "      <td>Kumar, Gupta Sunil</td>\n",
       "      <td>singh, Ajay pal</td>\n",
       "      <td>eng</td>\n",
       "      <td>department of commerce</td>\n",
       "      <td>D1072</td>\n",
       "      <td>Himachal Pradesh University</td>\n",
       "      <td>I49</td>\n",
       "      <td>Quality of work life</td>\n",
       "      <td>...</td>\n",
       "      <td>D1072</td>\n",
       "      <td>D1072</td>\n",
       "      <td>Kumar, Gupta Sunil</td>\n",
       "      <td>Kumar, Gupta Sunil@I49@D1072</td>\n",
       "      <td>singh, Ajay pal@I49@D1072</td>\n",
       "      <td>Kumar, Gupta Sunil@92955</td>\n",
       "      <td>singh, Ajay pal@280565</td>\n",
       "      <td>92904</td>\n",
       "      <td>280565</td>\n",
       "      <td>T45066</td>\n",
       "    </tr>\n",
       "    <tr>\n",
       "      <th>205070</th>\n",
       "      <td>93139</td>\n",
       "      <td>281098</td>\n",
       "      <td>Meenakshisundaram S.</td>\n",
       "      <td>Premsinghsamuel S D</td>\n",
       "      <td>eng</td>\n",
       "      <td>faculty of technology</td>\n",
       "      <td>D2403</td>\n",
       "      <td>Anna University</td>\n",
       "      <td>I250</td>\n",
       "      <td>Engineering pichiapastorisExpression system fo...</td>\n",
       "      <td>...</td>\n",
       "      <td>D2403</td>\n",
       "      <td>D2403</td>\n",
       "      <td>Meenakshisundaram S.</td>\n",
       "      <td>Meenakshisundaram S.@I250@D2403</td>\n",
       "      <td>Premsinghsamuel S D@I250@D2403</td>\n",
       "      <td>Meenakshisundaram S.@93139</td>\n",
       "      <td>Premsinghsamuel S D@281098</td>\n",
       "      <td>93080</td>\n",
       "      <td>281098</td>\n",
       "      <td>T101862</td>\n",
       "    </tr>\n",
       "    <tr>\n",
       "      <th>205072</th>\n",
       "      <td>93139</td>\n",
       "      <td>281127</td>\n",
       "      <td>Meenakshisundaram S.</td>\n",
       "      <td>Premsingh samuel S D</td>\n",
       "      <td>eng</td>\n",
       "      <td>faculty of technology</td>\n",
       "      <td>D2403</td>\n",
       "      <td>Anna University</td>\n",
       "      <td>I250</td>\n",
       "      <td>Engineering pichia pastoris expression system ...</td>\n",
       "      <td>...</td>\n",
       "      <td>D2403</td>\n",
       "      <td>D2403</td>\n",
       "      <td>Meenakshisundaram S.</td>\n",
       "      <td>Meenakshisundaram S.@I250@D2403</td>\n",
       "      <td>Premsingh samuel S D@I250@D2403</td>\n",
       "      <td>Meenakshisundaram S.@93139</td>\n",
       "      <td>Premsingh samuel S D@281127</td>\n",
       "      <td>93080</td>\n",
       "      <td>281098</td>\n",
       "      <td>T44528</td>\n",
       "    </tr>\n",
       "  </tbody>\n",
       "</table>\n",
       "<p>274 rows × 28 columns</p>\n",
       "</div>"
      ],
      "text/plain": [
       "        advisorId  researcherId           advisor_name  \\\n",
       "4348         1844         97466  Rao, K. S. Venu Gopal   \n",
       "5699         2421         98592        Nayak, Kanubhai   \n",
       "6658         2817        193815          Singh, Ganesh   \n",
       "8097         3401        100877         Sircar, Shruti   \n",
       "8633         3694        101179           Singh, S, P.   \n",
       "...           ...           ...                    ...   \n",
       "201672      91673        277747          Tekwani P. N.   \n",
       "204530      92943        280512    Singh, Rana Kulwant   \n",
       "204589      92955        280565     Kumar, Gupta Sunil   \n",
       "205070      93139        281098   Meenakshisundaram S.   \n",
       "205072      93139        281127   Meenakshisundaram S.   \n",
       "\n",
       "                     researcher_name dc.language.iso[]  \\\n",
       "4348                    singh, Sweta               eng   \n",
       "5699               Kamol, Navalsingh               eng   \n",
       "6658                   singh, Rashmi               eng   \n",
       "8097    Jayasinghe, Ramani Ratnamali               eng   \n",
       "8633          Yadav, Raghunath singh               eng   \n",
       "...                              ...               ...   \n",
       "201672       Siddharthsingh, Chauhan               eng   \n",
       "204530             singh, Kamal jeet               eng   \n",
       "204589               singh, Ajay pal               eng   \n",
       "205070           Premsinghsamuel S D               eng   \n",
       "205072          Premsingh samuel S D               eng   \n",
       "\n",
       "                                   publisher_dept DepartmentId  \\\n",
       "4348                        faculty of management        D2073   \n",
       "5699                department of rural economics         D620   \n",
       "6658                    department of agriculture         D976   \n",
       "8097      department of linguistics and phonetics         D936   \n",
       "8633    department of genetics and plant breeding        D1992   \n",
       "...                                           ...          ...   \n",
       "201672                    institute of technology         D910   \n",
       "204530                     department of commerce        D1072   \n",
       "204589                     department of commerce        D1072   \n",
       "205070                      faculty of technology        D2403   \n",
       "205072                      faculty of technology        D2403   \n",
       "\n",
       "                                    publisher_institution instituteId  \\\n",
       "4348                ICFAI Foundation for Higher Education        I128   \n",
       "5699                                    Gujarat Vidyapith        I350   \n",
       "6658                       V. B. S. Purvanchal University        I306   \n",
       "8097    The English and Foreign Languages University, ...        I189   \n",
       "8633                               Bundelkhand University        I224   \n",
       "...                                                   ...         ...   \n",
       "201672                                   Nirma University        I168   \n",
       "204530                        Himachal Pradesh University         I49   \n",
       "204589                        Himachal Pradesh University         I49   \n",
       "205070                                    Anna University        I250   \n",
       "205072                                    Anna University        I250   \n",
       "\n",
       "                                                    title  ...  \\\n",
       "4348    Examining Brand Bundling As a New Product Intr...  ...   \n",
       "5699    Khadi udhyogno arthshastriya abhyas Gujarat ra...  ...   \n",
       "6658    Diallel Analysis Against High Temperature in T...  ...   \n",
       "8097    Acquisition of Fine Grained Categories of Prep...  ...   \n",
       "8633    A study on stability of yield and yield contri...  ...   \n",
       "...                                                   ...  ...   \n",
       "201672  Investigations of Applications of Current Erro...  ...   \n",
       "204530  Indo Japanese business relations in pre and po...  ...   \n",
       "204589                               Quality of work life  ...   \n",
       "205070  Engineering pichiapastorisExpression system fo...  ...   \n",
       "205072  Engineering pichia pastoris expression system ...  ...   \n",
       "\n",
       "       N_DepartmentId_1 N_DepartmentId  previous_advisor_name  \\\n",
       "4348              D2073          D2073  Rao, K. S. Venu Gopal   \n",
       "5699               D620           D620        Nayak, Kanubhai   \n",
       "6658               D424           D424          Singh, Ganesh   \n",
       "8097              D2355          D2355         Sircar, Shruti   \n",
       "8633              D1992          D1992           Singh, S, P.   \n",
       "...                 ...            ...                    ...   \n",
       "201672             D910           D910          Tekwani P. N.   \n",
       "204530            D1072          D1072    Singh, Rana Kulwant   \n",
       "204589            D1072          D1072     Kumar, Gupta Sunil   \n",
       "205070            D2403          D2403   Meenakshisundaram S.   \n",
       "205072            D2403          D2403   Meenakshisundaram S.   \n",
       "\n",
       "                       advisor_inst_dept  \\\n",
       "4348    Rao, K. S. Venu Gopal@I128@D2073   \n",
       "5699           Nayak, Kanubhai@I350@D620   \n",
       "6658             Singh, Ganesh@I306@D976   \n",
       "8097            Sircar, Shruti@I189@D936   \n",
       "8633             Singh, S, P.@I224@D1992   \n",
       "...                                  ...   \n",
       "201672           Tekwani P. N.@I168@D910   \n",
       "204530     Singh, Rana Kulwant@I49@D1072   \n",
       "204589      Kumar, Gupta Sunil@I49@D1072   \n",
       "205070   Meenakshisundaram S.@I250@D2403   \n",
       "205072   Meenakshisundaram S.@I250@D2403   \n",
       "\n",
       "                                 res_inst_dept               adv_names_rid  \\\n",
       "4348                   singh, Sweta@I128@D2073  Rao, K. S. Venu Gopal@1844   \n",
       "5699               Kamol, Navalsingh@I350@D620        Nayak, Kanubhai@2421   \n",
       "6658                   singh, Rashmi@I306@D976          Singh, Ganesh@2817   \n",
       "8097    Jayasinghe, Ramani Ratnamali@I189@D936         Sircar, Shruti@3401   \n",
       "8633         Yadav, Raghunath singh@I224@D1992           Singh, S, P.@3694   \n",
       "...                                        ...                         ...   \n",
       "201672       Siddharthsingh, Chauhan@I168@D910         Tekwani P. N.@91673   \n",
       "204530             singh, Kamal jeet@I49@D1072   Singh, Rana Kulwant@92943   \n",
       "204589               singh, Ajay pal@I49@D1072    Kumar, Gupta Sunil@92955   \n",
       "205070          Premsinghsamuel S D@I250@D2403  Meenakshisundaram S.@93139   \n",
       "205072         Premsingh samuel S D@I250@D2403  Meenakshisundaram S.@93139   \n",
       "\n",
       "                              res_names_rid  advId   resId N_thesisId  \n",
       "4348                     singh, Sweta@97466   1844   97466    T181490  \n",
       "5699                Kamol, Navalsingh@98592   2421   98592    T164732  \n",
       "6658                   singh, Rashmi@193815   2817   99480    T136062  \n",
       "8097    Jayasinghe, Ramani Ratnamali@100877   3459  100877    T193442  \n",
       "8633          Yadav, Raghunath singh@101179   3693  101179    T105739  \n",
       "...                                     ...    ...     ...        ...  \n",
       "201672       Siddharthsingh, Chauhan@277747  91673  277747     T86740  \n",
       "204530             singh, Kamal jeet@280512  92906  280512      T9525  \n",
       "204589               singh, Ajay pal@280565  92904  280565     T45066  \n",
       "205070           Premsinghsamuel S D@281098  93080  281098    T101862  \n",
       "205072          Premsingh samuel S D@281127  93080  281098     T44528  \n",
       "\n",
       "[274 rows x 28 columns]"
      ]
     },
     "execution_count": 45,
     "metadata": {},
     "output_type": "execute_result"
    }
   ],
   "source": [
    "ment[ment['researcher_name'].str.contains(\"singh\")]#[['advId','resId','researcher_name','title','thesisId','N_thesisId']].values"
   ]
  },
  {
   "cell_type": "code",
   "execution_count": 42,
   "metadata": {},
   "outputs": [],
   "source": [
    "a='Engineering pichiapastorisExpression system for enhancedCandida antarcticalipase b Enzyme secretion'"
   ]
  },
  {
   "cell_type": "code",
   "execution_count": 43,
   "metadata": {},
   "outputs": [],
   "source": [
    "b='Engineering pichia pastoris expression system for enhanced candida antarctica lipase b enzyme secretion'"
   ]
  },
  {
   "cell_type": "code",
   "execution_count": 44,
   "metadata": {},
   "outputs": [
    {
     "data": {
      "text/plain": [
       "True"
      ]
     },
     "execution_count": 44,
     "metadata": {},
     "output_type": "execute_result"
    }
   ],
   "source": [
    "a.replace(\" \",\"\").lower()==b.replace(\" \",\"\").lower()"
   ]
  },
  {
   "cell_type": "code",
   "execution_count": 51,
   "metadata": {},
   "outputs": [
    {
     "data": {
      "text/html": [
       "<div>\n",
       "<style scoped>\n",
       "    .dataframe tbody tr th:only-of-type {\n",
       "        vertical-align: middle;\n",
       "    }\n",
       "\n",
       "    .dataframe tbody tr th {\n",
       "        vertical-align: top;\n",
       "    }\n",
       "\n",
       "    .dataframe thead th {\n",
       "        text-align: right;\n",
       "    }\n",
       "</style>\n",
       "<table border=\"1\" class=\"dataframe\">\n",
       "  <thead>\n",
       "    <tr style=\"text-align: right;\">\n",
       "      <th></th>\n",
       "      <th>advisorId</th>\n",
       "      <th>researcherId</th>\n",
       "      <th>advisor_name</th>\n",
       "      <th>researcher_name</th>\n",
       "      <th>dc.language.iso[]</th>\n",
       "      <th>publisher_dept</th>\n",
       "      <th>DepartmentId</th>\n",
       "      <th>publisher_institution</th>\n",
       "      <th>instituteId</th>\n",
       "      <th>title</th>\n",
       "      <th>...</th>\n",
       "      <th>N_DepartmentId_1</th>\n",
       "      <th>N_DepartmentId</th>\n",
       "      <th>previous_advisor_name</th>\n",
       "      <th>advisor_inst_dept</th>\n",
       "      <th>res_inst_dept</th>\n",
       "      <th>adv_names_rid</th>\n",
       "      <th>res_names_rid</th>\n",
       "      <th>advId</th>\n",
       "      <th>resId</th>\n",
       "      <th>N_thesisId</th>\n",
       "    </tr>\n",
       "  </thead>\n",
       "  <tbody>\n",
       "    <tr>\n",
       "      <th>204530</th>\n",
       "      <td>92943</td>\n",
       "      <td>280512</td>\n",
       "      <td>Singh, Rana Kulwant</td>\n",
       "      <td>singh, Kamal jeet</td>\n",
       "      <td>eng</td>\n",
       "      <td>department of commerce</td>\n",
       "      <td>D1072</td>\n",
       "      <td>Himachal Pradesh University</td>\n",
       "      <td>I49</td>\n",
       "      <td>Indo Japanese business relations in pre and po...</td>\n",
       "      <td>...</td>\n",
       "      <td>D1072</td>\n",
       "      <td>D1072</td>\n",
       "      <td>Singh, Rana Kulwant</td>\n",
       "      <td>Singh, Rana Kulwant@I49@D1072</td>\n",
       "      <td>singh, Kamal jeet@I49@D1072</td>\n",
       "      <td>Singh, Rana Kulwant@92943</td>\n",
       "      <td>singh, Kamal jeet@280512</td>\n",
       "      <td>92906</td>\n",
       "      <td>280512</td>\n",
       "      <td>T9525</td>\n",
       "    </tr>\n",
       "    <tr>\n",
       "      <th>204589</th>\n",
       "      <td>92955</td>\n",
       "      <td>280565</td>\n",
       "      <td>Kumar, Gupta Sunil</td>\n",
       "      <td>singh, Ajay pal</td>\n",
       "      <td>eng</td>\n",
       "      <td>department of commerce</td>\n",
       "      <td>D1072</td>\n",
       "      <td>Himachal Pradesh University</td>\n",
       "      <td>I49</td>\n",
       "      <td>Quality of work life</td>\n",
       "      <td>...</td>\n",
       "      <td>D1072</td>\n",
       "      <td>D1072</td>\n",
       "      <td>Kumar, Gupta Sunil</td>\n",
       "      <td>Kumar, Gupta Sunil@I49@D1072</td>\n",
       "      <td>singh, Ajay pal@I49@D1072</td>\n",
       "      <td>Kumar, Gupta Sunil@92955</td>\n",
       "      <td>singh, Ajay pal@280565</td>\n",
       "      <td>92904</td>\n",
       "      <td>280565</td>\n",
       "      <td>T45066</td>\n",
       "    </tr>\n",
       "    <tr>\n",
       "      <th>205070</th>\n",
       "      <td>93139</td>\n",
       "      <td>281098</td>\n",
       "      <td>Meenakshisundaram S.</td>\n",
       "      <td>Premsinghsamuel S D</td>\n",
       "      <td>eng</td>\n",
       "      <td>faculty of technology</td>\n",
       "      <td>D2403</td>\n",
       "      <td>Anna University</td>\n",
       "      <td>I250</td>\n",
       "      <td>Engineering pichiapastorisExpression system fo...</td>\n",
       "      <td>...</td>\n",
       "      <td>D2403</td>\n",
       "      <td>D2403</td>\n",
       "      <td>Meenakshisundaram S.</td>\n",
       "      <td>Meenakshisundaram S.@I250@D2403</td>\n",
       "      <td>Premsinghsamuel S D@I250@D2403</td>\n",
       "      <td>Meenakshisundaram S.@93139</td>\n",
       "      <td>Premsinghsamuel S D@281098</td>\n",
       "      <td>93080</td>\n",
       "      <td>281098</td>\n",
       "      <td>T101862</td>\n",
       "    </tr>\n",
       "    <tr>\n",
       "      <th>205072</th>\n",
       "      <td>93139</td>\n",
       "      <td>281127</td>\n",
       "      <td>Meenakshisundaram S.</td>\n",
       "      <td>Premsingh samuel S D</td>\n",
       "      <td>eng</td>\n",
       "      <td>faculty of technology</td>\n",
       "      <td>D2403</td>\n",
       "      <td>Anna University</td>\n",
       "      <td>I250</td>\n",
       "      <td>Engineering pichia pastoris expression system ...</td>\n",
       "      <td>...</td>\n",
       "      <td>D2403</td>\n",
       "      <td>D2403</td>\n",
       "      <td>Meenakshisundaram S.</td>\n",
       "      <td>Meenakshisundaram S.@I250@D2403</td>\n",
       "      <td>Premsingh samuel S D@I250@D2403</td>\n",
       "      <td>Meenakshisundaram S.@93139</td>\n",
       "      <td>Premsingh samuel S D@281127</td>\n",
       "      <td>93080</td>\n",
       "      <td>281098</td>\n",
       "      <td>T44528</td>\n",
       "    </tr>\n",
       "  </tbody>\n",
       "</table>\n",
       "<p>4 rows × 28 columns</p>\n",
       "</div>"
      ],
      "text/plain": [
       "        advisorId  researcherId          advisor_name       researcher_name  \\\n",
       "204530      92943        280512   Singh, Rana Kulwant     singh, Kamal jeet   \n",
       "204589      92955        280565    Kumar, Gupta Sunil       singh, Ajay pal   \n",
       "205070      93139        281098  Meenakshisundaram S.   Premsinghsamuel S D   \n",
       "205072      93139        281127  Meenakshisundaram S.  Premsingh samuel S D   \n",
       "\n",
       "       dc.language.iso[]          publisher_dept DepartmentId  \\\n",
       "204530               eng  department of commerce        D1072   \n",
       "204589               eng  department of commerce        D1072   \n",
       "205070               eng   faculty of technology        D2403   \n",
       "205072               eng   faculty of technology        D2403   \n",
       "\n",
       "              publisher_institution instituteId  \\\n",
       "204530  Himachal Pradesh University         I49   \n",
       "204589  Himachal Pradesh University         I49   \n",
       "205070              Anna University        I250   \n",
       "205072              Anna University        I250   \n",
       "\n",
       "                                                    title  ...  \\\n",
       "204530  Indo Japanese business relations in pre and po...  ...   \n",
       "204589                               Quality of work life  ...   \n",
       "205070  Engineering pichiapastorisExpression system fo...  ...   \n",
       "205072  Engineering pichia pastoris expression system ...  ...   \n",
       "\n",
       "       N_DepartmentId_1 N_DepartmentId previous_advisor_name  \\\n",
       "204530            D1072          D1072   Singh, Rana Kulwant   \n",
       "204589            D1072          D1072    Kumar, Gupta Sunil   \n",
       "205070            D2403          D2403  Meenakshisundaram S.   \n",
       "205072            D2403          D2403  Meenakshisundaram S.   \n",
       "\n",
       "                      advisor_inst_dept                    res_inst_dept  \\\n",
       "204530    Singh, Rana Kulwant@I49@D1072      singh, Kamal jeet@I49@D1072   \n",
       "204589     Kumar, Gupta Sunil@I49@D1072        singh, Ajay pal@I49@D1072   \n",
       "205070  Meenakshisundaram S.@I250@D2403   Premsinghsamuel S D@I250@D2403   \n",
       "205072  Meenakshisundaram S.@I250@D2403  Premsingh samuel S D@I250@D2403   \n",
       "\n",
       "                     adv_names_rid                res_names_rid  advId  \\\n",
       "204530   Singh, Rana Kulwant@92943     singh, Kamal jeet@280512  92906   \n",
       "204589    Kumar, Gupta Sunil@92955       singh, Ajay pal@280565  92904   \n",
       "205070  Meenakshisundaram S.@93139   Premsinghsamuel S D@281098  93080   \n",
       "205072  Meenakshisundaram S.@93139  Premsingh samuel S D@281127  93080   \n",
       "\n",
       "         resId N_thesisId  \n",
       "204530  280512      T9525  \n",
       "204589  280565     T45066  \n",
       "205070  281098    T101862  \n",
       "205072  281098     T44528  \n",
       "\n",
       "[4 rows x 28 columns]"
      ]
     },
     "execution_count": 51,
     "metadata": {},
     "output_type": "execute_result"
    }
   ],
   "source": [
    "ment[ment['researcher_name'].str.contains(\"singh\")].iloc[270:]#[['advId','resId','researcher_name','title','thesisId','N_thesisId']].values"
   ]
  },
  {
   "cell_type": "code",
   "execution_count": null,
   "metadata": {},
   "outputs": [],
   "source": []
  }
 ],
 "metadata": {
  "kernelspec": {
   "display_name": "Python 3",
   "language": "python",
   "name": "python3"
  },
  "language_info": {
   "codemirror_mode": {
    "name": "ipython",
    "version": 3
   },
   "file_extension": ".py",
   "mimetype": "text/x-python",
   "name": "python",
   "nbconvert_exporter": "python",
   "pygments_lexer": "ipython3",
   "version": "3.6.9"
  }
 },
 "nbformat": 4,
 "nbformat_minor": 4
}
