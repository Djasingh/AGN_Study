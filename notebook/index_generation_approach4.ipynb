{
 "cells": [
  {
   "cell_type": "code",
   "execution_count": 1,
   "metadata": {},
   "outputs": [],
   "source": [
    "import pandas as pd"
   ]
  },
  {
   "cell_type": "code",
   "execution_count": 2,
   "metadata": {},
   "outputs": [],
   "source": [
    "ment = pd.read_csv(\"Shodhganga_mentorship.csv\", sep=',')"
   ]
  },
  {
   "cell_type": "code",
   "execution_count": 3,
   "metadata": {},
   "outputs": [],
   "source": [
    "ment['instituteId'].fillna(\"I000\",inplace=True)\n",
    "ment['dc.date.submitted[]'].fillna(value=ment['dc.date.awarded'],inplace=True)\n",
    "ment['DepartmentId'].fillna(\"D000\",inplace=True)\n",
    "#ment['dc.subject.ddc']= ment['dc.subject.ddc'].fillna(value=ment['dc.publisher.department[]'])\n",
    "#ment['dc.publisher.department[]']= ment['dc.publisher.department[]'].fillna(value=ment['dc.publisher.institution[]'])\n",
    "ment['dc.subject.ddc']= ment['dc.subject.ddc'].replace(r\"\\|?\\d+::\",\",\", regex=True).str.strip(\",\")\n",
    "ment['dc.date.submitted[]'] = pd.to_datetime(ment['dc.date.submitted[]'],errors = 'coerce')"
   ]
  },
  {
   "cell_type": "code",
   "execution_count": 4,
   "metadata": {},
   "outputs": [
    {
     "data": {
      "text/plain": [
       "Index(['advisorId', 'researcherId', 'advId_1', 'studId_1', 'advisor_name',\n",
       "       'researcher_name', 'dc.date.submitted[]', 'dc.language.iso[]',\n",
       "       'dc.publisher.department[]', 'DepartmentId',\n",
       "       'dc.publisher.institution[]', 'instituteId', 'dc.title[]', 'thesisId',\n",
       "       'dc.type.degree', 'dc.date.awarded', 'dc.subject.ddc', 'dc.source.uri',\n",
       "       'dc.description.abstract', 'dc.title.alternative'],\n",
       "      dtype='object')"
      ]
     },
     "execution_count": 4,
     "metadata": {},
     "output_type": "execute_result"
    }
   ],
   "source": [
    "ment.columns"
   ]
  },
  {
   "cell_type": "code",
   "execution_count": 5,
   "metadata": {},
   "outputs": [],
   "source": [
    "ment['advisor_inst_dept']=ment['advisor_name']+\"@\"+ment['instituteId']+\"@\"+ment['DepartmentId']\n",
    "ment['stud_inst_dept']=ment['researcher_name']+\"@\"+ment['instituteId']+\"@\"+ment['DepartmentId']\n",
    "index1=pd.unique(ment[['advisor_inst_dept', 'stud_inst_dept']].values.ravel('K'))\n",
    "name_index=pd.DataFrame({'names_inst_dept':index1})\n",
    "name_index['rid']=name_index.index\n",
    "ment[\"advisorId\"]=ment['advisor_inst_dept'].map(name_index.set_index('names_inst_dept')['rid'])\n",
    "ment[\"researcherId\"]=ment['stud_inst_dept'].map(name_index.set_index('names_inst_dept')['rid'])"
   ]
  },
  {
   "cell_type": "code",
   "execution_count": null,
   "metadata": {},
   "outputs": [],
   "source": [
    "#merge_result= merge_result.groupby('pid')['institute'].apply(list).reset_index(name='inst')"
   ]
  },
  {
   "cell_type": "code",
   "execution_count": 14,
   "metadata": {},
   "outputs": [],
   "source": [
    "advisor_detail=ment.groupby(['advisorId','advisor_name','instituteId',\n",
    "                               'DepartmentId'], as_index=False)[['dc.publisher.institution[]','dc.publisher.department[]','dc.date.submitted[]','dc.title[]','dc.subject.ddc']].agg(lambda x: list(x))"
   ]
  },
  {
   "cell_type": "code",
   "execution_count": 18,
   "metadata": {},
   "outputs": [
    {
     "data": {
      "text/html": [
       "<div>\n",
       "<style scoped>\n",
       "    .dataframe tbody tr th:only-of-type {\n",
       "        vertical-align: middle;\n",
       "    }\n",
       "\n",
       "    .dataframe tbody tr th {\n",
       "        vertical-align: top;\n",
       "    }\n",
       "\n",
       "    .dataframe thead th {\n",
       "        text-align: right;\n",
       "    }\n",
       "</style>\n",
       "<table border=\"1\" class=\"dataframe\">\n",
       "  <thead>\n",
       "    <tr style=\"text-align: right;\">\n",
       "      <th></th>\n",
       "      <th>advisorId</th>\n",
       "      <th>advisor_name</th>\n",
       "      <th>instituteId</th>\n",
       "      <th>DepartmentId</th>\n",
       "      <th>dc.publisher.institution[]</th>\n",
       "      <th>dc.publisher.department[]</th>\n",
       "      <th>dc.date.submitted[]</th>\n",
       "      <th>dc.title[]</th>\n",
       "      <th>dc.subject.ddc</th>\n",
       "    </tr>\n",
       "  </thead>\n",
       "  <tbody>\n",
       "    <tr>\n",
       "      <th>0</th>\n",
       "      <td>0</td>\n",
       "      <td>Jose, Joseph</td>\n",
       "      <td>I251</td>\n",
       "      <td>D1321</td>\n",
       "      <td>Mahatma Gandhi University</td>\n",
       "      <td>department of sacred heart college(thevara). d...</td>\n",
       "      <td>[1998-01-01 00:00:00]</td>\n",
       "      <td>[Chromosome studies and exploration of chemica...</td>\n",
       "      <td>[Natural sciences &amp; mathematics,Plants (Botany)]</td>\n",
       "    </tr>\n",
       "    <tr>\n",
       "      <th>1</th>\n",
       "      <td>1</td>\n",
       "      <td>Raju, K. V.</td>\n",
       "      <td>I251</td>\n",
       "      <td>D2490</td>\n",
       "      <td>Mahatma Gandhi University</td>\n",
       "      <td>department of sacred heart college</td>\n",
       "      <td>[2015-05-29 00:00:00, 2013-08-04 00:00:00, 200...</td>\n",
       "      <td>[Fishing industry in Kerala The perils of inte...</td>\n",
       "      <td>[Social sciences, Social sciences, Social scie...</td>\n",
       "    </tr>\n",
       "    <tr>\n",
       "      <th>2</th>\n",
       "      <td>2</td>\n",
       "      <td>Joseph, K. K.</td>\n",
       "      <td>I251</td>\n",
       "      <td>D2490</td>\n",
       "      <td>Mahatma Gandhi University</td>\n",
       "      <td>department of sacred heart college</td>\n",
       "      <td>[2015-08-24 00:00:00]</td>\n",
       "      <td>[Savings and investment pattern of stock inves...</td>\n",
       "      <td>[Social sciences]</td>\n",
       "    </tr>\n",
       "    <tr>\n",
       "      <th>3</th>\n",
       "      <td>3</td>\n",
       "      <td>Thomas, E. M.</td>\n",
       "      <td>I251</td>\n",
       "      <td>D2490</td>\n",
       "      <td>Mahatma Gandhi University</td>\n",
       "      <td>department of sacred heart college</td>\n",
       "      <td>[2015-07-15 00:00:00, 2015-11-12 00:00:00]</td>\n",
       "      <td>[An economic analysis of Kole cultivation in K...</td>\n",
       "      <td>[Social sciences, Social sciences]</td>\n",
       "    </tr>\n",
       "    <tr>\n",
       "      <th>4</th>\n",
       "      <td>4</td>\n",
       "      <td>Francis, M. S.</td>\n",
       "      <td>I251</td>\n",
       "      <td>D2490</td>\n",
       "      <td>Mahatma Gandhi University</td>\n",
       "      <td>department of sacred heart college</td>\n",
       "      <td>[2015-12-28 00:00:00, 2015-12-28 00:00:00, 200...</td>\n",
       "      <td>[Phytochemical and Molecular Systematics of Ar...</td>\n",
       "      <td>[Social sciences, Social sciences, Social scie...</td>\n",
       "    </tr>\n",
       "  </tbody>\n",
       "</table>\n",
       "</div>"
      ],
      "text/plain": [
       "   advisorId    advisor_name instituteId DepartmentId  \\\n",
       "0          0    Jose, Joseph        I251        D1321   \n",
       "1          1     Raju, K. V.        I251        D2490   \n",
       "2          2   Joseph, K. K.        I251        D2490   \n",
       "3          3   Thomas, E. M.        I251        D2490   \n",
       "4          4  Francis, M. S.        I251        D2490   \n",
       "\n",
       "  dc.publisher.institution[]  \\\n",
       "0  Mahatma Gandhi University   \n",
       "1  Mahatma Gandhi University   \n",
       "2  Mahatma Gandhi University   \n",
       "3  Mahatma Gandhi University   \n",
       "4  Mahatma Gandhi University   \n",
       "\n",
       "                           dc.publisher.department[]  \\\n",
       "0  department of sacred heart college(thevara). d...   \n",
       "1                 department of sacred heart college   \n",
       "2                 department of sacred heart college   \n",
       "3                 department of sacred heart college   \n",
       "4                 department of sacred heart college   \n",
       "\n",
       "                                 dc.date.submitted[]  \\\n",
       "0                              [1998-01-01 00:00:00]   \n",
       "1  [2015-05-29 00:00:00, 2013-08-04 00:00:00, 200...   \n",
       "2                              [2015-08-24 00:00:00]   \n",
       "3         [2015-07-15 00:00:00, 2015-11-12 00:00:00]   \n",
       "4  [2015-12-28 00:00:00, 2015-12-28 00:00:00, 200...   \n",
       "\n",
       "                                          dc.title[]  \\\n",
       "0  [Chromosome studies and exploration of chemica...   \n",
       "1  [Fishing industry in Kerala The perils of inte...   \n",
       "2  [Savings and investment pattern of stock inves...   \n",
       "3  [An economic analysis of Kole cultivation in K...   \n",
       "4  [Phytochemical and Molecular Systematics of Ar...   \n",
       "\n",
       "                                      dc.subject.ddc  \n",
       "0   [Natural sciences & mathematics,Plants (Botany)]  \n",
       "1  [Social sciences, Social sciences, Social scie...  \n",
       "2                                  [Social sciences]  \n",
       "3                 [Social sciences, Social sciences]  \n",
       "4  [Social sciences, Social sciences, Social scie...  "
      ]
     },
     "execution_count": 18,
     "metadata": {},
     "output_type": "execute_result"
    }
   ],
   "source": [
    "advisor_detail.head()"
   ]
  },
  {
   "cell_type": "code",
   "execution_count": 15,
   "metadata": {},
   "outputs": [],
   "source": [
    "advisor_detail['dc.publisher.institution[]']=advisor_detail['dc.publisher.institution[]'].apply(lambda x: x[0])"
   ]
  },
  {
   "cell_type": "code",
   "execution_count": 16,
   "metadata": {},
   "outputs": [],
   "source": [
    "advisor_detail['dc.publisher.department[]']=advisor_detail['dc.publisher.department[]'].apply(lambda x:x[0])"
   ]
  },
  {
   "cell_type": "code",
   "execution_count": 20,
   "metadata": {},
   "outputs": [],
   "source": [
    "#advisor_detail.iloc[50:100]['dc.publisher.institution[]']"
   ]
  },
  {
   "cell_type": "code",
   "execution_count": null,
   "metadata": {},
   "outputs": [],
   "source": []
  }
 ],
 "metadata": {
  "kernelspec": {
   "display_name": "Python 3",
   "language": "python",
   "name": "python3"
  },
  "language_info": {
   "codemirror_mode": {
    "name": "ipython",
    "version": 3
   },
   "file_extension": ".py",
   "mimetype": "text/x-python",
   "name": "python",
   "nbconvert_exporter": "python",
   "pygments_lexer": "ipython3",
   "version": "3.6.9"
  }
 },
 "nbformat": 4,
 "nbformat_minor": 4
}
