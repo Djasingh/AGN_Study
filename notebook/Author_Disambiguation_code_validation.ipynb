{
 "cells": [
  {
   "cell_type": "code",
   "execution_count": 1,
   "metadata": {},
   "outputs": [],
   "source": [
    "import re\n",
    "import json\n",
    "import fuzzy\n",
    "import pickle\n",
    "import jellyfish\n",
    "import itertools\n",
    "import pandas as pd\n",
    "import textdistance\n",
    "import editdistance\n",
    "from tqdm import tqdm\n",
    "from fuzzywuzzy import fuzz\n",
    "from cdifflib import CSequenceMatcher\n",
    "from collections import Counter"
   ]
  },
  {
   "cell_type": "code",
   "execution_count": 2,
   "metadata": {},
   "outputs": [],
   "source": [
    "folder=\"dataset_v5/\""
   ]
  },
  {
   "cell_type": "code",
   "execution_count": 3,
   "metadata": {},
   "outputs": [],
   "source": [
    "#Phonetic algorithm (sound based algorithm), Token based algorithm, character based algorithm"
   ]
  },
  {
   "cell_type": "code",
   "execution_count": 4,
   "metadata": {},
   "outputs": [],
   "source": [
    "ment=pd.read_csv(\"index_files4/shodhganga_mentorship_dataset_edit_dist_v2.csv\",sep=\",\")"
   ]
  },
  {
   "cell_type": "code",
   "execution_count": 5,
   "metadata": {},
   "outputs": [
    {
     "data": {
      "text/plain": [
       "Index(['advisorId', 'researcherId', 'advId', 'resId', 'advisor_name',\n",
       "       'researcher_name', 'publisher_dept', 'DepartmentId',\n",
       "       'publisher_institution', 'instituteId', 'dc.title[]', 'thesisId',\n",
       "       'N_thesisId', 'dc.date.submitted[]', 'dc.date.awarded',\n",
       "       'dc.subject.ddc', 'dc.description.abstract', 'dc.title.alternative'],\n",
       "      dtype='object')"
      ]
     },
     "execution_count": 5,
     "metadata": {},
     "output_type": "execute_result"
    }
   ],
   "source": [
    "ment.columns"
   ]
  },
  {
   "cell_type": "code",
   "execution_count": 6,
   "metadata": {},
   "outputs": [],
   "source": [
    "chars=[',',\";\",\"\\.\",\"-\",\":\"]"
   ]
  },
  {
   "cell_type": "code",
   "execution_count": 7,
   "metadata": {},
   "outputs": [],
   "source": [
    "def lcs(name1, name2):\n",
    "    match = CSequenceMatcher(None, name1, name2).find_longest_match(0, len(name1), 0, len(name2))\n",
    "    common_subs=name1[match.a: match.a + match.size]\n",
    "    name1=re.sub(re.escape(common_subs),\"\",name1)\n",
    "    name2=re.sub(re.escape(common_subs),\"\",name2)\n",
    "    return name1,name2"
   ]
  },
  {
   "cell_type": "code",
   "execution_count": 8,
   "metadata": {},
   "outputs": [],
   "source": [
    "def rm_splChar(name):\n",
    "    name = str(name)\n",
    "    name1 = re.sub(\" +\",\"\",name)\n",
    "    regex = \"|\".join(chars)\n",
    "    name1 = re.sub(regex,\"\", name1)\n",
    "    name2 = re.sub(regex,\"\", name)\n",
    "    #val = re.sub('[^A-Za-z]+', '', val)\n",
    "    return name1, name2"
   ]
  },
  {
   "cell_type": "code",
   "execution_count": 9,
   "metadata": {},
   "outputs": [],
   "source": [
    "def char_dist(name1, name2):\n",
    "    name1=rm_splChar(name1)\n",
    "    name2=rm_splChar(name2)\n",
    "    return int(Counter(name1)==Counter(name2))"
   ]
  },
  {
   "cell_type": "code",
   "execution_count": 10,
   "metadata": {},
   "outputs": [],
   "source": [
    "def diff_lib(name1, name2):\n",
    "    name1=name1.lower()\n",
    "    name2=name2.lower()\n",
    "    ratio=CSequenceMatcher(lambda x: x == ' ', name1, name2).ratio()\n",
    "    return ratio"
   ]
  },
  {
   "cell_type": "code",
   "execution_count": 11,
   "metadata": {},
   "outputs": [],
   "source": [
    "def jaro_winkler_score(name1, name2):\n",
    "    jw_score=textdistance.jaro_winkler.normalized_similarity(name1,name2)\n",
    "    return jw_score"
   ]
  },
  {
   "cell_type": "code",
   "execution_count": 12,
   "metadata": {},
   "outputs": [],
   "source": [
    "def levenshtein_score(name1, name2):\n",
    "    leven_score = textdistance.levenshtein.normalized_similarity(name1,name2)\n",
    "    return leven_score"
   ]
  },
  {
   "cell_type": "code",
   "execution_count": 13,
   "metadata": {},
   "outputs": [],
   "source": [
    "def fuzzy_nysiis(name1, name2):\n",
    "    ny1=fuzzy.nysiis(name1)\n",
    "    ny2=fuzzy.nysiis(name2)\n",
    "    if (ny1 or ny2):\n",
    "        nysiis_score = editdistance.eval(ny1, ny2)/max(len(ny1),len(ny2))\n",
    "    else:\n",
    "        nysiis_score = 0\n",
    "    return nysiis_score"
   ]
  },
  {
   "cell_type": "code",
   "execution_count": 14,
   "metadata": {},
   "outputs": [],
   "source": [
    "def fuzzy_DMetaphone(name1, name2):\n",
    "    d1=jellyfish.metaphone(name1)\n",
    "    d2=jellyfish.metaphone(name2)\n",
    "    if (d1 or d2):\n",
    "        meta_score = editdistance.eval(d1, d2)/max(len(d1),len(d2))\n",
    "    else:\n",
    "        meta_score = 0\n",
    "    return meta_score"
   ]
  },
  {
   "cell_type": "code",
   "execution_count": 15,
   "metadata": {},
   "outputs": [],
   "source": [
    "#Soundex is a phonetic algorithm \n",
    "def jellyfish_soundex(name1, name2):\n",
    "    s1=jellyfish.soundex(name1)\n",
    "    s2=jellyfish.soundex(name2)\n",
    "    sound_score = editdistance.eval(s1,s2)/max(len(s1),len(s2))\n",
    "    return sound_score"
   ]
  },
  {
   "cell_type": "code",
   "execution_count": 16,
   "metadata": {},
   "outputs": [],
   "source": [
    "def fuzzy_wuzzy(name1, name2):\n",
    "    fuzz_score=fuzz.token_set_ratio(name1, name2)/100\n",
    "    return fuzz_score"
   ]
  },
  {
   "cell_type": "code",
   "execution_count": 17,
   "metadata": {},
   "outputs": [],
   "source": [
    "def hamming_similarity(name1, name2):\n",
    "    h_score=textdistance.hamming.normalized_similarity(name1,name2)\n",
    "    return h_score"
   ]
  },
  {
   "cell_type": "code",
   "execution_count": 18,
   "metadata": {},
   "outputs": [],
   "source": [
    "def jaccard_similarity(name1, name2):\n",
    "    j_score=textdistance.jaccard.normalized_similarity(name1,name2)\n",
    "    return j_score"
   ]
  },
  {
   "cell_type": "code",
   "execution_count": 19,
   "metadata": {},
   "outputs": [],
   "source": [
    "def cosine_similarity(name1, name2):\n",
    "    c_score=textdistance.jaccard.normalized_similarity(name1,name2)\n",
    "    return c_score"
   ]
  },
  {
   "cell_type": "code",
   "execution_count": 20,
   "metadata": {},
   "outputs": [],
   "source": [
    "def damerau_levenshtein_similarity(name1, name2):\n",
    "    dl_score=textdistance.damerau_levenshtein.normalized_similarity(name1,name2)\n",
    "    return dl_score"
   ]
  },
  {
   "cell_type": "code",
   "execution_count": 21,
   "metadata": {},
   "outputs": [],
   "source": [
    "def sorensen_dice_similarity(name1, name2):\n",
    "    sd_score=textdistance.sorensen_dice.normalized_similarity(name1,name2)\n",
    "    return sd_score"
   ]
  },
  {
   "cell_type": "code",
   "execution_count": 22,
   "metadata": {},
   "outputs": [],
   "source": [
    "def calculate_feats(name1, name2):\n",
    "    sim_score=[]\n",
    "    #sim_score.append(char_dist(name1, name2))\n",
    "    sim_score.append(diff_lib(name1,name2))\n",
    "    sim_score.append(jaro_winkler_score(name1, name2))\n",
    "    sim_score.append(levenshtein_score(name1, name2))\n",
    "    sim_score.append(1-fuzzy_nysiis(name1, name2))#distance\n",
    "    sim_score.append(1-fuzzy_DMetaphone(name1, name2))#distance\n",
    "    sim_score.append(1-jellyfish_soundex(name1,name2))#distance\n",
    "    sim_score.append(fuzzy_wuzzy(name1, name2))\n",
    "    sim_score.append(hamming_similarity(name1, name2))\n",
    "    sim_score.append(jaccard_similarity(name1, name2))\n",
    "    sim_score.append(cosine_similarity(name1, name2))\n",
    "    sim_score.append(damerau_levenshtein_similarity(name1, name2))\n",
    "    sim_score.append(sorensen_dice_similarity(name1, name2))\n",
    "    return sim_score"
   ]
  },
  {
   "cell_type": "code",
   "execution_count": 23,
   "metadata": {},
   "outputs": [],
   "source": [
    "def save_obj(obj, name ):\n",
    "    with open(name + '.pkl', 'wb') as f:\n",
    "        pickle.dump(obj, f, pickle.HIGHEST_PROTOCOL)\n",
    "\n",
    "def load_obj(name):\n",
    "    with open(name, 'rb') as f:\n",
    "        return pickle.load(f)"
   ]
  },
  {
   "cell_type": "code",
   "execution_count": 38,
   "metadata": {},
   "outputs": [],
   "source": [
    "def name_sim_score(name1, name2,count=1):\n",
    "    vec_sum=[]\n",
    "    vec=0\n",
    "    n1, n10 = rm_splChar(name1)\n",
    "    #print(n1,n10)\n",
    "    n2, n20 = rm_splChar(name2)\n",
    "    #print(n2,n20)\n",
    "    n11, n21 = lcs(n1, n2)\n",
    "    #print(n11+\"_@_\"+n21)\n",
    "    n101, n201 = lcs(n10,n20)\n",
    "#     print(n101, n201)\n",
    "#     print(n11, n21)\n",
    "#     print(set(n1.lower()).intersection(n2.lower()))\n",
    "#     check=len(set(n1.lower()).intersection(n2.lower()))/max(len(set(n1)),len(set(n2)))\n",
    "#     print(check)\n",
    "    if n11 or n21: \n",
    "        vec1 = calculate_feats(n11, n21)\n",
    "        vec2 = calculate_feats(n11.lower(), n21.lower())\n",
    "        vec_sum.append(sum(vec1))\n",
    "        vec_sum.append(sum(vec2))\n",
    "    else:\n",
    "        vec1 = calculate_feats(n1, n2)\n",
    "        vec2 = calculate_feats(n1.lower(), n2.lower())\n",
    "        vec_sum.append(sum(vec1))\n",
    "        vec_sum.append(sum(vec2))\n",
    "    if n101 or n201: \n",
    "        vec3=calculate_feats(n101, n201)\n",
    "        vec4=calculate_feats(n101.lower(), n201.lower())\n",
    "        vec_sum.append(sum(vec3))\n",
    "        vec_sum.append(sum(vec4))\n",
    "    else:\n",
    "        vec3=calculate_feats(n10, n20)\n",
    "        vec4=calculate_feats(n10.lower(), n20.lower())\n",
    "        vec_sum.append(sum(vec3))\n",
    "        vec_sum.append(sum(vec4))\n",
    "    if not any(a > 10 for a in vec_sum):\n",
    "        name1_dist = Counter(name1.lower())\n",
    "        name2_dist = Counter(name2.lower())\n",
    "        extra_in_name1 = name1_dist-name2_dist\n",
    "        extra_in_name2 = name2_dist-name1_dist\n",
    "        dist_count = extra_in_name1 + extra_in_name2\n",
    "        n13=n10.lower()\n",
    "        n23=n20.lower()\n",
    "        print(\"hi\")\n",
    "        print(dist_count)\n",
    "\n",
    "        if (len(dist_count)==1) and ([True if (key.lower() in ['a','e','i','o','u','h'] and val==1) else False for key, val in dist_count.items()][0]) :\n",
    "            vec5=calculate_feats(name1,name2)\n",
    "            vec_sum.append(sum(vec5))\n",
    "        elif (len(extra_in_name1)==1 and len(extra_in_name2)==0) or (len(extra_in_name1)==0 and len(extra_in_name2)==1):\n",
    "            vec5=calculate_feats(name1,name2)\n",
    "            vec_sum.append(sum(vec5))\n",
    "        elif len(dist_count)==2 and any([v in [1,2] for k,v in dist_count.items()]):\n",
    "            print('yes')\n",
    "            if any([((pair[0] in dist_count.keys() and pair[1] in dist_count.keys()) or (pair[1] in dist_count.keys() and pair[0] in dist_count.keys())) for pair in char_pairs]):\n",
    "                vec5=calculate_feats(name1,name2)\n",
    "                vec_sum.append(sum(vec5)+1)\n",
    "        elif any([(part in n11) for part in part_of_name]) and any([(part in n21) for part in part_of_name]):\n",
    "            n14=re.sub(\"|\".join(part_of_name),\"\",n13)\n",
    "            n24=re.sub(\"|\".join(part_of_name),\"\",n23)\n",
    "            vec5=calculate_feats(n12,n22)\n",
    "            vec_sum.append(sum(vec5))\n",
    "        else:\n",
    "            vec_sum.append(0)\n",
    "    if (n11.strip()==\"\" and n21.strip()==\"\"):\n",
    "        return \"same\"\n",
    "    return vec_sum #any(a > 10 for a in vec_sum)#"
   ]
  },
  {
   "cell_type": "code",
   "execution_count": 40,
   "metadata": {},
   "outputs": [
    {
     "name": "stdout",
     "output_type": "stream",
     "text": [
      "hi\n",
      "Counter({' ': 2, '.': 2, ',': 1, 'd': 1, 'k': 1})\n"
     ]
    },
    {
     "data": {
      "text/plain": [
       "[0.0, 0.0, 0.0, 0.0, 0]"
      ]
     },
     "execution_count": 40,
     "metadata": {},
     "output_type": "execute_result"
    }
   ],
   "source": [
    "name_sim_score(name1, name2)"
   ]
  },
  {
   "cell_type": "code",
   "execution_count": 346,
   "metadata": {},
   "outputs": [],
   "source": [
    "#['jat','singh','kumar','yadav','bandyopadhyay',\"Bharathi\"]"
   ]
  },
  {
   "cell_type": "code",
   "execution_count": 29,
   "metadata": {},
   "outputs": [],
   "source": [
    "part_of_name=[\"k\",\"kumar\"]"
   ]
  },
  {
   "cell_type": "code",
   "execution_count": 30,
   "metadata": {},
   "outputs": [],
   "source": [
    "# (name1.find(n11) > 2 and ' ' in name_part)\n",
    "char_pairs=[(\"i\",\"e\"),(\"u\",\"o\"),(\"i\",\"y\"),(\"u\",\"a\")]"
   ]
  },
  {
   "cell_type": "code",
   "execution_count": 39,
   "metadata": {},
   "outputs": [],
   "source": [
    "name1=\"Srivastava, D. K.\"\n",
    "name2=\"Srivastava\""
   ]
  },
  {
   "cell_type": "code",
   "execution_count": 458,
   "metadata": {},
   "outputs": [],
   "source": [
    "name1=\"Salimath, P. A.\"\n",
    "name2=\"Salimath, P. V.\""
   ]
  },
  {
   "cell_type": "code",
   "execution_count": 412,
   "metadata": {},
   "outputs": [],
   "source": [
    "name1=\"'Narayana, N. V.'\"\n",
    "name2=\"Narayana, N.\""
   ]
  },
  {
   "cell_type": "code",
   "execution_count": 364,
   "metadata": {},
   "outputs": [
    {
     "data": {
      "text/plain": [
       "8.269551498760425"
      ]
     },
     "execution_count": 364,
     "metadata": {},
     "output_type": "execute_result"
    }
   ],
   "source": [
    "sum(calculate_feats(name1,name2))"
   ]
  },
  {
   "cell_type": "code",
   "execution_count": 416,
   "metadata": {},
   "outputs": [],
   "source": [
    "name1='Shastri, Paramanand'\n",
    "name2='Shastri, Pramanand'"
   ]
  },
  {
   "cell_type": "code",
   "execution_count": 418,
   "metadata": {},
   "outputs": [],
   "source": [
    "name1='Sharma, Sathyaprakash'\n",
    "name2='Sharma, Satyaprakash'"
   ]
  },
  {
   "cell_type": "code",
   "execution_count": 456,
   "metadata": {},
   "outputs": [],
   "source": [
    "name1='Dubey, Ajay Kumar'\n",
    "name2='Dubey, Ajai Kumar'"
   ]
  },
  {
   "cell_type": "code",
   "execution_count": 422,
   "metadata": {},
   "outputs": [],
   "source": [
    "name1='Bhadwal, Satish Chand'\n",
    "name2='Badwal, Satish Chand'"
   ]
  },
  {
   "cell_type": "code",
   "execution_count": 424,
   "metadata": {},
   "outputs": [],
   "source": [
    "name1='Pooja Singh'\n",
    "name2='Puja Singh'"
   ]
  },
  {
   "cell_type": "code",
   "execution_count": 367,
   "metadata": {},
   "outputs": [],
   "source": [
    "name1=\"Rakesh Kumar Jat\"\n",
    "name2=\"Jat, Rakesh K.\"\n",
    "name3=\"Rakesh Jat\""
   ]
  },
  {
   "cell_type": "code",
   "execution_count": 387,
   "metadata": {},
   "outputs": [],
   "source": [
    "name1_set=set(name1.lower().replace(\",\",\"\").split())"
   ]
  },
  {
   "cell_type": "code",
   "execution_count": 388,
   "metadata": {},
   "outputs": [],
   "source": [
    "name2_set=set(name2.lower().replace(\",\",\"\").split())"
   ]
  },
  {
   "cell_type": "code",
   "execution_count": 389,
   "metadata": {},
   "outputs": [],
   "source": [
    "comm_part=name1_set.intersection(name2_set)"
   ]
  },
  {
   "cell_type": "code",
   "execution_count": 390,
   "metadata": {},
   "outputs": [],
   "source": [
    "name_1_remain=name1_set-comm_part"
   ]
  },
  {
   "cell_type": "code",
   "execution_count": 394,
   "metadata": {},
   "outputs": [],
   "source": [
    "name1_diff=name1_set-comm_part"
   ]
  },
  {
   "cell_type": "code",
   "execution_count": 396,
   "metadata": {},
   "outputs": [],
   "source": [
    "name2_diff=name2_set-comm_part"
   ]
  },
  {
   "cell_type": "code",
   "execution_count": 399,
   "metadata": {},
   "outputs": [
    {
     "data": {
      "text/plain": [
       "{'k.'}"
      ]
     },
     "execution_count": 399,
     "metadata": {},
     "output_type": "execute_result"
    }
   ],
   "source": [
    "name2_diff"
   ]
  },
  {
   "cell_type": "code",
   "execution_count": 356,
   "metadata": {},
   "outputs": [
    {
     "data": {
      "text/plain": [
       "{'Jat', 'Rakesh'}"
      ]
     },
     "execution_count": 356,
     "metadata": {},
     "output_type": "execute_result"
    }
   ],
   "source": [
    "set(\"Rakesh Kumar Jat\".split()).intersection(\"Jat Rakesh K.\".split())"
   ]
  },
  {
   "cell_type": "code",
   "execution_count": 358,
   "metadata": {},
   "outputs": [
    {
     "data": {
      "text/plain": [
       "5.308031135531135"
      ]
     },
     "execution_count": 358,
     "metadata": {},
     "output_type": "execute_result"
    }
   ],
   "source": [
    "sum(calculate_feats(name1,name2))"
   ]
  },
  {
   "cell_type": "code",
   "execution_count": 276,
   "metadata": {},
   "outputs": [
    {
     "data": {
      "text/plain": [
       "-1"
      ]
     },
     "execution_count": 276,
     "metadata": {},
     "output_type": "execute_result"
    }
   ],
   "source": [
    "\"Sathyaprakash\".find('habbc')"
   ]
  },
  {
   "cell_type": "code",
   "execution_count": 321,
   "metadata": {},
   "outputs": [],
   "source": [
    "name1_dist=Counter(name1)\n",
    "name2_dist=Counter(name2)\n",
    "extra_in_name1=name1_dist-name2_dist\n",
    "extra_in_name2=name2_dist-name1_dist\n",
    "dist_count = extra_in_name1 + extra_in_name2"
   ]
  },
  {
   "cell_type": "code",
   "execution_count": 322,
   "metadata": {},
   "outputs": [
    {
     "data": {
      "text/plain": [
       "Counter({'y': 1, 'i': 1})"
      ]
     },
     "execution_count": 322,
     "metadata": {},
     "output_type": "execute_result"
    }
   ],
   "source": [
    "dist_count"
   ]
  },
  {
   "cell_type": "code",
   "execution_count": 318,
   "metadata": {},
   "outputs": [
    {
     "data": {
      "text/plain": [
       "Counter()"
      ]
     },
     "execution_count": 318,
     "metadata": {},
     "output_type": "execute_result"
    }
   ],
   "source": [
    "extra_in_name2"
   ]
  },
  {
   "cell_type": "code",
   "execution_count": 283,
   "metadata": {},
   "outputs": [
    {
     "data": {
      "text/plain": [
       "1"
      ]
     },
     "execution_count": 283,
     "metadata": {},
     "output_type": "execute_result"
    }
   ],
   "source": [
    "list(dist.values())[0]"
   ]
  },
  {
   "cell_type": "code",
   "execution_count": 261,
   "metadata": {},
   "outputs": [
    {
     "data": {
      "text/plain": [
       "Counter({'y': 1})"
      ]
     },
     "execution_count": 261,
     "metadata": {},
     "output_type": "execute_result"
    }
   ],
   "source": [
    "Counter(name1).Counter(name2)"
   ]
  },
  {
   "cell_type": "code",
   "execution_count": 214,
   "metadata": {},
   "outputs": [],
   "source": [
    "#len(dict(Counter(name1)-Counter(name2)).keys())==1 and len(dict(Counter(name1)-Counter(name2)).keys())"
   ]
  },
  {
   "cell_type": "code",
   "execution_count": 409,
   "metadata": {},
   "outputs": [
    {
     "name": "stdout",
     "output_type": "stream",
     "text": [
      "sharma, sathyaprakash\n"
     ]
    },
    {
     "data": {
      "text/plain": [
       "[9.869736842105263,\n",
       " 9.869736842105263,\n",
       " 9.869736842105263,\n",
       " 9.869736842105263,\n",
       " 11.051619945095556]"
      ]
     },
     "execution_count": 409,
     "metadata": {},
     "output_type": "execute_result"
    }
   ],
   "source": [
    "name_sim_score(name1, name2)"
   ]
  },
  {
   "cell_type": "code",
   "execution_count": 247,
   "metadata": {},
   "outputs": [],
   "source": [
    "sim_df=pd.read_csv(folder+\"disambiguated_names.csv\",sep=\",\")"
   ]
  },
  {
   "cell_type": "code",
   "execution_count": 248,
   "metadata": {},
   "outputs": [],
   "source": [
    "sim_names=[a[0] for a in sim_df.values]"
   ]
  },
  {
   "cell_type": "code",
   "execution_count": 249,
   "metadata": {},
   "outputs": [
    {
     "data": {
      "text/plain": [
       "['Raju, Kv', 'Ajith Kumar, N.', 'Ajithkumar, N.']"
      ]
     },
     "execution_count": 249,
     "metadata": {},
     "output_type": "execute_result"
    }
   ],
   "source": [
    "sim_names[0:5:2]"
   ]
  },
  {
   "cell_type": "code",
   "execution_count": 253,
   "metadata": {},
   "outputs": [],
   "source": [
    "check=[]\n",
    "count=1\n",
    "for a in zip(sim_names[0::2], sim_names[1::2]):\n",
    "    tmp=name_sim_score(a[0], a[1])\n",
    "    check.append(tmp)\n",
    "    if tmp==False:\n",
    "        count+=1\n",
    "        print(a)"
   ]
  },
  {
   "cell_type": "code",
   "execution_count": 254,
   "metadata": {},
   "outputs": [
    {
     "data": {
      "text/plain": [
       "7658"
      ]
     },
     "execution_count": 254,
     "metadata": {},
     "output_type": "execute_result"
    }
   ],
   "source": [
    "check.count(\"same\")"
   ]
  },
  {
   "cell_type": "code",
   "execution_count": 435,
   "metadata": {},
   "outputs": [],
   "source": [
    "import numpy as np"
   ]
  },
  {
   "cell_type": "code",
   "execution_count": 436,
   "metadata": {},
   "outputs": [
    {
     "data": {
      "text/plain": [
       "array([2, 3, 4, 5])"
      ]
     },
     "execution_count": 436,
     "metadata": {},
     "output_type": "execute_result"
    }
   ],
   "source": [
    "np.array([1,2,3,4])+1"
   ]
  },
  {
   "cell_type": "code",
   "execution_count": 110,
   "metadata": {},
   "outputs": [
    {
     "data": {
      "text/plain": [
       "'Arivunambi, A. (ĂƒÂ\\xa0ĂÂ®Ăâ¦ĂƒÂ\\xa0ĂÂ®ĂÂ±ĂƒÂ\\xa0ĂÂ®ĂÂ¿ĂƒÂ\\xa0ĂÂ®ĂÂµĂƒÂ\\xa0ĂÂ¯Ăï¿½ĂƒÂ\\xa0ĂÂ®ĂÂ¨ĂƒÂ\\xa0ĂÂ®ĂÂ®ĂƒÂ\\xa0ĂÂ¯Ăï¿½ĂƒÂ\\xa0ĂÂ®ĂÂªĂƒÂ\\xa0ĂÂ®ĂÂ¿, Ăƒâ¬ĂÂ®Ăâ¦)'"
      ]
     },
     "execution_count": 110,
     "metadata": {},
     "output_type": "execute_result"
    }
   ],
   "source": [
    "re.sub(\"[^\\u0000-\\u05C0\\u2100-\\u214F]+\",\"\",\"Arivunambi, A. (ĂƒÂ Ă‚Â®Ă‚â€¦ĂƒÂ Ă‚Â®Ă‚Â±ĂƒÂ Ă‚Â®Ă‚Â¿ĂƒÂ Ă‚Â®Ă‚ÂµĂƒÂ Ă‚Â¯Ă‚ï¿½ĂƒÂ Ă‚Â®Ă‚Â¨ĂƒÂ Ă‚Â®Ă‚Â®ĂƒÂ Ă‚Â¯Ă‚ï¿½ĂƒÂ Ă‚Â®Ă‚ÂªĂƒÂ Ă‚Â®Ă‚Â¿, Ăƒâ‚¬Ă‚Â®Ă‚â€¦)\")"
   ]
  }
 ],
 "metadata": {
  "kernelspec": {
   "display_name": "Python 3",
   "language": "python",
   "name": "python3"
  },
  "language_info": {
   "codemirror_mode": {
    "name": "ipython",
    "version": 3
   },
   "file_extension": ".py",
   "mimetype": "text/x-python",
   "name": "python",
   "nbconvert_exporter": "python",
   "pygments_lexer": "ipython3",
   "version": "3.7.12"
  }
 },
 "nbformat": 4,
 "nbformat_minor": 4
}
