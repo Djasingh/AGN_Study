{
 "cells": [
  {
   "cell_type": "markdown",
   "metadata": {},
   "source": [
    "<h2>Intitute-wise Metric calculation (Aggregate)</h2>"
   ]
  },
  {
   "cell_type": "code",
   "execution_count": 1,
   "metadata": {},
   "outputs": [],
   "source": [
    "import pandas as pd\n",
    "import networkx as nx\n",
    "import matplotlib.pyplot as plt\n",
    "import numpy as np\n",
    "from tqdm import tqdm\n",
    "from collections import Counter\n",
    "from multiprocessing import Pool\n",
    "import itertools\n",
    "import json"
   ]
  },
  {
   "cell_type": "code",
   "execution_count": 2,
   "metadata": {},
   "outputs": [
    {
     "name": "stdout",
     "output_type": "stream",
     "text": [
      "importing Jupyter notebook from metric_util_func.ipynb\n"
     ]
    }
   ],
   "source": [
    "import import_ipynb\n",
    "from metric_util_func import *"
   ]
  },
  {
   "cell_type": "code",
   "execution_count": 3,
   "metadata": {},
   "outputs": [],
   "source": [
    "%matplotlib inline"
   ]
  },
  {
   "cell_type": "code",
   "execution_count": 4,
   "metadata": {},
   "outputs": [],
   "source": [
    "folder=\"dataset_v5/v5_2/\""
   ]
  },
  {
   "cell_type": "code",
   "execution_count": 5,
   "metadata": {},
   "outputs": [],
   "source": [
    "mod_ment2 = pd.read_csv(folder+'v5_2_2/'+'final_shodhganga_dataset_v5_2_2.csv', sep =\",\")"
   ]
  },
  {
   "cell_type": "code",
   "execution_count": 6,
   "metadata": {},
   "outputs": [
    {
     "data": {
      "text/plain": [
       "Index(['advisorId', 'researcherId', 'advId', 'resId', 'advisor_name',\n",
       "       'researcher_name', 'publisher_dept', 'DepartmentId',\n",
       "       'publisher_institution', 'instituteId', 'title', 'thesisId',\n",
       "       'N_thesisId', 'date_submitted', 'new_date_awarded', 'dc.date.awarded',\n",
       "       'dc.subject.ddc', 'uniq_ddc_across_dept', 'dc.description.abstract',\n",
       "       'dc.title.alternative', 'N_DepartmentId_1', 'ddc_code', 'advisor_advId',\n",
       "       'researcher_resId'],\n",
       "      dtype='object')"
      ]
     },
     "execution_count": 6,
     "metadata": {},
     "output_type": "execute_result"
    }
   ],
   "source": [
    "mod_ment2.columns"
   ]
  },
  {
   "cell_type": "code",
   "execution_count": 7,
   "metadata": {},
   "outputs": [],
   "source": [
    "#mod_ment2 = mod_ment2.dropna(subset=['new_date_awarded']).copy()"
   ]
  },
  {
   "cell_type": "code",
   "execution_count": 8,
   "metadata": {},
   "outputs": [],
   "source": [
    "#mod_ment2 = pd.read_csv(folder+'final_shodhganga_dataset_v5_2.csv', sep =\",\")"
   ]
  },
  {
   "cell_type": "code",
   "execution_count": 9,
   "metadata": {},
   "outputs": [
    {
     "data": {
      "text/plain": [
       "(201477, 24)"
      ]
     },
     "execution_count": 9,
     "metadata": {},
     "output_type": "execute_result"
    }
   ],
   "source": [
    "mod_ment2.shape"
   ]
  },
  {
   "cell_type": "code",
   "execution_count": 10,
   "metadata": {},
   "outputs": [],
   "source": [
    "graph1 = nx.convert_matrix.from_pandas_edgelist(mod_ment2, 'advId','resId','publisher_institution', create_using=nx.DiGraph())\n",
    "graph1.remove_edges_from(nx.selfloop_edges(graph1))\n",
    "cycle=list(nx.simple_cycles(graph1))\n",
    "graph1.remove_edges_from(cycle)"
   ]
  },
  {
   "cell_type": "code",
   "execution_count": 11,
   "metadata": {},
   "outputs": [
    {
     "data": {
      "text/plain": [
       "33"
      ]
     },
     "execution_count": 11,
     "metadata": {},
     "output_type": "execute_result"
    }
   ],
   "source": [
    "len(cycle)"
   ]
  },
  {
   "cell_type": "code",
   "execution_count": null,
   "metadata": {},
   "outputs": [],
   "source": []
  },
  {
   "cell_type": "markdown",
   "metadata": {},
   "source": [
    "## No.of student graduated from institute (Or Institute wise thesis Advised)."
   ]
  },
  {
   "cell_type": "code",
   "execution_count": 12,
   "metadata": {},
   "outputs": [],
   "source": [
    "inst_stud = set([(value['publisher_institution'],v) for ((u, v), value) in graph1.edges.items()])\n",
    "attr_count=[i for i, s in inst_stud]"
   ]
  },
  {
   "cell_type": "code",
   "execution_count": 13,
   "metadata": {},
   "outputs": [],
   "source": [
    "inst_wise_stud_dist=Counter(attr_count)"
   ]
  },
  {
   "cell_type": "code",
   "execution_count": 14,
   "metadata": {},
   "outputs": [],
   "source": [
    "#inst_wise_stud_dist"
   ]
  },
  {
   "cell_type": "code",
   "execution_count": 15,
   "metadata": {},
   "outputs": [],
   "source": [
    "top10, top10_dict=top_metric_val(inst_wise_stud_dist)"
   ]
  },
  {
   "cell_type": "code",
   "execution_count": 16,
   "metadata": {},
   "outputs": [
    {
     "name": "stdout",
     "output_type": "stream",
     "text": [
      "file save successfully in folder : dataset_v5/v5_2/top_10/institute/\n"
     ]
    }
   ],
   "source": [
    "save_obj_inst('inst_thesis-advised', top10_dict)"
   ]
  },
  {
   "cell_type": "code",
   "execution_count": 17,
   "metadata": {},
   "outputs": [
    {
     "data": {
      "text/plain": [
       "{'University of Calcutta': 9865,\n",
       " 'Savitribai Phule Pune University': 8591,\n",
       " 'V. B. S. Purvanchal University': 7064,\n",
       " 'Aligarh Muslim University': 6619,\n",
       " 'Anna University': 6612,\n",
       " 'Panjab University': 6611,\n",
       " 'University of Madras': 4910,\n",
       " 'Dr. Babasaheb Ambedkar Marathwada University': 4659,\n",
       " 'Jawaharlal Nehru University': 4542,\n",
       " 'Gauhati University': 4381}"
      ]
     },
     "execution_count": 17,
     "metadata": {},
     "output_type": "execute_result"
    }
   ],
   "source": [
    "top10_dict"
   ]
  },
  {
   "cell_type": "code",
   "execution_count": 18,
   "metadata": {},
   "outputs": [],
   "source": [
    "#top10_dict #this is without droping rows with 'new_date_awarded' column having null values."
   ]
  },
  {
   "cell_type": "code",
   "execution_count": 19,
   "metadata": {},
   "outputs": [
    {
     "data": {
      "image/png": "[encoded data removed]",
      "text/plain": [
       "<Figure size 720x576 with 1 Axes>"
      ]
     },
     "metadata": {
      "needs_background": "light"
     },
     "output_type": "display_data"
    }
   ],
   "source": [
    "draw_dist_graph(inst_wise_stud_dist,title=\"Institute wise Student Graduation distribution\",ylabel=\"Institute Count\",xlabel=\"NO. of Students Graduated\")"
   ]
  },
  {
   "cell_type": "code",
   "execution_count": 20,
   "metadata": {},
   "outputs": [],
   "source": [
    "# deg, cnt = zip(*stud_grad_size_dist.items())\n",
    "# fig, ax = plt.subplots(figsize=(10,6))\n",
    "# plt.hist(deg, color=\"b\", bins=np.arange(0,10000,100))\n",
    "# plt.title(\"Institute wise student graduation distribution\")\n",
    "# plt.ylabel(\"Institute Count\")\n",
    "# plt.xlabel(\"Students Graduation Value\")\n",
    "# #ax.set_xticks([d for d in deg])\n",
    "# #ax.set_xticklabels(deg)\n",
    "# plt.show()"
   ]
  },
  {
   "cell_type": "code",
   "execution_count": 21,
   "metadata": {},
   "outputs": [
    {
     "data": {
      "text/plain": [
       "8591"
      ]
     },
     "execution_count": 21,
     "metadata": {},
     "output_type": "execute_result"
    }
   ],
   "source": [
    "inst_wise_stud_dist['Savitribai Phule Pune University']"
   ]
  },
  {
   "cell_type": "markdown",
   "metadata": {},
   "source": [
    "<h2>Institute-wise Fecundity Distribution (Aggregated value of researcher)</h2>"
   ]
  },
  {
   "cell_type": "code",
   "execution_count": 22,
   "metadata": {},
   "outputs": [],
   "source": [
    "fecundity_dist=load_obj(folder+\"save_data/fecundity_dist.json\")\n",
    "fecundity_dist={int(key) : int(fecundity_dist[key]) for key in fecundity_dist}"
   ]
  },
  {
   "cell_type": "code",
   "execution_count": 23,
   "metadata": {},
   "outputs": [],
   "source": [
    "#fecundity_dist['93541']"
   ]
  },
  {
   "cell_type": "code",
   "execution_count": 24,
   "metadata": {},
   "outputs": [],
   "source": [
    "# def find_unique_values(df,col):\n",
    "#     uniq_val=df[col].unique()\n",
    "#     return uniq_val"
   ]
  },
  {
   "cell_type": "code",
   "execution_count": 25,
   "metadata": {},
   "outputs": [],
   "source": [
    "# def inst_wise_val(df,col,dist_dict):\n",
    "#     metric={}\n",
    "#     uniq_col_val=find_unique_values(df,col)\n",
    "#     for val in uniq_col_val:\n",
    "#         filter_df=df[df[col]==val]\n",
    "#         uniq_id = pd.unique(filter_df[['resId','advId']].values.ravel('K'))\n",
    "#         metric_sum=sum([int(dist_dict[str(idd)]) for idd in uniq_id])\n",
    "#         metric[val]=metric_sum\n",
    "#     return metric"
   ]
  },
  {
   "cell_type": "code",
   "execution_count": 26,
   "metadata": {},
   "outputs": [],
   "source": [
    "inst_fecund_metric=inst_wise_val(mod_ment2,'publisher_institution',fecundity_dist)"
   ]
  },
  {
   "cell_type": "code",
   "execution_count": 27,
   "metadata": {},
   "outputs": [],
   "source": [
    "#inst_fecund_metric"
   ]
  },
  {
   "cell_type": "code",
   "execution_count": 28,
   "metadata": {},
   "outputs": [],
   "source": [
    "top_10, top_10_dict=top_metric_val(inst_fecund_metric)"
   ]
  },
  {
   "cell_type": "code",
   "execution_count": 29,
   "metadata": {},
   "outputs": [
    {
     "name": "stdout",
     "output_type": "stream",
     "text": [
      "file save successfully in folder : dataset_v5/v5_2/top_10/institute/\n"
     ]
    }
   ],
   "source": [
    "save_obj_inst('inst_fecundity',top10_dict)"
   ]
  },
  {
   "cell_type": "code",
   "execution_count": 30,
   "metadata": {},
   "outputs": [
    {
     "data": {
      "text/plain": [
       "{'University of Calcutta': 10279,\n",
       " 'Savitribai Phule Pune University': 9481,\n",
       " 'V. B. S. Purvanchal University': 7517,\n",
       " 'Aligarh Muslim University': 7381,\n",
       " 'Panjab University': 7056,\n",
       " 'Anna University': 6760,\n",
       " 'University of Madras': 5281,\n",
       " 'Jawaharlal Nehru University': 4923,\n",
       " 'Dr. Babasaheb Ambedkar Marathwada University': 4761,\n",
       " 'Gauhati University': 4600}"
      ]
     },
     "execution_count": 30,
     "metadata": {},
     "output_type": "execute_result"
    }
   ],
   "source": [
    "top_10_dict"
   ]
  },
  {
   "cell_type": "code",
   "execution_count": 31,
   "metadata": {},
   "outputs": [
    {
     "data": {
      "image/png": "[encoded data removed]",
      "text/plain": [
       "<Figure size 720x576 with 1 Axes>"
      ]
     },
     "metadata": {
      "needs_background": "light"
     },
     "output_type": "display_data"
    }
   ],
   "source": [
    "draw_dist_graph(inst_fecund_metric)"
   ]
  },
  {
   "cell_type": "markdown",
   "metadata": {},
   "source": [
    "<h2>Institute-wise Fertility Distribution (Aggregated value of researcher)</h2>"
   ]
  },
  {
   "cell_type": "code",
   "execution_count": 32,
   "metadata": {},
   "outputs": [],
   "source": [
    "fertility_dist=load_obj(folder+\"save_data/fertility_dist.json\")\n",
    "fertility_dist={int(key) : int(fertility_dist[key]) for key in fertility_dist}"
   ]
  },
  {
   "cell_type": "code",
   "execution_count": 33,
   "metadata": {},
   "outputs": [],
   "source": [
    "inst_fertility_metric=inst_wise_val(mod_ment2,'publisher_institution',fertility_dist)"
   ]
  },
  {
   "cell_type": "code",
   "execution_count": 34,
   "metadata": {},
   "outputs": [],
   "source": [
    "top_10, top_10_dict=top_metric_val(inst_fertility_metric)"
   ]
  },
  {
   "cell_type": "code",
   "execution_count": 35,
   "metadata": {},
   "outputs": [
    {
     "name": "stdout",
     "output_type": "stream",
     "text": [
      "file save successfully in folder : dataset_v5/v5_2/top_10/institute/\n"
     ]
    }
   ],
   "source": [
    "save_obj_inst('inst_fertility',top10_dict)"
   ]
  },
  {
   "cell_type": "code",
   "execution_count": 36,
   "metadata": {},
   "outputs": [
    {
     "data": {
      "text/plain": [
       "{'Anna University': 581,\n",
       " 'Aligarh Muslim University': 552,\n",
       " 'University of Calcutta': 441,\n",
       " 'Bharathidasan University': 431,\n",
       " 'Bharathiar University': 416,\n",
       " 'Panjab University': 386,\n",
       " 'Savitribai Phule Pune University': 378,\n",
       " 'Manonmaniam Sundaranar University': 354,\n",
       " 'Karnatak University': 311,\n",
       " 'University of Madras': 279}"
      ]
     },
     "execution_count": 36,
     "metadata": {},
     "output_type": "execute_result"
    }
   ],
   "source": [
    "top_10_dict"
   ]
  },
  {
   "cell_type": "code",
   "execution_count": 37,
   "metadata": {},
   "outputs": [],
   "source": [
    "#draw_dist_graph(inst_fertility_metric,title='Institute wise fertility distribution',ylabel='Institute Count',xlabel='Inst. fertiltiy value',bin_size=np.arange(0,600,100))"
   ]
  },
  {
   "cell_type": "code",
   "execution_count": 38,
   "metadata": {},
   "outputs": [
    {
     "data": {
      "image/png": "[encoded data removed]",
      "text/plain": [
       "<Figure size 720x576 with 1 Axes>"
      ]
     },
     "metadata": {
      "needs_background": "light"
     },
     "output_type": "display_data"
    }
   ],
   "source": [
    "draw_dist_graph(inst_fertility_metric,title='Institute wise fertility distribution',ylabel='Institute Count',xlabel='Inst. fertiltiy value')"
   ]
  },
  {
   "cell_type": "markdown",
   "metadata": {},
   "source": [
    "<h2>H-index</h2>"
   ]
  },
  {
   "cell_type": "code",
   "execution_count": 39,
   "metadata": {},
   "outputs": [],
   "source": [
    "hindex_dist=load_obj(folder+\"save_data/hindex_dict.json\")\n",
    "hindex_dist={int(key) : int(hindex_dist[key]) for key in hindex_dist}"
   ]
  },
  {
   "cell_type": "code",
   "execution_count": 40,
   "metadata": {},
   "outputs": [],
   "source": [
    "inst_hindex_metric=inst_wise_val(mod_ment2,'publisher_institution',hindex_dist)"
   ]
  },
  {
   "cell_type": "code",
   "execution_count": 41,
   "metadata": {},
   "outputs": [],
   "source": [
    "top_10, top_10_dict = top_metric_val(inst_hindex_metric)"
   ]
  },
  {
   "cell_type": "code",
   "execution_count": 42,
   "metadata": {},
   "outputs": [
    {
     "name": "stdout",
     "output_type": "stream",
     "text": [
      "file save successfully in folder : dataset_v5/v5_2/top_10/institute/\n"
     ]
    }
   ],
   "source": [
    "save_obj_inst('inst_h-index',top10_dict)"
   ]
  },
  {
   "cell_type": "code",
   "execution_count": 43,
   "metadata": {},
   "outputs": [
    {
     "data": {
      "text/plain": [
       "{'Aligarh Muslim University': 495,\n",
       " 'Anna University': 480,\n",
       " 'University of Calcutta': 392,\n",
       " 'Bharathidasan University': 340,\n",
       " 'Savitribai Phule Pune University': 337,\n",
       " 'Panjab University': 329,\n",
       " 'Bharathiar University': 326,\n",
       " 'Manonmaniam Sundaranar University': 276,\n",
       " 'Karnatak University': 260,\n",
       " 'University of Madras': 252}"
      ]
     },
     "execution_count": 43,
     "metadata": {},
     "output_type": "execute_result"
    }
   ],
   "source": [
    "top_10_dict"
   ]
  },
  {
   "cell_type": "code",
   "execution_count": 44,
   "metadata": {},
   "outputs": [
    {
     "data": {
      "image/png": "[encoded data removed]",
      "text/plain": [
       "<Figure size 720x576 with 1 Axes>"
      ]
     },
     "metadata": {
      "needs_background": "light"
     },
     "output_type": "display_data"
    }
   ],
   "source": [
    "draw_dist_graph(inst_hindex_metric,title='Institute wise hindex distribution',ylabel='Institute Count',xlabel='Inst. hindex value')"
   ]
  },
  {
   "cell_type": "markdown",
   "metadata": {},
   "source": [
    "<h2> G-index</h2>"
   ]
  },
  {
   "cell_type": "code",
   "execution_count": 45,
   "metadata": {},
   "outputs": [],
   "source": [
    "gindex_dist=load_obj(folder+\"save_data/gindex_dict.json\")\n",
    "gindex_dist={int(key) : int(gindex_dist[key]) for key in gindex_dist}"
   ]
  },
  {
   "cell_type": "code",
   "execution_count": 46,
   "metadata": {},
   "outputs": [],
   "source": [
    "inst_gindex_metric=inst_wise_val(mod_ment2,'publisher_institution',gindex_dist)"
   ]
  },
  {
   "cell_type": "code",
   "execution_count": 47,
   "metadata": {},
   "outputs": [],
   "source": [
    "top_10, top_10_dict = top_metric_val(inst_gindex_metric)"
   ]
  },
  {
   "cell_type": "code",
   "execution_count": 48,
   "metadata": {},
   "outputs": [
    {
     "name": "stdout",
     "output_type": "stream",
     "text": [
      "file save successfully in folder : dataset_v5/v5_2/top_10/institute/\n"
     ]
    }
   ],
   "source": [
    "save_obj_inst('inst_g-index',top10_dict)"
   ]
  },
  {
   "cell_type": "code",
   "execution_count": 49,
   "metadata": {},
   "outputs": [
    {
     "data": {
      "text/plain": [
       "{'Aligarh Muslim University': 713,\n",
       " 'Anna University': 639,\n",
       " 'University of Calcutta': 549,\n",
       " 'Panjab University': 469,\n",
       " 'Savitribai Phule Pune University': 456,\n",
       " 'Bharathidasan University': 436,\n",
       " 'Karnatak University': 427,\n",
       " 'Bharathiar University': 417,\n",
       " 'V. B. S. Purvanchal University': 381,\n",
       " 'Manonmaniam Sundaranar University': 366}"
      ]
     },
     "execution_count": 49,
     "metadata": {},
     "output_type": "execute_result"
    }
   ],
   "source": [
    "top_10_dict"
   ]
  },
  {
   "cell_type": "code",
   "execution_count": 50,
   "metadata": {},
   "outputs": [],
   "source": [
    "# top_10_dict \n",
    "# {'Aligarh Muslim University': 715,\n",
    "#  'Anna University': 641,\n",
    "#  'University of Calcutta': 552,\n",
    "#  'Panjab University': 470,\n",
    "#  'Savitribai Phule Pune University': 456,   #previous g-index result\n",
    "#  'Bharathidasan University': 442,\n",
    "#  'Karnatak University': 428,\n",
    "#  'Bharathiar University': 421,\n",
    "#  'V. B. S. Purvanchal University': 382,\n",
    "#  'Manonmaniam Sundaranar University': 371}"
   ]
  },
  {
   "cell_type": "code",
   "execution_count": 51,
   "metadata": {},
   "outputs": [
    {
     "data": {
      "image/png": "[encoded data removed]",
      "text/plain": [
       "<Figure size 720x576 with 1 Axes>"
      ]
     },
     "metadata": {
      "needs_background": "light"
     },
     "output_type": "display_data"
    }
   ],
   "source": [
    "draw_dist_graph(inst_gindex_metric,title='Institute wise G-index distribution',ylabel='Institute Count',xlabel='Inst. G-index value')"
   ]
  },
  {
   "cell_type": "code",
   "execution_count": 52,
   "metadata": {},
   "outputs": [],
   "source": [
    "metric_dist = Counter(inst_fertility_metric.values())"
   ]
  },
  {
   "cell_type": "code",
   "execution_count": 53,
   "metadata": {},
   "outputs": [],
   "source": [
    "# tmp=0\n",
    "# for key in metric_dist :\n",
    "#     if key >= 58.1 and key < 116.2:\n",
    "#         tmp=tmp+metric_dist[key]\n",
    "# print(tmp)"
   ]
  },
  {
   "cell_type": "code",
   "execution_count": 54,
   "metadata": {},
   "outputs": [],
   "source": [
    "#deg, cnt = zip(*metric_dist.items())"
   ]
  },
  {
   "cell_type": "code",
   "execution_count": 55,
   "metadata": {},
   "outputs": [],
   "source": [
    "# counts, bins = np.histogram(list(inst_fertility_metric.values()))\n",
    "# plt.hist(bins[:-1], bins, weights=counts)"
   ]
  },
  {
   "cell_type": "code",
   "execution_count": null,
   "metadata": {},
   "outputs": [],
   "source": []
  },
  {
   "cell_type": "code",
   "execution_count": null,
   "metadata": {},
   "outputs": [],
   "source": []
  }
 ],
 "metadata": {
  "kernelspec": {
   "display_name": "Python 3",
   "language": "python",
   "name": "python3"
  },
  "language_info": {
   "codemirror_mode": {
    "name": "ipython",
    "version": 3
   },
   "file_extension": ".py",
   "mimetype": "text/x-python",
   "name": "python",
   "nbconvert_exporter": "python",
   "pygments_lexer": "ipython3",
   "version": "3.7.12"
  }
 },
 "nbformat": 4,
 "nbformat_minor": 4
}
