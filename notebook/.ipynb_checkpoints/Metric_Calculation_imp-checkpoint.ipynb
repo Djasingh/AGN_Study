{
 "cells": [
  {
   "cell_type": "markdown",
   "metadata": {},
   "source": [
    "<h2>Python 3.6.9</h2>"
   ]
  },
  {
   "cell_type": "code",
   "execution_count": 1,
   "metadata": {},
   "outputs": [],
   "source": [
    "import pandas as pd\n",
    "import networkx as nx\n",
    "import numpy as np\n",
    "from tqdm import tqdm\n",
    "import itertools\n",
    "import json\n",
    "from collections import Counter\n",
    "from multiprocessing import Pool\n",
    "import matplotlib.pyplot as plt"
   ]
  },
  {
   "cell_type": "code",
   "execution_count": 2,
   "metadata": {},
   "outputs": [],
   "source": [
    "# pd.set_option('display.max_rows', 500)\n",
    "# pd.set_option('display.max_columns', 500)\n",
    "#pd.set_option('display.width', 2000)"
   ]
  },
  {
   "cell_type": "code",
   "execution_count": 2,
   "metadata": {},
   "outputs": [
    {
     "name": "stdout",
     "output_type": "stream",
     "text": [
      "importing Jupyter notebook from metric_util_func.ipynb\n"
     ]
    }
   ],
   "source": [
    "import import_ipynb\n",
    "from metric_util_func import *"
   ]
  },
  {
   "cell_type": "code",
   "execution_count": 3,
   "metadata": {},
   "outputs": [],
   "source": [
    "# a = [2,2,3,3,3,4,4,5,5,6,6,6,6,6,7,7,77,7,7,8]\n",
    "# draw_bar_graph(a, text=True,print_bin=True)"
   ]
  },
  {
   "cell_type": "code",
   "execution_count": 4,
   "metadata": {},
   "outputs": [],
   "source": [
    "%matplotlib inline"
   ]
  },
  {
   "cell_type": "code",
   "execution_count": 5,
   "metadata": {},
   "outputs": [],
   "source": [
    "folder=\"../dataset_v5/v5_2/\""
   ]
  },
  {
   "cell_type": "code",
   "execution_count": 21,
   "metadata": {},
   "outputs": [],
   "source": [
    "#mod_ment2_1 = pd.read_csv(folder+'v5_2_2/'+'final_shodhganga_dataset_v5_2_5.csv', sep =\",\")"
   ]
  },
  {
   "cell_type": "code",
   "execution_count": 6,
   "metadata": {},
   "outputs": [],
   "source": [
    "mod_ment2 = pd.read_csv(folder+'v5_2_2/'+'final_shodhganga_dataset_v5_2_6.csv', sep =\",\")"
   ]
  },
  {
   "cell_type": "code",
   "execution_count": 8,
   "metadata": {},
   "outputs": [],
   "source": [
    "#mod_ment2 = pd.read_csv(folder+'final_shodhganga_dataset_v5_2.csv', sep =\",\")"
   ]
  },
  {
   "cell_type": "code",
   "execution_count": 9,
   "metadata": {},
   "outputs": [
    {
     "data": {
      "text/plain": [
       "(201477, 24)"
      ]
     },
     "execution_count": 9,
     "metadata": {},
     "output_type": "execute_result"
    }
   ],
   "source": [
    "mod_ment2.shape"
   ]
  },
  {
   "cell_type": "code",
   "execution_count": 7,
   "metadata": {},
   "outputs": [],
   "source": [
    "graph1 = nx.convert_matrix.from_pandas_edgelist(mod_ment2, 'advId','resId','publisher_institution', create_using=nx.DiGraph())\n",
    "graph1.remove_edges_from(nx.selfloop_edges(graph1))\n",
    "cycle=list(nx.simple_cycles(graph1))\n",
    "graph1.remove_edges_from(cycle)"
   ]
  },
  {
   "cell_type": "code",
   "execution_count": 11,
   "metadata": {},
   "outputs": [
    {
     "data": {
      "text/plain": [
       "252763"
      ]
     },
     "execution_count": 11,
     "metadata": {},
     "output_type": "execute_result"
    }
   ],
   "source": [
    "len(graph1.nodes())"
   ]
  },
  {
   "cell_type": "code",
   "execution_count": 12,
   "metadata": {},
   "outputs": [
    {
     "data": {
      "text/plain": [
       "200010"
      ]
     },
     "execution_count": 12,
     "metadata": {},
     "output_type": "execute_result"
    }
   ],
   "source": [
    "len(graph1.edges())"
   ]
  },
  {
   "cell_type": "code",
   "execution_count": 13,
   "metadata": {},
   "outputs": [],
   "source": [
    "components1 = list(nx.weakly_connected_components(graph1))"
   ]
  },
  {
   "cell_type": "code",
   "execution_count": 14,
   "metadata": {},
   "outputs": [
    {
     "data": {
      "text/plain": [
       "54819"
      ]
     },
     "execution_count": 14,
     "metadata": {},
     "output_type": "execute_result"
    }
   ],
   "source": [
    "len(components1)"
   ]
  },
  {
   "cell_type": "code",
   "execution_count": 15,
   "metadata": {},
   "outputs": [],
   "source": [
    "components1.sort(key=len, reverse=True)"
   ]
  },
  {
   "cell_type": "code",
   "execution_count": 16,
   "metadata": {},
   "outputs": [],
   "source": [
    "components1_Size=[len(c) for c in components1]"
   ]
  },
  {
   "cell_type": "code",
   "execution_count": 17,
   "metadata": {},
   "outputs": [
    {
     "name": "stdout",
     "output_type": "stream",
     "text": [
      "0.3913824412592033\n",
      "0.4860056997150142\n"
     ]
    }
   ],
   "source": [
    "gneq_10 = [c for c in components1 if len(c)>=10]\n",
    "nodes_10 = [node for c in gneq_10 for node in c]\n",
    "sub_graph_geq10 = graph1.subgraph(nodes_10)\n",
    "print(len(sub_graph_geq10.nodes())/len(graph1.nodes()))\n",
    "print(len(sub_graph_geq10.edges())/len(graph1.edges()))"
   ]
  },
  {
   "cell_type": "code",
   "execution_count": 18,
   "metadata": {},
   "outputs": [],
   "source": [
    "components1_dist = Counter(components1_Size)"
   ]
  },
  {
   "cell_type": "code",
   "execution_count": 19,
   "metadata": {},
   "outputs": [],
   "source": [
    "sorted_components1_dist = dict(sorted(components1_dist.items(), key=lambda item: item[1],  reverse=True))"
   ]
  },
  {
   "cell_type": "code",
   "execution_count": 20,
   "metadata": {},
   "outputs": [],
   "source": [
    "avg_comp_size=sum(components1_Size)/len(components1_Size)"
   ]
  },
  {
   "cell_type": "code",
   "execution_count": 21,
   "metadata": {},
   "outputs": [
    {
     "data": {
      "text/plain": [
       "[2603, 2520, 2244, 2170, 1866, 1578, 1427, 1310, 1033, 719]"
      ]
     },
     "execution_count": 21,
     "metadata": {},
     "output_type": "execute_result"
    }
   ],
   "source": [
    "components1_Size[:10]"
   ]
  },
  {
   "cell_type": "code",
   "execution_count": 22,
   "metadata": {},
   "outputs": [],
   "source": [
    "#sorted_components1_dist"
   ]
  },
  {
   "cell_type": "code",
   "execution_count": 23,
   "metadata": {},
   "outputs": [],
   "source": [
    "# comp_10 ={}\n",
    "# nodes_10 = []\n",
    "# for a in sorted_components1_dist:\n",
    "#     if a >= 10:\n",
    "#         comp_10[a]=sorted_components1_dist[a]\n",
    "#         nodes_10.append(sorted_components1_dist[a]*a)\n",
    "# print(sum(comp_10.values())/sum(sorted_components1_dist.values()))\n",
    "# print(sum(nodes_10)/len(graph1.nodes()))"
   ]
  },
  {
   "cell_type": "code",
   "execution_count": 24,
   "metadata": {},
   "outputs": [
    {
     "data": {
      "text/plain": [
       "0.5362009522245936"
      ]
     },
     "execution_count": 24,
     "metadata": {},
     "output_type": "execute_result"
    }
   ],
   "source": [
    "sorted_components1_dist[2]/len(components1)"
   ]
  },
  {
   "cell_type": "code",
   "execution_count": 25,
   "metadata": {},
   "outputs": [
    {
     "data": {
      "text/plain": [
       "54819"
      ]
     },
     "execution_count": 25,
     "metadata": {},
     "output_type": "execute_result"
    }
   ],
   "source": [
    "sum(sorted_components1_dist.values())"
   ]
  },
  {
   "cell_type": "code",
   "execution_count": 26,
   "metadata": {},
   "outputs": [
    {
     "data": {
      "text/plain": [
       "[29394, 9439, 4722, 2804, 1832, 1338, 893, 693]"
      ]
     },
     "execution_count": 26,
     "metadata": {},
     "output_type": "execute_result"
    }
   ],
   "source": [
    "list(sorted_components1_dist.values())[0:8]"
   ]
  },
  {
   "cell_type": "code",
   "execution_count": 27,
   "metadata": {},
   "outputs": [
    {
     "data": {
      "text/plain": [
       "0.9324321859209398"
      ]
     },
     "execution_count": 27,
     "metadata": {},
     "output_type": "execute_result"
    }
   ],
   "source": [
    "sum(list(sorted_components1_dist.values())[0:8])/sum(sorted_components1_dist.values())"
   ]
  },
  {
   "cell_type": "code",
   "execution_count": 28,
   "metadata": {},
   "outputs": [
    {
     "data": {
      "image/png": "[encoded data removed]",
      "text/plain": [
       "<Figure size 864x576 with 1 Axes>"
      ]
     },
     "metadata": {
      "needs_background": "light"
     },
     "output_type": "display_data"
    },
    {
     "name": "stdout",
     "output_type": "stream",
     "text": [
      "[5.473e+04 5.600e+01 1.100e+01 7.000e+00 3.000e+00 1.000e+00 1.000e+00\n",
      " 1.000e+00 0.000e+00 0.000e+00 1.000e+00 0.000e+00 0.000e+00 1.000e+00\n",
      " 1.000e+00 1.000e+00 0.000e+00 0.000e+00 1.000e+00 0.000e+00 0.000e+00\n",
      " 1.000e+00 1.000e+00 0.000e+00 0.000e+00 2.000e+00]\n",
      "[1.00000000e+00 1.01076923e+02 2.01153846e+02 3.01230769e+02\n",
      " 4.01307692e+02 5.01384615e+02 6.01461538e+02 7.01538462e+02\n",
      " 8.01615385e+02 9.01692308e+02 1.00176923e+03 1.10184615e+03\n",
      " 1.20192308e+03 1.30200000e+03 1.40207692e+03 1.50215385e+03\n",
      " 1.60223077e+03 1.70230769e+03 1.80238462e+03 1.90246154e+03\n",
      " 2.00253846e+03 2.10261538e+03 2.20269231e+03 2.30276923e+03\n",
      " 2.40284615e+03 2.50292308e+03 2.60300000e+03]\n"
     ]
    }
   ],
   "source": [
    "draw_bar_graph(components1_Size,title='',ylabel='Count',xlabel='Component Size',loc=\"../new_graphs/WeaklyConnectedComponentDistributionHist1.svg\",bins=26, text=True)"
   ]
  },
  {
   "cell_type": "code",
   "execution_count": 29,
   "metadata": {},
   "outputs": [
    {
     "data": {
      "image/png": "[encoded data removed]",
      "text/plain": [
       "<Figure size 864x576 with 1 Axes>"
      ]
     },
     "metadata": {
      "needs_background": "light"
     },
     "output_type": "display_data"
    },
    {
     "name": "stdout",
     "output_type": "stream",
     "text": [
      "(1, 2, 3, 4, 5, 6, 7, 8, 9, 10, 11, 12, 13, 14, 15, 16, 17, 18, 19, 20, 21, 22, 23, 24, 25, 26, 27, 28, 29, 30, 31, 32, 33, 34, 35, 36, 37, 38, 39, 40, 41, 42, 43, 44, 45, 46, 47, 48, 49, 50, 51, 52, 53, 54, 55, 56, 57, 58, 59, 60, 61, 62, 63, 64, 65, 66, 67, 68, 69, 70, 71, 72, 73, 74, 75, 77, 78, 80, 82, 83, 85, 86, 88, 89, 90, 91, 92, 93, 94, 97, 99, 101, 102, 103, 105, 107, 108, 110, 111, 112, 113, 117, 120, 121, 122, 124, 125, 126, 128, 130, 132, 135, 140, 145, 146, 149, 150, 153, 157, 158, 159, 162, 165, 166, 167, 171, 172, 173, 176, 185, 186, 188, 198, 201, 210, 215, 220, 228, 239, 245, 254, 263, 268, 270, 305, 342, 343, 349, 355, 368, 385, 423, 444, 453, 547, 665, 719, 1033, 1310, 1427, 1578, 1866, 2170, 2244, 2520, 2603)\n",
      "(84, 29394, 9439, 4722, 2804, 1832, 1338, 893, 693, 556, 436, 322, 285, 246, 217, 168, 128, 118, 102, 73, 78, 67, 42, 49, 52, 45, 33, 33, 48, 31, 20, 28, 26, 22, 22, 14, 15, 12, 13, 12, 12, 15, 11, 11, 8, 10, 4, 4, 7, 5, 7, 6, 2, 4, 6, 7, 4, 10, 4, 5, 2, 6, 4, 2, 3, 3, 3, 1, 4, 3, 3, 1, 3, 4, 2, 5, 2, 2, 1, 1, 1, 3, 1, 2, 1, 1, 3, 1, 1, 3, 1, 3, 3, 2, 1, 1, 3, 1, 1, 1, 2, 1, 1, 1, 1, 2, 1, 1, 2, 1, 3, 1, 1, 1, 1, 1, 1, 1, 1, 1, 1, 2, 1, 1, 1, 2, 2, 1, 1, 2, 1, 1, 1, 1, 1, 1, 1, 2, 1, 1, 1, 1, 1, 1, 1, 1, 1, 1, 1, 1, 1, 1, 1, 1, 1, 1, 1, 1, 1, 1, 1, 1, 1, 1, 1, 1)\n"
     ]
    }
   ],
   "source": [
    "draw_line_graph(components1_dist,title='',ylabel='Component Count',xlabel='Component Size',loc=\"../new_graphs/WeaklyConnectedComponentDistributionLine1.svg\")"
   ]
  },
  {
   "cell_type": "code",
   "execution_count": 30,
   "metadata": {},
   "outputs": [],
   "source": [
    "#components1_dist_sort"
   ]
  },
  {
   "cell_type": "code",
   "execution_count": 31,
   "metadata": {},
   "outputs": [],
   "source": [
    "def save_df(df_name,df, folder1 = \"../\"):\n",
    "    df.to_csv(folder1+\"top_10/researcher_level/\"+df_name+\".csv\", index=False)\n",
    "    print(f\"file saved as: {folder1}top_10/researcher_level/{df_name}.csv\")\n",
    "    return"
   ]
  },
  {
   "cell_type": "code",
   "execution_count": 32,
   "metadata": {},
   "outputs": [],
   "source": [
    "top=5"
   ]
  },
  {
   "cell_type": "markdown",
   "metadata": {},
   "source": [
    "<h2> Fecundity Distribution : </h2> "
   ]
  },
  {
   "cell_type": "code",
   "execution_count": 33,
   "metadata": {},
   "outputs": [],
   "source": [
    "out_dgr = graph1.out_degree()"
   ]
  },
  {
   "cell_type": "code",
   "execution_count": 34,
   "metadata": {},
   "outputs": [],
   "source": [
    "out_dgr = dict(out_dgr)"
   ]
  },
  {
   "cell_type": "code",
   "execution_count": 35,
   "metadata": {},
   "outputs": [],
   "source": [
    "out_dgr_dist = Counter(out_dgr.values())"
   ]
  },
  {
   "cell_type": "code",
   "execution_count": 36,
   "metadata": {},
   "outputs": [
    {
     "data": {
      "text/plain": [
       "0.7912946119487425"
      ]
     },
     "execution_count": 36,
     "metadata": {},
     "output_type": "execute_result"
    }
   ],
   "source": [
    "avg_fecun = sum(list(out_dgr.values()))/len(list(out_dgr.values()))\n",
    "avg_fecun"
   ]
  },
  {
   "cell_type": "code",
   "execution_count": 37,
   "metadata": {},
   "outputs": [],
   "source": [
    "#out_dgr_dist"
   ]
  },
  {
   "cell_type": "code",
   "execution_count": 38,
   "metadata": {},
   "outputs": [
    {
     "data": {
      "image/png": "[encoded data removed]",
      "text/plain": [
       "<Figure size 864x576 with 1 Axes>"
      ]
     },
     "metadata": {
      "needs_background": "light"
     },
     "output_type": "display_data"
    },
    {
     "name": "stdout",
     "output_type": "stream",
     "text": [
      "[2.47538e+05 4.10400e+03 8.05000e+02 2.14000e+02 6.90000e+01 2.00000e+01\n",
      " 9.00000e+00 2.00000e+00 1.00000e+00 0.00000e+00 0.00000e+00 0.00000e+00\n",
      " 0.00000e+00 0.00000e+00 0.00000e+00 1.00000e+00]\n",
      "[  0.   8.  16.  24.  32.  40.  48.  56.  64.  72.  80.  88.  96. 104.\n",
      " 112. 120. 128.]\n"
     ]
    }
   ],
   "source": [
    "draw_bar_graph(list(out_dgr.values()),title='',ylabel='Researcher Count',xlabel='Fecundity Value',loc=\"../new_graphs/FecundityDistributionHist1.svg\", bins=16, text=True,print_bin=True)"
   ]
  },
  {
   "cell_type": "code",
   "execution_count": 39,
   "metadata": {},
   "outputs": [],
   "source": [
    "top_5_fecun=sorted(out_dgr, key=out_dgr.get, reverse=True)[:top]"
   ]
  },
  {
   "cell_type": "code",
   "execution_count": 40,
   "metadata": {},
   "outputs": [],
   "source": [
    "top_5_detail=get_names_inst_dept(mod_ment2,top_5_fecun,'advId')"
   ]
  },
  {
   "cell_type": "code",
   "execution_count": 41,
   "metadata": {},
   "outputs": [],
   "source": [
    "top_5_detail['adv_id'] = top_5_detail.index\n",
    "top_5_detail = top_5_detail[[\"adv_id\",\"advisor_name\",\"publisher_institution\"]]"
   ]
  },
  {
   "cell_type": "code",
   "execution_count": 42,
   "metadata": {},
   "outputs": [
    {
     "data": {
      "text/html": [
       "<div>\n",
       "<style scoped>\n",
       "    .dataframe tbody tr th:only-of-type {\n",
       "        vertical-align: middle;\n",
       "    }\n",
       "\n",
       "    .dataframe tbody tr th {\n",
       "        vertical-align: top;\n",
       "    }\n",
       "\n",
       "    .dataframe thead th {\n",
       "        text-align: right;\n",
       "    }\n",
       "</style>\n",
       "<table border=\"1\" class=\"dataframe\">\n",
       "  <thead>\n",
       "    <tr style=\"text-align: right;\">\n",
       "      <th></th>\n",
       "      <th>adv_id</th>\n",
       "      <th>advisor_name</th>\n",
       "      <th>publisher_institution</th>\n",
       "    </tr>\n",
       "    <tr>\n",
       "      <th>advId</th>\n",
       "      <th></th>\n",
       "      <th></th>\n",
       "      <th></th>\n",
       "    </tr>\n",
       "  </thead>\n",
       "  <tbody>\n",
       "    <tr>\n",
       "      <th>144109</th>\n",
       "      <td>144109</td>\n",
       "      <td>Mohan S.</td>\n",
       "      <td>Alagappa University; University of Madras</td>\n",
       "    </tr>\n",
       "    <tr>\n",
       "      <th>88147</th>\n",
       "      <td>88147</td>\n",
       "      <td>Shinde, Gb</td>\n",
       "      <td>Dr. Babasaheb Ambedkar Marathwada University</td>\n",
       "    </tr>\n",
       "    <tr>\n",
       "      <th>88399</th>\n",
       "      <td>88399</td>\n",
       "      <td>Nagabhushanam, R.</td>\n",
       "      <td>Dr. Babasaheb Ambedkar Marathwada University</td>\n",
       "    </tr>\n",
       "    <tr>\n",
       "      <th>26894</th>\n",
       "      <td>26894</td>\n",
       "      <td>Bhattacharjee, Tapodhir</td>\n",
       "      <td>Assam University</td>\n",
       "    </tr>\n",
       "    <tr>\n",
       "      <th>2013</th>\n",
       "      <td>2013</td>\n",
       "      <td>Arora, R. C.</td>\n",
       "      <td>Bundelkhand University</td>\n",
       "    </tr>\n",
       "  </tbody>\n",
       "</table>\n",
       "</div>"
      ],
      "text/plain": [
       "        adv_id             advisor_name                         publisher_institution\n",
       "advId                                                                                \n",
       "144109  144109                 Mohan S.     Alagappa University; University of Madras\n",
       "88147    88147               Shinde, Gb  Dr. Babasaheb Ambedkar Marathwada University\n",
       "88399    88399        Nagabhushanam, R.  Dr. Babasaheb Ambedkar Marathwada University\n",
       "26894    26894  Bhattacharjee, Tapodhir                              Assam University\n",
       "2013      2013             Arora, R. C.                        Bundelkhand University"
      ]
     },
     "execution_count": 42,
     "metadata": {},
     "output_type": "execute_result"
    }
   ],
   "source": [
    "top_5_detail"
   ]
  },
  {
   "cell_type": "code",
   "execution_count": 43,
   "metadata": {},
   "outputs": [
    {
     "name": "stdout",
     "output_type": "stream",
     "text": [
      "\\begin{tabular}{rll}\n",
      "\\toprule\n",
      " adv\\_id &             advisor\\_name &                         publisher\\_institution \\\\\n",
      " 144109 &                 Mohan S. &     Alagappa University; University of Madras \\\\\n",
      "\\midrule\n",
      "  88147 &               Shinde, Gb &  Dr. Babasaheb Ambedkar Marathwada University \\\\\n",
      "  88399 &        Nagabhushanam, R. &  Dr. Babasaheb Ambedkar Marathwada University \\\\\n",
      "  26894 &  Bhattacharjee, Tapodhir &                              Assam University \\\\\n",
      "   2013 &             Arora, R. C. &                        Bundelkhand University \\\\\n",
      "\\bottomrule\n",
      "\\end{tabular}\n",
      "\n"
     ]
    }
   ],
   "source": [
    "print(top_5_detail.to_latex(index=False))"
   ]
  },
  {
   "cell_type": "code",
   "execution_count": 44,
   "metadata": {},
   "outputs": [
    {
     "name": "stdout",
     "output_type": "stream",
     "text": [
      "file saved as: ../top_10/researcher_level/researcher_fecundity.csv\n"
     ]
    }
   ],
   "source": [
    "save_df(\"researcher_fecundity\", top_5_detail)"
   ]
  },
  {
   "cell_type": "code",
   "execution_count": 45,
   "metadata": {},
   "outputs": [
    {
     "name": "stdout",
     "output_type": "stream",
     "text": [
      "file save successfully in folder : ../save_data/\n"
     ]
    }
   ],
   "source": [
    "save_obj('fecundity_dist',out_dgr)"
   ]
  },
  {
   "cell_type": "code",
   "execution_count": 46,
   "metadata": {},
   "outputs": [
    {
     "data": {
      "image/png": "[encoded data removed]",
      "text/plain": [
       "<Figure size 864x576 with 1 Axes>"
      ]
     },
     "metadata": {
      "needs_background": "light"
     },
     "output_type": "display_data"
    },
    {
     "name": "stdout",
     "output_type": "stream",
     "text": [
      "(0, 1, 2, 3, 4, 5, 6, 7, 8, 9, 10, 11, 12, 13, 14, 15, 16, 17, 18, 19, 20, 21, 22, 23, 24, 25, 26, 27, 28, 29, 30, 31, 32, 33, 34, 35, 36, 37, 38, 39, 40, 41, 42, 43, 44, 46, 47, 48, 49, 50, 52, 53, 55, 57, 60, 65, 128)\n",
      "(179378, 39936, 12033, 6439, 3895, 2603, 1945, 1309, 1032, 815, 594, 475, 386, 323, 265, 214, 173, 143, 114, 108, 88, 73, 53, 53, 32, 38, 35, 31, 25, 25, 13, 15, 11, 13, 13, 13, 6, 1, 8, 4, 2, 2, 2, 5, 4, 3, 2, 2, 1, 2, 1, 1, 2, 1, 1, 1, 1)\n"
     ]
    }
   ],
   "source": [
    "draw_line_graph(out_dgr_dist, title='',ylabel='Researcher Count',xlabel='Fecundity Value',loc=\"../new_graphs/FecundityDistributionLine1.svg\")"
   ]
  },
  {
   "cell_type": "code",
   "execution_count": 47,
   "metadata": {},
   "outputs": [],
   "source": [
    "#out_dgr_dist"
   ]
  },
  {
   "cell_type": "markdown",
   "metadata": {},
   "source": [
    "<h2> Fertility: </h2>"
   ]
  },
  {
   "cell_type": "code",
   "execution_count": 48,
   "metadata": {},
   "outputs": [],
   "source": [
    "#len([k for k, v in graph1.out_degree(graph1.successors(1234)) if v > 0])"
   ]
  },
  {
   "cell_type": "code",
   "execution_count": 49,
   "metadata": {},
   "outputs": [],
   "source": [
    "fertile=fertility_calculation(graph1)"
   ]
  },
  {
   "cell_type": "code",
   "execution_count": 50,
   "metadata": {},
   "outputs": [],
   "source": [
    "#save_obj('fertility_dist',fertile)"
   ]
  },
  {
   "cell_type": "code",
   "execution_count": 51,
   "metadata": {},
   "outputs": [
    {
     "data": {
      "image/png": "[encoded data removed]",
      "text/plain": [
       "<Figure size 864x576 with 1 Axes>"
      ]
     },
     "metadata": {
      "needs_background": "light"
     },
     "output_type": "display_data"
    },
    {
     "name": "stdout",
     "output_type": "stream",
     "text": [
      "[2.45623e+05 5.60600e+03 1.00100e+03 3.27000e+02 1.02000e+02 4.90000e+01\n",
      " 2.40000e+01 1.30000e+01 1.10000e+01 4.00000e+00 3.00000e+00]\n",
      "[ 0.  1.  2.  3.  4.  5.  6.  7.  8.  9. 10. 11.]\n"
     ]
    }
   ],
   "source": [
    "draw_bar_graph(list(fertile.values()),title='',ylabel='Researcher Count',xlabel='Fertility Value',loc=\"../new_graphs/FertilityDistributionHist1.svg\",bins=11, text=True, print_bin=True)"
   ]
  },
  {
   "cell_type": "code",
   "execution_count": 52,
   "metadata": {},
   "outputs": [],
   "source": [
    "fertile_dist = Counter(fertile.values())"
   ]
  },
  {
   "cell_type": "code",
   "execution_count": 53,
   "metadata": {},
   "outputs": [],
   "source": [
    "top_5_fert=sorted(fertile, key=fertile.get, reverse=True)[:top]"
   ]
  },
  {
   "cell_type": "code",
   "execution_count": 54,
   "metadata": {},
   "outputs": [
    {
     "data": {
      "text/plain": [
       "[36120, 48103, 85237, 22853, 144109]"
      ]
     },
     "execution_count": 54,
     "metadata": {},
     "output_type": "execute_result"
    }
   ],
   "source": [
    "top_5_fert"
   ]
  },
  {
   "cell_type": "code",
   "execution_count": 55,
   "metadata": {},
   "outputs": [],
   "source": [
    "top_5_detail=get_names_inst_dept(mod_ment2,top_5_fert,'advId')"
   ]
  },
  {
   "cell_type": "code",
   "execution_count": 56,
   "metadata": {},
   "outputs": [
    {
     "data": {
      "text/html": [
       "<div>\n",
       "<style scoped>\n",
       "    .dataframe tbody tr th:only-of-type {\n",
       "        vertical-align: middle;\n",
       "    }\n",
       "\n",
       "    .dataframe tbody tr th {\n",
       "        vertical-align: top;\n",
       "    }\n",
       "\n",
       "    .dataframe thead th {\n",
       "        text-align: right;\n",
       "    }\n",
       "</style>\n",
       "<table border=\"1\" class=\"dataframe\">\n",
       "  <thead>\n",
       "    <tr style=\"text-align: right;\">\n",
       "      <th></th>\n",
       "      <th>advisor_name</th>\n",
       "      <th>publisher_institution</th>\n",
       "      <th>publisher_dept</th>\n",
       "    </tr>\n",
       "    <tr>\n",
       "      <th>advId</th>\n",
       "      <th></th>\n",
       "      <th></th>\n",
       "      <th></th>\n",
       "    </tr>\n",
       "  </thead>\n",
       "  <tbody>\n",
       "    <tr>\n",
       "      <th>36120</th>\n",
       "      <td>Hariharan, S.</td>\n",
       "      <td>Bharathidasan University</td>\n",
       "      <td>department of commerce and financial studies</td>\n",
       "    </tr>\n",
       "    <tr>\n",
       "      <th>48103</th>\n",
       "      <td>Shanmugasundaram, S.</td>\n",
       "      <td>Periyar University</td>\n",
       "      <td>department of commerce</td>\n",
       "    </tr>\n",
       "    <tr>\n",
       "      <th>85237</th>\n",
       "      <td>Hiremath, R. C.</td>\n",
       "      <td>Karnatak University</td>\n",
       "      <td>department of kannada; department of linguistics</td>\n",
       "    </tr>\n",
       "    <tr>\n",
       "      <th>22853</th>\n",
       "      <td>Sharma, A.</td>\n",
       "      <td>University of Calcutta</td>\n",
       "      <td>department of science; department of agricultu...</td>\n",
       "    </tr>\n",
       "    <tr>\n",
       "      <th>144109</th>\n",
       "      <td>Mohan S.</td>\n",
       "      <td>Alagappa University; University of Madras</td>\n",
       "      <td>department of economics and rural development;...</td>\n",
       "    </tr>\n",
       "  </tbody>\n",
       "</table>\n",
       "</div>"
      ],
      "text/plain": [
       "                advisor_name                      publisher_institution                                     publisher_dept\n",
       "advId                                                                                                                     \n",
       "36120          Hariharan, S.                   Bharathidasan University       department of commerce and financial studies\n",
       "48103   Shanmugasundaram, S.                         Periyar University                             department of commerce\n",
       "85237        Hiremath, R. C.                        Karnatak University   department of kannada; department of linguistics\n",
       "22853             Sharma, A.                     University of Calcutta  department of science; department of agricultu...\n",
       "144109              Mohan S.  Alagappa University; University of Madras  department of economics and rural development;..."
      ]
     },
     "execution_count": 56,
     "metadata": {},
     "output_type": "execute_result"
    }
   ],
   "source": [
    "top_5_detail"
   ]
  },
  {
   "cell_type": "code",
   "execution_count": 57,
   "metadata": {},
   "outputs": [
    {
     "name": "stdout",
     "output_type": "stream",
     "text": [
      "\\begin{tabular}{rll}\n",
      "\\toprule\n",
      " adv\\_id &          advisor\\_name &                      publisher\\_institution \\\\\n",
      "  36120 &         Hariharan, S. &                   Bharathidasan University \\\\\n",
      "\\midrule\n",
      "  48103 &  Shanmugasundaram, S. &                         Periyar University \\\\\n",
      "  85237 &       Hiremath, R. C. &                        Karnatak University \\\\\n",
      "  22853 &            Sharma, A. &                     University of Calcutta \\\\\n",
      " 144109 &              Mohan S. &  Alagappa University; University of Madras \\\\\n",
      "\\bottomrule\n",
      "\\end{tabular}\n",
      "\n"
     ]
    }
   ],
   "source": [
    "top_5_detail['adv_id'] = top_5_detail.index\n",
    "top_5_detail = top_5_detail[[\"adv_id\",\"advisor_name\",\"publisher_institution\"]]\n",
    "print(top_5_detail.to_latex(index=False))"
   ]
  },
  {
   "cell_type": "code",
   "execution_count": null,
   "metadata": {},
   "outputs": [],
   "source": []
  },
  {
   "cell_type": "code",
   "execution_count": 58,
   "metadata": {},
   "outputs": [
    {
     "name": "stdout",
     "output_type": "stream",
     "text": [
      "file saved as: ../top_10/researcher_level/researcher_fertility.csv\n"
     ]
    }
   ],
   "source": [
    "save_df(\"researcher_fertility\", top_5_detail)"
   ]
  },
  {
   "cell_type": "code",
   "execution_count": 59,
   "metadata": {},
   "outputs": [],
   "source": [
    "#mod_ment2[mod_ment2['resId']==137564]"
   ]
  },
  {
   "cell_type": "code",
   "execution_count": 60,
   "metadata": {},
   "outputs": [],
   "source": [
    "#mod_ment2[mod_ment2['advId']==93541]"
   ]
  },
  {
   "cell_type": "code",
   "execution_count": 61,
   "metadata": {},
   "outputs": [
    {
     "data": {
      "image/png": "[encoded data removed]",
      "text/plain": [
       "<Figure size 864x576 with 1 Axes>"
      ]
     },
     "metadata": {
      "needs_background": "light"
     },
     "output_type": "display_data"
    },
    {
     "name": "stdout",
     "output_type": "stream",
     "text": [
      "(0, 1, 2, 3, 4, 5, 6, 7, 8, 9, 11)\n",
      "(245623, 5606, 1001, 327, 102, 49, 24, 13, 11, 4, 3)\n"
     ]
    }
   ],
   "source": [
    "draw_line_graph(fertile_dist,title='',ylabel='Researcher Count',xlabel='Fertility Value',loc=\"../new_graphs/FertilityDistributionLine1.svg\")"
   ]
  },
  {
   "cell_type": "markdown",
   "metadata": {},
   "source": [
    "<h2> Decendants Calculation : </h2>"
   ]
  },
  {
   "cell_type": "code",
   "execution_count": 163,
   "metadata": {},
   "outputs": [],
   "source": [
    "# def draw_bar_graph(metric_value_list,title='Fecundity Distribution',ylabel='Researcher Count',xlabel='Fecundity Value',bins=10, loc=\"../new_graphs/hist\", text=False, print_bin=False):\n",
    "#     #counts, bins = np.histogram(metric_value_list)\n",
    "#     plt.figure(figsize=(12,8))\n",
    "#     ax = plt.axes()\n",
    "#     n,bins,container=plt.hist(metric_value_list, bins=bins,color='#0504aa',density=False,log=True,rwidth=0.95)#  alpha=0.7\n",
    "#     #plt.hist(deg, color=\"b\", bins=bin_size)\n",
    "#     plt.yticks(fontsize=10,fontweight='bold')\n",
    "#     plt.xticks(fontsize=10,fontweight='bold')\n",
    "#     plt.title(title)\n",
    "#     plt.ylabel(ylabel,fontweight='bold', fontsize=20) #fontsize=18\n",
    "#     plt.xlabel(xlabel,fontweight='bold', fontsize=20)\n",
    "#     if text:\n",
    "#         for i,v in zip(bins[0:-1], n):\n",
    "#             if v > 0:\n",
    "#                 plt.text(i, v, str(int(v)), color='green', fontweight='bold',fontsize=16)\n",
    "#     if print_bin:\n",
    "#         ax.set_xticks([int(d) for d in bins])\n",
    "#         ax.set_xticklabels([int(b) for b in bins])\n",
    "#     #plt.xticks(bins[0::5])\n",
    "#     plt.savefig(loc,bbox_inches='tight')\n",
    "#     plt.show()\n",
    "#     print(n)\n",
    "#     print(bins)\n",
    "#     return"
   ]
  },
  {
   "cell_type": "code",
   "execution_count": 161,
   "metadata": {},
   "outputs": [],
   "source": [
    "desc_dist=desc_calculation(graph1)"
   ]
  },
  {
   "cell_type": "code",
   "execution_count": 162,
   "metadata": {},
   "outputs": [
    {
     "data": {
      "image/png": "[encoded data removed]",
      "text/plain": [
       "<Figure size 864x576 with 1 Axes>"
      ]
     },
     "metadata": {
      "needs_background": "light"
     },
     "output_type": "display_data"
    },
    {
     "name": "stdout",
     "output_type": "stream",
     "text": [
      "[2.48236e+05 3.03500e+03 8.09000e+02 2.97000e+02 1.80000e+02 6.80000e+01\n",
      " 5.00000e+01 3.20000e+01 1.50000e+01 1.20000e+01 7.00000e+00 5.00000e+00\n",
      " 3.00000e+00 2.00000e+00 6.00000e+00 0.00000e+00 1.00000e+00 1.00000e+00\n",
      " 0.00000e+00 2.00000e+00 0.00000e+00 1.00000e+00 0.00000e+00 0.00000e+00\n",
      " 0.00000e+00 1.00000e+00]\n",
      "[  0.          10.03846154  20.07692308  30.11538462  40.15384615\n",
      "  50.19230769  60.23076923  70.26923077  80.30769231  90.34615385\n",
      " 100.38461538 110.42307692 120.46153846 130.5        140.53846154\n",
      " 150.57692308 160.61538462 170.65384615 180.69230769 190.73076923\n",
      " 200.76923077 210.80769231 220.84615385 230.88461538 240.92307692\n",
      " 250.96153846 261.        ]\n"
     ]
    }
   ],
   "source": [
    "draw_bar_graph(list(desc_dist.values()),title='',ylabel='Researcher Count',xlabel='Descendant Value',loc=\"../new_graphs/DescendantsDistributionHist1.svg\", bins=26, text=True, print_bin=True)"
   ]
  },
  {
   "cell_type": "code",
   "execution_count": 65,
   "metadata": {},
   "outputs": [],
   "source": [
    "desc_dist_val = Counter(desc_dist.values())"
   ]
  },
  {
   "cell_type": "code",
   "execution_count": 66,
   "metadata": {},
   "outputs": [],
   "source": [
    "top_5_desc=sorted(desc_dist, key=desc_dist.get, reverse=True)[:top]"
   ]
  },
  {
   "cell_type": "code",
   "execution_count": 67,
   "metadata": {},
   "outputs": [
    {
     "data": {
      "text/plain": [
       "[24794, 144109, 85392, 85237, 89320]"
      ]
     },
     "execution_count": 67,
     "metadata": {},
     "output_type": "execute_result"
    }
   ],
   "source": [
    "top_5_desc"
   ]
  },
  {
   "cell_type": "code",
   "execution_count": 68,
   "metadata": {},
   "outputs": [
    {
     "data": {
      "text/html": [
       "<div>\n",
       "<style scoped>\n",
       "    .dataframe tbody tr th:only-of-type {\n",
       "        vertical-align: middle;\n",
       "    }\n",
       "\n",
       "    .dataframe tbody tr th {\n",
       "        vertical-align: top;\n",
       "    }\n",
       "\n",
       "    .dataframe thead th {\n",
       "        text-align: right;\n",
       "    }\n",
       "</style>\n",
       "<table border=\"1\" class=\"dataframe\">\n",
       "  <thead>\n",
       "    <tr style=\"text-align: right;\">\n",
       "      <th></th>\n",
       "      <th>advisor_name</th>\n",
       "      <th>publisher_institution</th>\n",
       "      <th>publisher_dept</th>\n",
       "    </tr>\n",
       "    <tr>\n",
       "      <th>advId</th>\n",
       "      <th></th>\n",
       "      <th></th>\n",
       "      <th></th>\n",
       "    </tr>\n",
       "  </thead>\n",
       "  <tbody>\n",
       "    <tr>\n",
       "      <th>24794</th>\n",
       "      <td>Shivarudrappa, G.</td>\n",
       "      <td>Karnatak University</td>\n",
       "      <td>department of education</td>\n",
       "    </tr>\n",
       "    <tr>\n",
       "      <th>144109</th>\n",
       "      <td>Mohan S.</td>\n",
       "      <td>Alagappa University; University of Madras</td>\n",
       "      <td>department of economics and rural development;...</td>\n",
       "    </tr>\n",
       "    <tr>\n",
       "      <th>85392</th>\n",
       "      <td>Handemath, S. C.</td>\n",
       "      <td>Karnatak University</td>\n",
       "      <td>department of kannada</td>\n",
       "    </tr>\n",
       "    <tr>\n",
       "      <th>85237</th>\n",
       "      <td>Hiremath, R. C.</td>\n",
       "      <td>Karnatak University</td>\n",
       "      <td>department of kannada; department of linguistics</td>\n",
       "    </tr>\n",
       "    <tr>\n",
       "      <th>89320</th>\n",
       "      <td>Ramasamy, P.</td>\n",
       "      <td>Anna University</td>\n",
       "      <td>faculty of science and humanities</td>\n",
       "    </tr>\n",
       "  </tbody>\n",
       "</table>\n",
       "</div>"
      ],
      "text/plain": [
       "             advisor_name                      publisher_institution                                     publisher_dept\n",
       "advId                                                                                                                  \n",
       "24794   Shivarudrappa, G.                        Karnatak University                            department of education\n",
       "144109           Mohan S.  Alagappa University; University of Madras  department of economics and rural development;...\n",
       "85392    Handemath, S. C.                        Karnatak University                              department of kannada\n",
       "85237     Hiremath, R. C.                        Karnatak University   department of kannada; department of linguistics\n",
       "89320        Ramasamy, P.                            Anna University                  faculty of science and humanities"
      ]
     },
     "execution_count": 68,
     "metadata": {},
     "output_type": "execute_result"
    }
   ],
   "source": [
    "top_5_detail=get_names_inst_dept(mod_ment2,top_5_desc,'advId')\n",
    "top_5_detail"
   ]
  },
  {
   "cell_type": "code",
   "execution_count": 69,
   "metadata": {},
   "outputs": [
    {
     "name": "stdout",
     "output_type": "stream",
     "text": [
      "file saved as: ../top_10/researcher_level/researcher_descendants.csv\n"
     ]
    }
   ],
   "source": [
    "save_df(\"researcher_descendants\", top_5_detail)"
   ]
  },
  {
   "cell_type": "code",
   "execution_count": 70,
   "metadata": {},
   "outputs": [
    {
     "data": {
      "image/png": "[encoded data removed]",
      "text/plain": [
       "<Figure size 864x576 with 1 Axes>"
      ]
     },
     "metadata": {
      "needs_background": "light"
     },
     "output_type": "display_data"
    },
    {
     "name": "stdout",
     "output_type": "stream",
     "text": [
      "(0, 1, 2, 3, 4, 5, 6, 7, 8, 9, 10, 11, 12, 13, 14, 15, 16, 17, 18, 19, 20, 21, 22, 23, 24, 25, 26, 27, 28, 29, 30, 31, 32, 33, 34, 35, 36, 37, 38, 39, 40, 41, 42, 43, 44, 45, 46, 47, 48, 49, 50, 51, 52, 53, 54, 55, 56, 57, 58, 59, 60, 61, 62, 63, 64, 65, 66, 67, 68, 69, 70, 71, 72, 73, 74, 75, 76, 77, 78, 79, 80, 82, 83, 84, 85, 86, 87, 88, 89, 90, 91, 92, 93, 94, 98, 99, 100, 101, 104, 105, 111, 112, 115, 120, 123, 130, 134, 137, 142, 145, 150, 163, 173, 192, 193, 219, 261)\n",
      "(179378, 38255, 11768, 6301, 3879, 2609, 1975, 1409, 1089, 897, 676, 571, 474, 405, 342, 299, 241, 205, 194, 164, 140, 122, 101, 111, 92, 73, 87, 56, 54, 63, 50, 48, 43, 26, 32, 25, 27, 28, 23, 23, 22, 30, 17, 27, 27, 25, 10, 12, 11, 13, 8, 10, 4, 6, 7, 7, 4, 9, 9, 7, 5, 5, 6, 13, 6, 3, 2, 3, 2, 6, 4, 3, 3, 6, 3, 4, 4, 2, 3, 3, 1, 1, 2, 1, 1, 1, 2, 4, 2, 1, 1, 3, 3, 1, 2, 1, 1, 3, 2, 2, 1, 1, 1, 2, 2, 1, 1, 1, 2, 2, 2, 1, 1, 1, 1, 1, 1)\n"
     ]
    }
   ],
   "source": [
    "draw_line_graph(desc_dist_val,title='',ylabel='Researcher Count',xlabel='Descendant Value',loc=\"../new_graphs/DescendantsDistributionLine1.svg\")"
   ]
  },
  {
   "cell_type": "code",
   "execution_count": 71,
   "metadata": {},
   "outputs": [],
   "source": [
    "#plt.savefig('hartford_degree_distribution.pdf')\n",
    "#plt.show()"
   ]
  },
  {
   "cell_type": "code",
   "execution_count": 72,
   "metadata": {},
   "outputs": [
    {
     "name": "stdout",
     "output_type": "stream",
     "text": [
      "\\begin{tabular}{rll}\n",
      "\\toprule\n",
      " adv\\_id &       advisor\\_name &                      publisher\\_institution \\\\\n",
      "  24794 &  Shivarudrappa, G. &                        Karnatak University \\\\\n",
      "\\midrule\n",
      " 144109 &           Mohan S. &  Alagappa University; University of Madras \\\\\n",
      "  85392 &   Handemath, S. C. &                        Karnatak University \\\\\n",
      "  85237 &    Hiremath, R. C. &                        Karnatak University \\\\\n",
      "  89320 &       Ramasamy, P. &                            Anna University \\\\\n",
      "\\bottomrule\n",
      "\\end{tabular}\n",
      "\n"
     ]
    }
   ],
   "source": [
    "top_5_detail['adv_id'] = top_5_detail.index\n",
    "top_5_detail = top_5_detail[[\"adv_id\",\"advisor_name\",\"publisher_institution\"]]\n",
    "print(top_5_detail.to_latex(index=False))"
   ]
  },
  {
   "cell_type": "markdown",
   "metadata": {},
   "source": [
    "<h2> Cousine Calculation :</h2>"
   ]
  },
  {
   "cell_type": "code",
   "execution_count": 73,
   "metadata": {},
   "outputs": [],
   "source": [
    "cousin_dict=cousins(graph1)"
   ]
  },
  {
   "cell_type": "code",
   "execution_count": 74,
   "metadata": {},
   "outputs": [],
   "source": [
    "cousin_dist = Counter(cousin_dict.values())"
   ]
  },
  {
   "cell_type": "code",
   "execution_count": 75,
   "metadata": {},
   "outputs": [],
   "source": [
    "#cousin_dist"
   ]
  },
  {
   "cell_type": "code",
   "execution_count": 76,
   "metadata": {},
   "outputs": [],
   "source": [
    "top_5_cousin=sorted(cousin_dict, key=cousin_dict.get, reverse=True)[:top]"
   ]
  },
  {
   "cell_type": "code",
   "execution_count": 77,
   "metadata": {},
   "outputs": [
    {
     "data": {
      "text/plain": [
       "[121605, 144110, 144144, 144097, 144099]"
      ]
     },
     "execution_count": 77,
     "metadata": {},
     "output_type": "execute_result"
    }
   ],
   "source": [
    "top_5_cousin"
   ]
  },
  {
   "cell_type": "code",
   "execution_count": 78,
   "metadata": {},
   "outputs": [
    {
     "data": {
      "text/html": [
       "<div>\n",
       "<style scoped>\n",
       "    .dataframe tbody tr th:only-of-type {\n",
       "        vertical-align: middle;\n",
       "    }\n",
       "\n",
       "    .dataframe tbody tr th {\n",
       "        vertical-align: top;\n",
       "    }\n",
       "\n",
       "    .dataframe thead th {\n",
       "        text-align: right;\n",
       "    }\n",
       "</style>\n",
       "<table border=\"1\" class=\"dataframe\">\n",
       "  <thead>\n",
       "    <tr style=\"text-align: right;\">\n",
       "      <th></th>\n",
       "      <th>researcher_name</th>\n",
       "      <th>publisher_institution</th>\n",
       "      <th>publisher_dept</th>\n",
       "    </tr>\n",
       "    <tr>\n",
       "      <th>resId</th>\n",
       "      <th></th>\n",
       "      <th></th>\n",
       "      <th></th>\n",
       "    </tr>\n",
       "  </thead>\n",
       "  <tbody>\n",
       "    <tr>\n",
       "      <th>121605</th>\n",
       "      <td>Ray, Debdutta</td>\n",
       "      <td>Jawaharlal Nehru University</td>\n",
       "      <td>school of social sciences</td>\n",
       "    </tr>\n",
       "    <tr>\n",
       "      <th>144110</th>\n",
       "      <td>Jagadeesh, D H.</td>\n",
       "      <td>Karnatak University</td>\n",
       "      <td>department of education</td>\n",
       "    </tr>\n",
       "    <tr>\n",
       "      <th>144144</th>\n",
       "      <td>Sattigeri, K I.</td>\n",
       "      <td>Karnatak University</td>\n",
       "      <td>department of education</td>\n",
       "    </tr>\n",
       "    <tr>\n",
       "      <th>144097</th>\n",
       "      <td>Vijayalakshmi, N.</td>\n",
       "      <td>Karnatak University</td>\n",
       "      <td>department of education</td>\n",
       "    </tr>\n",
       "    <tr>\n",
       "      <th>144099</th>\n",
       "      <td>Desai, Shantadevi S.</td>\n",
       "      <td>Karnatak University</td>\n",
       "      <td>department of education</td>\n",
       "    </tr>\n",
       "  </tbody>\n",
       "</table>\n",
       "</div>"
      ],
      "text/plain": [
       "             researcher_name        publisher_institution             publisher_dept\n",
       "resId                                                                               \n",
       "121605         Ray, Debdutta  Jawaharlal Nehru University  school of social sciences\n",
       "144110       Jagadeesh, D H.          Karnatak University    department of education\n",
       "144144       Sattigeri, K I.          Karnatak University    department of education\n",
       "144097     Vijayalakshmi, N.          Karnatak University    department of education\n",
       "144099  Desai, Shantadevi S.          Karnatak University    department of education"
      ]
     },
     "execution_count": 78,
     "metadata": {},
     "output_type": "execute_result"
    }
   ],
   "source": [
    "top_5_detail=get_names_inst_dept(mod_ment2, top_5_cousin, 'resId',cols=['researcher_name','publisher_institution','publisher_dept'])\n",
    "top_5_detail"
   ]
  },
  {
   "cell_type": "code",
   "execution_count": 79,
   "metadata": {},
   "outputs": [
    {
     "name": "stdout",
     "output_type": "stream",
     "text": [
      "\\begin{tabular}{rll}\n",
      "\\toprule\n",
      " adv\\_id &       researcher\\_name &        publisher\\_institution \\\\\n",
      " 121605 &         Ray, Debdutta &  Jawaharlal Nehru University \\\\\n",
      "\\midrule\n",
      " 144110 &       Jagadeesh, D H. &          Karnatak University \\\\\n",
      " 144144 &       Sattigeri, K I. &          Karnatak University \\\\\n",
      " 144097 &     Vijayalakshmi, N. &          Karnatak University \\\\\n",
      " 144099 &  Desai, Shantadevi S. &          Karnatak University \\\\\n",
      "\\bottomrule\n",
      "\\end{tabular}\n",
      "\n"
     ]
    }
   ],
   "source": [
    "top_5_detail['adv_id'] = top_5_detail.index\n",
    "top_5_detail = top_5_detail[[\"adv_id\",\"researcher_name\",\"publisher_institution\"]]\n",
    "print(top_5_detail.to_latex(index=False))"
   ]
  },
  {
   "cell_type": "code",
   "execution_count": 80,
   "metadata": {},
   "outputs": [
    {
     "name": "stdout",
     "output_type": "stream",
     "text": [
      "file saved as: ../top_10/researcher_level/researcher_cousin.csv\n"
     ]
    }
   ],
   "source": [
    "save_df(\"researcher_cousin\", top_5_detail)"
   ]
  },
  {
   "cell_type": "code",
   "execution_count": 81,
   "metadata": {},
   "outputs": [
    {
     "data": {
      "image/png": "[encoded data removed]",
      "text/plain": [
       "<Figure size 864x576 with 1 Axes>"
      ]
     },
     "metadata": {
      "needs_background": "light"
     },
     "output_type": "display_data"
    },
    {
     "name": "stdout",
     "output_type": "stream",
     "text": [
      "[2.44374e+05 3.97600e+03 1.77500e+03 9.52000e+02 5.40000e+02 4.57000e+02\n",
      " 2.71000e+02 1.84000e+02 8.10000e+01 7.50000e+01 1.70000e+01 2.50000e+01\n",
      " 8.00000e+00 2.00000e+01 8.00000e+00]\n",
      "[  0.           9.93333333  19.86666667  29.8         39.73333333\n",
      "  49.66666667  59.6         69.53333333  79.46666667  89.4\n",
      "  99.33333333 109.26666667 119.2        129.13333333 139.06666667\n",
      " 149.        ]\n"
     ]
    }
   ],
   "source": [
    "draw_bar_graph(list(cousin_dict.values()),title='',ylabel='Researcher Count',xlabel='Cousin Value',loc=\"../new_graphs/CousineDistributionHist1.svg\",bins=15,text=True, print_bin=True)"
   ]
  },
  {
   "cell_type": "code",
   "execution_count": 82,
   "metadata": {},
   "outputs": [
    {
     "data": {
      "text/plain": [
       "149"
      ]
     },
     "execution_count": 82,
     "metadata": {},
     "output_type": "execute_result"
    }
   ],
   "source": [
    "cousin_dict[121605]"
   ]
  },
  {
   "cell_type": "code",
   "execution_count": 83,
   "metadata": {},
   "outputs": [
    {
     "data": {
      "image/png": "[encoded data removed]",
      "text/plain": [
       "<Figure size 864x576 with 1 Axes>"
      ]
     },
     "metadata": {
      "needs_background": "light"
     },
     "output_type": "display_data"
    },
    {
     "name": "stdout",
     "output_type": "stream",
     "text": [
      "(0, 1, 2, 3, 4, 5, 6, 7, 8, 9, 10, 11, 12, 13, 14, 15, 16, 17, 18, 19, 20, 21, 22, 23, 24, 25, 26, 27, 28, 29, 30, 31, 32, 33, 34, 35, 36, 37, 38, 39, 40, 41, 42, 43, 44, 45, 46, 47, 48, 49, 50, 51, 52, 53, 54, 55, 56, 57, 58, 59, 60, 61, 62, 63, 64, 65, 66, 67, 68, 69, 70, 71, 72, 73, 74, 75, 76, 77, 78, 79, 80, 82, 83, 84, 86, 89, 90, 91, 92, 93, 94, 96, 98, 100, 102, 107, 112, 114, 116, 118, 122, 130, 132, 135, 145, 146, 148, 149)\n",
      "(234965, 1933, 1498, 1207, 1089, 900, 844, 668, 584, 686, 528, 554, 295, 441, 453, 444, 320, 258, 317, 366, 182, 169, 254, 166, 175, 150, 198, 168, 144, 169, 50, 90, 132, 97, 131, 86, 127, 63, 41, 135, 93, 87, 51, 33, 28, 44, 74, 33, 39, 58, 69, 73, 130, 12, 41, 14, 28, 49, 31, 10, 20, 31, 21, 37, 23, 15, 38, 41, 9, 36, 37, 3, 29, 12, 8, 34, 26, 4, 9, 22, 14, 3, 4, 30, 29, 1, 12, 11, 22, 2, 3, 24, 1, 15, 1, 1, 2, 12, 10, 1, 8, 4, 1, 15, 1, 4, 2, 1)\n"
     ]
    }
   ],
   "source": [
    "draw_line_graph(cousin_dist,title='',ylabel='Researcher Count',xlabel='Cousine Value',loc=\"../new_graphs/CousineDistributionLine1.svg\")"
   ]
  },
  {
   "cell_type": "markdown",
   "metadata": {},
   "source": [
    "<h2> Generation Calculation : </h2>"
   ]
  },
  {
   "cell_type": "code",
   "execution_count": 84,
   "metadata": {},
   "outputs": [],
   "source": [
    "#graph1.has_edge( 18773,18760)"
   ]
  },
  {
   "cell_type": "code",
   "execution_count": 85,
   "metadata": {},
   "outputs": [
    {
     "name": "stdout",
     "output_type": "stream",
     "text": [
      "completed :0 nodes\n",
      "completed :100000 nodes\n",
      "completed :200000 nodes\n"
     ]
    }
   ],
   "source": [
    "gen_dict=Generation(graph1)"
   ]
  },
  {
   "cell_type": "code",
   "execution_count": 86,
   "metadata": {},
   "outputs": [],
   "source": [
    "gen_dist = Counter(gen_dict.values())"
   ]
  },
  {
   "cell_type": "code",
   "execution_count": 87,
   "metadata": {},
   "outputs": [
    {
     "data": {
      "image/png": "[encoded data removed]",
      "text/plain": [
       "<Figure size 864x576 with 1 Axes>"
      ]
     },
     "metadata": {
      "needs_background": "light"
     },
     "output_type": "display_data"
    },
    {
     "name": "stdout",
     "output_type": "stream",
     "text": [
      "[1.79378e+05 6.62450e+04 5.87300e+03 1.02600e+03 1.84000e+02 4.20000e+01\n",
      " 1.20000e+01 3.00000e+00]\n",
      "[0. 1. 2. 3. 4. 5. 6. 7. 8.]\n"
     ]
    }
   ],
   "source": [
    "draw_bar_graph(list(gen_dict.values()),title='',ylabel='Researcher Count',xlabel='Generation Value',bins=8,loc=\"../new_graphs/GenerationDistributionHist1.svg\",text=True, print_bin=True)"
   ]
  },
  {
   "cell_type": "code",
   "execution_count": 88,
   "metadata": {},
   "outputs": [],
   "source": [
    "top_5_gen=sorted(gen_dict, key=gen_dict.get, reverse=True)[:top]"
   ]
  },
  {
   "cell_type": "code",
   "execution_count": 89,
   "metadata": {},
   "outputs": [
    {
     "data": {
      "text/plain": [
       "[3119, 100228, 50786, 3111, 8017]"
      ]
     },
     "execution_count": 89,
     "metadata": {},
     "output_type": "execute_result"
    }
   ],
   "source": [
    "top_5_gen"
   ]
  },
  {
   "cell_type": "code",
   "execution_count": 90,
   "metadata": {},
   "outputs": [
    {
     "data": {
      "text/html": [
       "<div>\n",
       "<style scoped>\n",
       "    .dataframe tbody tr th:only-of-type {\n",
       "        vertical-align: middle;\n",
       "    }\n",
       "\n",
       "    .dataframe tbody tr th {\n",
       "        vertical-align: top;\n",
       "    }\n",
       "\n",
       "    .dataframe thead th {\n",
       "        text-align: right;\n",
       "    }\n",
       "</style>\n",
       "<table border=\"1\" class=\"dataframe\">\n",
       "  <thead>\n",
       "    <tr style=\"text-align: right;\">\n",
       "      <th></th>\n",
       "      <th>advisor_name</th>\n",
       "      <th>publisher_institution</th>\n",
       "      <th>publisher_dept</th>\n",
       "    </tr>\n",
       "    <tr>\n",
       "      <th>advId</th>\n",
       "      <th></th>\n",
       "      <th></th>\n",
       "      <th></th>\n",
       "    </tr>\n",
       "  </thead>\n",
       "  <tbody>\n",
       "    <tr>\n",
       "      <th>3119</th>\n",
       "      <td>Ramakrishnan, S. S.</td>\n",
       "      <td>Bharathiar University</td>\n",
       "      <td>department of mechanical engineering; departme...</td>\n",
       "    </tr>\n",
       "    <tr>\n",
       "      <th>100228</th>\n",
       "      <td>Balusamy V.</td>\n",
       "      <td>Anna University</td>\n",
       "      <td>faculty of mechanical engineering</td>\n",
       "    </tr>\n",
       "    <tr>\n",
       "      <th>50786</th>\n",
       "      <td>Upadhayaya, Devi Prasad</td>\n",
       "      <td>V. B. S. Purvanchal University</td>\n",
       "      <td>department of geography</td>\n",
       "    </tr>\n",
       "    <tr>\n",
       "      <th>3111</th>\n",
       "      <td>Aravindan, P.</td>\n",
       "      <td>Bharathiar University</td>\n",
       "      <td>department of mechanical engineering</td>\n",
       "    </tr>\n",
       "    <tr>\n",
       "      <th>8017</th>\n",
       "      <td>Rao, An</td>\n",
       "      <td>Anna University</td>\n",
       "      <td>faculty of mechanical engineering</td>\n",
       "    </tr>\n",
       "  </tbody>\n",
       "</table>\n",
       "</div>"
      ],
      "text/plain": [
       "                   advisor_name           publisher_institution                                     publisher_dept\n",
       "advId                                                                                                             \n",
       "3119        Ramakrishnan, S. S.           Bharathiar University  department of mechanical engineering; departme...\n",
       "100228              Balusamy V.                 Anna University                  faculty of mechanical engineering\n",
       "50786   Upadhayaya, Devi Prasad  V. B. S. Purvanchal University                            department of geography\n",
       "3111              Aravindan, P.           Bharathiar University               department of mechanical engineering\n",
       "8017                    Rao, An                 Anna University                  faculty of mechanical engineering"
      ]
     },
     "execution_count": 90,
     "metadata": {},
     "output_type": "execute_result"
    }
   ],
   "source": [
    "top_5_detail=get_names_inst_dept(mod_ment2, top_5_gen, 'advId')\n",
    "top_5_detail"
   ]
  },
  {
   "cell_type": "code",
   "execution_count": 91,
   "metadata": {},
   "outputs": [
    {
     "name": "stdout",
     "output_type": "stream",
     "text": [
      "\\begin{tabular}{rll}\n",
      "\\toprule\n",
      " adv\\_id &             advisor\\_name &           publisher\\_institution \\\\\n",
      "   3119 &      Ramakrishnan, S. S. &           Bharathiar University \\\\\n",
      "\\midrule\n",
      " 100228 &              Balusamy V. &                 Anna University \\\\\n",
      "  50786 &  Upadhayaya, Devi Prasad &  V. B. S. Purvanchal University \\\\\n",
      "   3111 &            Aravindan, P. &           Bharathiar University \\\\\n",
      "   8017 &                  Rao, An &                 Anna University \\\\\n",
      "\\bottomrule\n",
      "\\end{tabular}\n",
      "\n"
     ]
    }
   ],
   "source": [
    "top_5_detail['adv_id'] = top_5_detail.index\n",
    "top_5_detail = top_5_detail[[\"adv_id\",\"advisor_name\",\"publisher_institution\"]]\n",
    "print(top_5_detail.to_latex(index=False))"
   ]
  },
  {
   "cell_type": "code",
   "execution_count": 92,
   "metadata": {},
   "outputs": [
    {
     "name": "stdout",
     "output_type": "stream",
     "text": [
      "file saved as: ../top_10/researcher_level/researcher_generation.csv\n"
     ]
    }
   ],
   "source": [
    "save_df(\"researcher_generation\", top_5_detail)"
   ]
  },
  {
   "cell_type": "code",
   "execution_count": 93,
   "metadata": {},
   "outputs": [
    {
     "data": {
      "text/plain": [
       "6"
      ]
     },
     "execution_count": 93,
     "metadata": {},
     "output_type": "execute_result"
    }
   ],
   "source": [
    "gen_dict[50909]"
   ]
  },
  {
   "cell_type": "code",
   "execution_count": 94,
   "metadata": {},
   "outputs": [
    {
     "data": {
      "image/png": "[encoded data removed]",
      "text/plain": [
       "<Figure size 864x576 with 1 Axes>"
      ]
     },
     "metadata": {
      "needs_background": "light"
     },
     "output_type": "display_data"
    },
    {
     "name": "stdout",
     "output_type": "stream",
     "text": [
      "(0, 1, 2, 3, 4, 5, 6, 7, 8)\n",
      "(179378, 66245, 5873, 1026, 184, 42, 12, 2, 1)\n"
     ]
    }
   ],
   "source": [
    "draw_line_graph(gen_dist,title='',ylabel='Researcher Count',xlabel='Generation Value',loc=\"../new_graphs/GenerationDistributionLine1.svg\")"
   ]
  },
  {
   "cell_type": "code",
   "execution_count": 95,
   "metadata": {},
   "outputs": [
    {
     "data": {
      "text/plain": [
       "Counter({1: 66245,\n",
       "         0: 179378,\n",
       "         2: 5873,\n",
       "         3: 1026,\n",
       "         4: 184,\n",
       "         6: 12,\n",
       "         5: 42,\n",
       "         8: 1,\n",
       "         7: 2})"
      ]
     },
     "execution_count": 95,
     "metadata": {},
     "output_type": "execute_result"
    }
   ],
   "source": [
    "gen_dist"
   ]
  },
  {
   "cell_type": "markdown",
   "metadata": {},
   "source": [
    "<h2> H-index Calculation : </h2>"
   ]
  },
  {
   "cell_type": "code",
   "execution_count": 96,
   "metadata": {},
   "outputs": [],
   "source": [
    "#[deg for n ,deg in graph1.out_degree(list(graph1.successors(24794)))]"
   ]
  },
  {
   "cell_type": "code",
   "execution_count": 97,
   "metadata": {},
   "outputs": [],
   "source": [
    "hindex_dict=child_deg(graph1)\n",
    "hindex_dict={key: int(hindex_dict[key]) for key in hindex_dict}"
   ]
  },
  {
   "cell_type": "code",
   "execution_count": 98,
   "metadata": {},
   "outputs": [
    {
     "data": {
      "image/png": "[encoded data removed]",
      "text/plain": [
       "<Figure size 864x576 with 1 Axes>"
      ]
     },
     "metadata": {
      "needs_background": "light"
     },
     "output_type": "display_data"
    },
    {
     "name": "stdout",
     "output_type": "stream",
     "text": [
      "[2.45623e+05 6.17800e+03 7.64000e+02 1.53000e+02 3.10000e+01 1.00000e+01\n",
      " 4.00000e+00]\n",
      "[0. 1. 2. 3. 4. 5. 6. 7.]\n"
     ]
    }
   ],
   "source": [
    "draw_bar_graph(list(hindex_dict.values()),title='',ylabel='Researcher Count',xlabel='h-index Value',loc=\"../new_graphs/H-indexDistributionHist1.svg\",bins=7,text=True, print_bin=True)"
   ]
  },
  {
   "cell_type": "code",
   "execution_count": 99,
   "metadata": {},
   "outputs": [],
   "source": [
    "#draw_bar_graph(list(hindex_dict.values()),title='H-index Distribution',ylabel='Researcher Count',xlabel='H-index Value')"
   ]
  },
  {
   "cell_type": "code",
   "execution_count": 100,
   "metadata": {},
   "outputs": [
    {
     "name": "stdout",
     "output_type": "stream",
     "text": [
      "file save successfully in folder : ../save_data/\n"
     ]
    }
   ],
   "source": [
    "save_obj('hindex_dict',hindex_dict)"
   ]
  },
  {
   "cell_type": "code",
   "execution_count": 101,
   "metadata": {},
   "outputs": [],
   "source": [
    "top_5_hindex=sorted(hindex_dict, key=hindex_dict.get, reverse=True)[:top]"
   ]
  },
  {
   "cell_type": "code",
   "execution_count": 102,
   "metadata": {},
   "outputs": [],
   "source": [
    "hindex_dist = Counter(hindex_dict.values())"
   ]
  },
  {
   "cell_type": "code",
   "execution_count": 103,
   "metadata": {},
   "outputs": [
    {
     "data": {
      "text/plain": [
       "[63216, 48103, 73063, 85237, 22565]"
      ]
     },
     "execution_count": 103,
     "metadata": {},
     "output_type": "execute_result"
    }
   ],
   "source": [
    "top_5_hindex"
   ]
  },
  {
   "cell_type": "code",
   "execution_count": 104,
   "metadata": {},
   "outputs": [
    {
     "data": {
      "text/html": [
       "<div>\n",
       "<style scoped>\n",
       "    .dataframe tbody tr th:only-of-type {\n",
       "        vertical-align: middle;\n",
       "    }\n",
       "\n",
       "    .dataframe tbody tr th {\n",
       "        vertical-align: top;\n",
       "    }\n",
       "\n",
       "    .dataframe thead th {\n",
       "        text-align: right;\n",
       "    }\n",
       "</style>\n",
       "<table border=\"1\" class=\"dataframe\">\n",
       "  <thead>\n",
       "    <tr style=\"text-align: right;\">\n",
       "      <th></th>\n",
       "      <th>advisor_name</th>\n",
       "      <th>publisher_institution</th>\n",
       "      <th>publisher_dept</th>\n",
       "    </tr>\n",
       "    <tr>\n",
       "      <th>advId</th>\n",
       "      <th></th>\n",
       "      <th></th>\n",
       "      <th></th>\n",
       "    </tr>\n",
       "  </thead>\n",
       "  <tbody>\n",
       "    <tr>\n",
       "      <th>63216</th>\n",
       "      <td>Kurup, Pa</td>\n",
       "      <td>University of Kerala</td>\n",
       "      <td>department of biochemistry</td>\n",
       "    </tr>\n",
       "    <tr>\n",
       "      <th>48103</th>\n",
       "      <td>Shanmugasundaram, S.</td>\n",
       "      <td>Periyar University</td>\n",
       "      <td>department of commerce</td>\n",
       "    </tr>\n",
       "    <tr>\n",
       "      <th>73063</th>\n",
       "      <td>Meti, T. K.</td>\n",
       "      <td>Karnatak University</td>\n",
       "      <td>department of economics</td>\n",
       "    </tr>\n",
       "    <tr>\n",
       "      <th>85237</th>\n",
       "      <td>Hiremath, R. C.</td>\n",
       "      <td>Karnatak University</td>\n",
       "      <td>department of kannada; department of linguistics</td>\n",
       "    </tr>\n",
       "    <tr>\n",
       "      <th>22565</th>\n",
       "      <td>Ghosh, Asok</td>\n",
       "      <td>University of Calcutta</td>\n",
       "      <td>department of science; department of zoology</td>\n",
       "    </tr>\n",
       "  </tbody>\n",
       "</table>\n",
       "</div>"
      ],
      "text/plain": [
       "               advisor_name   publisher_institution                                    publisher_dept\n",
       "advId                                                                                                \n",
       "63216             Kurup, Pa    University of Kerala                        department of biochemistry\n",
       "48103  Shanmugasundaram, S.      Periyar University                            department of commerce\n",
       "73063           Meti, T. K.     Karnatak University                           department of economics\n",
       "85237       Hiremath, R. C.     Karnatak University  department of kannada; department of linguistics\n",
       "22565           Ghosh, Asok  University of Calcutta      department of science; department of zoology"
      ]
     },
     "execution_count": 104,
     "metadata": {},
     "output_type": "execute_result"
    }
   ],
   "source": [
    "top_5_detail=get_names_inst_dept(mod_ment2, top_5_hindex, 'advId')\n",
    "top_5_detail"
   ]
  },
  {
   "cell_type": "code",
   "execution_count": 105,
   "metadata": {},
   "outputs": [
    {
     "name": "stdout",
     "output_type": "stream",
     "text": [
      "\\begin{tabular}{rll}\n",
      "\\toprule\n",
      " adv\\_id &          advisor\\_name &   publisher\\_institution \\\\\n",
      "  63216 &             Kurup, Pa &    University of Kerala \\\\\n",
      "\\midrule\n",
      "  48103 &  Shanmugasundaram, S. &      Periyar University \\\\\n",
      "  73063 &           Meti, T. K. &     Karnatak University \\\\\n",
      "  85237 &       Hiremath, R. C. &     Karnatak University \\\\\n",
      "  22565 &           Ghosh, Asok &  University of Calcutta \\\\\n",
      "\\bottomrule\n",
      "\\end{tabular}\n",
      "\n"
     ]
    }
   ],
   "source": [
    "top_5_detail['adv_id'] = top_5_detail.index\n",
    "top_5_detail = top_5_detail[[\"adv_id\",\"advisor_name\",\"publisher_institution\"]]\n",
    "print(top_5_detail.to_latex(index=False))"
   ]
  },
  {
   "cell_type": "code",
   "execution_count": 106,
   "metadata": {},
   "outputs": [
    {
     "name": "stdout",
     "output_type": "stream",
     "text": [
      "file saved as: ../top_10/researcher_level/researcher_h-index.csv\n"
     ]
    }
   ],
   "source": [
    "save_df(\"researcher_h-index\", top_5_detail)"
   ]
  },
  {
   "cell_type": "code",
   "execution_count": 107,
   "metadata": {},
   "outputs": [],
   "source": [
    "#mod_ment2[mod_ment2['advId']==63216]"
   ]
  },
  {
   "cell_type": "code",
   "execution_count": 108,
   "metadata": {},
   "outputs": [
    {
     "data": {
      "text/plain": [
       "Counter({0: 245623, 1: 6178, 2: 764, 3: 153, 4: 31, 5: 10, 6: 3, 7: 1})"
      ]
     },
     "execution_count": 108,
     "metadata": {},
     "output_type": "execute_result"
    }
   ],
   "source": [
    "hindex_dist"
   ]
  },
  {
   "cell_type": "code",
   "execution_count": 109,
   "metadata": {},
   "outputs": [
    {
     "data": {
      "image/png": "[encoded data removed]",
      "text/plain": [
       "<Figure size 864x576 with 1 Axes>"
      ]
     },
     "metadata": {
      "needs_background": "light"
     },
     "output_type": "display_data"
    },
    {
     "name": "stdout",
     "output_type": "stream",
     "text": [
      "(0, 1, 2, 3, 4, 5, 6, 7)\n",
      "(245623, 6178, 764, 153, 31, 10, 3, 1)\n"
     ]
    }
   ],
   "source": [
    "draw_line_graph(hindex_dist,title='',ylabel='Researcher Count',xlabel='h-index Value',loc=\"../new_graphs/H-indexDistributionLine1.svg\")"
   ]
  },
  {
   "cell_type": "code",
   "execution_count": 110,
   "metadata": {},
   "outputs": [],
   "source": [
    "# hindex_dict[3607]"
   ]
  },
  {
   "cell_type": "markdown",
   "metadata": {},
   "source": [
    "## G_m - index"
   ]
  },
  {
   "cell_type": "code",
   "execution_count": 111,
   "metadata": {},
   "outputs": [],
   "source": [
    "#[deg for n ,deg in graph1.out_degree(list(graph1.successors(24794)))]"
   ]
  },
  {
   "cell_type": "code",
   "execution_count": 112,
   "metadata": {},
   "outputs": [],
   "source": [
    "gm_index=gm_index_mod(graph1)"
   ]
  },
  {
   "cell_type": "code",
   "execution_count": 113,
   "metadata": {},
   "outputs": [
    {
     "data": {
      "text/plain": [
       "12"
      ]
     },
     "execution_count": 113,
     "metadata": {},
     "output_type": "execute_result"
    }
   ],
   "source": [
    "gm_index[24794]"
   ]
  },
  {
   "cell_type": "code",
   "execution_count": 114,
   "metadata": {},
   "outputs": [],
   "source": [
    "# for k in gm_index:\n",
    "#     if gm_index[k]==9:\n",
    "#         print(k)"
   ]
  },
  {
   "cell_type": "code",
   "execution_count": 115,
   "metadata": {},
   "outputs": [
    {
     "name": "stdout",
     "output_type": "stream",
     "text": [
      "file save successfully in folder : ../save_data/\n"
     ]
    }
   ],
   "source": [
    "save_obj('gindex_dict',gm_index)"
   ]
  },
  {
   "cell_type": "code",
   "execution_count": 116,
   "metadata": {},
   "outputs": [
    {
     "data": {
      "image/png": "[encoded data removed]",
      "text/plain": [
       "<Figure size 864x576 with 1 Axes>"
      ]
     },
     "metadata": {
      "needs_background": "light"
     },
     "output_type": "display_data"
    },
    {
     "name": "stdout",
     "output_type": "stream",
     "text": [
      "[2.45623e+05 4.52000e+03 1.53900e+03 6.08000e+02 2.97000e+02 1.03000e+02\n",
      " 3.80000e+01 2.00000e+01 1.00000e+01 3.00000e+00 1.00000e+00 1.00000e+00]\n",
      "[ 0.  1.  2.  3.  4.  5.  6.  7.  8.  9. 10. 11. 12.]\n"
     ]
    }
   ],
   "source": [
    "draw_bar_graph(list(gm_index.values()),title='',ylabel='Researcher Count',xlabel='g-index Value',bins=12,loc=\"../new_graphs/G-indexDistributionHist1.svg\",text=True, print_bin=True)"
   ]
  },
  {
   "cell_type": "code",
   "execution_count": 117,
   "metadata": {},
   "outputs": [],
   "source": [
    "top_5_gm=sorted(gm_index, key=gm_index.get, reverse=True)[:top]"
   ]
  },
  {
   "cell_type": "code",
   "execution_count": 118,
   "metadata": {},
   "outputs": [
    {
     "data": {
      "text/html": [
       "<div>\n",
       "<style scoped>\n",
       "    .dataframe tbody tr th:only-of-type {\n",
       "        vertical-align: middle;\n",
       "    }\n",
       "\n",
       "    .dataframe tbody tr th {\n",
       "        vertical-align: top;\n",
       "    }\n",
       "\n",
       "    .dataframe thead th {\n",
       "        text-align: right;\n",
       "    }\n",
       "</style>\n",
       "<table border=\"1\" class=\"dataframe\">\n",
       "  <thead>\n",
       "    <tr style=\"text-align: right;\">\n",
       "      <th></th>\n",
       "      <th>advisor_name</th>\n",
       "      <th>publisher_institution</th>\n",
       "      <th>publisher_dept</th>\n",
       "    </tr>\n",
       "    <tr>\n",
       "      <th>advId</th>\n",
       "      <th></th>\n",
       "      <th></th>\n",
       "      <th></th>\n",
       "    </tr>\n",
       "  </thead>\n",
       "  <tbody>\n",
       "    <tr>\n",
       "      <th>24794</th>\n",
       "      <td>Shivarudrappa, G.</td>\n",
       "      <td>Karnatak University</td>\n",
       "      <td>department of education</td>\n",
       "    </tr>\n",
       "    <tr>\n",
       "      <th>65471</th>\n",
       "      <td>Rao, S. Brahmaji</td>\n",
       "      <td>Sri Krishnadevaraya University</td>\n",
       "      <td>department of chemistry</td>\n",
       "    </tr>\n",
       "    <tr>\n",
       "      <th>48103</th>\n",
       "      <td>Shanmugasundaram, S.</td>\n",
       "      <td>Periyar University</td>\n",
       "      <td>department of commerce</td>\n",
       "    </tr>\n",
       "    <tr>\n",
       "      <th>58479</th>\n",
       "      <td>Pawar, S. H.</td>\n",
       "      <td>Shivaji University</td>\n",
       "      <td>department of physics</td>\n",
       "    </tr>\n",
       "    <tr>\n",
       "      <th>73063</th>\n",
       "      <td>Meti, T. K.</td>\n",
       "      <td>Karnatak University</td>\n",
       "      <td>department of economics</td>\n",
       "    </tr>\n",
       "  </tbody>\n",
       "</table>\n",
       "</div>"
      ],
      "text/plain": [
       "               advisor_name           publisher_institution           publisher_dept\n",
       "advId                                                                               \n",
       "24794     Shivarudrappa, G.             Karnatak University  department of education\n",
       "65471      Rao, S. Brahmaji  Sri Krishnadevaraya University  department of chemistry\n",
       "48103  Shanmugasundaram, S.              Periyar University   department of commerce\n",
       "58479          Pawar, S. H.              Shivaji University    department of physics\n",
       "73063           Meti, T. K.             Karnatak University  department of economics"
      ]
     },
     "execution_count": 118,
     "metadata": {},
     "output_type": "execute_result"
    }
   ],
   "source": [
    "top_5_detail=get_names_inst_dept(mod_ment2, top_5_gm, 'advId')\n",
    "top_5_detail"
   ]
  },
  {
   "cell_type": "code",
   "execution_count": 119,
   "metadata": {},
   "outputs": [
    {
     "name": "stdout",
     "output_type": "stream",
     "text": [
      "\\begin{tabular}{rll}\n",
      "\\toprule\n",
      " adv\\_id &          advisor\\_name &           publisher\\_institution \\\\\n",
      "  24794 &     Shivarudrappa, G. &             Karnatak University \\\\\n",
      "\\midrule\n",
      "  65471 &      Rao, S. Brahmaji &  Sri Krishnadevaraya University \\\\\n",
      "  48103 &  Shanmugasundaram, S. &              Periyar University \\\\\n",
      "  58479 &          Pawar, S. H. &              Shivaji University \\\\\n",
      "  73063 &           Meti, T. K. &             Karnatak University \\\\\n",
      "\\bottomrule\n",
      "\\end{tabular}\n",
      "\n"
     ]
    }
   ],
   "source": [
    "top_5_detail['adv_id'] = top_5_detail.index\n",
    "top_5_detail = top_5_detail[[\"adv_id\",\"advisor_name\",\"publisher_institution\"]]\n",
    "print(top_5_detail.to_latex(index=False))"
   ]
  },
  {
   "cell_type": "code",
   "execution_count": 120,
   "metadata": {},
   "outputs": [
    {
     "name": "stdout",
     "output_type": "stream",
     "text": [
      "file saved as: ../top_10/researcher_level/researcher_g-index.csv\n"
     ]
    }
   ],
   "source": [
    "save_df(\"researcher_g-index\", top_5_detail)"
   ]
  },
  {
   "cell_type": "code",
   "execution_count": 121,
   "metadata": {},
   "outputs": [],
   "source": [
    "gindex_dist = Counter(gm_index.values())"
   ]
  },
  {
   "cell_type": "code",
   "execution_count": 122,
   "metadata": {},
   "outputs": [
    {
     "data": {
      "text/plain": [
       "Counter({0: 245623,\n",
       "         1: 4520,\n",
       "         2: 1539,\n",
       "         3: 608,\n",
       "         5: 103,\n",
       "         4: 297,\n",
       "         6: 38,\n",
       "         7: 20,\n",
       "         12: 1,\n",
       "         8: 10,\n",
       "         9: 3,\n",
       "         10: 1})"
      ]
     },
     "execution_count": 122,
     "metadata": {},
     "output_type": "execute_result"
    }
   ],
   "source": [
    "gindex_dist"
   ]
  },
  {
   "cell_type": "code",
   "execution_count": 123,
   "metadata": {},
   "outputs": [],
   "source": [
    "#gindex_dist"
   ]
  },
  {
   "cell_type": "code",
   "execution_count": 124,
   "metadata": {},
   "outputs": [
    {
     "data": {
      "text/plain": [
       "[24794, 65471, 48103, 58479, 73063]"
      ]
     },
     "execution_count": 124,
     "metadata": {},
     "output_type": "execute_result"
    }
   ],
   "source": [
    "top_5_gm"
   ]
  },
  {
   "cell_type": "code",
   "execution_count": 125,
   "metadata": {},
   "outputs": [
    {
     "data": {
      "image/png": "[encoded data removed]",
      "text/plain": [
       "<Figure size 864x576 with 1 Axes>"
      ]
     },
     "metadata": {
      "needs_background": "light"
     },
     "output_type": "display_data"
    },
    {
     "name": "stdout",
     "output_type": "stream",
     "text": [
      "(0, 1, 2, 3, 4, 5, 6, 7, 8, 9, 10, 12)\n",
      "(245623, 4520, 1539, 608, 297, 103, 38, 20, 10, 3, 1, 1)\n"
     ]
    }
   ],
   "source": [
    "draw_line_graph(gindex_dist,title='',ylabel='Researcher Count',xlabel='g-index Value',loc=\"../new_graphs/G-indexDistributionLine1.svg\")"
   ]
  },
  {
   "cell_type": "code",
   "execution_count": 126,
   "metadata": {},
   "outputs": [
    {
     "data": {
      "text/plain": [
       "12"
      ]
     },
     "execution_count": 126,
     "metadata": {},
     "output_type": "execute_result"
    }
   ],
   "source": [
    "gm_index[24794]"
   ]
  },
  {
   "cell_type": "markdown",
   "metadata": {},
   "source": [
    "<h2> In-Degree Calculation : </h2>"
   ]
  },
  {
   "cell_type": "code",
   "execution_count": 127,
   "metadata": {},
   "outputs": [],
   "source": [
    "in_dgr = graph1.in_degree()"
   ]
  },
  {
   "cell_type": "code",
   "execution_count": 128,
   "metadata": {},
   "outputs": [],
   "source": [
    "in_dgr=dict(in_dgr)"
   ]
  },
  {
   "cell_type": "code",
   "execution_count": 129,
   "metadata": {},
   "outputs": [],
   "source": [
    "in_dgr_dist = Counter(in_dgr.values())"
   ]
  },
  {
   "cell_type": "code",
   "execution_count": 130,
   "metadata": {},
   "outputs": [],
   "source": [
    "in_sort=sorted(in_dgr_dist.items())"
   ]
  },
  {
   "cell_type": "code",
   "execution_count": 131,
   "metadata": {},
   "outputs": [],
   "source": [
    "top_5_in=sorted(in_dgr, key=in_dgr.get, reverse=True)[:top]"
   ]
  },
  {
   "cell_type": "code",
   "execution_count": 132,
   "metadata": {},
   "outputs": [
    {
     "data": {
      "text/html": [
       "<div>\n",
       "<style scoped>\n",
       "    .dataframe tbody tr th:only-of-type {\n",
       "        vertical-align: middle;\n",
       "    }\n",
       "\n",
       "    .dataframe tbody tr th {\n",
       "        vertical-align: top;\n",
       "    }\n",
       "\n",
       "    .dataframe thead th {\n",
       "        text-align: right;\n",
       "    }\n",
       "</style>\n",
       "<table border=\"1\" class=\"dataframe\">\n",
       "  <thead>\n",
       "    <tr style=\"text-align: right;\">\n",
       "      <th></th>\n",
       "      <th>researcher_name</th>\n",
       "      <th>publisher_institution</th>\n",
       "      <th>publisher_dept</th>\n",
       "    </tr>\n",
       "    <tr>\n",
       "      <th>resId</th>\n",
       "      <th></th>\n",
       "      <th></th>\n",
       "      <th></th>\n",
       "    </tr>\n",
       "  </thead>\n",
       "  <tbody>\n",
       "    <tr>\n",
       "      <th>93101</th>\n",
       "      <td>Senthil Kumar, K L.</td>\n",
       "      <td>Anna University</td>\n",
       "      <td>faculty of technology; faculty of mechanical e...</td>\n",
       "    </tr>\n",
       "    <tr>\n",
       "      <th>90155</th>\n",
       "      <td>S, Senthil Kumar P.</td>\n",
       "      <td>Anna University</td>\n",
       "      <td>faculty of electrical engineering; faculty of ...</td>\n",
       "    </tr>\n",
       "    <tr>\n",
       "      <th>90796</th>\n",
       "      <td>Senthil Kumar, K.</td>\n",
       "      <td>Anna University</td>\n",
       "      <td>faculty of information and communication engin...</td>\n",
       "    </tr>\n",
       "    <tr>\n",
       "      <th>93083</th>\n",
       "      <td>Sivakkumar, V.</td>\n",
       "      <td>Anna University</td>\n",
       "      <td>faculty of civil engineering; faculty of mecha...</td>\n",
       "    </tr>\n",
       "    <tr>\n",
       "      <th>93795</th>\n",
       "      <td>Kaur, Mandeep</td>\n",
       "      <td>Panjab University</td>\n",
       "      <td>department of physical education; department o...</td>\n",
       "    </tr>\n",
       "  </tbody>\n",
       "</table>\n",
       "</div>"
      ],
      "text/plain": [
       "           researcher_name publisher_institution                                     publisher_dept\n",
       "resId                                                                                              \n",
       "93101  Senthil Kumar, K L.       Anna University  faculty of technology; faculty of mechanical e...\n",
       "90155  S, Senthil Kumar P.       Anna University  faculty of electrical engineering; faculty of ...\n",
       "90796    Senthil Kumar, K.       Anna University  faculty of information and communication engin...\n",
       "93083       Sivakkumar, V.       Anna University  faculty of civil engineering; faculty of mecha...\n",
       "93795        Kaur, Mandeep     Panjab University  department of physical education; department o..."
      ]
     },
     "execution_count": 132,
     "metadata": {},
     "output_type": "execute_result"
    }
   ],
   "source": [
    "top_5_detail=get_names_inst_dept(mod_ment2, top_5_in, 'resId',cols=['researcher_name','publisher_institution','publisher_dept'])\n",
    "top_5_detail"
   ]
  },
  {
   "cell_type": "code",
   "execution_count": 133,
   "metadata": {},
   "outputs": [
    {
     "data": {
      "text/plain": [
       "array([['Senthil Kumar, K L.', 'Anna University',\n",
       "        'faculty of technology; faculty of mechanical engineering'],\n",
       "       ['S, Senthil Kumar P.', 'Anna University',\n",
       "        'faculty of electrical engineering; faculty of civil engineering; faculty of electrical and electronics engineering; faculty of management studies'],\n",
       "       ['Senthil Kumar, K.', 'Anna University',\n",
       "        'faculty of information and communication engineering'],\n",
       "       ['Sivakkumar, V.', 'Anna University',\n",
       "        'faculty of civil engineering; faculty of mechanical engineering; faculty of technology'],\n",
       "       ['Kaur, Mandeep', 'Panjab University',\n",
       "        'department of physical education; department of education']],\n",
       "      dtype=object)"
      ]
     },
     "execution_count": 133,
     "metadata": {},
     "output_type": "execute_result"
    }
   ],
   "source": [
    "top_5_detail.values"
   ]
  },
  {
   "cell_type": "code",
   "execution_count": 134,
   "metadata": {},
   "outputs": [
    {
     "name": "stdout",
     "output_type": "stream",
     "text": [
      "\\begin{tabular}{rll}\n",
      "\\toprule\n",
      " adv\\_id &      researcher\\_name & publisher\\_institution \\\\\n",
      "  93101 &  Senthil Kumar, K L. &       Anna University \\\\\n",
      "\\midrule\n",
      "  90155 &  S, Senthil Kumar P. &       Anna University \\\\\n",
      "  90796 &    Senthil Kumar, K. &       Anna University \\\\\n",
      "  93083 &       Sivakkumar, V. &       Anna University \\\\\n",
      "  93795 &        Kaur, Mandeep &     Panjab University \\\\\n",
      "\\bottomrule\n",
      "\\end{tabular}\n",
      "\n"
     ]
    }
   ],
   "source": [
    "top_5_detail['adv_id'] = top_5_detail.index\n",
    "top_5_detail = top_5_detail[[\"adv_id\",\"researcher_name\",\"publisher_institution\"]]\n",
    "print(top_5_detail.to_latex(index=False))"
   ]
  },
  {
   "cell_type": "code",
   "execution_count": 135,
   "metadata": {},
   "outputs": [
    {
     "name": "stdout",
     "output_type": "stream",
     "text": [
      "file saved as: ../top_10/researcher_level/researcher_in_degree.csv\n"
     ]
    }
   ],
   "source": [
    "save_df(\"researcher_in_degree\", top_5_detail)"
   ]
  },
  {
   "cell_type": "code",
   "execution_count": 136,
   "metadata": {},
   "outputs": [
    {
     "data": {
      "text/plain": [
       "[93101, 90155, 90796, 93083, 93795]"
      ]
     },
     "execution_count": 136,
     "metadata": {},
     "output_type": "execute_result"
    }
   ],
   "source": [
    "top_5_in"
   ]
  },
  {
   "cell_type": "code",
   "execution_count": 137,
   "metadata": {},
   "outputs": [
    {
     "data": {
      "image/png": "[encoded data removed]",
      "text/plain": [
       "<Figure size 864x576 with 1 Axes>"
      ]
     },
     "metadata": {
      "needs_background": "light"
     },
     "output_type": "display_data"
    },
    {
     "name": "stdout",
     "output_type": "stream",
     "text": [
      "[2.41686e+05 1.09330e+04 1.25000e+02 1.50000e+01 1.00000e+00 0.00000e+00\n",
      " 2.00000e+00 0.00000e+00 0.00000e+00 1.00000e+00]\n",
      "[ 0.  2.  4.  6.  8. 10. 12. 14. 16. 18. 20.]\n"
     ]
    }
   ],
   "source": [
    "draw_bar_graph(list(in_dgr.values()),title='',ylabel='Researcher Count',xlabel='In-degree Value', bins=10, loc=\"../new_graphs/inDegreeDistributionHist1.svg\",text=True, print_bin=True)"
   ]
  },
  {
   "cell_type": "code",
   "execution_count": 138,
   "metadata": {},
   "outputs": [
    {
     "data": {
      "image/png": "[encoded data removed]",
      "text/plain": [
       "<Figure size 864x576 with 1 Axes>"
      ]
     },
     "metadata": {
      "needs_background": "light"
     },
     "output_type": "display_data"
    },
    {
     "name": "stdout",
     "output_type": "stream",
     "text": [
      "(0, 1, 2, 3, 4, 5, 6, 7, 8, 12, 13, 20)\n",
      "(64801, 176885, 10342, 591, 104, 21, 11, 4, 1, 1, 1, 1)\n"
     ]
    }
   ],
   "source": [
    "draw_line_graph(in_dgr_dist,title='', ylabel='Researcher Count', xlabel='In-degree Value', loc=\"../new_graphs/inDegreeDistributionLine1.svg\")"
   ]
  },
  {
   "cell_type": "code",
   "execution_count": 139,
   "metadata": {},
   "outputs": [],
   "source": [
    "\n",
    "#influential=nx.voterank(graph1, 20)"
   ]
  },
  {
   "cell_type": "code",
   "execution_count": 140,
   "metadata": {},
   "outputs": [],
   "source": [
    "#influential  #[144109, 88147, 30812, 88166, 26894]"
   ]
  },
  {
   "cell_type": "markdown",
   "metadata": {},
   "source": [
    "<h2> Betweeness Centrality Considering the Connected Components </h2>"
   ]
  },
  {
   "cell_type": "code",
   "execution_count": 141,
   "metadata": {},
   "outputs": [],
   "source": [
    "# bw_cent=[]\n",
    "# for com in nx.weakly_connected_components(graph1):\n",
    "#     subgraph = graph1.subgraph(com)\n",
    "#     bcent=nx.betweenness_centrality(subgraph)\n",
    "#     bcent={key:bcent[key]*len(com) for key in bcent}\n",
    "#     bw_cent.append(list(bcent.items()))"
   ]
  },
  {
   "cell_type": "code",
   "execution_count": 142,
   "metadata": {},
   "outputs": [],
   "source": [
    "# bw_cent_tuple=[ele for eles in bw_cent for ele in eles]\n",
    "# bw_cent_dict=dict(bw_cent_tuple)"
   ]
  },
  {
   "cell_type": "code",
   "execution_count": 143,
   "metadata": {},
   "outputs": [],
   "source": [
    "# top5_bw_cent=sorted(bw_cent_dict, key=bw_cent_dict.get, reverse=True)[:5]"
   ]
  },
  {
   "cell_type": "code",
   "execution_count": 144,
   "metadata": {},
   "outputs": [],
   "source": [
    "# top5_bw_cent"
   ]
  },
  {
   "cell_type": "code",
   "execution_count": 145,
   "metadata": {},
   "outputs": [],
   "source": [
    "# top_5_detail=get_names_inst_dept(mod_ment2, top5_bw_cent, 'advId')\n",
    "# top_5_detail"
   ]
  },
  {
   "cell_type": "code",
   "execution_count": 146,
   "metadata": {},
   "outputs": [],
   "source": [
    "#mod_ment2[mod_ment2['advId']==30260]"
   ]
  },
  {
   "cell_type": "code",
   "execution_count": 147,
   "metadata": {},
   "outputs": [],
   "source": [
    "#mod_ment2[mod_ment2['advId']==30249].shape"
   ]
  },
  {
   "cell_type": "code",
   "execution_count": 148,
   "metadata": {},
   "outputs": [],
   "source": [
    "#mod_ment2[mod_ment2['advId']==85237].shape"
   ]
  },
  {
   "cell_type": "code",
   "execution_count": 149,
   "metadata": {},
   "outputs": [],
   "source": [
    "#sum([deg for n ,deg in graph1.out_degree(list(graph1.successors(85237)))])"
   ]
  },
  {
   "cell_type": "code",
   "execution_count": 150,
   "metadata": {},
   "outputs": [],
   "source": [
    "# 48103\n",
    "# 58479\n",
    "# 65471\n",
    "# 73063\n",
    "# 85237"
   ]
  },
  {
   "cell_type": "code",
   "execution_count": 151,
   "metadata": {},
   "outputs": [],
   "source": [
    "#graph1.out_degree(list(graph1.successors(85237)))"
   ]
  },
  {
   "cell_type": "code",
   "execution_count": 152,
   "metadata": {},
   "outputs": [],
   "source": [
    "#mod_ment2[mod_ment2['advId']==230594]['title'].values"
   ]
  },
  {
   "cell_type": "code",
   "execution_count": 153,
   "metadata": {},
   "outputs": [],
   "source": [
    "#adv=mod_ment2.groupby(['advId'])['advisor_name'].apply(list).reset_index().copy()"
   ]
  },
  {
   "cell_type": "code",
   "execution_count": 154,
   "metadata": {},
   "outputs": [],
   "source": [
    "#Neo4j used for finding patterns (motifs) using cypher (Query language for neo4j database)"
   ]
  },
  {
   "cell_type": "code",
   "execution_count": 155,
   "metadata": {},
   "outputs": [],
   "source": [
    "\n",
    "# [1.83283e+05 6.70040e+04 5.73100e+03 8.85000e+02 1.28000e+02 2.20000e+01]\n",
    "# # [0. 1. 2. 3. 4. 5. 6.]"
   ]
  },
  {
   "cell_type": "code",
   "execution_count": 156,
   "metadata": {},
   "outputs": [],
   "source": [
    "#gen_dist"
   ]
  },
  {
   "cell_type": "code",
   "execution_count": 157,
   "metadata": {},
   "outputs": [],
   "source": [
    "# import numpy as np\n",
    "# np.log10(100)"
   ]
  },
  {
   "cell_type": "code",
   "execution_count": 8,
   "metadata": {},
   "outputs": [
    {
     "data": {
      "text/plain": [
       "[15, 4, 2, 0, 0, 1, 0, 0, 0, 0, 0, 0, 0, 0, 0, 128, 0, 0, 0]"
      ]
     },
     "execution_count": 8,
     "metadata": {},
     "output_type": "execute_result"
    }
   ],
   "source": [
    "[deg for n ,deg in graph1.out_degree(list(graph1.successors(24794)))]"
   ]
  },
  {
   "cell_type": "code",
   "execution_count": 15,
   "metadata": {},
   "outputs": [
    {
     "data": {
      "text/plain": [
       "Index(['advisorId', 'researcherId', 'advId', 'resId', 'advisor_name',\n",
       "       'researcher_name', 'publisher_dept', 'DepartmentId',\n",
       "       'publisher_institution', 'instituteId', 'title', 'thesisId',\n",
       "       'N_thesisId', 'date_submitted', 'new_date_awarded', 'dc.date.awarded',\n",
       "       'dc.subject.ddc', 'uniq_ddc_across_dept', 'dc.description.abstract',\n",
       "       'dc.title.alternative', 'N_DepartmentId_1', 'ddc_code', 'advisor_advId',\n",
       "       'researcher_resId'],\n",
       "      dtype='object')"
      ]
     },
     "execution_count": 15,
     "metadata": {},
     "output_type": "execute_result"
    }
   ],
   "source": [
    "mod_ment2.columns"
   ]
  },
  {
   "cell_type": "code",
   "execution_count": null,
   "metadata": {},
   "outputs": [],
   "source": []
  }
 ],
 "metadata": {
  "kernelspec": {
   "display_name": "Python 3",
   "language": "python",
   "name": "python3"
  },
  "language_info": {
   "codemirror_mode": {
    "name": "ipython",
    "version": 3
   },
   "file_extension": ".py",
   "mimetype": "text/x-python",
   "name": "python",
   "nbconvert_exporter": "python",
   "pygments_lexer": "ipython3",
   "version": "3.7.12"
  }
 },
 "nbformat": 4,
 "nbformat_minor": 4
}
