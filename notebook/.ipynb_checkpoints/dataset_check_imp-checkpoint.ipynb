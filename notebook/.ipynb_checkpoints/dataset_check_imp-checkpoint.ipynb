{
 "cells": [
  {
   "cell_type": "code",
   "execution_count": 1,
   "metadata": {},
   "outputs": [],
   "source": [
    "import pandas as pd\n",
    "import networkx as nx\n",
    "import numpy as np\n",
    "from tqdm import tqdm\n",
    "import itertools\n",
    "import json\n",
    "from collections import Counter\n",
    "from multiprocessing import Pool\n",
    "import matplotlib.pyplot as plt"
   ]
  },
  {
   "cell_type": "code",
   "execution_count": 2,
   "metadata": {},
   "outputs": [],
   "source": [
    "folder=\"../dataset_v5/v5_2/v5_2_2/\""
   ]
  },
  {
   "cell_type": "code",
   "execution_count": 3,
   "metadata": {},
   "outputs": [],
   "source": [
    "ment_4 = pd.read_csv(folder+'final_shodhganga_dataset_v5_2_4.csv', sep =\",\")"
   ]
  },
  {
   "cell_type": "code",
   "execution_count": 4,
   "metadata": {},
   "outputs": [],
   "source": [
    "ment_5 = pd.read_csv(folder+'final_shodhganga_dataset_v5_2_6_2.csv', sep =\",\")"
   ]
  },
  {
   "cell_type": "code",
   "execution_count": 5,
   "metadata": {},
   "outputs": [],
   "source": [
    "ment_6 = pd.read_csv(folder+'final_shodhganga_dataset_v5_2_7.csv', sep =\",\")"
   ]
  },
  {
   "cell_type": "code",
   "execution_count": 67,
   "metadata": {},
   "outputs": [],
   "source": [
    "ment_7 = pd.read_csv(folder+'final_shodhganga_dataset_v5_2_7_2.csv', sep =\",\")"
   ]
  },
  {
   "cell_type": "code",
   "execution_count": 8,
   "metadata": {},
   "outputs": [],
   "source": [
    "#ment_6 = pd.read_csv(folder+'final_shodhganga_dataset_v5_2.csv', sep =\",\")"
   ]
  },
  {
   "cell_type": "code",
   "execution_count": 7,
   "metadata": {},
   "outputs": [
    {
     "data": {
      "text/plain": [
       "(201477, 24)"
      ]
     },
     "execution_count": 7,
     "metadata": {},
     "output_type": "execute_result"
    }
   ],
   "source": [
    "ment_4.shape"
   ]
  },
  {
   "cell_type": "code",
   "execution_count": 8,
   "metadata": {},
   "outputs": [
    {
     "data": {
      "text/plain": [
       "(201477, 24)"
      ]
     },
     "execution_count": 8,
     "metadata": {},
     "output_type": "execute_result"
    }
   ],
   "source": [
    "ment_5.shape"
   ]
  },
  {
   "cell_type": "code",
   "execution_count": 6,
   "metadata": {},
   "outputs": [
    {
     "data": {
      "text/plain": [
       "(201477, 24)"
      ]
     },
     "execution_count": 6,
     "metadata": {},
     "output_type": "execute_result"
    }
   ],
   "source": [
    "ment_6.shape"
   ]
  },
  {
   "cell_type": "code",
   "execution_count": 7,
   "metadata": {},
   "outputs": [],
   "source": [
    "# graph1 = nx.convert_matrix.from_pandas_edgelist(ment_6, 'advId','resId','publisher_institution', create_using=nx.DiGraph())\n",
    "# graph1.remove_edges_from(nx.selfloop_edges(graph1))\n",
    "# cycle=list(nx.simple_cycles(graph1))\n",
    "# graph1.remove_edges_from(cycle)"
   ]
  },
  {
   "cell_type": "code",
   "execution_count": 9,
   "metadata": {},
   "outputs": [
    {
     "data": {
      "text/plain": [
       "200906    Senthil Kumar K\n",
       "Name: researcher_name, dtype: object"
      ]
     },
     "execution_count": 9,
     "metadata": {},
     "output_type": "execute_result"
    }
   ],
   "source": [
    "ment_4[ment_4['resId']==93101]['researcher_name']"
   ]
  },
  {
   "cell_type": "code",
   "execution_count": 10,
   "metadata": {},
   "outputs": [
    {
     "data": {
      "text/plain": [
       "17624    Senthilkumar, G.\n",
       "Name: researcher_name, dtype: object"
      ]
     },
     "execution_count": 10,
     "metadata": {},
     "output_type": "execute_result"
    }
   ],
   "source": [
    "ment_5[ment_5['resId']==93101]['researcher_name']"
   ]
  },
  {
   "cell_type": "code",
   "execution_count": 11,
   "metadata": {},
   "outputs": [
    {
     "data": {
      "text/plain": [
       "195485    Senthil Kumar K\n",
       "Name: researcher_name, dtype: object"
      ]
     },
     "execution_count": 11,
     "metadata": {},
     "output_type": "execute_result"
    }
   ],
   "source": [
    "ment_6[ment_6['resId']==93101]['researcher_name']"
   ]
  },
  {
   "cell_type": "code",
   "execution_count": 81,
   "metadata": {},
   "outputs": [
    {
     "data": {
      "text/plain": [
       "109527    Singh, Ajai Kumar\n",
       "Name: researcher_name, dtype: object"
      ]
     },
     "execution_count": 81,
     "metadata": {},
     "output_type": "execute_result"
    }
   ],
   "source": [
    "ment_7[(ment_7['resId']==50955)]['researcher_name']"
   ]
  },
  {
   "cell_type": "code",
   "execution_count": 83,
   "metadata": {},
   "outputs": [
    {
     "data": {
      "text/plain": [
       "106296       Singh, Ajay Kumar\n",
       "106297     Singh, Anjani Kumar\n",
       "106298     Singh, Anjani Kumar\n",
       "106299     Singh, Anjani Kumar\n",
       "106300     Singh, Anjani Kumar\n",
       "106301    Singh, Anjanee Kumar\n",
       "106302     Singh, Anjani Kumar\n",
       "106303       Singh, Ajay Kumar\n",
       "106304       Singh, Ajay Kumar\n",
       "106305       Singh, Ajay Kumar\n",
       "106306       Singh, Ajay Kumar\n",
       "106307       Singh, Ajay Kumar\n",
       "106308       Singh, Ajay Kumar\n",
       "106309       Singh, Ajay Kumar\n",
       "106310       Singh, Ajay Kumar\n",
       "106311       Singh, Ajay Kumar\n",
       "106312       Singh, Ajay Kumar\n",
       "106313       Singh, Ajay Kumar\n",
       "106314       Singh, Ajai Kumar\n",
       "106315       Singh, Ajay Kumar\n",
       "106316       Singh, Ajay Kumar\n",
       "106317       Singh, Ajay Kumar\n",
       "106318       Singh, Ajay Kumar\n",
       "106319     Singh, Anjani Kumar\n",
       "106320     Singh, Anjani Kumar\n",
       "106321     Singh, Anjani Kumar\n",
       "106322       Singh, Ajay Kumar\n",
       "106323       Singh, Ajai Kumar\n",
       "Name: advisor_name, dtype: object"
      ]
     },
     "execution_count": 83,
     "metadata": {},
     "output_type": "execute_result"
    }
   ],
   "source": [
    "ment_7[(ment_7['advId']==50955)]['advisor_name']"
   ]
  },
  {
   "cell_type": "code",
   "execution_count": 82,
   "metadata": {},
   "outputs": [
    {
     "data": {
      "text/plain": [
       "62677    Singh, Ajay Kumar\n",
       "Name: researcher_name, dtype: object"
      ]
     },
     "execution_count": 82,
     "metadata": {},
     "output_type": "execute_result"
    }
   ],
   "source": [
    "ment_4[(ment_4['resId']==50955)]['researcher_name']"
   ]
  },
  {
   "cell_type": "code",
   "execution_count": 35,
   "metadata": {},
   "outputs": [
    {
     "data": {
      "text/plain": [
       "195485    Senthil Kumar K\n",
       "Name: researcher_name, dtype: object"
      ]
     },
     "execution_count": 35,
     "metadata": {},
     "output_type": "execute_result"
    }
   ],
   "source": [
    "ment_6[(ment_6['resId']==93101)]['researcher_name'] #93101"
   ]
  },
  {
   "cell_type": "code",
   "execution_count": 36,
   "metadata": {},
   "outputs": [
    {
     "data": {
      "text/plain": [
       "17624    Senthilkumar, G.\n",
       "Name: researcher_name, dtype: object"
      ]
     },
     "execution_count": 36,
     "metadata": {},
     "output_type": "execute_result"
    }
   ],
   "source": [
    "ment_5[(ment_5['resId']==93101)]['researcher_name'] #93101"
   ]
  },
  {
   "cell_type": "code",
   "execution_count": 62,
   "metadata": {},
   "outputs": [
    {
     "data": {
      "text/plain": [
       "105875    Singh, Pradeep Kumar\n",
       "105876    Singh, Pradeep Kumar\n",
       "105877     Singh, Pradip Kumar\n",
       "105878    Singh, Pradeep Kumar\n",
       "105879    Singh, Pradeep Kumar\n",
       "105880    Singh, Pradeep Kumar\n",
       "Name: advisor_name, dtype: object"
      ]
     },
     "execution_count": 62,
     "metadata": {},
     "output_type": "execute_result"
    }
   ],
   "source": [
    "ment_5[(ment_5['advId']==50791)]['advisor_name'] #93101, 7615, 93083,50955, 50791"
   ]
  },
  {
   "cell_type": "code",
   "execution_count": 63,
   "metadata": {},
   "outputs": [
    {
     "data": {
      "text/plain": [
       "105762    Singh, Pradeep Kumar\n",
       "105763    Singh, Pradeep Kumar\n",
       "105764     Singh, Pradip Kumar\n",
       "105765    Singh, Pradeep Kumar\n",
       "105766    Singh, Pradeep Kumar\n",
       "105767    Singh, Pradeep Kumar\n",
       "Name: advisor_name, dtype: object"
      ]
     },
     "execution_count": 63,
     "metadata": {},
     "output_type": "execute_result"
    }
   ],
   "source": [
    "ment_6[(ment_6['advId']==50791)]['advisor_name']"
   ]
  },
  {
   "cell_type": "code",
   "execution_count": 64,
   "metadata": {},
   "outputs": [
    {
     "data": {
      "text/html": [
       "<div>\n",
       "<style scoped>\n",
       "    .dataframe tbody tr th:only-of-type {\n",
       "        vertical-align: middle;\n",
       "    }\n",
       "\n",
       "    .dataframe tbody tr th {\n",
       "        vertical-align: top;\n",
       "    }\n",
       "\n",
       "    .dataframe thead th {\n",
       "        text-align: right;\n",
       "    }\n",
       "</style>\n",
       "<table border=\"1\" class=\"dataframe\">\n",
       "  <thead>\n",
       "    <tr style=\"text-align: right;\">\n",
       "      <th></th>\n",
       "      <th>researcher_name</th>\n",
       "      <th>title</th>\n",
       "    </tr>\n",
       "  </thead>\n",
       "  <tbody>\n",
       "    <tr>\n",
       "      <th>106225</th>\n",
       "      <td>Singh, Praveen Kumar</td>\n",
       "      <td>Machhlishahr tahsil ki jansankhya paryavaran e...</td>\n",
       "    </tr>\n",
       "  </tbody>\n",
       "</table>\n",
       "</div>"
      ],
      "text/plain": [
       "             researcher_name  \\\n",
       "106225  Singh, Praveen Kumar   \n",
       "\n",
       "                                                    title  \n",
       "106225  Machhlishahr tahsil ki jansankhya paryavaran e...  "
      ]
     },
     "execution_count": 64,
     "metadata": {},
     "output_type": "execute_result"
    }
   ],
   "source": [
    "ment_5[(ment_5['resId']==50791)][['researcher_name','title']]"
   ]
  },
  {
   "cell_type": "code",
   "execution_count": 65,
   "metadata": {},
   "outputs": [
    {
     "data": {
      "text/html": [
       "<div>\n",
       "<style scoped>\n",
       "    .dataframe tbody tr th:only-of-type {\n",
       "        vertical-align: middle;\n",
       "    }\n",
       "\n",
       "    .dataframe tbody tr th {\n",
       "        vertical-align: top;\n",
       "    }\n",
       "\n",
       "    .dataframe thead th {\n",
       "        text-align: right;\n",
       "    }\n",
       "</style>\n",
       "<table border=\"1\" class=\"dataframe\">\n",
       "  <thead>\n",
       "    <tr style=\"text-align: right;\">\n",
       "      <th></th>\n",
       "      <th>researcher_name</th>\n",
       "      <th>title</th>\n",
       "    </tr>\n",
       "  </thead>\n",
       "  <tbody>\n",
       "    <tr>\n",
       "      <th>44167</th>\n",
       "      <td>Singh, Praveen Kumar</td>\n",
       "      <td>Akbar Hemu sambandh ka aitihasik adhyayan</td>\n",
       "    </tr>\n",
       "    <tr>\n",
       "      <th>61253</th>\n",
       "      <td>Singh, Pradeep Kumar</td>\n",
       "      <td>Smritiyon mein varnit ashram vyavastha ka sami...</td>\n",
       "    </tr>\n",
       "    <tr>\n",
       "      <th>105928</th>\n",
       "      <td>Singh, Pradip Kumar</td>\n",
       "      <td>Impact of industrial development on socio econ...</td>\n",
       "    </tr>\n",
       "    <tr>\n",
       "      <th>106112</th>\n",
       "      <td>Singh, Praveen Kumar</td>\n",
       "      <td>Machhlishahr tahsil ki jansankhya paryavaran e...</td>\n",
       "    </tr>\n",
       "    <tr>\n",
       "      <th>109628</th>\n",
       "      <td>Singh, Pradeep Kumar</td>\n",
       "      <td>Madhyakaleen Bharat mein bhawan nirman 1206 1707</td>\n",
       "    </tr>\n",
       "  </tbody>\n",
       "</table>\n",
       "</div>"
      ],
      "text/plain": [
       "             researcher_name  \\\n",
       "44167   Singh, Praveen Kumar   \n",
       "61253   Singh, Pradeep Kumar   \n",
       "105928   Singh, Pradip Kumar   \n",
       "106112  Singh, Praveen Kumar   \n",
       "109628  Singh, Pradeep Kumar   \n",
       "\n",
       "                                                    title  \n",
       "44167           Akbar Hemu sambandh ka aitihasik adhyayan  \n",
       "61253   Smritiyon mein varnit ashram vyavastha ka sami...  \n",
       "105928  Impact of industrial development on socio econ...  \n",
       "106112  Machhlishahr tahsil ki jansankhya paryavaran e...  \n",
       "109628   Madhyakaleen Bharat mein bhawan nirman 1206 1707  "
      ]
     },
     "execution_count": 65,
     "metadata": {},
     "output_type": "execute_result"
    }
   ],
   "source": [
    "ment_6[(ment_6['resId']==50791)][['researcher_name','title']]"
   ]
  },
  {
   "cell_type": "code",
   "execution_count": 56,
   "metadata": {},
   "outputs": [
    {
     "data": {
      "text/html": [
       "<div>\n",
       "<style scoped>\n",
       "    .dataframe tbody tr th:only-of-type {\n",
       "        vertical-align: middle;\n",
       "    }\n",
       "\n",
       "    .dataframe tbody tr th {\n",
       "        vertical-align: top;\n",
       "    }\n",
       "\n",
       "    .dataframe thead th {\n",
       "        text-align: right;\n",
       "    }\n",
       "</style>\n",
       "<table border=\"1\" class=\"dataframe\">\n",
       "  <thead>\n",
       "    <tr style=\"text-align: right;\">\n",
       "      <th></th>\n",
       "      <th>advisorId</th>\n",
       "      <th>researcherId</th>\n",
       "      <th>advId</th>\n",
       "      <th>resId</th>\n",
       "      <th>advisor_name</th>\n",
       "      <th>researcher_name</th>\n",
       "      <th>publisher_dept</th>\n",
       "      <th>DepartmentId</th>\n",
       "      <th>publisher_institution</th>\n",
       "      <th>instituteId</th>\n",
       "      <th>...</th>\n",
       "      <th>new_date_awarded</th>\n",
       "      <th>dc.date.awarded</th>\n",
       "      <th>dc.subject.ddc</th>\n",
       "      <th>uniq_ddc_across_dept</th>\n",
       "      <th>dc.description.abstract</th>\n",
       "      <th>dc.title.alternative</th>\n",
       "      <th>N_DepartmentId_1</th>\n",
       "      <th>ddc_code</th>\n",
       "      <th>advisor_advId</th>\n",
       "      <th>researcher_resId</th>\n",
       "    </tr>\n",
       "  </thead>\n",
       "  <tbody>\n",
       "    <tr>\n",
       "      <th>18174</th>\n",
       "      <td>7836</td>\n",
       "      <td>109995</td>\n",
       "      <td>7836</td>\n",
       "      <td>285616</td>\n",
       "      <td>Sundaram, E. Ganapathy</td>\n",
       "      <td>V, Sivakumar</td>\n",
       "      <td>faculty of mechanical engineering</td>\n",
       "      <td>D2324</td>\n",
       "      <td>Anna University</td>\n",
       "      <td>I250</td>\n",
       "      <td>...</td>\n",
       "      <td>2017-07-01</td>\n",
       "      <td>NaN</td>\n",
       "      <td>600::Technology|620::Engineering &amp; allied oper...</td>\n",
       "      <td>('600', '620')</td>\n",
       "      <td>NaN</td>\n",
       "      <td>NaN</td>\n",
       "      <td>D2324</td>\n",
       "      <td>('600', '620')</td>\n",
       "      <td>Sundaram, E. Ganapathy@7836</td>\n",
       "      <td>V, Sivakumar@285616</td>\n",
       "    </tr>\n",
       "  </tbody>\n",
       "</table>\n",
       "<p>1 rows × 24 columns</p>\n",
       "</div>"
      ],
      "text/plain": [
       "       advisorId  researcherId  advId   resId            advisor_name  \\\n",
       "18174       7836        109995   7836  285616  Sundaram, E. Ganapathy   \n",
       "\n",
       "      researcher_name                     publisher_dept DepartmentId  \\\n",
       "18174    V, Sivakumar  faculty of mechanical engineering        D2324   \n",
       "\n",
       "      publisher_institution instituteId  ... new_date_awarded dc.date.awarded  \\\n",
       "18174       Anna University        I250  ...       2017-07-01             NaN   \n",
       "\n",
       "                                          dc.subject.ddc uniq_ddc_across_dept  \\\n",
       "18174  600::Technology|620::Engineering & allied oper...       ('600', '620')   \n",
       "\n",
       "      dc.description.abstract dc.title.alternative N_DepartmentId_1  \\\n",
       "18174                     NaN                  NaN            D2324   \n",
       "\n",
       "             ddc_code                advisor_advId     researcher_resId  \n",
       "18174  ('600', '620')  Sundaram, E. Ganapathy@7836  V, Sivakumar@285616  \n",
       "\n",
       "[1 rows x 24 columns]"
      ]
     },
     "execution_count": 56,
     "metadata": {},
     "output_type": "execute_result"
    }
   ],
   "source": [
    "ment_6[ment_6['title']=='Modelling and experimental analysis on thermal performance of single slope solar still']"
   ]
  },
  {
   "cell_type": "code",
   "execution_count": 40,
   "metadata": {},
   "outputs": [
    {
     "data": {
      "text/plain": [
       "106225    Singh, Praveen Kumar\n",
       "Name: researcher_name, dtype: object"
      ]
     },
     "execution_count": 40,
     "metadata": {},
     "output_type": "execute_result"
    }
   ],
   "source": [
    "ment_5[(ment_5['resId']==50791)]['researcher_name']"
   ]
  },
  {
   "cell_type": "code",
   "execution_count": 41,
   "metadata": {},
   "outputs": [
    {
     "data": {
      "text/html": [
       "<div>\n",
       "<style scoped>\n",
       "    .dataframe tbody tr th:only-of-type {\n",
       "        vertical-align: middle;\n",
       "    }\n",
       "\n",
       "    .dataframe tbody tr th {\n",
       "        vertical-align: top;\n",
       "    }\n",
       "\n",
       "    .dataframe thead th {\n",
       "        text-align: right;\n",
       "    }\n",
       "</style>\n",
       "<table border=\"1\" class=\"dataframe\">\n",
       "  <thead>\n",
       "    <tr style=\"text-align: right;\">\n",
       "      <th></th>\n",
       "      <th>researcher_name</th>\n",
       "      <th>title</th>\n",
       "      <th>N_thesisId</th>\n",
       "    </tr>\n",
       "  </thead>\n",
       "  <tbody>\n",
       "    <tr>\n",
       "      <th>44167</th>\n",
       "      <td>Singh, Praveen Kumar</td>\n",
       "      <td>Akbar Hemu sambandh ka aitihasik adhyayan</td>\n",
       "      <td>T16266</td>\n",
       "    </tr>\n",
       "    <tr>\n",
       "      <th>61253</th>\n",
       "      <td>Singh, Pradeep Kumar</td>\n",
       "      <td>Smritiyon mein varnit ashram vyavastha ka sami...</td>\n",
       "      <td>T97187</td>\n",
       "    </tr>\n",
       "    <tr>\n",
       "      <th>105928</th>\n",
       "      <td>Singh, Pradip Kumar</td>\n",
       "      <td>Impact of industrial development on socio econ...</td>\n",
       "      <td>T153024</td>\n",
       "    </tr>\n",
       "    <tr>\n",
       "      <th>106112</th>\n",
       "      <td>Singh, Praveen Kumar</td>\n",
       "      <td>Machhlishahr tahsil ki jansankhya paryavaran e...</td>\n",
       "      <td>T98820</td>\n",
       "    </tr>\n",
       "    <tr>\n",
       "      <th>109628</th>\n",
       "      <td>Singh, Pradeep Kumar</td>\n",
       "      <td>Madhyakaleen Bharat mein bhawan nirman 1206 1707</td>\n",
       "      <td>T100248</td>\n",
       "    </tr>\n",
       "  </tbody>\n",
       "</table>\n",
       "</div>"
      ],
      "text/plain": [
       "             researcher_name  \\\n",
       "44167   Singh, Praveen Kumar   \n",
       "61253   Singh, Pradeep Kumar   \n",
       "105928   Singh, Pradip Kumar   \n",
       "106112  Singh, Praveen Kumar   \n",
       "109628  Singh, Pradeep Kumar   \n",
       "\n",
       "                                                    title N_thesisId  \n",
       "44167           Akbar Hemu sambandh ka aitihasik adhyayan     T16266  \n",
       "61253   Smritiyon mein varnit ashram vyavastha ka sami...     T97187  \n",
       "105928  Impact of industrial development on socio econ...    T153024  \n",
       "106112  Machhlishahr tahsil ki jansankhya paryavaran e...     T98820  \n",
       "109628   Madhyakaleen Bharat mein bhawan nirman 1206 1707    T100248  "
      ]
     },
     "execution_count": 41,
     "metadata": {},
     "output_type": "execute_result"
    }
   ],
   "source": [
    "ment_6[(ment_6['resId']==50791)][['researcher_name', 'title','N_thesisId']]"
   ]
  },
  {
   "cell_type": "code",
   "execution_count": null,
   "metadata": {},
   "outputs": [],
   "source": []
  }
 ],
 "metadata": {
  "kernelspec": {
   "display_name": "Python 3",
   "language": "python",
   "name": "python3"
  },
  "language_info": {
   "codemirror_mode": {
    "name": "ipython",
    "version": 3
   },
   "file_extension": ".py",
   "mimetype": "text/x-python",
   "name": "python",
   "nbconvert_exporter": "python",
   "pygments_lexer": "ipython3",
   "version": "3.7.12"
  }
 },
 "nbformat": 4,
 "nbformat_minor": 4
}
