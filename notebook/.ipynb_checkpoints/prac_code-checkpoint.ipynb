{
 "cells": [
  {
   "cell_type": "code",
   "execution_count": 45,
   "metadata": {},
   "outputs": [
    {
     "name": "stdout",
     "output_type": "stream",
     "text": [
      "No. of chocolate type:5\n",
      "Qyantity_0: 2\n",
      "Qyantity_1: 5\n",
      "Qyantity_2: 3\n",
      "Qyantity_3: 2\n",
      "Qyantity_4: 4\n",
      "Number chocolate want to give:4\n",
      "[2, 1, 2, 3, 4] True\n",
      "[1, 1, 1, 2, 3] True\n",
      "[1, 0, 0, 1, 2] True\n",
      "result:3\n"
     ]
    }
   ],
   "source": [
    "def check_cond(choc_list, num):\n",
    "    flag= None\n",
    "    mod_sort_choc_list = []\n",
    "    sort_choc_list = sorted(choc_list)\n",
    "    if all(sort_choc_list[-num:]):\n",
    "        flag=True\n",
    "        mod_sort_choc_list= [qty-1 if (len(sort_choc_list)-num <= i) else qty for i, qty in enumerate(sort_choc_list) ]\n",
    "    else:\n",
    "        flag= False\n",
    "    return mod_sort_choc_list, flag\n",
    "\n",
    "\n",
    "choclate_type = int(input(\"No. of chocolate type:\"))\n",
    "qty = [int(input(f\"Qyantity_{i}: \")) for i in range(choclate_type)]\n",
    "chocolate_give = int(input(\"Number chocolate want to give:\"))\n",
    "count=0\n",
    "mod_sort, flag = check_cond(qty, chocolate_give)\n",
    "while flag:\n",
    "    count+=1\n",
    "    print(mod_sort, flag)\n",
    "    mod_sort, flag = check_cond(mod_sort, chocolate_give)\n",
    "print(f\"result:{count}\")"
   ]
  },
  {
   "cell_type": "code",
   "execution_count": null,
   "metadata": {},
   "outputs": [],
   "source": []
  }
 ],
 "metadata": {
  "kernelspec": {
   "display_name": "Python 3",
   "language": "python",
   "name": "python3"
  },
  "language_info": {
   "codemirror_mode": {
    "name": "ipython",
    "version": 3
   },
   "file_extension": ".py",
   "mimetype": "text/x-python",
   "name": "python",
   "nbconvert_exporter": "python",
   "pygments_lexer": "ipython3",
   "version": "3.7.12"
  }
 },
 "nbformat": 4,
 "nbformat_minor": 4
}
