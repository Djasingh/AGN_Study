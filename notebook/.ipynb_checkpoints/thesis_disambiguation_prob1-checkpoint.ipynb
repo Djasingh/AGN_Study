{
 "cells": [
  {
   "cell_type": "code",
   "execution_count": 1,
   "metadata": {},
   "outputs": [],
   "source": [
    "import re\n",
    "import json\n",
    "import fuzzy\n",
    "import pickle\n",
    "import jellyfish\n",
    "import itertools\n",
    "import pandas as pd\n",
    "import textdistance\n",
    "import editdistance\n",
    "from tqdm import tqdm\n",
    "from fuzzywuzzy import fuzz\n",
    "from collections import Counter\n",
    "from cdifflib import CSequenceMatcher"
   ]
  },
  {
   "cell_type": "code",
   "execution_count": 2,
   "metadata": {},
   "outputs": [],
   "source": [
    "#\"index_files4/shodhganga_mentorship_dataset_edit_dist_v2.csv\""
   ]
  },
  {
   "cell_type": "code",
   "execution_count": 3,
   "metadata": {},
   "outputs": [],
   "source": [
    "#folder=\"dataset_v5/v5_2/\""
   ]
  },
  {
   "cell_type": "code",
   "execution_count": 4,
   "metadata": {},
   "outputs": [],
   "source": [
    "folder = '../dataset_v5/v5_2/v5_2_2/'"
   ]
  },
  {
   "cell_type": "code",
   "execution_count": 5,
   "metadata": {},
   "outputs": [],
   "source": [
    "#Phonetic algorithm (sound based algorithm), Token based algorithm, character based algorithm"
   ]
  },
  {
   "cell_type": "code",
   "execution_count": 6,
   "metadata": {},
   "outputs": [],
   "source": [
    "ment=pd.read_csv(folder+\"final_shodhganga_dataset_v5_2_7_1.csv\",sep=\",\")"
   ]
  },
  {
   "cell_type": "code",
   "execution_count": 7,
   "metadata": {},
   "outputs": [
    {
     "data": {
      "text/plain": [
       "Index(['advisorId', 'researcherId', 'advId', 'resId', 'advisor_name',\n",
       "       'researcher_name', 'publisher_dept', 'DepartmentId',\n",
       "       'publisher_institution', 'instituteId', 'title', 'thesisId',\n",
       "       'N_thesisId', 'date_submitted', 'new_date_awarded', 'dc.date.awarded',\n",
       "       'dc.subject.ddc', 'uniq_ddc_across_dept', 'dc.description.abstract',\n",
       "       'dc.title.alternative', 'N_DepartmentId_1', 'ddc_code', 'advisor_advId',\n",
       "       'researcher_resId'],\n",
       "      dtype='object')"
      ]
     },
     "execution_count": 7,
     "metadata": {},
     "output_type": "execute_result"
    }
   ],
   "source": [
    "ment.columns"
   ]
  },
  {
   "cell_type": "code",
   "execution_count": 8,
   "metadata": {},
   "outputs": [],
   "source": [
    "chars=[',',\";\",\"\\.\",\":\",\"-\",\"\\)\",\"\\(\",\"_\"]"
   ]
  },
  {
   "cell_type": "code",
   "execution_count": 9,
   "metadata": {},
   "outputs": [],
   "source": [
    "def lcs(name1, name2):\n",
    "    match = CSequenceMatcher(None, name1, name2).find_longest_match(0, len(name1), 0, len(name2))\n",
    "    common_subs=name1[match.a: match.a + match.size]\n",
    "    name1=re.sub(re.escape(common_subs),\"\",name1)\n",
    "    name2=re.sub(re.escape(common_subs),\"\",name2)\n",
    "    return name1,name2"
   ]
  },
  {
   "cell_type": "code",
   "execution_count": 10,
   "metadata": {},
   "outputs": [],
   "source": [
    "def rm_splChar(name):\n",
    "    name = str(name)\n",
    "    name1 = re.sub(\" +\",\"\",name)\n",
    "    regex = \"|\".join(chars)\n",
    "    name1 = re.sub(regex,\"\", name1)\n",
    "    name2 = re.sub(regex,\"\", name)\n",
    "    #val = re.sub('[^A-Za-z]+', '', val)\n",
    "    return name1, name2"
   ]
  },
  {
   "cell_type": "code",
   "execution_count": 11,
   "metadata": {},
   "outputs": [],
   "source": [
    "def char_dist(name1, name2):\n",
    "    name1=rm_splChar(name1)\n",
    "    name2=rm_splChar(name2)\n",
    "    return int(Counter(name1)==Counter(name2))"
   ]
  },
  {
   "cell_type": "code",
   "execution_count": 12,
   "metadata": {},
   "outputs": [],
   "source": [
    "def diff_lib(name1, name2):\n",
    "    name1=name1.lower()\n",
    "    name2=name2.lower()\n",
    "    ratio=CSequenceMatcher(lambda x: x == ' ', name1, name2).ratio()\n",
    "    return ratio"
   ]
  },
  {
   "cell_type": "code",
   "execution_count": 13,
   "metadata": {},
   "outputs": [],
   "source": [
    "def jaro_winkler_score(name1, name2):\n",
    "    jw_score=textdistance.jaro_winkler.normalized_similarity(name1,name2)\n",
    "    return jw_score"
   ]
  },
  {
   "cell_type": "code",
   "execution_count": 14,
   "metadata": {},
   "outputs": [],
   "source": [
    "def levenshtein_score(name1, name2):\n",
    "    leven_score = textdistance.levenshtein.normalized_similarity(name1,name2)\n",
    "    return leven_score"
   ]
  },
  {
   "cell_type": "code",
   "execution_count": 15,
   "metadata": {},
   "outputs": [],
   "source": [
    "def fuzzy_nysiis(name1, name2):\n",
    "    ny1=fuzzy.nysiis(name1)\n",
    "    ny2=fuzzy.nysiis(name2)\n",
    "    if (ny1 or ny2):\n",
    "        nysiis_score = editdistance.eval(ny1, ny2)/max(len(ny1),len(ny2))\n",
    "    else:\n",
    "        nysiis_score = 0\n",
    "    return nysiis_score"
   ]
  },
  {
   "cell_type": "code",
   "execution_count": 16,
   "metadata": {},
   "outputs": [],
   "source": [
    "def fuzzy_DMetaphone(name1, name2):\n",
    "    d1=jellyfish.metaphone(name1)\n",
    "    d2=jellyfish.metaphone(name2)\n",
    "    if (d1 or d2):\n",
    "        meta_score = editdistance.eval(d1, d2)/max(len(d1),len(d2))\n",
    "    else:\n",
    "        meta_score = 0\n",
    "    return meta_score"
   ]
  },
  {
   "cell_type": "code",
   "execution_count": 17,
   "metadata": {},
   "outputs": [],
   "source": [
    "#Soundex is a phonetic algorithm \n",
    "def jellyfish_soundex(name1, name2):\n",
    "    s1=jellyfish.soundex(name1)\n",
    "    s2=jellyfish.soundex(name2)\n",
    "    sound_score = editdistance.eval(s1,s2)/max(len(s1),len(s2))\n",
    "    return sound_score"
   ]
  },
  {
   "cell_type": "code",
   "execution_count": 18,
   "metadata": {},
   "outputs": [],
   "source": [
    "def fuzzy_wuzzy(name1, name2):\n",
    "    fuzz_score=fuzz.token_set_ratio(name1, name2)/100\n",
    "    return fuzz_score"
   ]
  },
  {
   "cell_type": "code",
   "execution_count": 19,
   "metadata": {},
   "outputs": [],
   "source": [
    "def hamming_similarity(name1, name2):\n",
    "    h_score=textdistance.hamming.normalized_similarity(name1,name2)\n",
    "    return h_score"
   ]
  },
  {
   "cell_type": "code",
   "execution_count": 20,
   "metadata": {},
   "outputs": [],
   "source": [
    "def jaccard_similarity(name1, name2):\n",
    "    j_score=textdistance.jaccard.normalized_similarity(name1,name2)\n",
    "    return j_score"
   ]
  },
  {
   "cell_type": "code",
   "execution_count": 21,
   "metadata": {},
   "outputs": [],
   "source": [
    "def cosine_similarity(name1, name2):\n",
    "    c_score=textdistance.jaccard.normalized_similarity(name1,name2)\n",
    "    return c_score"
   ]
  },
  {
   "cell_type": "code",
   "execution_count": 22,
   "metadata": {},
   "outputs": [],
   "source": [
    "def damerau_levenshtein_similarity(name1, name2):\n",
    "    dl_score=textdistance.damerau_levenshtein.normalized_similarity(name1,name2)\n",
    "    return dl_score"
   ]
  },
  {
   "cell_type": "code",
   "execution_count": 23,
   "metadata": {},
   "outputs": [],
   "source": [
    "def sorensen_dice_similarity(name1, name2):\n",
    "    sd_score=textdistance.sorensen_dice.normalized_similarity(name1,name2)\n",
    "    return sd_score"
   ]
  },
  {
   "cell_type": "code",
   "execution_count": 24,
   "metadata": {},
   "outputs": [],
   "source": [
    "def calculate_feats(name1, name2):\n",
    "    sim_score=[]\n",
    "    #sim_score.append(char_dist(name1, name2))\n",
    "    sim_score.append(diff_lib(name1,name2))\n",
    "    sim_score.append(jaro_winkler_score(name1, name2))\n",
    "    sim_score.append(levenshtein_score(name1, name2))\n",
    "    sim_score.append(1-fuzzy_nysiis(name1, name2))#distance\n",
    "    sim_score.append(1-fuzzy_DMetaphone(name1, name2))#distance\n",
    "    sim_score.append(1-jellyfish_soundex(name1,name2))#distance\n",
    "    sim_score.append(fuzzy_wuzzy(name1, name2))\n",
    "    sim_score.append(hamming_similarity(name1, name2))\n",
    "    sim_score.append(jaccard_similarity(name1, name2))\n",
    "    sim_score.append(cosine_similarity(name1, name2))\n",
    "    sim_score.append(damerau_levenshtein_similarity(name1, name2))\n",
    "    sim_score.append(sorensen_dice_similarity(name1, name2))\n",
    "    return sim_score"
   ]
  },
  {
   "cell_type": "code",
   "execution_count": 25,
   "metadata": {},
   "outputs": [],
   "source": [
    "def save_obj(obj, name ):\n",
    "    with open(name + '.pkl', 'wb') as f:\n",
    "        pickle.dump(obj, f, pickle.HIGHEST_PROTOCOL)\n",
    "\n",
    "def load_obj(name):\n",
    "    with open(name, 'rb') as f:\n",
    "        return pickle.load(f)"
   ]
  },
  {
   "cell_type": "code",
   "execution_count": 26,
   "metadata": {},
   "outputs": [],
   "source": [
    "def name_sim_score(name1, name2):\n",
    "    vec_sum=[]\n",
    "    n1, n10 = rm_splChar(name1)\n",
    "    #print(n1,n10)\n",
    "    n2, n20 = rm_splChar(name2)\n",
    "    #print(n2,n20)\n",
    "    n11, n21 = lcs(n1, n2)\n",
    "    n101, n201 = lcs(n10,n20)\n",
    "    #print(n101, n201)\n",
    "    #print(n11, n21)\n",
    "    #print(set(n1.lower()).intersection(n2.lower()))\n",
    "    #check=len(set(n1.lower()).intersection(n2.lower()))/max(len(set(n1)),len(set(n2)))\n",
    "    #print(check)\n",
    "    if n11 and n21: \n",
    "        vec1 = calculate_feats(n11, n21)\n",
    "        vec2 = calculate_feats(n11.lower(), n21.lower())\n",
    "        vec_sum.append(sum(vec1))\n",
    "        vec_sum.append(sum(vec2))\n",
    "    else:\n",
    "        vec1 = calculate_feats(n1, n2)\n",
    "        vec2 = calculate_feats(n1.lower(), n2.lower())\n",
    "        vec_sum.append(sum(vec1))\n",
    "        vec_sum.append(sum(vec2))\n",
    "    if n101 and n201: \n",
    "        vec3=calculate_feats(n101, n201)\n",
    "        vec4=calculate_feats(n101.lower(), n201.lower())\n",
    "        vec_sum.append(sum(vec3))\n",
    "        vec_sum.append(sum(vec4))\n",
    "    else:\n",
    "        vec3=calculate_feats(n10, n20)\n",
    "        vec4=calculate_feats(n10.lower(), n20.lower())\n",
    "        vec_sum.append(sum(vec3))\n",
    "        vec_sum.append(sum(vec4))\n",
    "    if (n11.strip()=='' and n21.strip()=='') or (n101.strip()=='' and n201.strip()==''):\n",
    "        vec_sum.append(12)\n",
    "    return vec_sum"
   ]
  },
  {
   "cell_type": "code",
   "execution_count": 27,
   "metadata": {},
   "outputs": [],
   "source": [
    "name1='Jaya P' \n",
    "name2='Jaya P' #check for Shastri in other versions"
   ]
  },
  {
   "cell_type": "code",
   "execution_count": 28,
   "metadata": {},
   "outputs": [],
   "source": [
    "#set(name1)-set(name2)"
   ]
  },
  {
   "cell_type": "code",
   "execution_count": 29,
   "metadata": {},
   "outputs": [
    {
     "data": {
      "text/plain": [
       "[12.0, 12.0, 12.0, 12.0, 12]"
      ]
     },
     "execution_count": 29,
     "metadata": {},
     "output_type": "execute_result"
    }
   ],
   "source": [
    "name_sim_score(name1,name2)"
   ]
  },
  {
   "cell_type": "code",
   "execution_count": 30,
   "metadata": {},
   "outputs": [],
   "source": [
    "#sum(calculate_feats(\"aramanand\", \"ramanand\"))"
   ]
  },
  {
   "cell_type": "code",
   "execution_count": 31,
   "metadata": {},
   "outputs": [
    {
     "data": {
      "text/plain": [
       "Index(['advisorId', 'researcherId', 'advId', 'resId', 'advisor_name',\n",
       "       'researcher_name', 'publisher_dept', 'DepartmentId',\n",
       "       'publisher_institution', 'instituteId', 'title', 'thesisId',\n",
       "       'N_thesisId', 'date_submitted', 'new_date_awarded', 'dc.date.awarded',\n",
       "       'dc.subject.ddc', 'uniq_ddc_across_dept', 'dc.description.abstract',\n",
       "       'dc.title.alternative', 'N_DepartmentId_1', 'ddc_code', 'advisor_advId',\n",
       "       'researcher_resId'],\n",
       "      dtype='object')"
      ]
     },
     "execution_count": 31,
     "metadata": {},
     "output_type": "execute_result"
    }
   ],
   "source": [
    "ment.columns"
   ]
  },
  {
   "cell_type": "code",
   "execution_count": 32,
   "metadata": {},
   "outputs": [],
   "source": [
    "#name_sim_score(name1, name2)"
   ]
  },
  {
   "cell_type": "code",
   "execution_count": 33,
   "metadata": {},
   "outputs": [],
   "source": [
    "#ment = ment[(ment[\"N_thesisId\"]=='T42107') | (ment[\"advId\"].isin([65824,65829]))].copy()"
   ]
  },
  {
   "cell_type": "code",
   "execution_count": 34,
   "metadata": {},
   "outputs": [],
   "source": [
    "uniq_thesisId = pd.unique(ment['N_thesisId'])"
   ]
  },
  {
   "cell_type": "code",
   "execution_count": 35,
   "metadata": {
    "scrolled": true
   },
   "outputs": [
    {
     "name": "stderr",
     "output_type": "stream",
     "text": [
      "100%|██████████| 189086/189086 [33:59<00:00, 92.69it/s]\n"
     ]
    }
   ],
   "source": [
    "for tid in tqdm(uniq_thesisId):\n",
    "    tmp = ment[ment['N_thesisId']==tid].copy()\n",
    "    uniq_rid = pd.unique(tmp['resId'])\n",
    "    sim_lst=[]\n",
    "    if uniq_rid.shape[0] > 1:\n",
    "        #print(uniq_names)\n",
    "        #print(uniq_rid)\n",
    "        uniq_names = pd.unique(tmp['researcher_name'])\n",
    "        names_comb = itertools.combinations(uniq_names, 2)\n",
    "        for name1, name2 in names_comb:\n",
    "            #print(max(name_sim_score(name1, name2)))\n",
    "            if max(name_sim_score(name1, name2)) > 8:\n",
    "                sim_lst.append(name1)\n",
    "                sim_lst.append(name2)\n",
    "            else:\n",
    "                continue\n",
    "        if len(sim_lst) > 0:\n",
    "            #print(sim_lst)\n",
    "            studid = pd.unique(ment[(ment['N_thesisId']==tid) & (ment[\"researcher_name\"].isin(sim_lst))]['resId'])\n",
    "            tmp_id=[]\n",
    "            for sid in studid :\n",
    "                if ment[ment['advId']==sid].empty:\n",
    "                    continue\n",
    "                else:\n",
    "                    tmp_id.append(pd.unique(ment[ment['advId']==sid]['advId'])[0])\n",
    "            if len(tmp_id)==1:\n",
    "                ment.loc[((ment['N_thesisId']==tid) & (ment[\"researcher_name\"].isin(sim_lst))),'resId'] = tmp_id[0]\n",
    "            elif len(tmp_id) == 0:\n",
    "                tmp_id1 = min(ment[(ment['N_thesisId']==tid) & (ment[\"researcher_name\"].isin(sim_lst))]['resId'].tolist())\n",
    "                ment.loc[((ment['N_thesisId']==tid) & (ment[\"researcher_name\"].isin(sim_lst))),'resId'] = tmp_id1\n",
    "            else :\n",
    "                ment.loc[((ment['N_thesisId']==tid) & (ment[\"researcher_name\"].isin(sim_lst))),'resId'] = min(tmp_id)\n",
    "                ment.loc[(ment[\"advId\"].isin(tmp_id)),'advId'] = min(tmp_id)\n",
    "                print(\"Check for this thesis id : \"+tid)\n",
    "        else:\n",
    "            continue\n",
    "    else:\n",
    "        continue"
   ]
  },
  {
   "cell_type": "code",
   "execution_count": 57,
   "metadata": {},
   "outputs": [],
   "source": [
    "#manual correction \n",
    "#ment.loc[((ment['advId']==50955)&(ment[\"advisor_name\"].isin(['Singh, Anjani Kumar','Singh, Anjanee Kumar']))),'advId']= max(ment['advId'].max(),ment['resId'].max())+1"
   ]
  },
  {
   "cell_type": "code",
   "execution_count": 61,
   "metadata": {},
   "outputs": [],
   "source": [
    "ment.to_csv(folder+\"final_shodhganga_dataset_v5_2_7_2.csv\", sep=\",\", index=False)"
   ]
  },
  {
   "cell_type": "code",
   "execution_count": 35,
   "metadata": {},
   "outputs": [],
   "source": [
    "#uniq_thesisId[0]"
   ]
  },
  {
   "cell_type": "code",
   "execution_count": 37,
   "metadata": {},
   "outputs": [
    {
     "data": {
      "text/html": [
       "<div>\n",
       "<style scoped>\n",
       "    .dataframe tbody tr th:only-of-type {\n",
       "        vertical-align: middle;\n",
       "    }\n",
       "\n",
       "    .dataframe tbody tr th {\n",
       "        vertical-align: top;\n",
       "    }\n",
       "\n",
       "    .dataframe thead th {\n",
       "        text-align: right;\n",
       "    }\n",
       "</style>\n",
       "<table border=\"1\" class=\"dataframe\">\n",
       "  <thead>\n",
       "    <tr style=\"text-align: right;\">\n",
       "      <th></th>\n",
       "      <th>advisorId</th>\n",
       "      <th>researcherId</th>\n",
       "      <th>advId</th>\n",
       "      <th>resId</th>\n",
       "      <th>advisor_name</th>\n",
       "      <th>researcher_name</th>\n",
       "      <th>publisher_dept</th>\n",
       "      <th>DepartmentId</th>\n",
       "      <th>publisher_institution</th>\n",
       "      <th>instituteId</th>\n",
       "      <th>...</th>\n",
       "      <th>new_date_awarded</th>\n",
       "      <th>dc.date.awarded</th>\n",
       "      <th>dc.subject.ddc</th>\n",
       "      <th>uniq_ddc_across_dept</th>\n",
       "      <th>dc.description.abstract</th>\n",
       "      <th>dc.title.alternative</th>\n",
       "      <th>N_DepartmentId_1</th>\n",
       "      <th>ddc_code</th>\n",
       "      <th>advisor_advId</th>\n",
       "      <th>researcher_resId</th>\n",
       "    </tr>\n",
       "  </thead>\n",
       "  <tbody>\n",
       "    <tr>\n",
       "      <th>2458</th>\n",
       "      <td>1183</td>\n",
       "      <td>96037</td>\n",
       "      <td>1183</td>\n",
       "      <td>96037</td>\n",
       "      <td>Muthamizhchelvan, C.</td>\n",
       "      <td>Archana, J.</td>\n",
       "      <td>department of physics</td>\n",
       "      <td>D1787</td>\n",
       "      <td>SRM University</td>\n",
       "      <td>I47</td>\n",
       "      <td>...</td>\n",
       "      <td>2011-07-01</td>\n",
       "      <td>NaN</td>\n",
       "      <td>500::Natural sciences &amp; mathematics|530::Physics</td>\n",
       "      <td>('500', '530')</td>\n",
       "      <td>NaN</td>\n",
       "      <td>NaN</td>\n",
       "      <td>D1787</td>\n",
       "      <td>('500', '530')</td>\n",
       "      <td>Muthamizhchelvan, C.@1183</td>\n",
       "      <td>Archana, J.@96037</td>\n",
       "    </tr>\n",
       "    <tr>\n",
       "      <th>2467</th>\n",
       "      <td>1188</td>\n",
       "      <td>96056</td>\n",
       "      <td>1184</td>\n",
       "      <td>96056</td>\n",
       "      <td>Ponnusamy S.</td>\n",
       "      <td>Anbuchezhiyan M</td>\n",
       "      <td>department of physics</td>\n",
       "      <td>D1787</td>\n",
       "      <td>SRM University</td>\n",
       "      <td>I47</td>\n",
       "      <td>...</td>\n",
       "      <td>2010-07-09</td>\n",
       "      <td>NaN</td>\n",
       "      <td>500::Natural sciences &amp; mathematics|530::Physics</td>\n",
       "      <td>('500', '530')</td>\n",
       "      <td>NaN</td>\n",
       "      <td>NaN</td>\n",
       "      <td>D1787</td>\n",
       "      <td>('500', '530')</td>\n",
       "      <td>Ponnusamy S.@1184</td>\n",
       "      <td>Anbuchezhiyan M@96056</td>\n",
       "    </tr>\n",
       "  </tbody>\n",
       "</table>\n",
       "<p>2 rows × 24 columns</p>\n",
       "</div>"
      ],
      "text/plain": [
       "      advisorId  researcherId  advId  resId          advisor_name  \\\n",
       "2458       1183         96037   1183  96037  Muthamizhchelvan, C.   \n",
       "2467       1188         96056   1184  96056          Ponnusamy S.   \n",
       "\n",
       "      researcher_name         publisher_dept DepartmentId  \\\n",
       "2458      Archana, J.  department of physics        D1787   \n",
       "2467  Anbuchezhiyan M  department of physics        D1787   \n",
       "\n",
       "     publisher_institution instituteId  ... new_date_awarded dc.date.awarded  \\\n",
       "2458        SRM University         I47  ...       2011-07-01             NaN   \n",
       "2467        SRM University         I47  ...       2010-07-09             NaN   \n",
       "\n",
       "                                        dc.subject.ddc uniq_ddc_across_dept  \\\n",
       "2458  500::Natural sciences & mathematics|530::Physics       ('500', '530')   \n",
       "2467  500::Natural sciences & mathematics|530::Physics       ('500', '530')   \n",
       "\n",
       "     dc.description.abstract dc.title.alternative N_DepartmentId_1  \\\n",
       "2458                     NaN                  NaN            D1787   \n",
       "2467                     NaN                  NaN            D1787   \n",
       "\n",
       "            ddc_code              advisor_advId       researcher_resId  \n",
       "2458  ('500', '530')  Muthamizhchelvan, C.@1183      Archana, J.@96037  \n",
       "2467  ('500', '530')          Ponnusamy S.@1184  Anbuchezhiyan M@96056  \n",
       "\n",
       "[2 rows x 24 columns]"
      ]
     },
     "execution_count": 37,
     "metadata": {},
     "output_type": "execute_result"
    }
   ],
   "source": [
    "ment[ment['resId'].isin([96037,96056])]"
   ]
  },
  {
   "cell_type": "code",
   "execution_count": 38,
   "metadata": {},
   "outputs": [
    {
     "data": {
      "text/html": [
       "<div>\n",
       "<style scoped>\n",
       "    .dataframe tbody tr th:only-of-type {\n",
       "        vertical-align: middle;\n",
       "    }\n",
       "\n",
       "    .dataframe tbody tr th {\n",
       "        vertical-align: top;\n",
       "    }\n",
       "\n",
       "    .dataframe thead th {\n",
       "        text-align: right;\n",
       "    }\n",
       "</style>\n",
       "<table border=\"1\" class=\"dataframe\">\n",
       "  <thead>\n",
       "    <tr style=\"text-align: right;\">\n",
       "      <th></th>\n",
       "      <th>advisorId</th>\n",
       "      <th>researcherId</th>\n",
       "      <th>advId</th>\n",
       "      <th>resId</th>\n",
       "      <th>advisor_name</th>\n",
       "      <th>researcher_name</th>\n",
       "      <th>publisher_dept</th>\n",
       "      <th>DepartmentId</th>\n",
       "      <th>publisher_institution</th>\n",
       "      <th>instituteId</th>\n",
       "      <th>...</th>\n",
       "      <th>new_date_awarded</th>\n",
       "      <th>dc.date.awarded</th>\n",
       "      <th>dc.subject.ddc</th>\n",
       "      <th>uniq_ddc_across_dept</th>\n",
       "      <th>dc.description.abstract</th>\n",
       "      <th>dc.title.alternative</th>\n",
       "      <th>N_DepartmentId_1</th>\n",
       "      <th>ddc_code</th>\n",
       "      <th>advisor_advId</th>\n",
       "      <th>researcher_resId</th>\n",
       "    </tr>\n",
       "  </thead>\n",
       "  <tbody>\n",
       "    <tr>\n",
       "      <th>17156</th>\n",
       "      <td>7361</td>\n",
       "      <td>109235</td>\n",
       "      <td>7361</td>\n",
       "      <td>109235</td>\n",
       "      <td>Anand Shastri, P.</td>\n",
       "      <td>Kumari, Asha</td>\n",
       "      <td>department of sanskrit</td>\n",
       "      <td>D453</td>\n",
       "      <td>Aligarh Muslim University</td>\n",
       "      <td>I292</td>\n",
       "      <td>...</td>\n",
       "      <td>1983-07-01</td>\n",
       "      <td>NaN</td>\n",
       "      <td>400::Language|490::Other languages|491::East I...</td>\n",
       "      <td>('400', '490', '491')</td>\n",
       "      <td>NaN</td>\n",
       "      <td>NaN</td>\n",
       "      <td>D1989</td>\n",
       "      <td>('400', '490', '491')</td>\n",
       "      <td>Anand Shastri, P.@7361</td>\n",
       "      <td>Kumari, Asha@109235</td>\n",
       "    </tr>\n",
       "    <tr>\n",
       "      <th>17168</th>\n",
       "      <td>7366</td>\n",
       "      <td>109248</td>\n",
       "      <td>7366</td>\n",
       "      <td>109248</td>\n",
       "      <td>Sharma, S. R.</td>\n",
       "      <td>Ali, Shakir</td>\n",
       "      <td>department of sanskrit</td>\n",
       "      <td>D453</td>\n",
       "      <td>Aligarh Muslim University</td>\n",
       "      <td>I292</td>\n",
       "      <td>...</td>\n",
       "      <td>1982-07-01</td>\n",
       "      <td>NaN</td>\n",
       "      <td>400::Language|490::Other languages|491::East I...</td>\n",
       "      <td>('400', '490', '491')</td>\n",
       "      <td>NaN</td>\n",
       "      <td>NaN</td>\n",
       "      <td>D1989</td>\n",
       "      <td>('400', '490', '491')</td>\n",
       "      <td>Sharma, S. R.@7366</td>\n",
       "      <td>Ali, Shakir@109248</td>\n",
       "    </tr>\n",
       "  </tbody>\n",
       "</table>\n",
       "<p>2 rows × 24 columns</p>\n",
       "</div>"
      ],
      "text/plain": [
       "       advisorId  researcherId  advId   resId       advisor_name  \\\n",
       "17156       7361        109235   7361  109235  Anand Shastri, P.   \n",
       "17168       7366        109248   7366  109248      Sharma, S. R.   \n",
       "\n",
       "      researcher_name          publisher_dept DepartmentId  \\\n",
       "17156    Kumari, Asha  department of sanskrit         D453   \n",
       "17168     Ali, Shakir  department of sanskrit         D453   \n",
       "\n",
       "           publisher_institution instituteId  ... new_date_awarded  \\\n",
       "17156  Aligarh Muslim University        I292  ...       1983-07-01   \n",
       "17168  Aligarh Muslim University        I292  ...       1982-07-01   \n",
       "\n",
       "      dc.date.awarded                                     dc.subject.ddc  \\\n",
       "17156             NaN  400::Language|490::Other languages|491::East I...   \n",
       "17168             NaN  400::Language|490::Other languages|491::East I...   \n",
       "\n",
       "        uniq_ddc_across_dept dc.description.abstract dc.title.alternative  \\\n",
       "17156  ('400', '490', '491')                     NaN                  NaN   \n",
       "17168  ('400', '490', '491')                     NaN                  NaN   \n",
       "\n",
       "      N_DepartmentId_1               ddc_code           advisor_advId  \\\n",
       "17156            D1989  ('400', '490', '491')  Anand Shastri, P.@7361   \n",
       "17168            D1989  ('400', '490', '491')      Sharma, S. R.@7366   \n",
       "\n",
       "          researcher_resId  \n",
       "17156  Kumari, Asha@109235  \n",
       "17168   Ali, Shakir@109248  \n",
       "\n",
       "[2 rows x 24 columns]"
      ]
     },
     "execution_count": 38,
     "metadata": {},
     "output_type": "execute_result"
    }
   ],
   "source": [
    "ment[ment['advId'].isin([7361,7366])]"
   ]
  },
  {
   "cell_type": "code",
   "execution_count": 39,
   "metadata": {},
   "outputs": [
    {
     "data": {
      "text/html": [
       "<div>\n",
       "<style scoped>\n",
       "    .dataframe tbody tr th:only-of-type {\n",
       "        vertical-align: middle;\n",
       "    }\n",
       "\n",
       "    .dataframe tbody tr th {\n",
       "        vertical-align: top;\n",
       "    }\n",
       "\n",
       "    .dataframe thead th {\n",
       "        text-align: right;\n",
       "    }\n",
       "</style>\n",
       "<table border=\"1\" class=\"dataframe\">\n",
       "  <thead>\n",
       "    <tr style=\"text-align: right;\">\n",
       "      <th></th>\n",
       "      <th>advisorId</th>\n",
       "      <th>researcherId</th>\n",
       "      <th>advId</th>\n",
       "      <th>resId</th>\n",
       "      <th>advisor_name</th>\n",
       "      <th>researcher_name</th>\n",
       "      <th>publisher_dept</th>\n",
       "      <th>DepartmentId</th>\n",
       "      <th>publisher_institution</th>\n",
       "      <th>instituteId</th>\n",
       "      <th>...</th>\n",
       "      <th>new_date_awarded</th>\n",
       "      <th>dc.date.awarded</th>\n",
       "      <th>dc.subject.ddc</th>\n",
       "      <th>uniq_ddc_across_dept</th>\n",
       "      <th>dc.description.abstract</th>\n",
       "      <th>dc.title.alternative</th>\n",
       "      <th>N_DepartmentId_1</th>\n",
       "      <th>ddc_code</th>\n",
       "      <th>advisor_advId</th>\n",
       "      <th>researcher_resId</th>\n",
       "    </tr>\n",
       "  </thead>\n",
       "  <tbody>\n",
       "    <tr>\n",
       "      <th>17112</th>\n",
       "      <td>7339</td>\n",
       "      <td>7364</td>\n",
       "      <td>7339</td>\n",
       "      <td>7328</td>\n",
       "      <td>Shastri, Paramanand</td>\n",
       "      <td>Sharma, Satyaprakash</td>\n",
       "      <td>department of sanskrit</td>\n",
       "      <td>D453</td>\n",
       "      <td>Aligarh Muslim University</td>\n",
       "      <td>I292</td>\n",
       "      <td>...</td>\n",
       "      <td>1978-07-01</td>\n",
       "      <td>NaN</td>\n",
       "      <td>400::Language|490::Other languages|491::East I...</td>\n",
       "      <td>('400', '490', '491')</td>\n",
       "      <td>NaN</td>\n",
       "      <td>NaN</td>\n",
       "      <td>D1989</td>\n",
       "      <td>('400', '490', '491')</td>\n",
       "      <td>Shastri, Paramanand@7339</td>\n",
       "      <td>Sharma, Satyaprakash@7328</td>\n",
       "    </tr>\n",
       "  </tbody>\n",
       "</table>\n",
       "<p>1 rows × 24 columns</p>\n",
       "</div>"
      ],
      "text/plain": [
       "       advisorId  researcherId  advId  resId         advisor_name  \\\n",
       "17112       7339          7364   7339   7328  Shastri, Paramanand   \n",
       "\n",
       "            researcher_name          publisher_dept DepartmentId  \\\n",
       "17112  Sharma, Satyaprakash  department of sanskrit         D453   \n",
       "\n",
       "           publisher_institution instituteId  ... new_date_awarded  \\\n",
       "17112  Aligarh Muslim University        I292  ...       1978-07-01   \n",
       "\n",
       "      dc.date.awarded                                     dc.subject.ddc  \\\n",
       "17112             NaN  400::Language|490::Other languages|491::East I...   \n",
       "\n",
       "        uniq_ddc_across_dept dc.description.abstract dc.title.alternative  \\\n",
       "17112  ('400', '490', '491')                     NaN                  NaN   \n",
       "\n",
       "      N_DepartmentId_1               ddc_code             advisor_advId  \\\n",
       "17112            D1989  ('400', '490', '491')  Shastri, Paramanand@7339   \n",
       "\n",
       "                researcher_resId  \n",
       "17112  Sharma, Satyaprakash@7328  \n",
       "\n",
       "[1 rows x 24 columns]"
      ]
     },
     "execution_count": 39,
     "metadata": {},
     "output_type": "execute_result"
    }
   ],
   "source": [
    "ment[ment['N_thesisId']==\"T42107\"]"
   ]
  },
  {
   "cell_type": "code",
   "execution_count": 33,
   "metadata": {},
   "outputs": [],
   "source": [
    "#ment[ment['advId']==88889]"
   ]
  },
  {
   "cell_type": "code",
   "execution_count": null,
   "metadata": {},
   "outputs": [],
   "source": []
  },
  {
   "cell_type": "code",
   "execution_count": null,
   "metadata": {},
   "outputs": [],
   "source": []
  }
 ],
 "metadata": {
  "kernelspec": {
   "display_name": "Python 3",
   "language": "python",
   "name": "python3"
  },
  "language_info": {
   "codemirror_mode": {
    "name": "ipython",
    "version": 3
   },
   "file_extension": ".py",
   "mimetype": "text/x-python",
   "name": "python",
   "nbconvert_exporter": "python",
   "pygments_lexer": "ipython3",
   "version": "3.7.12"
  }
 },
 "nbformat": 4,
 "nbformat_minor": 4
}
