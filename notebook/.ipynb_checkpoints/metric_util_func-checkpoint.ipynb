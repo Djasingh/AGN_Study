{
 "cells": [
  {
   "cell_type": "code",
   "execution_count": 1,
   "metadata": {},
   "outputs": [],
   "source": [
    "import pandas as pd\n",
    "import networkx as nx\n",
    "import numpy as np\n",
    "from collections import Counter\n",
    "import itertools\n",
    "import json\n",
    "import matplotlib.pyplot as plt\n",
    "from matplotlib import colors\n",
    "import seaborn as sns\n",
    "import sys"
   ]
  },
  {
   "cell_type": "code",
   "execution_count": 2,
   "metadata": {},
   "outputs": [],
   "source": [
    "def get_names_inst_dept(ment, top_5, f_col, cols=['advisor_name','publisher_institution','publisher_dept']):\n",
    "    cols=[f_col]+cols\n",
    "    filter_df=ment[ment[f_col].isin(top_5)][cols].copy()\n",
    "    group_df=filter_df.groupby([f_col],as_index=False)[cols[1:]].agg(lambda x: \"; \".join(set(x)))\n",
    "    group_df[cols[1]]=group_df[cols[1]].apply(lambda x : x.split(';')[0])\n",
    "    group_df.set_index(f_col,inplace=True)\n",
    "    df=group_df.reindex(top_5)\n",
    "    return df"
   ]
  },
  {
   "cell_type": "code",
   "execution_count": 3,
   "metadata": {},
   "outputs": [],
   "source": [
    "def fertility_calculation(g):\n",
    "    fertility={}\n",
    "    for node in g.nodes:\n",
    "        count=1\n",
    "        successor = g.successors(node)\n",
    "        #print(list(successor))\n",
    "        child=g.out_degree(successor)\n",
    "        count=[k for k, v in child if v > 0]\n",
    "        fertility[node]=len(count)\n",
    "    return fertility"
   ]
  },
  {
   "cell_type": "code",
   "execution_count": 4,
   "metadata": {},
   "outputs": [],
   "source": [
    "def h_index_expert(citations):\n",
    "    citations = np.array(citations)\n",
    "    n         = citations.shape[0]\n",
    "    array     = np.arange(1, n+1)\n",
    "    citations = np.sort(citations)[::-1]\n",
    "    h_idx = np.max(np.minimum(citations, array))\n",
    "    return h_idx"
   ]
  },
  {
   "cell_type": "code",
   "execution_count": 5,
   "metadata": {},
   "outputs": [],
   "source": [
    "def child_deg(g):\n",
    "    hindex={}\n",
    "    for node in g.nodes:\n",
    "        childs = list(g.successors(node))\n",
    "        if len(childs) > 0:\n",
    "            #g_child=[len(list(g.successors(c))) for c in child ]\n",
    "            childs_deg = [deg for n ,deg in g.out_degree(childs)]\n",
    "            #print(child_deg)\n",
    "            h_index = h_index_expert(childs_deg)\n",
    "            #print(h_index)\n",
    "        else:\n",
    "            h_index = 0\n",
    "        hindex[node] = h_index\n",
    "    return hindex"
   ]
  },
  {
   "cell_type": "code",
   "execution_count": 6,
   "metadata": {},
   "outputs": [],
   "source": [
    "def gm_index(graph):\n",
    "    gm_index={}\n",
    "    for node in graph.nodes:\n",
    "        childs = list(graph.successors(node))\n",
    "        if len(childs) > 0:\n",
    "            childs_deg = sum([deg for n ,deg in graph.out_degree(childs)])\n",
    "            #gm_inx=np.floor(np.sqrt(childs))\n",
    "            for i in range(len(childs),-1,-1):\n",
    "                if childs_deg >= i*i:\n",
    "                    gm_index[node]=i\n",
    "                    break\n",
    "                else:\n",
    "                    continue\n",
    "        else:\n",
    "            gm_index[node]=0\n",
    "    return gm_index"
   ]
  },
  {
   "cell_type": "code",
   "execution_count": 7,
   "metadata": {},
   "outputs": [],
   "source": [
    "def gm_index_mod(graph):\n",
    "    gm_index={}\n",
    "    for node in graph.nodes:\n",
    "        childs = list(graph.successors(node))\n",
    "        if len(childs) > 0 :\n",
    "            childs_deg = [deg for n ,deg in graph.out_degree(childs)]\n",
    "            childs_deg.sort(reverse = True)\n",
    "            if sum(childs_deg)>0:\n",
    "                for i in range(len(childs)):\n",
    "                    if sum(childs_deg[:len(childs)-i]) >= (len(childs)-i)**2:\n",
    "                        gm_index[node]=len(childs)-i\n",
    "                        break\n",
    "                    else:\n",
    "                        continue\n",
    "            else:\n",
    "                gm_index[node]=0\n",
    "        else:\n",
    "            gm_index[node]=0\n",
    "    return gm_index"
   ]
  },
  {
   "cell_type": "code",
   "execution_count": 8,
   "metadata": {},
   "outputs": [],
   "source": [
    "def Generation(g):\n",
    "    gen_dict={}\n",
    "    try:\n",
    "        for i,node in enumerate(g.nodes):\n",
    "            gen=0\n",
    "            childs=list(g.successors(node))\n",
    "            #print(child)\n",
    "            while len(childs) > 0:\n",
    "                gen+=1\n",
    "                childs=[list(g.successors(c)) for c in childs if len(list(g.successors(c)))>0]\n",
    "                childs=[coc for child in childs for coc in child]\n",
    "                #print(child)\n",
    "            gen_dict[node]=gen\n",
    "            if i%100000==0:\n",
    "                print(f\"completed :{i} nodes\")\n",
    "    except:\n",
    "        return gen_dict\n",
    "    return gen_dict"
   ]
  },
  {
   "cell_type": "code",
   "execution_count": 9,
   "metadata": {},
   "outputs": [],
   "source": [
    "def cousins(g):\n",
    "    cousins={}\n",
    "    for node in g.nodes:\n",
    "        cousin=[]\n",
    "        pred=list(g.predecessors(node))\n",
    "        if len(pred)==0:\n",
    "            cousin=[]\n",
    "        else:\n",
    "            pred1=[list(g.predecessors(p)) for p in pred if len(list(g.predecessors(p)))>0]\n",
    "            pred1=[n for p in pred1 for n in p]\n",
    "            #print(pred1)\n",
    "            if len(pred1)==0:\n",
    "                cousin=[]\n",
    "            else:\n",
    "                succ=[list(g.successors(p)) for p in pred1 if len(list(g.successors(p)))>0]\n",
    "                #print(succ)\n",
    "                succ=[n for p in succ for n in p]\n",
    "                #print(succ)\n",
    "                #print(pred)\n",
    "                uncle=[p for p in succ if p not in pred]\n",
    "                #print(uncle)\n",
    "                if len(uncle) > 0:\n",
    "                    cousin=[list(g.successors(u)) for u in uncle if len(list(g.successors(u)))>0]\n",
    "                    cousin=[n for c in cousin for n in c]\n",
    "                    #print(cousin)\n",
    "        cousins[node]=len(cousin)\n",
    "    return cousins"
   ]
  },
  {
   "cell_type": "code",
   "execution_count": 10,
   "metadata": {},
   "outputs": [],
   "source": [
    "def desc_calculation(g):\n",
    "    desc_dist={}\n",
    "    for node in g.nodes:\n",
    "        desc = len(nx.descendants(g,node))\n",
    "        desc_dist[node]=desc\n",
    "    return desc_dist"
   ]
  },
  {
   "cell_type": "code",
   "execution_count": 11,
   "metadata": {},
   "outputs": [],
   "source": [
    "def fertility_calculation(g):\n",
    "    fertility={}\n",
    "    for node in g.nodes:\n",
    "        successor = g.successors(node)\n",
    "        #print(list(successor))\n",
    "        child=g.out_degree(successor)\n",
    "        count=[k for k, v in child if v > 0]\n",
    "        fertility[node]=len(count)\n",
    "    return fertility"
   ]
  },
  {
   "cell_type": "code",
   "execution_count": 12,
   "metadata": {},
   "outputs": [],
   "source": [
    "#!pip install import-ipynb"
   ]
  },
  {
   "cell_type": "code",
   "execution_count": 13,
   "metadata": {},
   "outputs": [],
   "source": [
    "def draw_dist_graph(metric_dict,title='Institute wise fecundity distribution', ylabel='Institute Count',xlabel='Inst. Fecundity value',bin_size=np.arange(0,600,100)):\n",
    "    #counts, bins = np.histogram(list(metric_dict.values()))\n",
    "    fig, ax = plt.subplots(figsize=(12,8))\n",
    "    ax.hist(list(metric_dict.values()), bins=10, log=True)\n",
    "    plt.title(title)\n",
    "    plt.ylabel(ylabel,fontweight='bold',fontsize=20)\n",
    "    plt.xlabel(xlabel,fontweight='bold',fontsize=20)\n",
    "    plt.show()\n",
    "    return"
   ]
  },
  {
   "cell_type": "code",
   "execution_count": 14,
   "metadata": {},
   "outputs": [],
   "source": [
    "def load_obj(folder):\n",
    "    with open(folder, 'r') as fp:\n",
    "        data = json.load(fp)\n",
    "    return data"
   ]
  },
  {
   "cell_type": "code",
   "execution_count": 15,
   "metadata": {},
   "outputs": [],
   "source": [
    "def save_obj(name, data):\n",
    "    save_fol=\"../save_data/\"\n",
    "    with open(save_fol+name+'.json', 'w') as fp:\n",
    "        json.dump(data, fp)\n",
    "    print(f\"file save successfully in folder : {save_fol}\")"
   ]
  },
  {
   "cell_type": "code",
   "execution_count": 16,
   "metadata": {},
   "outputs": [],
   "source": [
    "def save_obj_inst(name, data):\n",
    "    save_fol=\"dataset_v5/v5_2/top_10/institute_level/\"\n",
    "    with open(save_fol+name+'.json', 'w') as fp:\n",
    "        json.dump(data, fp)\n",
    "    print(f\"file save successfully in folder : {save_fol}\")"
   ]
  },
  {
   "cell_type": "code",
   "execution_count": 17,
   "metadata": {},
   "outputs": [],
   "source": [
    "def find_unique_values(df,col):\n",
    "    uniq_val=df[col].unique()\n",
    "    return uniq_val"
   ]
  },
  {
   "cell_type": "code",
   "execution_count": 18,
   "metadata": {},
   "outputs": [],
   "source": [
    "def inst_wise_val(df, col, dist_dict):\n",
    "    metric={}\n",
    "    uniq_col_val = find_unique_values(df,col)\n",
    "    for val in uniq_col_val:\n",
    "        filter_df=df[df[col]==val]\n",
    "        uniq_id = pd.unique(filter_df[['resId','advId']].values.ravel('K'))\n",
    "        metric_sum=sum([int(dist_dict[idd]) for idd in uniq_id])\n",
    "        metric[val]=metric_sum\n",
    "    return metric"
   ]
  },
  {
   "cell_type": "code",
   "execution_count": 19,
   "metadata": {},
   "outputs": [],
   "source": [
    "def top_metric_val(metric_dict,top=10):\n",
    "    metric_sort=dict(sorted(metric_dict.items(), key = lambda item: item[1], reverse = True))\n",
    "    top_val=list(metric_sort.keys())[:top]\n",
    "    top_key_val={key:metric_sort[key] for i, key in enumerate(metric_sort) if i < top}\n",
    "    return metric_sort, top_key_val #change return type from top_val to metric_sort"
   ]
  },
  {
   "cell_type": "code",
   "execution_count": 20,
   "metadata": {},
   "outputs": [],
   "source": [
    "def filter_df_based_on_date(df, st_date='2000-01-01', end_date='2020-01-01'):\n",
    "    df['new_date_awarded']=pd.to_datetime(df['new_date_awarded'],errors='coerce')\n",
    "    df = df.set_index('new_date_awarded')\n",
    "    df_filter=df.loc[st_date:end_date].copy()\n",
    "    return df_filter"
   ]
  },
  {
   "cell_type": "code",
   "execution_count": 21,
   "metadata": {},
   "outputs": [],
   "source": [
    "def ntw_graph(filter_data):\n",
    "    graph1 = nx.convert_matrix.from_pandas_edgelist(filter_data, 'advId','resId','publisher_institution', create_using=nx.DiGraph())\n",
    "    graph1.remove_edges_from(nx.selfloop_edges(graph1))\n",
    "    cycle=list(nx.simple_cycles(graph1))\n",
    "    graph1.remove_edges_from(cycle)\n",
    "    return graph1"
   ]
  },
  {
   "cell_type": "code",
   "execution_count": 22,
   "metadata": {},
   "outputs": [],
   "source": [
    "def ntw_graph_with_instId(filter_data):\n",
    "    graph1 = nx.convert_matrix.from_pandas_edgelist(filter_data, 'advId','resId','instituteId', create_using=nx.DiGraph())\n",
    "    graph1.remove_edges_from(nx.selfloop_edges(graph1))\n",
    "    cycle=list(nx.simple_cycles(graph1))\n",
    "    graph1.remove_edges_from(cycle)\n",
    "    return graph1"
   ]
  },
  {
   "cell_type": "code",
   "execution_count": 23,
   "metadata": {},
   "outputs": [],
   "source": [
    "#np.floor(np.sqrt(15))"
   ]
  },
  {
   "cell_type": "code",
   "execution_count": 24,
   "metadata": {},
   "outputs": [],
   "source": [
    "def ntw_graph_ddc(filter_data):\n",
    "    graph = nx.convert_matrix.from_pandas_edgelist(filter_data, 'advId','resId','upper_ddc_code', create_using=nx.DiGraph())\n",
    "    graph.remove_edges_from(nx.selfloop_edges(graph))\n",
    "    cycle=list(nx.simple_cycles(graph))\n",
    "    graph.remove_edges_from(cycle)\n",
    "    return graph"
   ]
  },
  {
   "cell_type": "code",
   "execution_count": 25,
   "metadata": {},
   "outputs": [],
   "source": [
    "#[\"1960-1980\",\"1980-2000\",\"2000-2000\",\"All\"]"
   ]
  },
  {
   "cell_type": "code",
   "execution_count": 26,
   "metadata": {},
   "outputs": [],
   "source": [
    "def rank_grid(rank_change, labels, xlabels=None, title=\"Change in Institute Rank Over Time\"):\n",
    "    alabels = labels\n",
    "    xlabels = xlabels\n",
    "    ranklabels=['1st','2nd','3rd','4th','5th','6th','7th','8th','9th','10th',\n",
    "               '11th','12th','13th','14th','15th','16th','17th','18th','19th','20th']\n",
    "    nsize=rank_change.shape[0]\n",
    "    ylabels=ranklabels[:nsize]\n",
    " \n",
    "    mycolors = colors.ListedColormap(['#de425b','#f7f7f7','#67a9cf'])\n",
    "    fig, ax = plt.subplots(dpi=200)\n",
    "    im = ax.imshow(rank_change, cmap=mycolors)\n",
    " \n",
    "    # Show all ticks...\n",
    "    ax.set_xticks(np.arange(len(xlabels)))\n",
    "    ax.set_yticks(np.arange(len(ylabels)))\n",
    "    # ... and label them with the respective list entries\n",
    "    ax.set_xticklabels(xlabels)\n",
    "    ax.set_yticklabels(ylabels)\n",
    " \n",
    "    # Create white grid.\n",
    "    ax.set_xticks(np.arange(rank_change.shape[1]+1)-.5, minor=True)\n",
    "    ax.set_yticks(np.arange(rank_change.shape[0]+0.5)-.5, minor=True)\n",
    "    ax.grid(which=\"minor\", color=\"w\", linestyle='-', linewidth=1)\n",
    "    ax.grid(which=\"major\", visible=False)\n",
    " \n",
    "    cbar = ax.figure.colorbar(im, ax=ax, ticks=[1,0,-1], shrink=0.3)\n",
    "    cbar.ax.tick_params(labelsize=5)\n",
    "    cbar.ax.set_yticklabels(['Increased','No Change','Decreased'])\n",
    " \n",
    "    # Loop over data dimensions and create text annotations.\n",
    "    for i in range(len(ylabels)):\n",
    "        for j in range(len(xlabels)):\n",
    "            if rank_change[i,j] < 0:\n",
    "                text = ax.text(j, i, alabels[i, j],\n",
    "                           ha=\"center\", va=\"center\", color=\"w\",fontsize=5,wrap=True,weight='bold')\n",
    "            else:\n",
    "                text = ax.text(j, i, alabels[i, j],\n",
    "                           ha=\"center\", va=\"center\", color=\"k\",fontsize=5,wrap=True,weight='bold')\n",
    " \n",
    "    ax.set_title(title)\n",
    "    plt.xticks(fontsize=5)\n",
    "    plt.yticks(fontsize=5)\n",
    "    fig.tight_layout()\n",
    "    plt.show()\n",
    "    return ax"
   ]
  },
  {
   "cell_type": "code",
   "execution_count": 27,
   "metadata": {},
   "outputs": [],
   "source": [
    "def rank_grid_not_colorbar(rank_change, labels, xlabels=None, title=\"Change in Institute Rank Over Time\"):\n",
    "    alabels = labels\n",
    "    xlabels = xlabels\n",
    "    ranklabels=['1st','2nd','3rd','4th','5th','6th','7th','8th','9th','10th',\n",
    "               '11th','12th','13th','14th','15th','16th','17th','18th','19th','20th']\n",
    "    nsize=rank_change.shape[0]\n",
    "    ylabels=ranklabels[:nsize]\n",
    " \n",
    "    mycolors = colors.ListedColormap(['#de425b','#f7f7f7','#67a9cf'])\n",
    "    fig, ax = plt.subplots(dpi=200)\n",
    "    im = ax.imshow(rank_change, cmap=mycolors)\n",
    " \n",
    "    # Show all ticks...\n",
    "    ax.set_xticks(np.arange(len(xlabels)))\n",
    "    ax.set_yticks(np.arange(len(ylabels)))\n",
    "    # ... and label them with the respective list entries\n",
    "    ax.set_xticklabels(xlabels)\n",
    "    ax.set_yticklabels(ylabels)\n",
    " \n",
    "    # Create white grid.\n",
    "    ax.set_xticks(np.arange(rank_change.shape[1]+1)-.5, minor=True)\n",
    "    ax.set_yticks(np.arange(rank_change.shape[0]+0.5)-.5, minor=True)\n",
    "    ax.grid(which=\"minor\", color=\"w\", linestyle='-', linewidth=1)\n",
    "    ax.grid(which=\"major\", visible=False)\n",
    " \n",
    "    cbar = ax.figure.colorbar(im, ax=ax, ticks=[1,0,-1], shrink=0.3)\n",
    "    cbar.remove()\n",
    "#     cbar.ax.tick_params(labelsize=5)\n",
    "#     cbar.ax.set_yticklabels(['Increased','No Change','Decreased'])\n",
    "    \n",
    " \n",
    "    # Loop over data dimensions and create text annotations.\n",
    "    for i in range(len(ylabels)):\n",
    "        for j in range(len(xlabels)):\n",
    "            if rank_change[i,j] < 0:\n",
    "                text = ax.text(j, i, alabels[i, j],\n",
    "                           ha=\"center\", va=\"center\", color=\"w\",fontsize=5,wrap=True,weight='bold')\n",
    "            else:\n",
    "                text = ax.text(j, i, alabels[i, j],\n",
    "                           ha=\"center\", va=\"center\", color=\"k\",fontsize=5,wrap=True,weight='bold')\n",
    " \n",
    "    ax.set_title(title)\n",
    "    plt.xticks(fontsize=5)\n",
    "    plt.yticks(fontsize=5)\n",
    "    fig.tight_layout()\n",
    "    plt.show()\n",
    "    return ax"
   ]
  },
  {
   "cell_type": "code",
   "execution_count": 28,
   "metadata": {},
   "outputs": [],
   "source": [
    "def rank_change(geoarray):\n",
    "    rowcount=geoarray.shape[0]\n",
    "    colcount=geoarray.shape[1]\n",
    " \n",
    "    # Create a number of blank lists\n",
    "    changelist = np.zeros((rowcount, colcount))\n",
    " \n",
    "    for i in range(colcount):\n",
    "        if i==0:\n",
    "            # Rank change for 1st year is 0, as there is no previous year\n",
    "            for j in range(rowcount):\n",
    "                changelist[j,i]=0\n",
    "        else:\n",
    "            col=geoarray[:,i] #Get all values in this col\n",
    "            prevcol=geoarray[:,i-1] #Get all values in previous col\n",
    "            for v in col:\n",
    "                array_pos=np.where(col == v) #returns array\n",
    "                current_pos=int(array_pos[0]) #get first array value\n",
    "                array_pos2=np.where(prevcol == v) #returns array\n",
    "                if len(array_pos2[0])==0: #if array is empty, because place was not in previous year\n",
    "                    previous_pos=current_pos+1\n",
    "                else:\n",
    "                    previous_pos=int(array_pos2[0]) #get first array value\n",
    "                if current_pos==previous_pos:\n",
    "                    changelist[current_pos,i]=0\n",
    "                    #No change in rank\n",
    "                elif current_pos > previous_pos: #Larger value = smaller rank\n",
    "                    changelist[current_pos,i]=-1\n",
    "                    #Rank has decreased\n",
    "                else:\n",
    "                    changelist[current_pos,i]=1\n",
    "    #rankchange=np.array(changelist)\n",
    "    return changelist"
   ]
  },
  {
   "cell_type": "code",
   "execution_count": 29,
   "metadata": {},
   "outputs": [],
   "source": [
    "def get_labels(array,inx_to_inst):\n",
    "    labels=[]\n",
    "    for i in range(array.shape[0]):\n",
    "        tmp=[]\n",
    "        for j in range(array.shape[1]):\n",
    "            tmp.append(inx_to_inst[array[i,j]])\n",
    "        labels.append(tmp)\n",
    "    return np.array(labels)"
   ]
  },
  {
   "cell_type": "code",
   "execution_count": 30,
   "metadata": {},
   "outputs": [],
   "source": [
    "def get_rank_array(dict1,dict2,dict3,dict4):\n",
    "    rank_list=[]\n",
    "    rank_list.append(list(top10_dict_0.keys()))\n",
    "    rank_list.append(list(top10_dict.keys()))\n",
    "    rank_list.append(list(top10_dict_1.keys()))\n",
    "    rank_list.append(list(top10_dict_2.keys()))\n",
    "    arr=np.array(rank_list).T\n",
    "    return arr"
   ]
  },
  {
   "cell_type": "code",
   "execution_count": 31,
   "metadata": {},
   "outputs": [],
   "source": [
    "def get_rank_array1(dict_list):\n",
    "    rank_list=[]\n",
    "    for tmp in dict_list:\n",
    "        rank_list.append(list(tmp.keys()))\n",
    "    arr=np.array(rank_list).T\n",
    "    return arr"
   ]
  },
  {
   "cell_type": "code",
   "execution_count": 32,
   "metadata": {},
   "outputs": [],
   "source": [
    "def filter_dataframe(df, till_date='2000-01-01'):\n",
    "    df['new_date_awarded']=pd.to_datetime(df['new_date_awarded'],errors='coerce')\n",
    "    df = df.set_index('new_date_awarded')\n",
    "    df_filter=df.loc[:till_date].copy()\n",
    "    return df_filter"
   ]
  },
  {
   "cell_type": "code",
   "execution_count": 33,
   "metadata": {},
   "outputs": [],
   "source": [
    "def thesis_advised_cumlative(df=None, metric=0, till_date='1980-01-01', func1=Counter, attr=\"instituteId\", func3=ntw_graph_with_instId):\n",
    "    if metric > 0:\n",
    "        print(\"Change func2 parameter\")\n",
    "        sys.exit()\n",
    "    filter_data = filter_dataframe(df, till_date=till_date)\n",
    "    graph = func3(filter_data) \n",
    "    inst_stud_tuple = set([(value[attr],v) for ((u, v), value) in graph.edges.items()])\n",
    "    attr_count = [inst for inst, stud in inst_stud_tuple]\n",
    "    inst_wise_stud_dist = func1(attr_count)\n",
    "    top10, top10_dict = top_metric_val(inst_wise_stud_dist)\n",
    "    return inst_wise_stud_dist, top10_dict"
   ]
  },
  {
   "cell_type": "code",
   "execution_count": 34,
   "metadata": {},
   "outputs": [],
   "source": [
    "def other_metrics1(df=None, metric=1, till_date='1980-01-01', func1=inst_wise_val, attr=\"instituteId\", func3=ntw_graph_with_instId):\n",
    "    filter_data=filter_dataframe(df, till_date=till_date)\n",
    "    graph = func3(filter_data)\n",
    "    if metric==1:\n",
    "        fecundity=graph.out_degree()\n",
    "        metric_dict=dict(fecundity)\n",
    "    elif metric==2:\n",
    "        fertiltiy=fertility_calculation(graph)\n",
    "        metric_dict=dict(fertiltiy)\n",
    "    elif metric==3:\n",
    "        hinx=child_deg(graph)\n",
    "        metric_dict=dict(hinx)\n",
    "    elif metric==4:\n",
    "        ginx=gm_index_mod(graph)\n",
    "        metric_dict=dict(ginx)\n",
    "    else:\n",
    "        #print('')\n",
    "        sys.exit('unknown metric index')\n",
    "    inst_fecund_metric=func1(filter_data, attr, metric_dict)\n",
    "    _, top10_dict=top_metric_val(inst_fecund_metric)\n",
    "    return inst_fecund_metric, top10_dict"
   ]
  },
  {
   "cell_type": "code",
   "execution_count": 35,
   "metadata": {},
   "outputs": [],
   "source": [
    "def draw_rank_heatmap1(df=None, inx_to_inst=None, from_y=1940, to_y=2020, step_size=20, func1=Counter, func2=thesis_advised_cumlative, metric=0, attr=\"instituteId\",func3=ntw_graph_with_instId,title=None):\n",
    "    top_dict_list=[]\n",
    "    to_y = to_y+step_size\n",
    "    for year in range(from_y, to_y, step_size):\n",
    "        _, top_dict = func2(df, metric=metric, till_date=f'{year}-01-01', func1=func1, attr=attr, func3=func3)\n",
    "        top_dict_list.append(top_dict)\n",
    "\n",
    "    #_ , top_dict_last = func2(flag='complete', metric=metric)\n",
    "    #top_dict_list = top_dict_list+[top_dict_last]\n",
    "    \n",
    "    arr = get_rank_array1(top_dict_list)\n",
    "    labels = get_labels(arr, inx_to_inst)\n",
    "    rank = rank_change(arr)\n",
    "    xlabels = [a for a in range(from_y,to_y,step_size)]\n",
    "    fig1 = rank_grid(rank, labels, xlabels = xlabels, title=title)\n",
    "    return fig1"
   ]
  },
  {
   "cell_type": "code",
   "execution_count": 36,
   "metadata": {},
   "outputs": [],
   "source": [
    "def draw_rank_heatmap2(df=None, inx_to_inst=None, from_y=1940, to_y=2020, step_size=20, func1=Counter, func2=thesis_advised_cumlative, metric=0, attr=\"instituteId\",func3=ntw_graph_with_instId,title=None):\n",
    "    top_dict_list=[]\n",
    "    to_y = to_y+step_size\n",
    "    for year in range(from_y, to_y, step_size):\n",
    "        _, top_dict = func2(df, metric=metric, till_date=f'{year}-01-01', func1=func1, attr=attr, func3=func3)\n",
    "        top_dict_list.append(top_dict)\n",
    "\n",
    "    #_ , top_dict_last = func2(flag='complete', metric=metric)\n",
    "    #top_dict_list = top_dict_list+[top_dict_last]\n",
    "    \n",
    "    arr = get_rank_array1(top_dict_list)\n",
    "    labels = get_labels(arr, inx_to_inst)\n",
    "    rank = rank_change(arr)\n",
    "    xlabels = [a for a in range(from_y,to_y,step_size)]\n",
    "    fig1 = rank_grid_not_colorbar(rank, labels, xlabels = xlabels, title=title)\n",
    "    return fig1"
   ]
  },
  {
   "cell_type": "code",
   "execution_count": 37,
   "metadata": {},
   "outputs": [],
   "source": [
    "def student_produced_over_time(df=None, st_year=1900, end_year=2020, interval_size=10, func3=ntw_graph_with_instId):\n",
    "    over_time=[]\n",
    "    labels=[]\n",
    "    end_year=end_year+interval_size\n",
    "    for year in range(st_year, end_year, interval_size):\n",
    "        #filter_data = filter_df_based_on_date(df, st_date=f'{year}-01-01',end_date=f'{year+interval_size}-01-01')\n",
    "        filter_data = filter_dataframe(df, till_date=f'{year}-01-01')\n",
    "        graph = func3(filter_data)\n",
    "        total = len(set([v for ((u, v), value) in graph.edges.items()]))\n",
    "        over_time.append(total)\n",
    "        #labels.append(str(year)+\"-\"+str(year+interval_size)[2:4])\n",
    "        labels.append(year)\n",
    "    print(over_time)\n",
    "    print(labels)\n",
    "    fig, ax =  plt.subplots(figsize=(12,8))\n",
    "    plt.plot(labels, over_time, color=\"b\",marker=\"*\")\n",
    "    plt.title(\"\", fontsize=12)#No. of Researcher Graduated over time\n",
    "    plt.ylabel(\"Frequency\", fontsize=20,fontweight='bold')\n",
    "    plt.xlabel(\"Year\", fontsize=20,fontweight='bold')\n",
    "    plt.savefig('../new_graphs/thesis_distribution_over_time.svg',bbox_inches='tight')\n",
    "    plt.show()\n",
    "    return over_time"
   ]
  },
  {
   "cell_type": "code",
   "execution_count": 38,
   "metadata": {},
   "outputs": [],
   "source": [
    "def inst_increase_over_time(df=None, st_year=1900, end_year=2020, interval_size=10, func3=ntw_graph_with_instId):\n",
    "    over_time=[]\n",
    "    labels=[]\n",
    "    end_year=end_year+interval_size\n",
    "    for year in range(st_year, end_year, interval_size):\n",
    "        filter_data = filter_dataframe(df, till_date=f'{year}-01-01')\n",
    "        graph = func3(filter_data)\n",
    "        total = len(set([value['instituteId'] for ((u, v), value) in graph.edges.items()]))\n",
    "        over_time.append(total)\n",
    "        labels.append(year)\n",
    "    print(over_time)\n",
    "    print(labels)\n",
    "    fig, ax =  plt.subplots(figsize=(12,8))\n",
    "    ax.plot(labels, over_time, color=\"b\",marker=\"*\")\n",
    "    ax.set_title(\"\",fontsize=12)#No. of University/Institute increase over time\n",
    "    ax.set_ylabel(\"Frequency\",fontsize=20,fontweight='bold')\n",
    "    ax.set_xlabel(\"Year\",fontsize=20,fontweight='bold')\n",
    "    plt.savefig('../new_graphs/inst_distribution_over_time.svg',bbox_inches='tight')\n",
    "    plt.show()\n",
    "    return over_time"
   ]
  },
  {
   "cell_type": "code",
   "execution_count": 39,
   "metadata": {},
   "outputs": [],
   "source": [
    "# def mod_jaccard_dist(dict1, dict2, inx_to_inst):\n",
    "#     order_rank1= [inx_to_inst[i] for i in dict1.keys()]\n",
    "#     order_rank2= [inx_to_inst[i] for i in dict2.keys()]\n",
    "#     top1_mod={inx:len(dict1)-i for i, inx in enumerate(list(dict1.keys()))}\n",
    "#     top2_mod={inx:len(dict2)-i for i, inx in enumerate(list(dict2.keys()))}\n",
    "#     comm_dict1={}\n",
    "#     common_keys=set(dict1.keys()).intersection(dict2.keys())\n",
    "#     for k in common_keys:\n",
    "#         comm_dict1[k] = top1_mod.get(k,0) if top2_mod.get(k,0) >= top1_mod.get(k,0) else top2_mod.get(k,0)\n",
    "#     dist=sum(comm_dict1.values())/(sum(top1_mod.values())+sum(top2_mod.values()))\n",
    "#     return order_rank1, order_rank2, dist"
   ]
  },
  {
   "cell_type": "code",
   "execution_count": 40,
   "metadata": {},
   "outputs": [],
   "source": [
    "#extended jaccard\n",
    "def mod_jaccard_dist(dict1, dict2, inx_to_inst):\n",
    "    order_rank1= [inx_to_inst[i] for i in dict1.keys()]\n",
    "    order_rank2= [inx_to_inst[i] for i in dict2.keys()]\n",
    "    top1_mod={inx:len(dict1)-i for i, inx in enumerate(list(dict1.keys()))}\n",
    "    top2_mod={inx:len(dict2)-i for i, inx in enumerate(list(dict2.keys()))}\n",
    "    comm_dict1={}\n",
    "    common_keys=set(dict1.keys()).intersection(dict2.keys())\n",
    "    union_keys=set(dict1.keys()).union(dict2.keys())\n",
    "    union_dict1={}\n",
    "    for k in common_keys:\n",
    "        comm_dict1[k] = top1_mod.get(k,0) if top2_mod.get(k,0) >= top1_mod.get(k,0) else top2_mod.get(k,0)\n",
    "    for k in union_keys:\n",
    "        union_dict1[k] = top2_mod.get(k,0) if top2_mod.get(k,0) >= top1_mod.get(k,0) else top1_mod.get(k,0)\n",
    "    dist=1-sum(comm_dict1.values())/sum(union_dict1.values())\n",
    "    return  order_rank1, order_rank2, dist"
   ]
  },
  {
   "cell_type": "code",
   "execution_count": 41,
   "metadata": {},
   "outputs": [],
   "source": [
    "def draw_rank_dist(df=None, inx_to_inst=None, from_y=1940, to_y=2020, step_size=10, func1=Counter, func2=thesis_advised_cumlative, metric=0, title=\"\",attr=\"instituteId\",func3=ntw_graph_with_instId):\n",
    "    top_dict_list=[]\n",
    "    dist_list=[]\n",
    "    rank_list=[]\n",
    "    #to_y=to_y+step_size\n",
    "    for year in range(from_y, to_y+step_size, step_size):\n",
    "        _, top_dict = func2(df, metric=metric, till_date=f'{year}-01-01', func1=func1, attr=attr, func3=func3)\n",
    "        top_dict_list.append(top_dict)\n",
    "    print(len(top_dict_list))\n",
    "  \n",
    "    xlabels = [a+step_size for a in range(from_y, to_y, step_size)]\n",
    "\n",
    "    #xlabels = [a for a in range(from_y+2*step_size, to_y, 2*step_size)]\n",
    "    for i,j in zip(top_dict_list, top_dict_list[1:]):\n",
    "#         dict1=top_dict_list[i]\n",
    "#         dict2=top_dict_list[i+1]\n",
    "        l1,l2,dist=mod_jaccard_dist(i,j,inx_to_inst)\n",
    "        dist_list.append(dist)\n",
    "        rank_list.append((l1,l2))\n",
    "            \n",
    "    print(dist_list)\n",
    "    print(xlabels)\n",
    "    fig, ax = plt.subplots(figsize=(10,8))\n",
    "    ax.plot(xlabels, dist_list, color=\"b\", marker='o')\n",
    "    ax.set_title(title)\n",
    "    ax.set_ylabel(\"Distance\",fontweight='bold',fontsize=20)\n",
    "    ax.set_xlabel(\"Year\",fontweight='bold',fontsize=20)\n",
    "    #ax.set_xticks([d for d in deg])\n",
    "    #ax.set_xticklabels(deg)\n",
    "    plt.show()\n",
    "    return rank_list, ax"
   ]
  },
  {
   "cell_type": "code",
   "execution_count": 42,
   "metadata": {},
   "outputs": [],
   "source": [
    "def mod_jaccard_dist_exp(dict1, dict2):\n",
    "    top1_mod={inx:len(dict1)-i for i, inx in enumerate(list(dict1.keys()))}\n",
    "    top2_mod={inx:len(dict2)-i for i, inx in enumerate(list(dict2.keys()))}\n",
    "    comm_dict1={}\n",
    "    common_keys=set(dict1.keys()).intersection(dict2.keys())\n",
    "    union_keys=set(dict1.keys()).union(dict2.keys())\n",
    "    union_dict1={}\n",
    "    for k in common_keys:\n",
    "        comm_dict1[k] = top1_mod.get(k,0) if top2_mod.get(k,0) >= top1_mod.get(k,0) else top2_mod.get(k,0)\n",
    "    for k in union_keys:\n",
    "        union_dict1[k] = top2_mod.get(k,0) if top2_mod.get(k,0) >= top1_mod.get(k,0) else top1_mod.get(k,0)\n",
    "    dist=1-sum(comm_dict1.values())/sum(union_dict1.values())\n",
    "    return dist, comm_dict1, union_dict1"
   ]
  },
  {
   "cell_type": "code",
   "execution_count": 43,
   "metadata": {},
   "outputs": [],
   "source": [
    "def draw_area_plot(df=None, inx_to_inst=None, from_y=1940, to_y=2020, step_size=10, func1=Counter, func2=thesis_advised_cumlative, metric=0, title=\"\", attr=\"instituteId\", func3=ntw_graph_with_instId):\n",
    "    top_dict_list=[]\n",
    "    comp_dist_list=[]\n",
    "    xlabels=[]\n",
    "    for year in range(from_y, to_y+step_size, step_size):\n",
    "        comp_dist, top_dict = func2(df, metric=metric, till_date=f'{year}-01-01', func1=func1, attr=attr, func3=func3)\n",
    "        top_dict_list.append(top_dict)\n",
    "        comp_dist_list.append(comp_dist)\n",
    "        xlabels.append(year)\n",
    "    uniq_inst=[]\n",
    "    inst_year={}\n",
    "    for dict1 in top_dict_list:\n",
    "        uniq_inst+=list(dict1.keys())\n",
    "    for inst in set(uniq_inst):\n",
    "        for dict1 in comp_dist_list:\n",
    "            if inst in inst_year:\n",
    "                inst_year[inst].append(dict1.get(inst,0))\n",
    "            else:\n",
    "                inst_year[inst]=[]\n",
    "                inst_year[inst].append(dict1.get(inst,0))\n",
    "    #xlabels = [a+step_size for a in range(from_y, to_y, step_size)]\n",
    "    print(xlabels)\n",
    "    inst_year = {inx_to_inst[key]: inst_year[key] for key in inst_year}\n",
    "    print(list(inst_year.values()))\n",
    "    print(list(inst_year.keys()))\n",
    "#     NUM_COLORS = len(inst_year)\n",
    "    #graph plot\n",
    "#     cm = plt.get_cmap('gist_rainbow')\n",
    "    fig, ax = plt.subplots(figsize=(12,10))\n",
    "#     colors = sns.color_palette(\"hls\", NUM_COLORS)\n",
    "#     ax.set_prop_cycle(color=[cm(1.*i/NUM_COLORS) for i in range(NUM_COLORS)])\n",
    "#     box = ax.get_position()\n",
    "#     ax.set_position([box.x0, box.y0, box.width * 0.8, box.height])\n",
    "    ax.stackplot(xlabels,list(inst_year.values()), labels=list(inst_year.keys()))\n",
    "    plt.yticks(fontsize=18, fontweight='bold')\n",
    "    plt.xticks(fontsize=18, fontweight='bold')\n",
    "    handles, labels = ax.get_legend_handles_labels()\n",
    "    print(labels)\n",
    "#     sort both labels and handles by labels\n",
    "#     labels, handles = zip(*sorted(zip(labels, handles), key=lambda t: t[0]))\n",
    "    ax.legend(handles[::-1], labels[::-1],loc='upper left',fancybox=True, shadow=True,prop={\"weight\":'bold',\"size\":14})\n",
    "    ax.set_xlabel('Year',fontweight='bold',fontsize=20)\n",
    "    ax.set_ylabel('Thesis Advised',fontweight='bold',fontsize=20)\n",
    "    ax.set_title(title)\n",
    "    plt.show()\n",
    "    return inst_year, ax"
   ]
  },
  {
   "cell_type": "code",
   "execution_count": 44,
   "metadata": {},
   "outputs": [],
   "source": [
    "def mod_draw_rank_dist(df=None, inx_to_inst=None, from_y=1940, to_y=2020, step_size=10, func1=Counter, func2=thesis_advised_cumlative, metric=0,attr=\"instituteId\",func3=ntw_graph_with_instId):\n",
    "    top_dict_list=[]\n",
    "    dist_list=[]\n",
    "    rank_list=[]\n",
    "    #to_y=to_y+step_size\n",
    "    for year in range(from_y, to_y+step_size, step_size):\n",
    "        _, top_dict = func2(df, metric=metric, till_date=f'{year}-01-01', func1=func1, attr=attr, func3=func3)\n",
    "        top_dict_list.append(top_dict)\n",
    "    print(len(top_dict_list))\n",
    "  \n",
    "    xlabels = [a+step_size for a in range(from_y, to_y, step_size)]\n",
    "\n",
    "    #xlabels = [a for a in range(from_y+2*step_size, to_y, 2*step_size)]\n",
    "    for i,j in zip(top_dict_list, top_dict_list[1:]):\n",
    "#         dict1=top_dict_list[i]\n",
    "#         dict2=top_dict_list[i+1]\n",
    "        l1,l2,dist=mod_jaccard_dist(i,j,inx_to_inst)\n",
    "        dist_list.append(dist)\n",
    "        rank_list.append((l1,l2))\n",
    "            \n",
    "#     print(dist_list)\n",
    "#     print(xlabels)\n",
    "    return xlabels,dist_list,rank_list"
   ]
  },
  {
   "cell_type": "code",
   "execution_count": 45,
   "metadata": {},
   "outputs": [],
   "source": [
    "def draw_bar_graph(metric_value_list,title='Fecundity Distribution',ylabel='Researcher Count',xlabel='Fecundity Value',bins=10, loc=\"../new_graphs/hist\", text=False, print_bin=False):\n",
    "    #counts, bins = np.histogram(metric_value_list)\n",
    "    plt.figure(figsize=(12,8))\n",
    "    ax = plt.axes()\n",
    "    n,bins,container=plt.hist(metric_value_list, bins=bins,color='#0504aa',density=False,log=True,rwidth=0.95)#  alpha=0.7\n",
    "    #plt.hist(deg, color=\"b\", bins=bin_size)\n",
    "    plt.yticks(fontsize=16,fontweight='bold')\n",
    "    plt.xticks(fontsize=16,fontweight='bold')\n",
    "    plt.title(title)\n",
    "    plt.ylabel(ylabel,fontweight='bold', fontsize=20) #fontsize=18\n",
    "    plt.xlabel(xlabel,fontweight='bold', fontsize=20)\n",
    "    if text:\n",
    "        for i,v in zip(bins[0:-1], n):\n",
    "            if v > 0:\n",
    "                plt.text(i, v, str(int(v)), color='green', fontweight='bold',fontsize=16)\n",
    "    if print_bin:\n",
    "        ax.set_xticks([int(d) for d in bins])\n",
    "        ax.set_xticklabels([int(b) for b in bins])\n",
    "    #plt.xticks(bins[0::5])\n",
    "    plt.savefig(loc,bbox_inches='tight')\n",
    "    plt.show()\n",
    "    print(n)\n",
    "    print(bins)\n",
    "    return"
   ]
  },
  {
   "cell_type": "code",
   "execution_count": 46,
   "metadata": {},
   "outputs": [],
   "source": [
    "def draw_line_graph(metric_counter,title=\"\",xlabel=\"\",ylabel=\"\",loc='../new_graphs/line'):\n",
    "    components1_dist_sort=sorted(metric_counter.items())\n",
    "    deg, cnt = zip(*components1_dist_sort)\n",
    "    fig, ax = plt.subplots(figsize=(12,8))\n",
    "    plt.plot(deg, cnt, color=\"b\")\n",
    "    plt.title(title)\n",
    "    plt.ylabel(ylabel,fontweight='bold', fontsize=20)\n",
    "    plt.xlabel(xlabel,fontweight='bold', fontsize=20)\n",
    "    plt.yscale('log')\n",
    "    #ax.set_xticks([d for d in deg])\n",
    "    #ax.set_xticklabels(deg)\n",
    "    plt.savefig(loc,bbox_inches='tight')\n",
    "    plt.show()\n",
    "    print(deg)\n",
    "    print(cnt)\n",
    "    return"
   ]
  },
  {
   "cell_type": "code",
   "execution_count": 47,
   "metadata": {},
   "outputs": [
    {
     "name": "stdout",
     "output_type": "stream",
     "text": [
      "main\n"
     ]
    }
   ],
   "source": [
    "if __name__=='__main__':\n",
    "    print(\"main\")\n",
    "#     a = [2,2,3,3,3,4,4,5,5,6,6,6,6,6,7,7,77,7,7,8]\n",
    "#     draw_bar_graph(a, text=True,print_bin=True)\n",
    "#     folder=\"../dataset_v5/v5_2/\"\n",
    "\n",
    "#     mod_ment2 = pd.read_csv(folder+'v5_2_2/'+'final_shodhganga_dataset_v5_2_6.csv', sep =\",\")\n",
    "\n",
    "#     inx_to_inst = dict(zip(mod_ment2.instituteId,mod_ment2.publisher_institution))\n",
    "\n",
    "#     year_wise_inst_dist, ax6 = draw_area_plot(mod_ment2, inx_to_inst=inx_to_inst)\n",
    "#     fig6=ax6.get_figure()\n",
    "#     fig6.savefig('../new_graphs/inst_stackplot_with_thesis.pdf',bbox_inches='tight')"
   ]
  },
  {
   "cell_type": "code",
   "execution_count": 48,
   "metadata": {},
   "outputs": [],
   "source": [
    "#!python --version"
   ]
  },
  {
   "cell_type": "code",
   "execution_count": 49,
   "metadata": {},
   "outputs": [],
   "source": [
    "#a={\"a\"+str(i):i for i in range(0,30)}"
   ]
  },
  {
   "cell_type": "code",
   "execution_count": 50,
   "metadata": {},
   "outputs": [],
   "source": [
    "#b={\"a\"+str(i):i for i in range(29,-1,-1)}"
   ]
  },
  {
   "cell_type": "code",
   "execution_count": 51,
   "metadata": {},
   "outputs": [],
   "source": [
    "#a,b,c=mod_jaccard_dist_exp(a,b)"
   ]
  },
  {
   "cell_type": "code",
   "execution_count": 52,
   "metadata": {},
   "outputs": [],
   "source": [
    "# a=[1,2,3]"
   ]
  },
  {
   "cell_type": "code",
   "execution_count": 53,
   "metadata": {},
   "outputs": [],
   "source": [
    "# list(zip(a,a[1:]))"
   ]
  },
  {
   "cell_type": "code",
   "execution_count": null,
   "metadata": {},
   "outputs": [],
   "source": []
  },
  {
   "cell_type": "code",
   "execution_count": null,
   "metadata": {},
   "outputs": [],
   "source": []
  }
 ],
 "metadata": {
  "kernelspec": {
   "display_name": "Python 3",
   "language": "python",
   "name": "python3"
  },
  "language_info": {
   "codemirror_mode": {
    "name": "ipython",
    "version": 3
   },
   "file_extension": ".py",
   "mimetype": "text/x-python",
   "name": "python",
   "nbconvert_exporter": "python",
   "pygments_lexer": "ipython3",
   "version": "3.7.12"
  }
 },
 "nbformat": 4,
 "nbformat_minor": 4
}
