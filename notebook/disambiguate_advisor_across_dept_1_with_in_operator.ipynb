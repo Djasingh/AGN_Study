{
 "cells": [
  {
   "cell_type": "code",
   "execution_count": null,
   "metadata": {},
   "outputs": [],
   "source": [
    "import pandas as pd\n",
    "import numpy as np\n",
    "import itertools\n",
    "import json\n",
    "import pickle"
   ]
  },
  {
   "cell_type": "code",
   "execution_count": null,
   "metadata": {},
   "outputs": [],
   "source": [
    "from tqdm import tqdm\n",
    "tqdm.pandas()"
   ]
  },
  {
   "cell_type": "code",
   "execution_count": null,
   "metadata": {},
   "outputs": [],
   "source": [
    "folder=\"dataset_v5/v5_2/\""
   ]
  },
  {
   "cell_type": "code",
   "execution_count": null,
   "metadata": {},
   "outputs": [],
   "source": [
    "ment = pd.read_csv(folder+\"shodhganga_ment_with_disamb_ids.csv\")"
   ]
  },
  {
   "cell_type": "code",
   "execution_count": null,
   "metadata": {},
   "outputs": [],
   "source": [
    "def save_obj(obj, name ):\n",
    "    with open(folder+name+'.pkl', 'wb') as f:\n",
    "        pickle.dump(obj, f, pickle.HIGHEST_PROTOCOL)"
   ]
  },
  {
   "cell_type": "code",
   "execution_count": null,
   "metadata": {},
   "outputs": [],
   "source": [
    "def check_and_combine1(name_dict,ment):\n",
    "    for key in name_dict:\n",
    "        if len(name_dict[key])==1:\n",
    "            global pairs_corrected\n",
    "            #print(key,name_dict[key])\n",
    "            pairs_list=name_dict[key][0]\n",
    "            #pairs_corrected.append(piars_tuple)\n",
    "            id1=name_dict[key][0][1]\n",
    "            id2=name_dict[key][0][3]\n",
    "            #print(id1,id2)\n",
    "            as_stud1=ment[ment['resId']==id1]\n",
    "            as_stud2=ment[ment['resId']==id2]\n",
    "            if as_stud1.empty and as_stud2.empty:\n",
    "                pairs_corrected.append(pairs_list)\n",
    "            elif not (as_stud1.empty) and as_stud2.empty:\n",
    "                pairs_corrected.append(pairs_list)\n",
    "            elif as_stud1.empty and not(as_stud2.empty):\n",
    "                #ment.loc[(ment['resId']==id2),'resId']=id1\n",
    "                pairs_corrected.append(pairs_list)\n",
    "            else:\n",
    "                print(\"check ids: \"+str(id1)+\"_\"+str(id2))\n",
    "        else:\n",
    "            continue\n",
    "    save_obj(pairs_corrected,'sim_name_in_operator_1')\n",
    "    return"
   ]
  },
  {
   "cell_type": "code",
   "execution_count": null,
   "metadata": {},
   "outputs": [],
   "source": [
    "def join_advisors1(name_id,ment):\n",
    "    dept_id=pd.unique(name_id[1])[0]\n",
    "    inst_id=pd.unique(name_id[0])[0]\n",
    "    tmp_df=pd.DataFrame({'name':name_id[2],'idd':name_id[3]}).copy()\n",
    "    idd_grp=tmp_df.groupby(['idd'],as_index=False)[['name']].agg(lambda x:list(x))\n",
    "    idd_grp['name']=idd_grp['name'].apply(lambda x: set(x))\n",
    "    id_comb = itertools.combinations(idd_grp['idd'], 2)\n",
    "    for id1, id2 in id_comb:\n",
    "        name1_list=idd_grp[idd_grp['idd']==id1]['name'].values[0]\n",
    "        name2_list=idd_grp[idd_grp['idd']==id2]['name'].values[0]\n",
    "        product=itertools.product(name1_list, name2_list)\n",
    "        #print(list(product))\n",
    "        for name1, name2 in product:\n",
    "            if len(name1) > len(name2):\n",
    "                name1,name2 = name2,name1\n",
    "                id11,id21 = id2,id1\n",
    "            else:\n",
    "                id11=id1\n",
    "                id21=id2\n",
    "            if name1 in name2:\n",
    "#                 print(name1+\"__\"+name2)\n",
    "#                 print(str(id1)+\"__\"+str(id2))\n",
    "                if id11 in mem_dict:\n",
    "                    mem_dict[id11].append((name1,id11,name2,id21))\n",
    "                else:\n",
    "                    mem_dict[id11]=[]\n",
    "                    mem_dict[id11].append((name1,id11,name2,id21))\n",
    "                break\n",
    "            else:\n",
    "                continue\n",
    "#         inner_function(name1_list,name2_list,id1,id2)\n",
    "    return"
   ]
  },
  {
   "cell_type": "code",
   "execution_count": null,
   "metadata": {},
   "outputs": [],
   "source": [
    "def inner_function(name1_list,name2_list,idd0,idd1):\n",
    "    global mem_dict\n",
    "    product=itertools.product(name1_list, name2_list)\n",
    "    #print(list(product))\n",
    "    for name0, name1 in product:\n",
    "        if len(name0) > len(name1):\n",
    "            name0,name1= name1,name0\n",
    "            idd0,idd1=idd1,idd0\n",
    "        if (name0 in name1) and (idd0 != idd1):\n",
    "            #print(name0+\"__\"+name1)\n",
    "            if idd0 in mem_dict:\n",
    "                mem_dict[idd0].append((name0,idd0,name1,idd1))\n",
    "            else:\n",
    "                mem_dict[idd0]=[]\n",
    "                mem_dict[idd0].append((name0,idd0,name1,idd1))\n",
    "            break\n",
    "        else:\n",
    "            continue\n",
    "    return"
   ]
  },
  {
   "cell_type": "code",
   "execution_count": null,
   "metadata": {},
   "outputs": [],
   "source": [
    "advisors=ment.groupby(['instituteId','N_DepartmentId_1'],as_index=False)[['advisor_name','advId']].agg(lambda x: list(x))"
   ]
  },
  {
   "cell_type": "code",
   "execution_count": null,
   "metadata": {},
   "outputs": [],
   "source": [
    "advisors.head()"
   ]
  },
  {
   "cell_type": "code",
   "execution_count": null,
   "metadata": {},
   "outputs": [],
   "source": [
    "#advisors[(advisors['instituteId']==\"I160\") & (advisors['N_DepartmentId_1']==\"D1331\")].values"
   ]
  },
  {
   "cell_type": "code",
   "execution_count": null,
   "metadata": {},
   "outputs": [],
   "source": [
    "mem_dict={}\n",
    "tmp=advisors[['instituteId','N_DepartmentId_1','advisor_name','advId']].progress_apply(join_advisors1,args=(ment,),axis=1)"
   ]
  },
  {
   "cell_type": "code",
   "execution_count": null,
   "metadata": {
    "scrolled": true
   },
   "outputs": [],
   "source": [
    "pairs_corrected=[]\n",
    "check_and_combine1(mem_dict, ment)"
   ]
  },
  {
   "cell_type": "code",
   "execution_count": null,
   "metadata": {},
   "outputs": [],
   "source": [
    "len(mem_dict)"
   ]
  },
  {
   "cell_type": "code",
   "execution_count": null,
   "metadata": {},
   "outputs": [],
   "source": [
    "mem_dict"
   ]
  },
  {
   "cell_type": "code",
   "execution_count": null,
   "metadata": {},
   "outputs": [],
   "source": [
    "ment[ment['advId']==85893]#85893"
   ]
  },
  {
   "cell_type": "code",
   "execution_count": null,
   "metadata": {},
   "outputs": [],
   "source": [
    "ment[ment['advId']==85917]"
   ]
  },
  {
   "cell_type": "code",
   "execution_count": null,
   "metadata": {},
   "outputs": [],
   "source": []
  }
 ],
 "metadata": {
  "kernelspec": {
   "display_name": "Python 3",
   "language": "python",
   "name": "python3"
  },
  "language_info": {
   "codemirror_mode": {
    "name": "ipython",
    "version": 3
   },
   "file_extension": ".py",
   "mimetype": "text/x-python",
   "name": "python",
   "nbconvert_exporter": "python",
   "pygments_lexer": "ipython3",
   "version": "3.7.12"
  }
 },
 "nbformat": 4,
 "nbformat_minor": 4
}
