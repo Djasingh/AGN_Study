{
 "cells": [
  {
   "cell_type": "code",
   "execution_count": 2,
   "metadata": {},
   "outputs": [],
   "source": [
    "import pandas as pd"
   ]
  },
  {
   "cell_type": "code",
   "execution_count": 3,
   "metadata": {},
   "outputs": [],
   "source": [
    "folder=\"dataset_v5/v5_2/\""
   ]
  },
  {
   "cell_type": "code",
   "execution_count": 4,
   "metadata": {},
   "outputs": [],
   "source": [
    "mod_ment2 = pd.read_csv(folder+'v5_2_2/'+'final_shodhganga_dataset_v5_2_2.csv', sep =\",\")"
   ]
  },
  {
   "cell_type": "code",
   "execution_count": 5,
   "metadata": {},
   "outputs": [
    {
     "data": {
      "text/plain": [
       "Index(['advisorId', 'researcherId', 'advId', 'resId', 'advisor_name',\n",
       "       'researcher_name', 'publisher_dept', 'DepartmentId',\n",
       "       'publisher_institution', 'instituteId', 'title', 'thesisId',\n",
       "       'N_thesisId', 'date_submitted', 'new_date_awarded', 'dc.date.awarded',\n",
       "       'dc.subject.ddc', 'uniq_ddc_across_dept', 'dc.description.abstract',\n",
       "       'dc.title.alternative', 'N_DepartmentId_1', 'ddc_code', 'advisor_advId',\n",
       "       'researcher_resId'],\n",
       "      dtype='object')"
      ]
     },
     "execution_count": 5,
     "metadata": {},
     "output_type": "execute_result"
    }
   ],
   "source": [
    "mod_ment2.columns"
   ]
  },
  {
   "cell_type": "code",
   "execution_count": 28,
   "metadata": {},
   "outputs": [
    {
     "data": {
      "text/html": [
       "<div>\n",
       "<style scoped>\n",
       "    .dataframe tbody tr th:only-of-type {\n",
       "        vertical-align: middle;\n",
       "    }\n",
       "\n",
       "    .dataframe tbody tr th {\n",
       "        vertical-align: top;\n",
       "    }\n",
       "\n",
       "    .dataframe thead th {\n",
       "        text-align: right;\n",
       "    }\n",
       "</style>\n",
       "<table border=\"1\" class=\"dataframe\">\n",
       "  <thead>\n",
       "    <tr style=\"text-align: right;\">\n",
       "      <th></th>\n",
       "      <th>advisorId</th>\n",
       "      <th>researcherId</th>\n",
       "      <th>advId</th>\n",
       "      <th>resId</th>\n",
       "      <th>advisor_name</th>\n",
       "      <th>researcher_name</th>\n",
       "      <th>publisher_dept</th>\n",
       "      <th>DepartmentId</th>\n",
       "      <th>publisher_institution</th>\n",
       "      <th>instituteId</th>\n",
       "      <th>...</th>\n",
       "      <th>new_date_awarded</th>\n",
       "      <th>dc.date.awarded</th>\n",
       "      <th>dc.subject.ddc</th>\n",
       "      <th>uniq_ddc_across_dept</th>\n",
       "      <th>dc.description.abstract</th>\n",
       "      <th>dc.title.alternative</th>\n",
       "      <th>N_DepartmentId_1</th>\n",
       "      <th>ddc_code</th>\n",
       "      <th>advisor_advId</th>\n",
       "      <th>researcher_resId</th>\n",
       "    </tr>\n",
       "  </thead>\n",
       "  <tbody>\n",
       "    <tr>\n",
       "      <th>11586</th>\n",
       "      <td>4912</td>\n",
       "      <td>103862</td>\n",
       "      <td>4912</td>\n",
       "      <td>103862</td>\n",
       "      <td>Kesambi, D. D.</td>\n",
       "      <td>Mohammad, Shabbar</td>\n",
       "      <td>department of mathematics</td>\n",
       "      <td>D563</td>\n",
       "      <td>Aligarh Muslim University</td>\n",
       "      <td>I292</td>\n",
       "      <td>...</td>\n",
       "      <td>1943-07-01</td>\n",
       "      <td>NaN</td>\n",
       "      <td>500::Natural sciences &amp; mathematics|510::Mathe...</td>\n",
       "      <td>('500', '510')</td>\n",
       "      <td>NaN</td>\n",
       "      <td>NaN</td>\n",
       "      <td>D563</td>\n",
       "      <td>('500', '510')</td>\n",
       "      <td>Kesambi, D. D.@4912</td>\n",
       "      <td>Mohammad, Shabbar@103862</td>\n",
       "    </tr>\n",
       "    <tr>\n",
       "      <th>11587</th>\n",
       "      <td>4913</td>\n",
       "      <td>103862</td>\n",
       "      <td>4913</td>\n",
       "      <td>103862</td>\n",
       "      <td>Siddiqi, M. R.</td>\n",
       "      <td>Mohammad, Shabbar</td>\n",
       "      <td>department of mathematics</td>\n",
       "      <td>D563</td>\n",
       "      <td>Aligarh Muslim University</td>\n",
       "      <td>I292</td>\n",
       "      <td>...</td>\n",
       "      <td>1943-07-01</td>\n",
       "      <td>NaN</td>\n",
       "      <td>500::Natural sciences &amp; mathematics|510::Mathe...</td>\n",
       "      <td>('500', '510')</td>\n",
       "      <td>NaN</td>\n",
       "      <td>NaN</td>\n",
       "      <td>D563</td>\n",
       "      <td>('500', '510')</td>\n",
       "      <td>Siddiqi, M. R.@4913</td>\n",
       "      <td>Mohammad, Shabbar@103862</td>\n",
       "    </tr>\n",
       "    <tr>\n",
       "      <th>11588</th>\n",
       "      <td>4914</td>\n",
       "      <td>103862</td>\n",
       "      <td>4914</td>\n",
       "      <td>103862</td>\n",
       "      <td>Racine, C.</td>\n",
       "      <td>Mohammad, Shabbar</td>\n",
       "      <td>department of mathematics</td>\n",
       "      <td>D563</td>\n",
       "      <td>Aligarh Muslim University</td>\n",
       "      <td>I292</td>\n",
       "      <td>...</td>\n",
       "      <td>1943-07-01</td>\n",
       "      <td>NaN</td>\n",
       "      <td>500::Natural sciences &amp; mathematics|510::Mathe...</td>\n",
       "      <td>('500', '510')</td>\n",
       "      <td>NaN</td>\n",
       "      <td>NaN</td>\n",
       "      <td>D563</td>\n",
       "      <td>('500', '510')</td>\n",
       "      <td>Racine, C.@4914</td>\n",
       "      <td>Mohammad, Shabbar@103862</td>\n",
       "    </tr>\n",
       "    <tr>\n",
       "      <th>11591</th>\n",
       "      <td>4917</td>\n",
       "      <td>103871</td>\n",
       "      <td>4917</td>\n",
       "      <td>103862</td>\n",
       "      <td>Kosambi, D. D.</td>\n",
       "      <td>Shabbar, Mohammad</td>\n",
       "      <td>department of mathematics</td>\n",
       "      <td>D563</td>\n",
       "      <td>Aligarh Muslim University</td>\n",
       "      <td>I292</td>\n",
       "      <td>...</td>\n",
       "      <td>1943-07-01</td>\n",
       "      <td>NaN</td>\n",
       "      <td>500::Natural sciences &amp; mathematics|510::Mathe...</td>\n",
       "      <td>('500', '510')</td>\n",
       "      <td>NaN</td>\n",
       "      <td>NaN</td>\n",
       "      <td>D563</td>\n",
       "      <td>('500', '510')</td>\n",
       "      <td>Kosambi, D. D.@4917</td>\n",
       "      <td>Shabbar, Mohammad@103862</td>\n",
       "    </tr>\n",
       "  </tbody>\n",
       "</table>\n",
       "<p>4 rows × 24 columns</p>\n",
       "</div>"
      ],
      "text/plain": [
       "       advisorId  researcherId  advId   resId    advisor_name  \\\n",
       "11586       4912        103862   4912  103862  Kesambi, D. D.   \n",
       "11587       4913        103862   4913  103862  Siddiqi, M. R.   \n",
       "11588       4914        103862   4914  103862      Racine, C.   \n",
       "11591       4917        103871   4917  103862  Kosambi, D. D.   \n",
       "\n",
       "         researcher_name             publisher_dept DepartmentId  \\\n",
       "11586  Mohammad, Shabbar  department of mathematics         D563   \n",
       "11587  Mohammad, Shabbar  department of mathematics         D563   \n",
       "11588  Mohammad, Shabbar  department of mathematics         D563   \n",
       "11591  Shabbar, Mohammad  department of mathematics         D563   \n",
       "\n",
       "           publisher_institution instituteId  ... new_date_awarded  \\\n",
       "11586  Aligarh Muslim University        I292  ...       1943-07-01   \n",
       "11587  Aligarh Muslim University        I292  ...       1943-07-01   \n",
       "11588  Aligarh Muslim University        I292  ...       1943-07-01   \n",
       "11591  Aligarh Muslim University        I292  ...       1943-07-01   \n",
       "\n",
       "      dc.date.awarded                                     dc.subject.ddc  \\\n",
       "11586             NaN  500::Natural sciences & mathematics|510::Mathe...   \n",
       "11587             NaN  500::Natural sciences & mathematics|510::Mathe...   \n",
       "11588             NaN  500::Natural sciences & mathematics|510::Mathe...   \n",
       "11591             NaN  500::Natural sciences & mathematics|510::Mathe...   \n",
       "\n",
       "      uniq_ddc_across_dept dc.description.abstract dc.title.alternative  \\\n",
       "11586       ('500', '510')                     NaN                  NaN   \n",
       "11587       ('500', '510')                     NaN                  NaN   \n",
       "11588       ('500', '510')                     NaN                  NaN   \n",
       "11591       ('500', '510')                     NaN                  NaN   \n",
       "\n",
       "      N_DepartmentId_1        ddc_code        advisor_advId  \\\n",
       "11586             D563  ('500', '510')  Kesambi, D. D.@4912   \n",
       "11587             D563  ('500', '510')  Siddiqi, M. R.@4913   \n",
       "11588             D563  ('500', '510')      Racine, C.@4914   \n",
       "11591             D563  ('500', '510')  Kosambi, D. D.@4917   \n",
       "\n",
       "               researcher_resId  \n",
       "11586  Mohammad, Shabbar@103862  \n",
       "11587  Mohammad, Shabbar@103862  \n",
       "11588  Mohammad, Shabbar@103862  \n",
       "11591  Shabbar, Mohammad@103862  \n",
       "\n",
       "[4 rows x 24 columns]"
      ]
     },
     "execution_count": 28,
     "metadata": {},
     "output_type": "execute_result"
    }
   ],
   "source": [
    "mod_ment2[mod_ment2['resId']==103862]"
   ]
  },
  {
   "cell_type": "code",
   "execution_count": 24,
   "metadata": {},
   "outputs": [],
   "source": [
    "df=mod_ment2[mod_ment2['resId']==103862][['advisor_name','title']].copy()"
   ]
  },
  {
   "cell_type": "code",
   "execution_count": 10,
   "metadata": {},
   "outputs": [],
   "source": [
    "#!pip install disamby"
   ]
  },
  {
   "cell_type": "code",
   "execution_count": 13,
   "metadata": {},
   "outputs": [],
   "source": [
    "import pandas as pd\n",
    "import disamby.preprocessors as pre\n",
    "from disamby import Disamby"
   ]
  },
  {
   "cell_type": "code",
   "execution_count": 14,
   "metadata": {},
   "outputs": [],
   "source": [
    "pipeline = [\n",
    "    pre.normalize_whitespace,\n",
    "    pre.remove_punctuation,\n",
    "    lambda x: pre.trigram(x) + pre.split_words(x)  # any python function is allowed\n",
    "]"
   ]
  },
  {
   "cell_type": "code",
   "execution_count": 73,
   "metadata": {},
   "outputs": [],
   "source": [
    "# mod_ment2[(mod_ment2['advisor_name'].str.contains('Mukhopadhyay'))&(mod_ment2['advisor_name'].str.lower().str.contains('kumar'))&(mod_ment2['advisor_name'].str.lower().str.contains('chandan'))]['advisor_name'].value_counts()"
   ]
  },
  {
   "cell_type": "code",
   "execution_count": null,
   "metadata": {},
   "outputs": [],
   "source": []
  },
  {
   "cell_type": "code",
   "execution_count": null,
   "metadata": {},
   "outputs": [],
   "source": []
  },
  {
   "cell_type": "code",
   "execution_count": 27,
   "metadata": {},
   "outputs": [],
   "source": [
    "# dis = Disamby(df, pipeline)\n",
    "# dis.disambiguated_sets(threshold=0.5)"
   ]
  },
  {
   "cell_type": "code",
   "execution_count": null,
   "metadata": {},
   "outputs": [],
   "source": [
    "mod_ment2[mod_ment2['resId']==57280] #check advisor-advsiee name(seems problem)"
   ]
  }
 ],
 "metadata": {
  "kernelspec": {
   "display_name": "Python 3",
   "language": "python",
   "name": "python3"
  },
  "language_info": {
   "codemirror_mode": {
    "name": "ipython",
    "version": 3
   },
   "file_extension": ".py",
   "mimetype": "text/x-python",
   "name": "python",
   "nbconvert_exporter": "python",
   "pygments_lexer": "ipython3",
   "version": "3.6.9"
  }
 },
 "nbformat": 4,
 "nbformat_minor": 4
}
