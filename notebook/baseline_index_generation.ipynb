{
 "cells": [
  {
   "cell_type": "code",
   "execution_count": 1,
   "metadata": {},
   "outputs": [],
   "source": [
    "import pandas as pd"
   ]
  },
  {
   "cell_type": "code",
   "execution_count": 2,
   "metadata": {},
   "outputs": [],
   "source": [
    "conn = pd.read_csv('Shodhganga_mentorship.csv', sep = \",\")"
   ]
  },
  {
   "cell_type": "code",
   "execution_count": 3,
   "metadata": {},
   "outputs": [
    {
     "data": {
      "text/plain": [
       "Index(['advisorId', 'researcherId', 'advId_1', 'studId_1', 'advisor_name',\n",
       "       'researcher_name', 'dc.date.submitted[]', 'dc.language.iso[]',\n",
       "       'dc.publisher.department[]', 'DepartmentId',\n",
       "       'dc.publisher.institution[]', 'instituteId', 'dc.title[]', 'thesisId',\n",
       "       'dc.type.degree', 'dc.date.awarded', 'dc.subject.ddc', 'dc.source.uri',\n",
       "       'dc.description.abstract', 'dc.title.alternative'],\n",
       "      dtype='object')"
      ]
     },
     "execution_count": 3,
     "metadata": {},
     "output_type": "execute_result"
    }
   ],
   "source": [
    "conn.columns"
   ]
  },
  {
   "cell_type": "code",
   "execution_count": 4,
   "metadata": {},
   "outputs": [],
   "source": [
    "conn.rename(columns={\"dc.date.submitted[]\": \"date_submitted\", \"dc.language.iso[]\": \"language\",\n",
    "                     \"dc.publisher.department[]\":\"publisher_dept\",\"dc.publisher.institution[]\":\"publisher_institution\",\n",
    "                     \"dc.title[]\":\"tilte\",\"dc.type.degree\":\"degree_type\",\"dc.date.awarded\":\"awarded_date\", \n",
    "                     \"dc.subject.ddc\": \"subject\",'dc.source.uri':\"source_uri\",'dc.description.abstract':\"abstract\",\n",
    "                     'dc.title.alternative':'alternative_title'}, inplace=True)"
   ]
  },
  {
   "cell_type": "code",
   "execution_count": 5,
   "metadata": {},
   "outputs": [],
   "source": [
    "conn[\"advisor_name_inst\"]=conn[\"advisor_name\"]+\"@\"+conn[\"publisher_institution\"]"
   ]
  },
  {
   "cell_type": "code",
   "execution_count": 6,
   "metadata": {},
   "outputs": [],
   "source": [
    "conn[\"advisee_name_inst\"]=conn[\"researcher_name\"]+\"@\"+conn[\"publisher_institution\"]"
   ]
  },
  {
   "cell_type": "code",
   "execution_count": 7,
   "metadata": {},
   "outputs": [
    {
     "data": {
      "text/plain": [
       "0    Thoppil, John E.@Mahatma Gandhi University\n",
       "1          Ancy, V P.@Mahatma Gandhi University\n",
       "2         Sajoy, P B.@Mahatma Gandhi University\n",
       "3         Leema, T G.@Mahatma Gandhi University\n",
       "4      Murali, Soumya@Mahatma Gandhi University\n",
       "Name: advisee_name_inst, dtype: object"
      ]
     },
     "execution_count": 7,
     "metadata": {},
     "output_type": "execute_result"
    }
   ],
   "source": [
    "conn[\"advisee_name_inst\"].head()"
   ]
  },
  {
   "cell_type": "code",
   "execution_count": 8,
   "metadata": {},
   "outputs": [
    {
     "data": {
      "text/plain": [
       "0      Jose, Joseph@Mahatma Gandhi University\n",
       "1       Raju, K. V.@Mahatma Gandhi University\n",
       "2     Joseph, K. K.@Mahatma Gandhi University\n",
       "3     Thomas, E. M.@Mahatma Gandhi University\n",
       "4    Francis, M. S.@Mahatma Gandhi University\n",
       "Name: advisor_name_inst, dtype: object"
      ]
     },
     "execution_count": 8,
     "metadata": {},
     "output_type": "execute_result"
    }
   ],
   "source": [
    "conn[\"advisor_name_inst\"].head()"
   ]
  },
  {
   "cell_type": "code",
   "execution_count": 9,
   "metadata": {},
   "outputs": [],
   "source": [
    "res_names_inst=pd.unique(conn[['advisor_name_inst', 'advisee_name_inst']].values.ravel('K'))"
   ]
  },
  {
   "cell_type": "code",
   "execution_count": 10,
   "metadata": {},
   "outputs": [
    {
     "data": {
      "text/plain": [
       "Index(['advisorId', 'researcherId', 'advId_1', 'studId_1', 'advisor_name',\n",
       "       'researcher_name', 'date_submitted', 'language', 'publisher_dept',\n",
       "       'DepartmentId', 'publisher_institution', 'instituteId', 'tilte',\n",
       "       'thesisId', 'degree_type', 'awarded_date', 'subject', 'source_uri',\n",
       "       'abstract', 'alternative_title', 'advisor_name_inst',\n",
       "       'advisee_name_inst'],\n",
       "      dtype='object')"
      ]
     },
     "execution_count": 10,
     "metadata": {},
     "output_type": "execute_result"
    }
   ],
   "source": [
    "conn.columns"
   ]
  },
  {
   "cell_type": "code",
   "execution_count": 11,
   "metadata": {},
   "outputs": [],
   "source": [
    "#base line indexing considering name and institute\n",
    "name_index=pd.DataFrame({'r_names_inst':res_names_inst})\n",
    "name_index['rid']=name_index.index\n",
    "conn[\"advisorId\"]=conn['advisor_name_inst'].map(name_index.set_index('r_names_inst')['rid'])\n",
    "conn[\"researcherId\"]=conn['advisee_name_inst'].map(name_index.set_index('r_names_inst')['rid'])"
   ]
  },
  {
   "cell_type": "code",
   "execution_count": 12,
   "metadata": {},
   "outputs": [],
   "source": [
    "conn=conn[['advisorId', 'researcherId','advId_1', 'studId_1', 'advisor_name',\n",
    "       'researcher_name', 'date_submitted', 'language', 'publisher_dept',\n",
    "       'DepartmentId', 'publisher_institution', 'instituteId', 'tilte',\n",
    "       'thesisId', 'degree_type', 'awarded_date', 'subject', 'source_uri',\n",
    "       'abstract', 'alternative_title']]"
   ]
  },
  {
   "cell_type": "code",
   "execution_count": 13,
   "metadata": {},
   "outputs": [],
   "source": [
    "conn.to_csv(\"shodhganga_mentorship_w_baseline_index_2.csv\", index=False)"
   ]
  },
  {
   "cell_type": "code",
   "execution_count": 14,
   "metadata": {},
   "outputs": [],
   "source": [
    "name_index[['r_names','inst']]=name_index['r_names_inst'].str.split(\"@\",expand=True)"
   ]
  },
  {
   "cell_type": "code",
   "execution_count": 15,
   "metadata": {},
   "outputs": [],
   "source": [
    "name_index.to_csv(\"baseline_index_2.csv\", index=False)"
   ]
  },
  {
   "cell_type": "code",
   "execution_count": 16,
   "metadata": {},
   "outputs": [
    {
     "data": {
      "text/html": [
       "<div>\n",
       "<style scoped>\n",
       "    .dataframe tbody tr th:only-of-type {\n",
       "        vertical-align: middle;\n",
       "    }\n",
       "\n",
       "    .dataframe tbody tr th {\n",
       "        vertical-align: top;\n",
       "    }\n",
       "\n",
       "    .dataframe thead th {\n",
       "        text-align: right;\n",
       "    }\n",
       "</style>\n",
       "<table border=\"1\" class=\"dataframe\">\n",
       "  <thead>\n",
       "    <tr style=\"text-align: right;\">\n",
       "      <th></th>\n",
       "      <th>r_names_inst</th>\n",
       "      <th>rid</th>\n",
       "      <th>r_names</th>\n",
       "      <th>inst</th>\n",
       "    </tr>\n",
       "  </thead>\n",
       "  <tbody>\n",
       "    <tr>\n",
       "      <th>0</th>\n",
       "      <td>Jose, Joseph@Mahatma Gandhi University</td>\n",
       "      <td>0</td>\n",
       "      <td>Jose, Joseph</td>\n",
       "      <td>Mahatma Gandhi University</td>\n",
       "    </tr>\n",
       "    <tr>\n",
       "      <th>1</th>\n",
       "      <td>Raju, K. V.@Mahatma Gandhi University</td>\n",
       "      <td>1</td>\n",
       "      <td>Raju, K. V.</td>\n",
       "      <td>Mahatma Gandhi University</td>\n",
       "    </tr>\n",
       "    <tr>\n",
       "      <th>2</th>\n",
       "      <td>Joseph, K. K.@Mahatma Gandhi University</td>\n",
       "      <td>2</td>\n",
       "      <td>Joseph, K. K.</td>\n",
       "      <td>Mahatma Gandhi University</td>\n",
       "    </tr>\n",
       "    <tr>\n",
       "      <th>3</th>\n",
       "      <td>Thomas, E. M.@Mahatma Gandhi University</td>\n",
       "      <td>3</td>\n",
       "      <td>Thomas, E. M.</td>\n",
       "      <td>Mahatma Gandhi University</td>\n",
       "    </tr>\n",
       "    <tr>\n",
       "      <th>4</th>\n",
       "      <td>Francis, M. S.@Mahatma Gandhi University</td>\n",
       "      <td>4</td>\n",
       "      <td>Francis, M. S.</td>\n",
       "      <td>Mahatma Gandhi University</td>\n",
       "    </tr>\n",
       "  </tbody>\n",
       "</table>\n",
       "</div>"
      ],
      "text/plain": [
       "                               r_names_inst  rid         r_names  \\\n",
       "0    Jose, Joseph@Mahatma Gandhi University    0    Jose, Joseph   \n",
       "1     Raju, K. V.@Mahatma Gandhi University    1     Raju, K. V.   \n",
       "2   Joseph, K. K.@Mahatma Gandhi University    2   Joseph, K. K.   \n",
       "3   Thomas, E. M.@Mahatma Gandhi University    3   Thomas, E. M.   \n",
       "4  Francis, M. S.@Mahatma Gandhi University    4  Francis, M. S.   \n",
       "\n",
       "                        inst  \n",
       "0  Mahatma Gandhi University  \n",
       "1  Mahatma Gandhi University  \n",
       "2  Mahatma Gandhi University  \n",
       "3  Mahatma Gandhi University  \n",
       "4  Mahatma Gandhi University  "
      ]
     },
     "execution_count": 16,
     "metadata": {},
     "output_type": "execute_result"
    }
   ],
   "source": [
    "name_index.head()"
   ]
  },
  {
   "cell_type": "code",
   "execution_count": null,
   "metadata": {},
   "outputs": [],
   "source": [
    "index=0\n",
    "size=10"
   ]
  },
  {
   "cell_type": "code",
   "execution_count": null,
   "metadata": {},
   "outputs": [],
   "source": [
    "list_of_pairs=((x, y) for i, x in enumerate(name_index[['r_names','rid']].values) for j, y in enumerate(name_index[['r_names','rid']][index:index+size].values) if (i > j+index))"
   ]
  },
  {
   "cell_type": "code",
   "execution_count": null,
   "metadata": {},
   "outputs": [],
   "source": [
    "for a,b in list_of_pairs:\n",
    "    print(a,b)"
   ]
  },
  {
   "cell_type": "code",
   "execution_count": null,
   "metadata": {},
   "outputs": [],
   "source": [
    "for a, b in enumerate(name_index[['r_names','rid']].values[0:10]):\n",
    "    print(a,b[0],b[1])"
   ]
  },
  {
   "cell_type": "code",
   "execution_count": null,
   "metadata": {},
   "outputs": [],
   "source": [
    "name_index[['r_names','rid']][index:index+size].values"
   ]
  },
  {
   "cell_type": "code",
   "execution_count": 22,
   "metadata": {},
   "outputs": [
    {
     "data": {
      "text/plain": [
       "(264148, 4)"
      ]
     },
     "execution_count": 22,
     "metadata": {},
     "output_type": "execute_result"
    }
   ],
   "source": [
    "name_index.shape"
   ]
  },
  {
   "cell_type": "code",
   "execution_count": null,
   "metadata": {},
   "outputs": [],
   "source": []
  }
 ],
 "metadata": {
  "kernelspec": {
   "display_name": "Python 3",
   "language": "python",
   "name": "python3"
  },
  "language_info": {
   "codemirror_mode": {
    "name": "ipython",
    "version": 3
   },
   "file_extension": ".py",
   "mimetype": "text/x-python",
   "name": "python",
   "nbconvert_exporter": "python",
   "pygments_lexer": "ipython3",
   "version": "3.6.9"
  }
 },
 "nbformat": 4,
 "nbformat_minor": 4
}
