{
 "cells": [
  {
   "cell_type": "code",
   "execution_count": 1,
   "metadata": {},
   "outputs": [],
   "source": [
    "import pandas as pd\n",
    "import networkx as nx\n",
    "import matplotlib.pyplot as plt\n",
    "import numpy as np\n",
    "from collections import Counter\n",
    "import random\n",
    "from tqdm import tqdm"
   ]
  },
  {
   "cell_type": "code",
   "execution_count": 2,
   "metadata": {},
   "outputs": [],
   "source": [
    "tqdm.pandas()"
   ]
  },
  {
   "cell_type": "code",
   "execution_count": 3,
   "metadata": {},
   "outputs": [],
   "source": [
    "ment1 = pd.read_csv('Shodhganga_mentorship.csv', sep = \",\")"
   ]
  },
  {
   "cell_type": "code",
   "execution_count": 4,
   "metadata": {},
   "outputs": [],
   "source": [
    "def dism_problem2(uid, ment):\n",
    "    uniq_adv_inst= list(pd.unique(ment[ment['advId_1']==uid]['instituteId']))\n",
    "    if len(uniq_adv_inst)==1:\n",
    "        return\n",
    "    else:\n",
    "        inst_count = ment[ment['advId_1']==uid].groupby('instituteId')['advId_1'].agg('count').reset_index()\n",
    "        inst1 = inst_count[inst_count['advId_1']==max(inst_count['advId_1'])]['instituteId'].values\n",
    "        for inst in uniq_adv_inst:\n",
    "            if inst == inst1[0]:\n",
    "                continue\n",
    "            else:\n",
    "                ment.loc[((ment['advId_1']==uid) & (ment['instituteId'] == inst)), 'advId_1'] = str(uid)+\"_\"+inst\n",
    "                as_stud_inst = pd.unique(ment[ment['studId_1']==uid]['instituteId'])\n",
    "                if inst in as_stud_inst:\n",
    "                    ment.loc[((ment['studId_1']==uid) & (ment['instituteId']==inst)),'studId_1'] = str(uid)+\"_\"+inst\n",
    "                else:\n",
    "                    continue\n",
    "        if not ment[(ment['studId_1']==uid)].empty:\n",
    "            cond = ((ment['advId_1'].str.contains(\"^\"+str(uid)+\"_\", na=False)) | (ment['advId_1']==uid))\n",
    "            commom_dept = set(ment[cond]['DepartmentId']).intersection(ment[ment['studId_1']==uid]['DepartmentId'].values)\n",
    "            print(commom_dept)\n",
    "            cond2=ment['DepartmentId'].isin(commom_dept)\n",
    "            inst2 = ment[(cond) & (cond2)]['instituteId'].values\n",
    "            #cond1=((cond4) & (cond2))\n",
    "            for i in inst2: \n",
    "                if not ment[((ment['studId_1']==uid) & (ment['instituteId']==i))].empty:\n",
    "                    ment.loc[((ment['studId_1']==uid) & (ment['instituteId']==i)),'studId_1']=str(uid)+\"_\"+i\n",
    "    return"
   ]
  },
  {
   "cell_type": "code",
   "execution_count": 5,
   "metadata": {},
   "outputs": [],
   "source": [
    "def dism_problem3(uid, ment):\n",
    "    uniq_adv_inst= list(pd.unique(ment[ment['advId_1']==uid]['instituteId']))\n",
    "    if len(uniq_adv_inst)==1:\n",
    "        return \"single\"\n",
    "    else:\n",
    "        for inst in uniq_adv_inst:\n",
    "            ment.loc[((ment['advId_1']==uid) & (ment['instituteId'] == inst)), 'advId_1'] = str(uid)+\"_\"+inst\n",
    "            as_stud_inst = pd.unique(ment[ment['studId_1']==uid]['instituteId'])\n",
    "            if inst in as_stud_inst:\n",
    "                ment.loc[((ment['studId_1']==uid) & (ment['instituteId']==inst)),'studId_1'] = str(uid)+\"_\"+inst\n",
    "            else:\n",
    "                continue\n",
    "        if not ment[(ment['studId_1']==uid)].empty:\n",
    "            cond = (ment['advId_1'].str.contains(\"^\"+str(uid)+\"_\", na=False))\n",
    "            commom_dept = set(ment[cond]['DepartmentId']).intersection(ment[ment['studId_1']==uid]['DepartmentId'].values)\n",
    "            for dept in commom_dept:\n",
    "                inst_adv = pd.unique(ment[(cond) & (ment['DepartmentId']==dept)]['instituteId'])\n",
    "                ment.loc[((ment['studId_1']==uid) & (ment['DepartmentId']==dept)),'studId_1']=str(uid)+\"_\"+inst_adv[0]\n",
    "    return \"final\""
   ]
  },
  {
   "cell_type": "code",
   "execution_count": 6,
   "metadata": {},
   "outputs": [],
   "source": [
    "#dism_problem2(ment1)"
   ]
  },
  {
   "cell_type": "code",
   "execution_count": 7,
   "metadata": {},
   "outputs": [],
   "source": [
    "# uniq_adv_id = pd.unique(ment['advId_1'])\n",
    "# for uid in tqdm(uniq_adv_id, total=len(uniq_adv_id)):\n",
    "#     dism_problem3(uid, ment1)"
   ]
  },
  {
   "cell_type": "code",
   "execution_count": 8,
   "metadata": {},
   "outputs": [],
   "source": [
    "uniq_adv_id = pd.Series(pd.unique(ment1['advId_1'])).copy()"
   ]
  },
  {
   "cell_type": "code",
   "execution_count": 9,
   "metadata": {},
   "outputs": [],
   "source": [
    "#uniq_adv_id[499:550]"
   ]
  },
  {
   "cell_type": "code",
   "execution_count": 10,
   "metadata": {},
   "outputs": [],
   "source": [
    "#uniq_adv_id"
   ]
  },
  {
   "cell_type": "code",
   "execution_count": 11,
   "metadata": {},
   "outputs": [
    {
     "name": "stderr",
     "output_type": "stream",
     "text": [
      "100%|██████████| 68347/68347 [1:27:55<00:00, 12.95it/s]  \n"
     ]
    }
   ],
   "source": [
    "tmp=uniq_adv_id.progress_apply(dism_problem3,args=(ment1,))"
   ]
  },
  {
   "cell_type": "code",
   "execution_count": 12,
   "metadata": {},
   "outputs": [
    {
     "data": {
      "text/plain": [
       "(62790,)"
      ]
     },
     "execution_count": 12,
     "metadata": {},
     "output_type": "execute_result"
    }
   ],
   "source": [
    "tmp[tmp==\"single\"].shape"
   ]
  },
  {
   "cell_type": "code",
   "execution_count": 13,
   "metadata": {},
   "outputs": [],
   "source": [
    "ment1.to_csv(\"mod1_shodhganga_mentorship.csv\", index=False)"
   ]
  },
  {
   "cell_type": "code",
   "execution_count": null,
   "metadata": {},
   "outputs": [],
   "source": [
    "#ment2=ment1[(ment1[\"advId_1\"]==393) |(ment1[\"studId_1\"]==393)].copy()"
   ]
  },
  {
   "cell_type": "code",
   "execution_count": null,
   "metadata": {},
   "outputs": [],
   "source": [
    "#dism_problem3(393, ment2)"
   ]
  },
  {
   "cell_type": "code",
   "execution_count": null,
   "metadata": {},
   "outputs": [],
   "source": [
    "#dism_problem2(393, ment2)"
   ]
  },
  {
   "cell_type": "code",
   "execution_count": null,
   "metadata": {},
   "outputs": [],
   "source": [
    "#ment2[ment2[\"studId_1\"].str.contains(\"^393_\", na=False)]"
   ]
  },
  {
   "cell_type": "code",
   "execution_count": null,
   "metadata": {},
   "outputs": [],
   "source": [
    "#ment2[(ment2[\"studId_1\"]==393)]"
   ]
  },
  {
   "cell_type": "code",
   "execution_count": null,
   "metadata": {},
   "outputs": [],
   "source": [
    "#ment2[(ment2[\"advId_1\"]==\"393_I333\")]"
   ]
  },
  {
   "cell_type": "code",
   "execution_count": null,
   "metadata": {},
   "outputs": [],
   "source": [
    "#ment2[[\"dc.publisher.institution[]\",\"instituteId\"]].values"
   ]
  },
  {
   "cell_type": "code",
   "execution_count": null,
   "metadata": {},
   "outputs": [],
   "source": []
  }
 ],
 "metadata": {
  "kernelspec": {
   "display_name": "Python 3",
   "language": "python",
   "name": "python3"
  },
  "language_info": {
   "codemirror_mode": {
    "name": "ipython",
    "version": 3
   },
   "file_extension": ".py",
   "mimetype": "text/x-python",
   "name": "python",
   "nbconvert_exporter": "python",
   "pygments_lexer": "ipython3",
   "version": "3.6.9"
  }
 },
 "nbformat": 4,
 "nbformat_minor": 4
}
